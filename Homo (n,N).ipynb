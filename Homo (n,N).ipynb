{
 "cells": [
  {
   "cell_type": "code",
   "execution_count": 2,
   "metadata": {},
   "outputs": [],
   "source": [
    "# import Pkg; Pkg.add(\"POMDPPolicies\")\n",
    "# Pkg.add(\"POMDPModelTools\")\n",
    "# Pkg.add(\"Distributions\")\n",
    "# Pkg.add(\"Combinatorics\")\n",
    "# Pkg.add(\"StaticArrays\")\n",
    "# Pkg.add(\"FileIO\")\n",
    "# Pkg.add(\"JLD2\")\n",
    "# Pkg.add(\"TickTock\")\n",
    "# Pkg.add(\"POMDPTools\")\n",
    "# Pkg.add(\"D3Trees\")\n",
    "# Pkg.add(\"Random\")\n",
    "# Pkg.add(\"DataFrames\")\n",
    "# Pkg.add(\"CSV\")"
   ]
  },
  {
   "cell_type": "code",
   "execution_count": 3,
   "metadata": {},
   "outputs": [],
   "source": [
    "using POMDPs, POMDPTools, QuickPOMDPs, MCTS, DiscreteValueIteration, POMDPSimulators, POMDPModels, POMDPPolicies\n",
    "using Distributions, Combinatorics, StaticArrays, D3Trees, Random\n",
    "using FileIO, JLD2, TickTock"
   ]
  },
  {
   "cell_type": "code",
   "execution_count": 4,
   "metadata": {},
   "outputs": [
    {
     "data": {
      "text/plain": [
       "               \u001b[97;1mSparseCat distribution\u001b[0m           \n",
       "     \u001b[38;5;8m┌                                        ┐\u001b[0m \n",
       "   1 \u001b[38;5;8m┤\u001b[0m\u001b[38;5;2m■■■■■■■■■■■■■■■■■■■■■■■■■■■■■■■■■■■\u001b[0m 0.8 \u001b[38;5;8m \u001b[0m \u001b[38;5;8m\u001b[0m\n",
       "   2 \u001b[38;5;8m┤\u001b[0m\u001b[38;5;2m■■■■■■■■■\u001b[0m 0.2                           \u001b[38;5;8m \u001b[0m \u001b[38;5;8m\u001b[0m\n",
       "   3 \u001b[38;5;8m┤\u001b[0m\u001b[38;5;2m\u001b[0m 0.0                                    \u001b[38;5;8m \u001b[0m \u001b[38;5;8m\u001b[0m\n",
       "   4 \u001b[38;5;8m┤\u001b[0m\u001b[38;5;2m\u001b[0m 0.0                                    \u001b[38;5;8m \u001b[0m \u001b[38;5;8m\u001b[0m\n",
       "     \u001b[38;5;8m└                                        ┘\u001b[0m "
      ]
     },
     "execution_count": 4,
     "metadata": {},
     "output_type": "execute_result"
    }
   ],
   "source": [
    "Number_level = 4;\n",
    "\n",
    "\n",
    "gamma=0.95\n",
    "Transition_matrix = [\n",
    "    0.8571 0.1429 0.0    0.0;\n",
    "    0.0    0.8571 0.1429 0.0;\n",
    "    0.0    0.0    0.8    0.2;\n",
    "    0.0    0.0    0.0    1.0\n",
    "]\n",
    "Observation_matrix=[\n",
    "    0.8 0.2 0.0 0.0;\n",
    "    0.1 0.8 0.1 0.0;\n",
    "    0.0 0.2 0.8 0.0;\n",
    "    0.0 0.0 0.0 1.0\n",
    "]\n",
    "# Observation_matrix=[\n",
    "#     0.65  0.25 0.1   0.0;\n",
    "#     0.175 0.65 0.175 0.0;\n",
    "#     0.1   0.25 0.65  0.0;\n",
    "#     0.0   0.0  0.0   1.0\n",
    "# ]\n",
    "\n",
    "States=Array((1:Number_level))\n",
    "Observations=Array((1:Number_level))\n",
    "\n",
    "Initialstates = zeros(Number_level)\n",
    "Initialstates[1]=1.0\n",
    "Initialstate = SparseCat(States, Initialstates)\n",
    "\n",
    "# Initialobss = zeros(Number_level)\n",
    "# Initialobss[1]=1.0\n",
    "# Initialobs = SparseCat(States, Initialobss)\n",
    "Initialobs = SparseCat(Observations, Observation_matrix[1,:])"
   ]
  },
  {
   "cell_type": "code",
   "execution_count": 5,
   "metadata": {},
   "outputs": [
    {
     "data": {
      "text/plain": [
       "-2000"
      ]
     },
     "execution_count": 5,
     "metadata": {},
     "output_type": "execute_result"
    }
   ],
   "source": [
    "NumberUnits=20\n",
    "limit=12\n",
    "failure_penalty = -1200.0;\n",
    "maintenance_penalty = -100.0;\n",
    "setup_cost = -300.0;\n",
    "normal_operation = 0.0;\n",
    "system_penalty=-2000"
   ]
  },
  {
   "cell_type": "markdown",
   "metadata": {},
   "source": [
    "## Observation function"
   ]
  },
  {
   "cell_type": "code",
   "execution_count": 6,
   "metadata": {},
   "outputs": [
    {
     "data": {
      "text/plain": [
       "observation_function (generic function with 1 method)"
      ]
     },
     "execution_count": 6,
     "metadata": {},
     "output_type": "execute_result"
    }
   ],
   "source": [
    "function observation_function(s)\n",
    "    return SparseCat(Observations, Observation_matrix[s,:])\n",
    "end\n",
    "# obs_std=[1,1.2,1.5]\n",
    "# obs_mean=[0.5,1,1.5]\n",
    "\n",
    "# function observation_function(s)\n",
    "#     if s==Number_level\n",
    "#         return Deterministic(Number_level)\n",
    "#     else\n",
    "#         cont_dist=Normal(obs_mean[s],obs_std[s])\n",
    "#         probs=zeros(Number_level)\n",
    "#         for i in 1:(Number_level-1)\n",
    "#             if i==1\n",
    "#                 probs[i]=cdf(cont_dist,0.75)\n",
    "#             elseif i==(Number_level-1)\n",
    "#                 probs[i]=1-cdf(cont_dist,1.25)\n",
    "#             else\n",
    "#                 probs[i]=cdf(cont_dist,i+0.25)-cdf(cont_dist,i-0.25)\n",
    "#             end\n",
    "#         end\n",
    "#         probs ./= sum(probs)\n",
    "#         return SparseCat(1:(Number_level),probs)\n",
    "#     end\n",
    "# end\n"
   ]
  },
  {
   "cell_type": "markdown",
   "metadata": {},
   "source": [
    "## Belief updater"
   ]
  },
  {
   "cell_type": "code",
   "execution_count": 7,
   "metadata": {},
   "outputs": [
    {
     "data": {
      "text/plain": [
       "update_belief (generic function with 1 method)"
      ]
     },
     "execution_count": 7,
     "metadata": {},
     "output_type": "execute_result"
    }
   ],
   "source": [
    "function update_belief(b,s_b,a,o) \n",
    "    # NOTE: \n",
    "    # in input, b is belief from last epoch (before a)\n",
    "    # a is the last action we took\n",
    "    # o is the new observation after a\n",
    "    updated_belief = zeros(Number_level)\n",
    "    if o==Number_level\n",
    "        updated_belief[Number_level]=1.0\n",
    "        return updated_belief\n",
    "    end\n",
    "    \n",
    "    if s_b >= a\n",
    "    # We assume perfect maintenance and it is know to decision maker(belief updater)\n",
    "        for sp in 1: Number_level\n",
    "            #p_obs=pdf(SparseCat(Observations, Observation_matrix[sp,:]),o)\n",
    "            p_obs=pdf(observation_function(sp),o)\n",
    "            p_trans = pdf(SparseCat(States,Transition_matrix[1,:]),sp) \n",
    "            updated_belief[sp] = p_obs * p_trans\n",
    "        end\n",
    "        updated_belief ./= sum(updated_belief)\n",
    "        return updated_belief\n",
    "    end\n",
    "    \n",
    "    for sp in 1:Number_level\n",
    "        #p_obs=pdf(SparseCat(Observations, Observation_matrix[sp,:]),o)\n",
    "        p_obs=pdf(observation_function(sp),o)\n",
    "        p_trans = 0.0\n",
    "        for s in 1:Number_level\n",
    "            p_trans += pdf(SparseCat(States,Transition_matrix[s,:]),sp) * b[s]\n",
    "        end\n",
    "        updated_belief[sp] = p_obs * p_trans\n",
    "    end\n",
    "        # Normalize the updated belief state to ensure it sums up to 1\n",
    "        updated_belief ./= sum(updated_belief)\n",
    "    return updated_belief\n",
    "end"
   ]
  },
  {
   "cell_type": "code",
   "execution_count": 8,
   "metadata": {},
   "outputs": [
    {
     "data": {
      "text/plain": [
       "1-element Vector{Vector{Float64}}:\n",
       " [0.8, 0.2, 0.0, 0.0]"
      ]
     },
     "execution_count": 8,
     "metadata": {},
     "output_type": "execute_result"
    }
   ],
   "source": [
    "NumberUnits = 10\n",
    "belief = [[0.8, 0.2, 0.0, 0.0] for j in 1:NumberUnits]\n",
    "b = belief[1,:]"
   ]
  },
  {
   "cell_type": "code",
   "execution_count": 9,
   "metadata": {},
   "outputs": [
    {
     "data": {
      "text/plain": [
       "4-element Vector{Float64}:\n",
       " 0.8\n",
       " 0.2\n",
       " 0.0\n",
       " 0.0"
      ]
     },
     "execution_count": 9,
     "metadata": {},
     "output_type": "execute_result"
    }
   ],
   "source": [
    "b = belief[1]"
   ]
  },
  {
   "cell_type": "code",
   "execution_count": 10,
   "metadata": {},
   "outputs": [
    {
     "data": {
      "text/plain": [
       "0.11432"
      ]
     },
     "execution_count": 10,
     "metadata": {},
     "output_type": "execute_result"
    }
   ],
   "source": [
    "p_trans = 0.0\n",
    "s = 1\n",
    "sp = 2\n",
    "\n",
    "p_trans += pdf(SparseCat(States,Transition_matrix[s,:]),sp) * b[s]"
   ]
  },
  {
   "cell_type": "markdown",
   "metadata": {},
   "source": [
    "## Define POMDP"
   ]
  },
  {
   "cell_type": "code",
   "execution_count": 11,
   "metadata": {},
   "outputs": [
    {
     "data": {
      "text/plain": [
       "approximate (generic function with 2 methods)"
      ]
     },
     "execution_count": 11,
     "metadata": {},
     "output_type": "execute_result"
    }
   ],
   "source": [
    "# s is the system-level state vector\n",
    "#s,r,o,true_a=approximate(s,s_belief,local_a,234) \n",
    "# Approximating the solution by taking the state of highest belief as the true state\n",
    "function approximate(s,s_belief,a,rng=234)\n",
    "    r=0.0\n",
    "    prevent_repair= false\n",
    "    failed_components=count(x->x==Number_level,s_belief)\n",
    "    if failed_components >= limit\n",
    "        r += system_penalty\n",
    "        # if a==Number_level +1\n",
    "        #     a = Number_level\n",
    "        # end\n",
    "    end\n",
    "\n",
    "    for i in 1:NumberUnits\n",
    "        if s_belief[i] >= a \n",
    "            # Maintenance action is decided based on belief, not true state\n",
    "            # since we don't know true states when making decision\n",
    "            if s_belief[i] == Number_level\n",
    "                r += failure_penalty\n",
    "                if prevent_repair == false\n",
    "                    r += setup_cost\n",
    "                    prevent_repair = true\n",
    "                end\n",
    "            else\n",
    "                r += maintenance_penalty\n",
    "                if prevent_repair == false\n",
    "                    r += setup_cost\n",
    "                    prevent_repair = true\n",
    "                end\n",
    "            end\n",
    "            s[i]=rand(crd[1])\n",
    "            r += normal_operation\n",
    "        else\n",
    "            s[i] = rand(crd[s[i]])\n",
    "            r = r+normal_operation\n",
    "        end\n",
    "    end\n",
    "\n",
    "    obs=repeat(1:1,NumberUnits)\n",
    "    for i in 1:NumberUnits\n",
    "        #obs_distribution = SparseCat(Observations, Observation_matrix[s[i],:])\n",
    "        obs_distribution = observation_function(s[i])\n",
    "        obs[i] = rand(obs_distribution)\n",
    "    end\n",
    "\n",
    "    return (s=s,r=r,o=obs,a=a)\n",
    "end"
   ]
  },
  {
   "cell_type": "code",
   "execution_count": 12,
   "metadata": {},
   "outputs": [],
   "source": [
    "# # Generate random positive numbers and normalize each row\n",
    "# function generate_prob_matrix(rows, cols)\n",
    "#     # Create random positive numbers\n",
    "#     matrix = rand(rows, cols)\n",
    "    \n",
    "#     # Normalize each row to sum to 1\n",
    "#     normalized = matrix ./ sum(matrix, dims=2)\n",
    "    \n",
    "#     return normalized\n",
    "# end\n",
    "\n",
    "# # Generate 20x4 matrix\n",
    "# prob_matrix = generate_prob_matrix(20, 4)"
   ]
  },
  {
   "cell_type": "code",
   "execution_count": 13,
   "metadata": {},
   "outputs": [],
   "source": [
    "# global initialb= zeros(20, 4)  \n",
    "# global initialb[:, 1] .= 1.0\n",
    "# s_belief = [argmax(row) for row in eachrow(initialb)]"
   ]
  },
  {
   "cell_type": "code",
   "execution_count": 14,
   "metadata": {},
   "outputs": [],
   "source": [
    "# belief[1,:]=[0.3,0.3,0.4,0]\n",
    "# true_a=3\n",
    "# o[1]=2"
   ]
  },
  {
   "cell_type": "code",
   "execution_count": 15,
   "metadata": {},
   "outputs": [],
   "source": [
    "# update_belief([0.3,0.3,0.4,0], 3,3, 1)"
   ]
  },
  {
   "cell_type": "code",
   "execution_count": 16,
   "metadata": {},
   "outputs": [
    {
     "data": {
      "text/plain": [
       "findnN (generic function with 1 method)"
      ]
     },
     "execution_count": 16,
     "metadata": {},
     "output_type": "execute_result"
    }
   ],
   "source": [
    "function findnN()\n",
    "    println(\"Finding best nN policy...\")\n",
    "    rewards_nN = zeros(Number_level,Number_level);\n",
    "    rewards_nN = rewards_nN.+(-100000000.0);\n",
    "    temp_rewards = zeros(repetition,1);\n",
    "    # global rewards_nN_std = zeros(Number_level,Number_level);\n",
    "    # global rewards_nN_std = rewards_nN_std.+(-100000000.0);\n",
    "    for N in 2:(Number_level)\n",
    "        for n in 1:N\n",
    "            # temp_rewards = zeros(repetition,1)\n",
    "            Threads.@threads  for j in 1:repetition\n",
    "            #for j in 1:repetition\n",
    "                s=repeat(1:1,NumberUnits)\n",
    "                # o=s \n",
    "                o = rand(Initialobs, NumberUnits)\n",
    "                # belief = [[1.0, 0.0, 0.0, 0.0] for j in 1:NumberUnits]\n",
    "                belief = [Observation_matrix[1,:] for j in 1:NumberUnits]\n",
    "                R_sequence=[]\n",
    "                for k in 1:simsteps\n",
    "                    # s_belief = [argmax(row) for row in eachrow(belief)]\n",
    "                    s_belief = argmax.(belief)\n",
    "                    local_a = Number_level +1; # when local_a = 0, no repair unless system fails\n",
    "                    for i in 1:NumberUnits\n",
    "                    # if there is any unit reaching or exceeding threshold N, \n",
    "                    # maintain all the units reaching or exceeding threshold n.\n",
    "                        \n",
    "                        if s_belief[i]>= N\n",
    "                            local_a=n\n",
    "                        end\n",
    "                    end\n",
    "                    true_a=local_a\n",
    "                    # s is the system-level state vector\n",
    "                    s,r,o,true_a=approximate(s,s_belief,local_a,234) \n",
    "                    for i in 1: NumberUnits\n",
    "                        belief[i]=update_belief(belief[i], s_belief[i],true_a, o[i])\n",
    "                    end\n",
    "                    append!(R_sequence,r)\n",
    "                end\n",
    "                R_discounted=0\n",
    "                for k in 1:simsteps\n",
    "                    R_discounted=gamma * R_discounted+R_sequence[simsteps-k+1]\n",
    "                end\n",
    "                temp_rewards[j]=R_discounted\n",
    "            end\n",
    "            rewards_nN[n,N] = mean(temp_rewards)\n",
    "            #rewards_nN_std[n,N] = std(temp_rewards)\n",
    "        end\n",
    "    end\n",
    "    # This max_reward is actually wrong in POMDP\n",
    "    # The (n, N) obtained should be calculated based on true state\n",
    "    (max_reward,nN)=findmax(rewards_nN)\n",
    "    \n",
    "    #println(\"Max rewards of (n, N)-policy is\", max_reward, \"n is \", nN[1], \"N is \", nN[2])\n",
    "    #return max_reward, rewards_nN_std[nN], nN\n",
    "    return nN\n",
    "end"
   ]
  },
  {
   "cell_type": "code",
   "execution_count": null,
   "metadata": {},
   "outputs": [],
   "source": []
  },
  {
   "cell_type": "code",
   "execution_count": 17,
   "metadata": {},
   "outputs": [],
   "source": [
    "# function generative(s,s_belief,a,rng=234)\n",
    "#     r=0.0\n",
    "#     prevent_repair= false\n",
    "#     failed_components=count(x->x==Number_level,s_belief)\n",
    "#     if failed_components >= limit\n",
    "#         r += system_penalty\n",
    "#         if a==Number_level +1\n",
    "#             a = Number_level\n",
    "#         end\n",
    "#     end\n",
    "\n",
    "#     for i in 1:NumberUnits\n",
    "#         if s_belief[i] >= a\n",
    "#             if s[i] == Number_level\n",
    "#                 r += failure_penalty\n",
    "#                 if prevent_repair == false\n",
    "#                     r += setup_cost\n",
    "#                     prevent_repair = true\n",
    "#                 end\n",
    "#             else\n",
    "#                 r += maintenance_penalty\n",
    "#                 if prevent_repair == false\n",
    "#                     r += setup_cost\n",
    "#                     prevent_repair = true\n",
    "#                 end\n",
    "#             end\n",
    "#             s[i]=rand(crd[1])\n",
    "#             r += normal_operation\n",
    "#         else\n",
    "#             s[i] = rand(crd[s[i]])\n",
    "#             r = r+normal_operation\n",
    "#         end\n",
    "#     end\n",
    "\n",
    "#     obs=repeat(1:1,NumberUnits)\n",
    "#     for i in 1:NumberUnits\n",
    "#         #obs_distribution = SparseCat(Observations, Observation_matrix[s[i],:])\n",
    "#         obs_distribution = observation_function(s[i])\n",
    "#         obs[i] = rand(obs_distribution)\n",
    "#     end\n",
    "\n",
    "#     return (s=s,r=r,o=obs,a=a)\n",
    "# end"
   ]
  },
  {
   "cell_type": "code",
   "execution_count": 18,
   "metadata": {},
   "outputs": [
    {
     "data": {
      "text/plain": [
       "generative (generic function with 2 methods)"
      ]
     },
     "execution_count": 18,
     "metadata": {},
     "output_type": "execute_result"
    }
   ],
   "source": [
    "function generative(s,s_belief,a,rng=234)\n",
    "    r=0.0\n",
    "    # prevent_repair= false\n",
    "    # failed_components=count(x->x==Number_level,s_belief)\n",
    "    # if failed_components >= limit\n",
    "    #     #r += system_penalty\n",
    "    #     if a==Number_level +1\n",
    "    #         a = Number_level\n",
    "    #     end\n",
    "    # end\n",
    "\n",
    "    if a <= Number_level\n",
    "         r += setup_cost\n",
    "    end\n",
    "\n",
    "    true_failed_components=count(x->x==Number_level,s)\n",
    "    if true_failed_components >= limit\n",
    "        r += system_penalty\n",
    "    end\n",
    "\n",
    "    for i in 1:NumberUnits\n",
    "        if s_belief[i] >= a\n",
    "            if s[i] == Number_level\n",
    "                r += failure_penalty\n",
    "            else\n",
    "                r += maintenance_penalty\n",
    "            end\n",
    "            s[i]=rand(crd[1])\n",
    "            r += normal_operation\n",
    "        else\n",
    "            s[i] = rand(crd[s[i]])\n",
    "            r = r+normal_operation\n",
    "        end\n",
    "    end\n",
    "\n",
    "    obs=repeat(1:1,NumberUnits)\n",
    "    for i in 1:NumberUnits\n",
    "        #obs_distribution = SparseCat(Observations, Observation_matrix[s[i],:])\n",
    "        obs_distribution = observation_function(s[i])\n",
    "        obs[i] = rand(obs_distribution)\n",
    "    end\n",
    "\n",
    "    return (s=s,r=r,o=obs)\n",
    "end"
   ]
  },
  {
   "cell_type": "code",
   "execution_count": 19,
   "metadata": {},
   "outputs": [
    {
     "name": "stdout",
     "output_type": "stream",
     "text": [
      "20\n",
      "K : 2\n"
     ]
    },
    {
     "name": "stderr",
     "output_type": "stream",
     "text": [
      "\u001b[36m\u001b[1m[ \u001b[22m\u001b[39m\u001b[36m\u001b[1mInfo: \u001b[22m\u001b[39m started timer at: 2025-03-05T16:20:55.970\n"
     ]
    },
    {
     "name": "stdout",
     "output_type": "stream",
     "text": [
      "[0 -800 -100 -1200 -2000]\n",
      "Finding best nN policy...\n",
      "Rewards of (n, N)-policy is-11391.02628593657n is 2N is 4\n",
      "20\n",
      "K : 2\n",
      "[0 -1200 -100 -1200 -2000]\n",
      "Finding best nN policy...\n"
     ]
    },
    {
     "name": "stderr",
     "output_type": "stream",
     "text": [
      "\u001b[36m\u001b[1m[ \u001b[22m\u001b[39m\u001b[36m\u001b[1mInfo: \u001b[22m\u001b[39m started timer at: 2025-03-05T16:31:43.526\n"
     ]
    },
    {
     "name": "stdout",
     "output_type": "stream",
     "text": [
      "Rewards of (n, N)-policy is-12640.356296794056n is 2N is 4\n",
      "20\n",
      "K : 2\n",
      "[0 -1600 -100 -1200 -2000]\n",
      "Finding best nN policy...\n"
     ]
    },
    {
     "name": "stderr",
     "output_type": "stream",
     "text": [
      "\u001b[36m\u001b[1m[ \u001b[22m\u001b[39m\u001b[36m\u001b[1mInfo: \u001b[22m\u001b[39m started timer at: 2025-03-05T16:41:54.227\n"
     ]
    },
    {
     "name": "stdout",
     "output_type": "stream",
     "text": [
      "Rewards of (n, N)-policy is-13922.700747910812n is 2N is 4\n",
      "20\n",
      "K : 2\n",
      "[0 -2000 -100 -1200 -2000]\n",
      "Finding best nN policy...\n"
     ]
    },
    {
     "name": "stderr",
     "output_type": "stream",
     "text": [
      "\u001b[36m\u001b[1m[ \u001b[22m\u001b[39m\u001b[36m\u001b[1mInfo: \u001b[22m\u001b[39m started timer at: 2025-03-05T16:52:10.474\n"
     ]
    },
    {
     "name": "stdout",
     "output_type": "stream",
     "text": [
      "Rewards of (n, N)-policy is-15211.44478338024n is 2N is 4\n",
      "20\n",
      "K : 2\n",
      "[0 -2400 -100 -1200 -2000]\n",
      "Finding best nN policy...\n"
     ]
    },
    {
     "name": "stderr",
     "output_type": "stream",
     "text": [
      "\u001b[36m\u001b[1m[ \u001b[22m\u001b[39m\u001b[36m\u001b[1mInfo: \u001b[22m\u001b[39m started timer at: 2025-03-05T17:02:25.862\n"
     ]
    },
    {
     "name": "stdout",
     "output_type": "stream",
     "text": [
      "Rewards of (n, N)-policy is-16430.37080283853n is 2N is 4\n",
      "20\n",
      "K : 2\n",
      "[0 -2800 -100 -1200 -2000]\n",
      "Finding best nN policy...\n"
     ]
    },
    {
     "name": "stderr",
     "output_type": "stream",
     "text": [
      "\u001b[36m\u001b[1m[ \u001b[22m\u001b[39m\u001b[36m\u001b[1mInfo: \u001b[22m\u001b[39m started timer at: 2025-03-05T17:12:52.206\n"
     ]
    },
    {
     "name": "stdout",
     "output_type": "stream",
     "text": [
      "Rewards of (n, N)-policy is-17734.239407883928n is 2N is 4\n",
      "20\n",
      "K : 2\n",
      "[0 -3200 -100 -1200 -2000]\n",
      "Finding best nN policy...\n"
     ]
    },
    {
     "name": "stderr",
     "output_type": "stream",
     "text": [
      "\u001b[36m\u001b[1m[ \u001b[22m\u001b[39m\u001b[36m\u001b[1mInfo: \u001b[22m\u001b[39m started timer at: 2025-03-05T17:23:13.144\n"
     ]
    },
    {
     "name": "stdout",
     "output_type": "stream",
     "text": [
      "Rewards of (n, N)-policy is-18966.01586721733n is 2N is 4\n",
      "20\n",
      "K : 4\n",
      "[0 -800 -100 -1200 -2000]\n",
      "Finding best nN policy..."
     ]
    },
    {
     "name": "stderr",
     "output_type": "stream",
     "text": [
      "\u001b[36m\u001b[1m[ \u001b[22m\u001b[39m\u001b[36m\u001b[1mInfo: \u001b[22m\u001b[39m started timer at: 2025-03-05T17:33:41.081\n"
     ]
    },
    {
     "name": "stdout",
     "output_type": "stream",
     "text": [
      "\n",
      "Rewards of (n, N)-policy is-10214.197727842491n is 2N is 4\n",
      "20\n",
      "K : 4\n",
      "[0 -1200 -100 -1200 -2000]\n",
      "Finding best nN policy...\n"
     ]
    },
    {
     "name": "stderr",
     "output_type": "stream",
     "text": [
      "\u001b[36m\u001b[1m[ \u001b[22m\u001b[39m\u001b[36m\u001b[1mInfo: \u001b[22m\u001b[39m started timer at: 2025-03-05T17:44:03.949\n"
     ]
    },
    {
     "name": "stdout",
     "output_type": "stream",
     "text": [
      "Rewards of (n, N)-policy is-11481.621373113157n is 2N is 4\n",
      "20\n",
      "K : 4\n",
      "[0 -1600 -100 -1200 -2000]\n",
      "Finding best nN policy...\n"
     ]
    },
    {
     "name": "stderr",
     "output_type": "stream",
     "text": [
      "\u001b[36m\u001b[1m[ \u001b[22m\u001b[39m\u001b[36m\u001b[1mInfo: \u001b[22m\u001b[39m started timer at: 2025-03-05T17:54:21.984\n"
     ]
    },
    {
     "name": "stdout",
     "output_type": "stream",
     "text": [
      "Rewards of (n, N)-policy is-12732.468751546363n is 2N is 4\n",
      "20\n",
      "K : 4\n",
      "[0 -2000 -100 -1200 -2000]\n",
      "Finding best nN policy...\n"
     ]
    },
    {
     "name": "stderr",
     "output_type": "stream",
     "text": [
      "\u001b[36m\u001b[1m[ \u001b[22m\u001b[39m\u001b[36m\u001b[1mInfo: \u001b[22m\u001b[39m started timer at: 2025-03-05T18:04:46.504\n"
     ]
    },
    {
     "name": "stdout",
     "output_type": "stream",
     "text": [
      "Rewards of (n, N)-policy is-14013.604314199081n is 2N is 4\n",
      "20\n",
      "K : 4\n",
      "[0 -2400 -100 -1200 -2000]\n",
      "Finding best nN policy...\n"
     ]
    },
    {
     "name": "stderr",
     "output_type": "stream",
     "text": [
      "\u001b[36m\u001b[1m[ \u001b[22m\u001b[39m\u001b[36m\u001b[1mInfo: \u001b[22m\u001b[39m started timer at: 2025-03-05T18:15:06.796\n"
     ]
    },
    {
     "name": "stdout",
     "output_type": "stream",
     "text": [
      "Rewards of (n, N)-policy is-15282.472663851226n is 2N is 4\n",
      "20\n",
      "K : 4\n",
      "[0 -2800 -100 -1200 -2000]\n",
      "Finding best nN policy...\n"
     ]
    },
    {
     "name": "stderr",
     "output_type": "stream",
     "text": [
      "\u001b[36m\u001b[1m[ \u001b[22m\u001b[39m\u001b[36m\u001b[1mInfo: \u001b[22m\u001b[39m started timer at: 2025-03-05T18:25:25.588\n"
     ]
    },
    {
     "name": "stdout",
     "output_type": "stream",
     "text": [
      "Rewards of (n, N)-policy is-16552.781384913294n is 2N is 4\n",
      "20\n",
      "K : 4\n",
      "[0 -3200 -100 -1200 -2000]\n",
      "Finding best nN policy...\n"
     ]
    },
    {
     "name": "stderr",
     "output_type": "stream",
     "text": [
      "\u001b[36m\u001b[1m[ \u001b[22m\u001b[39m\u001b[36m\u001b[1mInfo: \u001b[22m\u001b[39m started timer at: 2025-03-05T18:35:43.865\n"
     ]
    },
    {
     "name": "stdout",
     "output_type": "stream",
     "text": [
      "Rewards of (n, N)-policy is-17759.26649776334n is 2N is 4\n",
      "20\n",
      "K : 6\n",
      "[0 -800 -100 -1200 -2000]\n",
      "Finding best nN policy...\n"
     ]
    },
    {
     "name": "stderr",
     "output_type": "stream",
     "text": [
      "\u001b[36m\u001b[1m[ \u001b[22m\u001b[39m\u001b[36m\u001b[1mInfo: \u001b[22m\u001b[39m started timer at: 2025-03-05T18:46:04.204\n"
     ]
    },
    {
     "name": "stdout",
     "output_type": "stream",
     "text": [
      "Rewards of (n, N)-policy is-10191.427800718424n is 2N is 4\n",
      "20\n",
      "K : 6\n",
      "[0 -1200 -100 -1200 -2000]\n",
      "Finding best nN policy...\n"
     ]
    },
    {
     "name": "stderr",
     "output_type": "stream",
     "text": [
      "\u001b[36m\u001b[1m[ \u001b[22m\u001b[39m\u001b[36m\u001b[1mInfo: \u001b[22m\u001b[39m started timer at: 2025-03-05T18:56:21.914\n"
     ]
    },
    {
     "name": "stdout",
     "output_type": "stream",
     "text": [
      "Rewards of (n, N)-policy is-11438.206507612029n is 2N is 4\n",
      "20\n",
      "K : 6\n",
      "[0 -1600 -100 -1200 -2000]\n",
      "Finding best nN policy...\n"
     ]
    },
    {
     "name": "stderr",
     "output_type": "stream",
     "text": [
      "\u001b[36m\u001b[1m[ \u001b[22m\u001b[39m\u001b[36m\u001b[1mInfo: \u001b[22m\u001b[39m started timer at: 2025-03-05T19:06:37.759\n"
     ]
    },
    {
     "name": "stdout",
     "output_type": "stream",
     "text": [
      "Rewards of (n, N)-policy is-12731.151402972699n is 2N is 4\n",
      "20\n",
      "K : 6\n",
      "[0 -2000 -100 -1200 -2000]\n",
      "Finding best nN policy...\n"
     ]
    },
    {
     "name": "stderr",
     "output_type": "stream",
     "text": [
      "\u001b[36m\u001b[1m[ \u001b[22m\u001b[39m\u001b[36m\u001b[1mInfo: \u001b[22m\u001b[39m started timer at: 2025-03-05T19:16:55.380\n"
     ]
    },
    {
     "name": "stdout",
     "output_type": "stream",
     "text": [
      "Rewards of (n, N)-policy is-13969.448163188841n is 2N is 4\n",
      "20\n",
      "K : 6\n"
     ]
    },
    {
     "name": "stderr",
     "output_type": "stream",
     "text": [
      "\u001b[36m\u001b[1m[ \u001b[22m\u001b[39m\u001b[36m\u001b[1mInfo: \u001b[22m\u001b[39m started timer at: 2025-03-05T19:27:13.120\n"
     ]
    },
    {
     "name": "stdout",
     "output_type": "stream",
     "text": [
      "[0 -2400 -100 -1200 -2000]\n",
      "Finding best nN policy...\n",
      "Rewards of (n, N)-policy is-15223.257416460881n is 2N is 4\n",
      "20\n",
      "K : 6\n",
      "[0 -2800 -100 -1200 -2000]\n",
      "Finding best nN policy...\n"
     ]
    },
    {
     "name": "stderr",
     "output_type": "stream",
     "text": [
      "\u001b[36m\u001b[1m[ \u001b[22m\u001b[39m\u001b[36m\u001b[1mInfo: \u001b[22m\u001b[39m started timer at: 2025-03-05T19:37:38.334\n"
     ]
    },
    {
     "name": "stdout",
     "output_type": "stream",
     "text": [
      "Rewards of (n, N)-policy is-16512.47640179382n is 2N is 4\n",
      "20\n",
      "K : 6\n",
      "[0 -3200 -100 -1200 -2000]\n",
      "Finding best nN policy...\n"
     ]
    },
    {
     "name": "stderr",
     "output_type": "stream",
     "text": [
      "\u001b[36m\u001b[1m[ \u001b[22m\u001b[39m\u001b[36m\u001b[1mInfo: \u001b[22m\u001b[39m started timer at: 2025-03-05T19:47:58.742\n"
     ]
    },
    {
     "name": "stdout",
     "output_type": "stream",
     "text": [
      "Rewards of (n, N)-policy is-17804.786961492504n is 2N is 4\n",
      "20\n",
      "K : "
     ]
    },
    {
     "name": "stderr",
     "output_type": "stream",
     "text": [
      "\u001b[36m\u001b[1m[ \u001b[22m\u001b[39m\u001b[36m\u001b[1mInfo: \u001b[22m\u001b[39m started timer at: 2025-03-05T19:58:21.460\n"
     ]
    },
    {
     "name": "stdout",
     "output_type": "stream",
     "text": [
      "8\n",
      "[0 -800 -100 -1200 -2000]\n",
      "Finding best nN policy...\n",
      "Rewards of (n, N)-policy is-10177.306315146598n is 2N is 4\n",
      "20"
     ]
    },
    {
     "name": "stderr",
     "output_type": "stream",
     "text": [
      "\u001b[36m\u001b[1m[ \u001b[22m\u001b[39m\u001b[36m\u001b[1mInfo: \u001b[22m\u001b[39m started timer at: 2025-03-05T20:08:38.645\n"
     ]
    },
    {
     "name": "stdout",
     "output_type": "stream",
     "text": [
      "\n",
      "K : 8\n",
      "[0 -1200 -100 -1200 -2000]\n",
      "Finding best nN policy...\n",
      "Rewards of (n, N)-policy is-11477.300882037296n is 2N is 4\n",
      "20\n",
      "K : 8\n",
      "[0 -1600 -100 -1200 -2000]\n",
      "Finding best nN policy...\n"
     ]
    },
    {
     "name": "stderr",
     "output_type": "stream",
     "text": [
      "\u001b[36m\u001b[1m[ \u001b[22m\u001b[39m\u001b[36m\u001b[1mInfo: \u001b[22m\u001b[39m started timer at: 2025-03-05T20:18:55.854\n"
     ]
    },
    {
     "name": "stdout",
     "output_type": "stream",
     "text": [
      "Rewards of (n, N)-policy is-12688.516651515962n is 2N is 4\n",
      "20"
     ]
    },
    {
     "name": "stderr",
     "output_type": "stream",
     "text": [
      "\u001b[36m\u001b[1m[ \u001b[22m\u001b[39m\u001b[36m\u001b[1mInfo: \u001b[22m\u001b[39m started timer at: 2025-03-05T20:29:14.024\n"
     ]
    },
    {
     "name": "stdout",
     "output_type": "stream",
     "text": [
      "\n",
      "K : 8\n",
      "[0 -2000 -100 -1200 -2000]\n",
      "Finding best nN policy...\n",
      "Rewards of (n, N)-policy is-13979.767447862196n is 2N is 4\n",
      "20\n",
      "K : 8\n",
      "[0 -2400 -100 -1200 -2000]\n",
      "Finding best nN policy...\n"
     ]
    },
    {
     "name": "stderr",
     "output_type": "stream",
     "text": [
      "\u001b[36m\u001b[1m[ \u001b[22m\u001b[39m\u001b[36m\u001b[1mInfo: \u001b[22m\u001b[39m started timer at: 2025-03-05T20:39:28.622\n"
     ]
    },
    {
     "name": "stdout",
     "output_type": "stream",
     "text": [
      "Rewards of (n, N)-policy is-15300.830813718494n is 2N is 4\n",
      "20\n",
      "K : 8\n",
      "[0 -2800 -100 -1200 -2000]\n",
      "Finding best nN policy...\n"
     ]
    },
    {
     "name": "stderr",
     "output_type": "stream",
     "text": [
      "\u001b[36m\u001b[1m[ \u001b[22m\u001b[39m\u001b[36m\u001b[1mInfo: \u001b[22m\u001b[39m started timer at: 2025-03-05T20:49:47.631\n"
     ]
    },
    {
     "name": "stdout",
     "output_type": "stream",
     "text": [
      "Rewards of (n, N)-policy is-16523.833603176754n is 2N is 4\n",
      "20\n",
      "K : 8\n",
      "[0 -3200 -100 -1200 -2000]\n",
      "Finding best nN policy...\n"
     ]
    },
    {
     "name": "stderr",
     "output_type": "stream",
     "text": [
      "\u001b[36m\u001b[1m[ \u001b[22m\u001b[39m\u001b[36m\u001b[1mInfo: \u001b[22m\u001b[39m started timer at: 2025-03-05T21:00:09.822\n"
     ]
    },
    {
     "name": "stdout",
     "output_type": "stream",
     "text": [
      "Rewards of (n, N)-policy is-17806.008016144388n is 2N is 4\n",
      "20\n",
      "K : 10\n",
      "[0 -800 -100 -1200 -2000]\n",
      "Finding best nN policy...\n"
     ]
    },
    {
     "name": "stderr",
     "output_type": "stream",
     "text": [
      "\u001b[36m\u001b[1m[ \u001b[22m\u001b[39m\u001b[36m\u001b[1mInfo: \u001b[22m\u001b[39m started timer at: 2025-03-05T21:10:25.359\n"
     ]
    },
    {
     "name": "stdout",
     "output_type": "stream",
     "text": [
      "Rewards of (n, N)-policy is-10189.211255898801n is 2N is 4\n",
      "20\n",
      "K : 10\n",
      "[0 -1200 -100 -1200 -2000]\n",
      "Finding best nN policy...\n"
     ]
    },
    {
     "name": "stderr",
     "output_type": "stream",
     "text": [
      "\u001b[36m\u001b[1m[ \u001b[22m\u001b[39m\u001b[36m\u001b[1mInfo: \u001b[22m\u001b[39m started timer at: 2025-03-05T21:20:48.163\n"
     ]
    },
    {
     "name": "stdout",
     "output_type": "stream",
     "text": [
      "Rewards of (n, N)-policy is-11435.722057493376n is 2N is 4\n",
      "20\n",
      "K : 10\n",
      "[0 -1600 -100 -1200 -2000]\n",
      "Finding best nN policy...\n"
     ]
    },
    {
     "name": "stderr",
     "output_type": "stream",
     "text": [
      "\u001b[36m\u001b[1m[ \u001b[22m\u001b[39m\u001b[36m\u001b[1mInfo: \u001b[22m\u001b[39m started timer at: 2025-03-05T21:31:02.178\n"
     ]
    },
    {
     "name": "stdout",
     "output_type": "stream",
     "text": [
      "Rewards of (n, N)-policy is-12712.070486446684n is 2N is 4\n",
      "20\n",
      "K : 10\n",
      "[0 -2000 -100 -1200 -2000]\n",
      "Finding best nN policy...\n"
     ]
    },
    {
     "name": "stderr",
     "output_type": "stream",
     "text": [
      "\u001b[36m\u001b[1m[ \u001b[22m\u001b[39m\u001b[36m\u001b[1mInfo: \u001b[22m\u001b[39m started timer at: 2025-03-05T21:41:39.693\n"
     ]
    },
    {
     "name": "stdout",
     "output_type": "stream",
     "text": [
      "Rewards of (n, N)-policy is-13949.091933840115n is 2N is 4\n",
      "20\n",
      "K : "
     ]
    },
    {
     "name": "stderr",
     "output_type": "stream",
     "text": [
      "\u001b[36m\u001b[1m[ \u001b[22m\u001b[39m\u001b[36m\u001b[1mInfo: \u001b[22m\u001b[39m started timer at: 2025-03-05T21:52:01.662\n"
     ]
    },
    {
     "name": "stdout",
     "output_type": "stream",
     "text": [
      "10\n",
      "[0 -2400 -100 -1200 -2000]\n",
      "Finding best nN policy...\n",
      "Rewards of (n, N)-policy is-15256.506039585987n is 2N is 4\n",
      "20\n",
      "K : 10\n",
      "[0 -2800 -100 -1200 -2000]\n",
      "Finding best nN policy...\n"
     ]
    },
    {
     "name": "stderr",
     "output_type": "stream",
     "text": [
      "\u001b[36m\u001b[1m[ \u001b[22m\u001b[39m\u001b[36m\u001b[1mInfo: \u001b[22m\u001b[39m started timer at: 2025-03-05T22:02:22.431\n"
     ]
    },
    {
     "name": "stdout",
     "output_type": "stream",
     "text": [
      "Rewards of (n, N)-policy is-16490.542943888147n is 2N is 4\n",
      "20\n",
      "K : 10\n",
      "[0 -3200 -100 -1200 -2000]\n",
      "Finding best nN policy...\n"
     ]
    },
    {
     "name": "stderr",
     "output_type": "stream",
     "text": [
      "\u001b[36m\u001b[1m[ \u001b[22m\u001b[39m\u001b[36m\u001b[1mInfo: \u001b[22m\u001b[39m started timer at: 2025-03-05T22:12:49.421\n"
     ]
    },
    {
     "name": "stdout",
     "output_type": "stream",
     "text": [
      "Rewards of (n, N)-policy is-17743.488838909365n is 2N is 4\n",
      "25\n",
      "K : 2\n",
      "[0 -800 -100 -1200 -2000]\n",
      "Finding best nN policy...\n"
     ]
    },
    {
     "name": "stderr",
     "output_type": "stream",
     "text": [
      "\u001b[36m\u001b[1m[ \u001b[22m\u001b[39m\u001b[36m\u001b[1mInfo: \u001b[22m\u001b[39m started timer at: 2025-03-05T22:23:08.164\n"
     ]
    },
    {
     "name": "stdout",
     "output_type": "stream",
     "text": [
      "Rewards of (n, N)-policy is-13401.877546558391n is 2N is 4\n",
      "25\n",
      "K : 2\n",
      "[0 -1200 -100 -1200 -2000]\n",
      "Finding best nN policy...\n"
     ]
    },
    {
     "name": "stderr",
     "output_type": "stream",
     "text": [
      "\u001b[36m\u001b[1m[ \u001b[22m\u001b[39m\u001b[36m\u001b[1mInfo: \u001b[22m\u001b[39m started timer at: 2025-03-05T22:35:56.725\n"
     ]
    },
    {
     "name": "stdout",
     "output_type": "stream",
     "text": [
      "Rewards of (n, N)-policy is-14745.460218640133n is 2N is 4\n",
      "25\n",
      "K : 2\n",
      "[0 -1600 -100 -1200 -2000]\n",
      "Finding best nN policy...\n"
     ]
    },
    {
     "name": "stderr",
     "output_type": "stream",
     "text": [
      "\u001b[36m\u001b[1m[ \u001b[22m\u001b[39m\u001b[36m\u001b[1mInfo: \u001b[22m\u001b[39m started timer at: 2025-03-05T22:48:49.202\n"
     ]
    },
    {
     "name": "stdout",
     "output_type": "stream",
     "text": [
      "Rewards of (n, N)-policy is-16093.469619084211n is 2N is 4\n",
      "25\n",
      "K : 2\n",
      "[0 -2000 -100 -1200 -2000]\n",
      "Finding best nN policy...\n"
     ]
    },
    {
     "name": "stderr",
     "output_type": "stream",
     "text": [
      "\u001b[36m\u001b[1m[ \u001b[22m\u001b[39m\u001b[36m\u001b[1mInfo: \u001b[22m\u001b[39m started timer at: 2025-03-05T23:01:39.786\n"
     ]
    },
    {
     "name": "stdout",
     "output_type": "stream",
     "text": [
      "Rewards of (n, N)-policy is-17505.892063290554n is 2N is 4\n",
      "25\n",
      "K : 2\n",
      "[0 -2400 -100 -1200 -2000]\n",
      "Finding best nN policy...\n"
     ]
    },
    {
     "name": "stderr",
     "output_type": "stream",
     "text": [
      "\u001b[36m\u001b[1m[ \u001b[22m\u001b[39m\u001b[36m\u001b[1mInfo: \u001b[22m\u001b[39m started timer at: 2025-03-05T23:14:22.462\n"
     ]
    },
    {
     "name": "stdout",
     "output_type": "stream",
     "text": [
      "Rewards of (n, N)-policy is-18861.00617341573n is 2N is 4\n",
      "25\n",
      "K : 2\n",
      "[0 -2800 -100 -1200 -2000]\n",
      "Finding best nN policy...\n"
     ]
    },
    {
     "name": "stderr",
     "output_type": "stream",
     "text": [
      "\u001b[36m\u001b[1m[ \u001b[22m\u001b[39m\u001b[36m\u001b[1mInfo: \u001b[22m\u001b[39m started timer at: 2025-03-05T23:27:13.559\n"
     ]
    },
    {
     "name": "stdout",
     "output_type": "stream",
     "text": [
      "Rewards of (n, N)-policy is-20146.352034016574n is 2N is 4\n",
      "25\n",
      "K : 2\n",
      "[0"
     ]
    },
    {
     "name": "stderr",
     "output_type": "stream",
     "text": [
      "\u001b[36m\u001b[1m[ \u001b[22m\u001b[39m\u001b[36m\u001b[1mInfo: \u001b[22m\u001b[39m started timer at: 2025-03-05T23:40:04.449\n"
     ]
    },
    {
     "name": "stdout",
     "output_type": "stream",
     "text": [
      " -3200 -100 -1200 -2000]\n",
      "Finding best nN policy...\n",
      "Rewards of (n, N)-policy is-21598.422889598394n is 2N is 4\n",
      "25\n",
      "K : 4\n",
      "[0 -800 -100 -1200 -2000]\n",
      "Finding best nN policy...\n"
     ]
    },
    {
     "name": "stderr",
     "output_type": "stream",
     "text": [
      "\u001b[36m\u001b[1m[ \u001b[22m\u001b[39m\u001b[36m\u001b[1mInfo: \u001b[22m\u001b[39m started timer at: 2025-03-05T23:52:53.298\n"
     ]
    },
    {
     "name": "stdout",
     "output_type": "stream",
     "text": [
      "Rewards of (n, N)-policy is-11949.065066204721n is 2N is 4\n",
      "25\n",
      "K : 4\n",
      "[0 -1200 -100 -1200 -2000]\n",
      "Finding best nN policy...\n"
     ]
    },
    {
     "name": "stderr",
     "output_type": "stream",
     "text": [
      "\u001b[36m\u001b[1m[ \u001b[22m\u001b[39m\u001b[36m\u001b[1mInfo: \u001b[22m\u001b[39m started timer at: 2025-03-06T00:05:40.319\n"
     ]
    },
    {
     "name": "stdout",
     "output_type": "stream",
     "text": [
      "Rewards of (n, N)-policy is-13327.422260148454n is 2N is 4\n"
     ]
    },
    {
     "name": "stderr",
     "output_type": "stream",
     "text": [
      "\u001b[36m\u001b[1m[ \u001b[22m\u001b[39m\u001b[36m\u001b[1mInfo: \u001b[22m\u001b[39m started timer at: 2025-03-06T00:18:39.739\n"
     ]
    },
    {
     "name": "stdout",
     "output_type": "stream",
     "text": [
      "25\n",
      "K : 4\n",
      "[0 -1600 -100 -1200 -2000]\n",
      "Finding best nN policy...\n",
      "Rewards of (n, N)-policy is-14656.734190461018n is 2N is 4\n",
      "25\n",
      "K : 4\n",
      "[0 -2000 -100 -1200 -2000]\n",
      "Finding best nN policy...\n"
     ]
    },
    {
     "name": "stderr",
     "output_type": "stream",
     "text": [
      "\u001b[36m\u001b[1m[ \u001b[22m\u001b[39m\u001b[36m\u001b[1mInfo: \u001b[22m\u001b[39m started timer at: 2025-03-06T00:31:37.315\n"
     ]
    },
    {
     "name": "stdout",
     "output_type": "stream",
     "text": [
      "Rewards of (n, N)-policy is-16026.070938866927n is 2N is 4\n",
      "25\n",
      "K : 4\n",
      "[0 -2400 -100 -1200 -2000]\n",
      "Finding best nN policy...\n"
     ]
    },
    {
     "name": "stderr",
     "output_type": "stream",
     "text": [
      "\u001b[36m\u001b[1m[ \u001b[22m\u001b[39m\u001b[36m\u001b[1mInfo: \u001b[22m\u001b[39m started timer at: 2025-03-06T00:44:27.234\n"
     ]
    },
    {
     "name": "stdout",
     "output_type": "stream",
     "text": [
      "Rewards of (n, N)-policy is-17448.516102491885n is 2N is 4\n",
      "25\n",
      "K : 4\n",
      "[0 -2800 -100 -1200 -2000]\n",
      "Finding best nN policy...\n"
     ]
    },
    {
     "name": "stderr",
     "output_type": "stream",
     "text": [
      "\u001b[36m\u001b[1m[ \u001b[22m\u001b[39m\u001b[36m\u001b[1mInfo: \u001b[22m\u001b[39m started timer at: 2025-03-06T00:57:12.142\n"
     ]
    },
    {
     "name": "stdout",
     "output_type": "stream",
     "text": [
      "Rewards of (n, N)-policy is-18785.54700131134n is 2N is 4\n",
      "25\n",
      "K : 4\n",
      "[0 -3200 -100 -1200 -2000]\n",
      "Finding best nN policy...\n"
     ]
    },
    {
     "name": "stderr",
     "output_type": "stream",
     "text": [
      "\u001b[36m\u001b[1m[ \u001b[22m\u001b[39m\u001b[36m\u001b[1mInfo: \u001b[22m\u001b[39m started timer at: 2025-03-06T01:09:58.970\n"
     ]
    },
    {
     "name": "stdout",
     "output_type": "stream",
     "text": [
      "Rewards of (n, N)-policy is-20142.682016897605n is 2N is 4\n",
      "25\n",
      "K : 6\n",
      "[0 -800 -100 -1200 -2000]\n",
      "Finding best nN policy...\n"
     ]
    },
    {
     "name": "stderr",
     "output_type": "stream",
     "text": [
      "\u001b[36m\u001b[1m[ \u001b[22m\u001b[39m\u001b[36m\u001b[1mInfo: \u001b[22m\u001b[39m started timer at: 2025-03-06T01:22:40.820\n"
     ]
    },
    {
     "name": "stdout",
     "output_type": "stream",
     "text": [
      "Rewards of (n, N)-policy is-11897.423148992939n is 2N is 4\n",
      "25"
     ]
    },
    {
     "name": "stderr",
     "output_type": "stream",
     "text": [
      "\u001b[36m\u001b[1m[ \u001b[22m\u001b[39m\u001b[36m\u001b[1mInfo: \u001b[22m\u001b[39m started timer at: 2025-03-06T01:35:24.935\n"
     ]
    },
    {
     "name": "stdout",
     "output_type": "stream",
     "text": [
      "\n",
      "K : 6\n",
      "[0 -1200 -100 -1200 -2000]\n",
      "Finding best nN policy...\n",
      "Rewards of (n, N)-policy is-13270.814652660107n is 2N is 4\n",
      "25\n",
      "K : 6\n",
      "[0 -1600 -100 -1200 -2000]\n",
      "Finding best nN policy...\n"
     ]
    },
    {
     "name": "stderr",
     "output_type": "stream",
     "text": [
      "\u001b[36m\u001b[1m[ \u001b[22m\u001b[39m\u001b[36m\u001b[1mInfo: \u001b[22m\u001b[39m started timer at: 2025-03-06T01:48:12.369\n"
     ]
    },
    {
     "name": "stdout",
     "output_type": "stream",
     "text": [
      "Rewards of (n, N)-policy is-14626.975336875057n is 2N is 4\n",
      "25\n",
      "K : 6\n",
      "[0 -2000 -100 -1200 -2000]\n",
      "Finding best nN policy...\n"
     ]
    },
    {
     "name": "stderr",
     "output_type": "stream",
     "text": [
      "\u001b[36m\u001b[1m[ \u001b[22m\u001b[39m\u001b[36m\u001b[1mInfo: \u001b[22m\u001b[39m started timer at: 2025-03-06T02:01:01.257\n"
     ]
    },
    {
     "name": "stdout",
     "output_type": "stream",
     "text": [
      "Rewards of (n, N)-policy is-16016.278636334097n is 2N is 4\n",
      "25\n",
      "K : 6\n",
      "[0 -2400 -100 -1200 -2000]\n",
      "Finding best nN policy...\n"
     ]
    },
    {
     "name": "stderr",
     "output_type": "stream",
     "text": [
      "\u001b[36m\u001b[1m[ \u001b[22m\u001b[39m\u001b[36m\u001b[1mInfo: \u001b[22m\u001b[39m started timer at: 2025-03-06T02:13:45.641\n"
     ]
    },
    {
     "name": "stdout",
     "output_type": "stream",
     "text": [
      "Rewards of (n, N)-policy is-17410.284291608532n is 2N is 4\n",
      "25\n",
      "K : 6\n",
      "[0 -2800 -100 -1200 -2000]\n",
      "Finding best nN policy...\n"
     ]
    },
    {
     "name": "stderr",
     "output_type": "stream",
     "text": [
      "\u001b[36m\u001b[1m[ \u001b[22m\u001b[39m\u001b[36m\u001b[1mInfo: \u001b[22m\u001b[39m started timer at: 2025-03-06T02:26:33.836\n"
     ]
    },
    {
     "name": "stdout",
     "output_type": "stream",
     "text": [
      "Rewards of (n, N)-policy is-18745.43229321163n is 2N is 4\n",
      "25\n",
      "K : 6\n",
      "[0 -3200 -100 -1200 -2000]\n",
      "Finding best nN policy...\n"
     ]
    },
    {
     "name": "stderr",
     "output_type": "stream",
     "text": [
      "\u001b[36m\u001b[1m[ \u001b[22m\u001b[39m\u001b[36m\u001b[1mInfo: \u001b[22m\u001b[39m started timer at: 2025-03-06T02:39:29.322\n"
     ]
    },
    {
     "name": "stdout",
     "output_type": "stream",
     "text": [
      "Rewards of (n, N)-policy is-20100.089778147398n is 2N is 4\n",
      "25\n",
      "K : 8\n",
      "[0 -800 -100 -1200 -2000]\n",
      "Finding best nN policy...\n"
     ]
    },
    {
     "name": "stderr",
     "output_type": "stream",
     "text": [
      "\u001b[36m\u001b[1m[ \u001b[22m\u001b[39m\u001b[36m\u001b[1mInfo: \u001b[22m\u001b[39m started timer at: 2025-03-06T02:52:21.717\n"
     ]
    },
    {
     "name": "stdout",
     "output_type": "stream",
     "text": [
      "Rewards of (n, N)-policy is-11894.340139949983n is 2N is 4\n",
      "25\n",
      "K : 8\n",
      "[0 -1200 -100 -1200 -2000]\n",
      "Finding best nN policy...\n"
     ]
    },
    {
     "name": "stderr",
     "output_type": "stream",
     "text": [
      "\u001b[36m\u001b[1m[ \u001b[22m\u001b[39m\u001b[36m\u001b[1mInfo: \u001b[22m\u001b[39m started timer at: 2025-03-06T03:05:04.356\n"
     ]
    },
    {
     "name": "stdout",
     "output_type": "stream",
     "text": [
      "Rewards of (n, N)-policy is-13292.05998484873n is 2N is 4\n",
      "25\n",
      "K : 8\n",
      "[0 -1600 -100 -1200 -2000]\n",
      "Finding best nN policy...\n"
     ]
    },
    {
     "name": "stderr",
     "output_type": "stream",
     "text": [
      "\u001b[36m\u001b[1m[ \u001b[22m\u001b[39m\u001b[36m\u001b[1mInfo: \u001b[22m\u001b[39m started timer at: 2025-03-06T03:17:51.844\n"
     ]
    },
    {
     "name": "stdout",
     "output_type": "stream",
     "text": [
      "Rewards of (n, N)-policy is-14628.841533313049n is 2N is 4\n",
      "25\n",
      "K : 8\n",
      "[0 -2000 -100 -1200 -2000]\n",
      "Finding best nN policy...\n"
     ]
    },
    {
     "name": "stderr",
     "output_type": "stream",
     "text": [
      "\u001b[36m\u001b[1m[ \u001b[22m\u001b[39m\u001b[36m\u001b[1mInfo: \u001b[22m\u001b[39m started timer at: 2025-03-06T03:30:40.686\n"
     ]
    },
    {
     "name": "stdout",
     "output_type": "stream",
     "text": [
      "Rewards of (n, N)-policy is-16025.169449591594n is 2N is 4\n",
      "25\n",
      "K : 8\n",
      "[0 -2400 -100 -1200 -2000]\n",
      "Finding best nN policy...\n"
     ]
    },
    {
     "name": "stderr",
     "output_type": "stream",
     "text": [
      "\u001b[36m\u001b[1m[ \u001b[22m\u001b[39m\u001b[36m\u001b[1mInfo: \u001b[22m\u001b[39m started timer at: 2025-03-06T03:43:29.498\n"
     ]
    },
    {
     "name": "stdout",
     "output_type": "stream",
     "text": [
      "Rewards of (n, N)-policy is-17353.1071172944n is 2N is 4\n"
     ]
    },
    {
     "name": "stderr",
     "output_type": "stream",
     "text": [
      "\u001b[36m\u001b[1m[ \u001b[22m\u001b[39m\u001b[36m\u001b[1mInfo: \u001b[22m\u001b[39m started timer at: 2025-03-06T03:56:12.191\n"
     ]
    },
    {
     "name": "stdout",
     "output_type": "stream",
     "text": [
      "25\n",
      "K : 8\n",
      "[0 -2800 -100 -1200 -2000]\n",
      "Finding best nN policy...\n",
      "Rewards of (n, N)-policy is-18784.481708243617n is 2N is 4\n",
      "25\n",
      "K : 8\n",
      "[0 -3200 -100 -1200 -2000]\n",
      "Finding best nN policy...\n"
     ]
    },
    {
     "name": "stderr",
     "output_type": "stream",
     "text": [
      "\u001b[36m\u001b[1m[ \u001b[22m\u001b[39m\u001b[36m\u001b[1mInfo: \u001b[22m\u001b[39m started timer at: 2025-03-06T04:09:05.120\n"
     ]
    },
    {
     "name": "stdout",
     "output_type": "stream",
     "text": [
      "Rewards of (n, N)-policy is-20123.050056374348n is 2N is 4\n",
      "25\n",
      "K : 10\n",
      "[0 -800 -100 -1200 -2000]\n",
      "Finding best nN policy...\n"
     ]
    },
    {
     "name": "stderr",
     "output_type": "stream",
     "text": [
      "\u001b[36m\u001b[1m[ \u001b[22m\u001b[39m\u001b[36m\u001b[1mInfo: \u001b[22m\u001b[39m started timer at: 2025-03-06T04:22:02.704\n"
     ]
    },
    {
     "name": "stdout",
     "output_type": "stream",
     "text": [
      "Rewards of (n, N)-policy is-11894.464781212278n is 2N is 4\n",
      "25\n",
      "K : 10\n",
      "[0 -1200 -100 -1200 -2000]\n",
      "Finding best nN policy...\n"
     ]
    },
    {
     "name": "stderr",
     "output_type": "stream",
     "text": [
      "\u001b[36m\u001b[1m[ \u001b[22m\u001b[39m\u001b[36m\u001b[1mInfo: \u001b[22m\u001b[39m started timer at: 2025-03-06T04:34:41.775\n"
     ]
    },
    {
     "name": "stdout",
     "output_type": "stream",
     "text": [
      "Rewards of (n, N)-policy is-13266.686447074571n is 2N is 4\n",
      "25\n",
      "K : 10\n",
      "[0 -1600 -100 -1200 -2000]\n",
      "Finding best nN policy...\n"
     ]
    },
    {
     "name": "stderr",
     "output_type": "stream",
     "text": [
      "\u001b[36m\u001b[1m[ \u001b[22m\u001b[39m\u001b[36m\u001b[1mInfo: \u001b[22m\u001b[39m started timer at: 2025-03-06T04:47:28.324\n"
     ]
    },
    {
     "name": "stdout",
     "output_type": "stream",
     "text": [
      "Rewards of (n, N)-policy is-14623.526900580704n is 2N is 4\n",
      "25\n",
      "K : 10\n",
      "[0 -2000 -100 -1200 -2000]\n",
      "Finding best nN policy...\n"
     ]
    },
    {
     "name": "stderr",
     "output_type": "stream",
     "text": [
      "\u001b[36m\u001b[1m[ \u001b[22m\u001b[39m\u001b[36m\u001b[1mInfo: \u001b[22m\u001b[39m started timer at: 2025-03-06T05:00:11.491\n"
     ]
    },
    {
     "name": "stdout",
     "output_type": "stream",
     "text": [
      "Rewards of (n, N)-policy is-16023.069430492473n is 2N is 4\n"
     ]
    },
    {
     "name": "stderr",
     "output_type": "stream",
     "text": [
      "\u001b[36m\u001b[1m[ \u001b[22m\u001b[39m\u001b[36m\u001b[1mInfo: \u001b[22m\u001b[39m started timer at: 2025-03-06T05:12:46.844\n"
     ]
    },
    {
     "name": "stdout",
     "output_type": "stream",
     "text": [
      "25\n",
      "K : 10\n",
      "[0 -2400 -100 -1200 -2000]\n",
      "Finding best nN policy...\n",
      "Rewards of (n, N)-policy is-17329.420194154383n is 2N is 4\n",
      "25"
     ]
    },
    {
     "name": "stderr",
     "output_type": "stream",
     "text": [
      "\u001b[36m\u001b[1m[ \u001b[22m\u001b[39m\u001b[36m\u001b[1mInfo: \u001b[22m\u001b[39m started timer at: 2025-03-06T05:25:29.182\n"
     ]
    },
    {
     "name": "stdout",
     "output_type": "stream",
     "text": [
      "\n",
      "K : 10\n",
      "[0 -2800 -100 -1200 -2000]\n",
      "Finding best nN policy...\n",
      "Rewards of (n, N)-policy is-18727.156454850632n is 2N is 4\n",
      "25\n",
      "K : 10\n",
      "[0 -3200 -100 -1200 -2000]\n",
      "Finding best nN policy...\n"
     ]
    },
    {
     "name": "stderr",
     "output_type": "stream",
     "text": [
      "\u001b[36m\u001b[1m[ \u001b[22m\u001b[39m\u001b[36m\u001b[1mInfo: \u001b[22m\u001b[39m started timer at: 2025-03-06T05:38:10.712\n"
     ]
    },
    {
     "name": "stdout",
     "output_type": "stream",
     "text": [
      "Rewards of (n, N)-policy is-20112.308352464737n is 2N is 4\n",
      "25\n",
      "K : 12\n",
      "[0 -800 -100 -1200 -2000]\n",
      "Finding best nN policy...\n"
     ]
    },
    {
     "name": "stderr",
     "output_type": "stream",
     "text": [
      "\u001b[36m\u001b[1m[ \u001b[22m\u001b[39m\u001b[36m\u001b[1mInfo: \u001b[22m\u001b[39m started timer at: 2025-03-06T05:50:48.558\n"
     ]
    },
    {
     "name": "stdout",
     "output_type": "stream",
     "text": [
      "Rewards of (n, N)-policy is-11894.350151801133n is 2N is 4\n",
      "25\n",
      "K : 12\n",
      "[0 -1200 -100 -1200 -2000]\n",
      "Finding best nN policy...\n"
     ]
    },
    {
     "name": "stderr",
     "output_type": "stream",
     "text": [
      "\u001b[36m\u001b[1m[ \u001b[22m\u001b[39m\u001b[36m\u001b[1mInfo: \u001b[22m\u001b[39m started timer at: 2025-03-06T06:03:41.265\n"
     ]
    },
    {
     "name": "stdout",
     "output_type": "stream",
     "text": [
      "Rewards of (n, N)-policy is-13266.442114760086n is 2N is 4\n",
      "25\n",
      "K : 12\n",
      "[0 -1600 -100 -1200 -2000]\n",
      "Finding best nN policy...\n"
     ]
    },
    {
     "name": "stderr",
     "output_type": "stream",
     "text": [
      "\u001b[36m\u001b[1m[ \u001b[22m\u001b[39m\u001b[36m\u001b[1mInfo: \u001b[22m\u001b[39m started timer at: 2025-03-06T06:16:25.231\n"
     ]
    },
    {
     "name": "stdout",
     "output_type": "stream",
     "text": [
      "Rewards of (n, N)-policy is-14630.737085181376n is 2N is 4\n",
      "25\n",
      "K : 12\n",
      "[0 -2000 -100 -1200 -2000]\n",
      "Finding best nN policy...\n"
     ]
    },
    {
     "name": "stderr",
     "output_type": "stream",
     "text": [
      "\u001b[36m\u001b[1m[ \u001b[22m\u001b[39m\u001b[36m\u001b[1mInfo: \u001b[22m\u001b[39m started timer at: 2025-03-06T06:29:04.357\n"
     ]
    },
    {
     "name": "stdout",
     "output_type": "stream",
     "text": [
      "Rewards of (n, N)-policy is-16003.119118897694n is 2N is 4\n",
      "25\n",
      "K : 12\n",
      "[0 -2400 -100 -1200 -2000]\n",
      "Finding best nN policy...\n"
     ]
    },
    {
     "name": "stderr",
     "output_type": "stream",
     "text": [
      "\u001b[36m\u001b[1m[ \u001b[22m\u001b[39m\u001b[36m\u001b[1mInfo: \u001b[22m\u001b[39m started timer at: 2025-03-06T06:41:47.950\n"
     ]
    },
    {
     "name": "stdout",
     "output_type": "stream",
     "text": [
      "Rewards of (n, N)-policy is-17374.747519287015n is 2N is 4\n",
      "25\n",
      "K : 12\n",
      "[0 -2800 -100 -1200 -2000]\n",
      "Finding best nN policy...\n"
     ]
    },
    {
     "name": "stderr",
     "output_type": "stream",
     "text": [
      "\u001b[36m\u001b[1m[ \u001b[22m\u001b[39m\u001b[36m\u001b[1mInfo: \u001b[22m\u001b[39m started timer at: 2025-03-06T06:54:29.704\n"
     ]
    },
    {
     "name": "stdout",
     "output_type": "stream",
     "text": [
      "Rewards of (n, N)-policy is-18774.298522325505n is 2N is 4\n",
      "25\n",
      "K : 12\n",
      "[0 -3200 -100 -1200 -2000]\n",
      "Finding best nN policy...\n"
     ]
    },
    {
     "name": "stderr",
     "output_type": "stream",
     "text": [
      "\u001b[36m\u001b[1m[ \u001b[22m\u001b[39m\u001b[36m\u001b[1mInfo: \u001b[22m\u001b[39m started timer at: 2025-03-06T07:07:08.272\n"
     ]
    },
    {
     "name": "stdout",
     "output_type": "stream",
     "text": [
      "Rewards of (n, N)-policy is-20133.357278139978n is 2N is 4\n",
      "30\n",
      "K : 2\n",
      "[0 -800 -100 -1200 -2000]\n",
      "Finding best nN policy...\n"
     ]
    },
    {
     "name": "stderr",
     "output_type": "stream",
     "text": [
      "\u001b[36m\u001b[1m[ \u001b[22m\u001b[39m\u001b[36m\u001b[1mInfo: \u001b[22m\u001b[39m started timer at: 2025-03-06T07:19:48.781\n"
     ]
    },
    {
     "name": "stdout",
     "output_type": "stream",
     "text": [
      "Rewards of (n, N)-policy is-15203.762140060104n is 2N is 4\n",
      "30\n",
      "K : 2\n",
      "[0 -1200 -100 -1200 -2000]\n",
      "Finding best nN policy...\n"
     ]
    },
    {
     "name": "stderr",
     "output_type": "stream",
     "text": [
      "\u001b[36m\u001b[1m[ \u001b[22m\u001b[39m\u001b[36m\u001b[1mInfo: \u001b[22m\u001b[39m started timer at: 2025-03-06T07:34:47.123\n"
     ]
    },
    {
     "name": "stdout",
     "output_type": "stream",
     "text": [
      "Rewards of (n, N)-policy is-16689.52352196983n is 2N is 4\n",
      "30\n",
      "K : 2\n",
      "[0 -1600 -100 -1200 -2000]\n",
      "Finding best nN policy...\n"
     ]
    },
    {
     "name": "stderr",
     "output_type": "stream",
     "text": [
      "\u001b[36m\u001b[1m[ \u001b[22m\u001b[39m\u001b[36m\u001b[1mInfo: \u001b[22m\u001b[39m started timer at: 2025-03-06T07:49:48.738\n"
     ]
    },
    {
     "name": "stdout",
     "output_type": "stream",
     "text": [
      "Rewards of (n, N)-policy is-18114.097723636816n is 2N is 4\n"
     ]
    },
    {
     "name": "stderr",
     "output_type": "stream",
     "text": [
      "\u001b[36m\u001b[1m[ \u001b[22m\u001b[39m\u001b[36m\u001b[1mInfo: \u001b[22m\u001b[39m started timer at: 2025-03-06T08:05:12.376\n"
     ]
    },
    {
     "name": "stdout",
     "output_type": "stream",
     "text": [
      "30\n",
      "K : 2\n",
      "[0 -2000 -100 -1200 -2000]\n",
      "Finding best nN policy...\n",
      "Rewards of (n, N)-policy is-19628.618773329043n is 2N is 4\n",
      "30\n",
      "K : 2\n",
      "[0 -2400 -100 -1200 -2000]\n",
      "Finding best nN policy...\n"
     ]
    },
    {
     "name": "stderr",
     "output_type": "stream",
     "text": [
      "\u001b[36m\u001b[1m[ \u001b[22m\u001b[39m\u001b[36m\u001b[1mInfo: \u001b[22m\u001b[39m started timer at: 2025-03-06T08:20:24.265\n"
     ]
    },
    {
     "name": "stdout",
     "output_type": "stream",
     "text": [
      "Rewards of (n, N)-policy is-21073.17740517275n is 2N is 4\n",
      "30\n",
      "K : 2\n",
      "[0 -2800 -100 -1200 -2000]\n",
      "Finding best nN policy...\n"
     ]
    },
    {
     "name": "stderr",
     "output_type": "stream",
     "text": [
      "\u001b[36m\u001b[1m[ \u001b[22m\u001b[39m\u001b[36m\u001b[1mInfo: \u001b[22m\u001b[39m started timer at: 2025-03-06T08:35:27.081\n"
     ]
    },
    {
     "name": "stdout",
     "output_type": "stream",
     "text": [
      "Rewards of (n, N)-policy is-22561.788797462465n is 2N is 4\n"
     ]
    },
    {
     "name": "stderr",
     "output_type": "stream",
     "text": [
      "\u001b[36m\u001b[1m[ \u001b[22m\u001b[39m\u001b[36m\u001b[1mInfo: \u001b[22m\u001b[39m started timer at: 2025-03-06T08:50:27.106\n"
     ]
    },
    {
     "name": "stdout",
     "output_type": "stream",
     "text": [
      "30\n",
      "K : 2\n",
      "[0 -3200 -100 -1200 -2000]\n",
      "Finding best nN policy...\n",
      "Rewards of (n, N)-policy is-24025.207960024123n is 2N is 4\n",
      "30\n",
      "K : 4\n",
      "[0 -800 -100 -1200 -2000]\n",
      "Finding best nN policy...\n"
     ]
    },
    {
     "name": "stderr",
     "output_type": "stream",
     "text": [
      "\u001b[36m\u001b[1m[ \u001b[22m\u001b[39m\u001b[36m\u001b[1mInfo: \u001b[22m\u001b[39m started timer at: 2025-03-06T09:05:44.920\n"
     ]
    },
    {
     "name": "stdout",
     "output_type": "stream",
     "text": [
      "Rewards of (n, N)-policy is-13620.116688877637n is 2N is 4\n",
      "30\n",
      "K : 4\n",
      "[0 -1200 -100 -1200 -2000]\n",
      "Finding best nN policy...\n"
     ]
    },
    {
     "name": "stderr",
     "output_type": "stream",
     "text": [
      "\u001b[36m\u001b[1m[ \u001b[22m\u001b[39m\u001b[36m\u001b[1mInfo: \u001b[22m\u001b[39m started timer at: 2025-03-06T09:20:50.504\n"
     ]
    },
    {
     "name": "stdout",
     "output_type": "stream",
     "text": [
      "Rewards of (n, N)-policy is-15082.587686897987n is 2N is 4\n",
      "30\n",
      "K : 4\n",
      "[0 -1600 -100 -1200 -2000]\n",
      "Finding best nN policy...\n"
     ]
    },
    {
     "name": "stderr",
     "output_type": "stream",
     "text": [
      "\u001b[36m\u001b[1m[ \u001b[22m\u001b[39m\u001b[36m\u001b[1mInfo: \u001b[22m\u001b[39m started timer at: 2025-03-06T09:35:54.080\n"
     ]
    },
    {
     "name": "stdout",
     "output_type": "stream",
     "text": [
      "Rewards of (n, N)-policy is-16529.706685669895n is 2N is 4\n",
      "30\n",
      "K : 4\n",
      "[0 -2000 -100 -1200 -2000]\n",
      "Finding best nN policy...\n"
     ]
    },
    {
     "name": "stderr",
     "output_type": "stream",
     "text": [
      "\u001b[36m\u001b[1m[ \u001b[22m\u001b[39m\u001b[36m\u001b[1mInfo: \u001b[22m\u001b[39m started timer at: 2025-03-06T09:50:57.835\n"
     ]
    },
    {
     "name": "stdout",
     "output_type": "stream",
     "text": [
      "Rewards of (n, N)-policy is-18012.782259873726n is 2N is 4\n",
      "30"
     ]
    },
    {
     "name": "stderr",
     "output_type": "stream",
     "text": [
      "\u001b[36m\u001b[1m[ \u001b[22m\u001b[39m\u001b[36m\u001b[1mInfo: \u001b[22m\u001b[39m started timer at: 2025-03-06T10:06:12.542\n"
     ]
    },
    {
     "name": "stdout",
     "output_type": "stream",
     "text": [
      "\n",
      "K : 4\n",
      "[0 -2400 -100 -1200 -2000]\n",
      "Finding best nN policy...\n",
      "Rewards of (n, N)-policy is-19457.594192419558n is 2N is 4\n",
      "30\n",
      "K : 4\n",
      "[0 -2800 -100 -1200 -2000]\n",
      "Finding best nN policy...\n"
     ]
    },
    {
     "name": "stderr",
     "output_type": "stream",
     "text": [
      "\u001b[36m\u001b[1m[ \u001b[22m\u001b[39m\u001b[36m\u001b[1mInfo: \u001b[22m\u001b[39m started timer at: 2025-03-06T10:21:15.009\n"
     ]
    },
    {
     "name": "stdout",
     "output_type": "stream",
     "text": [
      "Rewards of (n, N)-policy is-20928.44100689472n is 2N is 4\n",
      "30\n",
      "K : 4\n",
      "[0 -3200 -100 -1200 -2000]\n",
      "Finding best nN policy...\n"
     ]
    },
    {
     "name": "stderr",
     "output_type": "stream",
     "text": [
      "\u001b[36m\u001b[1m[ \u001b[22m\u001b[39m\u001b[36m\u001b[1mInfo: \u001b[22m\u001b[39m started timer at: 2025-03-06T10:36:36.793\n"
     ]
    },
    {
     "name": "stdout",
     "output_type": "stream",
     "text": [
      "Rewards of (n, N)-policy is-22367.9238779109n is 2N is 4\n",
      "30\n",
      "K : 6\n",
      "[0 -800 -100 -1200 -2000]\n",
      "Finding best nN policy...\n"
     ]
    },
    {
     "name": "stderr",
     "output_type": "stream",
     "text": [
      "\u001b[36m\u001b[1m[ \u001b[22m\u001b[39m\u001b[36m\u001b[1mInfo: \u001b[22m\u001b[39m started timer at: 2025-03-06T10:51:45.225\n"
     ]
    },
    {
     "name": "stdout",
     "output_type": "stream",
     "text": [
      "Rewards of (n, N)-policy is-13541.601142699197n is 2N is 4\n",
      "30\n",
      "K : 6\n",
      "[0 -1200 -100 -1200 -2000]\n",
      "Finding best nN policy...\n"
     ]
    },
    {
     "name": "stderr",
     "output_type": "stream",
     "text": [
      "\u001b[36m\u001b[1m[ \u001b[22m\u001b[39m\u001b[36m\u001b[1mInfo: \u001b[22m\u001b[39m started timer at: 2025-03-06T11:06:52.264\n"
     ]
    },
    {
     "name": "stdout",
     "output_type": "stream",
     "text": [
      "Rewards of (n, N)-policy is-15029.351447584284n is 2N is 4\n",
      "30\n",
      "K : 6\n",
      "[0 -1600 -100 -1200 -2000]\n",
      "Finding best nN policy...\n"
     ]
    },
    {
     "name": "stderr",
     "output_type": "stream",
     "text": [
      "\u001b[36m\u001b[1m[ \u001b[22m\u001b[39m\u001b[36m\u001b[1mInfo: \u001b[22m\u001b[39m started timer at: 2025-03-06T11:21:52.198\n"
     ]
    },
    {
     "name": "stdout",
     "output_type": "stream",
     "text": [
      "Rewards of (n, N)-policy is-16436.472731272148n is 2N is 4\n",
      "30\n",
      "K : 6\n",
      "[0"
     ]
    },
    {
     "name": "stderr",
     "output_type": "stream",
     "text": [
      "\u001b[36m\u001b[1m[ \u001b[22m\u001b[39m\u001b[36m\u001b[1mInfo: \u001b[22m\u001b[39m started timer at: 2025-03-06T11:36:52.551\n"
     ]
    },
    {
     "name": "stdout",
     "output_type": "stream",
     "text": [
      " -2000 -100 -1200 -2000]\n",
      "Finding best nN policy...\n",
      "Rewards of (n, N)-policy is-17902.459704577952n is 2N is 4\n",
      "30\n",
      "K : 6\n",
      "[0 -2400 -100 -1200 -2000]\n",
      "Finding best nN policy...\n"
     ]
    },
    {
     "name": "stderr",
     "output_type": "stream",
     "text": [
      "\u001b[36m\u001b[1m[ \u001b[22m\u001b[39m\u001b[36m\u001b[1mInfo: \u001b[22m\u001b[39m started timer at: 2025-03-06T11:51:53.091\n"
     ]
    },
    {
     "name": "stdout",
     "output_type": "stream",
     "text": [
      "Rewards of (n, N)-policy is-19369.34449308098n is 2N is 4\n"
     ]
    },
    {
     "name": "stderr",
     "output_type": "stream",
     "text": [
      "\u001b[36m\u001b[1m[ \u001b[22m\u001b[39m\u001b[36m\u001b[1mInfo: \u001b[22m\u001b[39m started timer at: 2025-03-06T12:06:56.357\n"
     ]
    },
    {
     "name": "stdout",
     "output_type": "stream",
     "text": [
      "30\n",
      "K : 6\n",
      "[0 -2800 -100 -1200 -2000]\n",
      "Finding best nN policy...\n",
      "Rewards of (n, N)-policy is-20856.239410851536n is 2N is 4\n",
      "30\n",
      "K : 6\n",
      "[0 -3200 -100 -1200 -2000]\n",
      "Finding best nN policy...\n"
     ]
    },
    {
     "name": "stderr",
     "output_type": "stream",
     "text": [
      "\u001b[36m\u001b[1m[ \u001b[22m\u001b[39m\u001b[36m\u001b[1mInfo: \u001b[22m\u001b[39m started timer at: 2025-03-06T12:21:56.735\n"
     ]
    },
    {
     "name": "stdout",
     "output_type": "stream",
     "text": [
      "Rewards of (n, N)-policy is-22323.576479314623n is 2N is 4\n",
      "30\n",
      "K : 8\n",
      "[0 -800 -100 -1200 -2000]\n",
      "Finding best nN policy...\n"
     ]
    },
    {
     "name": "stderr",
     "output_type": "stream",
     "text": [
      "\u001b[36m\u001b[1m[ \u001b[22m\u001b[39m\u001b[36m\u001b[1mInfo: \u001b[22m\u001b[39m started timer at: 2025-03-06T12:37:04.193\n"
     ]
    },
    {
     "name": "stdout",
     "output_type": "stream",
     "text": [
      "Rewards of (n, N)-policy is-13536.15123721643n is 2N is 4\n"
     ]
    },
    {
     "name": "stderr",
     "output_type": "stream",
     "text": [
      "\u001b[36m\u001b[1m[ \u001b[22m\u001b[39m\u001b[36m\u001b[1mInfo: \u001b[22m\u001b[39m started timer at: 2025-03-06T12:52:09.083\n"
     ]
    },
    {
     "name": "stdout",
     "output_type": "stream",
     "text": [
      "30\n",
      "K : 8\n",
      "[0 -1200 -100 -1200 -2000]\n",
      "Finding best nN policy...\n",
      "Rewards of (n, N)-policy is-15018.068992344633n is 2N is 4\n",
      "30\n",
      "K : 8\n",
      "[0 -1600 -100 -1200 -2000]\n",
      "Finding best nN policy...\n"
     ]
    },
    {
     "name": "stderr",
     "output_type": "stream",
     "text": [
      "\u001b[36m\u001b[1m[ \u001b[22m\u001b[39m\u001b[36m\u001b[1mInfo: \u001b[22m\u001b[39m started timer at: 2025-03-06T13:07:24.065\n"
     ]
    },
    {
     "name": "stdout",
     "output_type": "stream",
     "text": [
      "Rewards of (n, N)-policy is-16467.370037632616n is 2N is 4\n",
      "30\n",
      "K : 8\n",
      "[0 -2000 -100 -1200 -2000]\n",
      "Finding best nN policy...\n"
     ]
    },
    {
     "name": "stderr",
     "output_type": "stream",
     "text": [
      "\u001b[36m\u001b[1m[ \u001b[22m\u001b[39m\u001b[36m\u001b[1mInfo: \u001b[22m\u001b[39m started timer at: 2025-03-06T13:22:31.392\n"
     ]
    },
    {
     "name": "stdout",
     "output_type": "stream",
     "text": [
      "Rewards of (n, N)-policy is-17935.248619904305n is 2N is 4\n",
      "30\n",
      "K : 8\n",
      "[0 -2400 -100 -1200 -2000]\n",
      "Finding best nN policy...\n"
     ]
    },
    {
     "name": "stderr",
     "output_type": "stream",
     "text": [
      "\u001b[36m\u001b[1m[ \u001b[22m\u001b[39m\u001b[36m\u001b[1mInfo: \u001b[22m\u001b[39m started timer at: 2025-03-06T13:37:32.862\n"
     ]
    },
    {
     "name": "stdout",
     "output_type": "stream",
     "text": [
      "Rewards of (n, N)-policy is-19401.004506976515n is 2N is 4\n",
      "30\n",
      "K : 8\n",
      "[0 -2800 -100 -1200 -2000]\n",
      "Finding best nN policy...\n"
     ]
    },
    {
     "name": "stderr",
     "output_type": "stream",
     "text": [
      "\u001b[36m\u001b[1m[ \u001b[22m\u001b[39m\u001b[36m\u001b[1mInfo: \u001b[22m\u001b[39m started timer at: 2025-03-06T13:52:33.139\n"
     ]
    },
    {
     "name": "stdout",
     "output_type": "stream",
     "text": [
      "Rewards of (n, N)-policy is-20824.496235804283n is 2N is 4\n",
      "30\n",
      "K : 8\n",
      "[0 -3200 -100 -1200 -2000]\n",
      "Finding best nN policy...\n"
     ]
    },
    {
     "name": "stderr",
     "output_type": "stream",
     "text": [
      "\u001b[36m\u001b[1m[ \u001b[22m\u001b[39m\u001b[36m\u001b[1mInfo: \u001b[22m\u001b[39m started timer at: 2025-03-06T14:07:39.916\n"
     ]
    },
    {
     "name": "stdout",
     "output_type": "stream",
     "text": [
      "Rewards of (n, N)-policy is-22339.440149524646n is 2N is 4\n",
      "30\n",
      "K : "
     ]
    },
    {
     "name": "stderr",
     "output_type": "stream",
     "text": [
      "\u001b[36m\u001b[1m[ \u001b[22m\u001b[39m\u001b[36m\u001b[1mInfo: \u001b[22m\u001b[39m started timer at: 2025-03-06T14:22:51.274\n"
     ]
    },
    {
     "name": "stdout",
     "output_type": "stream",
     "text": [
      "10\n",
      "[0 -800 -100 -1200 -2000]\n",
      "Finding best nN policy...\n",
      "Rewards of (n, N)-policy is-13550.916198670497n is 2N is 4\n",
      "30\n",
      "K : "
     ]
    },
    {
     "name": "stderr",
     "output_type": "stream",
     "text": [
      "\u001b[36m\u001b[1m[ \u001b[22m\u001b[39m\u001b[36m\u001b[1mInfo: \u001b[22m\u001b[39m started timer at: 2025-03-06T14:38:02.156\n"
     ]
    },
    {
     "name": "stdout",
     "output_type": "stream",
     "text": [
      "10\n",
      "[0 -1200 -100 -1200 -2000]\n",
      "Finding best nN policy...\n",
      "Rewards of (n, N)-policy is-15054.77065538954n is 2N is 4\n",
      "30\n",
      "K : 10\n",
      "[0 -1600 -100 -1200 -2000]\n",
      "Finding best nN policy...\n"
     ]
    },
    {
     "name": "stderr",
     "output_type": "stream",
     "text": [
      "\u001b[36m\u001b[1m[ \u001b[22m\u001b[39m\u001b[36m\u001b[1mInfo: \u001b[22m\u001b[39m started timer at: 2025-03-06T14:53:07.688\n"
     ]
    },
    {
     "name": "stdout",
     "output_type": "stream",
     "text": [
      "Rewards of (n, N)-policy is-16461.534544978702n is 2N is 4\n",
      "30\n",
      "K : 10\n",
      "[0 -2000 -100 -1200 -2000]\n",
      "Finding best nN policy...\n"
     ]
    },
    {
     "name": "stderr",
     "output_type": "stream",
     "text": [
      "\u001b[36m\u001b[1m[ \u001b[22m\u001b[39m\u001b[36m\u001b[1mInfo: \u001b[22m\u001b[39m started timer at: 2025-03-06T15:08:12.293\n"
     ]
    },
    {
     "name": "stdout",
     "output_type": "stream",
     "text": [
      "Rewards of (n, N)-policy is-17943.287082527655n is 2N is 4\n",
      "30\n",
      "K : 10\n",
      "[0 -2400 -100 -1200 -2000]\n",
      "Finding best nN policy...\n"
     ]
    },
    {
     "name": "stderr",
     "output_type": "stream",
     "text": [
      "\u001b[36m\u001b[1m[ \u001b[22m\u001b[39m\u001b[36m\u001b[1mInfo: \u001b[22m\u001b[39m started timer at: 2025-03-06T15:23:28.275\n"
     ]
    },
    {
     "name": "stdout",
     "output_type": "stream",
     "text": [
      "Rewards of (n, N)-policy is-19361.719770399326n is 2N is 4\n",
      "30\n",
      "K : 10\n",
      "[0 -2800 -100 -1200 -2000]\n",
      "Finding best nN policy...\n"
     ]
    },
    {
     "name": "stderr",
     "output_type": "stream",
     "text": [
      "\u001b[36m\u001b[1m[ \u001b[22m\u001b[39m\u001b[36m\u001b[1mInfo: \u001b[22m\u001b[39m started timer at: 2025-03-06T15:38:41.853\n"
     ]
    },
    {
     "name": "stdout",
     "output_type": "stream",
     "text": [
      "Rewards of (n, N)-policy is-20852.222293008555n is 2N is 4\n",
      "30\n",
      "K : 10\n",
      "[0 -3200 -100 -1200 -2000]\n",
      "Finding best nN policy...\n"
     ]
    },
    {
     "name": "stderr",
     "output_type": "stream",
     "text": [
      "\u001b[36m\u001b[1m[ \u001b[22m\u001b[39m\u001b[36m\u001b[1mInfo: \u001b[22m\u001b[39m started timer at: 2025-03-06T15:53:50.885\n"
     ]
    },
    {
     "name": "stdout",
     "output_type": "stream",
     "text": [
      "Rewards of (n, N)-policy is-22313.85471329366n is 2N is 4\n",
      "30\n",
      "K : 12\n",
      "[0 -800 -100 -1200 -2000]\n",
      "Finding best nN policy...\n"
     ]
    },
    {
     "name": "stderr",
     "output_type": "stream",
     "text": [
      "\u001b[36m\u001b[1m[ \u001b[22m\u001b[39m\u001b[36m\u001b[1mInfo: \u001b[22m\u001b[39m started timer at: 2025-03-06T16:09:08.764\n"
     ]
    },
    {
     "name": "stdout",
     "output_type": "stream",
     "text": [
      "Rewards of (n, N)-policy is-13555.822294541424n is 2N is 4\n",
      "30\n",
      "K : 12\n",
      "[0 -1200 -100 -1200 -2000]\n",
      "Finding best nN policy...\n"
     ]
    },
    {
     "name": "stderr",
     "output_type": "stream",
     "text": [
      "\u001b[36m\u001b[1m[ \u001b[22m\u001b[39m\u001b[36m\u001b[1mInfo: \u001b[22m\u001b[39m started timer at: 2025-03-06T16:24:24.656\n"
     ]
    },
    {
     "name": "stdout",
     "output_type": "stream",
     "text": [
      "Rewards of (n, N)-policy is-15012.72391386726n is 2N is 4\n",
      "30\n",
      "K : 12\n",
      "[0 -1600 -100 -1200 -2000]\n",
      "Finding best nN policy...\n"
     ]
    },
    {
     "name": "stderr",
     "output_type": "stream",
     "text": [
      "\u001b[36m\u001b[1m[ \u001b[22m\u001b[39m\u001b[36m\u001b[1mInfo: \u001b[22m\u001b[39m started timer at: 2025-03-06T16:39:40.794\n"
     ]
    },
    {
     "name": "stdout",
     "output_type": "stream",
     "text": [
      "Rewards of (n, N)-policy is-16473.83016888566n is 2N is 4\n",
      "30\n",
      "K : 12\n",
      "[0 -2000 -100 -1200 -2000]\n",
      "Finding best nN policy...\n"
     ]
    },
    {
     "name": "stderr",
     "output_type": "stream",
     "text": [
      "\u001b[36m\u001b[1m[ \u001b[22m\u001b[39m\u001b[36m\u001b[1mInfo: \u001b[22m\u001b[39m started timer at: 2025-03-06T16:54:56.244\n"
     ]
    },
    {
     "name": "stdout",
     "output_type": "stream",
     "text": [
      "Rewards of (n, N)-policy is-17936.146809412345n is 2N is 4\n",
      "30\n",
      "K : 12\n",
      "[0 -2400 -100 -1200 -2000]\n",
      "Finding best nN policy...\n"
     ]
    },
    {
     "name": "stderr",
     "output_type": "stream",
     "text": [
      "\u001b[36m\u001b[1m[ \u001b[22m\u001b[39m\u001b[36m\u001b[1mInfo: \u001b[22m\u001b[39m started timer at: 2025-03-06T17:10:05.758\n"
     ]
    },
    {
     "name": "stdout",
     "output_type": "stream",
     "text": [
      "Rewards of (n, N)-policy is-19405.416388645524n is 2N is 4\n",
      "30\n",
      "K : 12\n",
      "[0 -2800 -100 -1200 -2000]\n",
      "Finding best nN policy...\n"
     ]
    },
    {
     "name": "stderr",
     "output_type": "stream",
     "text": [
      "\u001b[36m\u001b[1m[ \u001b[22m\u001b[39m\u001b[36m\u001b[1mInfo: \u001b[22m\u001b[39m started timer at: 2025-03-06T17:25:20.030\n"
     ]
    },
    {
     "name": "stdout",
     "output_type": "stream",
     "text": [
      "Rewards of (n, N)-policy is-20841.14721019297n is 2N is 4\n",
      "30\n",
      "K : 12\n",
      "[0 -3200 -100 -1200 -2000]\n",
      "Finding best nN policy...\n"
     ]
    },
    {
     "name": "stderr",
     "output_type": "stream",
     "text": [
      "\u001b[36m\u001b[1m[ \u001b[22m\u001b[39m\u001b[36m\u001b[1mInfo: \u001b[22m\u001b[39m started timer at: 2025-03-06T17:40:30.747\n"
     ]
    },
    {
     "name": "stdout",
     "output_type": "stream",
     "text": [
      "Rewards of (n, N)-policy is-22311.680852994406n is 2N is 4\n",
      "30\n",
      "K : 14\n",
      "[0 -800 -100 -1200 -2000]\n",
      "Finding best nN policy...\n"
     ]
    },
    {
     "name": "stderr",
     "output_type": "stream",
     "text": [
      "\u001b[36m\u001b[1m[ \u001b[22m\u001b[39m\u001b[36m\u001b[1mInfo: \u001b[22m\u001b[39m started timer at: 2025-03-06T17:55:36.435\n"
     ]
    },
    {
     "name": "stdout",
     "output_type": "stream",
     "text": [
      "Rewards of (n, N)-policy is-13552.178495081871n is 2N is 4\n",
      "30\n",
      "K : 14\n",
      "[0 -1200 -100 -1200 -2000]\n",
      "Finding best nN policy...\n"
     ]
    },
    {
     "name": "stderr",
     "output_type": "stream",
     "text": [
      "\u001b[36m\u001b[1m[ \u001b[22m\u001b[39m\u001b[36m\u001b[1mInfo: \u001b[22m\u001b[39m started timer at: 2025-03-06T18:10:49.130\n"
     ]
    },
    {
     "name": "stdout",
     "output_type": "stream",
     "text": [
      "Rewards of (n, N)-policy is-15018.001287125311n is 2N is 4\n",
      "30\n",
      "K : 14\n",
      "[0 -1600 -100 -1200 -2000]\n",
      "Finding best nN policy...\n"
     ]
    },
    {
     "name": "stderr",
     "output_type": "stream",
     "text": [
      "\u001b[36m\u001b[1m[ \u001b[22m\u001b[39m\u001b[36m\u001b[1mInfo: \u001b[22m\u001b[39m started timer at: 2025-03-06T18:25:59.341\n"
     ]
    },
    {
     "name": "stdout",
     "output_type": "stream",
     "text": [
      "Rewards of (n, N)-policy is-16448.956710411774n is 2N is 4\n",
      "30\n",
      "K : 14\n",
      "[0 -2000 -100 -1200 -2000]\n",
      "Finding best nN policy...\n"
     ]
    },
    {
     "name": "stderr",
     "output_type": "stream",
     "text": [
      "\u001b[36m\u001b[1m[ \u001b[22m\u001b[39m\u001b[36m\u001b[1mInfo: \u001b[22m\u001b[39m started timer at: 2025-03-06T18:41:13.167\n"
     ]
    },
    {
     "name": "stdout",
     "output_type": "stream",
     "text": [
      "Rewards of (n, N)-policy is-17935.607843814803n is 2N is 4\n",
      "30\n",
      "K : 14\n",
      "[0 -2400 -100 -1200 -2000]\n",
      "Finding best nN policy...\n"
     ]
    },
    {
     "name": "stderr",
     "output_type": "stream",
     "text": [
      "\u001b[36m\u001b[1m[ \u001b[22m\u001b[39m\u001b[36m\u001b[1mInfo: \u001b[22m\u001b[39m started timer at: 2025-03-06T18:56:27.550\n"
     ]
    },
    {
     "name": "stdout",
     "output_type": "stream",
     "text": [
      "Rewards of (n, N)-policy is-19419.483783566382n is 2N is 4\n"
     ]
    },
    {
     "name": "stderr",
     "output_type": "stream",
     "text": [
      "\u001b[36m\u001b[1m[ \u001b[22m\u001b[39m\u001b[36m\u001b[1mInfo: \u001b[22m\u001b[39m started timer at: 2025-03-06T19:11:43.651\n"
     ]
    },
    {
     "name": "stdout",
     "output_type": "stream",
     "text": [
      "30\n",
      "K : 14\n",
      "[0 -2800 -100 -1200 -2000]\n",
      "Finding best nN policy...\n",
      "Rewards of (n, N)-policy is-20839.1955795384n is 2N is 4\n",
      "30\n",
      "K : 14\n",
      "[0 -3200 -100 -1200 -2000]\n",
      "Finding best nN policy...\n"
     ]
    },
    {
     "name": "stderr",
     "output_type": "stream",
     "text": [
      "\u001b[36m\u001b[1m[ \u001b[22m\u001b[39m\u001b[36m\u001b[1mInfo: \u001b[22m\u001b[39m started timer at: 2025-03-06T19:27:00.662\n"
     ]
    },
    {
     "name": "stdout",
     "output_type": "stream",
     "text": [
      "Rewards of (n, N)-policy is-22268.10246002454n is 2N is 4\n",
      "40\n",
      "K : 2\n",
      "[0 -800 -100 -1200 -2000]\n",
      "Finding best nN policy...\n"
     ]
    },
    {
     "name": "stderr",
     "output_type": "stream",
     "text": [
      "\u001b[36m\u001b[1m[ \u001b[22m\u001b[39m\u001b[36m\u001b[1mInfo: \u001b[22m\u001b[39m started timer at: 2025-03-06T19:42:17.860\n"
     ]
    },
    {
     "name": "stdout",
     "output_type": "stream",
     "text": [
      "Rewards of (n, N)-policy is-18883.24679684925n is 2N is 4\n",
      "40\n",
      "K : 2\n",
      "[0 -1200 -100 -1200 -2000]\n",
      "Finding best nN policy...\n"
     ]
    },
    {
     "name": "stderr",
     "output_type": "stream",
     "text": [
      "\u001b[36m\u001b[1m[ \u001b[22m\u001b[39m\u001b[36m\u001b[1mInfo: \u001b[22m\u001b[39m started timer at: 2025-03-06T20:02:30.211\n"
     ]
    },
    {
     "name": "stdout",
     "output_type": "stream",
     "text": [
      "Rewards of (n, N)-policy is-20497.245670888973n is 2N is 4\n",
      "40\n",
      "K : 2\n",
      "[0 -1600 -100 -1200 -2000]\n",
      "Finding best nN policy...\n"
     ]
    },
    {
     "name": "stderr",
     "output_type": "stream",
     "text": [
      "\u001b[36m\u001b[1m[ \u001b[22m\u001b[39m\u001b[36m\u001b[1mInfo: \u001b[22m\u001b[39m started timer at: 2025-03-06T20:22:50.592\n"
     ]
    },
    {
     "name": "stdout",
     "output_type": "stream",
     "text": [
      "Rewards of (n, N)-policy is-22070.000595096553n is 2N is 4\n",
      "40\n",
      "K : 2\n",
      "[0 -2000 -100 -1200 -2000]\n",
      "Finding best nN policy...\n"
     ]
    },
    {
     "name": "stderr",
     "output_type": "stream",
     "text": [
      "\u001b[36m\u001b[1m[ \u001b[22m\u001b[39m\u001b[36m\u001b[1mInfo: \u001b[22m\u001b[39m started timer at: 2025-03-06T20:42:59.301\n"
     ]
    },
    {
     "name": "stdout",
     "output_type": "stream",
     "text": [
      "Rewards of (n, N)-policy is-23652.05240784568n is 2N is 4\n",
      "40\n",
      "K : 2\n",
      "[0 -2400 -100 -1200 -2000]\n",
      "Finding best nN policy...\n"
     ]
    },
    {
     "name": "stderr",
     "output_type": "stream",
     "text": [
      "\u001b[36m\u001b[1m[ \u001b[22m\u001b[39m\u001b[36m\u001b[1mInfo: \u001b[22m\u001b[39m started timer at: 2025-03-06T21:03:05.114\n"
     ]
    },
    {
     "name": "stdout",
     "output_type": "stream",
     "text": [
      "Rewards of (n, N)-policy is-25305.009409462975n is 2N is 4\n",
      "40\n",
      "K : 2\n",
      "[0 -2800 -100 -1200 -2000]\n",
      "Finding best nN policy...\n"
     ]
    },
    {
     "name": "stderr",
     "output_type": "stream",
     "text": [
      "\u001b[36m\u001b[1m[ \u001b[22m\u001b[39m\u001b[36m\u001b[1mInfo: \u001b[22m\u001b[39m started timer at: 2025-03-06T21:23:07.635\n"
     ]
    },
    {
     "name": "stdout",
     "output_type": "stream",
     "text": [
      "Rewards of (n, N)-policy is-26968.860000187684n is 2N is 4\n",
      "40\n",
      "K : 2\n",
      "[0 -3200 -100 -1200 -2000]\n",
      "Finding best nN policy...\n"
     ]
    },
    {
     "name": "stderr",
     "output_type": "stream",
     "text": [
      "\u001b[36m\u001b[1m[ \u001b[22m\u001b[39m\u001b[36m\u001b[1mInfo: \u001b[22m\u001b[39m started timer at: 2025-03-06T21:43:15.323\n"
     ]
    },
    {
     "name": "stdout",
     "output_type": "stream",
     "text": [
      "Rewards of (n, N)-policy is-28543.115687126083n is 2N is 4\n"
     ]
    },
    {
     "name": "stderr",
     "output_type": "stream",
     "text": [
      "\u001b[36m\u001b[1m[ \u001b[22m\u001b[39m\u001b[36m\u001b[1mInfo: \u001b[22m\u001b[39m started timer at: 2025-03-06T22:03:20.918\n"
     ]
    },
    {
     "name": "stdout",
     "output_type": "stream",
     "text": [
      "40\n",
      "K : 4\n",
      "[0 -800 -100 -1200 -2000]\n",
      "Finding best nN policy...\n",
      "Rewards of (n, N)-policy is-16803.778476259646n is 2N is 4\n",
      "40\n",
      "K : 4\n"
     ]
    },
    {
     "name": "stderr",
     "output_type": "stream",
     "text": [
      "\u001b[36m\u001b[1m[ \u001b[22m\u001b[39m\u001b[36m\u001b[1mInfo: \u001b[22m\u001b[39m started timer at: 2025-03-06T22:23:32.716\n"
     ]
    },
    {
     "name": "stdout",
     "output_type": "stream",
     "text": [
      "[0 -1200 -100 -1200 -2000]\n",
      "Finding best nN policy...\n",
      "Rewards of (n, N)-policy is-18463.006219403695n is 2N is 4\n",
      "40\n",
      "K : 4\n",
      "[0 -1600 -100 -1200 -2000]\n",
      "Finding best nN policy...\n"
     ]
    },
    {
     "name": "stderr",
     "output_type": "stream",
     "text": [
      "\u001b[36m\u001b[1m[ \u001b[22m\u001b[39m\u001b[36m\u001b[1mInfo: \u001b[22m\u001b[39m started timer at: 2025-03-06T22:43:53.883\n"
     ]
    },
    {
     "name": "stdout",
     "output_type": "stream",
     "text": [
      "Rewards of (n, N)-policy is-20062.362383070173n is 2N is 4\n"
     ]
    },
    {
     "name": "stderr",
     "output_type": "stream",
     "text": [
      "\u001b[36m\u001b[1m[ \u001b[22m\u001b[39m\u001b[36m\u001b[1mInfo: \u001b[22m\u001b[39m started timer at: 2025-03-06T23:03:58.561\n"
     ]
    },
    {
     "name": "stdout",
     "output_type": "stream",
     "text": [
      "40\n",
      "K : 4\n",
      "[0 -2000 -100 -1200 -2000]\n",
      "Finding best nN policy...\n",
      "Rewards of (n, N)-policy is-21660.396295893275n is 2N is 4\n",
      "40\n",
      "K : 4\n",
      "[0 -2400 -100 -1200 -2000]\n",
      "Finding best nN policy...\n"
     ]
    },
    {
     "name": "stderr",
     "output_type": "stream",
     "text": [
      "\u001b[36m\u001b[1m[ \u001b[22m\u001b[39m\u001b[36m\u001b[1mInfo: \u001b[22m\u001b[39m started timer at: 2025-03-06T23:24:00.797\n"
     ]
    },
    {
     "name": "stdout",
     "output_type": "stream",
     "text": [
      "Rewards of (n, N)-policy is-23232.668813835575n is 2N is 4\n",
      "40\n",
      "K : 4\n",
      "[0 -2800 -100 -1200 -2000]\n",
      "Finding best nN policy...\n"
     ]
    },
    {
     "name": "stderr",
     "output_type": "stream",
     "text": [
      "\u001b[36m\u001b[1m[ \u001b[22m\u001b[39m\u001b[36m\u001b[1mInfo: \u001b[22m\u001b[39m started timer at: 2025-03-06T23:44:34.140\n"
     ]
    },
    {
     "name": "stdout",
     "output_type": "stream",
     "text": [
      "Rewards of (n, N)-policy is-24898.743881264574n is 2N is 4\n",
      "40\n",
      "K : 4\n",
      "[0 -3200 -100 -1200 -2000]\n",
      "Finding best nN policy...\n"
     ]
    },
    {
     "name": "stderr",
     "output_type": "stream",
     "text": [
      "\u001b[36m\u001b[1m[ \u001b[22m\u001b[39m\u001b[36m\u001b[1mInfo: \u001b[22m\u001b[39m started timer at: 2025-03-07T00:05:09.932\n"
     ]
    },
    {
     "name": "stdout",
     "output_type": "stream",
     "text": [
      "Rewards of (n, N)-policy is-26533.600746383745n is 2N is 4\n"
     ]
    },
    {
     "name": "stderr",
     "output_type": "stream",
     "text": [
      "\u001b[36m\u001b[1m[ \u001b[22m\u001b[39m\u001b[36m\u001b[1mInfo: \u001b[22m\u001b[39m started timer at: 2025-03-07T00:25:29.580\n"
     ]
    },
    {
     "name": "stdout",
     "output_type": "stream",
     "text": [
      "40\n",
      "K : 6\n",
      "[0 -800 -100 -1200 -2000]\n",
      "Finding best nN policy...\n",
      "Rewards of (n, N)-policy is-16733.16723465701n is 2N is 4\n"
     ]
    },
    {
     "name": "stderr",
     "output_type": "stream",
     "text": [
      "\u001b[36m\u001b[1m[ \u001b[22m\u001b[39m\u001b[36m\u001b[1mInfo: \u001b[22m\u001b[39m started timer at: 2025-03-07T00:45:47.033\n"
     ]
    },
    {
     "name": "stdout",
     "output_type": "stream",
     "text": [
      "40\n",
      "K : 6\n",
      "[0 -1200 -100 -1200 -2000]\n",
      "Finding best nN policy...\n",
      "Rewards of (n, N)-policy is-18315.061324464634n is 2N is 4\n",
      "40\n",
      "K : 6\n",
      "[0 -1600 -100 -1200 -2000]\n",
      "Finding best nN policy...\n"
     ]
    },
    {
     "name": "stderr",
     "output_type": "stream",
     "text": [
      "\u001b[36m\u001b[1m[ \u001b[22m\u001b[39m\u001b[36m\u001b[1mInfo: \u001b[22m\u001b[39m started timer at: 2025-03-07T01:05:57.848\n"
     ]
    },
    {
     "name": "stdout",
     "output_type": "stream",
     "text": [
      "Rewards of (n, N)-policy is-19981.06103608397n is 2N is 4\n"
     ]
    },
    {
     "name": "stderr",
     "output_type": "stream",
     "text": [
      "\u001b[36m\u001b[1m[ \u001b[22m\u001b[39m\u001b[36m\u001b[1mInfo: \u001b[22m\u001b[39m started timer at: 2025-03-07T01:26:19.928\n"
     ]
    },
    {
     "name": "stdout",
     "output_type": "stream",
     "text": [
      "40\n",
      "K : 6\n",
      "[0 -2000 -100 -1200 -2000]\n",
      "Finding best nN policy...\n",
      "Rewards of (n, N)-policy is-21562.770304956437n is 2N is 4\n",
      "40\n",
      "K : 6\n",
      "[0 -2400 -100 -1200 -2000]\n",
      "Finding best nN policy...\n"
     ]
    },
    {
     "name": "stderr",
     "output_type": "stream",
     "text": [
      "\u001b[36m\u001b[1m[ \u001b[22m\u001b[39m\u001b[36m\u001b[1mInfo: \u001b[22m\u001b[39m started timer at: 2025-03-07T01:46:32.014\n"
     ]
    },
    {
     "name": "stdout",
     "output_type": "stream",
     "text": [
      "Rewards of (n, N)-policy is-23162.058965441967n is 2N is 4\n",
      "40\n",
      "K : 6\n",
      "[0 -2800 -100 -1200 -2000]\n",
      "Finding best nN policy...\n"
     ]
    },
    {
     "name": "stderr",
     "output_type": "stream",
     "text": [
      "\u001b[36m\u001b[1m[ \u001b[22m\u001b[39m\u001b[36m\u001b[1mInfo: \u001b[22m\u001b[39m started timer at: 2025-03-07T02:06:50.122\n"
     ]
    },
    {
     "name": "stdout",
     "output_type": "stream",
     "text": [
      "Rewards of (n, N)-policy is-24829.30372541491n is 2N is 4\n",
      "40\n",
      "K : 6\n",
      "[0 -3200 -100 -1200 -2000]\n",
      "Finding best nN policy...\n"
     ]
    },
    {
     "name": "stderr",
     "output_type": "stream",
     "text": [
      "\u001b[36m\u001b[1m[ \u001b[22m\u001b[39m\u001b[36m\u001b[1mInfo: \u001b[22m\u001b[39m started timer at: 2025-03-07T02:27:05.455\n"
     ]
    },
    {
     "name": "stdout",
     "output_type": "stream",
     "text": [
      "Rewards of (n, N)-policy is-26366.30083978644n is 2N is 4\n",
      "40\n",
      "K : 8\n",
      "[0 -800 -100 -1200 -2000]\n",
      "Finding best nN policy...\n"
     ]
    },
    {
     "name": "stderr",
     "output_type": "stream",
     "text": [
      "\u001b[36m\u001b[1m[ \u001b[22m\u001b[39m\u001b[36m\u001b[1mInfo: \u001b[22m\u001b[39m started timer at: 2025-03-07T02:47:26.874\n"
     ]
    },
    {
     "name": "stdout",
     "output_type": "stream",
     "text": [
      "Rewards of (n, N)-policy is-16724.89863121428n is 2N is 4\n",
      "40\n",
      "K : 8\n",
      "[0 -1200 -100 -1200 -2000]\n",
      "Finding best nN policy...\n"
     ]
    },
    {
     "name": "stderr",
     "output_type": "stream",
     "text": [
      "\u001b[36m\u001b[1m[ \u001b[22m\u001b[39m\u001b[36m\u001b[1mInfo: \u001b[22m\u001b[39m started timer at: 2025-03-07T03:07:44.549\n"
     ]
    },
    {
     "name": "stdout",
     "output_type": "stream",
     "text": [
      "Rewards of (n, N)-policy is-18361.50604620493n is 2N is 4\n"
     ]
    },
    {
     "name": "stderr",
     "output_type": "stream",
     "text": [
      "\u001b[36m\u001b[1m[ \u001b[22m\u001b[39m\u001b[36m\u001b[1mInfo: \u001b[22m\u001b[39m started timer at: 2025-03-07T03:28:01.563\n"
     ]
    },
    {
     "name": "stdout",
     "output_type": "stream",
     "text": [
      "40\n",
      "K : 8\n",
      "[0 -1600 -100 -1200 -2000]\n",
      "Finding best nN policy...\n",
      "Rewards of (n, N)-policy is-19967.82225956323n is 2N is 4\n",
      "40\n",
      "K : 8\n",
      "[0 -2000 -100 -1200 -2000]\n",
      "Finding best nN policy...\n"
     ]
    },
    {
     "name": "stderr",
     "output_type": "stream",
     "text": [
      "\u001b[36m\u001b[1m[ \u001b[22m\u001b[39m\u001b[36m\u001b[1mInfo: \u001b[22m\u001b[39m started timer at: 2025-03-07T03:48:12.007\n"
     ]
    },
    {
     "name": "stdout",
     "output_type": "stream",
     "text": [
      "Rewards of (n, N)-policy is-21594.414345719222n is 2N is 4\n",
      "40\n",
      "K : 8\n",
      "[0 -2400 -100 -1200 -2000]\n",
      "Finding best nN policy...\n"
     ]
    },
    {
     "name": "stderr",
     "output_type": "stream",
     "text": [
      "\u001b[36m\u001b[1m[ \u001b[22m\u001b[39m\u001b[36m\u001b[1mInfo: \u001b[22m\u001b[39m started timer at: 2025-03-07T04:08:33.589\n"
     ]
    },
    {
     "name": "stdout",
     "output_type": "stream",
     "text": [
      "Rewards of (n, N)-policy is-23176.46285475681n is 2N is 4\n",
      "40\n",
      "K : 8\n",
      "[0 -2800 -100 -1200 -2000]\n",
      "Finding best nN policy...\n"
     ]
    },
    {
     "name": "stderr",
     "output_type": "stream",
     "text": [
      "\u001b[36m\u001b[1m[ \u001b[22m\u001b[39m\u001b[36m\u001b[1mInfo: \u001b[22m\u001b[39m started timer at: 2025-03-07T04:28:43.989\n"
     ]
    },
    {
     "name": "stdout",
     "output_type": "stream",
     "text": [
      "Rewards of (n, N)-policy is-24783.027486675852n is 2N is 4\n",
      "40\n",
      "K : 8\n",
      "[0 -3200 -100 -1200"
     ]
    },
    {
     "name": "stderr",
     "output_type": "stream",
     "text": [
      "\u001b[36m\u001b[1m[ \u001b[22m\u001b[39m\u001b[36m\u001b[1mInfo: \u001b[22m\u001b[39m started timer at: 2025-03-07T04:49:14.409\n"
     ]
    },
    {
     "name": "stdout",
     "output_type": "stream",
     "text": [
      " -2000]\n",
      "Finding best nN policy...\n",
      "Rewards of (n, N)-policy is-26377.992172943028n is 2N is 4\n",
      "40\n",
      "K : 10\n",
      "[0 -800 -100 -1200 -2000]\n",
      "Finding best nN policy...\n"
     ]
    },
    {
     "name": "stderr",
     "output_type": "stream",
     "text": [
      "\u001b[36m\u001b[1m[ \u001b[22m\u001b[39m\u001b[36m\u001b[1mInfo: \u001b[22m\u001b[39m started timer at: 2025-03-07T05:09:38.010\n"
     ]
    },
    {
     "name": "stdout",
     "output_type": "stream",
     "text": [
      "Rewards of (n, N)-policy is-16747.381826910518n is 2N is 4\n",
      "40\n",
      "K : 10\n",
      "[0 -1200 -100 -1200 -2000]\n",
      "Finding best nN policy...\n"
     ]
    },
    {
     "name": "stderr",
     "output_type": "stream",
     "text": [
      "\u001b[36m\u001b[1m[ \u001b[22m\u001b[39m\u001b[36m\u001b[1mInfo: \u001b[22m\u001b[39m started timer at: 2025-03-07T05:29:54.295\n"
     ]
    },
    {
     "name": "stdout",
     "output_type": "stream",
     "text": [
      "Rewards of (n, N)-policy is-18357.423561881107n is 2N is 4\n",
      "40\n",
      "K : 10\n",
      "[0 -1600 -100 -1200 -2000]\n",
      "Finding best nN policy...\n"
     ]
    },
    {
     "name": "stderr",
     "output_type": "stream",
     "text": [
      "\u001b[36m\u001b[1m[ \u001b[22m\u001b[39m\u001b[36m\u001b[1mInfo: \u001b[22m\u001b[39m started timer at: 2025-03-07T05:50:15.107\n"
     ]
    },
    {
     "name": "stdout",
     "output_type": "stream",
     "text": [
      "Rewards of (n, N)-policy is-19909.751186866048n is 2N is 4\n",
      "40\n",
      "K : 10\n",
      "[0 -2000 -100 -1200 -2000]\n",
      "Finding best nN policy...\n"
     ]
    },
    {
     "name": "stderr",
     "output_type": "stream",
     "text": [
      "\u001b[36m\u001b[1m[ \u001b[22m\u001b[39m\u001b[36m\u001b[1mInfo: \u001b[22m\u001b[39m started timer at: 2025-03-07T06:10:37.428\n"
     ]
    },
    {
     "name": "stdout",
     "output_type": "stream",
     "text": [
      "Rewards of (n, N)-policy is-21575.16724044742n is 2N is 4\n",
      "40\n",
      "K : 10\n",
      "[0 -2400 -100 -1200 -2000]\n",
      "Finding best nN policy...\n"
     ]
    },
    {
     "name": "stderr",
     "output_type": "stream",
     "text": [
      "\u001b[36m\u001b[1m[ \u001b[22m\u001b[39m\u001b[36m\u001b[1mInfo: \u001b[22m\u001b[39m started timer at: 2025-03-07T06:30:42.866\n"
     ]
    },
    {
     "name": "stdout",
     "output_type": "stream",
     "text": [
      "Rewards of (n, N)-policy is-23212.44631494832n is 2N is 4\n",
      "40\n",
      "K : 10\n",
      "[0 -2800 -100 -1200 -2000]\n",
      "Finding best nN policy...\n"
     ]
    },
    {
     "name": "stderr",
     "output_type": "stream",
     "text": [
      "\u001b[36m\u001b[1m[ \u001b[22m\u001b[39m\u001b[36m\u001b[1mInfo: \u001b[22m\u001b[39m started timer at: 2025-03-07T06:51:04.913\n"
     ]
    },
    {
     "name": "stdout",
     "output_type": "stream",
     "text": [
      "Rewards of (n, N)-policy is-24770.23965247657n is 2N is 4\n",
      "40\n",
      "K : 10\n",
      "[0 -3200 -100 -1200 -2000]\n",
      "Finding best nN policy...\n"
     ]
    },
    {
     "name": "stderr",
     "output_type": "stream",
     "text": [
      "\u001b[36m\u001b[1m[ \u001b[22m\u001b[39m\u001b[36m\u001b[1mInfo: \u001b[22m\u001b[39m started timer at: 2025-03-07T07:11:23.392\n"
     ]
    },
    {
     "name": "stdout",
     "output_type": "stream",
     "text": [
      "Rewards of (n, N)-policy is-26372.782661815516n is 2N is 4\n",
      "40\n",
      "K : 12\n",
      "[0 -800 -100 -1200 -2000]\n",
      "Finding best nN policy...\n"
     ]
    },
    {
     "name": "stderr",
     "output_type": "stream",
     "text": [
      "\u001b[36m\u001b[1m[ \u001b[22m\u001b[39m\u001b[36m\u001b[1mInfo: \u001b[22m\u001b[39m started timer at: 2025-03-07T07:31:36.224\n"
     ]
    },
    {
     "name": "stdout",
     "output_type": "stream",
     "text": [
      "Rewards of (n, N)-policy is-16737.92284765135n is 2N is 4\n",
      "40\n",
      "K : 12\n",
      "[0 -1200 -100 -1200 -2000]\n",
      "Finding best nN policy...\n"
     ]
    },
    {
     "name": "stderr",
     "output_type": "stream",
     "text": [
      "\u001b[36m\u001b[1m[ \u001b[22m\u001b[39m\u001b[36m\u001b[1mInfo: \u001b[22m\u001b[39m started timer at: 2025-03-07T07:52:00.827\n"
     ]
    },
    {
     "name": "stdout",
     "output_type": "stream",
     "text": [
      "Rewards of (n, N)-policy is-18302.825553949602n is 2N is 4\n",
      "40\n",
      "K : 12\n",
      "[0 -1600 -100 -1200 -2000]\n",
      "Finding best nN policy...\n"
     ]
    },
    {
     "name": "stderr",
     "output_type": "stream",
     "text": [
      "\u001b[36m\u001b[1m[ \u001b[22m\u001b[39m\u001b[36m\u001b[1mInfo: \u001b[22m\u001b[39m started timer at: 2025-03-07T08:12:37.911\n"
     ]
    },
    {
     "name": "stdout",
     "output_type": "stream",
     "text": [
      "Rewards of (n, N)-policy is-19960.382735311712n is 2N is 4\n",
      "40\n",
      "K : 12\n",
      "[0 -2000 -100 -1200 -2000]\n",
      "Finding best nN policy...\n"
     ]
    },
    {
     "name": "stderr",
     "output_type": "stream",
     "text": [
      "\u001b[36m\u001b[1m[ \u001b[22m\u001b[39m\u001b[36m\u001b[1mInfo: \u001b[22m\u001b[39m started timer at: 2025-03-07T08:32:48.643\n"
     ]
    },
    {
     "name": "stdout",
     "output_type": "stream",
     "text": [
      "Rewards of (n, N)-policy is-21599.035163820423n is 2N is 4\n",
      "40\n",
      "K : 12\n",
      "[0 -2400 -100 -1200 -2000]\n",
      "Finding best nN policy...\n"
     ]
    },
    {
     "name": "stderr",
     "output_type": "stream",
     "text": [
      "\u001b[36m\u001b[1m[ \u001b[22m\u001b[39m\u001b[36m\u001b[1mInfo: \u001b[22m\u001b[39m started timer at: 2025-03-07T08:52:57.002\n"
     ]
    },
    {
     "name": "stdout",
     "output_type": "stream",
     "text": [
      "Rewards of (n, N)-policy is-23170.32370484078n is 2N is 4\n",
      "40\n",
      "K : 12\n",
      "[0 -2800 -100 -1200 -2000]\n",
      "Finding best nN policy...\n"
     ]
    },
    {
     "name": "stderr",
     "output_type": "stream",
     "text": [
      "\u001b[36m\u001b[1m[ \u001b[22m\u001b[39m\u001b[36m\u001b[1mInfo: \u001b[22m\u001b[39m started timer at: 2025-03-07T09:13:14.362\n"
     ]
    },
    {
     "name": "stdout",
     "output_type": "stream",
     "text": [
      "Rewards of (n, N)-policy is-24783.83143282898n is 2N is 4\n",
      "40"
     ]
    },
    {
     "name": "stderr",
     "output_type": "stream",
     "text": [
      "\u001b[36m\u001b[1m[ \u001b[22m\u001b[39m\u001b[36m\u001b[1mInfo: \u001b[22m\u001b[39m started timer at: 2025-03-07T09:33:26.755\n"
     ]
    },
    {
     "name": "stdout",
     "output_type": "stream",
     "text": [
      "\n",
      "K : 12\n",
      "[0 -3200 -100 -1200 -2000]\n",
      "Finding best nN policy...\n",
      "Rewards of (n, N)-policy is-26418.376434795977n is 2N is 4\n",
      "40\n",
      "K : 14\n",
      "[0 -800 -100 -1200 -2000]\n",
      "Finding best nN policy...\n"
     ]
    },
    {
     "name": "stderr",
     "output_type": "stream",
     "text": [
      "\u001b[36m\u001b[1m[ \u001b[22m\u001b[39m\u001b[36m\u001b[1mInfo: \u001b[22m\u001b[39m started timer at: 2025-03-07T09:53:38.492\n"
     ]
    },
    {
     "name": "stdout",
     "output_type": "stream",
     "text": [
      "Rewards of (n, N)-policy is-16736.860735010017n is 2N is 4\n",
      "40\n",
      "K : 14\n",
      "[0 -1200 -100 -1200 -2000]\n",
      "Finding best nN policy...\n"
     ]
    },
    {
     "name": "stderr",
     "output_type": "stream",
     "text": [
      "\u001b[36m\u001b[1m[ \u001b[22m\u001b[39m\u001b[36m\u001b[1mInfo: \u001b[22m\u001b[39m started timer at: 2025-03-07T10:13:55.166\n"
     ]
    },
    {
     "name": "stdout",
     "output_type": "stream",
     "text": [
      "Rewards of (n, N)-policy is-18322.977666231458n is 2N is 4\n"
     ]
    },
    {
     "name": "stderr",
     "output_type": "stream",
     "text": [
      "\u001b[36m\u001b[1m[ \u001b[22m\u001b[39m\u001b[36m\u001b[1mInfo: \u001b[22m\u001b[39m started timer at: 2025-03-07T10:34:09.487\n"
     ]
    },
    {
     "name": "stdout",
     "output_type": "stream",
     "text": [
      "40\n",
      "K : 14\n",
      "[0 -1600 -100 -1200 -2000]\n",
      "Finding best nN policy...\n",
      "Rewards of (n, N)-policy is-19985.96124142439n is 2N is 4\n",
      "40\n",
      "K : 14\n",
      "[0 -2000 -100 -1200 -2000]\n",
      "Finding best nN policy...\n"
     ]
    },
    {
     "name": "stderr",
     "output_type": "stream",
     "text": [
      "\u001b[36m\u001b[1m[ \u001b[22m\u001b[39m\u001b[36m\u001b[1mInfo: \u001b[22m\u001b[39m started timer at: 2025-03-07T10:54:21.494\n"
     ]
    },
    {
     "name": "stdout",
     "output_type": "stream",
     "text": [
      "Rewards of (n, N)-policy is-21589.292211871543n is 2N is 4\n",
      "40\n",
      "K : 14\n",
      "[0 -2400 -100 -1200 -2000]\n",
      "Finding best nN policy...\n"
     ]
    },
    {
     "name": "stderr",
     "output_type": "stream",
     "text": [
      "\u001b[36m\u001b[1m[ \u001b[22m\u001b[39m\u001b[36m\u001b[1mInfo: \u001b[22m\u001b[39m started timer at: 2025-03-07T11:14:33.690\n"
     ]
    },
    {
     "name": "stdout",
     "output_type": "stream",
     "text": [
      "Rewards of (n, N)-policy is-23145.703888991862n is 2N is 4\n",
      "40\n",
      "K : 14\n",
      "[0 -2800 -100 -1200 -2000]\n",
      "Finding best nN policy...\n"
     ]
    },
    {
     "name": "stderr",
     "output_type": "stream",
     "text": [
      "\u001b[36m\u001b[1m[ \u001b[22m\u001b[39m\u001b[36m\u001b[1mInfo: \u001b[22m\u001b[39m started timer at: 2025-03-07T11:34:50.320\n"
     ]
    },
    {
     "name": "stdout",
     "output_type": "stream",
     "text": [
      "Rewards of (n, N)-policy is-24807.570268478114n is 2N is 4\n",
      "40\n",
      "K : 14\n",
      "[0 -3200 -100 -1200 -2000]\n",
      "Finding best nN policy...\n"
     ]
    },
    {
     "name": "stderr",
     "output_type": "stream",
     "text": [
      "\u001b[36m\u001b[1m[ \u001b[22m\u001b[39m\u001b[36m\u001b[1mInfo: \u001b[22m\u001b[39m started timer at: 2025-03-07T11:55:13.268\n"
     ]
    },
    {
     "name": "stdout",
     "output_type": "stream",
     "text": [
      "Rewards of (n, N)-policy is-26399.793558146863n is 2N is 4\n",
      "40\n",
      "K : 16\n",
      "[0 -800 -100 -1200 -2000]\n",
      "Finding best nN policy...\n"
     ]
    },
    {
     "name": "stderr",
     "output_type": "stream",
     "text": [
      "\u001b[36m\u001b[1m[ \u001b[22m\u001b[39m\u001b[36m\u001b[1mInfo: \u001b[22m\u001b[39m started timer at: 2025-03-07T12:15:43.396\n"
     ]
    },
    {
     "name": "stdout",
     "output_type": "stream",
     "text": [
      "Rewards of (n, N)-policy is-16747.43944881816n is 2N is 4\n",
      "40\n",
      "K : 16\n",
      "[0 -1200 -100 -1200 -2000]\n",
      "Finding best nN policy...\n"
     ]
    },
    {
     "name": "stderr",
     "output_type": "stream",
     "text": [
      "\u001b[36m\u001b[1m[ \u001b[22m\u001b[39m\u001b[36m\u001b[1mInfo: \u001b[22m\u001b[39m started timer at: 2025-03-07T12:35:59.297\n"
     ]
    },
    {
     "name": "stdout",
     "output_type": "stream",
     "text": [
      "Rewards of (n, N)-policy is-18327.7581136475n is 2N is 4\n",
      "40\n",
      "K : 16\n",
      "[0 -1600 -100 -1200 -2000]\n",
      "Finding best nN policy...\n"
     ]
    },
    {
     "name": "stderr",
     "output_type": "stream",
     "text": [
      "\u001b[36m\u001b[1m[ \u001b[22m\u001b[39m\u001b[36m\u001b[1mInfo: \u001b[22m\u001b[39m started timer at: 2025-03-07T12:56:10.757\n"
     ]
    },
    {
     "name": "stdout",
     "output_type": "stream",
     "text": [
      "Rewards of (n, N)-policy is-19974.349192364763n is 2N is 4\n",
      "40\n",
      "K : 16\n",
      "[0 -2000 -100 -1200 -2000]\n",
      "Finding best nN policy...\n"
     ]
    },
    {
     "name": "stderr",
     "output_type": "stream",
     "text": [
      "\u001b[36m\u001b[1m[ \u001b[22m\u001b[39m\u001b[36m\u001b[1mInfo: \u001b[22m\u001b[39m started timer at: 2025-03-07T13:16:36.725\n"
     ]
    },
    {
     "name": "stdout",
     "output_type": "stream",
     "text": [
      "Rewards of (n, N)-policy is-21549.75537444459n is 2N is 4\n",
      "40\n",
      "K : 16\n",
      "[0 -2400 -100 -1200 -2000]\n",
      "Finding best nN policy...\n"
     ]
    },
    {
     "name": "stderr",
     "output_type": "stream",
     "text": [
      "\u001b[36m\u001b[1m[ \u001b[22m\u001b[39m\u001b[36m\u001b[1mInfo: \u001b[22m\u001b[39m started timer at: 2025-03-07T13:37:08.250\n"
     ]
    },
    {
     "name": "stdout",
     "output_type": "stream",
     "text": [
      "Rewards of (n, N)-policy is-23157.717111688144n is 2N is 4\n"
     ]
    },
    {
     "name": "stderr",
     "output_type": "stream",
     "text": [
      "\u001b[36m\u001b[1m[ \u001b[22m\u001b[39m\u001b[36m\u001b[1mInfo: \u001b[22m\u001b[39m started timer at: 2025-03-07T13:57:18.883\n"
     ]
    },
    {
     "name": "stdout",
     "output_type": "stream",
     "text": [
      "40\n",
      "K : 16\n",
      "[0 -2800 -100 -1200 -2000]\n",
      "Finding best nN policy...\n",
      "Rewards of (n, N)-policy is-24757.961270852895n is 2N is 4\n",
      "40\n",
      "K : 16\n",
      "[0 -3200 -100 -1200 -2000]\n",
      "Finding best nN policy...\n"
     ]
    },
    {
     "name": "stderr",
     "output_type": "stream",
     "text": [
      "\u001b[36m\u001b[1m[ \u001b[22m\u001b[39m\u001b[36m\u001b[1mInfo: \u001b[22m\u001b[39m started timer at: 2025-03-07T14:17:48.145\n"
     ]
    },
    {
     "name": "stdout",
     "output_type": "stream",
     "text": [
      "Rewards of (n, N)-policy is-26398.729530362587n is 2N is 4\n",
      "40\n",
      "K : 18\n",
      "[0 -800 -100 -1200 -2000]\n",
      "Finding best nN policy...\n"
     ]
    },
    {
     "name": "stderr",
     "output_type": "stream",
     "text": [
      "\u001b[36m\u001b[1m[ \u001b[22m\u001b[39m\u001b[36m\u001b[1mInfo: \u001b[22m\u001b[39m started timer at: 2025-03-07T14:38:08.196\n"
     ]
    },
    {
     "name": "stdout",
     "output_type": "stream",
     "text": [
      "Rewards of (n, N)-policy is-16705.908169948692n is 2N is 4\n"
     ]
    },
    {
     "name": "stderr",
     "output_type": "stream",
     "text": [
      "\u001b[36m\u001b[1m[ \u001b[22m\u001b[39m\u001b[36m\u001b[1mInfo: \u001b[22m\u001b[39m started timer at: 2025-03-07T14:58:23.090\n"
     ]
    },
    {
     "name": "stdout",
     "output_type": "stream",
     "text": [
      "40\n",
      "K : 18\n",
      "[0 -1200 -100 -1200 -2000]\n",
      "Finding best nN policy...\n",
      "Rewards of (n, N)-policy is-18307.169651788776n is 2N is 4\n",
      "40\n",
      "K : 18\n",
      "[0 -1600 -100 -1200 -2000]\n",
      "Finding best nN policy...\n"
     ]
    },
    {
     "name": "stderr",
     "output_type": "stream",
     "text": [
      "\u001b[36m\u001b[1m[ \u001b[22m\u001b[39m\u001b[36m\u001b[1mInfo: \u001b[22m\u001b[39m started timer at: 2025-03-07T15:18:54.983\n"
     ]
    },
    {
     "name": "stdout",
     "output_type": "stream",
     "text": [
      "Rewards of (n, N)-policy is-19980.031973072746n is 2N is 4\n",
      "40\n",
      "K : 18\n",
      "[0 -2000 -100 -1200 -2000]\n",
      "Finding best nN policy...\n"
     ]
    },
    {
     "name": "stderr",
     "output_type": "stream",
     "text": [
      "\u001b[36m\u001b[1m[ \u001b[22m\u001b[39m\u001b[36m\u001b[1mInfo: \u001b[22m\u001b[39m started timer at: 2025-03-07T15:39:19.091\n"
     ]
    },
    {
     "name": "stdout",
     "output_type": "stream",
     "text": [
      "Rewards of (n, N)-policy is-21569.843927547452n is 2N is 4\n",
      "40\n",
      "K : 18\n",
      "[0 -2400 -100 -1200 -2000]\n",
      "Finding best nN policy...\n"
     ]
    },
    {
     "name": "stderr",
     "output_type": "stream",
     "text": [
      "\u001b[36m\u001b[1m[ \u001b[22m\u001b[39m\u001b[36m\u001b[1mInfo: \u001b[22m\u001b[39m started timer at: 2025-03-07T16:00:06.828\n"
     ]
    },
    {
     "name": "stdout",
     "output_type": "stream",
     "text": [
      "Rewards of (n, N)-policy is-23168.416803972195n is 2N is 4\n",
      "40\n",
      "K : 18\n",
      "[0 -2800 -100 -1200 -2000]\n",
      "Finding best nN policy...\n"
     ]
    },
    {
     "name": "stderr",
     "output_type": "stream",
     "text": [
      "\u001b[36m\u001b[1m[ \u001b[22m\u001b[39m\u001b[36m\u001b[1mInfo: \u001b[22m\u001b[39m started timer at: 2025-03-07T16:33:47.786\n"
     ]
    },
    {
     "name": "stdout",
     "output_type": "stream",
     "text": [
      "Rewards of (n, N)-policy is-24795.231045900488n is 2N is 4\n",
      "40\n",
      "K : 18\n",
      "[0 -3200 -100 -1200 -2000]\n",
      "Finding best nN policy...\n"
     ]
    },
    {
     "name": "stderr",
     "output_type": "stream",
     "text": [
      "\u001b[36m\u001b[1m[ \u001b[22m\u001b[39m\u001b[36m\u001b[1mInfo: \u001b[22m\u001b[39m started timer at: 2025-03-07T17:05:35.469\n"
     ]
    },
    {
     "name": "stdout",
     "output_type": "stream",
     "text": [
      "Rewards of (n, N)-policy is-26408.618653046153n is 2N is 4\n",
      "40\n",
      "K : 20\n",
      "[0 -800 -100 -1200 -2000]\n",
      "Finding best nN policy...\n"
     ]
    },
    {
     "name": "stderr",
     "output_type": "stream",
     "text": [
      "\u001b[36m\u001b[1m[ \u001b[22m\u001b[39m\u001b[36m\u001b[1mInfo: \u001b[22m\u001b[39m started timer at: 2025-03-07T17:37:33.478\n"
     ]
    },
    {
     "name": "stdout",
     "output_type": "stream",
     "text": [
      "Rewards of (n, N)-policy is-16744.234334322875n is 2N is 4\n",
      "40\n",
      "K : 20\n",
      "[0 -1200 -100 -1200 -2000]\n",
      "Finding best nN policy...\n"
     ]
    },
    {
     "name": "stderr",
     "output_type": "stream",
     "text": [
      "\u001b[36m\u001b[1m[ \u001b[22m\u001b[39m\u001b[36m\u001b[1mInfo: \u001b[22m\u001b[39m started timer at: 2025-03-07T18:09:22.382\n"
     ]
    },
    {
     "name": "stdout",
     "output_type": "stream",
     "text": [
      "Rewards of (n, N)-policy is-18372.612319318818n is 2N is 4\n",
      "40\n",
      "K : 20\n",
      "[0 -1600 -100 -1200 -2000]\n",
      "Finding best nN policy...\n"
     ]
    },
    {
     "name": "stderr",
     "output_type": "stream",
     "text": [
      "\u001b[36m\u001b[1m[ \u001b[22m\u001b[39m\u001b[36m\u001b[1mInfo: \u001b[22m\u001b[39m started timer at: 2025-03-07T18:41:17.079\n"
     ]
    },
    {
     "name": "stdout",
     "output_type": "stream",
     "text": [
      "Rewards of (n, N)-policy is-19980.333053824143n is 2N is 4\n",
      "40\n",
      "K : 20\n",
      "[0 -2000 -100 -1200 -2000]\n",
      "Finding best nN policy...\n"
     ]
    },
    {
     "name": "stderr",
     "output_type": "stream",
     "text": [
      "\u001b[36m\u001b[1m[ \u001b[22m\u001b[39m\u001b[36m\u001b[1mInfo: \u001b[22m\u001b[39m started timer at: 2025-03-07T19:13:10.066\n"
     ]
    },
    {
     "name": "stdout",
     "output_type": "stream",
     "text": [
      "Rewards of (n, N)-policy is-21554.680037382233n is 2N is 4\n",
      "40\n",
      "K : 20\n",
      "[0 -2400 -100 -1200 -2000]\n",
      "Finding best nN policy...\n"
     ]
    },
    {
     "name": "stderr",
     "output_type": "stream",
     "text": [
      "\u001b[36m\u001b[1m[ \u001b[22m\u001b[39m\u001b[36m\u001b[1mInfo: \u001b[22m\u001b[39m started timer at: 2025-03-07T19:42:08.705\n"
     ]
    },
    {
     "name": "stdout",
     "output_type": "stream",
     "text": [
      "Rewards of (n, N)-policy is-23146.870293393033n is 2N is 4\n",
      "40\n",
      "K : 20\n",
      "[0 -2800 -100 -1200 -2000]\n",
      "Finding best nN policy...\n"
     ]
    },
    {
     "name": "stderr",
     "output_type": "stream",
     "text": [
      "\u001b[36m\u001b[1m[ \u001b[22m\u001b[39m\u001b[36m\u001b[1mInfo: \u001b[22m\u001b[39m started timer at: 2025-03-07T20:02:31.620\n"
     ]
    },
    {
     "name": "stdout",
     "output_type": "stream",
     "text": [
      "Rewards of (n, N)-policy is-24815.958743034666n is 2N is 4\n",
      "40\n",
      "K : 20\n",
      "[0 -3200 -100 -1200 -2000]\n",
      "Finding best nN policy...\n"
     ]
    },
    {
     "name": "stderr",
     "output_type": "stream",
     "text": [
      "\u001b[36m\u001b[1m[ \u001b[22m\u001b[39m\u001b[36m\u001b[1mInfo: \u001b[22m\u001b[39m started timer at: 2025-03-07T20:22:39.591\n"
     ]
    },
    {
     "name": "stdout",
     "output_type": "stream",
     "text": [
      "Rewards of (n, N)-policy is-26375.22853350762n is 2N is 4\n"
     ]
    },
    {
     "name": "stderr",
     "output_type": "stream",
     "text": [
      "\u001b[36m\u001b[1m[ \u001b[22m\u001b[39m\u001b[36m\u001b[1mInfo: \u001b[22m\u001b[39m started timer at: 2025-03-07T20:43:04.459\n"
     ]
    },
    {
     "name": "stdout",
     "output_type": "stream",
     "text": [
      "50\n",
      "K : 2\n",
      "[0 -800 -100 -1200 -2000]\n",
      "Finding best nN policy...\n",
      "Rewards of (n, N)-policy is-22302.14338496697n is 2N is 4\n",
      "50"
     ]
    },
    {
     "name": "stderr",
     "output_type": "stream",
     "text": [
      "\u001b[36m\u001b[1m[ \u001b[22m\u001b[39m\u001b[36m\u001b[1mInfo: \u001b[22m\u001b[39m started timer at: 2025-03-07T21:08:19.235\n"
     ]
    },
    {
     "name": "stdout",
     "output_type": "stream",
     "text": [
      "\n",
      "K : 2\n",
      "[0 -1200 -100 -1200 -2000]\n",
      "Finding best nN policy...\n",
      "Rewards of (n, N)-policy is-24074.31779128671n is 2N is 4\n",
      "50\n",
      "K : 2\n",
      "[0 -1600 -100 -1200 -2000]\n",
      "Finding best nN policy...\n"
     ]
    },
    {
     "name": "stderr",
     "output_type": "stream",
     "text": [
      "\u001b[36m\u001b[1m[ \u001b[22m\u001b[39m\u001b[36m\u001b[1mInfo: \u001b[22m\u001b[39m started timer at: 2025-03-07T21:34:15.829\n"
     ]
    },
    {
     "name": "stdout",
     "output_type": "stream",
     "text": [
      "Rewards of (n, N)-policy is-25750.205808239138n is 2N is 4\n",
      "50\n",
      "K : 2\n",
      "[0 -2000 -100 -1200 -2000]\n",
      "Finding best nN policy...\n"
     ]
    },
    {
     "name": "stderr",
     "output_type": "stream",
     "text": [
      "\u001b[36m\u001b[1m[ \u001b[22m\u001b[39m\u001b[36m\u001b[1mInfo: \u001b[22m\u001b[39m started timer at: 2025-03-07T21:59:26.663\n"
     ]
    },
    {
     "name": "stdout",
     "output_type": "stream",
     "text": [
      "Rewards of (n, N)-policy is-27494.85019449154n is 2N is 4\n",
      "50\n",
      "K : 2\n",
      "[0 -2400 -100 -1200 -2000]\n",
      "Finding best nN policy...\n"
     ]
    },
    {
     "name": "stderr",
     "output_type": "stream",
     "text": [
      "\u001b[36m\u001b[1m[ \u001b[22m\u001b[39m\u001b[36m\u001b[1mInfo: \u001b[22m\u001b[39m started timer at: 2025-03-07T22:24:44.958\n"
     ]
    },
    {
     "name": "stdout",
     "output_type": "stream",
     "text": [
      "Rewards of (n, N)-policy is-29210.34900934912n is 2N is 4\n",
      "50\n",
      "K : 2\n",
      "[0 -2800 -100 -1200 -2000]\n",
      "Finding best nN policy...\n"
     ]
    },
    {
     "name": "stderr",
     "output_type": "stream",
     "text": [
      "\u001b[36m\u001b[1m[ \u001b[22m\u001b[39m\u001b[36m\u001b[1mInfo: \u001b[22m\u001b[39m started timer at: 2025-03-07T22:50:29.694\n"
     ]
    },
    {
     "name": "stdout",
     "output_type": "stream",
     "text": [
      "Rewards of (n, N)-policy is-31045.20811147138n is 2N is 4\n",
      "50\n",
      "K : 2\n",
      "[0 -3200 -100 -1200 -2000]\n",
      "Finding best nN policy...\n"
     ]
    },
    {
     "name": "stderr",
     "output_type": "stream",
     "text": [
      "\u001b[36m\u001b[1m[ \u001b[22m\u001b[39m\u001b[36m\u001b[1mInfo: \u001b[22m\u001b[39m started timer at: 2025-03-07T23:26:44.010\n"
     ]
    },
    {
     "name": "stdout",
     "output_type": "stream",
     "text": [
      "Rewards of (n, N)-policy is-32735.410529419452n is 2N is 4\n",
      "50\n",
      "K : 4\n",
      "[0 -800 -100 -1200 -2000]\n",
      "Finding best nN policy...\n"
     ]
    },
    {
     "name": "stderr",
     "output_type": "stream",
     "text": [
      "\u001b[36m\u001b[1m[ \u001b[22m\u001b[39m\u001b[36m\u001b[1mInfo: \u001b[22m\u001b[39m started timer at: 2025-03-08T00:05:01.102\n"
     ]
    },
    {
     "name": "stdout",
     "output_type": "stream",
     "text": [
      "Rewards of (n, N)-policy is-19966.68116373162n is 2N is 4\n",
      "50\n",
      "K : 4\n",
      "[0 "
     ]
    },
    {
     "name": "stderr",
     "output_type": "stream",
     "text": [
      "\u001b[36m\u001b[1m[ \u001b[22m\u001b[39m\u001b[36m\u001b[1mInfo: \u001b[22m\u001b[39m started timer at: 2025-03-08T00:43:23.868\n"
     ]
    },
    {
     "name": "stdout",
     "output_type": "stream",
     "text": [
      "-1200 -100 -1200 -2000]\n",
      "Finding best nN policy...\n",
      "Rewards of (n, N)-policy is-21718.80895917966n is 2N is 4\n",
      "50\n",
      "K : 4\n",
      "[0 -1600 -100 -1200 -2000]\n",
      "Finding best nN policy...\n"
     ]
    },
    {
     "name": "stderr",
     "output_type": "stream",
     "text": [
      "\u001b[36m\u001b[1m[ \u001b[22m\u001b[39m\u001b[36m\u001b[1mInfo: \u001b[22m\u001b[39m started timer at: 2025-03-08T01:21:38.219\n"
     ]
    },
    {
     "name": "stdout",
     "output_type": "stream",
     "text": [
      "Rewards of (n, N)-policy is-23456.436882220438n is 2N is 4\n",
      "50\n",
      "K : 4\n",
      "[0 -2000 -100 -1200 -2000]\n",
      "Finding best nN policy...\n"
     ]
    },
    {
     "name": "stderr",
     "output_type": "stream",
     "text": [
      "\u001b[36m\u001b[1m[ \u001b[22m\u001b[39m\u001b[36m\u001b[1mInfo: \u001b[22m\u001b[39m started timer at: 2025-03-08T01:52:01.456\n"
     ]
    },
    {
     "name": "stdout",
     "output_type": "stream",
     "text": [
      "Rewards of (n, N)-policy is-25168.18301611427n is 2N is 4\n",
      "50\n",
      "K : 4\n",
      "[0 -2400 -100 -1200 -2000]\n",
      "Finding best nN policy...\n"
     ]
    },
    {
     "name": "stderr",
     "output_type": "stream",
     "text": [
      "\u001b[36m\u001b[1m[ \u001b[22m\u001b[39m\u001b[36m\u001b[1mInfo: \u001b[22m\u001b[39m started timer at: 2025-03-08T02:18:16.705\n"
     ]
    },
    {
     "name": "stdout",
     "output_type": "stream",
     "text": [
      "Rewards of (n, N)-policy is-26932.618385872698n is 2N is 4\n",
      "50\n",
      "K : 4\n",
      "[0 -2800 -100 -1200 -2000]\n",
      "Finding best nN policy...\n"
     ]
    },
    {
     "name": "stderr",
     "output_type": "stream",
     "text": [
      "\u001b[36m\u001b[1m[ \u001b[22m\u001b[39m\u001b[36m\u001b[1mInfo: \u001b[22m\u001b[39m started timer at: 2025-03-08T02:43:36.319\n"
     ]
    },
    {
     "name": "stdout",
     "output_type": "stream",
     "text": [
      "Rewards of (n, N)-policy is-28641.22804604464n is 2N is 4\n",
      "50\n",
      "K : 4\n",
      "[0 -3200 -100 -1200 -2000]\n",
      "Finding best nN policy...\n"
     ]
    },
    {
     "name": "stderr",
     "output_type": "stream",
     "text": [
      "\u001b[36m\u001b[1m[ \u001b[22m\u001b[39m\u001b[36m\u001b[1mInfo: \u001b[22m\u001b[39m started timer at: 2025-03-08T03:09:04.836\n"
     ]
    },
    {
     "name": "stdout",
     "output_type": "stream",
     "text": [
      "Rewards of (n, N)-policy is-30363.73579623439n is 2N is 4\n",
      "50\n",
      "K : 6\n",
      "[0 -800 -100 -1200 -2000]\n",
      "Finding best nN policy...\n"
     ]
    },
    {
     "name": "stderr",
     "output_type": "stream",
     "text": [
      "\u001b[36m\u001b[1m[ \u001b[22m\u001b[39m\u001b[36m\u001b[1mInfo: \u001b[22m\u001b[39m started timer at: 2025-03-08T03:34:37.927\n"
     ]
    },
    {
     "name": "stdout",
     "output_type": "stream",
     "text": [
      "Rewards of (n, N)-policy is-19805.388862197724n is 2N is 4\n",
      "50\n",
      "K : 6\n",
      "[0 -1200 -100 -1200 -2000]\n",
      "Finding best nN policy...\n"
     ]
    },
    {
     "name": "stderr",
     "output_type": "stream",
     "text": [
      "\u001b[36m\u001b[1m[ \u001b[22m\u001b[39m\u001b[36m\u001b[1mInfo: \u001b[22m\u001b[39m started timer at: 2025-03-08T04:00:19.222\n"
     ]
    },
    {
     "name": "stdout",
     "output_type": "stream",
     "text": [
      "Rewards of (n, N)-policy is-21596.375671221598n is 2N is 4\n",
      "50\n",
      "K : 6\n"
     ]
    },
    {
     "name": "stderr",
     "output_type": "stream",
     "text": [
      "\u001b[36m\u001b[1m[ \u001b[22m\u001b[39m\u001b[36m\u001b[1mInfo: \u001b[22m\u001b[39m started timer at: 2025-03-08T04:25:42.683\n"
     ]
    },
    {
     "name": "stdout",
     "output_type": "stream",
     "text": [
      "[0 -1600 -100 -1200 -2000]\n",
      "Finding best nN policy...\n",
      "Rewards of (n, N)-policy is-23277.96037202743n is 2N is 4\n",
      "50\n",
      "K : 6\n",
      "[0 -2000 -100 -1200 -2000]\n",
      "Finding best nN policy...\n"
     ]
    },
    {
     "name": "stderr",
     "output_type": "stream",
     "text": [
      "\u001b[36m\u001b[1m[ \u001b[22m\u001b[39m\u001b[36m\u001b[1mInfo: \u001b[22m\u001b[39m started timer at: 2025-03-08T04:51:21.825\n"
     ]
    },
    {
     "name": "stdout",
     "output_type": "stream",
     "text": [
      "Rewards of (n, N)-policy is-25024.675263635574n is 2N is 4\n",
      "50\n",
      "K : 6\n",
      "[0 -2400 -100 -1200 -2000]\n",
      "Finding best nN policy...\n"
     ]
    },
    {
     "name": "stderr",
     "output_type": "stream",
     "text": [
      "\u001b[36m\u001b[1m[ \u001b[22m\u001b[39m\u001b[36m\u001b[1mInfo: \u001b[22m\u001b[39m started timer at: 2025-03-08T05:16:51.597\n"
     ]
    },
    {
     "name": "stdout",
     "output_type": "stream",
     "text": [
      "Rewards of (n, N)-policy is-26788.70974413049n is 2N is 4\n",
      "50\n",
      "K : 6\n",
      "[0 -2800 -100 -1200 -2000]\n",
      "Finding best nN policy...\n"
     ]
    },
    {
     "name": "stderr",
     "output_type": "stream",
     "text": [
      "\u001b[36m\u001b[1m[ \u001b[22m\u001b[39m\u001b[36m\u001b[1mInfo: \u001b[22m\u001b[39m started timer at: 2025-03-08T05:42:20.084\n"
     ]
    },
    {
     "name": "stdout",
     "output_type": "stream",
     "text": [
      "Rewards of (n, N)-policy is-28500.98364262271n is 2N is 4\n",
      "50\n",
      "K : 6\n",
      "[0 -3200 -100 -1200 -2000]\n",
      "Finding best nN policy...\n"
     ]
    },
    {
     "name": "stderr",
     "output_type": "stream",
     "text": [
      "\u001b[36m\u001b[1m[ \u001b[22m\u001b[39m\u001b[36m\u001b[1mInfo: \u001b[22m\u001b[39m started timer at: 2025-03-08T06:07:43.938\n"
     ]
    },
    {
     "name": "stdout",
     "output_type": "stream",
     "text": [
      "Rewards of (n, N)-policy is-30235.206760108445n is 2N is 4\n",
      "50"
     ]
    },
    {
     "name": "stderr",
     "output_type": "stream",
     "text": [
      "\u001b[36m\u001b[1m[ \u001b[22m\u001b[39m\u001b[36m\u001b[1mInfo: \u001b[22m\u001b[39m started timer at: 2025-03-08T06:33:01.556\n"
     ]
    },
    {
     "name": "stdout",
     "output_type": "stream",
     "text": [
      "\n",
      "K : 8\n",
      "[0 -800 -100 -1200 -2000]\n",
      "Finding best nN policy...\n",
      "Rewards of (n, N)-policy is-19794.81854658546n is 2N is 4\n",
      "50\n",
      "K : 8\n",
      "[0 -1200 -100 -1200 -2000]\n",
      "Finding best nN policy...\n"
     ]
    },
    {
     "name": "stderr",
     "output_type": "stream",
     "text": [
      "\u001b[36m\u001b[1m[ \u001b[22m\u001b[39m\u001b[36m\u001b[1mInfo: \u001b[22m\u001b[39m started timer at: 2025-03-08T06:58:21.003\n"
     ]
    },
    {
     "name": "stdout",
     "output_type": "stream",
     "text": [
      "Rewards of (n, N)-policy is-21595.06454319352n is 2N is 4\n",
      "50\n",
      "K : 8\n",
      "[0 -1600 -100 -1200 -2000]\n",
      "Finding best nN policy...\n"
     ]
    },
    {
     "name": "stderr",
     "output_type": "stream",
     "text": [
      "\u001b[36m\u001b[1m[ \u001b[22m\u001b[39m\u001b[36m\u001b[1mInfo: \u001b[22m\u001b[39m started timer at: 2025-03-08T07:23:49.570\n"
     ]
    },
    {
     "name": "stdout",
     "output_type": "stream",
     "text": [
      "Rewards of (n, N)-policy is-23276.801151321746n is 2N is 4\n",
      "50\n",
      "K : 8\n",
      "[0 -2000 -100 -1200 -2000]\n",
      "Finding best nN policy...\n"
     ]
    },
    {
     "name": "stderr",
     "output_type": "stream",
     "text": [
      "\u001b[36m\u001b[1m[ \u001b[22m\u001b[39m\u001b[36m\u001b[1mInfo: \u001b[22m\u001b[39m started timer at: 2025-03-08T07:49:11.782\n"
     ]
    },
    {
     "name": "stdout",
     "output_type": "stream",
     "text": [
      "Rewards of (n, N)-policy is-25007.98779551163n is 2N is 4\n",
      "50\n",
      "K : 8\n",
      "[0 -2400 -100 -1200 -2000]\n",
      "Finding best nN policy...\n"
     ]
    },
    {
     "name": "stderr",
     "output_type": "stream",
     "text": [
      "\u001b[36m\u001b[1m[ \u001b[22m\u001b[39m\u001b[36m\u001b[1mInfo: \u001b[22m\u001b[39m started timer at: 2025-03-08T08:14:53.355\n"
     ]
    },
    {
     "name": "stdout",
     "output_type": "stream",
     "text": [
      "Rewards of (n, N)-policy is-26825.8679572063n is 2N is 4\n",
      "50\n",
      "K : 8\n",
      "[0 -2800 -100 -1200 -2000]\n",
      "Finding best nN policy...\n"
     ]
    },
    {
     "name": "stderr",
     "output_type": "stream",
     "text": [
      "\u001b[36m\u001b[1m[ \u001b[22m\u001b[39m\u001b[36m\u001b[1mInfo: \u001b[22m\u001b[39m started timer at: 2025-03-08T08:40:25.627\n"
     ]
    },
    {
     "name": "stdout",
     "output_type": "stream",
     "text": [
      "Rewards of (n, N)-policy is-28524.31367946447n is 2N is 4\n",
      "50\n"
     ]
    },
    {
     "name": "stderr",
     "output_type": "stream",
     "text": [
      "\u001b[36m\u001b[1m[ \u001b[22m\u001b[39m\u001b[36m\u001b[1mInfo: \u001b[22m\u001b[39m started timer at: 2025-03-08T09:05:54.959\n"
     ]
    },
    {
     "name": "stdout",
     "output_type": "stream",
     "text": [
      "K : 8\n",
      "[0 -3200 -100 -1200 -2000]\n",
      "Finding best nN policy...\n",
      "Rewards of (n, N)-policy is-30196.19707359929n is 2N is 4\n"
     ]
    },
    {
     "name": "stderr",
     "output_type": "stream",
     "text": [
      "\u001b[36m\u001b[1m[ \u001b[22m\u001b[39m\u001b[36m\u001b[1mInfo: \u001b[22m\u001b[39m started timer at: 2025-03-08T09:31:39.671\n"
     ]
    },
    {
     "name": "stdout",
     "output_type": "stream",
     "text": [
      "50\n",
      "K : 10\n",
      "[0 -800 -100 -1200 -2000]\n",
      "Finding best nN policy...\n",
      "Rewards of (n, N)-policy is-19786.643565529354n is 2N is 4\n",
      "50\n",
      "K : 10\n",
      "[0 -1200 -100 -1200 -2000]\n",
      "Finding best nN policy...\n"
     ]
    },
    {
     "name": "stderr",
     "output_type": "stream",
     "text": [
      "\u001b[36m\u001b[1m[ \u001b[22m\u001b[39m\u001b[36m\u001b[1mInfo: \u001b[22m\u001b[39m started timer at: 2025-03-08T09:57:03.046\n"
     ]
    },
    {
     "name": "stdout",
     "output_type": "stream",
     "text": [
      "Rewards of (n, N)-policy is-21545.47622705179n is 2N is 4\n",
      "50\n",
      "K : 10\n",
      "[0 -1600 -100 -1200 -2000]\n",
      "Finding best nN policy...\n"
     ]
    },
    {
     "name": "stderr",
     "output_type": "stream",
     "text": [
      "\u001b[36m\u001b[1m[ \u001b[22m\u001b[39m\u001b[36m\u001b[1mInfo: \u001b[22m\u001b[39m started timer at: 2025-03-08T10:22:40.430\n"
     ]
    },
    {
     "name": "stdout",
     "output_type": "stream",
     "text": [
      "Rewards of (n, N)-policy is-23292.5885663524n is 2N is 4\n",
      "50\n",
      "K : 10\n",
      "[0 -2000 -100 -1200 -2000]\n",
      "Finding best nN policy...\n"
     ]
    },
    {
     "name": "stderr",
     "output_type": "stream",
     "text": [
      "\u001b[36m\u001b[1m[ \u001b[22m\u001b[39m\u001b[36m\u001b[1mInfo: \u001b[22m\u001b[39m started timer at: 2025-03-08T10:48:15.606\n"
     ]
    },
    {
     "name": "stdout",
     "output_type": "stream",
     "text": [
      "Rewards of (n, N)-policy is-24993.32531633823n is 2N is 4\n",
      "50\n",
      "K : 10\n",
      "[0 -2400 -100 -1200 -2000]\n",
      "Finding best nN policy...\n"
     ]
    },
    {
     "name": "stderr",
     "output_type": "stream",
     "text": [
      "\u001b[36m\u001b[1m[ \u001b[22m\u001b[39m\u001b[36m\u001b[1mInfo: \u001b[22m\u001b[39m started timer at: 2025-03-08T11:13:42.488\n"
     ]
    },
    {
     "name": "stdout",
     "output_type": "stream",
     "text": [
      "Rewards of (n, N)-policy is-26755.58948942161n is 2N is 4\n",
      "50\n",
      "K : 10\n",
      "[0 -2800 -100 -1200 -2000"
     ]
    },
    {
     "name": "stderr",
     "output_type": "stream",
     "text": [
      "\u001b[36m\u001b[1m[ \u001b[22m\u001b[39m\u001b[36m\u001b[1mInfo: \u001b[22m\u001b[39m started timer at: 2025-03-08T11:39:04.529\n"
     ]
    },
    {
     "name": "stdout",
     "output_type": "stream",
     "text": [
      "]\n",
      "Finding best nN policy...\n",
      "Rewards of (n, N)-policy is-28445.03236483747n is 2N is 4\n",
      "50\n",
      "K : 10\n",
      "[0 -3200 -100 -1200 -2000]\n",
      "Finding best nN policy...\n"
     ]
    },
    {
     "name": "stderr",
     "output_type": "stream",
     "text": [
      "\u001b[36m\u001b[1m[ \u001b[22m\u001b[39m\u001b[36m\u001b[1mInfo: \u001b[22m\u001b[39m started timer at: 2025-03-08T12:04:33.801\n"
     ]
    },
    {
     "name": "stdout",
     "output_type": "stream",
     "text": [
      "Rewards of (n, N)-policy is-30225.378851121844n is 2N is 4\n",
      "50"
     ]
    },
    {
     "name": "stderr",
     "output_type": "stream",
     "text": [
      "\u001b[36m\u001b[1m[ \u001b[22m\u001b[39m\u001b[36m\u001b[1mInfo: \u001b[22m\u001b[39m started timer at: 2025-03-08T12:30:02.705\n"
     ]
    },
    {
     "name": "stdout",
     "output_type": "stream",
     "text": [
      "\n",
      "K : 12\n",
      "[0 -800 -100 -1200 -2000]\n",
      "Finding best nN policy...\n",
      "Rewards of (n, N)-policy is-19786.800003794284n is 2N is 4\n",
      "50\n",
      "K : 12\n",
      "[0 -1200 -100 -1200 -2000]\n",
      "Finding best nN policy...\n"
     ]
    },
    {
     "name": "stderr",
     "output_type": "stream",
     "text": [
      "\u001b[36m\u001b[1m[ \u001b[22m\u001b[39m\u001b[36m\u001b[1mInfo: \u001b[22m\u001b[39m started timer at: 2025-03-08T12:55:38.164\n"
     ]
    },
    {
     "name": "stdout",
     "output_type": "stream",
     "text": [
      "Rewards of (n, N)-policy is-21542.221952466625n is 2N is 4\n",
      "50\n",
      "K : 12\n",
      "[0 -1600 -100 -1200 -2000]\n",
      "Finding best nN policy...\n"
     ]
    },
    {
     "name": "stderr",
     "output_type": "stream",
     "text": [
      "\u001b[36m\u001b[1m[ \u001b[22m\u001b[39m\u001b[36m\u001b[1mInfo: \u001b[22m\u001b[39m started timer at: 2025-03-08T13:21:17.731\n"
     ]
    },
    {
     "name": "stdout",
     "output_type": "stream",
     "text": [
      "Rewards of (n, N)-policy is-23314.423055580228n is 2N is 4\n",
      "50\n",
      "K : 12\n",
      "[0"
     ]
    },
    {
     "name": "stderr",
     "output_type": "stream",
     "text": [
      "\u001b[36m\u001b[1m[ \u001b[22m\u001b[39m\u001b[36m\u001b[1mInfo: \u001b[22m\u001b[39m started timer at: 2025-03-08T13:46:51.363\n"
     ]
    },
    {
     "name": "stdout",
     "output_type": "stream",
     "text": [
      " -2000 -100 -1200 -2000]\n",
      "Finding best nN policy...\n",
      "Rewards of (n, N)-policy is-25046.94437013987n is 2N is 4\n",
      "50\n",
      "K : 12\n",
      "[0 "
     ]
    },
    {
     "name": "stderr",
     "output_type": "stream",
     "text": [
      "\u001b[36m\u001b[1m[ \u001b[22m\u001b[39m\u001b[36m\u001b[1mInfo: \u001b[22m\u001b[39m started timer at: 2025-03-08T14:12:27.665\n"
     ]
    },
    {
     "name": "stdout",
     "output_type": "stream",
     "text": [
      "-2400 -100 -1200 -2000]\n",
      "Finding best nN policy...\n",
      "Rewards of (n, N)-policy is-26715.250140004973n is 2N is 4\n",
      "50\n",
      "K : 12\n",
      "[0 -2800 -100 -1200 -2000]\n",
      "Finding best nN policy...\n"
     ]
    },
    {
     "name": "stderr",
     "output_type": "stream",
     "text": [
      "\u001b[36m\u001b[1m[ \u001b[22m\u001b[39m\u001b[36m\u001b[1mInfo: \u001b[22m\u001b[39m started timer at: 2025-03-08T14:38:11.801\n"
     ]
    },
    {
     "name": "stdout",
     "output_type": "stream",
     "text": [
      "Rewards of (n, N)-policy is-28517.162889623756n is 2N is 4\n",
      "50\n",
      "K : 12\n",
      "[0 -3200 -100 -1200 -2000]\n",
      "Finding best nN policy...\n"
     ]
    },
    {
     "name": "stderr",
     "output_type": "stream",
     "text": [
      "\u001b[36m\u001b[1m[ \u001b[22m\u001b[39m\u001b[36m\u001b[1mInfo: \u001b[22m\u001b[39m started timer at: 2025-03-08T15:03:52.118\n"
     ]
    },
    {
     "name": "stdout",
     "output_type": "stream",
     "text": [
      "Rewards of (n, N)-policy is-30192.221076933027n is 2N is 4\n",
      "50\n",
      "K : 14\n",
      "[0 -800 -100 -1200 -2000]\n",
      "Finding best nN policy...\n"
     ]
    },
    {
     "name": "stderr",
     "output_type": "stream",
     "text": [
      "\u001b[36m\u001b[1m[ \u001b[22m\u001b[39m\u001b[36m\u001b[1mInfo: \u001b[22m\u001b[39m started timer at: 2025-03-08T15:29:23.099\n"
     ]
    },
    {
     "name": "stdout",
     "output_type": "stream",
     "text": [
      "Rewards of (n, N)-policy is-19828.480860449195n is 2N is 4\n",
      "50\n",
      "K : 14\n",
      "[0 -1200 -100 -1200 -2000]\n",
      "Finding best nN policy...\n"
     ]
    },
    {
     "name": "stderr",
     "output_type": "stream",
     "text": [
      "\u001b[36m\u001b[1m[ \u001b[22m\u001b[39m\u001b[36m\u001b[1mInfo: \u001b[22m\u001b[39m started timer at: 2025-03-08T15:54:51.022\n"
     ]
    },
    {
     "name": "stdout",
     "output_type": "stream",
     "text": [
      "Rewards of (n, N)-policy is-21512.01746640825n is 2N is 4\n",
      "50\n",
      "K : 14\n",
      "[0 -1600 -100 -1200 -2000]\n",
      "Finding best nN policy...\n"
     ]
    },
    {
     "name": "stderr",
     "output_type": "stream",
     "text": [
      "\u001b[36m\u001b[1m[ \u001b[22m\u001b[39m\u001b[36m\u001b[1mInfo: \u001b[22m\u001b[39m started timer at: 2025-03-08T16:20:37.647\n"
     ]
    },
    {
     "name": "stdout",
     "output_type": "stream",
     "text": [
      "Rewards of (n, N)-policy is-23286.29960825362n is 2N is 4\n",
      "50\n",
      "K : 14\n",
      "[0 -2000 -100 -1200 -2000]\n",
      "Finding best nN policy...\n"
     ]
    },
    {
     "name": "stderr",
     "output_type": "stream",
     "text": [
      "\u001b[36m\u001b[1m[ \u001b[22m\u001b[39m\u001b[36m\u001b[1mInfo: \u001b[22m\u001b[39m started timer at: 2025-03-08T16:56:55.766\n"
     ]
    },
    {
     "name": "stdout",
     "output_type": "stream",
     "text": [
      "Rewards of (n, N)-policy is-25016.64449089774n is 2N is 4\n"
     ]
    },
    {
     "name": "stderr",
     "output_type": "stream",
     "text": [
      "\u001b[36m\u001b[1m[ \u001b[22m\u001b[39m\u001b[36m\u001b[1mInfo: \u001b[22m\u001b[39m started timer at: 2025-03-08T17:35:18.353\n"
     ]
    },
    {
     "name": "stdout",
     "output_type": "stream",
     "text": [
      "50\n",
      "K : 14\n",
      "[0 -2400 -100 -1200 -2000]\n",
      "Finding best nN policy...\n",
      "Rewards of (n, N)-policy is-26753.422724995176n is 2N is 4\n"
     ]
    },
    {
     "name": "stderr",
     "output_type": "stream",
     "text": [
      "\u001b[36m\u001b[1m[ \u001b[22m\u001b[39m\u001b[36m\u001b[1mInfo: \u001b[22m\u001b[39m started timer at: 2025-03-08T18:13:41.339\n"
     ]
    },
    {
     "name": "stdout",
     "output_type": "stream",
     "text": [
      "50\n",
      "K : 14\n",
      "[0 -2800 -100 -1200 -2000]\n",
      "Finding best nN policy...\n",
      "Rewards of (n, N)-policy is-28485.39069417438n is 2N is 4\n",
      "50\n",
      "K : 14\n",
      "[0 -3200 -100 -1200 -2000]\n",
      "Finding best nN policy...\n"
     ]
    },
    {
     "name": "stderr",
     "output_type": "stream",
     "text": [
      "\u001b[36m\u001b[1m[ \u001b[22m\u001b[39m\u001b[36m\u001b[1mInfo: \u001b[22m\u001b[39m started timer at: 2025-03-08T18:52:06.446\n"
     ]
    },
    {
     "name": "stdout",
     "output_type": "stream",
     "text": [
      "Rewards of (n, N)-policy is-30201.32798481921n is 2N is 4\n",
      "50\n",
      "K : 16\n",
      "[0 -800 -100 -1200 -2000]\n",
      "Finding best nN policy...\n"
     ]
    },
    {
     "name": "stderr",
     "output_type": "stream",
     "text": [
      "\u001b[36m\u001b[1m[ \u001b[22m\u001b[39m\u001b[36m\u001b[1mInfo: \u001b[22m\u001b[39m started timer at: 2025-03-08T19:30:30.723\n"
     ]
    },
    {
     "name": "stdout",
     "output_type": "stream",
     "text": [
      "Rewards of (n, N)-policy is-19826.497954686023n is 2N is 4\n",
      "50"
     ]
    },
    {
     "name": "stderr",
     "output_type": "stream",
     "text": [
      "\u001b[36m\u001b[1m[ \u001b[22m\u001b[39m\u001b[36m\u001b[1mInfo: \u001b[22m\u001b[39m started timer at: 2025-03-08T20:08:48.281\n"
     ]
    },
    {
     "name": "stdout",
     "output_type": "stream",
     "text": [
      "\n",
      "K : 16\n",
      "[0 -1200 -100 -1200 -2000]\n",
      "Finding best nN policy...\n",
      "Rewards of (n, N)-policy is-21567.424619256468n is 2N is 4\n",
      "50\n",
      "K : 16\n",
      "[0 -1600 -100 -1200 -2000]\n",
      "Finding best nN policy...\n"
     ]
    },
    {
     "name": "stderr",
     "output_type": "stream",
     "text": [
      "\u001b[36m\u001b[1m[ \u001b[22m\u001b[39m\u001b[36m\u001b[1mInfo: \u001b[22m\u001b[39m started timer at: 2025-03-08T20:47:14.431\n"
     ]
    },
    {
     "name": "stdout",
     "output_type": "stream",
     "text": [
      "Rewards of (n, N)-policy is-23275.82726139442n is 2N is 4\n",
      "50\n",
      "K : 16\n",
      "[0 -2000 -100 -1200 -2000]\n",
      "Finding best nN policy...\n"
     ]
    },
    {
     "name": "stderr",
     "output_type": "stream",
     "text": [
      "\u001b[36m\u001b[1m[ \u001b[22m\u001b[39m\u001b[36m\u001b[1mInfo: \u001b[22m\u001b[39m started timer at: 2025-03-08T21:25:44.332\n"
     ]
    },
    {
     "name": "stdout",
     "output_type": "stream",
     "text": [
      "Rewards of (n, N)-policy is-25029.942692084347n is 2N is 4\n",
      "50\n",
      "K : 16\n",
      "[0 -2400 -100 -1200 -2000]\n",
      "Finding best nN policy...\n"
     ]
    },
    {
     "name": "stderr",
     "output_type": "stream",
     "text": [
      "\u001b[36m\u001b[1m[ \u001b[22m\u001b[39m\u001b[36m\u001b[1mInfo: \u001b[22m\u001b[39m started timer at: 2025-03-08T22:04:05.190\n"
     ]
    },
    {
     "name": "stdout",
     "output_type": "stream",
     "text": [
      "Rewards of (n, N)-policy is-26743.57327452686n is 2N is 4\n",
      "50\n",
      "K : 16\n",
      "[0 -2800 -100 -1200 -2000]\n",
      "Finding best nN policy...\n"
     ]
    },
    {
     "name": "stderr",
     "output_type": "stream",
     "text": [
      "\u001b[36m\u001b[1m[ \u001b[22m\u001b[39m\u001b[36m\u001b[1mInfo: \u001b[22m\u001b[39m started timer at: 2025-03-08T22:42:32.803\n"
     ]
    },
    {
     "name": "stdout",
     "output_type": "stream",
     "text": [
      "Rewards of (n, N)-policy is-28506.464455299927n is 2N is 4\n",
      "50\n",
      "K : 16\n",
      "[0 -3200 -100 -1200 -2000]\n",
      "Finding best nN policy...\n"
     ]
    },
    {
     "name": "stderr",
     "output_type": "stream",
     "text": [
      "\u001b[36m\u001b[1m[ \u001b[22m\u001b[39m\u001b[36m\u001b[1mInfo: \u001b[22m\u001b[39m started timer at: 2025-03-08T23:21:08.457\n"
     ]
    },
    {
     "name": "stdout",
     "output_type": "stream",
     "text": [
      "Rewards of (n, N)-policy is-30205.717130338337n is 2N is 4\n",
      "50\n",
      "K : 18\n",
      "[0 -800 -100 -1200 -2000]\n",
      "Finding best nN policy...\n"
     ]
    },
    {
     "name": "stderr",
     "output_type": "stream",
     "text": [
      "\u001b[36m\u001b[1m[ \u001b[22m\u001b[39m\u001b[36m\u001b[1mInfo: \u001b[22m\u001b[39m started timer at: 2025-03-08T23:59:29.755\n"
     ]
    },
    {
     "name": "stdout",
     "output_type": "stream",
     "text": [
      "Rewards of (n, N)-policy is-19834.89774485545n is 2N is 4\n",
      "50\n",
      "K : 18\n",
      "[0 -1200 -100 -1200 -2000]\n",
      "Finding best nN policy...\n"
     ]
    },
    {
     "name": "stderr",
     "output_type": "stream",
     "text": [
      "\u001b[36m\u001b[1m[ \u001b[22m\u001b[39m\u001b[36m\u001b[1mInfo: \u001b[22m\u001b[39m started timer at: 2025-03-09T00:37:55.622\n"
     ]
    },
    {
     "name": "stdout",
     "output_type": "stream",
     "text": [
      "Rewards of (n, N)-policy is-21561.86770801627n is 2N is 4\n",
      "50\n",
      "K : 18\n",
      "[0 -1600 -100 -1200 -2000]\n",
      "Finding best nN policy...\n"
     ]
    },
    {
     "name": "stderr",
     "output_type": "stream",
     "text": [
      "\u001b[36m\u001b[1m[ \u001b[22m\u001b[39m\u001b[36m\u001b[1mInfo: \u001b[22m\u001b[39m started timer at: 2025-03-09T01:16:15.073\n"
     ]
    },
    {
     "name": "stdout",
     "output_type": "stream",
     "text": [
      "Rewards of (n, N)-policy is-23275.311108254802n is 2N is 4\n",
      "50\n",
      "K : 18\n",
      "[0 -2000 -100 -1200 -2000]\n",
      "Finding best nN policy...\n"
     ]
    },
    {
     "name": "stderr",
     "output_type": "stream",
     "text": [
      "\u001b[36m\u001b[1m[ \u001b[22m\u001b[39m\u001b[36m\u001b[1mInfo: \u001b[22m\u001b[39m started timer at: 2025-03-09T01:54:28.751\n"
     ]
    },
    {
     "name": "stdout",
     "output_type": "stream",
     "text": [
      "Rewards of (n, N)-policy is-25031.6959828543n is 2N is 4\n",
      "50\n",
      "K : 18\n",
      "[0 -2400 -100"
     ]
    },
    {
     "name": "stderr",
     "output_type": "stream",
     "text": [
      "\u001b[36m\u001b[1m[ \u001b[22m\u001b[39m\u001b[36m\u001b[1mInfo: \u001b[22m\u001b[39m started timer at: 2025-03-09T03:32:49.910\n"
     ]
    },
    {
     "name": "stdout",
     "output_type": "stream",
     "text": [
      " -1200 -2000]\n",
      "Finding best nN policy...\n",
      "Rewards of (n, N)-policy is-26796.284982979072n is 2N is 4\n",
      "50\n",
      "K : 18\n",
      "[0 -2800 -100 -1200 -2000]\n",
      "Finding best nN policy...\n"
     ]
    },
    {
     "name": "stderr",
     "output_type": "stream",
     "text": [
      "\u001b[36m\u001b[1m[ \u001b[22m\u001b[39m\u001b[36m\u001b[1mInfo: \u001b[22m\u001b[39m started timer at: 2025-03-09T04:11:06.049\n"
     ]
    },
    {
     "name": "stdout",
     "output_type": "stream",
     "text": [
      "Rewards of (n, N)-policy is-28483.587282410568n is 2N is 4\n",
      "50\n",
      "K : 18\n",
      "[0 -3200 -100 -1200 -2000]\n",
      "Finding best nN policy...\n"
     ]
    },
    {
     "name": "stderr",
     "output_type": "stream",
     "text": [
      "\u001b[36m\u001b[1m[ \u001b[22m\u001b[39m\u001b[36m\u001b[1mInfo: \u001b[22m\u001b[39m started timer at: 2025-03-09T04:49:25.984\n"
     ]
    },
    {
     "name": "stdout",
     "output_type": "stream",
     "text": [
      "Rewards of (n, N)-policy is-30205.83520010418n is 2N is 4\n",
      "50\n",
      "K : 20\n",
      "[0 -800 -100 -1200 -2000]\n",
      "Finding best nN policy...\n"
     ]
    },
    {
     "name": "stderr",
     "output_type": "stream",
     "text": [
      "\u001b[36m\u001b[1m[ \u001b[22m\u001b[39m\u001b[36m\u001b[1mInfo: \u001b[22m\u001b[39m started timer at: 2025-03-09T05:27:48.526\n"
     ]
    },
    {
     "name": "stdout",
     "output_type": "stream",
     "text": [
      "Rewards of (n, N)-policy is-19824.34911892209n is 2N is 4\n",
      "50\n",
      "K : 20\n",
      "[0 -1200 -100 -1200 -2000]\n",
      "Finding best nN policy...\n"
     ]
    },
    {
     "name": "stderr",
     "output_type": "stream",
     "text": [
      "\u001b[36m\u001b[1m[ \u001b[22m\u001b[39m\u001b[36m\u001b[1mInfo: \u001b[22m\u001b[39m started timer at: 2025-03-09T06:06:10.897\n"
     ]
    },
    {
     "name": "stdout",
     "output_type": "stream",
     "text": [
      "Rewards of (n, N)-policy is-21548.506780171556n is 2N is 4\n",
      "50\n",
      "K : 20\n",
      "["
     ]
    },
    {
     "name": "stderr",
     "output_type": "stream",
     "text": [
      "\u001b[36m\u001b[1m[ \u001b[22m\u001b[39m\u001b[36m\u001b[1mInfo: \u001b[22m\u001b[39m started timer at: 2025-03-09T06:44:24.948\n"
     ]
    },
    {
     "name": "stdout",
     "output_type": "stream",
     "text": [
      "0 -1600 -100 -1200 -2000]\n",
      "Finding best nN policy...\n",
      "Rewards of (n, N)-policy is-23299.92809495906n is 2N is 4\n",
      "50\n",
      "K : 20\n",
      "[0 -2000 -100 -1200 -2000]\n",
      "Finding best nN policy...\n"
     ]
    },
    {
     "name": "stderr",
     "output_type": "stream",
     "text": [
      "\u001b[36m\u001b[1m[ \u001b[22m\u001b[39m\u001b[36m\u001b[1mInfo: \u001b[22m\u001b[39m started timer at: 2025-03-09T07:22:45.651\n"
     ]
    },
    {
     "name": "stdout",
     "output_type": "stream",
     "text": [
      "Rewards of (n, N)-policy is-25039.01147667138n is 2N is 4\n"
     ]
    },
    {
     "name": "stderr",
     "output_type": "stream",
     "text": [
      "\u001b[36m\u001b[1m[ \u001b[22m\u001b[39m\u001b[36m\u001b[1mInfo: \u001b[22m\u001b[39m started timer at: 2025-03-09T08:00:55.646\n"
     ]
    },
    {
     "name": "stdout",
     "output_type": "stream",
     "text": [
      "50\n",
      "K : 20\n",
      "[0 -2400 -100 -1200 -2000]\n",
      "Finding best nN policy...\n",
      "Rewards of (n, N)-policy is-26749.10132902251n is 2N is 4\n"
     ]
    },
    {
     "name": "stderr",
     "output_type": "stream",
     "text": [
      "\u001b[36m\u001b[1m[ \u001b[22m\u001b[39m\u001b[36m\u001b[1mInfo: \u001b[22m\u001b[39m started timer at: 2025-03-09T08:39:30.326\n"
     ]
    },
    {
     "name": "stdout",
     "output_type": "stream",
     "text": [
      "50\n",
      "K : 20\n",
      "[0 -2800 -100 -1200 -2000]\n",
      "Finding best nN policy...\n",
      "Rewards of (n, N)-policy is-28497.535206992965n is 2N is 4\n",
      "50\n",
      "K : 20\n",
      "[0 -3200 -100 -1200 -2000]\n",
      "Finding best nN policy...\n"
     ]
    },
    {
     "name": "stderr",
     "output_type": "stream",
     "text": [
      "\u001b[36m\u001b[1m[ \u001b[22m\u001b[39m\u001b[36m\u001b[1mInfo: \u001b[22m\u001b[39m started timer at: 2025-03-09T09:18:02.416\n"
     ]
    },
    {
     "name": "stdout",
     "output_type": "stream",
     "text": [
      "Rewards of (n, N)-policy is-30254.698264021434n is 2N is 4\n",
      "50\n",
      "K : 22\n",
      "["
     ]
    },
    {
     "name": "stderr",
     "output_type": "stream",
     "text": [
      "\u001b[36m\u001b[1m[ \u001b[22m\u001b[39m\u001b[36m\u001b[1mInfo: \u001b[22m\u001b[39m started timer at: 2025-03-09T09:56:35.947\n"
     ]
    },
    {
     "name": "stdout",
     "output_type": "stream",
     "text": [
      "0 -800 -100 -1200 -2000]\n",
      "Finding best nN policy...\n",
      "Rewards of (n, N)-policy is-19809.434110457114n is 2N is 4\n",
      "50\n",
      "K : 22\n",
      "[0 -1200 -100 -1200 -2000]\n",
      "Finding best nN policy...\n"
     ]
    },
    {
     "name": "stderr",
     "output_type": "stream",
     "text": [
      "\u001b[36m\u001b[1m[ \u001b[22m\u001b[39m\u001b[36m\u001b[1mInfo: \u001b[22m\u001b[39m started timer at: 2025-03-09T10:34:59.204\n"
     ]
    },
    {
     "name": "stdout",
     "output_type": "stream",
     "text": [
      "Rewards of (n, N)-policy is-21561.40930429632n is 2N is 4\n",
      "50\n",
      "K : 22"
     ]
    },
    {
     "name": "stderr",
     "output_type": "stream",
     "text": [
      "\u001b[36m\u001b[1m[ \u001b[22m\u001b[39m\u001b[36m\u001b[1mInfo: \u001b[22m\u001b[39m started timer at: 2025-03-09T11:13:21.363\n"
     ]
    },
    {
     "name": "stdout",
     "output_type": "stream",
     "text": [
      "\n",
      "[0 -1600 -100 -1200 -2000]\n",
      "Finding best nN policy...\n",
      "Rewards of (n, N)-policy is-23293.636566297162n is 2N is 4\n",
      "50\n",
      "K : 22\n",
      "[0 -2000 -100 -1200 -2000]\n",
      "Finding best nN policy...\n"
     ]
    },
    {
     "name": "stderr",
     "output_type": "stream",
     "text": [
      "\u001b[36m\u001b[1m[ \u001b[22m\u001b[39m\u001b[36m\u001b[1mInfo: \u001b[22m\u001b[39m started timer at: 2025-03-09T11:51:49.475\n"
     ]
    },
    {
     "name": "stdout",
     "output_type": "stream",
     "text": [
      "Rewards of (n, N)-policy is-25016.631384070366n is 2N is 4\n",
      "50\n",
      "K : 22\n",
      "[0 -2400 -100 -1200 -2000]\n",
      "Finding best nN policy...\n"
     ]
    },
    {
     "name": "stderr",
     "output_type": "stream",
     "text": [
      "\u001b[36m\u001b[1m[ \u001b[22m\u001b[39m\u001b[36m\u001b[1mInfo: \u001b[22m\u001b[39m started timer at: 2025-03-09T12:30:07.745\n"
     ]
    },
    {
     "name": "stdout",
     "output_type": "stream",
     "text": [
      "Rewards of (n, N)-policy is-26752.202353436638n is 2N is 4\n",
      "50\n",
      "K : 22\n",
      "[0 -2800 -100 -1200 -2000]\n",
      "Finding best nN policy...\n"
     ]
    },
    {
     "name": "stderr",
     "output_type": "stream",
     "text": [
      "\u001b[36m\u001b[1m[ \u001b[22m\u001b[39m\u001b[36m\u001b[1mInfo: \u001b[22m\u001b[39m started timer at: 2025-03-09T13:08:43.526\n"
     ]
    },
    {
     "name": "stdout",
     "output_type": "stream",
     "text": [
      "Rewards of (n, N)-policy is-28470.513752893883n is 2N is 4\n",
      "50"
     ]
    },
    {
     "name": "stderr",
     "output_type": "stream",
     "text": [
      "\u001b[36m\u001b[1m[ \u001b[22m\u001b[39m\u001b[36m\u001b[1mInfo: \u001b[22m\u001b[39m started timer at: 2025-03-09T13:47:09.998\n"
     ]
    },
    {
     "name": "stdout",
     "output_type": "stream",
     "text": [
      "\n",
      "K : 22\n",
      "[0 -3200 -100 -1200 -2000]\n",
      "Finding best nN policy...\n",
      "Rewards of (n, N)-policy is-30199.739109913742n is 2N is 4\n",
      "50\n",
      "K : 24\n",
      "[0 -800 -100 -1200 -2000]\n",
      "Finding best nN policy...\n"
     ]
    },
    {
     "name": "stderr",
     "output_type": "stream",
     "text": [
      "\u001b[36m\u001b[1m[ \u001b[22m\u001b[39m\u001b[36m\u001b[1mInfo: \u001b[22m\u001b[39m started timer at: 2025-03-09T14:25:23.978\n"
     ]
    },
    {
     "name": "stdout",
     "output_type": "stream",
     "text": [
      "Rewards of (n, N)-policy is-19822.518119386925n is 2N is 4\n",
      "50\n",
      "K : 24\n",
      "[0 -1200 -100 -1200 -2000]\n",
      "Finding best nN policy...\n"
     ]
    },
    {
     "name": "stderr",
     "output_type": "stream",
     "text": [
      "\u001b[36m\u001b[1m[ \u001b[22m\u001b[39m\u001b[36m\u001b[1mInfo: \u001b[22m\u001b[39m started timer at: 2025-03-09T15:03:56.247\n"
     ]
    },
    {
     "name": "stdout",
     "output_type": "stream",
     "text": [
      "Rewards of (n, N)-policy is-21526.077965398847n is 2N is 4\n",
      "50\n",
      "K : 24\n",
      "[0 -1600 -100 -1200 -2000]\n",
      "Finding best nN policy...\n"
     ]
    },
    {
     "name": "stderr",
     "output_type": "stream",
     "text": [
      "\u001b[36m\u001b[1m[ \u001b[22m\u001b[39m\u001b[36m\u001b[1mInfo: \u001b[22m\u001b[39m started timer at: 2025-03-09T15:42:12.045\n"
     ]
    },
    {
     "name": "stdout",
     "output_type": "stream",
     "text": [
      "Rewards of (n, N)-policy is-23297.96568767488n is 2N is 4\n",
      "50\n",
      "K : 24\n",
      "[0 -2000 -100 -1200 -2000]\n",
      "Finding best nN policy...\n"
     ]
    },
    {
     "name": "stderr",
     "output_type": "stream",
     "text": [
      "\u001b[36m\u001b[1m[ \u001b[22m\u001b[39m\u001b[36m\u001b[1mInfo: \u001b[22m\u001b[39m started timer at: 2025-03-09T16:20:20.499\n"
     ]
    },
    {
     "name": "stdout",
     "output_type": "stream",
     "text": [
      "Rewards of (n, N)-policy is-25047.522466487448n is 2N is 4\n",
      "50\n",
      "K : 24\n",
      "[0 -2400 -100 -1200 -2000]\n",
      "Finding best nN policy...\n"
     ]
    },
    {
     "name": "stderr",
     "output_type": "stream",
     "text": [
      "\u001b[36m\u001b[1m[ \u001b[22m\u001b[39m\u001b[36m\u001b[1mInfo: \u001b[22m\u001b[39m started timer at: 2025-03-09T16:58:36.741\n"
     ]
    },
    {
     "name": "stdout",
     "output_type": "stream",
     "text": [
      "Rewards of (n, N)-policy is-26724.976956407736n is 2N is 4\n",
      "50\n",
      "K : 24\n",
      "[0 -2800 -100 -1200 -2000]\n",
      "Finding best nN policy...\n"
     ]
    },
    {
     "name": "stderr",
     "output_type": "stream",
     "text": [
      "\u001b[36m\u001b[1m[ \u001b[22m\u001b[39m\u001b[36m\u001b[1mInfo: \u001b[22m\u001b[39m started timer at: 2025-03-09T17:36:55.305\n"
     ]
    },
    {
     "name": "stdout",
     "output_type": "stream",
     "text": [
      "Rewards of (n, N)-policy is-28489.80957218269n is 2N is 4\n",
      "50"
     ]
    },
    {
     "name": "stderr",
     "output_type": "stream",
     "text": [
      "\u001b[36m\u001b[1m[ \u001b[22m\u001b[39m\u001b[36m\u001b[1mInfo: \u001b[22m\u001b[39m started timer at: 2025-03-09T18:15:23.691\n"
     ]
    },
    {
     "name": "stdout",
     "output_type": "stream",
     "text": [
      "\n",
      "K : 24\n",
      "[0 -3200 -100 -1200 -2000]\n",
      "Finding best nN policy...\n",
      "Rewards of (n, N)-policy is-30249.978400661636n is 2N is 4\n",
      "60\n",
      "K : 2\n",
      "[0 -800 -100 -1200 -2000]\n",
      "Finding best nN policy...\n"
     ]
    },
    {
     "name": "stderr",
     "output_type": "stream",
     "text": [
      "\u001b[36m\u001b[1m[ \u001b[22m\u001b[39m\u001b[36m\u001b[1mInfo: \u001b[22m\u001b[39m started timer at: 2025-03-09T18:53:49.137\n"
     ]
    },
    {
     "name": "stdout",
     "output_type": "stream",
     "text": [
      "Rewards of (n, N)-policy is-25654.923186329917n is 2N is 4\n",
      "60\n",
      "K : 2\n",
      "[0 -1200 -100 -1200 -2000]\n",
      "Finding best nN policy...\n"
     ]
    },
    {
     "name": "stderr",
     "output_type": "stream",
     "text": [
      "\u001b[36m\u001b[1m[ \u001b[22m\u001b[39m\u001b[36m\u001b[1mInfo: \u001b[22m\u001b[39m started timer at: 2025-03-09T19:39:42.278\n"
     ]
    },
    {
     "name": "stdout",
     "output_type": "stream",
     "text": [
      "Rewards of (n, N)-policy is-27536.1197158604n is 2N is 4\n",
      "60"
     ]
    },
    {
     "name": "stderr",
     "output_type": "stream",
     "text": [
      "\u001b[36m\u001b[1m[ \u001b[22m\u001b[39m\u001b[36m\u001b[1mInfo: \u001b[22m\u001b[39m started timer at: 2025-03-09T20:25:20.707\n"
     ]
    },
    {
     "name": "stdout",
     "output_type": "stream",
     "text": [
      "\n",
      "K : 2\n",
      "[0 -1600 -100 -1200 -2000]\n",
      "Finding best nN policy...\n",
      "Rewards of (n, N)-policy is-29323.716758017636n is 2N is 4\n",
      "60\n",
      "K : 2\n"
     ]
    },
    {
     "name": "stderr",
     "output_type": "stream",
     "text": [
      "\u001b[36m\u001b[1m[ \u001b[22m\u001b[39m\u001b[36m\u001b[1mInfo: \u001b[22m\u001b[39m started timer at: 2025-03-09T21:11:02.283\n"
     ]
    },
    {
     "name": "stdout",
     "output_type": "stream",
     "text": [
      "[0 -2000 -100 -1200 -2000]\n",
      "Finding best nN policy...\n",
      "Rewards of (n, N)-policy is-31198.879814679767n is 2N is 4\n",
      "60\n",
      "K : 2\n",
      "[0 -2400 -100 -1200 -2000]\n",
      "Finding best nN policy...\n"
     ]
    },
    {
     "name": "stderr",
     "output_type": "stream",
     "text": [
      "\u001b[36m\u001b[1m[ \u001b[22m\u001b[39m\u001b[36m\u001b[1mInfo: \u001b[22m\u001b[39m started timer at: 2025-03-09T21:56:50.965\n"
     ]
    },
    {
     "name": "stdout",
     "output_type": "stream",
     "text": [
      "Rewards of (n, N)-policy is-32994.74385460703n is 2N is 4\n",
      "60\n",
      "K : 2\n",
      "[0 -2800 -100 -1200 -2000]\n",
      "Finding best nN policy...\n"
     ]
    },
    {
     "name": "stderr",
     "output_type": "stream",
     "text": [
      "\u001b[36m\u001b[1m[ \u001b[22m\u001b[39m\u001b[36m\u001b[1mInfo: \u001b[22m\u001b[39m started timer at: 2025-03-09T22:42:42.603\n"
     ]
    },
    {
     "name": "stdout",
     "output_type": "stream",
     "text": [
      "Rewards of (n, N)-policy is-34906.88345996641n is 2N is 4\n",
      "60\n",
      "K : 2\n",
      "[0 -3200 -100 -1200 -2000]\n",
      "Finding best nN policy...\n"
     ]
    },
    {
     "name": "stderr",
     "output_type": "stream",
     "text": [
      "\u001b[36m\u001b[1m[ \u001b[22m\u001b[39m\u001b[36m\u001b[1mInfo: \u001b[22m\u001b[39m started timer at: 2025-03-09T23:28:34.321\n"
     ]
    },
    {
     "name": "stdout",
     "output_type": "stream",
     "text": [
      "Rewards of (n, N)-policy is-36661.159274643884n is 2N is 4\n",
      "60\n",
      "K : 4\n",
      "[0 -800 -100 -1200 -2000]\n",
      "Finding best nN policy...\n"
     ]
    },
    {
     "name": "stderr",
     "output_type": "stream",
     "text": [
      "\u001b[36m\u001b[1m[ \u001b[22m\u001b[39m\u001b[36m\u001b[1mInfo: \u001b[22m\u001b[39m started timer at: 2025-03-10T00:14:37.978\n"
     ]
    },
    {
     "name": "stdout",
     "output_type": "stream",
     "text": [
      "Rewards of (n, N)-policy is-23087.240368570543n is 2N is 4\n",
      "60\n",
      "K : 4\n",
      "[0 -1200 -100 -1200 -2000]\n",
      "Finding best nN policy...\n"
     ]
    },
    {
     "name": "stderr",
     "output_type": "stream",
     "text": [
      "\u001b[36m\u001b[1m[ \u001b[22m\u001b[39m\u001b[36m\u001b[1mInfo: \u001b[22m\u001b[39m started timer at: 2025-03-10T01:00:29.146\n"
     ]
    },
    {
     "name": "stdout",
     "output_type": "stream",
     "text": [
      "Rewards of (n, N)-policy is-24902.698828525317n is 2N is 4\n",
      "60\n",
      "K : 4\n",
      "[0 -1600 -100 -1200 -2000]\n",
      "Finding best nN policy...\n"
     ]
    },
    {
     "name": "stderr",
     "output_type": "stream",
     "text": [
      "\u001b[36m\u001b[1m[ \u001b[22m\u001b[39m\u001b[36m\u001b[1mInfo: \u001b[22m\u001b[39m started timer at: 2025-03-10T01:46:24.796\n"
     ]
    },
    {
     "name": "stdout",
     "output_type": "stream",
     "text": [
      "Rewards of (n, N)-policy is-26723.898903677367n is 2N is 4\n",
      "60\n"
     ]
    },
    {
     "name": "stderr",
     "output_type": "stream",
     "text": [
      "\u001b[36m\u001b[1m[ \u001b[22m\u001b[39m\u001b[36m\u001b[1mInfo: \u001b[22m\u001b[39m started timer at: 2025-03-10T02:32:11.675\n"
     ]
    },
    {
     "name": "stdout",
     "output_type": "stream",
     "text": [
      "K : 4\n",
      "[0 -2000 -100 -1200 -2000]\n",
      "Finding best nN policy...\n",
      "Rewards of (n, N)-policy is-28543.90423168618n is 2N is 4\n",
      "60\n",
      "K : 4\n",
      "[0 -2400 -100 -1200 -2000]\n",
      "Finding best nN policy...\n"
     ]
    },
    {
     "name": "stderr",
     "output_type": "stream",
     "text": [
      "\u001b[36m\u001b[1m[ \u001b[22m\u001b[39m\u001b[36m\u001b[1mInfo: \u001b[22m\u001b[39m started timer at: 2025-03-10T03:17:56.560\n"
     ]
    },
    {
     "name": "stdout",
     "output_type": "stream",
     "text": [
      "Rewards of (n, N)-policy is-30447.559858462788n is 2N is 4\n",
      "60\n",
      "K : 4\n",
      "[0 -2800 -100 -1200 -2000]\n",
      "Finding best nN policy...\n"
     ]
    },
    {
     "name": "stderr",
     "output_type": "stream",
     "text": [
      "\u001b[36m\u001b[1m[ \u001b[22m\u001b[39m\u001b[36m\u001b[1mInfo: \u001b[22m\u001b[39m started timer at: 2025-03-10T04:03:53.131\n"
     ]
    },
    {
     "name": "stdout",
     "output_type": "stream",
     "text": [
      "Rewards of (n, N)-policy is-32217.221032031226n is 2N is 4\n",
      "60\n",
      "K : 4\n",
      "[0 -3200 -100 -1200 -2000]\n",
      "Finding best nN policy...\n"
     ]
    },
    {
     "name": "stderr",
     "output_type": "stream",
     "text": [
      "\u001b[36m\u001b[1m[ \u001b[22m\u001b[39m\u001b[36m\u001b[1mInfo: \u001b[22m\u001b[39m started timer at: 2025-03-10T04:49:31.037\n"
     ]
    },
    {
     "name": "stdout",
     "output_type": "stream",
     "text": [
      "Rewards of (n, N)-policy is-34096.72060056436n is 2N is 4\n",
      "60\n",
      "K : 6\n",
      "[0 "
     ]
    },
    {
     "name": "stderr",
     "output_type": "stream",
     "text": [
      "\u001b[36m\u001b[1m[ \u001b[22m\u001b[39m\u001b[36m\u001b[1mInfo: \u001b[22m\u001b[39m started timer at: 2025-03-10T05:35:15.021\n"
     ]
    },
    {
     "name": "stdout",
     "output_type": "stream",
     "text": [
      "-800 -100 -1200 -2000]\n",
      "Finding best nN policy...\n",
      "Rewards of (n, N)-policy is-22827.572658052955n is 2N is 4\n",
      "60\n",
      "K : 6\n",
      "[0 -1200 -100 -1200 -2000]\n",
      "Finding best nN policy...\n"
     ]
    },
    {
     "name": "stderr",
     "output_type": "stream",
     "text": [
      "\u001b[36m\u001b[1m[ \u001b[22m\u001b[39m\u001b[36m\u001b[1mInfo: \u001b[22m\u001b[39m started timer at: 2025-03-10T06:20:54.509\n"
     ]
    },
    {
     "name": "stdout",
     "output_type": "stream",
     "text": [
      "Rewards of (n, N)-policy is-24697.43972513789n is 2N is 4\n",
      "60\n",
      "K : 6\n",
      "[0 -1600 -100 -1200 -2000]\n",
      "Finding best nN policy...\n"
     ]
    },
    {
     "name": "stderr",
     "output_type": "stream",
     "text": [
      "\u001b[36m\u001b[1m[ \u001b[22m\u001b[39m\u001b[36m\u001b[1mInfo: \u001b[22m\u001b[39m started timer at: 2025-03-10T07:06:27.552\n"
     ]
    },
    {
     "name": "stdout",
     "output_type": "stream",
     "text": [
      "Rewards of (n, N)-policy is-26589.403759550063n is 2N is 4\n",
      "60\n",
      "K : 6\n",
      "[0 -2000 -100 -1200 -2000]\n",
      "Finding best nN policy...\n"
     ]
    },
    {
     "name": "stderr",
     "output_type": "stream",
     "text": [
      "\u001b[36m\u001b[1m[ \u001b[22m\u001b[39m\u001b[36m\u001b[1mInfo: \u001b[22m\u001b[39m started timer at: 2025-03-10T07:52:03.930\n"
     ]
    },
    {
     "name": "stdout",
     "output_type": "stream",
     "text": [
      "Rewards of (n, N)-policy is-28364.404853271808n is 2N is 4\n",
      "60\n",
      "K : 6\n",
      "["
     ]
    },
    {
     "name": "stderr",
     "output_type": "stream",
     "text": [
      "\u001b[36m\u001b[1m[ \u001b[22m\u001b[39m\u001b[36m\u001b[1mInfo: \u001b[22m\u001b[39m started timer at: 2025-03-10T08:37:43.749\n"
     ]
    },
    {
     "name": "stdout",
     "output_type": "stream",
     "text": [
      "0 -2400 -100 -1200 -2000]\n",
      "Finding best nN policy...\n",
      "Rewards of (n, N)-policy is-30181.074228606616n is 2N is 4\n",
      "60\n",
      "K : 6\n",
      "[0 -2800 -100 -1200 -2000]\n",
      "Finding best nN policy...\n"
     ]
    },
    {
     "name": "stderr",
     "output_type": "stream",
     "text": [
      "\u001b[36m\u001b[1m[ \u001b[22m\u001b[39m\u001b[36m\u001b[1mInfo: \u001b[22m\u001b[39m started timer at: 2025-03-10T09:23:16.679\n"
     ]
    },
    {
     "name": "stdout",
     "output_type": "stream",
     "text": [
      "Rewards of (n, N)-policy is-32024.293477319356n is 2N is 4\n",
      "60\n",
      "K : 6\n",
      "["
     ]
    },
    {
     "name": "stderr",
     "output_type": "stream",
     "text": [
      "\u001b[36m\u001b[1m[ \u001b[22m\u001b[39m\u001b[36m\u001b[1mInfo: \u001b[22m\u001b[39m started timer at: 2025-03-10T10:08:53.708\n"
     ]
    },
    {
     "name": "stdout",
     "output_type": "stream",
     "text": [
      "0 -3200 -100 -1200 -2000]\n",
      "Finding best nN policy...\n",
      "Rewards of (n, N)-policy is-33884.52767547059n is 2N is 4\n",
      "60\n",
      "K : 8\n",
      "[0 -800 -100 -1200 -2000]\n",
      "Finding best nN policy...\n"
     ]
    },
    {
     "name": "stderr",
     "output_type": "stream",
     "text": [
      "\u001b[36m\u001b[1m[ \u001b[22m\u001b[39m\u001b[36m\u001b[1mInfo: \u001b[22m\u001b[39m started timer at: 2025-03-10T10:54:27.551\n"
     ]
    },
    {
     "name": "stdout",
     "output_type": "stream",
     "text": [
      "Rewards of (n, N)-policy is-22833.47815356546n is 2N is 4\n"
     ]
    },
    {
     "name": "stderr",
     "output_type": "stream",
     "text": [
      "\u001b[36m\u001b[1m[ \u001b[22m\u001b[39m\u001b[36m\u001b[1mInfo: \u001b[22m\u001b[39m started timer at: 2025-03-10T11:39:48.513\n"
     ]
    },
    {
     "name": "stdout",
     "output_type": "stream",
     "text": [
      "60\n",
      "K : 8\n",
      "[0 -1200 -100 -1200 -2000]\n",
      "Finding best nN policy...\n",
      "Rewards of (n, N)-policy is-24641.22721660237n is 2N is 4\n",
      "60\n",
      "K : 8\n",
      "[0 -1600 -100 -1200 -2000]\n",
      "Finding best nN policy...\n"
     ]
    },
    {
     "name": "stderr",
     "output_type": "stream",
     "text": [
      "\u001b[36m\u001b[1m[ \u001b[22m\u001b[39m\u001b[36m\u001b[1mInfo: \u001b[22m\u001b[39m started timer at: 2025-03-10T12:25:08.370\n"
     ]
    },
    {
     "name": "stdout",
     "output_type": "stream",
     "text": [
      "Rewards of (n, N)-policy is-26514.736956339784n is 2N is 4\n",
      "60\n",
      "K : 8\n",
      "[0 -2000 -100 -1200 -2000]\n",
      "Finding best nN policy...\n"
     ]
    },
    {
     "name": "stderr",
     "output_type": "stream",
     "text": [
      "\u001b[36m\u001b[1m[ \u001b[22m\u001b[39m\u001b[36m\u001b[1mInfo: \u001b[22m\u001b[39m started timer at: 2025-03-10T13:04:06.510\n"
     ]
    },
    {
     "name": "stdout",
     "output_type": "stream",
     "text": [
      "Rewards of (n, N)-policy is-28353.58708564322n is 2N is 4\n",
      "60\n",
      "K : 8\n",
      "[0 -2400 -100 -1200 -2000]\n",
      "Finding best nN policy...\n"
     ]
    },
    {
     "name": "stderr",
     "output_type": "stream",
     "text": [
      "\u001b[36m\u001b[1m[ \u001b[22m\u001b[39m\u001b[36m\u001b[1mInfo: \u001b[22m\u001b[39m started timer at: 2025-03-10T13:34:41.399\n"
     ]
    },
    {
     "name": "stdout",
     "output_type": "stream",
     "text": [
      "Rewards of (n, N)-policy is-30204.34015531466n is 2N is 4\n",
      "60\n",
      "K : 8\n",
      "[0 -2800 -100 -1200 -2000]\n",
      "Finding best nN policy...\n"
     ]
    },
    {
     "name": "stderr",
     "output_type": "stream",
     "text": [
      "\u001b[36m\u001b[1m[ \u001b[22m\u001b[39m\u001b[36m\u001b[1mInfo: \u001b[22m\u001b[39m started timer at: 2025-03-10T14:04:58.896\n"
     ]
    },
    {
     "name": "stdout",
     "output_type": "stream",
     "text": [
      "Rewards of (n, N)-policy is-32011.546357947587n is 2N is 4\n",
      "60\n",
      "K : 8\n",
      "[0 -3200 -100 -1200 -2000]\n",
      "Finding best nN policy...\n"
     ]
    },
    {
     "name": "stderr",
     "output_type": "stream",
     "text": [
      "\u001b[36m\u001b[1m[ \u001b[22m\u001b[39m\u001b[36m\u001b[1mInfo: \u001b[22m\u001b[39m started timer at: 2025-03-10T14:35:26.475\n"
     ]
    },
    {
     "name": "stdout",
     "output_type": "stream",
     "text": [
      "Rewards of (n, N)-policy is-33848.1493021418n is 2N is 4\n",
      "60"
     ]
    },
    {
     "name": "stderr",
     "output_type": "stream",
     "text": [
      "\u001b[36m\u001b[1m[ \u001b[22m\u001b[39m\u001b[36m\u001b[1mInfo: \u001b[22m\u001b[39m started timer at: 2025-03-10T15:05:46.748\n"
     ]
    },
    {
     "name": "stdout",
     "output_type": "stream",
     "text": [
      "\n",
      "K : 10\n",
      "[0 -800 -100 -1200 -2000]\n",
      "Finding best nN policy...\n",
      "Rewards of (n, N)-policy is-22843.819631935516n is 2N is 4\n",
      "60\n",
      "K : 10\n",
      "[0 -1200 -100 -1200 -2000]\n",
      "Finding best nN policy...\n"
     ]
    },
    {
     "name": "stderr",
     "output_type": "stream",
     "text": [
      "\u001b[36m\u001b[1m[ \u001b[22m\u001b[39m\u001b[36m\u001b[1mInfo: \u001b[22m\u001b[39m started timer at: 2025-03-10T15:36:29.752\n"
     ]
    },
    {
     "name": "stdout",
     "output_type": "stream",
     "text": [
      "Rewards of (n, N)-policy is-24669.64156925989n is 2N is 4\n",
      "60"
     ]
    },
    {
     "name": "stderr",
     "output_type": "stream",
     "text": [
      "\u001b[36m\u001b[1m[ \u001b[22m\u001b[39m\u001b[36m\u001b[1mInfo: \u001b[22m\u001b[39m started timer at: 2025-03-10T16:06:39.435\n"
     ]
    },
    {
     "name": "stdout",
     "output_type": "stream",
     "text": [
      "\n",
      "K : 10\n",
      "[0 -1600 -100 -1200 -2000]\n",
      "Finding best nN policy...\n",
      "Rewards of (n, N)-policy is-26502.155724069118n is 2N is 4\n",
      "60\n",
      "K : 10\n",
      "[0 -2000 -100 -1200 -2000]\n",
      "Finding best nN policy...\n"
     ]
    },
    {
     "name": "stderr",
     "output_type": "stream",
     "text": [
      "\u001b[36m\u001b[1m[ \u001b[22m\u001b[39m\u001b[36m\u001b[1mInfo: \u001b[22m\u001b[39m started timer at: 2025-03-10T16:37:15.951\n"
     ]
    },
    {
     "name": "stdout",
     "output_type": "stream",
     "text": [
      "Rewards of (n, N)-policy is-28379.221018976325n is 2N is 4\n",
      "60\n",
      "K : 10\n",
      "[0 -2400 -100 -1200 -2000]\n",
      "Finding best nN policy...\n"
     ]
    },
    {
     "name": "stderr",
     "output_type": "stream",
     "text": [
      "\u001b[36m\u001b[1m[ \u001b[22m\u001b[39m\u001b[36m\u001b[1mInfo: \u001b[22m\u001b[39m started timer at: 2025-03-10T17:07:42.327\n"
     ]
    },
    {
     "name": "stdout",
     "output_type": "stream",
     "text": [
      "Rewards of (n, N)-policy is-30234.89797961787n is 2N is 4\n",
      "60\n",
      "K : 10\n",
      "[0 -2800 -100 -1200 -2000]\n",
      "Finding best nN policy...\n"
     ]
    },
    {
     "name": "stderr",
     "output_type": "stream",
     "text": [
      "\u001b[36m\u001b[1m[ \u001b[22m\u001b[39m\u001b[36m\u001b[1mInfo: \u001b[22m\u001b[39m started timer at: 2025-03-10T17:38:23.292\n"
     ]
    },
    {
     "name": "stdout",
     "output_type": "stream",
     "text": [
      "Rewards of (n, N)-policy is-31988.16318533789n is 2N is 4\n",
      "60\n",
      "K : 10\n",
      "[0 -3200 -100 -1200 -2000]\n",
      "Finding best nN policy...\n"
     ]
    },
    {
     "name": "stderr",
     "output_type": "stream",
     "text": [
      "\u001b[36m\u001b[1m[ \u001b[22m\u001b[39m\u001b[36m\u001b[1mInfo: \u001b[22m\u001b[39m started timer at: 2025-03-10T18:08:46.552\n"
     ]
    },
    {
     "name": "stdout",
     "output_type": "stream",
     "text": [
      "Rewards of (n, N)-policy is-33874.69346674883n is 2N is 4\n",
      "60\n",
      "K : 12\n",
      "[0 -800 -100 -1200 -2000]\n",
      "Finding best nN policy...\n"
     ]
    },
    {
     "name": "stderr",
     "output_type": "stream",
     "text": [
      "\u001b[36m\u001b[1m[ \u001b[22m\u001b[39m\u001b[36m\u001b[1mInfo: \u001b[22m\u001b[39m started timer at: 2025-03-10T18:39:34.405\n"
     ]
    },
    {
     "name": "stdout",
     "output_type": "stream",
     "text": [
      "Rewards of (n, N)-policy is-22838.371121880566n is 2N is 4\n",
      "60\n",
      "K : 12\n",
      "[0 -1200 -100 -1200 -2000]\n",
      "Finding best nN policy...\n"
     ]
    },
    {
     "name": "stderr",
     "output_type": "stream",
     "text": [
      "\u001b[36m\u001b[1m[ \u001b[22m\u001b[39m\u001b[36m\u001b[1mInfo: \u001b[22m\u001b[39m started timer at: 2025-03-10T19:09:59.363\n"
     ]
    },
    {
     "name": "stdout",
     "output_type": "stream",
     "text": [
      "Rewards of (n, N)-policy is-24665.500494095784n is 2N is 4\n",
      "60\n",
      "K : 12\n",
      "[0 -1600 -100 -1200 -2000]\n",
      "Finding best nN policy...\n"
     ]
    },
    {
     "name": "stderr",
     "output_type": "stream",
     "text": [
      "\u001b[36m\u001b[1m[ \u001b[22m\u001b[39m\u001b[36m\u001b[1mInfo: \u001b[22m\u001b[39m started timer at: 2025-03-10T19:40:33.870\n"
     ]
    },
    {
     "name": "stdout",
     "output_type": "stream",
     "text": [
      "Rewards of (n, N)-policy is-26520.588453410746n is 2N is 4\n",
      "60\n",
      "K : 12\n",
      "[0 -2000 -100 -1200 -2000]\n",
      "Finding best nN policy...\n"
     ]
    },
    {
     "name": "stderr",
     "output_type": "stream",
     "text": [
      "\u001b[36m\u001b[1m[ \u001b[22m\u001b[39m\u001b[36m\u001b[1mInfo: \u001b[22m\u001b[39m started timer at: 2025-03-10T20:11:06.593\n"
     ]
    },
    {
     "name": "stdout",
     "output_type": "stream",
     "text": [
      "Rewards of (n, N)-policy is-28331.63441318676n is 2N is 4\n",
      "60\n",
      "K : 12\n",
      "[0 -2400 -100 -1200 -2000]\n",
      "Finding best nN policy...\n"
     ]
    },
    {
     "name": "stderr",
     "output_type": "stream",
     "text": [
      "\u001b[36m\u001b[1m[ \u001b[22m\u001b[39m\u001b[36m\u001b[1mInfo: \u001b[22m\u001b[39m started timer at: 2025-03-10T20:41:30.520\n"
     ]
    },
    {
     "name": "stdout",
     "output_type": "stream",
     "text": [
      "Rewards of (n, N)-policy is-30201.322045082976n is 2N is 4\n",
      "60\n",
      "K : 12\n",
      "[0 -2800 -100 -1200 -2000]\n",
      "Finding best nN policy...\n"
     ]
    },
    {
     "name": "stderr",
     "output_type": "stream",
     "text": [
      "\u001b[36m\u001b[1m[ \u001b[22m\u001b[39m\u001b[36m\u001b[1mInfo: \u001b[22m\u001b[39m started timer at: 2025-03-10T21:12:11.594\n"
     ]
    },
    {
     "name": "stdout",
     "output_type": "stream",
     "text": [
      "Rewards of (n, N)-policy is-32040.711819956327n is 2N is 4\n",
      "60\n",
      "K : 12\n",
      "[0 -3200 -100 -1200 -2000]\n",
      "Finding best nN policy...\n"
     ]
    },
    {
     "name": "stderr",
     "output_type": "stream",
     "text": [
      "\u001b[36m\u001b[1m[ \u001b[22m\u001b[39m\u001b[36m\u001b[1mInfo: \u001b[22m\u001b[39m started timer at: 2025-03-10T21:42:39.513\n"
     ]
    },
    {
     "name": "stdout",
     "output_type": "stream",
     "text": [
      "Rewards of (n, N)-policy is-33813.86580844982n is 2N is 4\n",
      "60\n",
      "K : 14\n",
      "[0 -800 -100 -1200 -2000]\n",
      "Finding best nN policy...\n"
     ]
    },
    {
     "name": "stderr",
     "output_type": "stream",
     "text": [
      "\u001b[36m\u001b[1m[ \u001b[22m\u001b[39m\u001b[36m\u001b[1mInfo: \u001b[22m\u001b[39m started timer at: 2025-03-10T22:13:01.322\n"
     ]
    },
    {
     "name": "stdout",
     "output_type": "stream",
     "text": [
      "Rewards of (n, N)-policy is-22847.22041306901n is 2N is 4\n",
      "60\n",
      "K : 14\n",
      "[0 -1200 -100 -1200 -2000]\n",
      "Finding best nN policy...\n"
     ]
    },
    {
     "name": "stderr",
     "output_type": "stream",
     "text": [
      "\u001b[36m\u001b[1m[ \u001b[22m\u001b[39m\u001b[36m\u001b[1mInfo: \u001b[22m\u001b[39m started timer at: 2025-03-10T22:43:36.865\n"
     ]
    },
    {
     "name": "stdout",
     "output_type": "stream",
     "text": [
      "Rewards of (n, N)-policy is-24703.696545527608n is 2N is 4\n",
      "60\n",
      "K : 14\n",
      "[0 -1600 -100 -1200 -2000]\n",
      "Finding best nN policy...\n"
     ]
    },
    {
     "name": "stderr",
     "output_type": "stream",
     "text": [
      "\u001b[36m\u001b[1m[ \u001b[22m\u001b[39m\u001b[36m\u001b[1mInfo: \u001b[22m\u001b[39m started timer at: 2025-03-10T23:14:14.628\n"
     ]
    },
    {
     "name": "stdout",
     "output_type": "stream",
     "text": [
      "Rewards of (n, N)-policy is-26523.041215656038n is 2N is 4\n",
      "60"
     ]
    },
    {
     "name": "stderr",
     "output_type": "stream",
     "text": [
      "\u001b[36m\u001b[1m[ \u001b[22m\u001b[39m\u001b[36m\u001b[1mInfo: \u001b[22m\u001b[39m started timer at: 2025-03-10T23:44:44.363\n"
     ]
    },
    {
     "name": "stdout",
     "output_type": "stream",
     "text": [
      "\n",
      "K : 14\n",
      "[0 -2000 -100 -1200 -2000]\n",
      "Finding best nN policy...\n",
      "Rewards of (n, N)-policy is-28344.331908064152n is 2N is 4\n",
      "60\n",
      "K : 14\n",
      "[0 -2400 -100 -1200 -2000]\n",
      "Finding best nN policy...\n"
     ]
    },
    {
     "name": "stderr",
     "output_type": "stream",
     "text": [
      "\u001b[36m\u001b[1m[ \u001b[22m\u001b[39m\u001b[36m\u001b[1mInfo: \u001b[22m\u001b[39m started timer at: 2025-03-11T00:15:25.644\n"
     ]
    },
    {
     "name": "stdout",
     "output_type": "stream",
     "text": [
      "Rewards of (n, N)-policy is-30185.58762888477n is 2N is 4\n",
      "60\n",
      "K : 14\n",
      "[0 -2800 -100 -1200 -2000]\n",
      "Finding best nN policy...\n"
     ]
    },
    {
     "name": "stderr",
     "output_type": "stream",
     "text": [
      "\u001b[36m\u001b[1m[ \u001b[22m\u001b[39m\u001b[36m\u001b[1mInfo: \u001b[22m\u001b[39m started timer at: 2025-03-11T00:45:54.073\n"
     ]
    },
    {
     "name": "stdout",
     "output_type": "stream",
     "text": [
      "Rewards of (n, N)-policy is-32024.541786288613n is 2N is 4\n",
      "60\n",
      "K : 14\n",
      "[0 -3200 -100 -1200 -2000]\n",
      "Finding best nN policy...\n"
     ]
    },
    {
     "name": "stderr",
     "output_type": "stream",
     "text": [
      "\u001b[36m\u001b[1m[ \u001b[22m\u001b[39m\u001b[36m\u001b[1mInfo: \u001b[22m\u001b[39m started timer at: 2025-03-11T01:16:13.885\n"
     ]
    },
    {
     "name": "stdout",
     "output_type": "stream",
     "text": [
      "Rewards of (n, N)-policy is-33860.151564503736n is 2N is 4\n",
      "60\n",
      "K : 16\n",
      "[0 -800 -100 -1200 -2000]\n",
      "Finding best nN policy...\n"
     ]
    },
    {
     "name": "stderr",
     "output_type": "stream",
     "text": [
      "\u001b[36m\u001b[1m[ \u001b[22m\u001b[39m\u001b[36m\u001b[1mInfo: \u001b[22m\u001b[39m started timer at: 2025-03-11T01:46:37.765\n"
     ]
    },
    {
     "name": "stdout",
     "output_type": "stream",
     "text": [
      "Rewards of (n, N)-policy is-22869.742149456444n is 2N is 4\n"
     ]
    },
    {
     "name": "stderr",
     "output_type": "stream",
     "text": [
      "\u001b[36m\u001b[1m[ \u001b[22m\u001b[39m\u001b[36m\u001b[1mInfo: \u001b[22m\u001b[39m started timer at: 2025-03-11T02:17:03.934\n"
     ]
    },
    {
     "name": "stdout",
     "output_type": "stream",
     "text": [
      "60\n",
      "K : 16\n",
      "[0 -1200 -100 -1200 -2000]\n",
      "Finding best nN policy...\n",
      "Rewards of (n, N)-policy is-24685.235574602164n is 2N is 4\n",
      "60\n",
      "K : 16\n",
      "[0 -1600 -100 -1200 -2000]\n",
      "Finding best nN policy...\n"
     ]
    },
    {
     "name": "stderr",
     "output_type": "stream",
     "text": [
      "\u001b[36m\u001b[1m[ \u001b[22m\u001b[39m\u001b[36m\u001b[1mInfo: \u001b[22m\u001b[39m started timer at: 2025-03-11T02:47:35.176\n"
     ]
    },
    {
     "name": "stdout",
     "output_type": "stream",
     "text": [
      "Rewards of (n, N)-policy is-26528.555524694162n is 2N is 4\n",
      "60\n",
      "K : 16\n",
      "[0 -2000 -100 -1200 -2000]\n",
      "Finding best nN policy...\n"
     ]
    },
    {
     "name": "stderr",
     "output_type": "stream",
     "text": [
      "\u001b[36m\u001b[1m[ \u001b[22m\u001b[39m\u001b[36m\u001b[1mInfo: \u001b[22m\u001b[39m started timer at: 2025-03-11T03:18:01.086\n"
     ]
    },
    {
     "name": "stdout",
     "output_type": "stream",
     "text": [
      "Rewards of (n, N)-policy is-28340.742330566376n is 2N is 4\n",
      "60\n",
      "K : 16\n",
      "[0 -2400 -100 -1200 -2000]\n",
      "Finding best nN policy...\n"
     ]
    },
    {
     "name": "stderr",
     "output_type": "stream",
     "text": [
      "\u001b[36m\u001b[1m[ \u001b[22m\u001b[39m\u001b[36m\u001b[1mInfo: \u001b[22m\u001b[39m started timer at: 2025-03-11T03:48:12.529\n"
     ]
    },
    {
     "name": "stdout",
     "output_type": "stream",
     "text": [
      "Rewards of (n, N)-policy is-30193.406338042n is 2N is 4\n",
      "60\n",
      "K : 16\n",
      "[0 -2800 -100 -1200 -2000]\n",
      "Finding best nN policy...\n"
     ]
    },
    {
     "name": "stderr",
     "output_type": "stream",
     "text": [
      "\u001b[36m\u001b[1m[ \u001b[22m\u001b[39m\u001b[36m\u001b[1mInfo: \u001b[22m\u001b[39m started timer at: 2025-03-11T04:19:02.996\n"
     ]
    },
    {
     "name": "stdout",
     "output_type": "stream",
     "text": [
      "Rewards of (n, N)-policy is-32022.748856926042n is 2N is 4\n",
      "60\n",
      "K : 16\n",
      "[0 -3200 -100 -1200 -2000]\n",
      "Finding best nN policy...\n"
     ]
    },
    {
     "name": "stderr",
     "output_type": "stream",
     "text": [
      "\u001b[36m\u001b[1m[ \u001b[22m\u001b[39m\u001b[36m\u001b[1mInfo: \u001b[22m\u001b[39m started timer at: 2025-03-11T04:49:32.015\n"
     ]
    },
    {
     "name": "stdout",
     "output_type": "stream",
     "text": [
      "Rewards of (n, N)-policy is-33863.823113022634n is 2N is 4\n",
      "60\n",
      "K : 18\n",
      "[0 -800 -100 -1200 -2000]\n",
      "Finding best nN policy...\n"
     ]
    },
    {
     "name": "stderr",
     "output_type": "stream",
     "text": [
      "\u001b[36m\u001b[1m[ \u001b[22m\u001b[39m\u001b[36m\u001b[1mInfo: \u001b[22m\u001b[39m started timer at: 2025-03-11T05:20:06.777\n"
     ]
    },
    {
     "name": "stdout",
     "output_type": "stream",
     "text": [
      "Rewards of (n, N)-policy is-22838.48043137803n is 2N is 4\n",
      "60\n",
      "K : 18\n",
      "[0 -1200 -100 -1200 -2000]\n",
      "Finding best nN policy...\n"
     ]
    },
    {
     "name": "stderr",
     "output_type": "stream",
     "text": [
      "\u001b[36m\u001b[1m[ \u001b[22m\u001b[39m\u001b[36m\u001b[1mInfo: \u001b[22m\u001b[39m started timer at: 2025-03-11T05:50:31.457\n"
     ]
    },
    {
     "name": "stdout",
     "output_type": "stream",
     "text": [
      "Rewards of (n, N)-policy is-24659.872726226225n is 2N is 4\n",
      "60\n",
      "K : 18\n",
      "[0 -1600 -100 -1200 -2000]\n",
      "Finding best nN policy...\n"
     ]
    },
    {
     "name": "stderr",
     "output_type": "stream",
     "text": [
      "\u001b[36m\u001b[1m[ \u001b[22m\u001b[39m\u001b[36m\u001b[1mInfo: \u001b[22m\u001b[39m started timer at: 2025-03-11T06:21:13.379\n"
     ]
    },
    {
     "name": "stdout",
     "output_type": "stream",
     "text": [
      "Rewards of (n, N)-policy is-26520.68926721462n is 2N is 4\n",
      "60\n",
      "K : 18\n",
      "[0 -2000 -100 -1200 -2000]\n",
      "Finding best nN policy...\n"
     ]
    },
    {
     "name": "stderr",
     "output_type": "stream",
     "text": [
      "\u001b[36m\u001b[1m[ \u001b[22m\u001b[39m\u001b[36m\u001b[1mInfo: \u001b[22m\u001b[39m started timer at: 2025-03-11T06:51:30.373\n"
     ]
    },
    {
     "name": "stdout",
     "output_type": "stream",
     "text": [
      "Rewards of (n, N)-policy is-28370.182884525286n is 2N is 4\n",
      "60\n",
      "K : 18\n",
      "[0 -2400 -100 -1200 -2000]\n",
      "Finding best nN policy...\n"
     ]
    },
    {
     "name": "stderr",
     "output_type": "stream",
     "text": [
      "\u001b[36m\u001b[1m[ \u001b[22m\u001b[39m\u001b[36m\u001b[1mInfo: \u001b[22m\u001b[39m started timer at: 2025-03-11T07:22:03.232\n"
     ]
    },
    {
     "name": "stdout",
     "output_type": "stream",
     "text": [
      "Rewards of (n, N)-policy is-30164.979665967672n is 2N is 4\n",
      "60\n",
      "K : 18\n",
      "[0 -2800 -100 -1200 -2000]\n",
      "Finding best nN policy...\n"
     ]
    },
    {
     "name": "stderr",
     "output_type": "stream",
     "text": [
      "\u001b[36m\u001b[1m[ \u001b[22m\u001b[39m\u001b[36m\u001b[1mInfo: \u001b[22m\u001b[39m started timer at: 2025-03-11T07:52:31.432\n"
     ]
    },
    {
     "name": "stdout",
     "output_type": "stream",
     "text": [
      "Rewards of (n, N)-policy is-32025.78033191936n is 2N is 4\n",
      "60\n",
      "K : 18\n",
      "[0 -3200 -100 -1200 -2000]\n",
      "Finding best nN policy...\n"
     ]
    },
    {
     "name": "stderr",
     "output_type": "stream",
     "text": [
      "\u001b[36m\u001b[1m[ \u001b[22m\u001b[39m\u001b[36m\u001b[1mInfo: \u001b[22m\u001b[39m started timer at: 2025-03-11T08:23:22.605\n"
     ]
    },
    {
     "name": "stdout",
     "output_type": "stream",
     "text": [
      "Rewards of (n, N)-policy is-33873.12420474241n is 2N is 4\n",
      "60\n",
      "K : 20\n"
     ]
    },
    {
     "name": "stderr",
     "output_type": "stream",
     "text": [
      "\u001b[36m\u001b[1m[ \u001b[22m\u001b[39m\u001b[36m\u001b[1mInfo: \u001b[22m\u001b[39m started timer at: 2025-03-11T08:53:58.025\n"
     ]
    },
    {
     "name": "stdout",
     "output_type": "stream",
     "text": [
      "[0 -800 -100 -1200 -2000]\n",
      "Finding best nN policy...\n",
      "Rewards of (n, N)-policy is-22816.213211464885n is 2N is 4\n",
      "60\n",
      "K : 20\n",
      "[0 -1200 -100 -1200 -2000]\n",
      "Finding best nN policy...\n"
     ]
    },
    {
     "name": "stderr",
     "output_type": "stream",
     "text": [
      "\u001b[36m\u001b[1m[ \u001b[22m\u001b[39m\u001b[36m\u001b[1mInfo: \u001b[22m\u001b[39m started timer at: 2025-03-11T09:24:47.587\n"
     ]
    },
    {
     "name": "stdout",
     "output_type": "stream",
     "text": [
      "Rewards of (n, N)-policy is-24706.401831055624n is 2N is 4\n",
      "60\n",
      "K : 20\n",
      "[0 -1600 "
     ]
    },
    {
     "name": "stderr",
     "output_type": "stream",
     "text": [
      "\u001b[36m\u001b[1m[ \u001b[22m\u001b[39m\u001b[36m\u001b[1mInfo: \u001b[22m\u001b[39m started timer at: 2025-03-11T09:55:14.001\n"
     ]
    },
    {
     "name": "stdout",
     "output_type": "stream",
     "text": [
      "-100 -1200 -2000]\n",
      "Finding best nN policy...\n",
      "Rewards of (n, N)-policy is-26523.74760622147n is 2N is 4\n",
      "60\n",
      "K : 20\n",
      "[0 -2000 -100 -1200 -2000]\n",
      "Finding best nN policy...\n"
     ]
    },
    {
     "name": "stderr",
     "output_type": "stream",
     "text": [
      "\u001b[36m\u001b[1m[ \u001b[22m\u001b[39m\u001b[36m\u001b[1mInfo: \u001b[22m\u001b[39m started timer at: 2025-03-11T10:25:57.180\n"
     ]
    },
    {
     "name": "stdout",
     "output_type": "stream",
     "text": [
      "Rewards of (n, N)-policy is-28354.093482235665n is 2N is 4\n",
      "60\n",
      "K : 20\n",
      "[0 -2400 -100 -1200 -2000]\n",
      "Finding best nN policy...\n"
     ]
    },
    {
     "name": "stderr",
     "output_type": "stream",
     "text": [
      "\u001b[36m\u001b[1m[ \u001b[22m\u001b[39m\u001b[36m\u001b[1mInfo: \u001b[22m\u001b[39m started timer at: 2025-03-11T10:56:31.798\n"
     ]
    },
    {
     "name": "stdout",
     "output_type": "stream",
     "text": [
      "Rewards of (n, N)-policy is-30215.9624327446n is 2N is 4\n",
      "60\n",
      "K : 20\n",
      "[0 -2800 -100 -1200 -2000]\n",
      "Finding best nN policy...\n"
     ]
    },
    {
     "name": "stderr",
     "output_type": "stream",
     "text": [
      "\u001b[36m\u001b[1m[ \u001b[22m\u001b[39m\u001b[36m\u001b[1mInfo: \u001b[22m\u001b[39m started timer at: 2025-03-11T11:26:59.282\n"
     ]
    },
    {
     "name": "stdout",
     "output_type": "stream",
     "text": [
      "Rewards of (n, N)-policy is-32007.910515111675n is 2N is 4\n",
      "60\n",
      "K : 20\n",
      "[0 -3200 -100 -1200 -2000]\n",
      "Finding best nN policy...\n"
     ]
    },
    {
     "name": "stderr",
     "output_type": "stream",
     "text": [
      "\u001b[36m\u001b[1m[ \u001b[22m\u001b[39m\u001b[36m\u001b[1mInfo: \u001b[22m\u001b[39m started timer at: 2025-03-11T11:57:36.134\n"
     ]
    },
    {
     "name": "stdout",
     "output_type": "stream",
     "text": [
      "Rewards of (n, N)-policy is-33831.89492521572n is 2N is 4\n",
      "60\n",
      "K : 22\n",
      "[0 -800 -100 -1200 -2000]\n",
      "Finding best nN policy...\n"
     ]
    },
    {
     "name": "stderr",
     "output_type": "stream",
     "text": [
      "\u001b[36m\u001b[1m[ \u001b[22m\u001b[39m\u001b[36m\u001b[1mInfo: \u001b[22m\u001b[39m started timer at: 2025-03-11T12:28:00.212\n"
     ]
    },
    {
     "name": "stdout",
     "output_type": "stream",
     "text": [
      "Rewards of (n, N)-policy is-22835.295733205687n is 2N is 4\n",
      "60\n",
      "K : 22\n",
      "[0 -1200 -100 -1200 -2000]\n",
      "Finding best nN policy...\n"
     ]
    },
    {
     "name": "stderr",
     "output_type": "stream",
     "text": [
      "\u001b[36m\u001b[1m[ \u001b[22m\u001b[39m\u001b[36m\u001b[1mInfo: \u001b[22m\u001b[39m started timer at: 2025-03-11T12:58:21.505\n"
     ]
    },
    {
     "name": "stdout",
     "output_type": "stream",
     "text": [
      "Rewards of (n, N)-policy is-24681.622233928956n is 2N is 4\n",
      "60\n",
      "K : 22\n",
      "[0 -1600 -100 -1200 -2000]\n",
      "Finding best nN policy...\n"
     ]
    },
    {
     "name": "stderr",
     "output_type": "stream",
     "text": [
      "\u001b[36m\u001b[1m[ \u001b[22m\u001b[39m\u001b[36m\u001b[1mInfo: \u001b[22m\u001b[39m started timer at: 2025-03-11T13:28:50.165\n"
     ]
    },
    {
     "name": "stdout",
     "output_type": "stream",
     "text": [
      "Rewards of (n, N)-policy is-26504.760185360392n is 2N is 4\n",
      "60\n",
      "K : 22\n",
      "[0 -2000 -100 -1200 -2000]\n",
      "Finding best nN policy...\n"
     ]
    },
    {
     "name": "stderr",
     "output_type": "stream",
     "text": [
      "\u001b[36m\u001b[1m[ \u001b[22m\u001b[39m\u001b[36m\u001b[1mInfo: \u001b[22m\u001b[39m started timer at: 2025-03-11T13:59:13.706\n"
     ]
    },
    {
     "name": "stdout",
     "output_type": "stream",
     "text": [
      "Rewards of (n, N)-policy is-28316.64837776242n is 2N is 4\n",
      "60\n",
      "K : 22\n",
      "[0 -2400 -100 -1200 -2000]\n",
      "Finding best nN policy...\n"
     ]
    },
    {
     "name": "stderr",
     "output_type": "stream",
     "text": [
      "\u001b[36m\u001b[1m[ \u001b[22m\u001b[39m\u001b[36m\u001b[1mInfo: \u001b[22m\u001b[39m started timer at: 2025-03-11T14:29:42.834\n"
     ]
    },
    {
     "name": "stdout",
     "output_type": "stream",
     "text": [
      "Rewards of (n, N)-policy is-30161.60821341663n is 2N is 4\n",
      "60\n",
      "K : 22\n",
      "[0 -2800 -100 -1200 -2000]\n",
      "Finding best nN policy...\n"
     ]
    },
    {
     "name": "stderr",
     "output_type": "stream",
     "text": [
      "\u001b[36m\u001b[1m[ \u001b[22m\u001b[39m\u001b[36m\u001b[1mInfo: \u001b[22m\u001b[39m started timer at: 2025-03-11T15:00:09.908\n"
     ]
    },
    {
     "name": "stdout",
     "output_type": "stream",
     "text": [
      "Rewards of (n, N)-policy is-31971.174900201553n is 2N is 4\n",
      "60\n",
      "K : 22\n",
      "[0 -3200 -100 -1200 -2000]\n",
      "Finding best nN policy...\n"
     ]
    },
    {
     "name": "stderr",
     "output_type": "stream",
     "text": [
      "\u001b[36m\u001b[1m[ \u001b[22m\u001b[39m\u001b[36m\u001b[1mInfo: \u001b[22m\u001b[39m started timer at: 2025-03-11T15:30:37.005\n"
     ]
    },
    {
     "name": "stdout",
     "output_type": "stream",
     "text": [
      "Rewards of (n, N)-policy is-33829.45094387743n is 2N is 4\n",
      "60\n",
      "K : 24\n",
      "[0 -800 -100 -1200 -2000]\n",
      "Finding best nN policy...\n"
     ]
    },
    {
     "name": "stderr",
     "output_type": "stream",
     "text": [
      "\u001b[36m\u001b[1m[ \u001b[22m\u001b[39m\u001b[36m\u001b[1mInfo: \u001b[22m\u001b[39m started timer at: 2025-03-11T16:01:15.553\n"
     ]
    },
    {
     "name": "stdout",
     "output_type": "stream",
     "text": [
      "Rewards of (n, N)-policy is-22847.663508694837n is 2N is 4\n",
      "60\n",
      "K : 24\n",
      "[0 -1200 -100 -1200 -2000]\n",
      "Finding best nN policy...\n"
     ]
    },
    {
     "name": "stderr",
     "output_type": "stream",
     "text": [
      "\u001b[36m\u001b[1m[ \u001b[22m\u001b[39m\u001b[36m\u001b[1mInfo: \u001b[22m\u001b[39m started timer at: 2025-03-11T16:31:48.157\n"
     ]
    },
    {
     "name": "stdout",
     "output_type": "stream",
     "text": [
      "Rewards of (n, N)-policy is-24690.222955458583n is 2N is 4\n",
      "60\n",
      "K : 24\n",
      "[0 -1600 -100 -1200 -2000]\n",
      "Finding best nN policy...\n"
     ]
    },
    {
     "name": "stderr",
     "output_type": "stream",
     "text": [
      "\u001b[36m\u001b[1m[ \u001b[22m\u001b[39m\u001b[36m\u001b[1mInfo: \u001b[22m\u001b[39m started timer at: 2025-03-11T17:02:16.930\n"
     ]
    },
    {
     "name": "stdout",
     "output_type": "stream",
     "text": [
      "Rewards of (n, N)-policy is-26504.366079611376n is 2N is 4\n",
      "60\n",
      "K : 24\n",
      "[0 -2000 -100 -1200 -2000]\n",
      "Finding best nN policy...\n"
     ]
    },
    {
     "name": "stderr",
     "output_type": "stream",
     "text": [
      "\u001b[36m\u001b[1m[ \u001b[22m\u001b[39m\u001b[36m\u001b[1mInfo: \u001b[22m\u001b[39m started timer at: 2025-03-11T17:32:57.126\n"
     ]
    },
    {
     "name": "stdout",
     "output_type": "stream",
     "text": [
      "Rewards of (n, N)-policy is-28352.839514879797n is 2N is 4\n",
      "60\n",
      "K : 24\n",
      "[0 -2400 -100 -1200 -2000]\n",
      "Finding best nN policy...\n"
     ]
    },
    {
     "name": "stderr",
     "output_type": "stream",
     "text": [
      "\u001b[36m\u001b[1m[ \u001b[22m\u001b[39m\u001b[36m\u001b[1mInfo: \u001b[22m\u001b[39m started timer at: 2025-03-11T18:03:19.229\n"
     ]
    },
    {
     "name": "stdout",
     "output_type": "stream",
     "text": [
      "Rewards of (n, N)-policy is-30198.541323914076n is 2N is 4\n",
      "60\n",
      "K : 24\n",
      "[0 -2800 -100 -1200 -2000]\n",
      "Finding best nN policy...\n"
     ]
    },
    {
     "name": "stderr",
     "output_type": "stream",
     "text": [
      "\u001b[36m\u001b[1m[ \u001b[22m\u001b[39m\u001b[36m\u001b[1mInfo: \u001b[22m\u001b[39m started timer at: 2025-03-11T18:34:03.111\n"
     ]
    },
    {
     "name": "stdout",
     "output_type": "stream",
     "text": [
      "Rewards of (n, N)-policy is-32042.966152807832n is 2N is 4\n",
      "60\n",
      "K : 24\n",
      "[0 -3200 -100 -1200 -2000]\n",
      "Finding best nN policy...\n"
     ]
    },
    {
     "name": "stderr",
     "output_type": "stream",
     "text": [
      "\u001b[36m\u001b[1m[ \u001b[22m\u001b[39m\u001b[36m\u001b[1mInfo: \u001b[22m\u001b[39m started timer at: 2025-03-11T19:04:23.833\n"
     ]
    },
    {
     "name": "stdout",
     "output_type": "stream",
     "text": [
      "Rewards of (n, N)-policy is-33914.47287770689n is 2N is 4\n",
      "60\n",
      "K : 26\n",
      "[0 -800 -100 -1200 -2000]\n",
      "Finding best nN policy...\n"
     ]
    },
    {
     "name": "stderr",
     "output_type": "stream",
     "text": [
      "\u001b[36m\u001b[1m[ \u001b[22m\u001b[39m\u001b[36m\u001b[1mInfo: \u001b[22m\u001b[39m started timer at: 2025-03-11T19:34:47.533\n"
     ]
    },
    {
     "name": "stdout",
     "output_type": "stream",
     "text": [
      "Rewards of (n, N)-policy is-22830.264854995712n is 2N is 4\n",
      "60\n",
      "K : 26\n",
      "[0 -1200 -100 -1200 -2000]\n",
      "Finding best nN policy...\n"
     ]
    },
    {
     "name": "stderr",
     "output_type": "stream",
     "text": [
      "\u001b[36m\u001b[1m[ \u001b[22m\u001b[39m\u001b[36m\u001b[1mInfo: \u001b[22m\u001b[39m started timer at: 2025-03-11T20:05:25.028\n"
     ]
    },
    {
     "name": "stdout",
     "output_type": "stream",
     "text": [
      "Rewards of (n, N)-policy is-24684.245389326963n is 2N is 4\n",
      "60\n",
      "K : 26\n",
      "[0 -1600 -100 -1200 -2000]\n",
      "Finding best nN policy...\n"
     ]
    },
    {
     "name": "stderr",
     "output_type": "stream",
     "text": [
      "\u001b[36m\u001b[1m[ \u001b[22m\u001b[39m\u001b[36m\u001b[1mInfo: \u001b[22m\u001b[39m started timer at: 2025-03-11T20:36:02.240\n"
     ]
    },
    {
     "name": "stdout",
     "output_type": "stream",
     "text": [
      "Rewards of (n, N)-policy is-26510.597497248564n is 2N is 4\n",
      "60\n",
      "K : 26\n",
      "[0 -2000 -100 -1200 -2000]\n",
      "Finding best nN policy...\n"
     ]
    },
    {
     "name": "stderr",
     "output_type": "stream",
     "text": [
      "\u001b[36m\u001b[1m[ \u001b[22m\u001b[39m\u001b[36m\u001b[1mInfo: \u001b[22m\u001b[39m started timer at: 2025-03-11T21:06:24.430\n"
     ]
    },
    {
     "name": "stdout",
     "output_type": "stream",
     "text": [
      "Rewards of (n, N)-policy is-28358.941000840427n is 2N is 4\n",
      "60\n",
      "K : 26\n",
      "[0 -2400 -100 -1200 -2000]\n",
      "Finding best nN policy...\n"
     ]
    },
    {
     "name": "stderr",
     "output_type": "stream",
     "text": [
      "\u001b[36m\u001b[1m[ \u001b[22m\u001b[39m\u001b[36m\u001b[1mInfo: \u001b[22m\u001b[39m started timer at: 2025-03-11T21:37:09.367\n"
     ]
    },
    {
     "name": "stdout",
     "output_type": "stream",
     "text": [
      "Rewards of (n, N)-policy is-30175.88379887243n is 2N is 4\n",
      "60\n",
      "K : 26\n",
      "[0 -2800 -100 -1200 -2000]\n",
      "Finding best nN policy...\n"
     ]
    },
    {
     "name": "stderr",
     "output_type": "stream",
     "text": [
      "\u001b[36m\u001b[1m[ \u001b[22m\u001b[39m\u001b[36m\u001b[1mInfo: \u001b[22m\u001b[39m started timer at: 2025-03-11T22:07:48.889\n"
     ]
    },
    {
     "name": "stdout",
     "output_type": "stream",
     "text": [
      "Rewards of (n, N)-policy is-32080.54414948076n is 2N is 4\n",
      "60\n",
      "K : 26\n",
      "[0 -3200 -100 -1200 -2000]\n",
      "Finding best nN policy...\n"
     ]
    },
    {
     "name": "stderr",
     "output_type": "stream",
     "text": [
      "\u001b[36m\u001b[1m[ \u001b[22m\u001b[39m\u001b[36m\u001b[1mInfo: \u001b[22m\u001b[39m started timer at: 2025-03-11T22:38:21.291\n"
     ]
    },
    {
     "name": "stdout",
     "output_type": "stream",
     "text": [
      "Rewards of (n, N)-policy is-33853.20058333949n is 2N is 4\n"
     ]
    },
    {
     "name": "stderr",
     "output_type": "stream",
     "text": [
      "\u001b[36m\u001b[1m[ \u001b[22m\u001b[39m\u001b[36m\u001b[1mInfo: \u001b[22m\u001b[39m started timer at: 2025-03-11T23:08:46.517\n"
     ]
    },
    {
     "name": "stdout",
     "output_type": "stream",
     "text": [
      "60\n",
      "K : 28\n",
      "[0 -800 -100 -1200 -2000]\n",
      "Finding best nN policy...\n",
      "Rewards of (n, N)-policy is-22836.75082561229n is 2N is 4\n",
      "60\n",
      "K : 28\n",
      "[0 -1200 -100 -1200 -2000]\n",
      "Finding best nN policy...\n"
     ]
    },
    {
     "name": "stderr",
     "output_type": "stream",
     "text": [
      "\u001b[36m\u001b[1m[ \u001b[22m\u001b[39m\u001b[36m\u001b[1mInfo: \u001b[22m\u001b[39m started timer at: 2025-03-11T23:39:18.130\n"
     ]
    },
    {
     "name": "stdout",
     "output_type": "stream",
     "text": [
      "Rewards of (n, N)-policy is-24664.534847289317n is 2N is 4\n",
      "60\n",
      "K : 28\n",
      "[0 -1600 -100 -1200 -2000]\n",
      "Finding best nN policy...\n"
     ]
    },
    {
     "name": "stderr",
     "output_type": "stream",
     "text": [
      "\u001b[36m\u001b[1m[ \u001b[22m\u001b[39m\u001b[36m\u001b[1mInfo: \u001b[22m\u001b[39m started timer at: 2025-03-12T00:09:33.312\n"
     ]
    },
    {
     "name": "stdout",
     "output_type": "stream",
     "text": [
      "Rewards of (n, N)-policy is-26557.433701710266n is 2N is 4\n",
      "60\n",
      "K : 28\n",
      "[0 -2000 -100 -1200 -2000]\n",
      "Finding best nN policy...\n"
     ]
    },
    {
     "name": "stderr",
     "output_type": "stream",
     "text": [
      "\u001b[36m\u001b[1m[ \u001b[22m\u001b[39m\u001b[36m\u001b[1mInfo: \u001b[22m\u001b[39m started timer at: 2025-03-12T00:40:29.161\n"
     ]
    },
    {
     "name": "stdout",
     "output_type": "stream",
     "text": [
      "Rewards of (n, N)-policy is-28382.345955506386n is 2N is 4\n",
      "60\n",
      "K : 28\n",
      "[0 -2400 -100 -1200 -2000]\n",
      "Finding best nN policy...\n"
     ]
    },
    {
     "name": "stderr",
     "output_type": "stream",
     "text": [
      "\u001b[36m\u001b[1m[ \u001b[22m\u001b[39m\u001b[36m\u001b[1mInfo: \u001b[22m\u001b[39m started timer at: 2025-03-12T01:11:09.929\n"
     ]
    },
    {
     "name": "stdout",
     "output_type": "stream",
     "text": [
      "Rewards of (n, N)-policy is-30143.18655950061n is 2N is 4\n",
      "60\n",
      "K : 28\n",
      "[0 -2800 -100 -1200 -2000]\n",
      "Finding best nN policy...\n"
     ]
    },
    {
     "name": "stderr",
     "output_type": "stream",
     "text": [
      "\u001b[36m\u001b[1m[ \u001b[22m\u001b[39m\u001b[36m\u001b[1mInfo: \u001b[22m\u001b[39m started timer at: 2025-03-12T01:41:54.360\n"
     ]
    },
    {
     "name": "stdout",
     "output_type": "stream",
     "text": [
      "Rewards of (n, N)-policy is-32062.099414472566n is 2N is 4\n",
      "60\n",
      "K : 28\n",
      "[0 -3200 -100 -1200 -2000]\n",
      "Finding best nN policy...\n"
     ]
    },
    {
     "name": "stderr",
     "output_type": "stream",
     "text": [
      "\u001b[36m\u001b[1m[ \u001b[22m\u001b[39m\u001b[36m\u001b[1mInfo: \u001b[22m\u001b[39m started timer at: 2025-03-12T02:12:25.169\n"
     ]
    },
    {
     "name": "stdout",
     "output_type": "stream",
     "text": [
      "Rewards of (n, N)-policy is-33823.553547005555n is 2N is 4\n",
      "60\n",
      "K : 30\n",
      "[0 -800 -100 -1200 -2000]\n",
      "Finding best nN policy...\n"
     ]
    },
    {
     "name": "stderr",
     "output_type": "stream",
     "text": [
      "\u001b[36m\u001b[1m[ \u001b[22m\u001b[39m\u001b[36m\u001b[1mInfo: \u001b[22m\u001b[39m started timer at: 2025-03-12T02:42:59.654\n"
     ]
    },
    {
     "name": "stdout",
     "output_type": "stream",
     "text": [
      "Rewards of (n, N)-policy is-22884.211235529743n is 2N is 4\n",
      "60\n",
      "K : 30\n",
      "[0 -1200 -100 -1200 -2000]\n",
      "Finding best nN policy...\n"
     ]
    },
    {
     "name": "stderr",
     "output_type": "stream",
     "text": [
      "\u001b[36m\u001b[1m[ \u001b[22m\u001b[39m\u001b[36m\u001b[1mInfo: \u001b[22m\u001b[39m started timer at: 2025-03-12T03:13:42.737\n"
     ]
    },
    {
     "name": "stdout",
     "output_type": "stream",
     "text": [
      "Rewards of (n, N)-policy is-24724.260679933483n is 2N is 4\n",
      "60\n",
      "K : 30\n",
      "[0 -1600 -100 -1200 -2000]\n",
      "Finding best nN policy...\n"
     ]
    },
    {
     "name": "stderr",
     "output_type": "stream",
     "text": [
      "\u001b[36m\u001b[1m[ \u001b[22m\u001b[39m\u001b[36m\u001b[1mInfo: \u001b[22m\u001b[39m started timer at: 2025-03-12T03:44:23.185\n"
     ]
    },
    {
     "name": "stdout",
     "output_type": "stream",
     "text": [
      "Rewards of (n, N)-policy is-26525.35676244955n is 2N is 4\n",
      "60\n",
      "K : 30\n",
      "[0 -2000 -100 -1200 -2000]\n",
      "Finding best nN policy...\n"
     ]
    },
    {
     "name": "stderr",
     "output_type": "stream",
     "text": [
      "\u001b[36m\u001b[1m[ \u001b[22m\u001b[39m\u001b[36m\u001b[1mInfo: \u001b[22m\u001b[39m started timer at: 2025-03-12T04:15:12.493\n"
     ]
    },
    {
     "name": "stdout",
     "output_type": "stream",
     "text": [
      "Rewards of (n, N)-policy is-28332.21991155191n is 2N is 4\n",
      "60\n",
      "K : 30\n",
      "[0 -2400 -100 -1200 -2000]\n",
      "Finding best nN policy...\n"
     ]
    },
    {
     "name": "stderr",
     "output_type": "stream",
     "text": [
      "\u001b[36m\u001b[1m[ \u001b[22m\u001b[39m\u001b[36m\u001b[1mInfo: \u001b[22m\u001b[39m started timer at: 2025-03-12T04:45:40.835\n"
     ]
    },
    {
     "name": "stdout",
     "output_type": "stream",
     "text": [
      "Rewards of (n, N)-policy is-30200.146179459727n is 2N is 4\n",
      "60\n",
      "K : 30\n",
      "[0 -2800 -100 -1200 -2000]\n",
      "Finding best nN policy...\n"
     ]
    },
    {
     "name": "stderr",
     "output_type": "stream",
     "text": [
      "\u001b[36m\u001b[1m[ \u001b[22m\u001b[39m\u001b[36m\u001b[1mInfo: \u001b[22m\u001b[39m started timer at: 2025-03-12T05:16:12.103\n"
     ]
    },
    {
     "name": "stdout",
     "output_type": "stream",
     "text": [
      "Rewards of (n, N)-policy is-32030.43886929825n is 2N is 4\n",
      "60\n",
      "K : 30\n",
      "[0 -3200 -100 -1200 -2000]\n",
      "Finding best nN policy...\n"
     ]
    },
    {
     "name": "stderr",
     "output_type": "stream",
     "text": [
      "\u001b[36m\u001b[1m[ \u001b[22m\u001b[39m\u001b[36m\u001b[1mInfo: \u001b[22m\u001b[39m started timer at: 2025-03-12T05:46:47.625\n"
     ]
    },
    {
     "name": "stdout",
     "output_type": "stream",
     "text": [
      "Rewards of (n, N)-policy is-33853.66417469103n is 2N is 4\n"
     ]
    }
   ],
   "source": [
    "using DataFrames\n",
    "df= DataFrame(u=[],K=[],n=[],s=[],m=[],f=[],p=[],mean=[],std=[],nN=[])\n",
    "\n",
    "cost=[ \n",
    "    [0\t-800\t-100\t-1200 -2000],\n",
    "    [0\t-1200\t-100\t-1200 -2000],\n",
    "    [0\t-1600\t-100\t-1200 -2000],\n",
    "    [0\t-2000\t-100\t-1200 -2000],\n",
    "    [0  -2400   -100    -1200 -2000],\n",
    "    [0  -2800   -100    -1200 -2000],\n",
    "    [0  -3200   -100    -1200 -2000]\n",
    "] \n",
    "\n",
    "\n",
    "for units in [20, 25, 30, 40, 50, 60]\n",
    "\n",
    "    for K in 2:2:convert(Int64, floor((units+1)/2)) \n",
    "        \n",
    "        global NumberUnits=convert(Int64,units)\n",
    "        global limit=convert(Int64,K)\n",
    "        global crd = Array{Categorical}(undef,Number_level)\n",
    "        for i in 1:Number_level\n",
    "            global crd[i] = Categorical(Transition_matrix[i,:]);\n",
    "        end\n",
    "            \n",
    "        # global initialb= zeros(NumberUnits, Number_level)  \n",
    "        # global initialb[:, 1] .= 1.0\n",
    "        for c in cost\n",
    "            tick()\n",
    "            println(units)  \n",
    "            print(\"K : \")\n",
    "            println(K)\n",
    "            global normal_operation,setup_cost,maintenance_penalty,failure_penalty,system_penalty=c\n",
    "            println(c)  \n",
    "            global NumberUnits=units\n",
    "\n",
    "            global simsteps = 100;\n",
    "            global repetition = 10000;\n",
    "            global rewards_nN = zeros(Number_level,Number_level);\n",
    "            global rewards_nN = rewards_nN.+(-100000000.0);\n",
    "            global rewards_nN_std = zeros(Number_level,Number_level);\n",
    "            global rewards_nN_std = rewards_nN_std.+(-100000000.0);\n",
    "\n",
    "            global discount_factor =gamma\n",
    "            global temp_rewards = zeros(repetition,1);\n",
    "            # Looking for optimal (n, N)\n",
    "            nN =findnN()\n",
    "            n=nN[1]\n",
    "            N=nN[2]\n",
    "            \n",
    "            trials=10000;\n",
    "            results=zeros(trials)*0.1\n",
    "            # cnt_maintenance = zeros(trials)\n",
    "            rewards=0.0\n",
    "            rewards_std=0.0\n",
    "            Threads.@threads for h in 1:trials\n",
    "                s=repeat(1:1,NumberUnits)\n",
    "                # o=s \n",
    "                o = rand(Initialobs, NumberUnits)\n",
    "                # belief = [[1.0, 0.0, 0.0, 0.0] for j in 1:NumberUnits]\n",
    "                belief = [Observation_matrix[1,:] for j in 1:NumberUnits]\n",
    "                R_sequence=[]\n",
    "              \n",
    "                \n",
    "                # maintenance_count = 0\n",
    "                for k in 1:simsteps\n",
    "                    # s_belief = [argmax(row) for row in eachrow(belief)]\n",
    "                    s_belief = argmax.(belief)\n",
    "                    # if h==1\n",
    "                    #     println(\"The belief vector is \", belief)\n",
    "                    #     println(\"====================================================\")\n",
    "                    #     println(\"The maximum likelihood state vector is\", s_belief)\n",
    "                    # end\n",
    "                    local_a = Number_level +1; \n",
    "                    for i in 1:NumberUnits\n",
    "                    # If there is any unit reaching or exceeding threshold N, \n",
    "                    # maintain all the units reaching or exceeding threshold n,\n",
    "                    # otherwise, no maintenance.\n",
    "                    # As a result, when system fails, there are components at failure level,\n",
    "                    # so N must be reached.\n",
    "                        if s_belief[i]>= N\n",
    "                            local_a=n\n",
    "                        end\n",
    "                    end\n",
    "                    # true_a=local_a\n",
    "                    # s is the system-level state vector\n",
    "                    # if local_a <= Number_level\n",
    "                    #     # println(\"maintain\")\n",
    "                    #     maintenance_count += 1\n",
    "                    # end\n",
    "                    s,r,o=generative(s,s_belief,local_a,234) \n",
    "                    for i in 1: NumberUnits\n",
    "                        # modified: belief[i,:] to belief[i]\n",
    "                        belief[i]=update_belief(belief[i], s_belief[i],local_a, o[i])\n",
    "\n",
    "                    end\n",
    "                    append!(R_sequence,r)\n",
    "                end\n",
    "                R_discounted=0.0\n",
    "                for k in 1:simsteps\n",
    "                    R_discounted=gamma * R_discounted+R_sequence[simsteps-k+1]\n",
    "                end\n",
    "                # cnt_maintenance[h]=maintenance_count\n",
    "                results[h]=R_discounted\n",
    "            end\n",
    "            rewards=mean(results)\n",
    "            rewards_std=std(results)\n",
    "            # N_maintenance = mean(cnt_maintenance)\n",
    "            println(\"Rewards of (n, N)-policy is\", rewards, \"n is \", nN[1], \"N is \", nN[2])\n",
    "            # println(\"Number of maintenance times is \", N_maintenance)\n",
    "            pushfirst!(df,[units,limit,normal_operation,setup_cost,maintenance_penalty,failure_penalty,system_penalty,rewards,rewards_std,nN])\n",
    "        end\n",
    "    end\n",
    "end"
   ]
  },
  {
   "cell_type": "code",
   "execution_count": 20,
   "metadata": {},
   "outputs": [
    {
     "data": {
      "text/html": [
       "<div><div style = \"float: left;\"><span>385×10 DataFrame</span></div><div style = \"float: right;\"><span style = \"font-style: italic;\">360 rows omitted</span></div><div style = \"clear: both;\"></div></div><div class = \"data-frame\" style = \"overflow-x: scroll;\"><table class = \"data-frame\" style = \"margin-bottom: 6px;\"><thead><tr class = \"header\"><th class = \"rowNumber\" style = \"font-weight: bold; text-align: right;\">Row</th><th style = \"text-align: left;\">u</th><th style = \"text-align: left;\">K</th><th style = \"text-align: left;\">n</th><th style = \"text-align: left;\">s</th><th style = \"text-align: left;\">m</th><th style = \"text-align: left;\">f</th><th style = \"text-align: left;\">p</th><th style = \"text-align: left;\">mean</th><th style = \"text-align: left;\">std</th><th style = \"text-align: left;\">nN</th></tr><tr class = \"subheader headerLastRow\"><th class = \"rowNumber\" style = \"font-weight: bold; text-align: right;\"></th><th title = \"Any\" style = \"text-align: left;\">Any</th><th title = \"Any\" style = \"text-align: left;\">Any</th><th title = \"Any\" style = \"text-align: left;\">Any</th><th title = \"Any\" style = \"text-align: left;\">Any</th><th title = \"Any\" style = \"text-align: left;\">Any</th><th title = \"Any\" style = \"text-align: left;\">Any</th><th title = \"Any\" style = \"text-align: left;\">Any</th><th title = \"Any\" style = \"text-align: left;\">Any</th><th title = \"Any\" style = \"text-align: left;\">Any</th><th title = \"Any\" style = \"text-align: left;\">Any</th></tr></thead><tbody><tr><td class = \"rowNumber\" style = \"font-weight: bold; text-align: right;\">1</td><td style = \"text-align: left;\">60</td><td style = \"text-align: left;\">30</td><td style = \"text-align: left;\">0</td><td style = \"text-align: left;\">-3200</td><td style = \"text-align: left;\">-100</td><td style = \"text-align: left;\">-1200</td><td style = \"text-align: left;\">-2000</td><td style = \"text-align: left;\">-33853.7</td><td style = \"text-align: left;\">2696.62</td><td style = \"text-align: left;\">CartesianIndex(2, 4)</td></tr><tr><td class = \"rowNumber\" style = \"font-weight: bold; text-align: right;\">2</td><td style = \"text-align: left;\">60</td><td style = \"text-align: left;\">30</td><td style = \"text-align: left;\">0</td><td style = \"text-align: left;\">-2800</td><td style = \"text-align: left;\">-100</td><td style = \"text-align: left;\">-1200</td><td style = \"text-align: left;\">-2000</td><td style = \"text-align: left;\">-32030.4</td><td style = \"text-align: left;\">2557.38</td><td style = \"text-align: left;\">CartesianIndex(2, 4)</td></tr><tr><td class = \"rowNumber\" style = \"font-weight: bold; text-align: right;\">3</td><td style = \"text-align: left;\">60</td><td style = \"text-align: left;\">30</td><td style = \"text-align: left;\">0</td><td style = \"text-align: left;\">-2400</td><td style = \"text-align: left;\">-100</td><td style = \"text-align: left;\">-1200</td><td style = \"text-align: left;\">-2000</td><td style = \"text-align: left;\">-30200.1</td><td style = \"text-align: left;\">2346.64</td><td style = \"text-align: left;\">CartesianIndex(2, 4)</td></tr><tr><td class = \"rowNumber\" style = \"font-weight: bold; text-align: right;\">4</td><td style = \"text-align: left;\">60</td><td style = \"text-align: left;\">30</td><td style = \"text-align: left;\">0</td><td style = \"text-align: left;\">-2000</td><td style = \"text-align: left;\">-100</td><td style = \"text-align: left;\">-1200</td><td style = \"text-align: left;\">-2000</td><td style = \"text-align: left;\">-28332.2</td><td style = \"text-align: left;\">2197.88</td><td style = \"text-align: left;\">CartesianIndex(2, 4)</td></tr><tr><td class = \"rowNumber\" style = \"font-weight: bold; text-align: right;\">5</td><td style = \"text-align: left;\">60</td><td style = \"text-align: left;\">30</td><td style = \"text-align: left;\">0</td><td style = \"text-align: left;\">-1600</td><td style = \"text-align: left;\">-100</td><td style = \"text-align: left;\">-1200</td><td style = \"text-align: left;\">-2000</td><td style = \"text-align: left;\">-26525.4</td><td style = \"text-align: left;\">2021.93</td><td style = \"text-align: left;\">CartesianIndex(2, 4)</td></tr><tr><td class = \"rowNumber\" style = \"font-weight: bold; text-align: right;\">6</td><td style = \"text-align: left;\">60</td><td style = \"text-align: left;\">30</td><td style = \"text-align: left;\">0</td><td style = \"text-align: left;\">-1200</td><td style = \"text-align: left;\">-100</td><td style = \"text-align: left;\">-1200</td><td style = \"text-align: left;\">-2000</td><td style = \"text-align: left;\">-24724.3</td><td style = \"text-align: left;\">1883.4</td><td style = \"text-align: left;\">CartesianIndex(2, 4)</td></tr><tr><td class = \"rowNumber\" style = \"font-weight: bold; text-align: right;\">7</td><td style = \"text-align: left;\">60</td><td style = \"text-align: left;\">30</td><td style = \"text-align: left;\">0</td><td style = \"text-align: left;\">-800</td><td style = \"text-align: left;\">-100</td><td style = \"text-align: left;\">-1200</td><td style = \"text-align: left;\">-2000</td><td style = \"text-align: left;\">-22884.2</td><td style = \"text-align: left;\">1722.09</td><td style = \"text-align: left;\">CartesianIndex(2, 4)</td></tr><tr><td class = \"rowNumber\" style = \"font-weight: bold; text-align: right;\">8</td><td style = \"text-align: left;\">60</td><td style = \"text-align: left;\">28</td><td style = \"text-align: left;\">0</td><td style = \"text-align: left;\">-3200</td><td style = \"text-align: left;\">-100</td><td style = \"text-align: left;\">-1200</td><td style = \"text-align: left;\">-2000</td><td style = \"text-align: left;\">-33823.6</td><td style = \"text-align: left;\">2712.86</td><td style = \"text-align: left;\">CartesianIndex(2, 4)</td></tr><tr><td class = \"rowNumber\" style = \"font-weight: bold; text-align: right;\">9</td><td style = \"text-align: left;\">60</td><td style = \"text-align: left;\">28</td><td style = \"text-align: left;\">0</td><td style = \"text-align: left;\">-2800</td><td style = \"text-align: left;\">-100</td><td style = \"text-align: left;\">-1200</td><td style = \"text-align: left;\">-2000</td><td style = \"text-align: left;\">-32062.1</td><td style = \"text-align: left;\">2510.06</td><td style = \"text-align: left;\">CartesianIndex(2, 4)</td></tr><tr><td class = \"rowNumber\" style = \"font-weight: bold; text-align: right;\">10</td><td style = \"text-align: left;\">60</td><td style = \"text-align: left;\">28</td><td style = \"text-align: left;\">0</td><td style = \"text-align: left;\">-2400</td><td style = \"text-align: left;\">-100</td><td style = \"text-align: left;\">-1200</td><td style = \"text-align: left;\">-2000</td><td style = \"text-align: left;\">-30143.2</td><td style = \"text-align: left;\">2371.46</td><td style = \"text-align: left;\">CartesianIndex(2, 4)</td></tr><tr><td class = \"rowNumber\" style = \"font-weight: bold; text-align: right;\">11</td><td style = \"text-align: left;\">60</td><td style = \"text-align: left;\">28</td><td style = \"text-align: left;\">0</td><td style = \"text-align: left;\">-2000</td><td style = \"text-align: left;\">-100</td><td style = \"text-align: left;\">-1200</td><td style = \"text-align: left;\">-2000</td><td style = \"text-align: left;\">-28382.3</td><td style = \"text-align: left;\">2172.36</td><td style = \"text-align: left;\">CartesianIndex(2, 4)</td></tr><tr><td class = \"rowNumber\" style = \"font-weight: bold; text-align: right;\">12</td><td style = \"text-align: left;\">60</td><td style = \"text-align: left;\">28</td><td style = \"text-align: left;\">0</td><td style = \"text-align: left;\">-1600</td><td style = \"text-align: left;\">-100</td><td style = \"text-align: left;\">-1200</td><td style = \"text-align: left;\">-2000</td><td style = \"text-align: left;\">-26557.4</td><td style = \"text-align: left;\">2043.64</td><td style = \"text-align: left;\">CartesianIndex(2, 4)</td></tr><tr><td class = \"rowNumber\" style = \"font-weight: bold; text-align: right;\">13</td><td style = \"text-align: left;\">60</td><td style = \"text-align: left;\">28</td><td style = \"text-align: left;\">0</td><td style = \"text-align: left;\">-1200</td><td style = \"text-align: left;\">-100</td><td style = \"text-align: left;\">-1200</td><td style = \"text-align: left;\">-2000</td><td style = \"text-align: left;\">-24664.5</td><td style = \"text-align: left;\">1851.55</td><td style = \"text-align: left;\">CartesianIndex(2, 4)</td></tr><tr><td style = \"text-align: right;\">&vellip;</td><td style = \"text-align: right;\">&vellip;</td><td style = \"text-align: right;\">&vellip;</td><td style = \"text-align: right;\">&vellip;</td><td style = \"text-align: right;\">&vellip;</td><td style = \"text-align: right;\">&vellip;</td><td style = \"text-align: right;\">&vellip;</td><td style = \"text-align: right;\">&vellip;</td><td style = \"text-align: right;\">&vellip;</td><td style = \"text-align: right;\">&vellip;</td><td style = \"text-align: right;\">&vellip;</td></tr><tr><td class = \"rowNumber\" style = \"font-weight: bold; text-align: right;\">374</td><td style = \"text-align: left;\">20</td><td style = \"text-align: left;\">4</td><td style = \"text-align: left;\">0</td><td style = \"text-align: left;\">-2400</td><td style = \"text-align: left;\">-100</td><td style = \"text-align: left;\">-1200</td><td style = \"text-align: left;\">-2000</td><td style = \"text-align: left;\">-15282.5</td><td style = \"text-align: left;\">1957.72</td><td style = \"text-align: left;\">CartesianIndex(2, 4)</td></tr><tr><td class = \"rowNumber\" style = \"font-weight: bold; text-align: right;\">375</td><td style = \"text-align: left;\">20</td><td style = \"text-align: left;\">4</td><td style = \"text-align: left;\">0</td><td style = \"text-align: left;\">-2000</td><td style = \"text-align: left;\">-100</td><td style = \"text-align: left;\">-1200</td><td style = \"text-align: left;\">-2000</td><td style = \"text-align: left;\">-14013.6</td><td style = \"text-align: left;\">1805.17</td><td style = \"text-align: left;\">CartesianIndex(2, 4)</td></tr><tr><td class = \"rowNumber\" style = \"font-weight: bold; text-align: right;\">376</td><td style = \"text-align: left;\">20</td><td style = \"text-align: left;\">4</td><td style = \"text-align: left;\">0</td><td style = \"text-align: left;\">-1600</td><td style = \"text-align: left;\">-100</td><td style = \"text-align: left;\">-1200</td><td style = \"text-align: left;\">-2000</td><td style = \"text-align: left;\">-12732.5</td><td style = \"text-align: left;\">1623.55</td><td style = \"text-align: left;\">CartesianIndex(2, 4)</td></tr><tr><td class = \"rowNumber\" style = \"font-weight: bold; text-align: right;\">377</td><td style = \"text-align: left;\">20</td><td style = \"text-align: left;\">4</td><td style = \"text-align: left;\">0</td><td style = \"text-align: left;\">-1200</td><td style = \"text-align: left;\">-100</td><td style = \"text-align: left;\">-1200</td><td style = \"text-align: left;\">-2000</td><td style = \"text-align: left;\">-11481.6</td><td style = \"text-align: left;\">1470.74</td><td style = \"text-align: left;\">CartesianIndex(2, 4)</td></tr><tr><td class = \"rowNumber\" style = \"font-weight: bold; text-align: right;\">378</td><td style = \"text-align: left;\">20</td><td style = \"text-align: left;\">4</td><td style = \"text-align: left;\">0</td><td style = \"text-align: left;\">-800</td><td style = \"text-align: left;\">-100</td><td style = \"text-align: left;\">-1200</td><td style = \"text-align: left;\">-2000</td><td style = \"text-align: left;\">-10214.2</td><td style = \"text-align: left;\">1302.9</td><td style = \"text-align: left;\">CartesianIndex(2, 4)</td></tr><tr><td class = \"rowNumber\" style = \"font-weight: bold; text-align: right;\">379</td><td style = \"text-align: left;\">20</td><td style = \"text-align: left;\">2</td><td style = \"text-align: left;\">0</td><td style = \"text-align: left;\">-3200</td><td style = \"text-align: left;\">-100</td><td style = \"text-align: left;\">-1200</td><td style = \"text-align: left;\">-2000</td><td style = \"text-align: left;\">-18966.0</td><td style = \"text-align: left;\">2622.86</td><td style = \"text-align: left;\">CartesianIndex(2, 4)</td></tr><tr><td class = \"rowNumber\" style = \"font-weight: bold; text-align: right;\">380</td><td style = \"text-align: left;\">20</td><td style = \"text-align: left;\">2</td><td style = \"text-align: left;\">0</td><td style = \"text-align: left;\">-2800</td><td style = \"text-align: left;\">-100</td><td style = \"text-align: left;\">-1200</td><td style = \"text-align: left;\">-2000</td><td style = \"text-align: left;\">-17734.2</td><td style = \"text-align: left;\">2493.17</td><td style = \"text-align: left;\">CartesianIndex(2, 4)</td></tr><tr><td class = \"rowNumber\" style = \"font-weight: bold; text-align: right;\">381</td><td style = \"text-align: left;\">20</td><td style = \"text-align: left;\">2</td><td style = \"text-align: left;\">0</td><td style = \"text-align: left;\">-2400</td><td style = \"text-align: left;\">-100</td><td style = \"text-align: left;\">-1200</td><td style = \"text-align: left;\">-2000</td><td style = \"text-align: left;\">-16430.4</td><td style = \"text-align: left;\">2325.67</td><td style = \"text-align: left;\">CartesianIndex(2, 4)</td></tr><tr><td class = \"rowNumber\" style = \"font-weight: bold; text-align: right;\">382</td><td style = \"text-align: left;\">20</td><td style = \"text-align: left;\">2</td><td style = \"text-align: left;\">0</td><td style = \"text-align: left;\">-2000</td><td style = \"text-align: left;\">-100</td><td style = \"text-align: left;\">-1200</td><td style = \"text-align: left;\">-2000</td><td style = \"text-align: left;\">-15211.4</td><td style = \"text-align: left;\">2172.42</td><td style = \"text-align: left;\">CartesianIndex(2, 4)</td></tr><tr><td class = \"rowNumber\" style = \"font-weight: bold; text-align: right;\">383</td><td style = \"text-align: left;\">20</td><td style = \"text-align: left;\">2</td><td style = \"text-align: left;\">0</td><td style = \"text-align: left;\">-1600</td><td style = \"text-align: left;\">-100</td><td style = \"text-align: left;\">-1200</td><td style = \"text-align: left;\">-2000</td><td style = \"text-align: left;\">-13922.7</td><td style = \"text-align: left;\">2044.18</td><td style = \"text-align: left;\">CartesianIndex(2, 4)</td></tr><tr><td class = \"rowNumber\" style = \"font-weight: bold; text-align: right;\">384</td><td style = \"text-align: left;\">20</td><td style = \"text-align: left;\">2</td><td style = \"text-align: left;\">0</td><td style = \"text-align: left;\">-1200</td><td style = \"text-align: left;\">-100</td><td style = \"text-align: left;\">-1200</td><td style = \"text-align: left;\">-2000</td><td style = \"text-align: left;\">-12640.4</td><td style = \"text-align: left;\">1919.07</td><td style = \"text-align: left;\">CartesianIndex(2, 4)</td></tr><tr><td class = \"rowNumber\" style = \"font-weight: bold; text-align: right;\">385</td><td style = \"text-align: left;\">20</td><td style = \"text-align: left;\">2</td><td style = \"text-align: left;\">0</td><td style = \"text-align: left;\">-800</td><td style = \"text-align: left;\">-100</td><td style = \"text-align: left;\">-1200</td><td style = \"text-align: left;\">-2000</td><td style = \"text-align: left;\">-11391.0</td><td style = \"text-align: left;\">1835.62</td><td style = \"text-align: left;\">CartesianIndex(2, 4)</td></tr></tbody></table></div>"
      ],
      "text/latex": [
       "\\begin{tabular}{r|cccccccccc}\n",
       "\t& u & K & n & s & m & f & p & mean & std & nN\\\\\n",
       "\t\\hline\n",
       "\t& Any & Any & Any & Any & Any & Any & Any & Any & Any & Any\\\\\n",
       "\t\\hline\n",
       "\t1 & 60 & 30 & 0 & -3200 & -100 & -1200 & -2000 & -33853.7 & 2696.62 & CartesianIndex(2, 4) \\\\\n",
       "\t2 & 60 & 30 & 0 & -2800 & -100 & -1200 & -2000 & -32030.4 & 2557.38 & CartesianIndex(2, 4) \\\\\n",
       "\t3 & 60 & 30 & 0 & -2400 & -100 & -1200 & -2000 & -30200.1 & 2346.64 & CartesianIndex(2, 4) \\\\\n",
       "\t4 & 60 & 30 & 0 & -2000 & -100 & -1200 & -2000 & -28332.2 & 2197.88 & CartesianIndex(2, 4) \\\\\n",
       "\t5 & 60 & 30 & 0 & -1600 & -100 & -1200 & -2000 & -26525.4 & 2021.93 & CartesianIndex(2, 4) \\\\\n",
       "\t6 & 60 & 30 & 0 & -1200 & -100 & -1200 & -2000 & -24724.3 & 1883.4 & CartesianIndex(2, 4) \\\\\n",
       "\t7 & 60 & 30 & 0 & -800 & -100 & -1200 & -2000 & -22884.2 & 1722.09 & CartesianIndex(2, 4) \\\\\n",
       "\t8 & 60 & 28 & 0 & -3200 & -100 & -1200 & -2000 & -33823.6 & 2712.86 & CartesianIndex(2, 4) \\\\\n",
       "\t9 & 60 & 28 & 0 & -2800 & -100 & -1200 & -2000 & -32062.1 & 2510.06 & CartesianIndex(2, 4) \\\\\n",
       "\t10 & 60 & 28 & 0 & -2400 & -100 & -1200 & -2000 & -30143.2 & 2371.46 & CartesianIndex(2, 4) \\\\\n",
       "\t11 & 60 & 28 & 0 & -2000 & -100 & -1200 & -2000 & -28382.3 & 2172.36 & CartesianIndex(2, 4) \\\\\n",
       "\t12 & 60 & 28 & 0 & -1600 & -100 & -1200 & -2000 & -26557.4 & 2043.64 & CartesianIndex(2, 4) \\\\\n",
       "\t13 & 60 & 28 & 0 & -1200 & -100 & -1200 & -2000 & -24664.5 & 1851.55 & CartesianIndex(2, 4) \\\\\n",
       "\t14 & 60 & 28 & 0 & -800 & -100 & -1200 & -2000 & -22836.8 & 1719.72 & CartesianIndex(2, 4) \\\\\n",
       "\t15 & 60 & 26 & 0 & -3200 & -100 & -1200 & -2000 & -33853.2 & 2711.1 & CartesianIndex(2, 4) \\\\\n",
       "\t16 & 60 & 26 & 0 & -2800 & -100 & -1200 & -2000 & -32080.5 & 2510.63 & CartesianIndex(2, 4) \\\\\n",
       "\t17 & 60 & 26 & 0 & -2400 & -100 & -1200 & -2000 & -30175.9 & 2334.17 & CartesianIndex(2, 4) \\\\\n",
       "\t18 & 60 & 26 & 0 & -2000 & -100 & -1200 & -2000 & -28358.9 & 2200.32 & CartesianIndex(2, 4) \\\\\n",
       "\t19 & 60 & 26 & 0 & -1600 & -100 & -1200 & -2000 & -26510.6 & 2030.1 & CartesianIndex(2, 4) \\\\\n",
       "\t20 & 60 & 26 & 0 & -1200 & -100 & -1200 & -2000 & -24684.2 & 1854.83 & CartesianIndex(2, 4) \\\\\n",
       "\t21 & 60 & 26 & 0 & -800 & -100 & -1200 & -2000 & -22830.3 & 1731.96 & CartesianIndex(2, 4) \\\\\n",
       "\t22 & 60 & 24 & 0 & -3200 & -100 & -1200 & -2000 & -33914.5 & 2688.25 & CartesianIndex(2, 4) \\\\\n",
       "\t23 & 60 & 24 & 0 & -2800 & -100 & -1200 & -2000 & -32043.0 & 2500.28 & CartesianIndex(2, 4) \\\\\n",
       "\t24 & 60 & 24 & 0 & -2400 & -100 & -1200 & -2000 & -30198.5 & 2336.64 & CartesianIndex(2, 4) \\\\\n",
       "\t25 & 60 & 24 & 0 & -2000 & -100 & -1200 & -2000 & -28352.8 & 2204.65 & CartesianIndex(2, 4) \\\\\n",
       "\t26 & 60 & 24 & 0 & -1600 & -100 & -1200 & -2000 & -26504.4 & 2038.3 & CartesianIndex(2, 4) \\\\\n",
       "\t27 & 60 & 24 & 0 & -1200 & -100 & -1200 & -2000 & -24690.2 & 1894.1 & CartesianIndex(2, 4) \\\\\n",
       "\t28 & 60 & 24 & 0 & -800 & -100 & -1200 & -2000 & -22847.7 & 1729.5 & CartesianIndex(2, 4) \\\\\n",
       "\t29 & 60 & 22 & 0 & -3200 & -100 & -1200 & -2000 & -33829.5 & 2704.98 & CartesianIndex(2, 4) \\\\\n",
       "\t30 & 60 & 22 & 0 & -2800 & -100 & -1200 & -2000 & -31971.2 & 2515.2 & CartesianIndex(2, 4) \\\\\n",
       "\t$\\dots$ & $\\dots$ & $\\dots$ & $\\dots$ & $\\dots$ & $\\dots$ & $\\dots$ & $\\dots$ & $\\dots$ & $\\dots$ & $\\dots$ \\\\\n",
       "\\end{tabular}\n"
      ],
      "text/plain": [
       "\u001b[1m385×10 DataFrame\u001b[0m\n",
       "\u001b[1m Row \u001b[0m│\u001b[1m u   \u001b[0m\u001b[1m K   \u001b[0m\u001b[1m n   \u001b[0m\u001b[1m s     \u001b[0m\u001b[1m m    \u001b[0m\u001b[1m f     \u001b[0m\u001b[1m p     \u001b[0m\u001b[1m mean     \u001b[0m\u001b[1m std     \u001b[0m\u001b[1m nN        \u001b[0m ⋯\n",
       "     │\u001b[90m Any \u001b[0m\u001b[90m Any \u001b[0m\u001b[90m Any \u001b[0m\u001b[90m Any   \u001b[0m\u001b[90m Any  \u001b[0m\u001b[90m Any   \u001b[0m\u001b[90m Any   \u001b[0m\u001b[90m Any      \u001b[0m\u001b[90m Any     \u001b[0m\u001b[90m Any       \u001b[0m ⋯\n",
       "─────┼──────────────────────────────────────────────────────────────────────────\n",
       "   1 │ 60   30   0    -3200  -100  -1200  -2000  -33853.7  2696.62  CartesianI ⋯\n",
       "   2 │ 60   30   0    -2800  -100  -1200  -2000  -32030.4  2557.38  CartesianI\n",
       "   3 │ 60   30   0    -2400  -100  -1200  -2000  -30200.1  2346.64  CartesianI\n",
       "   4 │ 60   30   0    -2000  -100  -1200  -2000  -28332.2  2197.88  CartesianI\n",
       "   5 │ 60   30   0    -1600  -100  -1200  -2000  -26525.4  2021.93  CartesianI ⋯\n",
       "   6 │ 60   30   0    -1200  -100  -1200  -2000  -24724.3  1883.4   CartesianI\n",
       "   7 │ 60   30   0    -800   -100  -1200  -2000  -22884.2  1722.09  CartesianI\n",
       "   8 │ 60   28   0    -3200  -100  -1200  -2000  -33823.6  2712.86  CartesianI\n",
       "   9 │ 60   28   0    -2800  -100  -1200  -2000  -32062.1  2510.06  CartesianI ⋯\n",
       "  10 │ 60   28   0    -2400  -100  -1200  -2000  -30143.2  2371.46  CartesianI\n",
       "  11 │ 60   28   0    -2000  -100  -1200  -2000  -28382.3  2172.36  CartesianI\n",
       "  ⋮  │  ⋮    ⋮    ⋮     ⋮     ⋮      ⋮      ⋮       ⋮         ⋮              ⋮ ⋱\n",
       " 376 │ 20   4    0    -1600  -100  -1200  -2000  -12732.5  1623.55  CartesianI\n",
       " 377 │ 20   4    0    -1200  -100  -1200  -2000  -11481.6  1470.74  CartesianI ⋯\n",
       " 378 │ 20   4    0    -800   -100  -1200  -2000  -10214.2  1302.9   CartesianI\n",
       " 379 │ 20   2    0    -3200  -100  -1200  -2000  -18966.0  2622.86  CartesianI\n",
       " 380 │ 20   2    0    -2800  -100  -1200  -2000  -17734.2  2493.17  CartesianI\n",
       " 381 │ 20   2    0    -2400  -100  -1200  -2000  -16430.4  2325.67  CartesianI ⋯\n",
       " 382 │ 20   2    0    -2000  -100  -1200  -2000  -15211.4  2172.42  CartesianI\n",
       " 383 │ 20   2    0    -1600  -100  -1200  -2000  -13922.7  2044.18  CartesianI\n",
       " 384 │ 20   2    0    -1200  -100  -1200  -2000  -12640.4  1919.07  CartesianI\n",
       " 385 │ 20   2    0    -800   -100  -1200  -2000  -11391.0  1835.62  CartesianI ⋯\n",
       "\u001b[36m                                                   1 column and 364 rows omitted\u001b[0m"
      ]
     },
     "execution_count": 20,
     "metadata": {},
     "output_type": "execute_result"
    }
   ],
   "source": [
    "df"
   ]
  },
  {
   "cell_type": "code",
   "execution_count": 21,
   "metadata": {},
   "outputs": [
    {
     "data": {
      "text/plain": [
       "\"Homo (n,N).csv\""
      ]
     },
     "execution_count": 21,
     "metadata": {},
     "output_type": "execute_result"
    }
   ],
   "source": [
    "using CSV\n",
    "CSV.write(\"Homo (n,N).csv\", df)"
   ]
  },
  {
   "cell_type": "code",
   "execution_count": null,
   "metadata": {},
   "outputs": [],
   "source": []
  }
 ],
 "metadata": {
  "kernelspec": {
   "display_name": "Python 3 (ipykernel)",
   "language": "python",
   "name": "python3"
  },
  "language_info": {
   "codemirror_mode": {
    "name": "ipython",
    "version": 3
   },
   "file_extension": ".py",
   "mimetype": "text/x-python",
   "name": "python",
   "nbconvert_exporter": "python",
   "pygments_lexer": "ipython3",
   "version": "3.10.13"
  }
 },
 "nbformat": 4,
 "nbformat_minor": 4
}
