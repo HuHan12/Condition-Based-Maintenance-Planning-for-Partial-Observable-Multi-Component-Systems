{
 "cells": [
  {
   "cell_type": "code",
   "execution_count": 1,
   "metadata": {},
   "outputs": [],
   "source": [
    "# import Pkg; Pkg.add(\"POMDPPolicies\")\n",
    "# Pkg.add(\"POMDPModelTools\")\n",
    "# Pkg.add(\"Distributions\")\n",
    "# Pkg.add(\"Combinatorics\")\n",
    "# Pkg.add(\"StaticArrays\")\n",
    "# Pkg.add(\"FileIO\")\n",
    "# Pkg.add(\"JLD2\")\n",
    "# Pkg.add(\"TickTock\")\n",
    "# Pkg.add(\"POMDPTools\")\n",
    "# Pkg.add(\"D3Trees\")\n",
    "# Pkg.add(\"Random\")\n",
    "# Pkg.add(\"DataFrames\")\n",
    "# Pkg.add(\"CSV\")"
   ]
  },
  {
   "cell_type": "code",
   "execution_count": 2,
   "metadata": {},
   "outputs": [],
   "source": [
    "using POMDPs, POMDPTools, QuickPOMDPs, MCTS, DiscreteValueIteration, POMDPSimulators, POMDPModels, POMDPPolicies\n",
    "using Distributions, Combinatorics, StaticArrays, D3Trees, Random\n",
    "using FileIO, JLD2, TickTock"
   ]
  },
  {
   "cell_type": "code",
   "execution_count": 3,
   "metadata": {},
   "outputs": [
    {
     "data": {
      "text/plain": [
       "               \u001b[97;1mSparseCat distribution\u001b[0m           \n",
       "     \u001b[38;5;8m┌                                        ┐\u001b[0m \n",
       "   1 \u001b[38;5;8m┤\u001b[0m\u001b[38;5;2m■■■■■■■■■■■■■■■■■■■■■■■■■■■■■■■■■■■\u001b[0m 0.8 \u001b[38;5;8m \u001b[0m \u001b[38;5;8m\u001b[0m\n",
       "   2 \u001b[38;5;8m┤\u001b[0m\u001b[38;5;2m■■■■■■■■■\u001b[0m 0.2                           \u001b[38;5;8m \u001b[0m \u001b[38;5;8m\u001b[0m\n",
       "   3 \u001b[38;5;8m┤\u001b[0m\u001b[38;5;2m\u001b[0m 0.0                                    \u001b[38;5;8m \u001b[0m \u001b[38;5;8m\u001b[0m\n",
       "   4 \u001b[38;5;8m┤\u001b[0m\u001b[38;5;2m\u001b[0m 0.0                                    \u001b[38;5;8m \u001b[0m \u001b[38;5;8m\u001b[0m\n",
       "     \u001b[38;5;8m└                                        ┘\u001b[0m "
      ]
     },
     "execution_count": 3,
     "metadata": {},
     "output_type": "execute_result"
    }
   ],
   "source": [
    "Number_level = 4;\n",
    "\n",
    "\n",
    "gamma=0.95\n",
    "Transition_matrix = [\n",
    "    0.8571 0.1429 0.0    0.0;\n",
    "    0.0    0.8571 0.1429 0.0;\n",
    "    0.0    0.0    0.8    0.2;\n",
    "    0.0    0.0    0.0    1.0\n",
    "]\n",
    "Observation_matrix=[\n",
    "    0.8 0.2 0.0 0.0;\n",
    "    0.1 0.8 0.1 0.0;\n",
    "    0.0 0.2 0.8 0.0;\n",
    "    0.0 0.0 0.0 1.0\n",
    "]\n",
    "# Observation_matrix=[\n",
    "#     0.65  0.25 0.1   0.0;\n",
    "#     0.175 0.65 0.175 0.0;\n",
    "#     0.1   0.25 0.65  0.0;\n",
    "#     0.0   0.0  0.0   1.0\n",
    "# ]\n",
    "\n",
    "States=Array((1:Number_level))\n",
    "Observations=Array((1:Number_level))\n",
    "\n",
    "Initialstates = zeros(Number_level)\n",
    "Initialstates[1]=1.0\n",
    "Initialstate = SparseCat(States, Initialstates)\n",
    "\n",
    "# Initialobss = zeros(Number_level)\n",
    "# Initialobss[1]=1.0\n",
    "# Initialobs = SparseCat(States, Initialobss)\n",
    "Initialobs = SparseCat(Observations, Observation_matrix[1,:])"
   ]
  },
  {
   "cell_type": "code",
   "execution_count": 4,
   "metadata": {},
   "outputs": [
    {
     "data": {
      "text/plain": [
       "-2000"
      ]
     },
     "execution_count": 4,
     "metadata": {},
     "output_type": "execute_result"
    }
   ],
   "source": [
    "NumberUnits=20\n",
    "limit=12\n",
    "failure_penalty = -1200.0;\n",
    "maintenance_penalty = -100.0;\n",
    "setup_cost = -300.0;\n",
    "normal_operation = 0.0;\n",
    "system_penalty=-2000"
   ]
  },
  {
   "cell_type": "markdown",
   "metadata": {},
   "source": [
    "## Observation function"
   ]
  },
  {
   "cell_type": "code",
   "execution_count": 5,
   "metadata": {},
   "outputs": [
    {
     "data": {
      "text/plain": [
       "observation_function (generic function with 1 method)"
      ]
     },
     "execution_count": 5,
     "metadata": {},
     "output_type": "execute_result"
    }
   ],
   "source": [
    "function observation_function(s)\n",
    "    return SparseCat(Observations, Observation_matrix[s,:])\n",
    "end\n",
    "# obs_std=[1,1.2,1.5]\n",
    "# obs_mean=[0.5,1,1.5]\n",
    "\n",
    "# function observation_function(s)\n",
    "#     if s==Number_level\n",
    "#         return Deterministic(Number_level)\n",
    "#     else\n",
    "#         cont_dist=Normal(obs_mean[s],obs_std[s])\n",
    "#         probs=zeros(Number_level)\n",
    "#         for i in 1:(Number_level-1)\n",
    "#             if i==1\n",
    "#                 probs[i]=cdf(cont_dist,0.75)\n",
    "#             elseif i==(Number_level-1)\n",
    "#                 probs[i]=1-cdf(cont_dist,1.25)\n",
    "#             else\n",
    "#                 probs[i]=cdf(cont_dist,i+0.25)-cdf(cont_dist,i-0.25)\n",
    "#             end\n",
    "#         end\n",
    "#         probs ./= sum(probs)\n",
    "#         return SparseCat(1:(Number_level),probs)\n",
    "#     end\n",
    "# end\n"
   ]
  },
  {
   "cell_type": "markdown",
   "metadata": {},
   "source": [
    "## Belief updater"
   ]
  },
  {
   "cell_type": "code",
   "execution_count": 6,
   "metadata": {},
   "outputs": [
    {
     "data": {
      "text/plain": [
       "update_belief (generic function with 1 method)"
      ]
     },
     "execution_count": 6,
     "metadata": {},
     "output_type": "execute_result"
    }
   ],
   "source": [
    "function update_belief(b,s_b,a,o) \n",
    "    # NOTE: \n",
    "    # in input, b is belief from last epoch (before a)\n",
    "    # a is the last action we took\n",
    "    # o is the new observation after a\n",
    "    updated_belief = zeros(Number_level)\n",
    "    if o==Number_level\n",
    "        updated_belief[Number_level]=1.0\n",
    "        return updated_belief\n",
    "    end\n",
    "    \n",
    "    if s_b >= a\n",
    "    # We assume perfect maintenance and it is know to decision maker(belief updater)\n",
    "        for sp in 1: Number_level\n",
    "            #p_obs=pdf(SparseCat(Observations, Observation_matrix[sp,:]),o)\n",
    "            p_obs=pdf(observation_function(sp),o)\n",
    "            p_trans = pdf(SparseCat(States,Transition_matrix[1,:]),sp) \n",
    "            updated_belief[sp] = p_obs * p_trans\n",
    "        end\n",
    "        updated_belief ./= sum(updated_belief)\n",
    "        return updated_belief\n",
    "    end\n",
    "    \n",
    "    for sp in 1:Number_level\n",
    "        #p_obs=pdf(SparseCat(Observations, Observation_matrix[sp,:]),o)\n",
    "        p_obs=pdf(observation_function(sp),o)\n",
    "        p_trans = 0.0\n",
    "        for s in 1:Number_level\n",
    "            p_trans += pdf(SparseCat(States,Transition_matrix[s,:]),sp) * b[s]\n",
    "        end\n",
    "        updated_belief[sp] = p_obs * p_trans\n",
    "    end\n",
    "        # Normalize the updated belief state to ensure it sums up to 1\n",
    "        updated_belief ./= sum(updated_belief)\n",
    "    return updated_belief\n",
    "end"
   ]
  },
  {
   "cell_type": "code",
   "execution_count": 7,
   "metadata": {},
   "outputs": [
    {
     "data": {
      "text/plain": [
       "1-element Vector{Vector{Float64}}:\n",
       " [0.8, 0.2, 0.0, 0.0]"
      ]
     },
     "execution_count": 7,
     "metadata": {},
     "output_type": "execute_result"
    }
   ],
   "source": [
    "NumberUnits = 10\n",
    "belief = [[0.8, 0.2, 0.0, 0.0] for j in 1:NumberUnits]\n",
    "b = belief[1,:]"
   ]
  },
  {
   "cell_type": "code",
   "execution_count": 8,
   "metadata": {},
   "outputs": [
    {
     "data": {
      "text/plain": [
       "4-element Vector{Float64}:\n",
       " 0.8\n",
       " 0.2\n",
       " 0.0\n",
       " 0.0"
      ]
     },
     "execution_count": 8,
     "metadata": {},
     "output_type": "execute_result"
    }
   ],
   "source": [
    "b = belief[1]"
   ]
  },
  {
   "cell_type": "code",
   "execution_count": 9,
   "metadata": {},
   "outputs": [
    {
     "data": {
      "text/plain": [
       "0.11432"
      ]
     },
     "execution_count": 9,
     "metadata": {},
     "output_type": "execute_result"
    }
   ],
   "source": [
    "p_trans = 0.0\n",
    "s = 1\n",
    "sp = 2\n",
    "\n",
    "p_trans += pdf(SparseCat(States,Transition_matrix[s,:]),sp) * b[s]"
   ]
  },
  {
   "cell_type": "markdown",
   "metadata": {},
   "source": [
    "## Define POMDP"
   ]
  },
  {
   "cell_type": "code",
   "execution_count": 10,
   "metadata": {},
   "outputs": [
    {
     "data": {
      "text/plain": [
       "approximate (generic function with 2 methods)"
      ]
     },
     "execution_count": 10,
     "metadata": {},
     "output_type": "execute_result"
    }
   ],
   "source": [
    "# s is the system-level state vector\n",
    "#s,r,o,true_a=approximate(s,s_belief,local_a,234) \n",
    "# Approximating the solution by taking the state of highest belief as the true state\n",
    "function approximate(s,s_belief,a,rng=234)\n",
    "    r=0.0\n",
    "    prevent_repair= false\n",
    "    failed_components=count(x->x==Number_level,s_belief)\n",
    "    if failed_components >= limit\n",
    "        r += system_penalty\n",
    "        # if a==Number_level +1\n",
    "        #     a = Number_level\n",
    "        # end\n",
    "    end\n",
    "\n",
    "    for i in 1:NumberUnits\n",
    "        if s_belief[i] >= a \n",
    "            # Maintenance action is decided based on belief, not true state\n",
    "            # since we don't know true states when making decision\n",
    "            if s_belief[i] == Number_level\n",
    "                r += failure_penalty\n",
    "                if prevent_repair == false\n",
    "                    r += setup_cost\n",
    "                    prevent_repair = true\n",
    "                end\n",
    "            else\n",
    "                r += maintenance_penalty\n",
    "                if prevent_repair == false\n",
    "                    r += setup_cost\n",
    "                    prevent_repair = true\n",
    "                end\n",
    "            end\n",
    "            s[i]=rand(crd[1])\n",
    "            r += normal_operation\n",
    "        else\n",
    "            s[i] = rand(crd[s[i]])\n",
    "            r = r+normal_operation\n",
    "        end\n",
    "    end\n",
    "\n",
    "    obs=repeat(1:1,NumberUnits)\n",
    "    for i in 1:NumberUnits\n",
    "        #obs_distribution = SparseCat(Observations, Observation_matrix[s[i],:])\n",
    "        obs_distribution = observation_function(s[i])\n",
    "        obs[i] = rand(obs_distribution)\n",
    "    end\n",
    "\n",
    "    return (s=s,r=r,o=obs,a=a)\n",
    "end"
   ]
  },
  {
   "cell_type": "code",
   "execution_count": 11,
   "metadata": {},
   "outputs": [],
   "source": [
    "# # Generate random positive numbers and normalize each row\n",
    "# function generate_prob_matrix(rows, cols)\n",
    "#     # Create random positive numbers\n",
    "#     matrix = rand(rows, cols)\n",
    "    \n",
    "#     # Normalize each row to sum to 1\n",
    "#     normalized = matrix ./ sum(matrix, dims=2)\n",
    "    \n",
    "#     return normalized\n",
    "# end\n",
    "\n",
    "# # Generate 20x4 matrix\n",
    "# prob_matrix = generate_prob_matrix(20, 4)"
   ]
  },
  {
   "cell_type": "code",
   "execution_count": 12,
   "metadata": {},
   "outputs": [],
   "source": [
    "# global initialb= zeros(20, 4)  \n",
    "# global initialb[:, 1] .= 1.0\n",
    "# s_belief = [argmax(row) for row in eachrow(initialb)]"
   ]
  },
  {
   "cell_type": "code",
   "execution_count": 13,
   "metadata": {},
   "outputs": [],
   "source": [
    "# belief[1,:]=[0.3,0.3,0.4,0]\n",
    "# true_a=3\n",
    "# o[1]=2"
   ]
  },
  {
   "cell_type": "code",
   "execution_count": 14,
   "metadata": {},
   "outputs": [],
   "source": [
    "# update_belief([0.3,0.3,0.4,0], 3,3, 1)"
   ]
  },
  {
   "cell_type": "code",
   "execution_count": 15,
   "metadata": {},
   "outputs": [
    {
     "data": {
      "text/plain": [
       "findnN (generic function with 1 method)"
      ]
     },
     "execution_count": 15,
     "metadata": {},
     "output_type": "execute_result"
    }
   ],
   "source": [
    "function findnN()\n",
    "    rewards_nN = zeros(Number_level,Number_level);\n",
    "    rewards_nN = rewards_nN.+(-100000000.0);\n",
    "    temp_rewards = zeros(repetition,1);\n",
    "    # global rewards_nN_std = zeros(Number_level,Number_level);\n",
    "    # global rewards_nN_std = rewards_nN_std.+(-100000000.0);\n",
    "    for N in 2:(Number_level)\n",
    "        for n in 1:N\n",
    "            # temp_rewards = zeros(repetition,1)\n",
    "            Threads.@threads  for j in 1:repetition\n",
    "            #for j in 1:repetition\n",
    "                s=repeat(1:1,NumberUnits)\n",
    "                # o=s \n",
    "                o = rand(Initialobs, NumberUnits)\n",
    "                # belief = [[1.0, 0.0, 0.0, 0.0] for j in 1:NumberUnits]\n",
    "                belief = [Observation_matrix[1,:] for j in 1:NumberUnits]\n",
    "                R_sequence=[]\n",
    "                for k in 1:simsteps\n",
    "                    # s_belief = [argmax(row) for row in eachrow(belief)]\n",
    "                    s_belief = argmax.(belief)\n",
    "                    local_a = Number_level +1; # when local_a = 0, no repair unless system fails\n",
    "                    for i in 1:NumberUnits\n",
    "                    # if there is any unit reaching or exceeding threshold N, \n",
    "                    # maintain all the units reaching or exceeding threshold n.\n",
    "                        \n",
    "                        if s_belief[i]>= N\n",
    "                            local_a=n\n",
    "                        end\n",
    "                    end\n",
    "                    true_a=local_a\n",
    "                    # s is the system-level state vector\n",
    "                    s,r,o,true_a=approximate(s,s_belief,local_a,234) \n",
    "                    for i in 1: NumberUnits\n",
    "                        belief[i]=update_belief(belief[i], s_belief[i],true_a, o[i])\n",
    "                    end\n",
    "                    append!(R_sequence,r)\n",
    "                end\n",
    "                R_discounted=0\n",
    "                for k in 1:simsteps\n",
    "                    R_discounted=gamma * R_discounted+R_sequence[simsteps-k+1]\n",
    "                end\n",
    "                temp_rewards[j]=R_discounted\n",
    "            end\n",
    "            rewards_nN[n,N] = mean(temp_rewards)\n",
    "            #rewards_nN_std[n,N] = std(temp_rewards)\n",
    "        end\n",
    "    end\n",
    "    # This max_reward is actually wrong in POMDP\n",
    "    # The (n, N) obtained should be calculated based on true state\n",
    "    (max_reward,nN)=findmax(rewards_nN)\n",
    "    \n",
    "    #println(\"Max rewards of (n, N)-policy is\", max_reward, \"n is \", nN[1], \"N is \", nN[2])\n",
    "    #return max_reward, rewards_nN_std[nN], nN\n",
    "    return nN\n",
    "end"
   ]
  },
  {
   "cell_type": "code",
   "execution_count": null,
   "metadata": {},
   "outputs": [],
   "source": []
  },
  {
   "cell_type": "code",
   "execution_count": 16,
   "metadata": {},
   "outputs": [],
   "source": [
    "# function generative(s,s_belief,a,rng=234)\n",
    "#     r=0.0\n",
    "#     prevent_repair= false\n",
    "#     failed_components=count(x->x==Number_level,s_belief)\n",
    "#     if failed_components >= limit\n",
    "#         r += system_penalty\n",
    "#         if a==Number_level +1\n",
    "#             a = Number_level\n",
    "#         end\n",
    "#     end\n",
    "\n",
    "#     for i in 1:NumberUnits\n",
    "#         if s_belief[i] >= a\n",
    "#             if s[i] == Number_level\n",
    "#                 r += failure_penalty\n",
    "#                 if prevent_repair == false\n",
    "#                     r += setup_cost\n",
    "#                     prevent_repair = true\n",
    "#                 end\n",
    "#             else\n",
    "#                 r += maintenance_penalty\n",
    "#                 if prevent_repair == false\n",
    "#                     r += setup_cost\n",
    "#                     prevent_repair = true\n",
    "#                 end\n",
    "#             end\n",
    "#             s[i]=rand(crd[1])\n",
    "#             r += normal_operation\n",
    "#         else\n",
    "#             s[i] = rand(crd[s[i]])\n",
    "#             r = r+normal_operation\n",
    "#         end\n",
    "#     end\n",
    "\n",
    "#     obs=repeat(1:1,NumberUnits)\n",
    "#     for i in 1:NumberUnits\n",
    "#         #obs_distribution = SparseCat(Observations, Observation_matrix[s[i],:])\n",
    "#         obs_distribution = observation_function(s[i])\n",
    "#         obs[i] = rand(obs_distribution)\n",
    "#     end\n",
    "\n",
    "#     return (s=s,r=r,o=obs,a=a)\n",
    "# end"
   ]
  },
  {
   "cell_type": "code",
   "execution_count": 17,
   "metadata": {},
   "outputs": [
    {
     "data": {
      "text/plain": [
       "generative (generic function with 2 methods)"
      ]
     },
     "execution_count": 17,
     "metadata": {},
     "output_type": "execute_result"
    }
   ],
   "source": [
    "function generative(s,s_belief,a,rng=234)\n",
    "    r=0.0\n",
    "    # prevent_repair= false\n",
    "    # failed_components=count(x->x==Number_level,s_belief)\n",
    "    # if failed_components >= limit\n",
    "    #     #r += system_penalty\n",
    "    #     if a==Number_level +1\n",
    "    #         a = Number_level\n",
    "    #     end\n",
    "    # end\n",
    "\n",
    "    if a <= Number_level\n",
    "         r += setup_cost\n",
    "    end\n",
    "\n",
    "    true_failed_components=count(x->x==Number_level,s)\n",
    "    if true_failed_components >= limit\n",
    "        r += system_penalty\n",
    "    end\n",
    "\n",
    "    for i in 1:NumberUnits\n",
    "        if s_belief[i] >= a\n",
    "            if s[i] == Number_level\n",
    "                r += failure_penalty\n",
    "            else\n",
    "                r += maintenance_penalty\n",
    "            end\n",
    "            s[i]=rand(crd[1])\n",
    "            r += normal_operation\n",
    "        else\n",
    "            s[i] = rand(crd[s[i]])\n",
    "            r = r+normal_operation\n",
    "        end\n",
    "    end\n",
    "\n",
    "    obs=repeat(1:1,NumberUnits)\n",
    "    for i in 1:NumberUnits\n",
    "        #obs_distribution = SparseCat(Observations, Observation_matrix[s[i],:])\n",
    "        obs_distribution = observation_function(s[i])\n",
    "        obs[i] = rand(obs_distribution)\n",
    "    end\n",
    "\n",
    "    return (s=s,r=r,o=obs)\n",
    "end"
   ]
  },
  {
   "cell_type": "code",
   "execution_count": 18,
   "metadata": {},
   "outputs": [
    {
     "data": {
      "text/plain": [
       "get_fixed_K (generic function with 1 method)"
      ]
     },
     "execution_count": 18,
     "metadata": {},
     "output_type": "execute_result"
    }
   ],
   "source": [
    "# Define the fixed K values for each unit count\n",
    "function get_fixed_K(units)\n",
    "    if units == 60\n",
    "        return 18\n",
    "    elseif units == 50\n",
    "        return 18\n",
    "    elseif units == 40\n",
    "        return 18\n",
    "    elseif units == 30\n",
    "        return 14\n",
    "    elseif units == 25\n",
    "        return 10  # Assuming a reasonable value for 25\n",
    "    elseif units == 20\n",
    "        return 10   # Assuming a reasonable value for 20\n",
    "    else\n",
    "        return convert(Int64, floor((units+1)/4))  # Fallback for any other values\n",
    "    end\n",
    "end"
   ]
  },
  {
   "cell_type": "code",
   "execution_count": 19,
   "metadata": {},
   "outputs": [
    {
     "name": "stdout",
     "output_type": "stream",
     "text": [
      "20\n",
      "K : 10\n"
     ]
    },
    {
     "name": "stderr",
     "output_type": "stream",
     "text": [
      "\u001b[36m\u001b[1m[ \u001b[22m\u001b[39m\u001b[36m\u001b[1mInfo: \u001b[22m\u001b[39m started timer at: 2025-04-11T15:03:41.126\n"
     ]
    },
    {
     "name": "stdout",
     "output_type": "stream",
     "text": [
      "[0 -2400 -100 -1200 -2000]\n",
      "Uncertainty Level: \n",
      "LowFinding best nN policy...\n",
      "Rewards of (n, N)-policy is-14647.50170039497n is 2N is 4\n",
      "1791.391551094614\n",
      "20\n",
      "K : 10\n",
      "[0 -2400 -100 -1200 -2000]\n",
      "Uncertainty Level: \n",
      "OriginalFinding best nN policy...\n"
     ]
    },
    {
     "name": "stderr",
     "output_type": "stream",
     "text": [
      "\u001b[36m\u001b[1m[ \u001b[22m\u001b[39m\u001b[36m\u001b[1mInfo: \u001b[22m\u001b[39m started timer at: 2025-04-11T15:06:11.127\n"
     ]
    },
    {
     "name": "stdout",
     "output_type": "stream",
     "text": [
      "Rewards of (n, N)-policy is-15242.82627913775n is 2N is 4\n",
      "1944.6378854449117\n",
      "20\n",
      "K : 10\n",
      "[0 -2400 -100 -1200 -2000]\n",
      "Uncertainty Level: \n",
      "HighFinding best nN policy...\n"
     ]
    },
    {
     "name": "stderr",
     "output_type": "stream",
     "text": [
      "\u001b[36m\u001b[1m[ \u001b[22m\u001b[39m\u001b[36m\u001b[1mInfo: \u001b[22m\u001b[39m started timer at: 2025-04-11T15:08:42.934\n"
     ]
    },
    {
     "name": "stdout",
     "output_type": "stream",
     "text": [
      "Rewards of (n, N)-policy is-15607.13743285982n is 2N is 4\n",
      "2017.5181561886902\n",
      "20\n",
      "K : 10\n",
      "[0 -2400 -100 -1200 -2000]\n",
      "Uncertainty Level: \n",
      "Very HighFinding best nN policy...\n"
     ]
    },
    {
     "name": "stderr",
     "output_type": "stream",
     "text": [
      "\u001b[36m\u001b[1m[ \u001b[22m\u001b[39m\u001b[36m\u001b[1mInfo: \u001b[22m\u001b[39m started timer at: 2025-04-11T15:11:11.215\n"
     ]
    },
    {
     "name": "stdout",
     "output_type": "stream",
     "text": [
      "Rewards of (n, N)-policy is-16254.23922967028n is 2N is 4\n",
      "2217.871650373658\n",
      "20\n",
      "K : 10\n",
      "[0 -2400 -100 -1200 -2000]\n",
      "Uncertainty Level: \n",
      "ExtremeFinding best nN policy...\n"
     ]
    },
    {
     "name": "stderr",
     "output_type": "stream",
     "text": [
      "\u001b[36m\u001b[1m[ \u001b[22m\u001b[39m\u001b[36m\u001b[1mInfo: \u001b[22m\u001b[39m started timer at: 2025-04-11T15:13:37.435\n"
     ]
    },
    {
     "name": "stdout",
     "output_type": "stream",
     "text": [
      "Rewards of (n, N)-policy is-16778.71523468174n is 1N is 4\n",
      "2152.965366250782\n",
      "25\n",
      "K : 10\n",
      "[0 -2400 -100 -1200 -2000]\n",
      "Uncertainty Level: \n",
      "LowFinding best nN policy...\n"
     ]
    },
    {
     "name": "stderr",
     "output_type": "stream",
     "text": [
      "\u001b[36m\u001b[1m[ \u001b[22m\u001b[39m\u001b[36m\u001b[1mInfo: \u001b[22m\u001b[39m started timer at: 2025-04-11T15:16:03.786\n"
     ]
    },
    {
     "name": "stdout",
     "output_type": "stream",
     "text": [
      "Rewards of (n, N)-policy is-16636.91526889078n is 2N is 4\n",
      "1830.1959115491245\n",
      "25\n",
      "K : 10\n",
      "[0 -2400 -100 -1200 -2000]\n",
      "Uncertainty Level: \n",
      "OriginalFinding best nN policy...\n"
     ]
    },
    {
     "name": "stderr",
     "output_type": "stream",
     "text": [
      "\u001b[36m\u001b[1m[ \u001b[22m\u001b[39m\u001b[36m\u001b[1mInfo: \u001b[22m\u001b[39m started timer at: 2025-04-11T15:18:58.028\n"
     ]
    },
    {
     "name": "stdout",
     "output_type": "stream",
     "text": [
      "Rewards of (n, N)-policy is-17361.517953088747n is 2N is 4\n",
      "2033.448236400802\n",
      "25\n",
      "K : 10\n",
      "[0 -2400 -100 -1200 -2000]\n",
      "Uncertainty Level: \n",
      "HighFinding best nN policy...\n"
     ]
    },
    {
     "name": "stderr",
     "output_type": "stream",
     "text": [
      "\u001b[36m\u001b[1m[ \u001b[22m\u001b[39m\u001b[36m\u001b[1mInfo: \u001b[22m\u001b[39m started timer at: 2025-04-11T15:21:47.131\n"
     ]
    },
    {
     "name": "stdout",
     "output_type": "stream",
     "text": [
      "Rewards of (n, N)-policy is-17858.25884747726n is 2N is 4\n",
      "2100.6371498662998\n",
      "25\n",
      "K : 10\n",
      "[0 -2400 -100 -1200 -2000]\n",
      "Uncertainty Level: \n",
      "Very HighFinding best nN policy...\n"
     ]
    },
    {
     "name": "stderr",
     "output_type": "stream",
     "text": [
      "\u001b[36m\u001b[1m[ \u001b[22m\u001b[39m\u001b[36m\u001b[1mInfo: \u001b[22m\u001b[39m started timer at: 2025-04-11T15:24:39.801\n"
     ]
    },
    {
     "name": "stdout",
     "output_type": "stream",
     "text": [
      "Rewards of (n, N)-policy is-18694.55532297381n is 2N is 4\n",
      "2336.747095308671\n",
      "25\n",
      "K : 10\n",
      "[0 -2400 -100 -1200 -2000]\n",
      "Uncertainty Level: \n",
      "ExtremeFinding best nN policy...\n"
     ]
    },
    {
     "name": "stderr",
     "output_type": "stream",
     "text": [
      "\u001b[36m\u001b[1m[ \u001b[22m\u001b[39m\u001b[36m\u001b[1mInfo: \u001b[22m\u001b[39m started timer at: 2025-04-11T15:27:36.902\n"
     ]
    },
    {
     "name": "stdout",
     "output_type": "stream",
     "text": [
      "Rewards of (n, N)-policy is-19646.982614383458n is 1N is 4\n",
      "2321.005692627029\n",
      "30\n",
      "K : 14\n",
      "[0 -2400 -100 -1200 -2000]\n",
      "Uncertainty Level: \n",
      "LowFinding best nN policy...\n"
     ]
    },
    {
     "name": "stderr",
     "output_type": "stream",
     "text": [
      "\u001b[36m\u001b[1m[ \u001b[22m\u001b[39m\u001b[36m\u001b[1mInfo: \u001b[22m\u001b[39m started timer at: 2025-04-11T15:30:34.824\n"
     ]
    },
    {
     "name": "stdout",
     "output_type": "stream",
     "text": [
      "Rewards of (n, N)-policy is-18559.96127750054n is 2N is 4\n",
      "1868.712763912249\n",
      "30\n",
      "K : 14\n",
      "[0 -2400 -100 -1200 -2000]\n",
      "Uncertainty Level: \n",
      "OriginalFinding best nN policy...\n"
     ]
    },
    {
     "name": "stderr",
     "output_type": "stream",
     "text": [
      "\u001b[36m\u001b[1m[ \u001b[22m\u001b[39m\u001b[36m\u001b[1mInfo: \u001b[22m\u001b[39m started timer at: 2025-04-11T15:34:00.673\n"
     ]
    },
    {
     "name": "stdout",
     "output_type": "stream",
     "text": [
      "Rewards of (n, N)-policy is-19393.856148882125n is 2N is 4\n",
      "2076.632183864293\n",
      "30\n",
      "K : 14\n",
      "[0 -2400 -100 -1200 -2000]\n",
      "Uncertainty Level: \n",
      "HighFinding best nN policy...\n"
     ]
    },
    {
     "name": "stderr",
     "output_type": "stream",
     "text": [
      "\u001b[36m\u001b[1m[ \u001b[22m\u001b[39m\u001b[36m\u001b[1mInfo: \u001b[22m\u001b[39m started timer at: 2025-04-11T15:37:35.010\n"
     ]
    },
    {
     "name": "stdout",
     "output_type": "stream",
     "text": [
      "Rewards of (n, N)-policy is-19967.17638679435n is 2N is 4\n",
      "2171.2743894793275\n",
      "30\n",
      "K : 14\n",
      "[0 -2400 -100 -1200 -2000]\n",
      "Uncertainty Level: \n",
      "Very HighFinding best nN policy...\n"
     ]
    },
    {
     "name": "stderr",
     "output_type": "stream",
     "text": [
      "\u001b[36m\u001b[1m[ \u001b[22m\u001b[39m\u001b[36m\u001b[1mInfo: \u001b[22m\u001b[39m started timer at: 2025-04-11T15:41:11.130\n"
     ]
    },
    {
     "name": "stdout",
     "output_type": "stream",
     "text": [
      "Rewards of (n, N)-policy is-20941.63345666972n is 2N is 4\n",
      "2423.2722847561295\n",
      "30"
     ]
    },
    {
     "name": "stderr",
     "output_type": "stream",
     "text": [
      "\u001b[36m\u001b[1m[ \u001b[22m\u001b[39m\u001b[36m\u001b[1mInfo: \u001b[22m\u001b[39m started timer at: 2025-04-11T15:44:37.193\n"
     ]
    },
    {
     "name": "stdout",
     "output_type": "stream",
     "text": [
      "\n",
      "K : 14\n",
      "[0 -2400 -100 -1200 -2000]\n",
      "Uncertainty Level: \n",
      "ExtremeFinding best nN policy...\n",
      "Rewards of (n, N)-policy is-22498.888843859462n is 1N is 4\n",
      "2476.236779789285\n",
      "40\n",
      "K : 18\n",
      "[0 -2400 -100 -1200 -2000]\n",
      "Uncertainty Level: \n",
      "LowFinding best nN policy...\n"
     ]
    },
    {
     "name": "stderr",
     "output_type": "stream",
     "text": [
      "\u001b[36m\u001b[1m[ \u001b[22m\u001b[39m\u001b[36m\u001b[1mInfo: \u001b[22m\u001b[39m started timer at: 2025-04-11T15:48:02.987\n"
     ]
    },
    {
     "name": "stdout",
     "output_type": "stream",
     "text": [
      "Rewards of (n, N)-policy is-22118.49696424334n is 2N is 4\n",
      "1925.5247388325704\n",
      "40\n",
      "K : 18\n",
      "[0 -2400 -100 -1200 -2000]\n",
      "Uncertainty Level: \n",
      "OriginalFinding best nN policy...\n"
     ]
    },
    {
     "name": "stderr",
     "output_type": "stream",
     "text": [
      "\u001b[36m\u001b[1m[ \u001b[22m\u001b[39m\u001b[36m\u001b[1mInfo: \u001b[22m\u001b[39m started timer at: 2025-04-11T15:52:27.232\n"
     ]
    },
    {
     "name": "stdout",
     "output_type": "stream",
     "text": [
      "Rewards of (n, N)-policy is-23190.35624273615n is 2N is 4\n",
      "2184.1028989292654\n",
      "40\n",
      "K : 18\n",
      "[0 -2400 -100 -1200 -2000]\n",
      "Uncertainty Level: \n",
      "HighFinding best nN policy...\n"
     ]
    },
    {
     "name": "stderr",
     "output_type": "stream",
     "text": [
      "\u001b[36m\u001b[1m[ \u001b[22m\u001b[39m\u001b[36m\u001b[1mInfo: \u001b[22m\u001b[39m started timer at: 2025-04-11T15:57:06.608\n"
     ]
    },
    {
     "name": "stdout",
     "output_type": "stream",
     "text": [
      "Rewards of (n, N)-policy is-23951.67305397528n is 2N is 4\n",
      "2301.9136848959106\n",
      "40\n",
      "K : 18\n",
      "[0 -2400 -100 -1200 -2000]\n",
      "Uncertainty Level: \n",
      "Very HighFinding best nN policy...\n"
     ]
    },
    {
     "name": "stderr",
     "output_type": "stream",
     "text": [
      "\u001b[36m\u001b[1m[ \u001b[22m\u001b[39m\u001b[36m\u001b[1mInfo: \u001b[22m\u001b[39m started timer at: 2025-04-11T16:01:45.197\n"
     ]
    },
    {
     "name": "stdout",
     "output_type": "stream",
     "text": [
      "Rewards of (n, N)-policy is-25206.246467591423n is 2N is 4\n",
      "2553.1599884756333\n",
      "40\n",
      "K : 18\n",
      "[0 -2400 -100 -1200 -2000]\n",
      "Uncertainty Level: \n",
      "ExtremeFinding best nN policy...\n"
     ]
    },
    {
     "name": "stderr",
     "output_type": "stream",
     "text": [
      "\u001b[36m\u001b[1m[ \u001b[22m\u001b[39m\u001b[36m\u001b[1mInfo: \u001b[22m\u001b[39m started timer at: 2025-04-11T16:06:26.471\n"
     ]
    },
    {
     "name": "stdout",
     "output_type": "stream",
     "text": [
      "Rewards of (n, N)-policy is-27255.014886930727n is 2N is 4\n",
      "2921.2181271456966\n",
      "50\n",
      "K : 18\n",
      "[0 -2400 -100 -1200 -2000]\n",
      "Uncertainty Level: \n",
      "LowFinding best nN policy...\n"
     ]
    },
    {
     "name": "stderr",
     "output_type": "stream",
     "text": [
      "\u001b[36m\u001b[1m[ \u001b[22m\u001b[39m\u001b[36m\u001b[1mInfo: \u001b[22m\u001b[39m started timer at: 2025-04-11T16:11:02.653\n"
     ]
    },
    {
     "name": "stdout",
     "output_type": "stream",
     "text": [
      "Rewards of (n, N)-policy is-25585.651632390374n is 2N is 4\n",
      "2048.714310566195\n",
      "50\n",
      "K : 18\n",
      "[0 -2400 -100 -1200 -2000]\n",
      "Uncertainty Level: \n",
      "OriginalFinding best nN policy...\n"
     ]
    },
    {
     "name": "stderr",
     "output_type": "stream",
     "text": [
      "\u001b[36m\u001b[1m[ \u001b[22m\u001b[39m\u001b[36m\u001b[1mInfo: \u001b[22m\u001b[39m started timer at: 2025-04-11T16:16:33.841\n"
     ]
    },
    {
     "name": "stdout",
     "output_type": "stream",
     "text": [
      "Rewards of (n, N)-policy is-26748.47445342477n is 2N is 4\n",
      "2265.5312519399126\n",
      "50\n",
      "K : 18\n",
      "[0 -2400 -100 -1200 -2000]\n",
      "Uncertainty Level: \n",
      "HighFinding best nN policy...\n"
     ]
    },
    {
     "name": "stderr",
     "output_type": "stream",
     "text": [
      "\u001b[36m\u001b[1m[ \u001b[22m\u001b[39m\u001b[36m\u001b[1mInfo: \u001b[22m\u001b[39m started timer at: 2025-04-11T16:22:23.410\n"
     ]
    },
    {
     "name": "stdout",
     "output_type": "stream",
     "text": [
      "Rewards of (n, N)-policy is-27697.331808791958n is 2N is 4\n",
      "2445.059110135101\n",
      "50\n",
      "K : 18\n",
      "[0 -2400 -100 -1200 -2000]\n",
      "Uncertainty Level: \n",
      "Very HighFinding best nN policy...\n"
     ]
    },
    {
     "name": "stderr",
     "output_type": "stream",
     "text": [
      "\u001b[36m\u001b[1m[ \u001b[22m\u001b[39m\u001b[36m\u001b[1mInfo: \u001b[22m\u001b[39m started timer at: 2025-04-11T16:28:12.260\n"
     ]
    },
    {
     "name": "stdout",
     "output_type": "stream",
     "text": [
      "Rewards of (n, N)-policy is-29201.120072044752n is 2N is 4\n",
      "2693.8869450524053\n",
      "50\n",
      "K : 18\n",
      "[0 -2400 -100 -1200 -2000]\n",
      "Uncertainty Level: \n",
      "ExtremeFinding best nN policy...\n"
     ]
    },
    {
     "name": "stderr",
     "output_type": "stream",
     "text": [
      "\u001b[36m\u001b[1m[ \u001b[22m\u001b[39m\u001b[36m\u001b[1mInfo: \u001b[22m\u001b[39m started timer at: 2025-04-11T16:33:56.275\n"
     ]
    },
    {
     "name": "stdout",
     "output_type": "stream",
     "text": [
      "Rewards of (n, N)-policy is-31725.32411150245n is 2N is 4\n",
      "3118.3749575632337\n",
      "60\n",
      "K : 18\n",
      "[0 -2400 -100 -1200 -2000]\n",
      "Uncertainty Level: \n",
      "LowFinding best nN policy...\n"
     ]
    },
    {
     "name": "stderr",
     "output_type": "stream",
     "text": [
      "\u001b[36m\u001b[1m[ \u001b[22m\u001b[39m\u001b[36m\u001b[1mInfo: \u001b[22m\u001b[39m started timer at: 2025-04-11T16:39:35.593\n"
     ]
    },
    {
     "name": "stdout",
     "output_type": "stream",
     "text": [
      "Rewards of (n, N)-policy is-28893.8832928396n is 2N is 4\n",
      "2098.9433084820153\n",
      "60\n",
      "K : 18\n",
      "[0 -2400 -100 -1200 -2000]\n",
      "Uncertainty Level: \n",
      "OriginalFinding best nN policy...\n"
     ]
    },
    {
     "name": "stderr",
     "output_type": "stream",
     "text": [
      "\u001b[36m\u001b[1m[ \u001b[22m\u001b[39m\u001b[36m\u001b[1mInfo: \u001b[22m\u001b[39m started timer at: 2025-04-11T16:46:15.399\n"
     ]
    },
    {
     "name": "stdout",
     "output_type": "stream",
     "text": [
      "Rewards of (n, N)-policy is-30242.146153695798n is 2N is 4\n",
      "2362.9576346208173\n",
      "60\n",
      "K : 18\n",
      "[0 -2400 -100 -1200 -2000]\n",
      "Uncertainty Level: \n",
      "HighFinding best nN policy...\n"
     ]
    },
    {
     "name": "stderr",
     "output_type": "stream",
     "text": [
      "\u001b[36m\u001b[1m[ \u001b[22m\u001b[39m\u001b[36m\u001b[1mInfo: \u001b[22m\u001b[39m started timer at: 2025-04-11T16:53:10.256\n"
     ]
    },
    {
     "name": "stdout",
     "output_type": "stream",
     "text": [
      "Rewards of (n, N)-policy is-31382.304290994573n is 2N is 4\n",
      "2511.6267621775883\n",
      "60\n",
      "K : 18\n",
      "[0 -2400 -100 -1200 -2000]\n",
      "Uncertainty Level: \n",
      "Very HighFinding best nN policy...\n"
     ]
    },
    {
     "name": "stderr",
     "output_type": "stream",
     "text": [
      "\u001b[36m\u001b[1m[ \u001b[22m\u001b[39m\u001b[36m\u001b[1mInfo: \u001b[22m\u001b[39m started timer at: 2025-04-11T17:00:08.509\n"
     ]
    },
    {
     "name": "stdout",
     "output_type": "stream",
     "text": [
      "Rewards of (n, N)-policy is-33071.99913796927n is 2N is 4\n",
      "2778.782179196532\n",
      "60\n",
      "K : 18\n",
      "[0 -2400 -100 -1200 -2000]\n",
      "Uncertainty Level: \n",
      "ExtremeFinding best nN policy...\n"
     ]
    },
    {
     "name": "stderr",
     "output_type": "stream",
     "text": [
      "\u001b[36m\u001b[1m[ \u001b[22m\u001b[39m\u001b[36m\u001b[1mInfo: \u001b[22m\u001b[39m started timer at: 2025-04-11T17:06:49.065\n"
     ]
    },
    {
     "name": "stdout",
     "output_type": "stream",
     "text": [
      "Rewards of (n, N)-policy is-35884.507394546425n is 2N is 4\n",
      "3257.4233364197685\n"
     ]
    }
   ],
   "source": [
    "using DataFrames\n",
    "\n",
    "observation_matrices = [\n",
    "    # Low Uncertainty\n",
    "    [\n",
    "        0.9  0.1  0.0  0.0;\n",
    "        0.05 0.9  0.05 0.0;\n",
    "        0.0  0.1  0.9  0.0;\n",
    "        0.0  0.0  0.0  1.0\n",
    "    ],\n",
    "    # Original Uncertainty\n",
    "    [\n",
    "        0.8  0.2  0.0  0.0;\n",
    "        0.1  0.8  0.1  0.0;\n",
    "        0.0  0.2  0.8  0.0;\n",
    "        0.0  0.0  0.0  1.0\n",
    "    ],\n",
    "    # High Uncertainty\n",
    "    [\n",
    "        0.7  0.3  0.0  0.0;\n",
    "        0.15 0.7  0.15 0.0;\n",
    "        0.0  0.3  0.7  0.0;\n",
    "        0.0  0.0  0.0  1.0\n",
    "    ],\n",
    "    # Very High Uncertainty\n",
    "    [\n",
    "        0.6  0.4  0.0  0.0;\n",
    "        0.2  0.6  0.2  0.0;\n",
    "        0.0  0.4  0.6  0.0;\n",
    "        0.0  0.0  0.0  1.0\n",
    "    ],\n",
    "    # Extreme Uncertainty\n",
    "    [\n",
    "        0.5  0.5  0.0  0.0;\n",
    "        0.25 0.5  0.25 0.0;\n",
    "        0.0  0.5  0.5  0.0;\n",
    "        0.0  0.0  0.0  1.0\n",
    "    ]\n",
    "]\n",
    "\n",
    "# Labels for the observation matrices (useful for output and plotting)\n",
    "uncertainty_labels = [\"Low\", \"Original\", \"High\", \"Very High\", \"Extreme\"]\n",
    "\n",
    "# Modified DataFrame with an additional column for uncertainty level\n",
    "\n",
    "df= DataFrame(uncertainty=[],u=[],K=[],n=[],s=[],m=[],f=[],p=[],mean=[],std=[],nN=[])\n",
    "\n",
    "cost=[ \n",
    "    [0  -2400   -100    -1200 -2000]\n",
    "] \n",
    "\n",
    "\n",
    "for units in [20, 25, 30, 40, 50, 60]\n",
    "\n",
    "    global limit = get_fixed_K(units)\n",
    "    global K = limit\n",
    "          \n",
    "        \n",
    "        global NumberUnits=convert(Int64,units)\n",
    "        global crd = Array{Categorical}(undef,Number_level)\n",
    "        for i in 1:Number_level\n",
    "            global crd[i] = Categorical(Transition_matrix[i,:]);\n",
    "        end\n",
    "            \n",
    "        # global initialb= zeros(NumberUnits, Number_level)  \n",
    "        # global initialb[:, 1] .= 1.0\n",
    "        for c in cost\n",
    "            for obs_idx in 1:length(observation_matrices)\n",
    "                global Observation_matrix = observation_matrices[obs_idx]\n",
    "                global uncertainty_level = uncertainty_labels[obs_idx]\n",
    "            tick()\n",
    "            println(units)  \n",
    "            print(\"K : \")\n",
    "            println(K)\n",
    "            global normal_operation,setup_cost,maintenance_penalty,failure_penalty,system_penalty=c\n",
    "            println(c) \n",
    "\n",
    "            println(\"Uncertainty Level: \")\n",
    "                print(uncertainty_level)\n",
    "            global NumberUnits=units\n",
    "\n",
    "            global simsteps = 100;\n",
    "            global repetition = 10000;\n",
    "            global rewards_nN = zeros(Number_level,Number_level);\n",
    "            global rewards_nN = rewards_nN.+(-100000000.0);\n",
    "            global rewards_nN_std = zeros(Number_level,Number_level);\n",
    "            global rewards_nN_std = rewards_nN_std.+(-100000000.0);\n",
    "\n",
    "            global discount_factor =gamma\n",
    "            global temp_rewards = zeros(repetition,1);\n",
    "            # Looking for optimal (n, N)\n",
    "            println(\"Finding best nN policy...\")\n",
    "            nN =findnN()\n",
    "            n=nN[1]\n",
    "            N=nN[2]\n",
    "            \n",
    "            trials=10000;\n",
    "            results=zeros(trials)*0.1\n",
    "            # cnt_maintenance = zeros(trials)\n",
    "            rewards=0.0\n",
    "            rewards_std=0.0\n",
    "            Threads.@threads for h in 1:trials\n",
    "                s=repeat(1:1,NumberUnits)\n",
    "                # o=s \n",
    "                o = rand(Initialobs, NumberUnits)\n",
    "                # belief = [[1.0, 0.0, 0.0, 0.0] for j in 1:NumberUnits]\n",
    "                belief = [Observation_matrix[1,:] for j in 1:NumberUnits]\n",
    "                R_sequence=[]\n",
    "              \n",
    "                \n",
    "                # maintenance_count = 0\n",
    "                for k in 1:simsteps\n",
    "                    # s_belief = [argmax(row) for row in eachrow(belief)]\n",
    "                    s_belief = argmax.(belief)\n",
    "                    # if h==1\n",
    "                    #     println(\"The belief vector is \", belief)\n",
    "                    #     println(\"====================================================\")\n",
    "                    #     println(\"The maximum likelihood state vector is\", s_belief)\n",
    "                    # end\n",
    "                    local_a = Number_level +1; \n",
    "                    for i in 1:NumberUnits\n",
    "                    # If there is any unit reaching or exceeding threshold N, \n",
    "                    # maintain all the units reaching or exceeding threshold n,\n",
    "                    # otherwise, no maintenance.\n",
    "                    # As a result, when system fails, there are components at failure level,\n",
    "                    # so N must be reached.\n",
    "                        if s_belief[i]>= N\n",
    "                            local_a=n\n",
    "                        end\n",
    "                    end\n",
    "                    # true_a=local_a\n",
    "                    # s is the system-level state vector\n",
    "                    # if local_a <= Number_level\n",
    "                    #     # println(\"maintain\")\n",
    "                    #     maintenance_count += 1\n",
    "                    # end\n",
    "                    s,r,o=generative(s,s_belief,local_a,234) \n",
    "                    for i in 1: NumberUnits\n",
    "                        # modified: belief[i,:] to belief[i]\n",
    "                        belief[i]=update_belief(belief[i], s_belief[i],local_a, o[i])\n",
    "\n",
    "                    end\n",
    "                    append!(R_sequence,r)\n",
    "                end\n",
    "                R_discounted=0.0\n",
    "                for k in 1:simsteps\n",
    "                    R_discounted=gamma * R_discounted+R_sequence[simsteps-k+1]\n",
    "                end\n",
    "                # cnt_maintenance[h]=maintenance_count\n",
    "                results[h]=R_discounted\n",
    "            end\n",
    "            rewards=mean(results)\n",
    "            rewards_std=std(results)\n",
    "            # N_maintenance = mean(cnt_maintenance)\n",
    "            println(\"Rewards of (n, N)-policy is\", rewards, \"n is \", nN[1], \"N is \", nN[2])\n",
    "            # println(\"Number of maintenance times is \", N_maintenance)\n",
    "            println(std(results))\n",
    "\n",
    "            pushfirst!(df,[uncertainty_level,units,limit,normal_operation,setup_cost,maintenance_penalty,failure_penalty,system_penalty,rewards,std, nN])\n",
    "        end\n",
    "    end\n",
    "end"
   ]
  },
  {
   "cell_type": "code",
   "execution_count": 20,
   "metadata": {},
   "outputs": [
    {
     "data": {
      "text/html": [
       "<div><div style = \"float: left;\"><span>30×11 DataFrame</span></div><div style = \"float: right;\"><span style = \"font-style: italic;\">5 rows omitted</span></div><div style = \"clear: both;\"></div></div><div class = \"data-frame\" style = \"overflow-x: scroll;\"><table class = \"data-frame\" style = \"margin-bottom: 6px;\"><thead><tr class = \"header\"><th class = \"rowNumber\" style = \"font-weight: bold; text-align: right;\">Row</th><th style = \"text-align: left;\">uncertainty</th><th style = \"text-align: left;\">u</th><th style = \"text-align: left;\">K</th><th style = \"text-align: left;\">n</th><th style = \"text-align: left;\">s</th><th style = \"text-align: left;\">m</th><th style = \"text-align: left;\">f</th><th style = \"text-align: left;\">p</th><th style = \"text-align: left;\">mean</th><th style = \"text-align: left;\">std</th><th style = \"text-align: left;\">nN</th></tr><tr class = \"subheader headerLastRow\"><th class = \"rowNumber\" style = \"font-weight: bold; text-align: right;\"></th><th title = \"Any\" style = \"text-align: left;\">Any</th><th title = \"Any\" style = \"text-align: left;\">Any</th><th title = \"Any\" style = \"text-align: left;\">Any</th><th title = \"Any\" style = \"text-align: left;\">Any</th><th title = \"Any\" style = \"text-align: left;\">Any</th><th title = \"Any\" style = \"text-align: left;\">Any</th><th title = \"Any\" style = \"text-align: left;\">Any</th><th title = \"Any\" style = \"text-align: left;\">Any</th><th title = \"Any\" style = \"text-align: left;\">Any</th><th title = \"Any\" style = \"text-align: left;\">Any</th><th title = \"Any\" style = \"text-align: left;\">Any</th></tr></thead><tbody><tr><td class = \"rowNumber\" style = \"font-weight: bold; text-align: right;\">1</td><td style = \"text-align: left;\">Extreme</td><td style = \"text-align: left;\">60</td><td style = \"text-align: left;\">18</td><td style = \"text-align: left;\">0</td><td style = \"text-align: left;\">-2400</td><td style = \"text-align: left;\">-100</td><td style = \"text-align: left;\">-1200</td><td style = \"text-align: left;\">-2000</td><td style = \"text-align: left;\">-35884.5</td><td style = \"text-align: left;\">std</td><td style = \"text-align: left;\">CartesianIndex(2, 4)</td></tr><tr><td class = \"rowNumber\" style = \"font-weight: bold; text-align: right;\">2</td><td style = \"text-align: left;\">Very High</td><td style = \"text-align: left;\">60</td><td style = \"text-align: left;\">18</td><td style = \"text-align: left;\">0</td><td style = \"text-align: left;\">-2400</td><td style = \"text-align: left;\">-100</td><td style = \"text-align: left;\">-1200</td><td style = \"text-align: left;\">-2000</td><td style = \"text-align: left;\">-33072.0</td><td style = \"text-align: left;\">std</td><td style = \"text-align: left;\">CartesianIndex(2, 4)</td></tr><tr><td class = \"rowNumber\" style = \"font-weight: bold; text-align: right;\">3</td><td style = \"text-align: left;\">High</td><td style = \"text-align: left;\">60</td><td style = \"text-align: left;\">18</td><td style = \"text-align: left;\">0</td><td style = \"text-align: left;\">-2400</td><td style = \"text-align: left;\">-100</td><td style = \"text-align: left;\">-1200</td><td style = \"text-align: left;\">-2000</td><td style = \"text-align: left;\">-31382.3</td><td style = \"text-align: left;\">std</td><td style = \"text-align: left;\">CartesianIndex(2, 4)</td></tr><tr><td class = \"rowNumber\" style = \"font-weight: bold; text-align: right;\">4</td><td style = \"text-align: left;\">Original</td><td style = \"text-align: left;\">60</td><td style = \"text-align: left;\">18</td><td style = \"text-align: left;\">0</td><td style = \"text-align: left;\">-2400</td><td style = \"text-align: left;\">-100</td><td style = \"text-align: left;\">-1200</td><td style = \"text-align: left;\">-2000</td><td style = \"text-align: left;\">-30242.1</td><td style = \"text-align: left;\">std</td><td style = \"text-align: left;\">CartesianIndex(2, 4)</td></tr><tr><td class = \"rowNumber\" style = \"font-weight: bold; text-align: right;\">5</td><td style = \"text-align: left;\">Low</td><td style = \"text-align: left;\">60</td><td style = \"text-align: left;\">18</td><td style = \"text-align: left;\">0</td><td style = \"text-align: left;\">-2400</td><td style = \"text-align: left;\">-100</td><td style = \"text-align: left;\">-1200</td><td style = \"text-align: left;\">-2000</td><td style = \"text-align: left;\">-28893.9</td><td style = \"text-align: left;\">std</td><td style = \"text-align: left;\">CartesianIndex(2, 4)</td></tr><tr><td class = \"rowNumber\" style = \"font-weight: bold; text-align: right;\">6</td><td style = \"text-align: left;\">Extreme</td><td style = \"text-align: left;\">50</td><td style = \"text-align: left;\">18</td><td style = \"text-align: left;\">0</td><td style = \"text-align: left;\">-2400</td><td style = \"text-align: left;\">-100</td><td style = \"text-align: left;\">-1200</td><td style = \"text-align: left;\">-2000</td><td style = \"text-align: left;\">-31725.3</td><td style = \"text-align: left;\">std</td><td style = \"text-align: left;\">CartesianIndex(2, 4)</td></tr><tr><td class = \"rowNumber\" style = \"font-weight: bold; text-align: right;\">7</td><td style = \"text-align: left;\">Very High</td><td style = \"text-align: left;\">50</td><td style = \"text-align: left;\">18</td><td style = \"text-align: left;\">0</td><td style = \"text-align: left;\">-2400</td><td style = \"text-align: left;\">-100</td><td style = \"text-align: left;\">-1200</td><td style = \"text-align: left;\">-2000</td><td style = \"text-align: left;\">-29201.1</td><td style = \"text-align: left;\">std</td><td style = \"text-align: left;\">CartesianIndex(2, 4)</td></tr><tr><td class = \"rowNumber\" style = \"font-weight: bold; text-align: right;\">8</td><td style = \"text-align: left;\">High</td><td style = \"text-align: left;\">50</td><td style = \"text-align: left;\">18</td><td style = \"text-align: left;\">0</td><td style = \"text-align: left;\">-2400</td><td style = \"text-align: left;\">-100</td><td style = \"text-align: left;\">-1200</td><td style = \"text-align: left;\">-2000</td><td style = \"text-align: left;\">-27697.3</td><td style = \"text-align: left;\">std</td><td style = \"text-align: left;\">CartesianIndex(2, 4)</td></tr><tr><td class = \"rowNumber\" style = \"font-weight: bold; text-align: right;\">9</td><td style = \"text-align: left;\">Original</td><td style = \"text-align: left;\">50</td><td style = \"text-align: left;\">18</td><td style = \"text-align: left;\">0</td><td style = \"text-align: left;\">-2400</td><td style = \"text-align: left;\">-100</td><td style = \"text-align: left;\">-1200</td><td style = \"text-align: left;\">-2000</td><td style = \"text-align: left;\">-26748.5</td><td style = \"text-align: left;\">std</td><td style = \"text-align: left;\">CartesianIndex(2, 4)</td></tr><tr><td class = \"rowNumber\" style = \"font-weight: bold; text-align: right;\">10</td><td style = \"text-align: left;\">Low</td><td style = \"text-align: left;\">50</td><td style = \"text-align: left;\">18</td><td style = \"text-align: left;\">0</td><td style = \"text-align: left;\">-2400</td><td style = \"text-align: left;\">-100</td><td style = \"text-align: left;\">-1200</td><td style = \"text-align: left;\">-2000</td><td style = \"text-align: left;\">-25585.7</td><td style = \"text-align: left;\">std</td><td style = \"text-align: left;\">CartesianIndex(2, 4)</td></tr><tr><td class = \"rowNumber\" style = \"font-weight: bold; text-align: right;\">11</td><td style = \"text-align: left;\">Extreme</td><td style = \"text-align: left;\">40</td><td style = \"text-align: left;\">18</td><td style = \"text-align: left;\">0</td><td style = \"text-align: left;\">-2400</td><td style = \"text-align: left;\">-100</td><td style = \"text-align: left;\">-1200</td><td style = \"text-align: left;\">-2000</td><td style = \"text-align: left;\">-27255.0</td><td style = \"text-align: left;\">std</td><td style = \"text-align: left;\">CartesianIndex(2, 4)</td></tr><tr><td class = \"rowNumber\" style = \"font-weight: bold; text-align: right;\">12</td><td style = \"text-align: left;\">Very High</td><td style = \"text-align: left;\">40</td><td style = \"text-align: left;\">18</td><td style = \"text-align: left;\">0</td><td style = \"text-align: left;\">-2400</td><td style = \"text-align: left;\">-100</td><td style = \"text-align: left;\">-1200</td><td style = \"text-align: left;\">-2000</td><td style = \"text-align: left;\">-25206.2</td><td style = \"text-align: left;\">std</td><td style = \"text-align: left;\">CartesianIndex(2, 4)</td></tr><tr><td class = \"rowNumber\" style = \"font-weight: bold; text-align: right;\">13</td><td style = \"text-align: left;\">High</td><td style = \"text-align: left;\">40</td><td style = \"text-align: left;\">18</td><td style = \"text-align: left;\">0</td><td style = \"text-align: left;\">-2400</td><td style = \"text-align: left;\">-100</td><td style = \"text-align: left;\">-1200</td><td style = \"text-align: left;\">-2000</td><td style = \"text-align: left;\">-23951.7</td><td style = \"text-align: left;\">std</td><td style = \"text-align: left;\">CartesianIndex(2, 4)</td></tr><tr><td style = \"text-align: right;\">&vellip;</td><td style = \"text-align: right;\">&vellip;</td><td style = \"text-align: right;\">&vellip;</td><td style = \"text-align: right;\">&vellip;</td><td style = \"text-align: right;\">&vellip;</td><td style = \"text-align: right;\">&vellip;</td><td style = \"text-align: right;\">&vellip;</td><td style = \"text-align: right;\">&vellip;</td><td style = \"text-align: right;\">&vellip;</td><td style = \"text-align: right;\">&vellip;</td><td style = \"text-align: right;\">&vellip;</td><td style = \"text-align: right;\">&vellip;</td></tr><tr><td class = \"rowNumber\" style = \"font-weight: bold; text-align: right;\">19</td><td style = \"text-align: left;\">Original</td><td style = \"text-align: left;\">30</td><td style = \"text-align: left;\">14</td><td style = \"text-align: left;\">0</td><td style = \"text-align: left;\">-2400</td><td style = \"text-align: left;\">-100</td><td style = \"text-align: left;\">-1200</td><td style = \"text-align: left;\">-2000</td><td style = \"text-align: left;\">-19393.9</td><td style = \"text-align: left;\">std</td><td style = \"text-align: left;\">CartesianIndex(2, 4)</td></tr><tr><td class = \"rowNumber\" style = \"font-weight: bold; text-align: right;\">20</td><td style = \"text-align: left;\">Low</td><td style = \"text-align: left;\">30</td><td style = \"text-align: left;\">14</td><td style = \"text-align: left;\">0</td><td style = \"text-align: left;\">-2400</td><td style = \"text-align: left;\">-100</td><td style = \"text-align: left;\">-1200</td><td style = \"text-align: left;\">-2000</td><td style = \"text-align: left;\">-18560.0</td><td style = \"text-align: left;\">std</td><td style = \"text-align: left;\">CartesianIndex(2, 4)</td></tr><tr><td class = \"rowNumber\" style = \"font-weight: bold; text-align: right;\">21</td><td style = \"text-align: left;\">Extreme</td><td style = \"text-align: left;\">25</td><td style = \"text-align: left;\">10</td><td style = \"text-align: left;\">0</td><td style = \"text-align: left;\">-2400</td><td style = \"text-align: left;\">-100</td><td style = \"text-align: left;\">-1200</td><td style = \"text-align: left;\">-2000</td><td style = \"text-align: left;\">-19647.0</td><td style = \"text-align: left;\">std</td><td style = \"text-align: left;\">CartesianIndex(1, 4)</td></tr><tr><td class = \"rowNumber\" style = \"font-weight: bold; text-align: right;\">22</td><td style = \"text-align: left;\">Very High</td><td style = \"text-align: left;\">25</td><td style = \"text-align: left;\">10</td><td style = \"text-align: left;\">0</td><td style = \"text-align: left;\">-2400</td><td style = \"text-align: left;\">-100</td><td style = \"text-align: left;\">-1200</td><td style = \"text-align: left;\">-2000</td><td style = \"text-align: left;\">-18694.6</td><td style = \"text-align: left;\">std</td><td style = \"text-align: left;\">CartesianIndex(2, 4)</td></tr><tr><td class = \"rowNumber\" style = \"font-weight: bold; text-align: right;\">23</td><td style = \"text-align: left;\">High</td><td style = \"text-align: left;\">25</td><td style = \"text-align: left;\">10</td><td style = \"text-align: left;\">0</td><td style = \"text-align: left;\">-2400</td><td style = \"text-align: left;\">-100</td><td style = \"text-align: left;\">-1200</td><td style = \"text-align: left;\">-2000</td><td style = \"text-align: left;\">-17858.3</td><td style = \"text-align: left;\">std</td><td style = \"text-align: left;\">CartesianIndex(2, 4)</td></tr><tr><td class = \"rowNumber\" style = \"font-weight: bold; text-align: right;\">24</td><td style = \"text-align: left;\">Original</td><td style = \"text-align: left;\">25</td><td style = \"text-align: left;\">10</td><td style = \"text-align: left;\">0</td><td style = \"text-align: left;\">-2400</td><td style = \"text-align: left;\">-100</td><td style = \"text-align: left;\">-1200</td><td style = \"text-align: left;\">-2000</td><td style = \"text-align: left;\">-17361.5</td><td style = \"text-align: left;\">std</td><td style = \"text-align: left;\">CartesianIndex(2, 4)</td></tr><tr><td class = \"rowNumber\" style = \"font-weight: bold; text-align: right;\">25</td><td style = \"text-align: left;\">Low</td><td style = \"text-align: left;\">25</td><td style = \"text-align: left;\">10</td><td style = \"text-align: left;\">0</td><td style = \"text-align: left;\">-2400</td><td style = \"text-align: left;\">-100</td><td style = \"text-align: left;\">-1200</td><td style = \"text-align: left;\">-2000</td><td style = \"text-align: left;\">-16636.9</td><td style = \"text-align: left;\">std</td><td style = \"text-align: left;\">CartesianIndex(2, 4)</td></tr><tr><td class = \"rowNumber\" style = \"font-weight: bold; text-align: right;\">26</td><td style = \"text-align: left;\">Extreme</td><td style = \"text-align: left;\">20</td><td style = \"text-align: left;\">10</td><td style = \"text-align: left;\">0</td><td style = \"text-align: left;\">-2400</td><td style = \"text-align: left;\">-100</td><td style = \"text-align: left;\">-1200</td><td style = \"text-align: left;\">-2000</td><td style = \"text-align: left;\">-16778.7</td><td style = \"text-align: left;\">std</td><td style = \"text-align: left;\">CartesianIndex(1, 4)</td></tr><tr><td class = \"rowNumber\" style = \"font-weight: bold; text-align: right;\">27</td><td style = \"text-align: left;\">Very High</td><td style = \"text-align: left;\">20</td><td style = \"text-align: left;\">10</td><td style = \"text-align: left;\">0</td><td style = \"text-align: left;\">-2400</td><td style = \"text-align: left;\">-100</td><td style = \"text-align: left;\">-1200</td><td style = \"text-align: left;\">-2000</td><td style = \"text-align: left;\">-16254.2</td><td style = \"text-align: left;\">std</td><td style = \"text-align: left;\">CartesianIndex(2, 4)</td></tr><tr><td class = \"rowNumber\" style = \"font-weight: bold; text-align: right;\">28</td><td style = \"text-align: left;\">High</td><td style = \"text-align: left;\">20</td><td style = \"text-align: left;\">10</td><td style = \"text-align: left;\">0</td><td style = \"text-align: left;\">-2400</td><td style = \"text-align: left;\">-100</td><td style = \"text-align: left;\">-1200</td><td style = \"text-align: left;\">-2000</td><td style = \"text-align: left;\">-15607.1</td><td style = \"text-align: left;\">std</td><td style = \"text-align: left;\">CartesianIndex(2, 4)</td></tr><tr><td class = \"rowNumber\" style = \"font-weight: bold; text-align: right;\">29</td><td style = \"text-align: left;\">Original</td><td style = \"text-align: left;\">20</td><td style = \"text-align: left;\">10</td><td style = \"text-align: left;\">0</td><td style = \"text-align: left;\">-2400</td><td style = \"text-align: left;\">-100</td><td style = \"text-align: left;\">-1200</td><td style = \"text-align: left;\">-2000</td><td style = \"text-align: left;\">-15242.8</td><td style = \"text-align: left;\">std</td><td style = \"text-align: left;\">CartesianIndex(2, 4)</td></tr><tr><td class = \"rowNumber\" style = \"font-weight: bold; text-align: right;\">30</td><td style = \"text-align: left;\">Low</td><td style = \"text-align: left;\">20</td><td style = \"text-align: left;\">10</td><td style = \"text-align: left;\">0</td><td style = \"text-align: left;\">-2400</td><td style = \"text-align: left;\">-100</td><td style = \"text-align: left;\">-1200</td><td style = \"text-align: left;\">-2000</td><td style = \"text-align: left;\">-14647.5</td><td style = \"text-align: left;\">std</td><td style = \"text-align: left;\">CartesianIndex(2, 4)</td></tr></tbody></table></div>"
      ],
      "text/latex": [
       "\\begin{tabular}{r|ccccccccccc}\n",
       "\t& uncertainty & u & K & n & s & m & f & p & mean & std & nN\\\\\n",
       "\t\\hline\n",
       "\t& Any & Any & Any & Any & Any & Any & Any & Any & Any & Any & Any\\\\\n",
       "\t\\hline\n",
       "\t1 & Extreme & 60 & 18 & 0 & -2400 & -100 & -1200 & -2000 & -35884.5 & std & CartesianIndex(2, 4) \\\\\n",
       "\t2 & Very High & 60 & 18 & 0 & -2400 & -100 & -1200 & -2000 & -33072.0 & std & CartesianIndex(2, 4) \\\\\n",
       "\t3 & High & 60 & 18 & 0 & -2400 & -100 & -1200 & -2000 & -31382.3 & std & CartesianIndex(2, 4) \\\\\n",
       "\t4 & Original & 60 & 18 & 0 & -2400 & -100 & -1200 & -2000 & -30242.1 & std & CartesianIndex(2, 4) \\\\\n",
       "\t5 & Low & 60 & 18 & 0 & -2400 & -100 & -1200 & -2000 & -28893.9 & std & CartesianIndex(2, 4) \\\\\n",
       "\t6 & Extreme & 50 & 18 & 0 & -2400 & -100 & -1200 & -2000 & -31725.3 & std & CartesianIndex(2, 4) \\\\\n",
       "\t7 & Very High & 50 & 18 & 0 & -2400 & -100 & -1200 & -2000 & -29201.1 & std & CartesianIndex(2, 4) \\\\\n",
       "\t8 & High & 50 & 18 & 0 & -2400 & -100 & -1200 & -2000 & -27697.3 & std & CartesianIndex(2, 4) \\\\\n",
       "\t9 & Original & 50 & 18 & 0 & -2400 & -100 & -1200 & -2000 & -26748.5 & std & CartesianIndex(2, 4) \\\\\n",
       "\t10 & Low & 50 & 18 & 0 & -2400 & -100 & -1200 & -2000 & -25585.7 & std & CartesianIndex(2, 4) \\\\\n",
       "\t11 & Extreme & 40 & 18 & 0 & -2400 & -100 & -1200 & -2000 & -27255.0 & std & CartesianIndex(2, 4) \\\\\n",
       "\t12 & Very High & 40 & 18 & 0 & -2400 & -100 & -1200 & -2000 & -25206.2 & std & CartesianIndex(2, 4) \\\\\n",
       "\t13 & High & 40 & 18 & 0 & -2400 & -100 & -1200 & -2000 & -23951.7 & std & CartesianIndex(2, 4) \\\\\n",
       "\t14 & Original & 40 & 18 & 0 & -2400 & -100 & -1200 & -2000 & -23190.4 & std & CartesianIndex(2, 4) \\\\\n",
       "\t15 & Low & 40 & 18 & 0 & -2400 & -100 & -1200 & -2000 & -22118.5 & std & CartesianIndex(2, 4) \\\\\n",
       "\t16 & Extreme & 30 & 14 & 0 & -2400 & -100 & -1200 & -2000 & -22498.9 & std & CartesianIndex(1, 4) \\\\\n",
       "\t17 & Very High & 30 & 14 & 0 & -2400 & -100 & -1200 & -2000 & -20941.6 & std & CartesianIndex(2, 4) \\\\\n",
       "\t18 & High & 30 & 14 & 0 & -2400 & -100 & -1200 & -2000 & -19967.2 & std & CartesianIndex(2, 4) \\\\\n",
       "\t19 & Original & 30 & 14 & 0 & -2400 & -100 & -1200 & -2000 & -19393.9 & std & CartesianIndex(2, 4) \\\\\n",
       "\t20 & Low & 30 & 14 & 0 & -2400 & -100 & -1200 & -2000 & -18560.0 & std & CartesianIndex(2, 4) \\\\\n",
       "\t21 & Extreme & 25 & 10 & 0 & -2400 & -100 & -1200 & -2000 & -19647.0 & std & CartesianIndex(1, 4) \\\\\n",
       "\t22 & Very High & 25 & 10 & 0 & -2400 & -100 & -1200 & -2000 & -18694.6 & std & CartesianIndex(2, 4) \\\\\n",
       "\t23 & High & 25 & 10 & 0 & -2400 & -100 & -1200 & -2000 & -17858.3 & std & CartesianIndex(2, 4) \\\\\n",
       "\t24 & Original & 25 & 10 & 0 & -2400 & -100 & -1200 & -2000 & -17361.5 & std & CartesianIndex(2, 4) \\\\\n",
       "\t25 & Low & 25 & 10 & 0 & -2400 & -100 & -1200 & -2000 & -16636.9 & std & CartesianIndex(2, 4) \\\\\n",
       "\t26 & Extreme & 20 & 10 & 0 & -2400 & -100 & -1200 & -2000 & -16778.7 & std & CartesianIndex(1, 4) \\\\\n",
       "\t27 & Very High & 20 & 10 & 0 & -2400 & -100 & -1200 & -2000 & -16254.2 & std & CartesianIndex(2, 4) \\\\\n",
       "\t28 & High & 20 & 10 & 0 & -2400 & -100 & -1200 & -2000 & -15607.1 & std & CartesianIndex(2, 4) \\\\\n",
       "\t29 & Original & 20 & 10 & 0 & -2400 & -100 & -1200 & -2000 & -15242.8 & std & CartesianIndex(2, 4) \\\\\n",
       "\t30 & Low & 20 & 10 & 0 & -2400 & -100 & -1200 & -2000 & -14647.5 & std & CartesianIndex(2, 4) \\\\\n",
       "\\end{tabular}\n"
      ],
      "text/plain": [
       "\u001b[1m30×11 DataFrame\u001b[0m\n",
       "\u001b[1m Row \u001b[0m│\u001b[1m uncertainty \u001b[0m\u001b[1m u   \u001b[0m\u001b[1m K   \u001b[0m\u001b[1m n   \u001b[0m\u001b[1m s     \u001b[0m\u001b[1m m    \u001b[0m\u001b[1m f     \u001b[0m\u001b[1m p     \u001b[0m\u001b[1m mean     \u001b[0m\u001b[1m std \u001b[0m\u001b[1m n\u001b[0m ⋯\n",
       "     │\u001b[90m Any         \u001b[0m\u001b[90m Any \u001b[0m\u001b[90m Any \u001b[0m\u001b[90m Any \u001b[0m\u001b[90m Any   \u001b[0m\u001b[90m Any  \u001b[0m\u001b[90m Any   \u001b[0m\u001b[90m Any   \u001b[0m\u001b[90m Any      \u001b[0m\u001b[90m Any \u001b[0m\u001b[90m A\u001b[0m ⋯\n",
       "─────┼──────────────────────────────────────────────────────────────────────────\n",
       "   1 │ Extreme      60   18   0    -2400  -100  -1200  -2000  -35884.5  std  C ⋯\n",
       "   2 │ Very High    60   18   0    -2400  -100  -1200  -2000  -33072.0  std  C\n",
       "   3 │ High         60   18   0    -2400  -100  -1200  -2000  -31382.3  std  C\n",
       "   4 │ Original     60   18   0    -2400  -100  -1200  -2000  -30242.1  std  C\n",
       "   5 │ Low          60   18   0    -2400  -100  -1200  -2000  -28893.9  std  C ⋯\n",
       "   6 │ Extreme      50   18   0    -2400  -100  -1200  -2000  -31725.3  std  C\n",
       "   7 │ Very High    50   18   0    -2400  -100  -1200  -2000  -29201.1  std  C\n",
       "   8 │ High         50   18   0    -2400  -100  -1200  -2000  -27697.3  std  C\n",
       "   9 │ Original     50   18   0    -2400  -100  -1200  -2000  -26748.5  std  C ⋯\n",
       "  10 │ Low          50   18   0    -2400  -100  -1200  -2000  -25585.7  std  C\n",
       "  11 │ Extreme      40   18   0    -2400  -100  -1200  -2000  -27255.0  std  C\n",
       "  ⋮  │      ⋮        ⋮    ⋮    ⋮     ⋮     ⋮      ⋮      ⋮       ⋮       ⋮     ⋱\n",
       "  21 │ Extreme      25   10   0    -2400  -100  -1200  -2000  -19647.0  std  C\n",
       "  22 │ Very High    25   10   0    -2400  -100  -1200  -2000  -18694.6  std  C ⋯\n",
       "  23 │ High         25   10   0    -2400  -100  -1200  -2000  -17858.3  std  C\n",
       "  24 │ Original     25   10   0    -2400  -100  -1200  -2000  -17361.5  std  C\n",
       "  25 │ Low          25   10   0    -2400  -100  -1200  -2000  -16636.9  std  C\n",
       "  26 │ Extreme      20   10   0    -2400  -100  -1200  -2000  -16778.7  std  C ⋯\n",
       "  27 │ Very High    20   10   0    -2400  -100  -1200  -2000  -16254.2  std  C\n",
       "  28 │ High         20   10   0    -2400  -100  -1200  -2000  -15607.1  std  C\n",
       "  29 │ Original     20   10   0    -2400  -100  -1200  -2000  -15242.8  std  C\n",
       "  30 │ Low          20   10   0    -2400  -100  -1200  -2000  -14647.5  std  C ⋯\n",
       "\u001b[36m                                                     1 column and 9 rows omitted\u001b[0m"
      ]
     },
     "execution_count": 20,
     "metadata": {},
     "output_type": "execute_result"
    }
   ],
   "source": [
    "df"
   ]
  },
  {
   "cell_type": "code",
   "execution_count": 21,
   "metadata": {},
   "outputs": [
    {
     "data": {
      "text/plain": [
       "\"(n,N).csv\""
      ]
     },
     "execution_count": 21,
     "metadata": {},
     "output_type": "execute_result"
    }
   ],
   "source": [
    "using CSV\n",
    "CSV.write(\"(n,N).csv\", df)"
   ]
  },
  {
   "cell_type": "code",
   "execution_count": null,
   "metadata": {},
   "outputs": [],
   "source": []
  }
 ],
 "metadata": {
  "kernelspec": {
   "display_name": "Julia 1.11.3",
   "language": "julia",
   "name": "julia-1.11"
  },
  "language_info": {
   "file_extension": ".jl",
   "mimetype": "application/julia",
   "name": "julia",
   "version": "1.11.3"
  }
 },
 "nbformat": 4,
 "nbformat_minor": 4
}
