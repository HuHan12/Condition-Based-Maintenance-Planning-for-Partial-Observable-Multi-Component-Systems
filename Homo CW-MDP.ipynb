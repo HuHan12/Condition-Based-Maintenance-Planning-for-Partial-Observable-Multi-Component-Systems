{
 "cells": [
  {
   "cell_type": "code",
   "execution_count": 1,
   "metadata": {},
   "outputs": [],
   "source": [
    "# import Pkg;\n",
    "# Pkg.add(\"POMDPSimulators\")\n",
    "# Pkg.add(\"POMDPs\")\n",
    "# Pkg.add(\"POMDPTools\")\n",
    "# Pkg.add(\"QuickPOMDPs\")\n",
    "# Pkg.add(\"MCTS\")\n",
    "# Pkg.add(\"DiscreteValueIteration\")\n",
    "# Pkg.add(\"POMDPModels\")\n",
    "# Pkg.add(\"POMDPPolicies\")\n",
    "# Pkg.add(\"Distributions\")\n",
    "# Pkg.add(\"Combinatorics\")\n",
    "# Pkg.add(\"StaticArrays\")\n",
    "# Pkg.add(\"D3Trees\")\n",
    "# Pkg.add(\"Random\")\n",
    "# Pkg.add(\"FileIO\")\n",
    "# Pkg.add(\"JLD2\")\n",
    "# Pkg.add(\"TickTock\")\n",
    "\n"
   ]
  },
  {
   "cell_type": "code",
   "execution_count": 2,
   "metadata": {},
   "outputs": [],
   "source": [
    "# import Pkg; Pkg.add(\"DataFrames\")"
   ]
  },
  {
   "cell_type": "code",
   "execution_count": 3,
   "metadata": {},
   "outputs": [],
   "source": [
    "using POMDPs, POMDPTools, QuickPOMDPs, MCTS, DiscreteValueIteration, POMDPSimulators, POMDPModels, POMDPPolicies\n",
    "using Distributions, Combinatorics, StaticArrays, D3Trees, Random\n",
    "using FileIO, JLD2, TickTock"
   ]
  },
  {
   "cell_type": "code",
   "execution_count": 4,
   "metadata": {},
   "outputs": [
    {
     "data": {
      "text/plain": [
       "4-element view(::Array{Float64, 3}, 4, :, 2) with eltype Float64:\n",
       " 0.8571\n",
       " 0.1429\n",
       " 0.0\n",
       " 0.0"
      ]
     },
     "execution_count": 4,
     "metadata": {},
     "output_type": "execute_result"
    }
   ],
   "source": [
    "global Number_level = 4;\n",
    "global Action_num = 4;\n",
    "\n",
    "gamma=0.95\n",
    "Transition_matrix = [\n",
    "    0.8571 0.1429 0.0    0.0;\n",
    "    0.0    0.8571 0.1429 0.0;\n",
    "    0.0    0.0    0.8    0.2;\n",
    "    0.0    0.0    0.0    1.0\n",
    "]\n",
    "T=zeros(Number_level,Number_level,3);\n",
    "T[:,:,1].=Transition_matrix;\n",
    "T[:,:,2].=Transition_matrix;\n",
    "for j in 1:Number_level\n",
    "    T[j,:,3].=Transition_matrix[1,:];\n",
    "    end\n",
    "T[Number_level,:,1].=0.0\n",
    "T[Number_level,Number_level,1]=1.0\n",
    "T[Number_level,:,2].=Transition_matrix[1,:]\n"
   ]
  },
  {
   "cell_type": "code",
   "execution_count": 5,
   "metadata": {},
   "outputs": [
    {
     "data": {
      "text/plain": [
       "4×4×3 Array{Float64, 3}:\n",
       "[:, :, 1] =\n",
       " 0.8571  0.1429  0.0     0.0\n",
       " 0.0     0.8571  0.1429  0.0\n",
       " 0.0     0.0     0.8     0.2\n",
       " 0.0     0.0     0.0     1.0\n",
       "\n",
       "[:, :, 2] =\n",
       " 0.8571  0.1429  0.0     0.0\n",
       " 0.0     0.8571  0.1429  0.0\n",
       " 0.0     0.0     0.8     0.2\n",
       " 0.8571  0.1429  0.0     0.0\n",
       "\n",
       "[:, :, 3] =\n",
       " 0.8571  0.1429  0.0  0.0\n",
       " 0.8571  0.1429  0.0  0.0\n",
       " 0.8571  0.1429  0.0  0.0\n",
       " 0.8571  0.1429  0.0  0.0"
      ]
     },
     "execution_count": 5,
     "metadata": {},
     "output_type": "execute_result"
    }
   ],
   "source": [
    "T"
   ]
  },
  {
   "cell_type": "code",
   "execution_count": 6,
   "metadata": {},
   "outputs": [
    {
     "data": {
      "text/plain": [
       "4×4 Matrix{Float64}:\n",
       " 0.8  0.2  0.0  0.0\n",
       " 0.1  0.8  0.1  0.0\n",
       " 0.0  0.2  0.8  0.0\n",
       " 0.0  0.0  0.0  1.0"
      ]
     },
     "execution_count": 6,
     "metadata": {},
     "output_type": "execute_result"
    }
   ],
   "source": [
    "Observation_matrix=[\n",
    "    0.8 0.2 0.0 0.0;\n",
    "    0.1 0.8 0.1 0.0;\n",
    "    0.0 0.2 0.8 0.0;\n",
    "    0.0 0.0 0.0 1.0\n",
    "]\n",
    "# Observation_matrix=[\n",
    "#     0.7 0.2 0.1 0.0;\n",
    "#     0.15 0.7 0.15 0.0;\n",
    "#     0.1 0.2 0.7 0.0;\n",
    "#     0.0 0.0 0.0 1.0\n",
    "# ]\n",
    "\n",
    "# Observation_matrix=[\n",
    "#     0.65  0.25 0.1   0.0;\n",
    "#     0.175 0.65 0.175 0.0;\n",
    "#     0.1   0.25 0.65  0.0;\n",
    "#     0.0   0.0  0.0   1.0\n",
    "# ]"
   ]
  },
  {
   "cell_type": "code",
   "execution_count": 7,
   "metadata": {},
   "outputs": [
    {
     "data": {
      "text/plain": [
       "-2000"
      ]
     },
     "execution_count": 7,
     "metadata": {},
     "output_type": "execute_result"
    }
   ],
   "source": [
    "NumberUnits=20\n",
    "limit=12\n",
    "failure_penalty = -1200.0;\n",
    "maintenance_penalty = -100.0;\n",
    "setup_cost = -300.0;\n",
    "normal_operation = 0.0;\n",
    "system_penalty=-2000"
   ]
  },
  {
   "cell_type": "code",
   "execution_count": 8,
   "metadata": {},
   "outputs": [],
   "source": [
    "# import Pkg; Pkg.add(\"QMDP\")"
   ]
  },
  {
   "cell_type": "code",
   "execution_count": 9,
   "metadata": {},
   "outputs": [],
   "source": [
    "States=Array((1:Number_level))\n",
    "Observations=Array((1:Number_level))\n",
    "\n",
    "using POMDPs, QuickPOMDPs, POMDPModelTools, POMDPSimulators, QMDP"
   ]
  },
  {
   "cell_type": "code",
   "execution_count": 10,
   "metadata": {},
   "outputs": [],
   "source": [
    "# In iterations, belief needs to be \"manually\" updated using updater(policy::Policy), \n",
    "# then call decision function using policy and belief state\n"
   ]
  },
  {
   "cell_type": "code",
   "execution_count": 11,
   "metadata": {},
   "outputs": [
    {
     "data": {
      "text/plain": [
       "               \u001b[97;1mSparseCat distribution\u001b[0m           \n",
       "     \u001b[38;5;8m┌                                        ┐\u001b[0m \n",
       "   1 \u001b[38;5;8m┤\u001b[0m\u001b[38;5;2m■■■■■■■■■■■■■■■■■■■■■■■■■■■■■■■■■■■\u001b[0m 0.8 \u001b[38;5;8m \u001b[0m \u001b[38;5;8m\u001b[0m\n",
       "   2 \u001b[38;5;8m┤\u001b[0m\u001b[38;5;2m■■■■■■■■■\u001b[0m 0.2                           \u001b[38;5;8m \u001b[0m \u001b[38;5;8m\u001b[0m\n",
       "   3 \u001b[38;5;8m┤\u001b[0m\u001b[38;5;2m\u001b[0m 0.0                                    \u001b[38;5;8m \u001b[0m \u001b[38;5;8m\u001b[0m\n",
       "   4 \u001b[38;5;8m┤\u001b[0m\u001b[38;5;2m\u001b[0m 0.0                                    \u001b[38;5;8m \u001b[0m \u001b[38;5;8m\u001b[0m\n",
       "     \u001b[38;5;8m└                                        ┘\u001b[0m "
      ]
     },
     "execution_count": 11,
     "metadata": {},
     "output_type": "execute_result"
    }
   ],
   "source": [
    "SparseCat(Observations, Observation_matrix[1,:])"
   ]
  },
  {
   "cell_type": "code",
   "execution_count": 12,
   "metadata": {},
   "outputs": [
    {
     "data": {
      "text/plain": [
       "4-element Vector{Float64}:\n",
       " 1.0\n",
       " 0.0\n",
       " 0.0\n",
       " 0.0"
      ]
     },
     "execution_count": 12,
     "metadata": {},
     "output_type": "execute_result"
    }
   ],
   "source": [
    "Initialstates = zeros(Number_level)\n",
    "Initialstates[1]=1.0\n",
    "Initialstates"
   ]
  },
  {
   "cell_type": "code",
   "execution_count": 13,
   "metadata": {},
   "outputs": [
    {
     "data": {
      "text/plain": [
       "               \u001b[97;1mSparseCat distribution\u001b[0m           \n",
       "     \u001b[38;5;8m┌                                        ┐\u001b[0m \n",
       "   1 \u001b[38;5;8m┤\u001b[0m\u001b[38;5;2m■■■■■■■■■■■■■■■■■■■■■■■■■■■■■■■■■■■\u001b[0m 1.0 \u001b[38;5;8m \u001b[0m \u001b[38;5;8m\u001b[0m\n",
       "   2 \u001b[38;5;8m┤\u001b[0m\u001b[38;5;2m\u001b[0m 0.0                                    \u001b[38;5;8m \u001b[0m \u001b[38;5;8m\u001b[0m\n",
       "   3 \u001b[38;5;8m┤\u001b[0m\u001b[38;5;2m\u001b[0m 0.0                                    \u001b[38;5;8m \u001b[0m \u001b[38;5;8m\u001b[0m\n",
       "   4 \u001b[38;5;8m┤\u001b[0m\u001b[38;5;2m\u001b[0m 0.0                                    \u001b[38;5;8m \u001b[0m \u001b[38;5;8m\u001b[0m\n",
       "     \u001b[38;5;8m└                                        ┘\u001b[0m "
      ]
     },
     "execution_count": 13,
     "metadata": {},
     "output_type": "execute_result"
    }
   ],
   "source": [
    "Initialstate = SparseCat(States, Initialstates)"
   ]
  },
  {
   "cell_type": "code",
   "execution_count": 14,
   "metadata": {},
   "outputs": [],
   "source": [
    "# Initialobss = zeros(Number_level)\n",
    "# Initialobss[1]=1.0\n",
    "# Initialobss"
   ]
  },
  {
   "cell_type": "code",
   "execution_count": 15,
   "metadata": {},
   "outputs": [
    {
     "data": {
      "text/plain": [
       "               \u001b[97;1mSparseCat distribution\u001b[0m           \n",
       "     \u001b[38;5;8m┌                                        ┐\u001b[0m \n",
       "   1 \u001b[38;5;8m┤\u001b[0m\u001b[38;5;2m■■■■■■■■■■■■■■■■■■■■■■■■■■■■■■■■■■■\u001b[0m 0.8 \u001b[38;5;8m \u001b[0m \u001b[38;5;8m\u001b[0m\n",
       "   2 \u001b[38;5;8m┤\u001b[0m\u001b[38;5;2m■■■■■■■■■\u001b[0m 0.2                           \u001b[38;5;8m \u001b[0m \u001b[38;5;8m\u001b[0m\n",
       "   3 \u001b[38;5;8m┤\u001b[0m\u001b[38;5;2m\u001b[0m 0.0                                    \u001b[38;5;8m \u001b[0m \u001b[38;5;8m\u001b[0m\n",
       "   4 \u001b[38;5;8m┤\u001b[0m\u001b[38;5;2m\u001b[0m 0.0                                    \u001b[38;5;8m \u001b[0m \u001b[38;5;8m\u001b[0m\n",
       "     \u001b[38;5;8m└                                        ┘\u001b[0m "
      ]
     },
     "execution_count": 15,
     "metadata": {},
     "output_type": "execute_result"
    }
   ],
   "source": [
    "# Initialobs = SparseCat(States, Initialobss)\n",
    "Initialobs = SparseCat(Observations, Observation_matrix[1,:])"
   ]
  },
  {
   "cell_type": "code",
   "execution_count": 16,
   "metadata": {},
   "outputs": [
    {
     "data": {
      "text/plain": [
       "QuickPOMDP{Base.UUID(\"d229ff74-152d-41f1-8fb7-8ce1e70b0c98\"), Int64, Int64, Int64, @NamedTuple{stateindex::Dict{Int64, Int64}, isterminal::Bool, obsindex::Dict{Int64, Int64}, states::Vector{Int64}, observations::Vector{Int64}, discount::Float64, initialobs::SparseCat{Vector{Int64}, Vector{Float64}}, actions::Vector{Int64}, observation::var\"#2#5\", actionindex::Dict{Int64, Int64}, initialstate::SparseCat{Vector{Int64}, Vector{Float64}}, transition::var\"#1#4\", reward::var\"#3#6\"}}((stateindex = Dict(4 => 4, 2 => 2, 3 => 3, 1 => 1), isterminal = false, obsindex = Dict(4 => 4, 2 => 2, 3 => 3, 1 => 1), states = [1, 2, 3, 4], observations = [1, 2, 3, 4], discount = 0.95, initialobs = SparseCat{Vector{Int64}, Vector{Float64}}([1, 2, 3, 4], [0.8, 0.2, 0.0, 0.0]), actions = [1, 2, 3, 4], observation = var\"#2#5\"(), actionindex = Dict(4 => 4, 2 => 2, 3 => 3, 1 => 1), initialstate = SparseCat{Vector{Int64}, Vector{Float64}}([1, 2, 3, 4], [1.0, 0.0, 0.0, 0.0]), transition = var\"#1#4\"(), reward = var\"#3#6\"()))"
      ]
     },
     "execution_count": 16,
     "metadata": {},
     "output_type": "execute_result"
    }
   ],
   "source": [
    "multiunit = QuickPOMDP(\n",
    "    states=States,\n",
    "    actions=Array((1:Action_num)),\n",
    "    observations = Observations,\n",
    "    #initialstate = repeat(1:1,NumberUnits),\n",
    "    initialstate = Initialstate,\n",
    "    #initialobs = repeat(1:1,NumberUnits),\n",
    "    initialobs = Initialobs,\n",
    "    discount = gamma,\n",
    "\n",
    "    transition = function(s,a)\n",
    "        if a == 1 # NO REPAIR, NO SYSTEM FAILURE\n",
    "            #crd = Categorical(T[s,:,1]);\n",
    "            #s = rand(crd);\n",
    "            return SparseCat(States, T[s,:,1])\n",
    "        end\n",
    "        if a == 2 # UNIT NOT REPAIRED UNLESS FAILURE BUT REPAIR IN SYSTEM\n",
    "            if s == Number_level\n",
    "                s = 1\n",
    "                #crd = Categorical(T[s,:,2]);\n",
    "                #s = rand(crd);\n",
    "                return SparseCat(States, T[s,:,2])\n",
    "            else\n",
    "                #crd = Categorical(T[s,:,2]);\n",
    "                #s = rand(crd);\n",
    "                return SparseCat(States, T[s,:,2])\n",
    "            end\n",
    "        end\n",
    "        if a == 3 # UNIT REPAIRED AND MAINTENANCE IN SYSTEM, NO SYSTEM FAILURE\n",
    "            if s==Number_level\n",
    "                s=1\n",
    "                #crd = Categorical(T[s,:,3]);\n",
    "                #s = rand(crd);\n",
    "                return SparseCat(States, T[s,:,3])\n",
    "            else\n",
    "                s = 1\n",
    "                #crd = Categorical(T[s,:,3]);\n",
    "                #s = rand(crd);\n",
    "                return SparseCat(States, T[s,:,3])\n",
    "            end\n",
    "        end\n",
    "        if a == 4 # UNIT REPAIRED AND MAINTENANCE IN SYSTEM,SYSTEM FAILED\n",
    "            if s==Number_level\n",
    "                s=1\n",
    "                #crd = Categorical(T[s,:,3]);\n",
    "                #s = rand(crd);\n",
    "                return SparseCat(States, T[s,:,3])\n",
    "            else\n",
    "                s = 1\n",
    "                #crd = Categorical(T[s,:,3]);\n",
    "                #s = rand(crd);\n",
    "                return SparseCat(States, T[s,:,3])\n",
    "            end\n",
    "        end\n",
    "    end,\n",
    "\n",
    "    observation = function(a,s)\n",
    "        return SparseCat(Observations, Observation_matrix[s,:])\n",
    "    end,\n",
    "        \n",
    "    reward = function (s, a)\n",
    "        if a == 1 # NO REPAIR, NO SYSTEM FAILURE\n",
    "            if s == Number_level\n",
    "                return system_penalty/(limit)\n",
    "            else\n",
    "                return normal_operation\n",
    "            end\n",
    "            #crd = Categorical(T[s,:,1]);\n",
    "            #s = rand(crd);\n",
    "        end\n",
    "        if a == 2 # UNIT NOT REPAIRED UNLESS FAILURE BUT REPAIR IN SYSTEM, NO SYSTEM FAILURE PENALTY\n",
    "            if s == Number_level\n",
    "                #s = 1\n",
    "                #crd = Categorical(T[s,:,2]);\n",
    "                #s = rand(crd);\n",
    "                return failure_penalty +  setup_cost/NumberUnits + normal_operation\n",
    "            else\n",
    "                # Here it doesn't matter whether systems fails or not, since C_b does not apply to functional units\n",
    "                return normal_operation +  setup_cost/NumberUnits\n",
    "            end\n",
    "        end\n",
    "        if a == 3 # UNIT REPAIRED AND MAINTENANCE IN SYSTEM, NO SYSTEM FAILURE PENALTY\n",
    "            if s==Number_level\n",
    "                #s=1\n",
    "                #crd = Categorical(T[s,:,3]);\n",
    "                #s = rand(crd);\n",
    "                return failure_penalty +  setup_cost/NumberUnits + normal_operation\n",
    "            else\n",
    "                # Here it doesn't matter whether systems fails or not, since C_b does not apply to functional units\n",
    "                return maintenance_penalty +  setup_cost/NumberUnits+ normal_operation \n",
    "            end\n",
    "        end\n",
    "        if a == 4 # UNIT REPAIRED AND MAINTENANCE IN SYSTEM,SYSTEM FAILED\n",
    "            if s==Number_level\n",
    "                #s=1\n",
    "                #crd = Categorical(T[s,:,3]);\n",
    "                #s = rand(crd);\n",
    "                return failure_penalty +  setup_cost/NumberUnits + normal_operation + system_penalty/(limit)\n",
    "            else\n",
    "                #s = 1\n",
    "                #crd = Categorical(T[s,:,3]);\n",
    "                #s = rand(crd);\n",
    "                return maintenance_penalty +  setup_cost/NumberUnits + normal_operation\n",
    "            end\n",
    "        end\n",
    "    end,\n",
    "    \n",
    "\n",
    ")"
   ]
  },
  {
   "cell_type": "code",
   "execution_count": 17,
   "metadata": {},
   "outputs": [
    {
     "data": {
      "text/plain": [
       "               \u001b[97;1mSparseCat distribution\u001b[0m           \n",
       "     \u001b[38;5;8m┌                                        ┐\u001b[0m \n",
       "   1 \u001b[38;5;8m┤\u001b[0m\u001b[38;5;2m■■■■■■■■■■■■■■■■■■■■■■■■■■■■■■■■■■■\u001b[0m 1.0 \u001b[38;5;8m \u001b[0m \u001b[38;5;8m\u001b[0m\n",
       "   2 \u001b[38;5;8m┤\u001b[0m\u001b[38;5;2m\u001b[0m 0.0                                    \u001b[38;5;8m \u001b[0m \u001b[38;5;8m\u001b[0m\n",
       "   3 \u001b[38;5;8m┤\u001b[0m\u001b[38;5;2m\u001b[0m 0.0                                    \u001b[38;5;8m \u001b[0m \u001b[38;5;8m\u001b[0m\n",
       "   4 \u001b[38;5;8m┤\u001b[0m\u001b[38;5;2m\u001b[0m 0.0                                    \u001b[38;5;8m \u001b[0m \u001b[38;5;8m\u001b[0m\n",
       "     \u001b[38;5;8m└                                        ┘\u001b[0m "
      ]
     },
     "execution_count": 17,
     "metadata": {},
     "output_type": "execute_result"
    }
   ],
   "source": [
    "initialstate(multiunit)"
   ]
  },
  {
   "cell_type": "code",
   "execution_count": 18,
   "metadata": {},
   "outputs": [],
   "source": [
    "# import Pkg; Pkg.add(\"NativeSARSOP\")\n",
    "using POMDPs\n",
    "# using NativeSARSOP\n",
    "using POMDPModels\n",
    "\n"
   ]
  },
  {
   "cell_type": "code",
   "execution_count": 19,
   "metadata": {},
   "outputs": [
    {
     "data": {
      "text/plain": [
       "4-element Vector{Int64}:\n",
       " 1\n",
       " 2\n",
       " 3\n",
       " 4"
      ]
     },
     "execution_count": 19,
     "metadata": {},
     "output_type": "execute_result"
    }
   ],
   "source": [
    "ordered_states(multiunit)"
   ]
  },
  {
   "cell_type": "code",
   "execution_count": 20,
   "metadata": {},
   "outputs": [
    {
     "data": {
      "text/plain": [
       "4"
      ]
     },
     "execution_count": 20,
     "metadata": {},
     "output_type": "execute_result"
    }
   ],
   "source": [
    "length(states(multiunit))"
   ]
  },
  {
   "cell_type": "code",
   "execution_count": 21,
   "metadata": {},
   "outputs": [],
   "source": [
    "#import Pkg; Pkg.add(\"IncrementalPruning\")"
   ]
  },
  {
   "cell_type": "code",
   "execution_count": 22,
   "metadata": {},
   "outputs": [],
   "source": [
    "# using IncrementalPruning\n",
    "# solver = PruneSolver() # set the solver\n",
    "\n",
    "# policy = solve(solver, multiunit)"
   ]
  },
  {
   "cell_type": "code",
   "execution_count": 23,
   "metadata": {},
   "outputs": [],
   "source": [
    "#value(policy,[0.1,0.8,0.1,0.0])"
   ]
  },
  {
   "cell_type": "code",
   "execution_count": 24,
   "metadata": {},
   "outputs": [],
   "source": [
    "# solver = SARSOPSolver()\n",
    "# policy = solve(solver, multiunit)\n",
    "# # Calling observation"
   ]
  },
  {
   "cell_type": "code",
   "execution_count": 25,
   "metadata": {},
   "outputs": [],
   "source": [
    "# value(policy,[0.0,0.0,0.0,1.0])"
   ]
  },
  {
   "cell_type": "code",
   "execution_count": 26,
   "metadata": {},
   "outputs": [],
   "source": [
    "# value(policy,[0.1,0.1,0.8,0.0])"
   ]
  },
  {
   "cell_type": "code",
   "execution_count": 27,
   "metadata": {},
   "outputs": [
    {
     "data": {
      "text/plain": [
       "4-element Vector{Float64}:\n",
       " 0.0\n",
       " 0.2\n",
       " 0.8\n",
       " 0.0"
      ]
     },
     "execution_count": 27,
     "metadata": {},
     "output_type": "execute_result"
    }
   ],
   "source": [
    "b=[[0.0, 0.2, 0.8, 0.0] for j in 1:NumberUnits]\n",
    "belief=b[1]\n",
    "# value(policy,belief)"
   ]
  },
  {
   "cell_type": "code",
   "execution_count": 28,
   "metadata": {},
   "outputs": [
    {
     "data": {
      "text/plain": [
       "               \u001b[97;1mSparseCat distribution\u001b[0m           \n",
       "     \u001b[38;5;8m┌                                        ┐\u001b[0m \n",
       "   1 \u001b[38;5;8m┤\u001b[0m\u001b[38;5;2m\u001b[0m 0.0                                    \u001b[38;5;8m \u001b[0m \u001b[38;5;8m\u001b[0m\n",
       "   2 \u001b[38;5;8m┤\u001b[0m\u001b[38;5;2m\u001b[0m 0.0                                    \u001b[38;5;8m \u001b[0m \u001b[38;5;8m\u001b[0m\n",
       "   3 \u001b[38;5;8m┤\u001b[0m\u001b[38;5;2m■■■■■■■■■■■■■■■■■■■■■■■■■■■■■■■■■■■\u001b[0m 0.8 \u001b[38;5;8m \u001b[0m \u001b[38;5;8m\u001b[0m\n",
       "   4 \u001b[38;5;8m┤\u001b[0m\u001b[38;5;2m■■■■■■■■■\u001b[0m 0.2                           \u001b[38;5;8m \u001b[0m \u001b[38;5;8m\u001b[0m\n",
       "     \u001b[38;5;8m└                                        ┘\u001b[0m "
      ]
     },
     "execution_count": 28,
     "metadata": {},
     "output_type": "execute_result"
    }
   ],
   "source": [
    "#transition function: transition(pomdp, state, action)\n",
    "#return the transition distribution form the current state-action pair\n",
    "transition(multiunit, 3,1)"
   ]
  },
  {
   "cell_type": "code",
   "execution_count": 29,
   "metadata": {},
   "outputs": [
    {
     "data": {
      "text/plain": [
       "               \u001b[97;1mSparseCat distribution\u001b[0m           \n",
       "     \u001b[38;5;8m┌                                        ┐\u001b[0m \n",
       "   1 \u001b[38;5;8m┤\u001b[0m\u001b[38;5;2m■■■■\u001b[0m 0.1                                \u001b[38;5;8m \u001b[0m \u001b[38;5;8m\u001b[0m\n",
       "   2 \u001b[38;5;8m┤\u001b[0m\u001b[38;5;2m■■■■■■■■■■■■■■■■■■■■■■■■■■■■■■■■■■■\u001b[0m 0.8 \u001b[38;5;8m \u001b[0m \u001b[38;5;8m\u001b[0m\n",
       "   3 \u001b[38;5;8m┤\u001b[0m\u001b[38;5;2m■■■■\u001b[0m 0.1                                \u001b[38;5;8m \u001b[0m \u001b[38;5;8m\u001b[0m\n",
       "   4 \u001b[38;5;8m┤\u001b[0m\u001b[38;5;2m\u001b[0m 0.0                                    \u001b[38;5;8m \u001b[0m \u001b[38;5;8m\u001b[0m\n",
       "     \u001b[38;5;8m└                                        ┘\u001b[0m "
      ]
     },
     "execution_count": 29,
     "metadata": {},
     "output_type": "execute_result"
    }
   ],
   "source": [
    "# observation function: observation(pomdp, action,statep)\n",
    "# return the observation distribution\n",
    "POMDPs.observation(multiunit,1,2)"
   ]
  },
  {
   "cell_type": "code",
   "execution_count": 30,
   "metadata": {},
   "outputs": [
    {
     "data": {
      "text/plain": [
       "-15.0"
      ]
     },
     "execution_count": 30,
     "metadata": {},
     "output_type": "execute_result"
    }
   ],
   "source": [
    "reward(multiunit, 2,2)"
   ]
  },
  {
   "cell_type": "code",
   "execution_count": 31,
   "metadata": {},
   "outputs": [
    {
     "data": {
      "text/plain": [
       "               \u001b[97;1mSparseCat distribution\u001b[0m           \n",
       "     \u001b[38;5;8m┌                                        ┐\u001b[0m \n",
       "   1 \u001b[38;5;8m┤\u001b[0m\u001b[38;5;2m■■■■■■■■■■■■■■■■■■■■■■■■■■■■■■■■■■■\u001b[0m 0.8 \u001b[38;5;8m \u001b[0m \u001b[38;5;8m\u001b[0m\n",
       "   2 \u001b[38;5;8m┤\u001b[0m\u001b[38;5;2m■■■■■■■■■\u001b[0m 0.2                           \u001b[38;5;8m \u001b[0m \u001b[38;5;8m\u001b[0m\n",
       "   3 \u001b[38;5;8m┤\u001b[0m\u001b[38;5;2m\u001b[0m 0.0                                    \u001b[38;5;8m \u001b[0m \u001b[38;5;8m\u001b[0m\n",
       "   4 \u001b[38;5;8m┤\u001b[0m\u001b[38;5;2m\u001b[0m 0.0                                    \u001b[38;5;8m \u001b[0m \u001b[38;5;8m\u001b[0m\n",
       "     \u001b[38;5;8m└                                        ┘\u001b[0m "
      ]
     },
     "execution_count": 31,
     "metadata": {},
     "output_type": "execute_result"
    }
   ],
   "source": [
    "s=1\n",
    "new_a = 1\n",
    "p_observation = POMDPs.observation(multiunit,new_a,s)\n"
   ]
  },
  {
   "cell_type": "code",
   "execution_count": 32,
   "metadata": {},
   "outputs": [
    {
     "data": {
      "text/plain": [
       "0.2"
      ]
     },
     "execution_count": 32,
     "metadata": {},
     "output_type": "execute_result"
    }
   ],
   "source": [
    "# use pdf function to get prob of certain entry\n",
    "new_obs=2\n",
    "pdf(p_observation,new_obs)"
   ]
  },
  {
   "cell_type": "code",
   "execution_count": 33,
   "metadata": {},
   "outputs": [
    {
     "data": {
      "text/plain": [
       "generative (generic function with 2 methods)"
      ]
     },
     "execution_count": 33,
     "metadata": {},
     "output_type": "execute_result"
    }
   ],
   "source": [
    "function generative(s,a,rng=23) # calculate TRUE COMPONENT-LEVEL reward r_i(s_i,a_i) and get evolving states\n",
    "    if a==1 # No maintenance in the system, no system failure\n",
    "        crd=Categorical(T[s,:,1])\n",
    "        s=rand(crd)\n",
    "        r=normal_operation\n",
    "        obs_distribution = SparseCat(Observations, Observation_matrix[s,:])\n",
    "        obs = rand(obs_distribution)\n",
    "        return (sp=s,r=r,o=obs)\n",
    "    end\n",
    "\n",
    "    if a==2 # Maintenance occurs in the system, no system failure, corrective maintenance for the unit\n",
    "        if s==Number_level\n",
    "            crd=Categorical(T[1,:,2])\n",
    "            s=rand(crd)\n",
    "            r=failure_penalty  + normal_operation\n",
    "            obs_distribution = SparseCat(Observations, Observation_matrix[s,:])\n",
    "            obs = rand(obs_distribution)\n",
    "            return (sp=s,r=r,o=obs)\n",
    "        else\n",
    "            crd = Categorical(T[s,:,2])\n",
    "            s = rand(crd)\n",
    "            r = normal_operation\n",
    "            obs_distribution = SparseCat(Observations, Observation_matrix[s,:])\n",
    "            obs = rand(obs_distribution)\n",
    "            return (sp=s,r=r,o=obs)\n",
    "        end\n",
    "    end\n",
    "\n",
    "    if a==3 # Maintenance occurs in the system, no system failure, preventive maintenance for the unit\n",
    "        if s==Number_level\n",
    "            crd=Categorical(T[1,:,3])\n",
    "            s=rand(crd)\n",
    "            r=failure_penalty  + normal_operation\n",
    "            obs_distribution = SparseCat(Observations, Observation_matrix[s,:])\n",
    "            obs = rand(obs_distribution)\n",
    "            return (sp=s,r=r,o=obs)\n",
    "        else\n",
    "            crd = Categorical(T[s,:,3])\n",
    "            s = rand(crd)\n",
    "            r = maintenance_penalty+normal_operation\n",
    "            obs_distribution = SparseCat(Observations, Observation_matrix[s,:])\n",
    "            obs = rand(obs_distribution)\n",
    "            return (sp=s,r=r,o=obs)\n",
    "        end\n",
    "    end\n",
    "\n",
    "    if a==4 # maintenance in system, system failure occurs, preventive replacement for the unit\n",
    "        if s==Number_level\n",
    "            crd = Categorical(T[1,:,3])\n",
    "            s = rand(crd)\n",
    "            r=failure_penalty+ normal_operation\n",
    "            obs_distribution = SparseCat(Observations, Observation_matrix[s,:])\n",
    "            obs = rand(obs_distribution)\n",
    "            return (sp=s,r=r,o=obs)\n",
    "        else\n",
    "            r = maintenance_penalty+normal_operation\n",
    "            crd = Categorical(T[1,:,3])\n",
    "            s = rand(crd)\n",
    "            obs_distribution = SparseCat(Observations, Observation_matrix[s,:])\n",
    "            obs = rand(obs_distribution)\n",
    "            return (sp=s,r=r,o=obs)\n",
    "        end\n",
    "    end\n",
    "end\n",
    "\n",
    "        \n",
    "        \n",
    "    "
   ]
  },
  {
   "cell_type": "markdown",
   "metadata": {},
   "source": [
    "#### Belief updater"
   ]
  },
  {
   "cell_type": "markdown",
   "metadata": {},
   "source": [
    "$$b'(s_j)=P(s_j\\vert o,a,b)=\\dfrac{P(o\\vert s_j,a)\\sum_{s_i\\in \\mathcal{S}}P(s_j\\vert s_i,a)b(s_i)}{\\sum_{s_j\\in \\mathcal{S}}P(o\\vert s_j,a)\\sum_{s_i\\in \\mathcal{S}}P(s_j\\vert s_i,a)b(s_i)}$$"
   ]
  },
  {
   "cell_type": "code",
   "execution_count": 34,
   "metadata": {},
   "outputs": [
    {
     "data": {
      "text/plain": [
       "update_belief (generic function with 1 method)"
      ]
     },
     "execution_count": 34,
     "metadata": {},
     "output_type": "execute_result"
    }
   ],
   "source": [
    "function update_belief(b,a,o,pomdp) \n",
    "    # NOTE: \n",
    "    # in input, b is belief from last epoch (before a)\n",
    "    # a is the last action we took\n",
    "    # o is the new observation after a\n",
    "    updated_belief = zeros(length(b))\n",
    "    if o==4\n",
    "        updated_belief[length(states(pomdp))]=1.0\n",
    "        return updated_belief\n",
    "    end\n",
    "    #if ((a==2)&&(o==4)) ||(a==3) ||(a==4)\n",
    "    #if (a==2) ||(a==3) ||(a==4)\n",
    "    if (a==3) ||(a==4)\n",
    "    # We assume perfect maintenance and it is know to decision maker(belief updater)\n",
    "        for sp in 1: length(states(pomdp))\n",
    "            p_observation = POMDPs.observation(pomdp,a,sp) \n",
    "            p_obs = pdf(p_observation,o)\n",
    "            # Transition probability distribution is T[1,:,1]\n",
    "            p_trans = pdf(transition(pomdp,1,1),sp) \n",
    "            updated_belief[sp] = p_obs * p_trans\n",
    "        end\n",
    "        updated_belief ./= sum(updated_belief)\n",
    "        return updated_belief\n",
    "    end\n",
    "    \n",
    "    for sp in 1:length(states(pomdp)) \n",
    "        p_observation = POMDPs.observation(pomdp,a,sp) \n",
    "        p_obs = pdf(p_observation,o)\n",
    "        p_trans = 0.0\n",
    "        for s in 1:length(states(pomdp))\n",
    "            #trans = transition(pomdp, s,a)\n",
    "            #p_trans += pdf(transition(pomdp, s,a),sp) * pdf(b, s)\n",
    "            # p_trans += T[s,sp,a] * pdf(b, s)\n",
    "            p_trans += pdf(transition(pomdp,s,a),sp) * b[s]\n",
    "        end\n",
    "        updated_belief[sp] = p_obs * p_trans\n",
    "    end\n",
    "        # Normalize the updated belief state to ensure it sums up to 1\n",
    "        updated_belief ./= sum(updated_belief)\n",
    "    return updated_belief\n",
    "end\n"
   ]
  },
  {
   "cell_type": "markdown",
   "metadata": {},
   "source": [
    "### Value Iteration"
   ]
  },
  {
   "cell_type": "code",
   "execution_count": 35,
   "metadata": {},
   "outputs": [
    {
     "data": {
      "text/plain": [
       "ValueIteration (generic function with 1 method)"
      ]
     },
     "execution_count": 35,
     "metadata": {},
     "output_type": "execute_result"
    }
   ],
   "source": [
    "function ValueIteration(S, T, γ)\n",
    "    # Here we always consider the state with the highest belief as the true state\n",
    "    Q = zeros((Number_level, 4))\n",
    "    V = zeros(Float64, (Number_level)).+1000\n",
    "    i=0\n",
    "    while i<=10000\n",
    "        for s in 1:Number_level\n",
    "            Threads.@threads for a in 1:4\n",
    "                # Q[s,a] = (reward(s,a)) + γ*(sum(T[s,s1,a]*V[s1] for s1 in 1:Number_level))\n",
    "                # reward(multiunit, 2,2)\n",
    "                if a == 4\n",
    "                    Q[s,a] = (reward(multiunit,s,a)) + γ*(sum(T[s,s1,3]*V[s1] for s1 in 1:Number_level))\n",
    "                else\n",
    "                Q[s,a] = (reward(multiunit,s,a)) + γ*(sum(T[s,s1,a]*V[s1] for s1 in 1:Number_level))\n",
    "                end\n",
    "            end\n",
    "            V[s] = findmax(Q[s, 1:4])[1]\n",
    "        end\n",
    "        i+=1\n",
    "    end\n",
    "    return Q\n",
    "end"
   ]
  },
  {
   "cell_type": "markdown",
   "metadata": {},
   "source": [
    "### System-level decision making"
   ]
  },
  {
   "cell_type": "code",
   "execution_count": 36,
   "metadata": {},
   "outputs": [
    {
     "data": {
      "text/plain": [
       "decision (generic function with 1 method)"
      ]
     },
     "execution_count": 36,
     "metadata": {},
     "output_type": "execute_result"
    }
   ],
   "source": [
    "function decision(Q, o, b)\n",
    "    a_final = repeat(1:1,NumberUnits)\n",
    "    # Instead of using maximum likelihood state,\n",
    "    # we use belief-weighted sum of Q function\n",
    "\n",
    "    failed_components = 0\n",
    "    for i in 1:NumberUnits # numerate over units\n",
    "        if o[i] == Number_level # failure state is self-announcing\n",
    "            failed_components+=1\n",
    "        end\n",
    "    end\n",
    "\n",
    "    # calculate belief-based Q table for each unit\n",
    "    Q_belief = zeros((NumberUnits, 4))\n",
    "    \n",
    "    for i in 1:NumberUnits\n",
    "        belief = b[i]\n",
    "        for a in 1:4\n",
    "            Q_belief[i,a] = sum(belief[s] * Q[s,a] for s in 1:Number_level)\n",
    "        end\n",
    "    end\n",
    "\n",
    "    # decision making: 3 scenarios\n",
    "    # 1) System fails\n",
    "    if failed_components >= limit\n",
    "        for i in 1:NumberUnits\n",
    "            a_final[i]=argmax(a->Q_belief[i,a],[2,3])\n",
    "            if o[i] == Number_level\n",
    "                a_final[i]=4\n",
    "            end\n",
    "        end\n",
    "        return a_final\n",
    "    end\n",
    "\n",
    "    q0 = 0.0\n",
    "    a0 = repeat(1:1, NumberUnits)\n",
    "    for i in 1:NumberUnits\n",
    "        q0+=Q_belief[i,1]\n",
    "    end\n",
    "\n",
    "    q1 = 0.0\n",
    "    a1 = repeat(1:1, NumberUnits)\n",
    "    for i in 1:NumberUnits\n",
    "        a1[i] = argmax(a->Q_belief[i,a], [2,3])\n",
    "        if o[i] == Number_level\n",
    "            a1[i] = 3\n",
    "        end\n",
    "        q1 += Q_belief[i, a1[i]]\n",
    "    end\n",
    "\n",
    "    if !(3 in a1)\n",
    "        a1 = a0\n",
    "        q1 = q0\n",
    "    end\n",
    "\n",
    "    if q0 > q1\n",
    "        return a0\n",
    "    else\n",
    "        return a1\n",
    "    end\n",
    "end\n",
    "    \n",
    "\n"
   ]
  },
  {
   "cell_type": "code",
   "execution_count": 37,
   "metadata": {},
   "outputs": [],
   "source": [
    "# function decision(Q, o, b)\n",
    "#     a_final = repeat(1:1,NumberUnits)\n",
    "#     # obtain \"guessed\" state vector from belief vector\n",
    "#     # and consider it as the true state vector\n",
    "#     s_guess = argmax.(b)\n",
    "\n",
    "#     failed_components = 0\n",
    "#     for i in 1:NumberUnits # numerate over units\n",
    "#         if o[i] == Number_level # failure state is self-announcing\n",
    "#             failed_components+=1\n",
    "#         end\n",
    "#     end\n",
    "\n",
    "#     if failed_components >= limit\n",
    "#         for i in 1:NumberUnits\n",
    "#             a_final[i]=argmax(a->Q[s_guess[i],a],[2,3])\n",
    "#             if o[i] == Number_level\n",
    "#                 a_final[i]=4\n",
    "#             end\n",
    "#         end\n",
    "#         return a_final\n",
    "#     end\n",
    "\n",
    "#     q0 = 0.0\n",
    "#     a0 = repeat(1:1, NumberUnits)\n",
    "#     for i in 1:NumberUnits\n",
    "#         q0+=Q[s_guess[i],1]\n",
    "#     end\n",
    "\n",
    "#     q1 = 0.0\n",
    "#     a1 = repeat(1:1, NumberUnits)\n",
    "#     for i in 1:NumberUnits\n",
    "#         a1[i] = argmax(a->Q[s_guess[i],a], [2,3])\n",
    "#         if o[i] == Number_level\n",
    "#             a1[i] = 3\n",
    "#         end\n",
    "#         q1 += Q[s_guess[i], a1[i]]\n",
    "#     end\n",
    "\n",
    "#     if !(3 in a1)\n",
    "#         a1 = a0\n",
    "#         q1 = q0\n",
    "#     end\n",
    "\n",
    "#     if q0 > q1\n",
    "#         return a0\n",
    "#     else\n",
    "#         return a1\n",
    "#     end\n",
    "# end\n",
    "    \n",
    "\n",
    "\n",
    "   \n",
    "    \n",
    "    "
   ]
  },
  {
   "cell_type": "markdown",
   "metadata": {},
   "source": [
    "### Iteration"
   ]
  },
  {
   "cell_type": "code",
   "execution_count": 38,
   "metadata": {},
   "outputs": [
    {
     "data": {
      "text/plain": [
       "10-element Vector{Vector{Float64}}:\n",
       " [1.0, 0.0, 0.0, 0.0]\n",
       " [1.0, 0.0, 0.0, 0.0]\n",
       " [1.0, 0.0, 0.0, 0.0]\n",
       " [1.0, 0.0, 0.0, 0.0]\n",
       " [1.0, 0.0, 0.0, 0.0]\n",
       " [1.0, 0.0, 0.0, 0.0]\n",
       " [1.0, 0.0, 0.0, 0.0]\n",
       " [1.0, 0.0, 0.0, 0.0]\n",
       " [1.0, 0.0, 0.0, 0.0]\n",
       " [1.0, 0.0, 0.0, 0.0]"
      ]
     },
     "execution_count": 38,
     "metadata": {},
     "output_type": "execute_result"
    }
   ],
   "source": [
    "NumberUnits = 10\n",
    "belief = [[1.0, 0.0, 0.0, 0.0] for j in 1:NumberUnits]"
   ]
  },
  {
   "cell_type": "code",
   "execution_count": 39,
   "metadata": {},
   "outputs": [
    {
     "data": {
      "text/plain": [
       "4-element Vector{Float64}:\n",
       " 0.7\n",
       " 0.3\n",
       " 0.0\n",
       " 0.0"
      ]
     },
     "execution_count": 39,
     "metadata": {},
     "output_type": "execute_result"
    }
   ],
   "source": [
    "belief[1]=[0.7,0.3,0.0,0.0]"
   ]
  },
  {
   "cell_type": "code",
   "execution_count": 40,
   "metadata": {},
   "outputs": [
    {
     "data": {
      "text/plain": [
       "10-element Vector{Vector{Float64}}:\n",
       " [0.7, 0.3, 0.0, 0.0]\n",
       " [1.0, 0.0, 0.0, 0.0]\n",
       " [1.0, 0.0, 0.0, 0.0]\n",
       " [1.0, 0.0, 0.0, 0.0]\n",
       " [1.0, 0.0, 0.0, 0.0]\n",
       " [1.0, 0.0, 0.0, 0.0]\n",
       " [1.0, 0.0, 0.0, 0.0]\n",
       " [1.0, 0.0, 0.0, 0.0]\n",
       " [1.0, 0.0, 0.0, 0.0]\n",
       " [1.0, 0.0, 0.0, 0.0]"
      ]
     },
     "execution_count": 40,
     "metadata": {},
     "output_type": "execute_result"
    }
   ],
   "source": [
    "belief"
   ]
  },
  {
   "cell_type": "code",
   "execution_count": 41,
   "metadata": {},
   "outputs": [
    {
     "data": {
      "text/plain": [
       "1-element Vector{Vector{Float64}}:\n",
       " [0.7, 0.3, 0.0, 0.0]"
      ]
     },
     "execution_count": 41,
     "metadata": {},
     "output_type": "execute_result"
    }
   ],
   "source": [
    "b = belief[1,:]"
   ]
  },
  {
   "cell_type": "code",
   "execution_count": 42,
   "metadata": {},
   "outputs": [
    {
     "data": {
      "text/plain": [
       "4-element Vector{Float64}:\n",
       " 0.7\n",
       " 0.3\n",
       " 0.0\n",
       " 0.0"
      ]
     },
     "execution_count": 42,
     "metadata": {},
     "output_type": "execute_result"
    }
   ],
   "source": [
    "b[1]"
   ]
  },
  {
   "cell_type": "code",
   "execution_count": 43,
   "metadata": {},
   "outputs": [
    {
     "name": "stdout",
     "output_type": "stream",
     "text": [
      "20\n",
      "K : 2\n"
     ]
    },
    {
     "name": "stderr",
     "output_type": "stream",
     "text": [
      "\u001b[36m\u001b[1m[ \u001b[22m\u001b[39m\u001b[36m\u001b[1mInfo: \u001b[22m\u001b[39m started timer at: 2025-03-05T14:15:23.863\n"
     ]
    },
    {
     "name": "stdout",
     "output_type": "stream",
     "text": [
      "[0 -800 -100 -1200 -2000]\n",
      "false\n"
     ]
    },
    {
     "name": "stderr",
     "output_type": "stream",
     "text": [
      "\u001b[36m\u001b[1m[ \u001b[22m\u001b[39m\u001b[36m\u001b[1mInfo: \u001b[22m\u001b[39m started timer at: 2025-03-05T14:15:31.679\n"
     ]
    },
    {
     "name": "stdout",
     "output_type": "stream",
     "text": [
      "20\n",
      "k : 2\n",
      "1\n",
      "-12876.581616419748\n",
      "2120.1180765584118\n",
      "20\n",
      "K : 2\n",
      "[0 -1200 -100 -1200 -2000]\n"
     ]
    },
    {
     "name": "stderr",
     "output_type": "stream",
     "text": [
      "\u001b[36m\u001b[1m[ \u001b[22m\u001b[39m\u001b[36m\u001b[1mInfo: \u001b[22m\u001b[39m          18.1001634s: 18 seconds, 100 milliseconds\n",
      "\u001b[36m\u001b[1m[ \u001b[22m\u001b[39m\u001b[36m\u001b[1mInfo: \u001b[22m\u001b[39m started timer at: 2025-03-05T14:15:49.889\n"
     ]
    },
    {
     "name": "stdout",
     "output_type": "stream",
     "text": [
      "false\n"
     ]
    },
    {
     "name": "stderr",
     "output_type": "stream",
     "text": [
      "\u001b[36m\u001b[1m[ \u001b[22m\u001b[39m\u001b[36m\u001b[1mInfo: \u001b[22m\u001b[39m started timer at: 2025-03-05T14:15:56.100\n"
     ]
    },
    {
     "name": "stdout",
     "output_type": "stream",
     "text": [
      "20\n",
      "k : 2\n",
      "1\n",
      "-15226.43850498435\n",
      "2316.3166087998593\n",
      "20\n",
      "K : 2\n",
      "[0 -1600 -100 -1200 -2000]\n"
     ]
    },
    {
     "name": "stderr",
     "output_type": "stream",
     "text": [
      "\u001b[36m\u001b[1m[ \u001b[22m\u001b[39m\u001b[36m\u001b[1mInfo: \u001b[22m\u001b[39m          20.2606217s: 20 seconds, 260 milliseconds\n",
      "\u001b[36m\u001b[1m[ \u001b[22m\u001b[39m\u001b[36m\u001b[1mInfo: \u001b[22m\u001b[39m started timer at: 2025-03-05T14:16:16.373\n"
     ]
    },
    {
     "name": "stdout",
     "output_type": "stream",
     "text": [
      "false\n"
     ]
    },
    {
     "name": "stderr",
     "output_type": "stream",
     "text": [
      "\u001b[36m\u001b[1m[ \u001b[22m\u001b[39m\u001b[36m\u001b[1mInfo: \u001b[22m\u001b[39m started timer at: 2025-03-05T14:16:22.595\n"
     ]
    },
    {
     "name": "stdout",
     "output_type": "stream",
     "text": [
      "20\n",
      "k : 2\n",
      "1\n",
      "-17446.17673470108\n",
      "2627.599403337185\n",
      "20\n",
      "K : 2\n",
      "[0 -2000 -100 -1200 -2000]\n"
     ]
    },
    {
     "name": "stderr",
     "output_type": "stream",
     "text": [
      "\u001b[36m\u001b[1m[ \u001b[22m\u001b[39m\u001b[36m\u001b[1mInfo: \u001b[22m\u001b[39m          19.3000457s: 19 seconds, 300 milliseconds\n",
      "\u001b[36m\u001b[1m[ \u001b[22m\u001b[39m\u001b[36m\u001b[1mInfo: \u001b[22m\u001b[39m started timer at: 2025-03-05T14:16:41.909\n"
     ]
    },
    {
     "name": "stdout",
     "output_type": "stream",
     "text": [
      "false\n"
     ]
    },
    {
     "name": "stderr",
     "output_type": "stream",
     "text": [
      "\u001b[36m\u001b[1m[ \u001b[22m\u001b[39m\u001b[36m\u001b[1mInfo: \u001b[22m\u001b[39m started timer at: 2025-03-05T14:16:48.085\n"
     ]
    },
    {
     "name": "stdout",
     "output_type": "stream",
     "text": [
      "20\n",
      "k : 2\n",
      "1\n",
      "-18969.466554957922\n",
      "2881.408049423795\n",
      "20\n",
      "K : 2\n",
      "[0 -2400 -100 -1200 -2000]\n"
     ]
    },
    {
     "name": "stderr",
     "output_type": "stream",
     "text": [
      "\u001b[36m\u001b[1m[ \u001b[22m\u001b[39m\u001b[36m\u001b[1mInfo: \u001b[22m\u001b[39m          20.3588292s: 20 seconds, 358 milliseconds\n",
      "\u001b[36m\u001b[1m[ \u001b[22m\u001b[39m\u001b[36m\u001b[1mInfo: \u001b[22m\u001b[39m started timer at: 2025-03-05T14:17:08.450\n"
     ]
    },
    {
     "name": "stdout",
     "output_type": "stream",
     "text": [
      "false\n"
     ]
    },
    {
     "name": "stderr",
     "output_type": "stream",
     "text": [
      "\u001b[36m\u001b[1m[ \u001b[22m\u001b[39m\u001b[36m\u001b[1mInfo: \u001b[22m\u001b[39m started timer at: 2025-03-05T14:17:14.635\n"
     ]
    },
    {
     "name": "stdout",
     "output_type": "stream",
     "text": [
      "20\n",
      "k : 2\n",
      "1\n",
      "-19081.496767301654\n",
      "2923.758827514647\n",
      "20\n",
      "K : 2\n",
      "[0 -2800 -100 -1200 -2000]\n"
     ]
    },
    {
     "name": "stderr",
     "output_type": "stream",
     "text": [
      "\u001b[36m\u001b[1m[ \u001b[22m\u001b[39m\u001b[36m\u001b[1mInfo: \u001b[22m\u001b[39m          20.6380443s: 20 seconds, 638 milliseconds\n",
      "\u001b[36m\u001b[1m[ \u001b[22m\u001b[39m\u001b[36m\u001b[1mInfo: \u001b[22m\u001b[39m started timer at: 2025-03-05T14:17:35.295\n"
     ]
    },
    {
     "name": "stdout",
     "output_type": "stream",
     "text": [
      "false\n"
     ]
    },
    {
     "name": "stderr",
     "output_type": "stream",
     "text": [
      "\u001b[36m\u001b[1m[ \u001b[22m\u001b[39m\u001b[36m\u001b[1mInfo: \u001b[22m\u001b[39m started timer at: 2025-03-05T14:17:41.435\n"
     ]
    },
    {
     "name": "stdout",
     "output_type": "stream",
     "text": [
      "20\n",
      "k : 2\n",
      "1\n",
      "-20108.084570444047\n",
      "3020.6713937810014\n",
      "20\n",
      "K : 2\n",
      "[0 -3200 -100 -1200 -2000]\n"
     ]
    },
    {
     "name": "stderr",
     "output_type": "stream",
     "text": [
      "\u001b[36m\u001b[1m[ \u001b[22m\u001b[39m\u001b[36m\u001b[1mInfo: \u001b[22m\u001b[39m          19.1906738s: 19 seconds, 190 milliseconds\n",
      "\u001b[36m\u001b[1m[ \u001b[22m\u001b[39m\u001b[36m\u001b[1mInfo: \u001b[22m\u001b[39m started timer at: 2025-03-05T14:18:00.655\n"
     ]
    },
    {
     "name": "stdout",
     "output_type": "stream",
     "text": [
      "false\n"
     ]
    },
    {
     "name": "stderr",
     "output_type": "stream",
     "text": [
      "\u001b[36m\u001b[1m[ \u001b[22m\u001b[39m\u001b[36m\u001b[1mInfo: \u001b[22m\u001b[39m started timer at: 2025-03-05T14:18:06.789\n"
     ]
    },
    {
     "name": "stdout",
     "output_type": "stream",
     "text": [
      "20\n",
      "k : 2\n",
      "1\n",
      "-21161.537061749666\n",
      "3077.6349898248204\n",
      "20\n",
      "K : 4\n",
      "[0 -800 -100 -1200 -2000]\n"
     ]
    },
    {
     "name": "stderr",
     "output_type": "stream",
     "text": [
      "\u001b[36m\u001b[1m[ \u001b[22m\u001b[39m\u001b[36m\u001b[1mInfo: \u001b[22m\u001b[39m          21.4135984s: 21 seconds, 413 milliseconds\n",
      "\u001b[36m\u001b[1m[ \u001b[22m\u001b[39m\u001b[36m\u001b[1mInfo: \u001b[22m\u001b[39m started timer at: 2025-03-05T14:18:28.223\n"
     ]
    },
    {
     "name": "stdout",
     "output_type": "stream",
     "text": [
      "false\n"
     ]
    },
    {
     "name": "stderr",
     "output_type": "stream",
     "text": [
      "\u001b[36m\u001b[1m[ \u001b[22m\u001b[39m\u001b[36m\u001b[1mInfo: \u001b[22m\u001b[39m started timer at: 2025-03-05T14:18:34.383\n"
     ]
    },
    {
     "name": "stdout",
     "output_type": "stream",
     "text": [
      "20\n",
      "k : 4\n",
      "1\n",
      "-10778.279952901552\n",
      "1573.3654901307739\n",
      "20\n",
      "K : 4\n",
      "[0 -1200 -100 -1200 -2000]\n"
     ]
    },
    {
     "name": "stderr",
     "output_type": "stream",
     "text": [
      "\u001b[36m\u001b[1m[ \u001b[22m\u001b[39m\u001b[36m\u001b[1mInfo: \u001b[22m\u001b[39m          20.9083059s: 20 seconds, 908 milliseconds\n",
      "\u001b[36m\u001b[1m[ \u001b[22m\u001b[39m\u001b[36m\u001b[1mInfo: \u001b[22m\u001b[39m started timer at: 2025-03-05T14:18:55.307\n"
     ]
    },
    {
     "name": "stdout",
     "output_type": "stream",
     "text": [
      "false\n"
     ]
    },
    {
     "name": "stderr",
     "output_type": "stream",
     "text": [
      "\u001b[36m\u001b[1m[ \u001b[22m\u001b[39m\u001b[36m\u001b[1mInfo: \u001b[22m\u001b[39m started timer at: 2025-03-05T14:19:01.399\n"
     ]
    },
    {
     "name": "stdout",
     "output_type": "stream",
     "text": [
      "20\n",
      "k : 4\n",
      "1\n",
      "-12491.211807260528\n",
      "1766.9718939985685\n",
      "20\n",
      "K : 4\n",
      "[0 -1600 -100 -1200 -2000]\n"
     ]
    },
    {
     "name": "stderr",
     "output_type": "stream",
     "text": [
      "\u001b[36m\u001b[1m[ \u001b[22m\u001b[39m\u001b[36m\u001b[1mInfo: \u001b[22m\u001b[39m          20.5115213s: 20 seconds, 511 milliseconds\n",
      "\u001b[36m\u001b[1m[ \u001b[22m\u001b[39m\u001b[36m\u001b[1mInfo: \u001b[22m\u001b[39m started timer at: 2025-03-05T14:19:21.925\n"
     ]
    },
    {
     "name": "stdout",
     "output_type": "stream",
     "text": [
      "false\n"
     ]
    },
    {
     "name": "stderr",
     "output_type": "stream",
     "text": [
      "\u001b[36m\u001b[1m[ \u001b[22m\u001b[39m\u001b[36m\u001b[1mInfo: \u001b[22m\u001b[39m started timer at: 2025-03-05T14:19:28.124\n"
     ]
    },
    {
     "name": "stdout",
     "output_type": "stream",
     "text": [
      "20\n",
      "k : 4\n",
      "1\n",
      "-14088.337301268277\n",
      "2011.4159633304498\n",
      "20\n",
      "K : 4\n",
      "[0 -2000 -100 -1200 -2000]\n"
     ]
    },
    {
     "name": "stderr",
     "output_type": "stream",
     "text": [
      "\u001b[36m\u001b[1m[ \u001b[22m\u001b[39m\u001b[36m\u001b[1mInfo: \u001b[22m\u001b[39m          21.5447666s: 21 seconds, 544 milliseconds\n",
      "\u001b[36m\u001b[1m[ \u001b[22m\u001b[39m\u001b[36m\u001b[1mInfo: \u001b[22m\u001b[39m started timer at: 2025-03-05T14:19:49.686\n"
     ]
    },
    {
     "name": "stdout",
     "output_type": "stream",
     "text": [
      "false\n"
     ]
    },
    {
     "name": "stderr",
     "output_type": "stream",
     "text": [
      "\u001b[36m\u001b[1m[ \u001b[22m\u001b[39m\u001b[36m\u001b[1mInfo: \u001b[22m\u001b[39m started timer at: 2025-03-05T14:19:55.778\n"
     ]
    },
    {
     "name": "stdout",
     "output_type": "stream",
     "text": [
      "20\n",
      "k : 4\n",
      "1\n",
      "-14971.906050510652\n",
      "2178.4385061429084\n",
      "20\n",
      "K : 4\n",
      "[0 -2400 -100 -1200 -2000]\n"
     ]
    },
    {
     "name": "stderr",
     "output_type": "stream",
     "text": [
      "\u001b[36m\u001b[1m[ \u001b[22m\u001b[39m\u001b[36m\u001b[1mInfo: \u001b[22m\u001b[39m          19.4850059s: 19 seconds, 485 milliseconds\n",
      "\u001b[36m\u001b[1m[ \u001b[22m\u001b[39m\u001b[36m\u001b[1mInfo: \u001b[22m\u001b[39m started timer at: 2025-03-05T14:20:15.289\n"
     ]
    },
    {
     "name": "stdout",
     "output_type": "stream",
     "text": [
      "false\n"
     ]
    },
    {
     "name": "stderr",
     "output_type": "stream",
     "text": [
      "\u001b[36m\u001b[1m[ \u001b[22m\u001b[39m\u001b[36m\u001b[1mInfo: \u001b[22m\u001b[39m started timer at: 2025-03-05T14:20:21.428\n"
     ]
    },
    {
     "name": "stdout",
     "output_type": "stream",
     "text": [
      "20\n",
      "k : 4\n",
      "1\n",
      "-15175.195013657076\n",
      "2201.644135224505\n",
      "20\n",
      "K : 4\n",
      "[0 -2800 -100 -1200 -2000]\n"
     ]
    },
    {
     "name": "stderr",
     "output_type": "stream",
     "text": [
      "\u001b[36m\u001b[1m[ \u001b[22m\u001b[39m\u001b[36m\u001b[1mInfo: \u001b[22m\u001b[39m          21.6003711s: 21 seconds, 600 milliseconds\n",
      "\u001b[36m\u001b[1m[ \u001b[22m\u001b[39m\u001b[36m\u001b[1mInfo: \u001b[22m\u001b[39m started timer at: 2025-03-05T14:20:43.048\n"
     ]
    },
    {
     "name": "stdout",
     "output_type": "stream",
     "text": [
      "false\n"
     ]
    },
    {
     "name": "stderr",
     "output_type": "stream",
     "text": [
      "\u001b[36m\u001b[1m[ \u001b[22m\u001b[39m\u001b[36m\u001b[1mInfo: \u001b[22m\u001b[39m started timer at: 2025-03-05T14:20:49.163\n"
     ]
    },
    {
     "name": "stdout",
     "output_type": "stream",
     "text": [
      "20\n",
      "k : 4\n",
      "1\n",
      "-16142.658416182185\n",
      "2377.1622868927757\n",
      "20\n",
      "K : 4\n",
      "[0 -3200 -100 -1200 -2000]\n"
     ]
    },
    {
     "name": "stderr",
     "output_type": "stream",
     "text": [
      "\u001b[36m\u001b[1m[ \u001b[22m\u001b[39m\u001b[36m\u001b[1mInfo: \u001b[22m\u001b[39m          20.9479787s: 20 seconds, 947 milliseconds\n",
      "\u001b[36m\u001b[1m[ \u001b[22m\u001b[39m\u001b[36m\u001b[1mInfo: \u001b[22m\u001b[39m started timer at: 2025-03-05T14:21:10.133\n"
     ]
    },
    {
     "name": "stdout",
     "output_type": "stream",
     "text": [
      "false\n"
     ]
    },
    {
     "name": "stderr",
     "output_type": "stream",
     "text": [
      "\u001b[36m\u001b[1m[ \u001b[22m\u001b[39m\u001b[36m\u001b[1mInfo: \u001b[22m\u001b[39m started timer at: 2025-03-05T14:21:16.636\n"
     ]
    },
    {
     "name": "stdout",
     "output_type": "stream",
     "text": [
      "20\n",
      "k : 4\n",
      "1\n",
      "-17096.640188847654\n",
      "2470.207301584634\n",
      "20\n",
      "K : 6\n",
      "[0 -800 -100 -1200 -2000]\n"
     ]
    },
    {
     "name": "stderr",
     "output_type": "stream",
     "text": [
      "\u001b[36m\u001b[1m[ \u001b[22m\u001b[39m\u001b[36m\u001b[1mInfo: \u001b[22m\u001b[39m          19.9008861s: 19 seconds, 900 milliseconds\n",
      "\u001b[36m\u001b[1m[ \u001b[22m\u001b[39m\u001b[36m\u001b[1mInfo: \u001b[22m\u001b[39m started timer at: 2025-03-05T14:21:36.554\n"
     ]
    },
    {
     "name": "stdout",
     "output_type": "stream",
     "text": [
      "false\n"
     ]
    },
    {
     "name": "stderr",
     "output_type": "stream",
     "text": [
      "\u001b[36m\u001b[1m[ \u001b[22m\u001b[39m\u001b[36m\u001b[1mInfo: \u001b[22m\u001b[39m started timer at: 2025-03-05T14:21:42.921\n"
     ]
    },
    {
     "name": "stdout",
     "output_type": "stream",
     "text": [
      "20\n",
      "k : 6\n",
      "1\n",
      "-10374.453478382553\n",
      "1479.256099417767\n",
      "20\n",
      "K : 6\n",
      "[0 -1200 -100 -1200 -2000]\n"
     ]
    },
    {
     "name": "stderr",
     "output_type": "stream",
     "text": [
      "\u001b[36m\u001b[1m[ \u001b[22m\u001b[39m\u001b[36m\u001b[1mInfo: \u001b[22m\u001b[39m          21.9498841s: 21 seconds, 949 milliseconds\n",
      "\u001b[36m\u001b[1m[ \u001b[22m\u001b[39m\u001b[36m\u001b[1mInfo: \u001b[22m\u001b[39m started timer at: 2025-03-05T14:22:04.889\n"
     ]
    },
    {
     "name": "stdout",
     "output_type": "stream",
     "text": [
      "false\n"
     ]
    },
    {
     "name": "stderr",
     "output_type": "stream",
     "text": [
      "\u001b[36m\u001b[1m[ \u001b[22m\u001b[39m\u001b[36m\u001b[1mInfo: \u001b[22m\u001b[39m started timer at: 2025-03-05T14:22:11.256\n"
     ]
    },
    {
     "name": "stdout",
     "output_type": "stream",
     "text": [
      "20\n",
      "k : 6\n",
      "1\n",
      "-11809.064214317983\n",
      "1629.6886270256527\n",
      "20\n",
      "K : 6\n",
      "[0 -1600 -100 -1200 -2000]\n"
     ]
    },
    {
     "name": "stderr",
     "output_type": "stream",
     "text": [
      "\u001b[36m\u001b[1m[ \u001b[22m\u001b[39m\u001b[36m\u001b[1mInfo: \u001b[22m\u001b[39m          19.6530931s: 19 seconds, 653 milliseconds\n",
      "\u001b[36m\u001b[1m[ \u001b[22m\u001b[39m\u001b[36m\u001b[1mInfo: \u001b[22m\u001b[39m started timer at: 2025-03-05T14:22:30.927\n"
     ]
    },
    {
     "name": "stdout",
     "output_type": "stream",
     "text": [
      "false\n"
     ]
    },
    {
     "name": "stderr",
     "output_type": "stream",
     "text": [
      "\u001b[36m\u001b[1m[ \u001b[22m\u001b[39m\u001b[36m\u001b[1mInfo: \u001b[22m\u001b[39m started timer at: 2025-03-05T14:22:37.274\n"
     ]
    },
    {
     "name": "stdout",
     "output_type": "stream",
     "text": [
      "20\n",
      "k : 6\n",
      "1\n",
      "-13020.613836952645\n",
      "1794.949800017606\n",
      "20\n",
      "K : 6\n",
      "[0 -2000 -100 -1200 -2000]\n"
     ]
    },
    {
     "name": "stderr",
     "output_type": "stream",
     "text": [
      "\u001b[36m\u001b[1m[ \u001b[22m\u001b[39m\u001b[36m\u001b[1mInfo: \u001b[22m\u001b[39m          21.8954897s: 21 seconds, 895 milliseconds\n",
      "\u001b[36m\u001b[1m[ \u001b[22m\u001b[39m\u001b[36m\u001b[1mInfo: \u001b[22m\u001b[39m started timer at: 2025-03-05T14:22:59.176\n"
     ]
    },
    {
     "name": "stdout",
     "output_type": "stream",
     "text": [
      "false\n"
     ]
    },
    {
     "name": "stderr",
     "output_type": "stream",
     "text": [
      "\u001b[36m\u001b[1m[ \u001b[22m\u001b[39m\u001b[36m\u001b[1mInfo: \u001b[22m\u001b[39m started timer at: 2025-03-05T14:23:05.643\n"
     ]
    },
    {
     "name": "stdout",
     "output_type": "stream",
     "text": [
      "20\n",
      "k : 6\n",
      "1\n",
      "-13669.954007839242\n",
      "1927.306219214494\n",
      "20\n",
      "K : 6\n",
      "[0 -2400 -100 -1200 -2000]\n"
     ]
    },
    {
     "name": "stderr",
     "output_type": "stream",
     "text": [
      "\u001b[36m\u001b[1m[ \u001b[22m\u001b[39m\u001b[36m\u001b[1mInfo: \u001b[22m\u001b[39m          21.1284647s: 21 seconds, 128 milliseconds\n",
      "\u001b[36m\u001b[1m[ \u001b[22m\u001b[39m\u001b[36m\u001b[1mInfo: \u001b[22m\u001b[39m started timer at: 2025-03-05T14:23:26.794\n"
     ]
    },
    {
     "name": "stdout",
     "output_type": "stream",
     "text": [
      "false\n"
     ]
    },
    {
     "name": "stderr",
     "output_type": "stream",
     "text": [
      "\u001b[36m\u001b[1m[ \u001b[22m\u001b[39m\u001b[36m\u001b[1mInfo: \u001b[22m\u001b[39m started timer at: 2025-03-05T14:23:32.776\n"
     ]
    },
    {
     "name": "stdout",
     "output_type": "stream",
     "text": [
      "20\n",
      "k : 6\n",
      "1\n",
      "-13817.222092699882\n",
      "1934.8202385787592\n",
      "20\n",
      "K : 6\n",
      "[0 -2800 -100 -1200 -2000]\n"
     ]
    },
    {
     "name": "stderr",
     "output_type": "stream",
     "text": [
      "\u001b[36m\u001b[1m[ \u001b[22m\u001b[39m\u001b[36m\u001b[1mInfo: \u001b[22m\u001b[39m          19.6943288s: 19 seconds, 694 milliseconds\n",
      "\u001b[36m\u001b[1m[ \u001b[22m\u001b[39m\u001b[36m\u001b[1mInfo: \u001b[22m\u001b[39m started timer at: 2025-03-05T14:23:52.480\n"
     ]
    },
    {
     "name": "stdout",
     "output_type": "stream",
     "text": [
      "false\n"
     ]
    },
    {
     "name": "stderr",
     "output_type": "stream",
     "text": [
      "\u001b[36m\u001b[1m[ \u001b[22m\u001b[39m\u001b[36m\u001b[1mInfo: \u001b[22m\u001b[39m started timer at: 2025-03-05T14:23:58.880\n"
     ]
    },
    {
     "name": "stdout",
     "output_type": "stream",
     "text": [
      "20\n",
      "k : 6\n",
      "1\n",
      "-14633.643944832378\n",
      "2047.1247497229353\n",
      "20\n",
      "K : 6\n",
      "[0 -3200 -100 -1200 -2000]\n"
     ]
    },
    {
     "name": "stderr",
     "output_type": "stream",
     "text": [
      "\u001b[36m\u001b[1m[ \u001b[22m\u001b[39m\u001b[36m\u001b[1mInfo: \u001b[22m\u001b[39m          21.3620376s: 21 seconds, 362 milliseconds\n",
      "\u001b[36m\u001b[1m[ \u001b[22m\u001b[39m\u001b[36m\u001b[1mInfo: \u001b[22m\u001b[39m started timer at: 2025-03-05T14:24:20.265\n"
     ]
    },
    {
     "name": "stdout",
     "output_type": "stream",
     "text": [
      "false\n"
     ]
    },
    {
     "name": "stderr",
     "output_type": "stream",
     "text": [
      "\u001b[36m\u001b[1m[ \u001b[22m\u001b[39m\u001b[36m\u001b[1mInfo: \u001b[22m\u001b[39m started timer at: 2025-03-05T14:24:26.649\n"
     ]
    },
    {
     "name": "stdout",
     "output_type": "stream",
     "text": [
      "20\n",
      "k : 6\n",
      "1\n",
      "-15427.609273336566\n",
      "2192.1450571854803\n",
      "20\n",
      "K : 8\n",
      "[0 -800 -100 -1200 -2000]\n"
     ]
    },
    {
     "name": "stderr",
     "output_type": "stream",
     "text": [
      "\u001b[36m\u001b[1m[ \u001b[22m\u001b[39m\u001b[36m\u001b[1mInfo: \u001b[22m\u001b[39m          19.9151312s: 19 seconds, 915 milliseconds\n",
      "\u001b[36m\u001b[1m[ \u001b[22m\u001b[39m\u001b[36m\u001b[1mInfo: \u001b[22m\u001b[39m started timer at: 2025-03-05T14:24:46.583\n"
     ]
    },
    {
     "name": "stdout",
     "output_type": "stream",
     "text": [
      "false\n"
     ]
    },
    {
     "name": "stderr",
     "output_type": "stream",
     "text": [
      "\u001b[36m\u001b[1m[ \u001b[22m\u001b[39m\u001b[36m\u001b[1mInfo: \u001b[22m\u001b[39m started timer at: 2025-03-05T14:24:53.222\n"
     ]
    },
    {
     "name": "stdout",
     "output_type": "stream",
     "text": [
      "20\n",
      "k : 8\n",
      "1\n",
      "-10208.518256000112\n",
      "1444.5823703804238\n",
      "20\n",
      "K : 8\n",
      "[0 -1200 -100 -1200 -2000]\n"
     ]
    },
    {
     "name": "stderr",
     "output_type": "stream",
     "text": [
      "\u001b[36m\u001b[1m[ \u001b[22m\u001b[39m\u001b[36m\u001b[1mInfo: \u001b[22m\u001b[39m          21.4331326s: 21 seconds, 433 milliseconds\n",
      "\u001b[36m\u001b[1m[ \u001b[22m\u001b[39m\u001b[36m\u001b[1mInfo: \u001b[22m\u001b[39m started timer at: 2025-03-05T14:25:14.668\n"
     ]
    },
    {
     "name": "stdout",
     "output_type": "stream",
     "text": [
      "false\n"
     ]
    },
    {
     "name": "stderr",
     "output_type": "stream",
     "text": [
      "\u001b[36m\u001b[1m[ \u001b[22m\u001b[39m\u001b[36m\u001b[1mInfo: \u001b[22m\u001b[39m started timer at: 2025-03-05T14:25:21.321\n"
     ]
    },
    {
     "name": "stdout",
     "output_type": "stream",
     "text": [
      "20\n",
      "k : 8\n",
      "1\n",
      "-11461.311747035243\n",
      "1568.1867160861352\n",
      "20\n",
      "K : 8\n",
      "[0 -1600 -100 -1200 -2000]\n"
     ]
    },
    {
     "name": "stderr",
     "output_type": "stream",
     "text": [
      "\u001b[36m\u001b[1m[ \u001b[22m\u001b[39m\u001b[36m\u001b[1mInfo: \u001b[22m\u001b[39m          21.8893319s: 21 seconds, 889 milliseconds\n",
      "\u001b[36m\u001b[1m[ \u001b[22m\u001b[39m\u001b[36m\u001b[1mInfo: \u001b[22m\u001b[39m started timer at: 2025-03-05T14:25:43.237\n"
     ]
    },
    {
     "name": "stdout",
     "output_type": "stream",
     "text": [
      "false\n"
     ]
    },
    {
     "name": "stderr",
     "output_type": "stream",
     "text": [
      "\u001b[36m\u001b[1m[ \u001b[22m\u001b[39m\u001b[36m\u001b[1mInfo: \u001b[22m\u001b[39m started timer at: 2025-03-05T14:25:49.840\n"
     ]
    },
    {
     "name": "stdout",
     "output_type": "stream",
     "text": [
      "20\n",
      "k : 8\n",
      "1\n",
      "-12520.86953911014\n",
      "1659.5413269368175\n",
      "20\n",
      "K : 8\n",
      "[0 -2000 -100 -1200 -2000]\n"
     ]
    },
    {
     "name": "stderr",
     "output_type": "stream",
     "text": [
      "\u001b[36m\u001b[1m[ \u001b[22m\u001b[39m\u001b[36m\u001b[1mInfo: \u001b[22m\u001b[39m          19.8961101s: 19 seconds, 896 milliseconds\n",
      "\u001b[36m\u001b[1m[ \u001b[22m\u001b[39m\u001b[36m\u001b[1mInfo: \u001b[22m\u001b[39m started timer at: 2025-03-05T14:26:09.738\n"
     ]
    },
    {
     "name": "stdout",
     "output_type": "stream",
     "text": [
      "false\n"
     ]
    },
    {
     "name": "stderr",
     "output_type": "stream",
     "text": [
      "\u001b[36m\u001b[1m[ \u001b[22m\u001b[39m\u001b[36m\u001b[1mInfo: \u001b[22m\u001b[39m started timer at: 2025-03-05T14:26:16.141\n"
     ]
    },
    {
     "name": "stdout",
     "output_type": "stream",
     "text": [
      "20\n",
      "k : 8\n",
      "1\n",
      "-12984.05800296852\n",
      "1782.4949963961103\n",
      "20\n",
      "K : 8\n",
      "[0 -2400 -100 -1200 -2000]\n"
     ]
    },
    {
     "name": "stderr",
     "output_type": "stream",
     "text": [
      "\u001b[36m\u001b[1m[ \u001b[22m\u001b[39m\u001b[36m\u001b[1mInfo: \u001b[22m\u001b[39m          21.6970455s: 21 seconds, 697 milliseconds\n",
      "\u001b[36m\u001b[1m[ \u001b[22m\u001b[39m\u001b[36m\u001b[1mInfo: \u001b[22m\u001b[39m started timer at: 2025-03-05T14:26:37.854\n"
     ]
    },
    {
     "name": "stdout",
     "output_type": "stream",
     "text": [
      "false\n"
     ]
    },
    {
     "name": "stderr",
     "output_type": "stream",
     "text": [
      "\u001b[36m\u001b[1m[ \u001b[22m\u001b[39m\u001b[36m\u001b[1mInfo: \u001b[22m\u001b[39m started timer at: 2025-03-05T14:26:44.444\n"
     ]
    },
    {
     "name": "stdout",
     "output_type": "stream",
     "text": [
      "20\n",
      "k : 8\n",
      "1\n",
      "-13135.668184370375\n",
      "1785.9066121495778\n",
      "20\n",
      "K : 8\n",
      "[0 -2800 -100 -1200 -2000]\n"
     ]
    },
    {
     "name": "stderr",
     "output_type": "stream",
     "text": [
      "\u001b[36m\u001b[1m[ \u001b[22m\u001b[39m\u001b[36m\u001b[1mInfo: \u001b[22m\u001b[39m           20.829539s: 20 seconds, 829 milliseconds\n",
      "\u001b[36m\u001b[1m[ \u001b[22m\u001b[39m\u001b[36m\u001b[1mInfo: \u001b[22m\u001b[39m started timer at: 2025-03-05T14:27:05.290\n"
     ]
    },
    {
     "name": "stdout",
     "output_type": "stream",
     "text": [
      "false\n"
     ]
    },
    {
     "name": "stderr",
     "output_type": "stream",
     "text": [
      "\u001b[36m\u001b[1m[ \u001b[22m\u001b[39m\u001b[36m\u001b[1mInfo: \u001b[22m\u001b[39m started timer at: 2025-03-05T14:27:11.501\n"
     ]
    },
    {
     "name": "stdout",
     "output_type": "stream",
     "text": [
      "20\n",
      "k : 8\n",
      "1\n",
      "-13774.934148337295\n",
      "1896.6503886997068\n",
      "20\n",
      "K : 8\n",
      "[0 -3200 -100 -1200 -2000]\n"
     ]
    },
    {
     "name": "stderr",
     "output_type": "stream",
     "text": [
      "\u001b[36m\u001b[1m[ \u001b[22m\u001b[39m\u001b[36m\u001b[1mInfo: \u001b[22m\u001b[39m          19.9639771s: 19 seconds, 963 milliseconds\n",
      "\u001b[36m\u001b[1m[ \u001b[22m\u001b[39m\u001b[36m\u001b[1mInfo: \u001b[22m\u001b[39m started timer at: 2025-03-05T14:27:31.480\n"
     ]
    },
    {
     "name": "stdout",
     "output_type": "stream",
     "text": [
      "false\n"
     ]
    },
    {
     "name": "stderr",
     "output_type": "stream",
     "text": [
      "\u001b[36m\u001b[1m[ \u001b[22m\u001b[39m\u001b[36m\u001b[1mInfo: \u001b[22m\u001b[39m started timer at: 2025-03-05T14:27:37.803\n"
     ]
    },
    {
     "name": "stdout",
     "output_type": "stream",
     "text": [
      "20\n",
      "k : 8\n",
      "1\n",
      "-14432.67134896655\n",
      "2019.7926154743523\n",
      "20\n",
      "K : 10\n",
      "[0 -800 -100 -1200 -2000]\n"
     ]
    },
    {
     "name": "stderr",
     "output_type": "stream",
     "text": [
      "\u001b[36m\u001b[1m[ \u001b[22m\u001b[39m\u001b[36m\u001b[1mInfo: \u001b[22m\u001b[39m          21.2471234s: 21 seconds, 247 milliseconds\n",
      "\u001b[36m\u001b[1m[ \u001b[22m\u001b[39m\u001b[36m\u001b[1mInfo: \u001b[22m\u001b[39m started timer at: 2025-03-05T14:27:59.065\n"
     ]
    },
    {
     "name": "stdout",
     "output_type": "stream",
     "text": [
      "false\n"
     ]
    },
    {
     "name": "stderr",
     "output_type": "stream",
     "text": [
      "\u001b[36m\u001b[1m[ \u001b[22m\u001b[39m\u001b[36m\u001b[1mInfo: \u001b[22m\u001b[39m started timer at: 2025-03-05T14:28:05.338\n"
     ]
    },
    {
     "name": "stdout",
     "output_type": "stream",
     "text": [
      "20\n",
      "k : 10\n",
      "1\n",
      "-10111.699295372164\n",
      "1425.2154726224626\n",
      "20\n",
      "K : 10\n",
      "[0 -1200 -100 -1200 -2000]\n"
     ]
    },
    {
     "name": "stderr",
     "output_type": "stream",
     "text": [
      "\u001b[36m\u001b[1m[ \u001b[22m\u001b[39m\u001b[36m\u001b[1mInfo: \u001b[22m\u001b[39m          19.9669261s: 19 seconds, 966 milliseconds\n",
      "\u001b[36m\u001b[1m[ \u001b[22m\u001b[39m\u001b[36m\u001b[1mInfo: \u001b[22m\u001b[39m started timer at: 2025-03-05T14:28:25.320\n"
     ]
    },
    {
     "name": "stdout",
     "output_type": "stream",
     "text": [
      "false\n"
     ]
    },
    {
     "name": "stderr",
     "output_type": "stream",
     "text": [
      "\u001b[36m\u001b[1m[ \u001b[22m\u001b[39m\u001b[36m\u001b[1mInfo: \u001b[22m\u001b[39m started timer at: 2025-03-05T14:28:31.807\n"
     ]
    },
    {
     "name": "stdout",
     "output_type": "stream",
     "text": [
      "20\n",
      "k : 10\n",
      "1\n",
      "-11282.422942700588\n",
      "1529.7407161429592\n",
      "20\n",
      "K : 10\n",
      "[0 -1600 -100 -1200 -2000]\n"
     ]
    },
    {
     "name": "stderr",
     "output_type": "stream",
     "text": [
      "\u001b[36m\u001b[1m[ \u001b[22m\u001b[39m\u001b[36m\u001b[1mInfo: \u001b[22m\u001b[39m          22.2411344s: 22 seconds, 241 milliseconds\n",
      "\u001b[36m\u001b[1m[ \u001b[22m\u001b[39m\u001b[36m\u001b[1mInfo: \u001b[22m\u001b[39m started timer at: 2025-03-05T14:28:54.065\n"
     ]
    },
    {
     "name": "stdout",
     "output_type": "stream",
     "text": [
      "false\n"
     ]
    },
    {
     "name": "stderr",
     "output_type": "stream",
     "text": [
      "\u001b[36m\u001b[1m[ \u001b[22m\u001b[39m\u001b[36m\u001b[1mInfo: \u001b[22m\u001b[39m started timer at: 2025-03-05T14:29:00.486\n"
     ]
    },
    {
     "name": "stdout",
     "output_type": "stream",
     "text": [
      "20\n",
      "k : 10\n",
      "1\n",
      "-12193.497091517582\n",
      "1623.2223902646924\n",
      "20\n",
      "K : 10\n",
      "[0 -2000 -100 -1200 -2000]\n"
     ]
    },
    {
     "name": "stderr",
     "output_type": "stream",
     "text": [
      "\u001b[36m\u001b[1m[ \u001b[22m\u001b[39m\u001b[36m\u001b[1mInfo: \u001b[22m\u001b[39m          21.2214831s: 21 seconds, 221 milliseconds\n",
      "\u001b[36m\u001b[1m[ \u001b[22m\u001b[39m\u001b[36m\u001b[1mInfo: \u001b[22m\u001b[39m started timer at: 2025-03-05T14:29:21.723\n"
     ]
    },
    {
     "name": "stdout",
     "output_type": "stream",
     "text": [
      "false\n"
     ]
    },
    {
     "name": "stderr",
     "output_type": "stream",
     "text": [
      "\u001b[36m\u001b[1m[ \u001b[22m\u001b[39m\u001b[36m\u001b[1mInfo: \u001b[22m\u001b[39m started timer at: 2025-03-05T14:29:28.138\n"
     ]
    },
    {
     "name": "stdout",
     "output_type": "stream",
     "text": [
      "20\n",
      "k : 10\n",
      "1\n",
      "-12523.663784910204\n",
      "1677.2279309131995\n",
      "20\n",
      "K : 10\n",
      "[0 -2400 -100 -1200 -2000]\n"
     ]
    },
    {
     "name": "stderr",
     "output_type": "stream",
     "text": [
      "\u001b[36m\u001b[1m[ \u001b[22m\u001b[39m\u001b[36m\u001b[1mInfo: \u001b[22m\u001b[39m          19.5632156s: 19 seconds, 563 milliseconds\n",
      "\u001b[36m\u001b[1m[ \u001b[22m\u001b[39m\u001b[36m\u001b[1mInfo: \u001b[22m\u001b[39m started timer at: 2025-03-05T14:29:47.718\n"
     ]
    },
    {
     "name": "stdout",
     "output_type": "stream",
     "text": [
      "false\n"
     ]
    },
    {
     "name": "stderr",
     "output_type": "stream",
     "text": [
      "\u001b[36m\u001b[1m[ \u001b[22m\u001b[39m\u001b[36m\u001b[1mInfo: \u001b[22m\u001b[39m started timer at: 2025-03-05T14:29:54.136\n"
     ]
    },
    {
     "name": "stdout",
     "output_type": "stream",
     "text": [
      "20\n",
      "k : 10\n",
      "1\n",
      "-12719.494005616718\n",
      "1731.1189208015346\n",
      "20\n",
      "K : 10\n",
      "[0 -2800 -100 -1200 -2000]\n"
     ]
    },
    {
     "name": "stderr",
     "output_type": "stream",
     "text": [
      "\u001b[36m\u001b[1m[ \u001b[22m\u001b[39m\u001b[36m\u001b[1mInfo: \u001b[22m\u001b[39m          21.5802925s: 21 seconds, 580 milliseconds\n",
      "\u001b[36m\u001b[1m[ \u001b[22m\u001b[39m\u001b[36m\u001b[1mInfo: \u001b[22m\u001b[39m started timer at: 2025-03-05T14:30:15.730\n"
     ]
    },
    {
     "name": "stdout",
     "output_type": "stream",
     "text": [
      "false\n"
     ]
    },
    {
     "name": "stderr",
     "output_type": "stream",
     "text": [
      "\u001b[36m\u001b[1m[ \u001b[22m\u001b[39m\u001b[36m\u001b[1mInfo: \u001b[22m\u001b[39m started timer at: 2025-03-05T14:30:22.180\n"
     ]
    },
    {
     "name": "stdout",
     "output_type": "stream",
     "text": [
      "20\n",
      "k : 10\n",
      "1\n",
      "-13216.570298498582\n",
      "1770.2919249982779\n",
      "20\n",
      "K : 10\n",
      "[0 -3200 -100 -1200 -2000]\n"
     ]
    },
    {
     "name": "stderr",
     "output_type": "stream",
     "text": [
      "\u001b[36m\u001b[1m[ \u001b[22m\u001b[39m\u001b[36m\u001b[1mInfo: \u001b[22m\u001b[39m          19.8920841s: 19 seconds, 892 milliseconds\n",
      "\u001b[36m\u001b[1m[ \u001b[22m\u001b[39m\u001b[36m\u001b[1mInfo: \u001b[22m\u001b[39m started timer at: 2025-03-05T14:30:42.087\n"
     ]
    },
    {
     "name": "stdout",
     "output_type": "stream",
     "text": [
      "false\n"
     ]
    },
    {
     "name": "stderr",
     "output_type": "stream",
     "text": [
      "\u001b[36m\u001b[1m[ \u001b[22m\u001b[39m\u001b[36m\u001b[1mInfo: \u001b[22m\u001b[39m started timer at: 2025-03-05T14:30:48.409\n"
     ]
    },
    {
     "name": "stdout",
     "output_type": "stream",
     "text": [
      "20\n",
      "k : 10\n",
      "1\n",
      "-13806.67355920177\n",
      "1907.4562577179017\n",
      "25\n",
      "K : 2\n",
      "[0 -800 -100 -1200 -2000]\n"
     ]
    },
    {
     "name": "stderr",
     "output_type": "stream",
     "text": [
      "\u001b[36m\u001b[1m[ \u001b[22m\u001b[39m\u001b[36m\u001b[1mInfo: \u001b[22m\u001b[39m          19.6542144s: 19 seconds, 654 milliseconds\n",
      "\u001b[36m\u001b[1m[ \u001b[22m\u001b[39m\u001b[36m\u001b[1mInfo: \u001b[22m\u001b[39m started timer at: 2025-03-05T14:31:08.082\n"
     ]
    },
    {
     "name": "stdout",
     "output_type": "stream",
     "text": [
      "false\n"
     ]
    },
    {
     "name": "stderr",
     "output_type": "stream",
     "text": [
      "\u001b[36m\u001b[1m[ \u001b[22m\u001b[39m\u001b[36m\u001b[1mInfo: \u001b[22m\u001b[39m started timer at: 2025-03-05T14:31:14.355\n"
     ]
    },
    {
     "name": "stdout",
     "output_type": "stream",
     "text": [
      "25\n",
      "k : 2\n",
      "1\n",
      "-14896.746523854858\n",
      "2255.373806044944\n",
      "25\n",
      "K : 2\n",
      "[0 -1200 -100 -1200 -2000]\n"
     ]
    },
    {
     "name": "stderr",
     "output_type": "stream",
     "text": [
      "\u001b[36m\u001b[1m[ \u001b[22m\u001b[39m\u001b[36m\u001b[1mInfo: \u001b[22m\u001b[39m          27.4285477s: 27 seconds, 428 milliseconds\n",
      "\u001b[36m\u001b[1m[ \u001b[22m\u001b[39m\u001b[36m\u001b[1mInfo: \u001b[22m\u001b[39m started timer at: 2025-03-05T14:31:41.799\n"
     ]
    },
    {
     "name": "stdout",
     "output_type": "stream",
     "text": [
      "false\n"
     ]
    },
    {
     "name": "stderr",
     "output_type": "stream",
     "text": [
      "\u001b[36m\u001b[1m[ \u001b[22m\u001b[39m\u001b[36m\u001b[1mInfo: \u001b[22m\u001b[39m started timer at: 2025-03-05T14:31:48.306\n"
     ]
    },
    {
     "name": "stdout",
     "output_type": "stream",
     "text": [
      "25\n",
      "k : 2\n",
      "1\n",
      "-17753.458371548746\n",
      "2543.932873616468\n",
      "25\n",
      "K : 2\n",
      "[0 -1600 -100 -1200 -2000]\n"
     ]
    },
    {
     "name": "stderr",
     "output_type": "stream",
     "text": [
      "\u001b[36m\u001b[1m[ \u001b[22m\u001b[39m\u001b[36m\u001b[1mInfo: \u001b[22m\u001b[39m          24.5051454s: 24 seconds, 505 milliseconds\n",
      "\u001b[36m\u001b[1m[ \u001b[22m\u001b[39m\u001b[36m\u001b[1mInfo: \u001b[22m\u001b[39m started timer at: 2025-03-05T14:32:12.826\n"
     ]
    },
    {
     "name": "stdout",
     "output_type": "stream",
     "text": [
      "false\n"
     ]
    },
    {
     "name": "stderr",
     "output_type": "stream",
     "text": [
      "\u001b[36m\u001b[1m[ \u001b[22m\u001b[39m\u001b[36m\u001b[1mInfo: \u001b[22m\u001b[39m started timer at: 2025-03-05T14:32:19.046\n"
     ]
    },
    {
     "name": "stdout",
     "output_type": "stream",
     "text": [
      "25\n",
      "k : 2\n",
      "1\n",
      "-20201.096885453844\n",
      "2776.7501405173034\n"
     ]
    },
    {
     "name": "stderr",
     "output_type": "stream",
     "text": [
      "\u001b[36m\u001b[1m[ \u001b[22m\u001b[39m\u001b[36m\u001b[1mInfo: \u001b[22m\u001b[39m          27.2866797s: 27 seconds, 286 milliseconds\n"
     ]
    },
    {
     "name": "stdout",
     "output_type": "stream",
     "text": [
      "25\n",
      "K : 2\n",
      "[0 -2000 -100 -1200 -2000]\n"
     ]
    },
    {
     "name": "stderr",
     "output_type": "stream",
     "text": [
      "\u001b[36m\u001b[1m[ \u001b[22m\u001b[39m\u001b[36m\u001b[1mInfo: \u001b[22m\u001b[39m started timer at: 2025-03-05T14:32:46.361\n"
     ]
    },
    {
     "name": "stdout",
     "output_type": "stream",
     "text": [
      "false\n"
     ]
    },
    {
     "name": "stderr",
     "output_type": "stream",
     "text": [
      "\u001b[36m\u001b[1m[ \u001b[22m\u001b[39m\u001b[36m\u001b[1mInfo: \u001b[22m\u001b[39m started timer at: 2025-03-05T14:32:52.662\n"
     ]
    },
    {
     "name": "stdout",
     "output_type": "stream",
     "text": [
      "25\n",
      "k : 2\n",
      "1\n",
      "-22596.770633182292\n",
      "3104.729221580029\n",
      "25\n",
      "K : 2\n",
      "[0 -2400 -100 -1200 -2000]\n"
     ]
    },
    {
     "name": "stderr",
     "output_type": "stream",
     "text": [
      "\u001b[36m\u001b[1m[ \u001b[22m\u001b[39m\u001b[36m\u001b[1mInfo: \u001b[22m\u001b[39m          26.2470645s: 26 seconds, 247 milliseconds\n",
      "\u001b[36m\u001b[1m[ \u001b[22m\u001b[39m\u001b[36m\u001b[1mInfo: \u001b[22m\u001b[39m started timer at: 2025-03-05T14:33:18.940\n"
     ]
    },
    {
     "name": "stdout",
     "output_type": "stream",
     "text": [
      "false\n"
     ]
    },
    {
     "name": "stderr",
     "output_type": "stream",
     "text": [
      "\u001b[36m\u001b[1m[ \u001b[22m\u001b[39m\u001b[36m\u001b[1mInfo: \u001b[22m\u001b[39m started timer at: 2025-03-05T14:33:25.486\n"
     ]
    },
    {
     "name": "stdout",
     "output_type": "stream",
     "text": [
      "25\n",
      "k : 2\n",
      "1\n",
      "-24631.227879695278\n",
      "3290.592096917037\n",
      "25\n",
      "K : 2\n",
      "[0 -2800 -100 -1200 -2000]\n"
     ]
    },
    {
     "name": "stderr",
     "output_type": "stream",
     "text": [
      "\u001b[36m\u001b[1m[ \u001b[22m\u001b[39m\u001b[36m\u001b[1mInfo: \u001b[22m\u001b[39m          24.3200014s: 24 seconds, 320 milliseconds\n",
      "\u001b[36m\u001b[1m[ \u001b[22m\u001b[39m\u001b[36m\u001b[1mInfo: \u001b[22m\u001b[39m started timer at: 2025-03-05T14:33:49.840\n"
     ]
    },
    {
     "name": "stdout",
     "output_type": "stream",
     "text": [
      "false\n"
     ]
    },
    {
     "name": "stderr",
     "output_type": "stream",
     "text": [
      "\u001b[36m\u001b[1m[ \u001b[22m\u001b[39m\u001b[36m\u001b[1mInfo: \u001b[22m\u001b[39m started timer at: 2025-03-05T14:33:56.289\n"
     ]
    },
    {
     "name": "stdout",
     "output_type": "stream",
     "text": [
      "25\n",
      "k : 2\n",
      "1\n",
      "-24020.954407902515\n",
      "3312.212448768938\n",
      "25\n",
      "K : 2\n",
      "[0 -3200 -100 -1200 -2000]\n"
     ]
    },
    {
     "name": "stderr",
     "output_type": "stream",
     "text": [
      "\u001b[36m\u001b[1m[ \u001b[22m\u001b[39m\u001b[36m\u001b[1mInfo: \u001b[22m\u001b[39m          25.7403719s: 25 seconds, 740 milliseconds\n",
      "\u001b[36m\u001b[1m[ \u001b[22m\u001b[39m\u001b[36m\u001b[1mInfo: \u001b[22m\u001b[39m started timer at: 2025-03-05T14:34:22.044\n"
     ]
    },
    {
     "name": "stdout",
     "output_type": "stream",
     "text": [
      "false\n"
     ]
    },
    {
     "name": "stderr",
     "output_type": "stream",
     "text": [
      "\u001b[36m\u001b[1m[ \u001b[22m\u001b[39m\u001b[36m\u001b[1mInfo: \u001b[22m\u001b[39m started timer at: 2025-03-05T14:34:28.251\n"
     ]
    },
    {
     "name": "stdout",
     "output_type": "stream",
     "text": [
      "25\n",
      "k : 2\n",
      "1\n",
      "-24539.467131088306\n",
      "3270.251660736134\n",
      "25\n",
      "K : 4\n",
      "[0 -800 -100 -1200 -2000]\n"
     ]
    },
    {
     "name": "stderr",
     "output_type": "stream",
     "text": [
      "\u001b[36m\u001b[1m[ \u001b[22m\u001b[39m\u001b[36m\u001b[1mInfo: \u001b[22m\u001b[39m          24.2849152s: 24 seconds, 284 milliseconds\n",
      "\u001b[36m\u001b[1m[ \u001b[22m\u001b[39m\u001b[36m\u001b[1mInfo: \u001b[22m\u001b[39m started timer at: 2025-03-05T14:34:52.538\n"
     ]
    },
    {
     "name": "stdout",
     "output_type": "stream",
     "text": [
      "false\n"
     ]
    },
    {
     "name": "stderr",
     "output_type": "stream",
     "text": [
      "\u001b[36m\u001b[1m[ \u001b[22m\u001b[39m\u001b[36m\u001b[1mInfo: \u001b[22m\u001b[39m started timer at: 2025-03-05T14:34:58.753\n"
     ]
    },
    {
     "name": "stdout",
     "output_type": "stream",
     "text": [
      "25\n",
      "k : 4\n",
      "1\n",
      "-12620.857877485976\n",
      "1656.3739948589778\n",
      "25\n",
      "K : 4\n",
      "[0 -1200 -100 -1200 -2000]\n"
     ]
    },
    {
     "name": "stderr",
     "output_type": "stream",
     "text": [
      "\u001b[36m\u001b[1m[ \u001b[22m\u001b[39m\u001b[36m\u001b[1mInfo: \u001b[22m\u001b[39m          25.6102443s: 25 seconds, 610 milliseconds\n",
      "\u001b[36m\u001b[1m[ \u001b[22m\u001b[39m\u001b[36m\u001b[1mInfo: \u001b[22m\u001b[39m started timer at: 2025-03-05T14:35:24.366\n"
     ]
    },
    {
     "name": "stdout",
     "output_type": "stream",
     "text": [
      "false\n"
     ]
    },
    {
     "name": "stderr",
     "output_type": "stream",
     "text": [
      "\u001b[36m\u001b[1m[ \u001b[22m\u001b[39m\u001b[36m\u001b[1mInfo: \u001b[22m\u001b[39m started timer at: 2025-03-05T14:35:30.470\n"
     ]
    },
    {
     "name": "stdout",
     "output_type": "stream",
     "text": [
      "25\n",
      "k : 4\n",
      "1\n",
      "-14661.616427558083\n",
      "1932.9950919963512\n",
      "25\n",
      "K : 4\n",
      "[0 -1600 -100 -1200 -2000]\n"
     ]
    },
    {
     "name": "stderr",
     "output_type": "stream",
     "text": [
      "\u001b[36m\u001b[1m[ \u001b[22m\u001b[39m\u001b[36m\u001b[1mInfo: \u001b[22m\u001b[39m          26.2682208s: 26 seconds, 268 milliseconds\n",
      "\u001b[36m\u001b[1m[ \u001b[22m\u001b[39m\u001b[36m\u001b[1mInfo: \u001b[22m\u001b[39m started timer at: 2025-03-05T14:35:56.740\n"
     ]
    },
    {
     "name": "stdout",
     "output_type": "stream",
     "text": [
      "false\n"
     ]
    },
    {
     "name": "stderr",
     "output_type": "stream",
     "text": [
      "\u001b[36m\u001b[1m[ \u001b[22m\u001b[39m\u001b[36m\u001b[1mInfo: \u001b[22m\u001b[39m started timer at: 2025-03-05T14:36:02.972\n"
     ]
    },
    {
     "name": "stdout",
     "output_type": "stream",
     "text": [
      "25\n",
      "k : 4\n",
      "1\n",
      "-16496.178616631318\n",
      "2165.8594554404644\n",
      "25\n",
      "K : 4\n",
      "[0 -2000 -100 -1200 -2000]\n"
     ]
    },
    {
     "name": "stderr",
     "output_type": "stream",
     "text": [
      "\u001b[36m\u001b[1m[ \u001b[22m\u001b[39m\u001b[36m\u001b[1mInfo: \u001b[22m\u001b[39m           23.835757s: 23 seconds, 835 milliseconds\n",
      "\u001b[36m\u001b[1m[ \u001b[22m\u001b[39m\u001b[36m\u001b[1mInfo: \u001b[22m\u001b[39m started timer at: 2025-03-05T14:36:26.827\n"
     ]
    },
    {
     "name": "stdout",
     "output_type": "stream",
     "text": [
      "false\n"
     ]
    },
    {
     "name": "stderr",
     "output_type": "stream",
     "text": [
      "\u001b[36m\u001b[1m[ \u001b[22m\u001b[39m\u001b[36m\u001b[1mInfo: \u001b[22m\u001b[39m started timer at: 2025-03-05T14:36:32.982\n"
     ]
    },
    {
     "name": "stdout",
     "output_type": "stream",
     "text": [
      "25\n",
      "k : 4\n",
      "1\n",
      "-18178.927163888206\n",
      "2375.689186892391\n",
      "25\n",
      "K : 4\n",
      "[0 -2400 -100 -1200 -2000]\n"
     ]
    },
    {
     "name": "stderr",
     "output_type": "stream",
     "text": [
      "\u001b[36m\u001b[1m[ \u001b[22m\u001b[39m\u001b[36m\u001b[1mInfo: \u001b[22m\u001b[39m          26.4282233s: 26 seconds, 428 milliseconds\n",
      "\u001b[36m\u001b[1m[ \u001b[22m\u001b[39m\u001b[36m\u001b[1mInfo: \u001b[22m\u001b[39m started timer at: 2025-03-05T14:36:59.423\n"
     ]
    },
    {
     "name": "stdout",
     "output_type": "stream",
     "text": [
      "false\n"
     ]
    },
    {
     "name": "stderr",
     "output_type": "stream",
     "text": [
      "\u001b[36m\u001b[1m[ \u001b[22m\u001b[39m\u001b[36m\u001b[1mInfo: \u001b[22m\u001b[39m started timer at: 2025-03-05T14:37:05.546\n"
     ]
    },
    {
     "name": "stdout",
     "output_type": "stream",
     "text": [
      "25\n",
      "k : 4\n",
      "1\n",
      "-19700.609953195242\n",
      "2613.2809819738955\n",
      "25\n",
      "K : 4\n",
      "[0 -2800 -100 -1200 -2000]\n"
     ]
    },
    {
     "name": "stderr",
     "output_type": "stream",
     "text": [
      "\u001b[36m\u001b[1m[ \u001b[22m\u001b[39m\u001b[36m\u001b[1mInfo: \u001b[22m\u001b[39m          25.1647316s: 25 seconds, 164 milliseconds\n",
      "\u001b[36m\u001b[1m[ \u001b[22m\u001b[39m\u001b[36m\u001b[1mInfo: \u001b[22m\u001b[39m started timer at: 2025-03-05T14:37:30.731\n"
     ]
    },
    {
     "name": "stdout",
     "output_type": "stream",
     "text": [
      "false\n"
     ]
    },
    {
     "name": "stderr",
     "output_type": "stream",
     "text": [
      "\u001b[36m\u001b[1m[ \u001b[22m\u001b[39m\u001b[36m\u001b[1mInfo: \u001b[22m\u001b[39m started timer at: 2025-03-05T14:37:36.967\n"
     ]
    },
    {
     "name": "stdout",
     "output_type": "stream",
     "text": [
      "25\n",
      "k : 4\n",
      "1\n",
      "-19461.0132179279\n",
      "2677.444746953479\n",
      "25\n",
      "K : 4\n",
      "[0 -3200 -100 -1200 -2000]\n"
     ]
    },
    {
     "name": "stderr",
     "output_type": "stream",
     "text": [
      "\u001b[36m\u001b[1m[ \u001b[22m\u001b[39m\u001b[36m\u001b[1mInfo: \u001b[22m\u001b[39m          24.1930386s: 24 seconds, 193 milliseconds\n",
      "\u001b[36m\u001b[1m[ \u001b[22m\u001b[39m\u001b[36m\u001b[1mInfo: \u001b[22m\u001b[39m started timer at: 2025-03-05T14:38:01.168\n"
     ]
    },
    {
     "name": "stdout",
     "output_type": "stream",
     "text": [
      "false\n"
     ]
    },
    {
     "name": "stderr",
     "output_type": "stream",
     "text": [
      "\u001b[36m\u001b[1m[ \u001b[22m\u001b[39m\u001b[36m\u001b[1mInfo: \u001b[22m\u001b[39m started timer at: 2025-03-05T14:38:07.534\n"
     ]
    },
    {
     "name": "stdout",
     "output_type": "stream",
     "text": [
      "25\n",
      "k : 4\n",
      "1\n",
      "-20281.040623526376\n",
      "2683.3125122700108\n",
      "25\n",
      "K : 6\n",
      "[0 -800 -100 -1200 -2000]\n"
     ]
    },
    {
     "name": "stderr",
     "output_type": "stream",
     "text": [
      "\u001b[36m\u001b[1m[ \u001b[22m\u001b[39m\u001b[36m\u001b[1mInfo: \u001b[22m\u001b[39m          25.5215033s: 25 seconds, 521 milliseconds\n",
      "\u001b[36m\u001b[1m[ \u001b[22m\u001b[39m\u001b[36m\u001b[1mInfo: \u001b[22m\u001b[39m started timer at: 2025-03-05T14:38:33.082\n"
     ]
    },
    {
     "name": "stdout",
     "output_type": "stream",
     "text": [
      "false\n"
     ]
    },
    {
     "name": "stderr",
     "output_type": "stream",
     "text": [
      "\u001b[36m\u001b[1m[ \u001b[22m\u001b[39m\u001b[36m\u001b[1mInfo: \u001b[22m\u001b[39m started timer at: 2025-03-05T14:38:39.365\n"
     ]
    },
    {
     "name": "stdout",
     "output_type": "stream",
     "text": [
      "25\n",
      "k : 6\n",
      "1\n",
      "-12178.98461100096\n",
      "1597.255008054572\n",
      "25\n",
      "K : 6\n",
      "[0 -1200 -100 -1200 -2000]\n"
     ]
    },
    {
     "name": "stderr",
     "output_type": "stream",
     "text": [
      "\u001b[36m\u001b[1m[ \u001b[22m\u001b[39m\u001b[36m\u001b[1mInfo: \u001b[22m\u001b[39m          24.3172165s: 24 seconds, 317 milliseconds\n",
      "\u001b[36m\u001b[1m[ \u001b[22m\u001b[39m\u001b[36m\u001b[1mInfo: \u001b[22m\u001b[39m started timer at: 2025-03-05T14:39:03.698\n"
     ]
    },
    {
     "name": "stdout",
     "output_type": "stream",
     "text": [
      "false\n"
     ]
    },
    {
     "name": "stderr",
     "output_type": "stream",
     "text": [
      "\u001b[36m\u001b[1m[ \u001b[22m\u001b[39m\u001b[36m\u001b[1mInfo: \u001b[22m\u001b[39m started timer at: 2025-03-05T14:39:10.174\n"
     ]
    },
    {
     "name": "stdout",
     "output_type": "stream",
     "text": [
      "25\n",
      "k : 6\n",
      "1\n",
      "-13970.040846106389\n",
      "1771.8500644749545\n",
      "25\n",
      "K : 6\n",
      "[0 -1600 -100 -1200 -2000]\n"
     ]
    },
    {
     "name": "stderr",
     "output_type": "stream",
     "text": [
      "\u001b[36m\u001b[1m[ \u001b[22m\u001b[39m\u001b[36m\u001b[1mInfo: \u001b[22m\u001b[39m          27.0982238s: 27 seconds, 98 milliseconds\n",
      "\u001b[36m\u001b[1m[ \u001b[22m\u001b[39m\u001b[36m\u001b[1mInfo: \u001b[22m\u001b[39m started timer at: 2025-03-05T14:39:37.297\n"
     ]
    },
    {
     "name": "stdout",
     "output_type": "stream",
     "text": [
      "false\n"
     ]
    },
    {
     "name": "stderr",
     "output_type": "stream",
     "text": [
      "\u001b[36m\u001b[1m[ \u001b[22m\u001b[39m\u001b[36m\u001b[1mInfo: \u001b[22m\u001b[39m started timer at: 2025-03-05T14:39:43.510\n"
     ]
    },
    {
     "name": "stdout",
     "output_type": "stream",
     "text": [
      "25\n",
      "k : 6\n",
      "1\n",
      "-15372.466923628806\n",
      "1887.7906028040372\n",
      "25\n",
      "K : 6\n",
      "[0 -2000 -100 -1200 -2000]\n"
     ]
    },
    {
     "name": "stderr",
     "output_type": "stream",
     "text": [
      "\u001b[36m\u001b[1m[ \u001b[22m\u001b[39m\u001b[36m\u001b[1mInfo: \u001b[22m\u001b[39m          26.0320119s: 26 seconds, 32 milliseconds\n",
      "\u001b[36m\u001b[1m[ \u001b[22m\u001b[39m\u001b[36m\u001b[1mInfo: \u001b[22m\u001b[39m started timer at: 2025-03-05T14:40:09.553\n"
     ]
    },
    {
     "name": "stdout",
     "output_type": "stream",
     "text": [
      "false\n"
     ]
    },
    {
     "name": "stderr",
     "output_type": "stream",
     "text": [
      "\u001b[36m\u001b[1m[ \u001b[22m\u001b[39m\u001b[36m\u001b[1mInfo: \u001b[22m\u001b[39m started timer at: 2025-03-05T14:40:15.708\n"
     ]
    },
    {
     "name": "stdout",
     "output_type": "stream",
     "text": [
      "25\n",
      "k : 6\n",
      "1\n",
      "-16745.245515097406\n",
      "2083.5577418144458\n",
      "25\n",
      "K : 6\n",
      "[0 -2400 -100 -1200 -2000]\n"
     ]
    },
    {
     "name": "stderr",
     "output_type": "stream",
     "text": [
      "\u001b[36m\u001b[1m[ \u001b[22m\u001b[39m\u001b[36m\u001b[1mInfo: \u001b[22m\u001b[39m          24.2195003s: 24 seconds, 219 milliseconds\n",
      "\u001b[36m\u001b[1m[ \u001b[22m\u001b[39m\u001b[36m\u001b[1mInfo: \u001b[22m\u001b[39m started timer at: 2025-03-05T14:40:39.966\n"
     ]
    },
    {
     "name": "stdout",
     "output_type": "stream",
     "text": [
      "false\n"
     ]
    },
    {
     "name": "stderr",
     "output_type": "stream",
     "text": [
      "\u001b[36m\u001b[1m[ \u001b[22m\u001b[39m\u001b[36m\u001b[1mInfo: \u001b[22m\u001b[39m started timer at: 2025-03-05T14:40:46.274\n"
     ]
    },
    {
     "name": "stdout",
     "output_type": "stream",
     "text": [
      "25\n",
      "k : 6\n",
      "1\n",
      "-17932.520138034477\n",
      "2284.1272660883396\n",
      "25\n",
      "K : 6\n",
      "[0 -2800 -100 -1200 -2000]\n"
     ]
    },
    {
     "name": "stderr",
     "output_type": "stream",
     "text": [
      "\u001b[36m\u001b[1m[ \u001b[22m\u001b[39m\u001b[36m\u001b[1mInfo: \u001b[22m\u001b[39m           26.461579s: 26 seconds, 461 milliseconds\n",
      "\u001b[36m\u001b[1m[ \u001b[22m\u001b[39m\u001b[36m\u001b[1mInfo: \u001b[22m\u001b[39m started timer at: 2025-03-05T14:41:12.750\n"
     ]
    },
    {
     "name": "stdout",
     "output_type": "stream",
     "text": [
      "false\n"
     ]
    },
    {
     "name": "stderr",
     "output_type": "stream",
     "text": [
      "\u001b[36m\u001b[1m[ \u001b[22m\u001b[39m\u001b[36m\u001b[1mInfo: \u001b[22m\u001b[39m started timer at: 2025-03-05T14:41:19.252\n"
     ]
    },
    {
     "name": "stdout",
     "output_type": "stream",
     "text": [
      "25\n",
      "k : 6\n",
      "1\n",
      "-17648.72540436148\n",
      "2274.4133196540697\n",
      "25\n",
      "K : 6\n",
      "[0 -3200 -100 -1200 -2000]\n"
     ]
    },
    {
     "name": "stderr",
     "output_type": "stream",
     "text": [
      "\u001b[36m\u001b[1m[ \u001b[22m\u001b[39m\u001b[36m\u001b[1mInfo: \u001b[22m\u001b[39m          25.2389245s: 25 seconds, 238 milliseconds\n",
      "\u001b[36m\u001b[1m[ \u001b[22m\u001b[39m\u001b[36m\u001b[1mInfo: \u001b[22m\u001b[39m started timer at: 2025-03-05T14:41:44.508\n"
     ]
    },
    {
     "name": "stdout",
     "output_type": "stream",
     "text": [
      "false\n"
     ]
    },
    {
     "name": "stderr",
     "output_type": "stream",
     "text": [
      "\u001b[36m\u001b[1m[ \u001b[22m\u001b[39m\u001b[36m\u001b[1mInfo: \u001b[22m\u001b[39m started timer at: 2025-03-05T14:41:50.869\n"
     ]
    },
    {
     "name": "stdout",
     "output_type": "stream",
     "text": [
      "25\n",
      "k : 6\n",
      "1\n",
      "-18449.50737678062\n",
      "2373.4513342138102\n",
      "25\n",
      "K : 8\n",
      "[0 -800 -100 -1200 -2000]\n"
     ]
    },
    {
     "name": "stderr",
     "output_type": "stream",
     "text": [
      "\u001b[36m\u001b[1m[ \u001b[22m\u001b[39m\u001b[36m\u001b[1mInfo: \u001b[22m\u001b[39m           24.407862s: 24 seconds, 407 milliseconds\n",
      "\u001b[36m\u001b[1m[ \u001b[22m\u001b[39m\u001b[36m\u001b[1mInfo: \u001b[22m\u001b[39m started timer at: 2025-03-05T14:42:15.280\n"
     ]
    },
    {
     "name": "stdout",
     "output_type": "stream",
     "text": [
      "false\n"
     ]
    },
    {
     "name": "stderr",
     "output_type": "stream",
     "text": [
      "\u001b[36m\u001b[1m[ \u001b[22m\u001b[39m\u001b[36m\u001b[1mInfo: \u001b[22m\u001b[39m started timer at: 2025-03-05T14:42:21.593\n"
     ]
    },
    {
     "name": "stdout",
     "output_type": "stream",
     "text": [
      "25\n",
      "k : 8\n",
      "1\n",
      "-12002.993232968714\n",
      "1559.531321234714\n",
      "25\n",
      "K : 8\n",
      "[0 -1200 -100 -1200 -2000]\n"
     ]
    },
    {
     "name": "stderr",
     "output_type": "stream",
     "text": [
      "\u001b[36m\u001b[1m[ \u001b[22m\u001b[39m\u001b[36m\u001b[1mInfo: \u001b[22m\u001b[39m           26.956586s: 26 seconds, 956 milliseconds\n",
      "\u001b[36m\u001b[1m[ \u001b[22m\u001b[39m\u001b[36m\u001b[1mInfo: \u001b[22m\u001b[39m started timer at: 2025-03-05T14:42:48.549\n"
     ]
    },
    {
     "name": "stdout",
     "output_type": "stream",
     "text": [
      "false\n"
     ]
    },
    {
     "name": "stderr",
     "output_type": "stream",
     "text": [
      "\u001b[36m\u001b[1m[ \u001b[22m\u001b[39m\u001b[36m\u001b[1mInfo: \u001b[22m\u001b[39m started timer at: 2025-03-05T14:42:55.003\n"
     ]
    },
    {
     "name": "stdout",
     "output_type": "stream",
     "text": [
      "25\n",
      "k : 8\n",
      "1\n",
      "-13661.043187709847\n",
      "1694.8031762920925\n",
      "25\n",
      "K : 8\n",
      "[0 -1600 -100 -1200 -2000]\n"
     ]
    },
    {
     "name": "stderr",
     "output_type": "stream",
     "text": [
      "\u001b[36m\u001b[1m[ \u001b[22m\u001b[39m\u001b[36m\u001b[1mInfo: \u001b[22m\u001b[39m          24.9450159s: 24 seconds, 945 milliseconds\n",
      "\u001b[36m\u001b[1m[ \u001b[22m\u001b[39m\u001b[36m\u001b[1mInfo: \u001b[22m\u001b[39m started timer at: 2025-03-05T14:43:19.959\n"
     ]
    },
    {
     "name": "stdout",
     "output_type": "stream",
     "text": [
      "false\n"
     ]
    },
    {
     "name": "stderr",
     "output_type": "stream",
     "text": [
      "\u001b[36m\u001b[1m[ \u001b[22m\u001b[39m\u001b[36m\u001b[1mInfo: \u001b[22m\u001b[39m started timer at: 2025-03-05T14:43:26.395\n"
     ]
    },
    {
     "name": "stdout",
     "output_type": "stream",
     "text": [
      "25\n",
      "k : 8\n",
      "1\n",
      "-14893.63867714259\n",
      "1824.7123972513207\n",
      "25\n",
      "K : 8\n",
      "[0 -2000 -100 -1200 -2000]\n"
     ]
    },
    {
     "name": "stderr",
     "output_type": "stream",
     "text": [
      "\u001b[36m\u001b[1m[ \u001b[22m\u001b[39m\u001b[36m\u001b[1mInfo: \u001b[22m\u001b[39m          25.5835546s: 25 seconds, 583 milliseconds\n",
      "\u001b[36m\u001b[1m[ \u001b[22m\u001b[39m\u001b[36m\u001b[1mInfo: \u001b[22m\u001b[39m started timer at: 2025-03-05T14:43:51.984\n"
     ]
    },
    {
     "name": "stdout",
     "output_type": "stream",
     "text": [
      "false\n"
     ]
    },
    {
     "name": "stderr",
     "output_type": "stream",
     "text": [
      "\u001b[36m\u001b[1m[ \u001b[22m\u001b[39m\u001b[36m\u001b[1mInfo: \u001b[22m\u001b[39m started timer at: 2025-03-05T14:43:58.186\n"
     ]
    },
    {
     "name": "stdout",
     "output_type": "stream",
     "text": [
      "25\n",
      "k : 8\n",
      "1\n",
      "-15970.451726266152\n",
      "1974.1550069696743\n",
      "25\n",
      "K : 8\n",
      "[0 -2400 -100 -1200 -2000]\n"
     ]
    },
    {
     "name": "stderr",
     "output_type": "stream",
     "text": [
      "\u001b[36m\u001b[1m[ \u001b[22m\u001b[39m\u001b[36m\u001b[1mInfo: \u001b[22m\u001b[39m          25.9937886s: 25 seconds, 993 milliseconds\n",
      "\u001b[36m\u001b[1m[ \u001b[22m\u001b[39m\u001b[36m\u001b[1mInfo: \u001b[22m\u001b[39m started timer at: 2025-03-05T14:44:24.192\n"
     ]
    },
    {
     "name": "stdout",
     "output_type": "stream",
     "text": [
      "false\n"
     ]
    },
    {
     "name": "stderr",
     "output_type": "stream",
     "text": [
      "\u001b[36m\u001b[1m[ \u001b[22m\u001b[39m\u001b[36m\u001b[1mInfo: \u001b[22m\u001b[39m started timer at: 2025-03-05T14:44:30.437\n"
     ]
    },
    {
     "name": "stdout",
     "output_type": "stream",
     "text": [
      "25\n",
      "k : 8\n",
      "1\n",
      "-16916.775059842377\n",
      "2086.2556349691386\n",
      "25\n",
      "K : 8\n",
      "[0 -2800 -100 -1200 -2000]\n"
     ]
    },
    {
     "name": "stderr",
     "output_type": "stream",
     "text": [
      "\u001b[36m\u001b[1m[ \u001b[22m\u001b[39m\u001b[36m\u001b[1mInfo: \u001b[22m\u001b[39m          23.5371659s: 23 seconds, 537 milliseconds\n",
      "\u001b[36m\u001b[1m[ \u001b[22m\u001b[39m\u001b[36m\u001b[1mInfo: \u001b[22m\u001b[39m started timer at: 2025-03-05T14:44:53.986\n"
     ]
    },
    {
     "name": "stdout",
     "output_type": "stream",
     "text": [
      "false\n"
     ]
    },
    {
     "name": "stderr",
     "output_type": "stream",
     "text": [
      "\u001b[36m\u001b[1m[ \u001b[22m\u001b[39m\u001b[36m\u001b[1mInfo: \u001b[22m\u001b[39m started timer at: 2025-03-05T14:45:00.343\n"
     ]
    },
    {
     "name": "stdout",
     "output_type": "stream",
     "text": [
      "25\n",
      "k : 8\n",
      "1\n",
      "-16735.928756529724\n",
      "2082.7465942695094\n",
      "25\n",
      "K : 8\n",
      "[0 -3200 -100 -1200 -2000]\n"
     ]
    },
    {
     "name": "stderr",
     "output_type": "stream",
     "text": [
      "\u001b[36m\u001b[1m[ \u001b[22m\u001b[39m\u001b[36m\u001b[1mInfo: \u001b[22m\u001b[39m          26.1776969s: 26 seconds, 177 milliseconds\n",
      "\u001b[36m\u001b[1m[ \u001b[22m\u001b[39m\u001b[36m\u001b[1mInfo: \u001b[22m\u001b[39m started timer at: 2025-03-05T14:45:26.526\n"
     ]
    },
    {
     "name": "stdout",
     "output_type": "stream",
     "text": [
      "false\n"
     ]
    },
    {
     "name": "stderr",
     "output_type": "stream",
     "text": [
      "\u001b[36m\u001b[1m[ \u001b[22m\u001b[39m\u001b[36m\u001b[1mInfo: \u001b[22m\u001b[39m started timer at: 2025-03-05T14:45:32.465\n"
     ]
    },
    {
     "name": "stdout",
     "output_type": "stream",
     "text": [
      "25\n",
      "k : 8\n",
      "1\n",
      "-17401.556473509045\n",
      "2164.1019165070825\n",
      "25\n",
      "K : 10\n",
      "[0 -800 -100 -1200 -2000]\n"
     ]
    },
    {
     "name": "stderr",
     "output_type": "stream",
     "text": [
      "\u001b[36m\u001b[1m[ \u001b[22m\u001b[39m\u001b[36m\u001b[1mInfo: \u001b[22m\u001b[39m          25.3990342s: 25 seconds, 399 milliseconds\n",
      "\u001b[36m\u001b[1m[ \u001b[22m\u001b[39m\u001b[36m\u001b[1mInfo: \u001b[22m\u001b[39m started timer at: 2025-03-05T14:45:57.872\n"
     ]
    },
    {
     "name": "stdout",
     "output_type": "stream",
     "text": [
      "false\n"
     ]
    },
    {
     "name": "stderr",
     "output_type": "stream",
     "text": [
      "\u001b[36m\u001b[1m[ \u001b[22m\u001b[39m\u001b[36m\u001b[1mInfo: \u001b[22m\u001b[39m started timer at: 2025-03-05T14:46:04.099\n"
     ]
    },
    {
     "name": "stdout",
     "output_type": "stream",
     "text": [
      "25\n",
      "k : 10\n",
      "1\n",
      "-11913.85180005742\n",
      "1544.0132936426205\n",
      "25\n",
      "K : 10\n",
      "[0 -1200 -100 -1200 -2000]\n"
     ]
    },
    {
     "name": "stderr",
     "output_type": "stream",
     "text": [
      "\u001b[36m\u001b[1m[ \u001b[22m\u001b[39m\u001b[36m\u001b[1mInfo: \u001b[22m\u001b[39m          24.4368181s: 24 seconds, 436 milliseconds\n",
      "\u001b[36m\u001b[1m[ \u001b[22m\u001b[39m\u001b[36m\u001b[1mInfo: \u001b[22m\u001b[39m started timer at: 2025-03-05T14:46:28.552\n"
     ]
    },
    {
     "name": "stdout",
     "output_type": "stream",
     "text": [
      "false\n"
     ]
    },
    {
     "name": "stderr",
     "output_type": "stream",
     "text": [
      "\u001b[36m\u001b[1m[ \u001b[22m\u001b[39m\u001b[36m\u001b[1mInfo: \u001b[22m\u001b[39m started timer at: 2025-03-05T14:46:34.776\n"
     ]
    },
    {
     "name": "stdout",
     "output_type": "stream",
     "text": [
      "25\n",
      "k : 10\n",
      "1\n",
      "-13484.260602219063\n",
      "1674.3432264452351\n",
      "25\n",
      "K : 10\n",
      "[0 -1600 -100 -1200 -2000]\n"
     ]
    },
    {
     "name": "stderr",
     "output_type": "stream",
     "text": [
      "\u001b[36m\u001b[1m[ \u001b[22m\u001b[39m\u001b[36m\u001b[1mInfo: \u001b[22m\u001b[39m           26.821096s: 26 seconds, 821 milliseconds\n",
      "\u001b[36m\u001b[1m[ \u001b[22m\u001b[39m\u001b[36m\u001b[1mInfo: \u001b[22m\u001b[39m started timer at: 2025-03-05T14:47:01.625\n"
     ]
    },
    {
     "name": "stdout",
     "output_type": "stream",
     "text": [
      "false\n"
     ]
    },
    {
     "name": "stderr",
     "output_type": "stream",
     "text": [
      "\u001b[36m\u001b[1m[ \u001b[22m\u001b[39m\u001b[36m\u001b[1mInfo: \u001b[22m\u001b[39m started timer at: 2025-03-05T14:47:07.926\n"
     ]
    },
    {
     "name": "stdout",
     "output_type": "stream",
     "text": [
      "25\n",
      "k : 10\n",
      "1\n",
      "-14589.001466282927\n",
      "1733.8507366133977\n",
      "25\n",
      "K : 10\n",
      "[0 -2000 -100 -1200 -2000]\n"
     ]
    },
    {
     "name": "stderr",
     "output_type": "stream",
     "text": [
      "\u001b[36m\u001b[1m[ \u001b[22m\u001b[39m\u001b[36m\u001b[1mInfo: \u001b[22m\u001b[39m          25.3494118s: 25 seconds, 349 milliseconds\n",
      "\u001b[36m\u001b[1m[ \u001b[22m\u001b[39m\u001b[36m\u001b[1mInfo: \u001b[22m\u001b[39m started timer at: 2025-03-05T14:47:33.286\n"
     ]
    },
    {
     "name": "stdout",
     "output_type": "stream",
     "text": [
      "false\n"
     ]
    },
    {
     "name": "stderr",
     "output_type": "stream",
     "text": [
      "\u001b[36m\u001b[1m[ \u001b[22m\u001b[39m\u001b[36m\u001b[1mInfo: \u001b[22m\u001b[39m started timer at: 2025-03-05T14:47:39.412\n"
     ]
    },
    {
     "name": "stdout",
     "output_type": "stream",
     "text": [
      "25\n",
      "k : 10\n",
      "1\n",
      "-15536.041989480933\n",
      "1844.0451829187277\n",
      "25"
     ]
    },
    {
     "name": "stderr",
     "output_type": "stream",
     "text": [
      "\u001b[36m\u001b[1m[ \u001b[22m\u001b[39m\u001b[36m\u001b[1mInfo: \u001b[22m\u001b[39m           24.337033s: 24 seconds, 337 milliseconds\n",
      "\u001b[36m\u001b[1m[ \u001b[22m\u001b[39m\u001b[36m\u001b[1mInfo: \u001b[22m\u001b[39m started timer at: 2025-03-05T14:48:03.758\n"
     ]
    },
    {
     "name": "stdout",
     "output_type": "stream",
     "text": [
      "\n",
      "K : 10\n",
      "[0 -2400 -100 -1200 -2000]\n",
      "false\n"
     ]
    },
    {
     "name": "stderr",
     "output_type": "stream",
     "text": [
      "\u001b[36m\u001b[1m[ \u001b[22m\u001b[39m\u001b[36m\u001b[1mInfo: \u001b[22m\u001b[39m started timer at: 2025-03-05T14:48:10.054\n"
     ]
    },
    {
     "name": "stdout",
     "output_type": "stream",
     "text": [
      "25\n",
      "k : 10\n",
      "1\n",
      "-16320.341117030746\n",
      "1975.4086099438593\n",
      "25\n",
      "K : 10\n",
      "[0 -2800 -100 -1200 -2000]\n"
     ]
    },
    {
     "name": "stderr",
     "output_type": "stream",
     "text": [
      "\u001b[36m\u001b[1m[ \u001b[22m\u001b[39m\u001b[36m\u001b[1mInfo: \u001b[22m\u001b[39m          25.7693046s: 25 seconds, 769 milliseconds\n",
      "\u001b[36m\u001b[1m[ \u001b[22m\u001b[39m\u001b[36m\u001b[1mInfo: \u001b[22m\u001b[39m started timer at: 2025-03-05T14:48:35.829\n"
     ]
    },
    {
     "name": "stdout",
     "output_type": "stream",
     "text": [
      "false\n"
     ]
    },
    {
     "name": "stderr",
     "output_type": "stream",
     "text": [
      "\u001b[36m\u001b[1m[ \u001b[22m\u001b[39m\u001b[36m\u001b[1mInfo: \u001b[22m\u001b[39m started timer at: 2025-03-05T14:48:42.076\n"
     ]
    },
    {
     "name": "stdout",
     "output_type": "stream",
     "text": [
      "25\n",
      "k : 10\n",
      "1\n",
      "-16063.107030058289\n",
      "1976.669980929697\n",
      "25\n",
      "K : 10\n",
      "[0 -3200 -100 -1200 -2000]\n"
     ]
    },
    {
     "name": "stderr",
     "output_type": "stream",
     "text": [
      "\u001b[36m\u001b[1m[ \u001b[22m\u001b[39m\u001b[36m\u001b[1mInfo: \u001b[22m\u001b[39m          24.2314606s: 24 seconds, 231 milliseconds\n",
      "\u001b[36m\u001b[1m[ \u001b[22m\u001b[39m\u001b[36m\u001b[1mInfo: \u001b[22m\u001b[39m started timer at: 2025-03-05T14:49:06.315\n"
     ]
    },
    {
     "name": "stdout",
     "output_type": "stream",
     "text": [
      "false\n"
     ]
    },
    {
     "name": "stderr",
     "output_type": "stream",
     "text": [
      "\u001b[36m\u001b[1m[ \u001b[22m\u001b[39m\u001b[36m\u001b[1mInfo: \u001b[22m\u001b[39m started timer at: 2025-03-05T14:49:12.545\n"
     ]
    },
    {
     "name": "stdout",
     "output_type": "stream",
     "text": [
      "25\n",
      "k : 10\n",
      "1\n",
      "-16708.761691202097\n",
      "2061.422160503247\n",
      "25\n",
      "K : 12\n",
      "[0 -800 -100 -1200 -2000]\n"
     ]
    },
    {
     "name": "stderr",
     "output_type": "stream",
     "text": [
      "\u001b[36m\u001b[1m[ \u001b[22m\u001b[39m\u001b[36m\u001b[1mInfo: \u001b[22m\u001b[39m          24.7750884s: 24 seconds, 775 milliseconds\n",
      "\u001b[36m\u001b[1m[ \u001b[22m\u001b[39m\u001b[36m\u001b[1mInfo: \u001b[22m\u001b[39m started timer at: 2025-03-05T14:49:37.335\n"
     ]
    },
    {
     "name": "stdout",
     "output_type": "stream",
     "text": [
      "false\n"
     ]
    },
    {
     "name": "stderr",
     "output_type": "stream",
     "text": [
      "\u001b[36m\u001b[1m[ \u001b[22m\u001b[39m\u001b[36m\u001b[1mInfo: \u001b[22m\u001b[39m started timer at: 2025-03-05T14:49:43.564\n"
     ]
    },
    {
     "name": "stdout",
     "output_type": "stream",
     "text": [
      "25\n",
      "k : 12\n",
      "1\n",
      "-11866.908230528003\n",
      "1524.75462219239\n",
      "25\n",
      "K : 12\n",
      "[0 -1200 -100 -1200 -2000]\n"
     ]
    },
    {
     "name": "stderr",
     "output_type": "stream",
     "text": [
      "\u001b[36m\u001b[1m[ \u001b[22m\u001b[39m\u001b[36m\u001b[1mInfo: \u001b[22m\u001b[39m          26.5335351s: 26 seconds, 533 milliseconds\n",
      "\u001b[36m\u001b[1m[ \u001b[22m\u001b[39m\u001b[36m\u001b[1mInfo: \u001b[22m\u001b[39m started timer at: 2025-03-05T14:50:10.108\n"
     ]
    },
    {
     "name": "stdout",
     "output_type": "stream",
     "text": [
      "false\n"
     ]
    },
    {
     "name": "stderr",
     "output_type": "stream",
     "text": [
      "\u001b[36m\u001b[1m[ \u001b[22m\u001b[39m\u001b[36m\u001b[1mInfo: \u001b[22m\u001b[39m started timer at: 2025-03-05T14:50:16.435\n"
     ]
    },
    {
     "name": "stdout",
     "output_type": "stream",
     "text": [
      "25\n",
      "k : 12\n",
      "1\n",
      "-13373.053150265076\n",
      "1660.2845307455193\n",
      "25\n",
      "K : 12\n",
      "[0 -1600 -100 -1200 -2000]\n"
     ]
    },
    {
     "name": "stderr",
     "output_type": "stream",
     "text": [
      "\u001b[36m\u001b[1m[ \u001b[22m\u001b[39m\u001b[36m\u001b[1mInfo: \u001b[22m\u001b[39m          23.8467531s: 23 seconds, 846 milliseconds\n",
      "\u001b[36m\u001b[1m[ \u001b[22m\u001b[39m\u001b[36m\u001b[1mInfo: \u001b[22m\u001b[39m started timer at: 2025-03-05T14:50:40.294\n"
     ]
    },
    {
     "name": "stdout",
     "output_type": "stream",
     "text": [
      "false\n"
     ]
    },
    {
     "name": "stderr",
     "output_type": "stream",
     "text": [
      "\u001b[36m\u001b[1m[ \u001b[22m\u001b[39m\u001b[36m\u001b[1mInfo: \u001b[22m\u001b[39m started timer at: 2025-03-05T14:50:46.604\n"
     ]
    },
    {
     "name": "stdout",
     "output_type": "stream",
     "text": [
      "25\n",
      "k : 12\n",
      "1\n",
      "-14375.438620220399\n",
      "1731.386635677076\n",
      "25\n",
      "K : 12\n",
      "[0 -2000 -100 -1200 -2000]\n"
     ]
    },
    {
     "name": "stderr",
     "output_type": "stream",
     "text": [
      "\u001b[36m\u001b[1m[ \u001b[22m\u001b[39m\u001b[36m\u001b[1mInfo: \u001b[22m\u001b[39m          26.7377053s: 26 seconds, 737 milliseconds\n",
      "\u001b[36m\u001b[1m[ \u001b[22m\u001b[39m\u001b[36m\u001b[1mInfo: \u001b[22m\u001b[39m started timer at: 2025-03-05T14:51:13.372\n"
     ]
    },
    {
     "name": "stdout",
     "output_type": "stream",
     "text": [
      "false\n"
     ]
    },
    {
     "name": "stderr",
     "output_type": "stream",
     "text": [
      "\u001b[36m\u001b[1m[ \u001b[22m\u001b[39m\u001b[36m\u001b[1mInfo: \u001b[22m\u001b[39m started timer at: 2025-03-05T14:51:19.818\n"
     ]
    },
    {
     "name": "stdout",
     "output_type": "stream",
     "text": [
      "25\n",
      "k : 12\n",
      "1\n",
      "-15208.879287028574\n",
      "1804.2080358136539\n",
      "25\n",
      "K : 12\n",
      "[0 -2400 -100 -1200 -2000]\n"
     ]
    },
    {
     "name": "stderr",
     "output_type": "stream",
     "text": [
      "\u001b[36m\u001b[1m[ \u001b[22m\u001b[39m\u001b[36m\u001b[1mInfo: \u001b[22m\u001b[39m          25.7094996s: 25 seconds, 709 milliseconds\n",
      "\u001b[36m\u001b[1m[ \u001b[22m\u001b[39m\u001b[36m\u001b[1mInfo: \u001b[22m\u001b[39m started timer at: 2025-03-05T14:51:45.547\n"
     ]
    },
    {
     "name": "stdout",
     "output_type": "stream",
     "text": [
      "false\n"
     ]
    },
    {
     "name": "stderr",
     "output_type": "stream",
     "text": [
      "\u001b[36m\u001b[1m[ \u001b[22m\u001b[39m\u001b[36m\u001b[1mInfo: \u001b[22m\u001b[39m started timer at: 2025-03-05T14:51:51.944\n"
     ]
    },
    {
     "name": "stdout",
     "output_type": "stream",
     "text": [
      "25\n",
      "k : 12\n",
      "1\n",
      "-15828.137162951178\n",
      "1883.5250855981826\n",
      "25\n",
      "K : 12\n",
      "[0 -2800 -100 -1200 -2000]\n"
     ]
    },
    {
     "name": "stderr",
     "output_type": "stream",
     "text": [
      "\u001b[36m\u001b[1m[ \u001b[22m\u001b[39m\u001b[36m\u001b[1mInfo: \u001b[22m\u001b[39m          23.6488161s: 23 seconds, 648 milliseconds\n",
      "\u001b[36m\u001b[1m[ \u001b[22m\u001b[39m\u001b[36m\u001b[1mInfo: \u001b[22m\u001b[39m started timer at: 2025-03-05T14:52:15.602\n"
     ]
    },
    {
     "name": "stdout",
     "output_type": "stream",
     "text": [
      "false\n"
     ]
    },
    {
     "name": "stderr",
     "output_type": "stream",
     "text": [
      "\u001b[36m\u001b[1m[ \u001b[22m\u001b[39m\u001b[36m\u001b[1mInfo: \u001b[22m\u001b[39m started timer at: 2025-03-05T14:52:21.961\n"
     ]
    },
    {
     "name": "stdout",
     "output_type": "stream",
     "text": [
      "25\n",
      "k : 12\n",
      "1\n",
      "-15686.809669571316\n",
      "1911.8534742301986\n",
      "25\n",
      "K : 12\n",
      "[0 -3200 -100 -1200 -2000]\n"
     ]
    },
    {
     "name": "stderr",
     "output_type": "stream",
     "text": [
      "\u001b[36m\u001b[1m[ \u001b[22m\u001b[39m\u001b[36m\u001b[1mInfo: \u001b[22m\u001b[39m          25.3740932s: 25 seconds, 374 milliseconds\n",
      "\u001b[36m\u001b[1m[ \u001b[22m\u001b[39m\u001b[36m\u001b[1mInfo: \u001b[22m\u001b[39m started timer at: 2025-03-05T14:52:47.352\n"
     ]
    },
    {
     "name": "stdout",
     "output_type": "stream",
     "text": [
      "false\n"
     ]
    },
    {
     "name": "stderr",
     "output_type": "stream",
     "text": [
      "\u001b[36m\u001b[1m[ \u001b[22m\u001b[39m\u001b[36m\u001b[1mInfo: \u001b[22m\u001b[39m started timer at: 2025-03-05T14:52:53.509\n"
     ]
    },
    {
     "name": "stdout",
     "output_type": "stream",
     "text": [
      "25\n",
      "k : 12\n",
      "1\n",
      "-16152.394939046717\n",
      "1987.4809696040963\n",
      "30"
     ]
    },
    {
     "name": "stderr",
     "output_type": "stream",
     "text": [
      "\u001b[36m\u001b[1m[ \u001b[22m\u001b[39m\u001b[36m\u001b[1mInfo: \u001b[22m\u001b[39m          24.9053343s: 24 seconds, 905 milliseconds\n",
      "\u001b[36m\u001b[1m[ \u001b[22m\u001b[39m\u001b[36m\u001b[1mInfo: \u001b[22m\u001b[39m started timer at: 2025-03-05T14:53:18.435\n"
     ]
    },
    {
     "name": "stdout",
     "output_type": "stream",
     "text": [
      "\n",
      "K : 2\n",
      "[0 -800 -100 -1200 -2000]\n",
      "false\n"
     ]
    },
    {
     "name": "stderr",
     "output_type": "stream",
     "text": [
      "\u001b[36m\u001b[1m[ \u001b[22m\u001b[39m\u001b[36m\u001b[1mInfo: \u001b[22m\u001b[39m started timer at: 2025-03-05T14:53:24.840\n"
     ]
    },
    {
     "name": "stdout",
     "output_type": "stream",
     "text": [
      "30\n",
      "k : 2\n",
      "1\n",
      "-16755.158025469053\n",
      "2341.438554556512\n",
      "30\n",
      "K : 2\n",
      "[0 -1200 -100 -1200 -2000]\n"
     ]
    },
    {
     "name": "stderr",
     "output_type": "stream",
     "text": [
      "\u001b[36m\u001b[1m[ \u001b[22m\u001b[39m\u001b[36m\u001b[1mInfo: \u001b[22m\u001b[39m          29.7873634s: 29 seconds, 787 milliseconds\n",
      "\u001b[36m\u001b[1m[ \u001b[22m\u001b[39m\u001b[36m\u001b[1mInfo: \u001b[22m\u001b[39m started timer at: 2025-03-05T14:53:54.640\n"
     ]
    },
    {
     "name": "stdout",
     "output_type": "stream",
     "text": [
      "false\n"
     ]
    },
    {
     "name": "stderr",
     "output_type": "stream",
     "text": [
      "\u001b[36m\u001b[1m[ \u001b[22m\u001b[39m\u001b[36m\u001b[1mInfo: \u001b[22m\u001b[39m started timer at: 2025-03-05T14:54:00.734\n"
     ]
    },
    {
     "name": "stdout",
     "output_type": "stream",
     "text": [
      "30\n",
      "k : 2\n",
      "1\n",
      "-20061.34655336048\n",
      "2699.9555686398803\n",
      "30\n",
      "K : 2\n",
      "[0 -1600 -100 -1200 -2000]\n"
     ]
    },
    {
     "name": "stderr",
     "output_type": "stream",
     "text": [
      "\u001b[36m\u001b[1m[ \u001b[22m\u001b[39m\u001b[36m\u001b[1mInfo: \u001b[22m\u001b[39m          30.3152246s: 30 seconds, 315 milliseconds\n",
      "\u001b[36m\u001b[1m[ \u001b[22m\u001b[39m\u001b[36m\u001b[1mInfo: \u001b[22m\u001b[39m started timer at: 2025-03-05T14:54:31.061\n"
     ]
    },
    {
     "name": "stdout",
     "output_type": "stream",
     "text": [
      "false\n"
     ]
    },
    {
     "name": "stderr",
     "output_type": "stream",
     "text": [
      "\u001b[36m\u001b[1m[ \u001b[22m\u001b[39m\u001b[36m\u001b[1mInfo: \u001b[22m\u001b[39m started timer at: 2025-03-05T14:54:37.218\n"
     ]
    },
    {
     "name": "stdout",
     "output_type": "stream",
     "text": [
      "30\n",
      "k : 2\n",
      "1\n",
      "-22669.427310252504\n",
      "2977.961130940025\n",
      "30\n",
      "K : 2\n",
      "[0 -2000 -100 -1200 -2000]\n"
     ]
    },
    {
     "name": "stderr",
     "output_type": "stream",
     "text": [
      "\u001b[36m\u001b[1m[ \u001b[22m\u001b[39m\u001b[36m\u001b[1mInfo: \u001b[22m\u001b[39m          28.4149055s: 28 seconds, 414 milliseconds\n",
      "\u001b[36m\u001b[1m[ \u001b[22m\u001b[39m\u001b[36m\u001b[1mInfo: \u001b[22m\u001b[39m started timer at: 2025-03-05T14:55:05.643\n"
     ]
    },
    {
     "name": "stdout",
     "output_type": "stream",
     "text": [
      "false\n"
     ]
    },
    {
     "name": "stderr",
     "output_type": "stream",
     "text": [
      "\u001b[36m\u001b[1m[ \u001b[22m\u001b[39m\u001b[36m\u001b[1mInfo: \u001b[22m\u001b[39m started timer at: 2025-03-05T14:55:11.753\n"
     ]
    },
    {
     "name": "stdout",
     "output_type": "stream",
     "text": [
      "30\n",
      "k : 2\n",
      "1\n",
      "-25239.04945551938\n",
      "3194.272034772138\n",
      "30\n",
      "K : 2\n",
      "[0 -2400 -100 -1200 -2000]\n"
     ]
    },
    {
     "name": "stderr",
     "output_type": "stream",
     "text": [
      "\u001b[36m\u001b[1m[ \u001b[22m\u001b[39m\u001b[36m\u001b[1mInfo: \u001b[22m\u001b[39m          30.1222451s: 30 seconds, 122 milliseconds\n",
      "\u001b[36m\u001b[1m[ \u001b[22m\u001b[39m\u001b[36m\u001b[1mInfo: \u001b[22m\u001b[39m started timer at: 2025-03-05T14:55:41.879\n"
     ]
    },
    {
     "name": "stdout",
     "output_type": "stream",
     "text": [
      "false\n"
     ]
    },
    {
     "name": "stderr",
     "output_type": "stream",
     "text": [
      "\u001b[36m\u001b[1m[ \u001b[22m\u001b[39m\u001b[36m\u001b[1mInfo: \u001b[22m\u001b[39m started timer at: 2025-03-05T14:55:47.945\n"
     ]
    },
    {
     "name": "stdout",
     "output_type": "stream",
     "text": [
      "30\n",
      "k : 2\n",
      "1\n",
      "-27577.105607949616\n",
      "3423.71919293902\n",
      "30\n",
      "K : 2\n",
      "[0 -2800 -100 -1200 -2000]\n"
     ]
    },
    {
     "name": "stderr",
     "output_type": "stream",
     "text": [
      "\u001b[36m\u001b[1m[ \u001b[22m\u001b[39m\u001b[36m\u001b[1mInfo: \u001b[22m\u001b[39m          30.1717269s: 30 seconds, 171 milliseconds\n",
      "\u001b[36m\u001b[1m[ \u001b[22m\u001b[39m\u001b[36m\u001b[1mInfo: \u001b[22m\u001b[39m started timer at: 2025-03-05T14:56:18.131\n"
     ]
    },
    {
     "name": "stdout",
     "output_type": "stream",
     "text": [
      "false\n"
     ]
    },
    {
     "name": "stderr",
     "output_type": "stream",
     "text": [
      "\u001b[36m\u001b[1m[ \u001b[22m\u001b[39m\u001b[36m\u001b[1mInfo: \u001b[22m\u001b[39m started timer at: 2025-03-05T14:56:24.287\n"
     ]
    },
    {
     "name": "stdout",
     "output_type": "stream",
     "text": [
      "30\n",
      "k : 2\n",
      "1\n",
      "-29415.028224453305\n",
      "3640.4066427721964\n",
      "30\n",
      "K : 2\n",
      "[0 -3200 -100 -1200 -2000]\n"
     ]
    },
    {
     "name": "stderr",
     "output_type": "stream",
     "text": [
      "\u001b[36m\u001b[1m[ \u001b[22m\u001b[39m\u001b[36m\u001b[1mInfo: \u001b[22m\u001b[39m          27.8620669s: 27 seconds, 862 milliseconds\n",
      "\u001b[36m\u001b[1m[ \u001b[22m\u001b[39m\u001b[36m\u001b[1mInfo: \u001b[22m\u001b[39m started timer at: 2025-03-05T14:56:52.164\n"
     ]
    },
    {
     "name": "stdout",
     "output_type": "stream",
     "text": [
      "false\n"
     ]
    },
    {
     "name": "stderr",
     "output_type": "stream",
     "text": [
      "\u001b[36m\u001b[1m[ \u001b[22m\u001b[39m\u001b[36m\u001b[1mInfo: \u001b[22m\u001b[39m started timer at: 2025-03-05T14:56:58.414\n"
     ]
    },
    {
     "name": "stdout",
     "output_type": "stream",
     "text": [
      "30\n",
      "k : 2\n",
      "1\n",
      "-28514.526621883135\n",
      "3534.724767255634\n",
      "30\n",
      "K : 4\n",
      "[0 -800 -100 -1200 -2000]\n"
     ]
    },
    {
     "name": "stderr",
     "output_type": "stream",
     "text": [
      "\u001b[36m\u001b[1m[ \u001b[22m\u001b[39m\u001b[36m\u001b[1mInfo: \u001b[22m\u001b[39m          30.8441187s: 30 seconds, 844 milliseconds\n",
      "\u001b[36m\u001b[1m[ \u001b[22m\u001b[39m\u001b[36m\u001b[1mInfo: \u001b[22m\u001b[39m started timer at: 2025-03-05T14:57:29.286\n"
     ]
    },
    {
     "name": "stdout",
     "output_type": "stream",
     "text": [
      "false\n"
     ]
    },
    {
     "name": "stderr",
     "output_type": "stream",
     "text": [
      "\u001b[36m\u001b[1m[ \u001b[22m\u001b[39m\u001b[36m\u001b[1mInfo: \u001b[22m\u001b[39m started timer at: 2025-03-05T14:57:35.609\n"
     ]
    },
    {
     "name": "stdout",
     "output_type": "stream",
     "text": [
      "30\n",
      "k : 4\n",
      "1\n",
      "-14288.412024493655\n",
      "1742.325674165674\n",
      "30\n",
      "K : 4\n",
      "[0 -1200 -100 -1200 -2000]\n"
     ]
    },
    {
     "name": "stderr",
     "output_type": "stream",
     "text": [
      "\u001b[36m\u001b[1m[ \u001b[22m\u001b[39m\u001b[36m\u001b[1mInfo: \u001b[22m\u001b[39m          30.0991543s: 30 seconds, 99 milliseconds\n",
      "\u001b[36m\u001b[1m[ \u001b[22m\u001b[39m\u001b[36m\u001b[1mInfo: \u001b[22m\u001b[39m started timer at: 2025-03-05T14:58:05.724\n"
     ]
    },
    {
     "name": "stdout",
     "output_type": "stream",
     "text": [
      "false\n"
     ]
    },
    {
     "name": "stderr",
     "output_type": "stream",
     "text": [
      "\u001b[36m\u001b[1m[ \u001b[22m\u001b[39m\u001b[36m\u001b[1mInfo: \u001b[22m\u001b[39m started timer at: 2025-03-05T14:58:11.958\n"
     ]
    },
    {
     "name": "stdout",
     "output_type": "stream",
     "text": [
      "30\n",
      "k : 4\n",
      "1\n",
      "-16678.940947938092\n",
      "2049.1414975779626\n",
      "30\n",
      "K : 4\n",
      "[0 -1600 -100 -1200 -2000]\n"
     ]
    },
    {
     "name": "stderr",
     "output_type": "stream",
     "text": [
      "\u001b[36m\u001b[1m[ \u001b[22m\u001b[39m\u001b[36m\u001b[1mInfo: \u001b[22m\u001b[39m          28.8590947s: 28 seconds, 859 milliseconds\n",
      "\u001b[36m\u001b[1m[ \u001b[22m\u001b[39m\u001b[36m\u001b[1mInfo: \u001b[22m\u001b[39m started timer at: 2025-03-05T14:58:40.843\n"
     ]
    },
    {
     "name": "stdout",
     "output_type": "stream",
     "text": [
      "false\n"
     ]
    },
    {
     "name": "stderr",
     "output_type": "stream",
     "text": [
      "\u001b[36m\u001b[1m[ \u001b[22m\u001b[39m\u001b[36m\u001b[1mInfo: \u001b[22m\u001b[39m started timer at: 2025-03-05T14:58:47.140\n"
     ]
    },
    {
     "name": "stdout",
     "output_type": "stream",
     "text": [
      "30\n",
      "k : 4\n",
      "1\n",
      "-18655.861191489123\n",
      "2247.5691497064345\n",
      "30\n",
      "K : 4\n",
      "[0 -2000 -100 -1200 -2000]\n"
     ]
    },
    {
     "name": "stderr",
     "output_type": "stream",
     "text": [
      "\u001b[36m\u001b[1m[ \u001b[22m\u001b[39m\u001b[36m\u001b[1mInfo: \u001b[22m\u001b[39m          30.9909681s: 30 seconds, 990 milliseconds\n",
      "\u001b[36m\u001b[1m[ \u001b[22m\u001b[39m\u001b[36m\u001b[1mInfo: \u001b[22m\u001b[39m started timer at: 2025-03-05T14:59:18.144\n"
     ]
    },
    {
     "name": "stdout",
     "output_type": "stream",
     "text": [
      "false\n"
     ]
    },
    {
     "name": "stderr",
     "output_type": "stream",
     "text": [
      "\u001b[36m\u001b[1m[ \u001b[22m\u001b[39m\u001b[36m\u001b[1mInfo: \u001b[22m\u001b[39m started timer at: 2025-03-05T14:59:24.455\n"
     ]
    },
    {
     "name": "stdout",
     "output_type": "stream",
     "text": [
      "30\n",
      "k : 4\n",
      "1\n",
      "-20690.587583521974\n",
      "2534.5408771008674\n",
      "30\n",
      "K : 4\n",
      "[0 -2400 -100 -1200 -2000]\n"
     ]
    },
    {
     "name": "stderr",
     "output_type": "stream",
     "text": [
      "\u001b[36m\u001b[1m[ \u001b[22m\u001b[39m\u001b[36m\u001b[1mInfo: \u001b[22m\u001b[39m          29.1160008s: 29 seconds, 116 milliseconds\n",
      "\u001b[36m\u001b[1m[ \u001b[22m\u001b[39m\u001b[36m\u001b[1mInfo: \u001b[22m\u001b[39m started timer at: 2025-03-05T14:59:53.582\n"
     ]
    },
    {
     "name": "stdout",
     "output_type": "stream",
     "text": [
      "false\n"
     ]
    },
    {
     "name": "stderr",
     "output_type": "stream",
     "text": [
      "\u001b[36m\u001b[1m[ \u001b[22m\u001b[39m\u001b[36m\u001b[1mInfo: \u001b[22m\u001b[39m started timer at: 2025-03-05T14:59:59.786\n"
     ]
    },
    {
     "name": "stdout",
     "output_type": "stream",
     "text": [
      "30\n",
      "k : 4\n",
      "1\n",
      "-22511.29441362048\n",
      "2780.4468280248702\n",
      "30\n",
      "K : 4\n",
      "[0 -2800 -100 -1200 -2000]\n"
     ]
    },
    {
     "name": "stderr",
     "output_type": "stream",
     "text": [
      "\u001b[36m\u001b[1m[ \u001b[22m\u001b[39m\u001b[36m\u001b[1mInfo: \u001b[22m\u001b[39m          29.5454541s: 29 seconds, 545 milliseconds\n",
      "\u001b[36m\u001b[1m[ \u001b[22m\u001b[39m\u001b[36m\u001b[1mInfo: \u001b[22m\u001b[39m started timer at: 2025-03-05T15:00:29.348\n"
     ]
    },
    {
     "name": "stdout",
     "output_type": "stream",
     "text": [
      "false\n"
     ]
    },
    {
     "name": "stderr",
     "output_type": "stream",
     "text": [
      "\u001b[36m\u001b[1m[ \u001b[22m\u001b[39m\u001b[36m\u001b[1mInfo: \u001b[22m\u001b[39m started timer at: 2025-03-05T15:00:35.601\n"
     ]
    },
    {
     "name": "stdout",
     "output_type": "stream",
     "text": [
      "30\n",
      "k : 4\n",
      "1\n",
      "-24001.47961230772\n",
      "2914.5322647741223\n",
      "30\n",
      "K : 4\n",
      "[0 -3200 -100 -1200 -2000]\n"
     ]
    },
    {
     "name": "stderr",
     "output_type": "stream",
     "text": [
      "\u001b[36m\u001b[1m[ \u001b[22m\u001b[39m\u001b[36m\u001b[1mInfo: \u001b[22m\u001b[39m          30.9165302s: 30 seconds, 916 milliseconds\n",
      "\u001b[36m\u001b[1m[ \u001b[22m\u001b[39m\u001b[36m\u001b[1mInfo: \u001b[22m\u001b[39m started timer at: 2025-03-05T15:01:06.540\n"
     ]
    },
    {
     "name": "stdout",
     "output_type": "stream",
     "text": [
      "false\n"
     ]
    },
    {
     "name": "stderr",
     "output_type": "stream",
     "text": [
      "\u001b[36m\u001b[1m[ \u001b[22m\u001b[39m\u001b[36m\u001b[1mInfo: \u001b[22m\u001b[39m started timer at: 2025-03-05T15:01:12.835\n"
     ]
    },
    {
     "name": "stdout",
     "output_type": "stream",
     "text": [
      "30\n",
      "k : 4\n",
      "1\n",
      "-23578.229595809546\n",
      "2938.8683161207346\n",
      "30\n",
      "K : 6\n",
      "[0 -800 -100 -1200 -2000]\n"
     ]
    },
    {
     "name": "stderr",
     "output_type": "stream",
     "text": [
      "\u001b[36m\u001b[1m[ \u001b[22m\u001b[39m\u001b[36m\u001b[1mInfo: \u001b[22m\u001b[39m          27.4494286s: 27 seconds, 449 milliseconds\n",
      "\u001b[36m\u001b[1m[ \u001b[22m\u001b[39m\u001b[36m\u001b[1mInfo: \u001b[22m\u001b[39m started timer at: 2025-03-05T15:01:40.306\n"
     ]
    },
    {
     "name": "stdout",
     "output_type": "stream",
     "text": [
      "false\n"
     ]
    },
    {
     "name": "stderr",
     "output_type": "stream",
     "text": [
      "\u001b[36m\u001b[1m[ \u001b[22m\u001b[39m\u001b[36m\u001b[1mInfo: \u001b[22m\u001b[39m started timer at: 2025-03-05T15:01:46.683\n"
     ]
    },
    {
     "name": "stdout",
     "output_type": "stream",
     "text": [
      "30\n",
      "k : 6\n",
      "1\n",
      "-13866.559409385398\n",
      "1664.2127744632521\n",
      "30\n",
      "K : 6\n",
      "[0 -1200 -100 -1200 -2000]\n"
     ]
    },
    {
     "name": "stderr",
     "output_type": "stream",
     "text": [
      "\u001b[36m\u001b[1m[ \u001b[22m\u001b[39m\u001b[36m\u001b[1mInfo: \u001b[22m\u001b[39m          31.6643977s: 31 seconds, 664 milliseconds\n",
      "\u001b[36m\u001b[1m[ \u001b[22m\u001b[39m\u001b[36m\u001b[1mInfo: \u001b[22m\u001b[39m started timer at: 2025-03-05T15:02:18.372\n"
     ]
    },
    {
     "name": "stdout",
     "output_type": "stream",
     "text": [
      "false\n"
     ]
    },
    {
     "name": "stderr",
     "output_type": "stream",
     "text": [
      "\u001b[36m\u001b[1m[ \u001b[22m\u001b[39m\u001b[36m\u001b[1mInfo: \u001b[22m\u001b[39m started timer at: 2025-03-05T15:02:24.614\n"
     ]
    },
    {
     "name": "stdout",
     "output_type": "stream",
     "text": [
      "30\n",
      "k : 6\n",
      "1\n",
      "-16013.923798600703\n",
      "1892.0418235525892\n",
      "30\n",
      "K : 6\n",
      "[0 -1600 -100 -1200 -2000]\n"
     ]
    },
    {
     "name": "stderr",
     "output_type": "stream",
     "text": [
      "\u001b[36m\u001b[1m[ \u001b[22m\u001b[39m\u001b[36m\u001b[1mInfo: \u001b[22m\u001b[39m          30.5261851s: 30 seconds, 526 milliseconds\n",
      "\u001b[36m\u001b[1m[ \u001b[22m\u001b[39m\u001b[36m\u001b[1mInfo: \u001b[22m\u001b[39m started timer at: 2025-03-05T15:02:55.155\n"
     ]
    },
    {
     "name": "stdout",
     "output_type": "stream",
     "text": [
      "false\n"
     ]
    },
    {
     "name": "stderr",
     "output_type": "stream",
     "text": [
      "\u001b[36m\u001b[1m[ \u001b[22m\u001b[39m\u001b[36m\u001b[1mInfo: \u001b[22m\u001b[39m started timer at: 2025-03-05T15:03:01.501\n"
     ]
    },
    {
     "name": "stdout",
     "output_type": "stream",
     "text": [
      "30\n",
      "k : 6\n",
      "1\n",
      "-17622.874810598223\n",
      "2062.1976444625193\n",
      "30\n",
      "K : 6\n",
      "[0 -2000 -100 -1200 -2000]\n"
     ]
    },
    {
     "name": "stderr",
     "output_type": "stream",
     "text": [
      "\u001b[36m\u001b[1m[ \u001b[22m\u001b[39m\u001b[36m\u001b[1mInfo: \u001b[22m\u001b[39m          28.2643922s: 28 seconds, 264 milliseconds\n",
      "\u001b[36m\u001b[1m[ \u001b[22m\u001b[39m\u001b[36m\u001b[1mInfo: \u001b[22m\u001b[39m started timer at: 2025-03-05T15:03:29.782\n"
     ]
    },
    {
     "name": "stdout",
     "output_type": "stream",
     "text": [
      "false\n"
     ]
    },
    {
     "name": "stderr",
     "output_type": "stream",
     "text": [
      "\u001b[36m\u001b[1m[ \u001b[22m\u001b[39m\u001b[36m\u001b[1mInfo: \u001b[22m\u001b[39m started timer at: 2025-03-05T15:03:36.003\n"
     ]
    },
    {
     "name": "stdout",
     "output_type": "stream",
     "text": [
      "30\n",
      "k : 6\n",
      "1\n",
      "-19102.18228762296\n",
      "2227.841900787122\n",
      "30\n",
      "K : 6\n",
      "[0 -2400 -100 -1200 -2000]\n"
     ]
    },
    {
     "name": "stderr",
     "output_type": "stream",
     "text": [
      "\u001b[36m\u001b[1m[ \u001b[22m\u001b[39m\u001b[36m\u001b[1mInfo: \u001b[22m\u001b[39m          31.0558395s: 31 seconds, 55 milliseconds\n",
      "\u001b[36m\u001b[1m[ \u001b[22m\u001b[39m\u001b[36m\u001b[1mInfo: \u001b[22m\u001b[39m started timer at: 2025-03-05T15:04:07.064\n"
     ]
    },
    {
     "name": "stdout",
     "output_type": "stream",
     "text": [
      "false\n"
     ]
    },
    {
     "name": "stderr",
     "output_type": "stream",
     "text": [
      "\u001b[36m\u001b[1m[ \u001b[22m\u001b[39m\u001b[36m\u001b[1mInfo: \u001b[22m\u001b[39m started timer at: 2025-03-05T15:04:13.363\n"
     ]
    },
    {
     "name": "stdout",
     "output_type": "stream",
     "text": [
      "30\n",
      "k : 6\n",
      "1\n",
      "-20582.110322528562\n",
      "2397.3409442326065\n",
      "30\n",
      "K : 6\n",
      "[0 -2800 -100 -1200 -2000]\n"
     ]
    },
    {
     "name": "stderr",
     "output_type": "stream",
     "text": [
      "\u001b[36m\u001b[1m[ \u001b[22m\u001b[39m\u001b[36m\u001b[1mInfo: \u001b[22m\u001b[39m          29.7461552s: 29 seconds, 746 milliseconds\n",
      "\u001b[36m\u001b[1m[ \u001b[22m\u001b[39m\u001b[36m\u001b[1mInfo: \u001b[22m\u001b[39m started timer at: 2025-03-05T15:04:43.115\n"
     ]
    },
    {
     "name": "stdout",
     "output_type": "stream",
     "text": [
      "false\n"
     ]
    },
    {
     "name": "stderr",
     "output_type": "stream",
     "text": [
      "\u001b[36m\u001b[1m[ \u001b[22m\u001b[39m\u001b[36m\u001b[1mInfo: \u001b[22m\u001b[39m started timer at: 2025-03-05T15:04:49.396\n"
     ]
    },
    {
     "name": "stdout",
     "output_type": "stream",
     "text": [
      "30\n",
      "k : 6\n",
      "1\n",
      "-21808.150770255397\n",
      "2570.979566077671\n",
      "30\n",
      "K : 6\n",
      "[0 -3200 -100 -1200 -2000]\n"
     ]
    },
    {
     "name": "stderr",
     "output_type": "stream",
     "text": [
      "\u001b[36m\u001b[1m[ \u001b[22m\u001b[39m\u001b[36m\u001b[1mInfo: \u001b[22m\u001b[39m          28.6284564s: 28 seconds, 628 milliseconds\n",
      "\u001b[36m\u001b[1m[ \u001b[22m\u001b[39m\u001b[36m\u001b[1mInfo: \u001b[22m\u001b[39m started timer at: 2025-03-05T15:05:18.038\n"
     ]
    },
    {
     "name": "stdout",
     "output_type": "stream",
     "text": [
      "false\n"
     ]
    },
    {
     "name": "stderr",
     "output_type": "stream",
     "text": [
      "\u001b[36m\u001b[1m[ \u001b[22m\u001b[39m\u001b[36m\u001b[1mInfo: \u001b[22m\u001b[39m started timer at: 2025-03-05T15:05:24.320\n"
     ]
    },
    {
     "name": "stdout",
     "output_type": "stream",
     "text": [
      "30\n",
      "k : 6\n",
      "1\n",
      "-21567.79370842428\n",
      "2605.01482757384\n",
      "30\n",
      "K : 8\n",
      "[0 -800 -100 -1200 -2000]\n"
     ]
    },
    {
     "name": "stderr",
     "output_type": "stream",
     "text": [
      "\u001b[36m\u001b[1m[ \u001b[22m\u001b[39m\u001b[36m\u001b[1mInfo: \u001b[22m\u001b[39m          30.8327934s: 30 seconds, 832 milliseconds\n",
      "\u001b[36m\u001b[1m[ \u001b[22m\u001b[39m\u001b[36m\u001b[1mInfo: \u001b[22m\u001b[39m started timer at: 2025-03-05T15:05:55.166\n"
     ]
    },
    {
     "name": "stdout",
     "output_type": "stream",
     "text": [
      "false\n"
     ]
    },
    {
     "name": "stderr",
     "output_type": "stream",
     "text": [
      "\u001b[36m\u001b[1m[ \u001b[22m\u001b[39m\u001b[36m\u001b[1mInfo: \u001b[22m\u001b[39m started timer at: 2025-03-05T15:06:01.480\n"
     ]
    },
    {
     "name": "stdout",
     "output_type": "stream",
     "text": [
      "30\n",
      "k : 8\n",
      "1\n",
      "-13724.695320235462\n",
      "1671.1541756749311\n",
      "30\n",
      "K : 8\n",
      "[0 -1200 -100 -1200 -2000]\n"
     ]
    },
    {
     "name": "stderr",
     "output_type": "stream",
     "text": [
      "\u001b[36m\u001b[1m[ \u001b[22m\u001b[39m\u001b[36m\u001b[1mInfo: \u001b[22m\u001b[39m          29.9645741s: 29 seconds, 964 milliseconds\n",
      "\u001b[36m\u001b[1m[ \u001b[22m\u001b[39m\u001b[36m\u001b[1mInfo: \u001b[22m\u001b[39m started timer at: 2025-03-05T15:06:31.466\n"
     ]
    },
    {
     "name": "stdout",
     "output_type": "stream",
     "text": [
      "false\n"
     ]
    },
    {
     "name": "stderr",
     "output_type": "stream",
     "text": [
      "\u001b[36m\u001b[1m[ \u001b[22m\u001b[39m\u001b[36m\u001b[1mInfo: \u001b[22m\u001b[39m started timer at: 2025-03-05T15:06:37.782\n"
     ]
    },
    {
     "name": "stdout",
     "output_type": "stream",
     "text": [
      "30\n",
      "k : 8\n",
      "1\n",
      "-15702.220079342771\n",
      "1824.8615423184604\n",
      "30\n",
      "K : 8\n",
      "[0 -1600 -100 -1200 -2000]\n"
     ]
    },
    {
     "name": "stderr",
     "output_type": "stream",
     "text": [
      "\u001b[36m\u001b[1m[ \u001b[22m\u001b[39m\u001b[36m\u001b[1mInfo: \u001b[22m\u001b[39m          30.0714675s: 30 seconds, 71 milliseconds\n",
      "\u001b[36m\u001b[1m[ \u001b[22m\u001b[39m\u001b[36m\u001b[1mInfo: \u001b[22m\u001b[39m started timer at: 2025-03-05T15:07:07.864\n"
     ]
    },
    {
     "name": "stdout",
     "output_type": "stream",
     "text": [
      "false\n"
     ]
    },
    {
     "name": "stderr",
     "output_type": "stream",
     "text": [
      "\u001b[36m\u001b[1m[ \u001b[22m\u001b[39m\u001b[36m\u001b[1mInfo: \u001b[22m\u001b[39m started timer at: 2025-03-05T15:07:13.930\n"
     ]
    },
    {
     "name": "stdout",
     "output_type": "stream",
     "text": [
      "30\n",
      "k : 8\n",
      "1\n",
      "-17114.0745897444\n",
      "1927.1851171862972\n",
      "30\n",
      "K : 8\n",
      "[0 -2000 -100 -1200 -2000]\n"
     ]
    },
    {
     "name": "stderr",
     "output_type": "stream",
     "text": [
      "\u001b[36m\u001b[1m[ \u001b[22m\u001b[39m\u001b[36m\u001b[1mInfo: \u001b[22m\u001b[39m          31.0983903s: 31 seconds, 98 milliseconds\n",
      "\u001b[36m\u001b[1m[ \u001b[22m\u001b[39m\u001b[36m\u001b[1mInfo: \u001b[22m\u001b[39m started timer at: 2025-03-05T15:07:45.047\n"
     ]
    },
    {
     "name": "stdout",
     "output_type": "stream",
     "text": [
      "false\n"
     ]
    },
    {
     "name": "stderr",
     "output_type": "stream",
     "text": [
      "\u001b[36m\u001b[1m[ \u001b[22m\u001b[39m\u001b[36m\u001b[1mInfo: \u001b[22m\u001b[39m started timer at: 2025-03-05T15:07:51.424\n"
     ]
    },
    {
     "name": "stdout",
     "output_type": "stream",
     "text": [
      "30\n",
      "k : 8\n",
      "1\n",
      "-18437.59852241835\n",
      "2094.3435457543583\n",
      "30\n",
      "K : 8\n",
      "[0 -2400 -100 -1200 -2000]\n"
     ]
    },
    {
     "name": "stderr",
     "output_type": "stream",
     "text": [
      "\u001b[36m\u001b[1m[ \u001b[22m\u001b[39m\u001b[36m\u001b[1mInfo: \u001b[22m\u001b[39m          27.8573879s: 27 seconds, 857 milliseconds\n",
      "\u001b[36m\u001b[1m[ \u001b[22m\u001b[39m\u001b[36m\u001b[1mInfo: \u001b[22m\u001b[39m started timer at: 2025-03-05T15:08:19.300\n"
     ]
    },
    {
     "name": "stdout",
     "output_type": "stream",
     "text": [
      "false\n"
     ]
    },
    {
     "name": "stderr",
     "output_type": "stream",
     "text": [
      "\u001b[36m\u001b[1m[ \u001b[22m\u001b[39m\u001b[36m\u001b[1mInfo: \u001b[22m\u001b[39m started timer at: 2025-03-05T15:08:25.613\n"
     ]
    },
    {
     "name": "stdout",
     "output_type": "stream",
     "text": [
      "30\n",
      "k : 8\n",
      "1\n",
      "-19626.61464871749\n",
      "2220.4919787774797\n",
      "30\n",
      "K : 8\n",
      "[0 -2800 -100 -1200 -2000]\n"
     ]
    },
    {
     "name": "stderr",
     "output_type": "stream",
     "text": [
      "\u001b[36m\u001b[1m[ \u001b[22m\u001b[39m\u001b[36m\u001b[1mInfo: \u001b[22m\u001b[39m          31.2671628s: 31 seconds, 267 milliseconds\n",
      "\u001b[36m\u001b[1m[ \u001b[22m\u001b[39m\u001b[36m\u001b[1mInfo: \u001b[22m\u001b[39m started timer at: 2025-03-05T15:08:56.901\n"
     ]
    },
    {
     "name": "stdout",
     "output_type": "stream",
     "text": [
      "false\n"
     ]
    },
    {
     "name": "stderr",
     "output_type": "stream",
     "text": [
      "\u001b[36m\u001b[1m[ \u001b[22m\u001b[39m\u001b[36m\u001b[1mInfo: \u001b[22m\u001b[39m started timer at: 2025-03-05T15:09:03.282\n"
     ]
    },
    {
     "name": "stdout",
     "output_type": "stream",
     "text": [
      "30\n",
      "k : 8\n",
      "1\n",
      "-20674.16658875924\n",
      "2340.7465628223244\n",
      "30\n",
      "K : 8\n",
      "[0 -3200 -100 -1200 -2000]\n"
     ]
    },
    {
     "name": "stderr",
     "output_type": "stream",
     "text": [
      "\u001b[36m\u001b[1m[ \u001b[22m\u001b[39m\u001b[36m\u001b[1mInfo: \u001b[22m\u001b[39m          30.1939212s: 30 seconds, 193 milliseconds\n",
      "\u001b[36m\u001b[1m[ \u001b[22m\u001b[39m\u001b[36m\u001b[1mInfo: \u001b[22m\u001b[39m started timer at: 2025-03-05T15:09:33.480\n"
     ]
    },
    {
     "name": "stdout",
     "output_type": "stream",
     "text": [
      "false\n"
     ]
    },
    {
     "name": "stderr",
     "output_type": "stream",
     "text": [
      "\u001b[36m\u001b[1m[ \u001b[22m\u001b[39m\u001b[36m\u001b[1mInfo: \u001b[22m\u001b[39m started timer at: 2025-03-05T15:09:39.733\n"
     ]
    },
    {
     "name": "stdout",
     "output_type": "stream",
     "text": [
      "30\n",
      "k : 8\n",
      "1\n",
      "-20374.964955047966\n",
      "2370.8554633221192\n",
      "30\n",
      "K : 10\n",
      "[0 -800 -100 -1200 -2000]\n"
     ]
    },
    {
     "name": "stderr",
     "output_type": "stream",
     "text": [
      "\u001b[36m\u001b[1m[ \u001b[22m\u001b[39m\u001b[36m\u001b[1mInfo: \u001b[22m\u001b[39m          27.6170921s: 27 seconds, 617 milliseconds\n",
      "\u001b[36m\u001b[1m[ \u001b[22m\u001b[39m\u001b[36m\u001b[1mInfo: \u001b[22m\u001b[39m started timer at: 2025-03-05T15:10:07.369\n"
     ]
    },
    {
     "name": "stdout",
     "output_type": "stream",
     "text": [
      "false\n"
     ]
    },
    {
     "name": "stderr",
     "output_type": "stream",
     "text": [
      "\u001b[36m\u001b[1m[ \u001b[22m\u001b[39m\u001b[36m\u001b[1mInfo: \u001b[22m\u001b[39m started timer at: 2025-03-05T15:10:13.650\n"
     ]
    },
    {
     "name": "stdout",
     "output_type": "stream",
     "text": [
      "30\n",
      "k : 10\n",
      "1\n",
      "-13647.715944178342\n",
      "1703.9529557185251\n",
      "30\n",
      "K : 10\n",
      "[0 -1200 -100 -1200 -2000]\n"
     ]
    },
    {
     "name": "stderr",
     "output_type": "stream",
     "text": [
      "\u001b[36m\u001b[1m[ \u001b[22m\u001b[39m\u001b[36m\u001b[1mInfo: \u001b[22m\u001b[39m          32.0033265s: 32 seconds, 3 milliseconds\n",
      "\u001b[36m\u001b[1m[ \u001b[22m\u001b[39m\u001b[36m\u001b[1mInfo: \u001b[22m\u001b[39m started timer at: 2025-03-05T15:10:45.669\n"
     ]
    },
    {
     "name": "stdout",
     "output_type": "stream",
     "text": [
      "false\n"
     ]
    },
    {
     "name": "stderr",
     "output_type": "stream",
     "text": [
      "\u001b[36m\u001b[1m[ \u001b[22m\u001b[39m\u001b[36m\u001b[1mInfo: \u001b[22m\u001b[39m started timer at: 2025-03-05T15:10:51.888\n"
     ]
    },
    {
     "name": "stdout",
     "output_type": "stream",
     "text": [
      "30\n",
      "k : 10\n",
      "1\n",
      "-15543.274668840271\n",
      "1806.3128751746856\n",
      "30\n",
      "K : 10\n",
      "[0 -1600 -100 -1200 -2000]\n"
     ]
    },
    {
     "name": "stderr",
     "output_type": "stream",
     "text": [
      "\u001b[36m\u001b[1m[ \u001b[22m\u001b[39m\u001b[36m\u001b[1mInfo: \u001b[22m\u001b[39m          30.7924846s: 30 seconds, 792 milliseconds\n",
      "\u001b[36m\u001b[1m[ \u001b[22m\u001b[39m\u001b[36m\u001b[1mInfo: \u001b[22m\u001b[39m started timer at: 2025-03-05T15:11:22.696\n"
     ]
    },
    {
     "name": "stdout",
     "output_type": "stream",
     "text": [
      "false\n"
     ]
    },
    {
     "name": "stderr",
     "output_type": "stream",
     "text": [
      "\u001b[36m\u001b[1m[ \u001b[22m\u001b[39m\u001b[36m\u001b[1mInfo: \u001b[22m\u001b[39m started timer at: 2025-03-05T15:11:28.967\n"
     ]
    },
    {
     "name": "stdout",
     "output_type": "stream",
     "text": [
      "30\n",
      "k : 10\n",
      "1\n",
      "-16833.59973680821\n",
      "1895.1729165402353\n",
      "30\n",
      "K : 10\n",
      "[0 -2000 -100 -1200 -2000]\n"
     ]
    },
    {
     "name": "stderr",
     "output_type": "stream",
     "text": [
      "\u001b[36m\u001b[1m[ \u001b[22m\u001b[39m\u001b[36m\u001b[1mInfo: \u001b[22m\u001b[39m           28.569392s: 28 seconds, 569 milliseconds\n",
      "\u001b[36m\u001b[1m[ \u001b[22m\u001b[39m\u001b[36m\u001b[1mInfo: \u001b[22m\u001b[39m started timer at: 2025-03-05T15:11:57.548\n"
     ]
    },
    {
     "name": "stdout",
     "output_type": "stream",
     "text": [
      "false\n"
     ]
    },
    {
     "name": "stderr",
     "output_type": "stream",
     "text": [
      "\u001b[36m\u001b[1m[ \u001b[22m\u001b[39m\u001b[36m\u001b[1mInfo: \u001b[22m\u001b[39m started timer at: 2025-03-05T15:12:03.799\n"
     ]
    },
    {
     "name": "stdout",
     "output_type": "stream",
     "text": [
      "30\n",
      "k : 10\n",
      "1\n",
      "-17964.444552148645\n",
      "1973.3992727378295\n",
      "30\n",
      "K : 10\n",
      "[0 -2400 -100 -1200 -2000]\n"
     ]
    },
    {
     "name": "stderr",
     "output_type": "stream",
     "text": [
      "\u001b[36m\u001b[1m[ \u001b[22m\u001b[39m\u001b[36m\u001b[1mInfo: \u001b[22m\u001b[39m          30.9870588s: 30 seconds, 987 milliseconds\n",
      "\u001b[36m\u001b[1m[ \u001b[22m\u001b[39m\u001b[36m\u001b[1mInfo: \u001b[22m\u001b[39m started timer at: 2025-03-05T15:12:34.801\n"
     ]
    },
    {
     "name": "stdout",
     "output_type": "stream",
     "text": [
      "false\n"
     ]
    },
    {
     "name": "stderr",
     "output_type": "stream",
     "text": [
      "\u001b[36m\u001b[1m[ \u001b[22m\u001b[39m\u001b[36m\u001b[1mInfo: \u001b[22m\u001b[39m started timer at: 2025-03-05T15:12:41.113\n"
     ]
    },
    {
     "name": "stdout",
     "output_type": "stream",
     "text": [
      "30\n",
      "k : 10\n",
      "1\n",
      "-18983.67852012872\n",
      "2106.045675546964\n",
      "30\n",
      "K : 10\n",
      "[0 -2800 -100 -1200 -2000]\n"
     ]
    },
    {
     "name": "stderr",
     "output_type": "stream",
     "text": [
      "\u001b[36m\u001b[1m[ \u001b[22m\u001b[39m\u001b[36m\u001b[1mInfo: \u001b[22m\u001b[39m          29.8876009s: 29 seconds, 887 milliseconds\n",
      "\u001b[36m\u001b[1m[ \u001b[22m\u001b[39m\u001b[36m\u001b[1mInfo: \u001b[22m\u001b[39m started timer at: 2025-03-05T15:13:11.022\n"
     ]
    },
    {
     "name": "stdout",
     "output_type": "stream",
     "text": [
      "false\n"
     ]
    },
    {
     "name": "stderr",
     "output_type": "stream",
     "text": [
      "\u001b[36m\u001b[1m[ \u001b[22m\u001b[39m\u001b[36m\u001b[1mInfo: \u001b[22m\u001b[39m started timer at: 2025-03-05T15:13:17.225\n"
     ]
    },
    {
     "name": "stdout",
     "output_type": "stream",
     "text": [
      "30\n",
      "k : 10\n",
      "1\n",
      "-19867.660918831356\n",
      "2213.3701073919274\n",
      "30\n",
      "K : 10\n",
      "[0 -3200 -100 -1200 -2000]\n"
     ]
    },
    {
     "name": "stderr",
     "output_type": "stream",
     "text": [
      "\u001b[36m\u001b[1m[ \u001b[22m\u001b[39m\u001b[36m\u001b[1mInfo: \u001b[22m\u001b[39m          28.6269663s: 28 seconds, 626 milliseconds\n",
      "\u001b[36m\u001b[1m[ \u001b[22m\u001b[39m\u001b[36m\u001b[1mInfo: \u001b[22m\u001b[39m started timer at: 2025-03-05T15:13:45.903\n"
     ]
    },
    {
     "name": "stdout",
     "output_type": "stream",
     "text": [
      "false\n"
     ]
    },
    {
     "name": "stderr",
     "output_type": "stream",
     "text": [
      "\u001b[36m\u001b[1m[ \u001b[22m\u001b[39m\u001b[36m\u001b[1mInfo: \u001b[22m\u001b[39m started timer at: 2025-03-05T15:13:52.179\n"
     ]
    },
    {
     "name": "stdout",
     "output_type": "stream",
     "text": [
      "30\n",
      "k : 10\n",
      "1\n",
      "-19642.862941288797\n",
      "2253.2063759857992\n",
      "30\n",
      "K : 12\n",
      "[0 -800 -100 -1200 -2000]\n"
     ]
    },
    {
     "name": "stderr",
     "output_type": "stream",
     "text": [
      "\u001b[36m\u001b[1m[ \u001b[22m\u001b[39m\u001b[36m\u001b[1mInfo: \u001b[22m\u001b[39m          29.0732921s: 29 seconds, 73 milliseconds\n",
      "\u001b[36m\u001b[1m[ \u001b[22m\u001b[39m\u001b[36m\u001b[1mInfo: \u001b[22m\u001b[39m started timer at: 2025-03-05T15:14:21.278\n"
     ]
    },
    {
     "name": "stdout",
     "output_type": "stream",
     "text": [
      "false\n"
     ]
    },
    {
     "name": "stderr",
     "output_type": "stream",
     "text": [
      "\u001b[36m\u001b[1m[ \u001b[22m\u001b[39m\u001b[36m\u001b[1mInfo: \u001b[22m\u001b[39m started timer at: 2025-03-05T15:14:27.309\n"
     ]
    },
    {
     "name": "stdout",
     "output_type": "stream",
     "text": [
      "30\n",
      "k : 12\n",
      "1\n",
      "-13552.649714380163\n",
      "1636.921098749037\n",
      "30\n",
      "K : 12\n",
      "[0 -1200 -100 -1200 -2000]\n"
     ]
    },
    {
     "name": "stderr",
     "output_type": "stream",
     "text": [
      "\u001b[36m\u001b[1m[ \u001b[22m\u001b[39m\u001b[36m\u001b[1mInfo: \u001b[22m\u001b[39m          29.4165673s: 29 seconds, 416 milliseconds\n",
      "\u001b[36m\u001b[1m[ \u001b[22m\u001b[39m\u001b[36m\u001b[1mInfo: \u001b[22m\u001b[39m started timer at: 2025-03-05T15:14:56.730\n"
     ]
    },
    {
     "name": "stdout",
     "output_type": "stream",
     "text": [
      "false\n"
     ]
    },
    {
     "name": "stderr",
     "output_type": "stream",
     "text": [
      "\u001b[36m\u001b[1m[ \u001b[22m\u001b[39m\u001b[36m\u001b[1mInfo: \u001b[22m\u001b[39m started timer at: 2025-03-05T15:15:02.990\n"
     ]
    },
    {
     "name": "stdout",
     "output_type": "stream",
     "text": [
      "30\n",
      "k : 12\n",
      "1\n",
      "-15394.792053408688\n",
      "1775.301614786651\n",
      "30\n",
      "K : 12\n",
      "[0 -1600 -100 -1200 -2000]\n"
     ]
    },
    {
     "name": "stderr",
     "output_type": "stream",
     "text": [
      "\u001b[36m\u001b[1m[ \u001b[22m\u001b[39m\u001b[36m\u001b[1mInfo: \u001b[22m\u001b[39m          29.1719793s: 29 seconds, 171 milliseconds\n",
      "\u001b[36m\u001b[1m[ \u001b[22m\u001b[39m\u001b[36m\u001b[1mInfo: \u001b[22m\u001b[39m started timer at: 2025-03-05T15:15:32.170\n"
     ]
    },
    {
     "name": "stdout",
     "output_type": "stream",
     "text": [
      "false\n"
     ]
    },
    {
     "name": "stderr",
     "output_type": "stream",
     "text": [
      "\u001b[36m\u001b[1m[ \u001b[22m\u001b[39m\u001b[36m\u001b[1mInfo: \u001b[22m\u001b[39m started timer at: 2025-03-05T15:15:38.420\n"
     ]
    },
    {
     "name": "stdout",
     "output_type": "stream",
     "text": [
      "30\n",
      "k : 12\n",
      "1\n",
      "-16648.87038565621\n",
      "1844.532379278645\n",
      "30\n",
      "K : 12\n",
      "[0 -2000 -100 -1200 -2000]\n"
     ]
    },
    {
     "name": "stderr",
     "output_type": "stream",
     "text": [
      "\u001b[36m\u001b[1m[ \u001b[22m\u001b[39m\u001b[36m\u001b[1mInfo: \u001b[22m\u001b[39m          30.6800038s: 30 seconds, 680 milliseconds\n",
      "\u001b[36m\u001b[1m[ \u001b[22m\u001b[39m\u001b[36m\u001b[1mInfo: \u001b[22m\u001b[39m started timer at: 2025-03-05T15:16:09.110\n"
     ]
    },
    {
     "name": "stdout",
     "output_type": "stream",
     "text": [
      "false\n"
     ]
    },
    {
     "name": "stderr",
     "output_type": "stream",
     "text": [
      "\u001b[36m\u001b[1m[ \u001b[22m\u001b[39m\u001b[36m\u001b[1mInfo: \u001b[22m\u001b[39m started timer at: 2025-03-05T15:16:15.294\n"
     ]
    },
    {
     "name": "stdout",
     "output_type": "stream",
     "text": [
      "30\n",
      "k : 12\n",
      "1\n",
      "-17665.7044010903\n",
      "1961.0004024312798\n",
      "30\n",
      "K : 12\n",
      "[0 -2400 -100 -1200 -2000]\n"
     ]
    },
    {
     "name": "stderr",
     "output_type": "stream",
     "text": [
      "\u001b[36m\u001b[1m[ \u001b[22m\u001b[39m\u001b[36m\u001b[1mInfo: \u001b[22m\u001b[39m          28.5468894s: 28 seconds, 546 milliseconds\n",
      "\u001b[36m\u001b[1m[ \u001b[22m\u001b[39m\u001b[36m\u001b[1mInfo: \u001b[22m\u001b[39m started timer at: 2025-03-05T15:16:43.847\n"
     ]
    },
    {
     "name": "stdout",
     "output_type": "stream",
     "text": [
      "false\n"
     ]
    },
    {
     "name": "stderr",
     "output_type": "stream",
     "text": [
      "\u001b[36m\u001b[1m[ \u001b[22m\u001b[39m\u001b[36m\u001b[1mInfo: \u001b[22m\u001b[39m started timer at: 2025-03-05T15:16:50.079\n"
     ]
    },
    {
     "name": "stdout",
     "output_type": "stream",
     "text": [
      "30\n",
      "k : 12\n",
      "1\n",
      "-18582.797675248545\n",
      "2030.2370102885982\n",
      "30\n",
      "K : 12\n",
      "[0 -2800 -100 -1200 -2000]\n"
     ]
    },
    {
     "name": "stderr",
     "output_type": "stream",
     "text": [
      "\u001b[36m\u001b[1m[ \u001b[22m\u001b[39m\u001b[36m\u001b[1mInfo: \u001b[22m\u001b[39m          29.2788393s: 29 seconds, 278 milliseconds\n",
      "\u001b[36m\u001b[1m[ \u001b[22m\u001b[39m\u001b[36m\u001b[1mInfo: \u001b[22m\u001b[39m started timer at: 2025-03-05T15:17:19.364\n"
     ]
    },
    {
     "name": "stdout",
     "output_type": "stream",
     "text": [
      "false\n"
     ]
    },
    {
     "name": "stderr",
     "output_type": "stream",
     "text": [
      "\u001b[36m\u001b[1m[ \u001b[22m\u001b[39m\u001b[36m\u001b[1mInfo: \u001b[22m\u001b[39m started timer at: 2025-03-05T15:17:25.537\n"
     ]
    },
    {
     "name": "stdout",
     "output_type": "stream",
     "text": [
      "30\n",
      "k : 12\n",
      "1\n",
      "-19337.808541761166\n",
      "2166.1731684941133\n",
      "30\n",
      "K : 12\n",
      "[0 -3200 -100 -1200 -2000]\n"
     ]
    },
    {
     "name": "stderr",
     "output_type": "stream",
     "text": [
      "\u001b[36m\u001b[1m[ \u001b[22m\u001b[39m\u001b[36m\u001b[1mInfo: \u001b[22m\u001b[39m          29.8429285s: 29 seconds, 842 milliseconds\n",
      "\u001b[36m\u001b[1m[ \u001b[22m\u001b[39m\u001b[36m\u001b[1mInfo: \u001b[22m\u001b[39m started timer at: 2025-03-05T15:17:55.397\n"
     ]
    },
    {
     "name": "stdout",
     "output_type": "stream",
     "text": [
      "false\n"
     ]
    },
    {
     "name": "stderr",
     "output_type": "stream",
     "text": [
      "\u001b[36m\u001b[1m[ \u001b[22m\u001b[39m\u001b[36m\u001b[1mInfo: \u001b[22m\u001b[39m started timer at: 2025-03-05T15:18:01.586\n"
     ]
    },
    {
     "name": "stdout",
     "output_type": "stream",
     "text": [
      "30\n",
      "k : 12\n",
      "1\n",
      "-19107.876836278185\n",
      "2133.263523685511\n",
      "30\n",
      "K : 14\n",
      "[0 -800 -100 -1200 -2000]\n"
     ]
    },
    {
     "name": "stderr",
     "output_type": "stream",
     "text": [
      "\u001b[36m\u001b[1m[ \u001b[22m\u001b[39m\u001b[36m\u001b[1mInfo: \u001b[22m\u001b[39m          28.0907222s: 28 seconds, 90 milliseconds\n",
      "\u001b[36m\u001b[1m[ \u001b[22m\u001b[39m\u001b[36m\u001b[1mInfo: \u001b[22m\u001b[39m started timer at: 2025-03-05T15:18:29.696\n"
     ]
    },
    {
     "name": "stdout",
     "output_type": "stream",
     "text": [
      "false\n"
     ]
    },
    {
     "name": "stderr",
     "output_type": "stream",
     "text": [
      "\u001b[36m\u001b[1m[ \u001b[22m\u001b[39m\u001b[36m\u001b[1mInfo: \u001b[22m\u001b[39m started timer at: 2025-03-05T15:18:35.951\n"
     ]
    },
    {
     "name": "stdout",
     "output_type": "stream",
     "text": [
      "30\n",
      "k : 14\n",
      "1\n",
      "-13503.751725691598\n",
      "1624.5977624061356\n",
      "30\n",
      "K : 14\n",
      "[0 -1200 -100 -1200 -2000]\n"
     ]
    },
    {
     "name": "stderr",
     "output_type": "stream",
     "text": [
      "\u001b[36m\u001b[1m[ \u001b[22m\u001b[39m\u001b[36m\u001b[1mInfo: \u001b[22m\u001b[39m          30.1664981s: 30 seconds, 166 milliseconds\n",
      "\u001b[36m\u001b[1m[ \u001b[22m\u001b[39m\u001b[36m\u001b[1mInfo: \u001b[22m\u001b[39m started timer at: 2025-03-05T15:19:06.120\n"
     ]
    },
    {
     "name": "stdout",
     "output_type": "stream",
     "text": [
      "false\n"
     ]
    },
    {
     "name": "stderr",
     "output_type": "stream",
     "text": [
      "\u001b[36m\u001b[1m[ \u001b[22m\u001b[39m\u001b[36m\u001b[1mInfo: \u001b[22m\u001b[39m started timer at: 2025-03-05T15:19:12.387\n"
     ]
    },
    {
     "name": "stdout",
     "output_type": "stream",
     "text": [
      "30\n",
      "k : 14\n",
      "1\n",
      "-15323.737876387186\n",
      "1777.5289413021121\n",
      "30\n",
      "K : 14\n",
      "[0 -1600 -100 -1200 -2000]\n"
     ]
    },
    {
     "name": "stderr",
     "output_type": "stream",
     "text": [
      "\u001b[36m\u001b[1m[ \u001b[22m\u001b[39m\u001b[36m\u001b[1mInfo: \u001b[22m\u001b[39m          30.6844997s: 30 seconds, 684 milliseconds\n",
      "\u001b[36m\u001b[1m[ \u001b[22m\u001b[39m\u001b[36m\u001b[1mInfo: \u001b[22m\u001b[39m started timer at: 2025-03-05T15:19:43.083\n"
     ]
    },
    {
     "name": "stdout",
     "output_type": "stream",
     "text": [
      "false\n"
     ]
    },
    {
     "name": "stderr",
     "output_type": "stream",
     "text": [
      "\u001b[36m\u001b[1m[ \u001b[22m\u001b[39m\u001b[36m\u001b[1mInfo: \u001b[22m\u001b[39m started timer at: 2025-03-05T15:19:49.403\n"
     ]
    },
    {
     "name": "stdout",
     "output_type": "stream",
     "text": [
      "30\n",
      "k : 14\n",
      "1\n",
      "-16537.83172201627\n",
      "1838.392169332334\n",
      "30\n",
      "K : 14\n",
      "[0 -2000 -100 -1200 -2000]\n"
     ]
    },
    {
     "name": "stderr",
     "output_type": "stream",
     "text": [
      "\u001b[36m\u001b[1m[ \u001b[22m\u001b[39m\u001b[36m\u001b[1mInfo: \u001b[22m\u001b[39m          27.6645507s: 27 seconds, 664 milliseconds\n",
      "\u001b[36m\u001b[1m[ \u001b[22m\u001b[39m\u001b[36m\u001b[1mInfo: \u001b[22m\u001b[39m started timer at: 2025-03-05T15:20:17.077\n"
     ]
    },
    {
     "name": "stdout",
     "output_type": "stream",
     "text": [
      "false\n"
     ]
    },
    {
     "name": "stderr",
     "output_type": "stream",
     "text": [
      "\u001b[36m\u001b[1m[ \u001b[22m\u001b[39m\u001b[36m\u001b[1mInfo: \u001b[22m\u001b[39m started timer at: 2025-03-05T15:20:23.374\n"
     ]
    },
    {
     "name": "stdout",
     "output_type": "stream",
     "text": [
      "30\n",
      "k : 14\n",
      "1\n",
      "-17487.394024610196\n",
      "1916.9442122754958\n",
      "30\n",
      "K : 14\n",
      "[0 -2400 -100 -1200 -2000]\n"
     ]
    },
    {
     "name": "stderr",
     "output_type": "stream",
     "text": [
      "\u001b[36m\u001b[1m[ \u001b[22m\u001b[39m\u001b[36m\u001b[1mInfo: \u001b[22m\u001b[39m          30.8395756s: 30 seconds, 839 milliseconds\n",
      "\u001b[36m\u001b[1m[ \u001b[22m\u001b[39m\u001b[36m\u001b[1mInfo: \u001b[22m\u001b[39m started timer at: 2025-03-05T15:20:54.239\n"
     ]
    },
    {
     "name": "stdout",
     "output_type": "stream",
     "text": [
      "false\n"
     ]
    },
    {
     "name": "stderr",
     "output_type": "stream",
     "text": [
      "\u001b[36m\u001b[1m[ \u001b[22m\u001b[39m\u001b[36m\u001b[1mInfo: \u001b[22m\u001b[39m started timer at: 2025-03-05T15:21:00.424\n"
     ]
    },
    {
     "name": "stdout",
     "output_type": "stream",
     "text": [
      "30\n",
      "k : 14\n",
      "1\n",
      "-18250.446587696744\n",
      "1967.6644256086654\n",
      "30\n",
      "K : 14\n",
      "[0 -2800 -100 -1200 -2000]\n"
     ]
    },
    {
     "name": "stderr",
     "output_type": "stream",
     "text": [
      "\u001b[36m\u001b[1m[ \u001b[22m\u001b[39m\u001b[36m\u001b[1mInfo: \u001b[22m\u001b[39m          30.0159937s: 30 seconds, 15 milliseconds\n",
      "\u001b[36m\u001b[1m[ \u001b[22m\u001b[39m\u001b[36m\u001b[1mInfo: \u001b[22m\u001b[39m started timer at: 2025-03-05T15:21:30.448\n"
     ]
    },
    {
     "name": "stdout",
     "output_type": "stream",
     "text": [
      "false\n"
     ]
    },
    {
     "name": "stderr",
     "output_type": "stream",
     "text": [
      "\u001b[36m\u001b[1m[ \u001b[22m\u001b[39m\u001b[36m\u001b[1mInfo: \u001b[22m\u001b[39m started timer at: 2025-03-05T15:21:36.363\n"
     ]
    },
    {
     "name": "stdout",
     "output_type": "stream",
     "text": [
      "30\n",
      "k : 14\n",
      "1\n",
      "-18904.482351274724\n",
      "2064.7128819040754\n",
      "30\n",
      "K : 14\n",
      "[0 -3200 -100 -1200 -2000]\n"
     ]
    },
    {
     "name": "stderr",
     "output_type": "stream",
     "text": [
      "\u001b[36m\u001b[1m[ \u001b[22m\u001b[39m\u001b[36m\u001b[1mInfo: \u001b[22m\u001b[39m          27.2754884s: 27 seconds, 275 milliseconds\n",
      "\u001b[36m\u001b[1m[ \u001b[22m\u001b[39m\u001b[36m\u001b[1mInfo: \u001b[22m\u001b[39m started timer at: 2025-03-05T15:22:03.658\n"
     ]
    },
    {
     "name": "stdout",
     "output_type": "stream",
     "text": [
      "false\n"
     ]
    },
    {
     "name": "stderr",
     "output_type": "stream",
     "text": [
      "\u001b[36m\u001b[1m[ \u001b[22m\u001b[39m\u001b[36m\u001b[1mInfo: \u001b[22m\u001b[39m started timer at: 2025-03-05T15:22:09.955\n"
     ]
    },
    {
     "name": "stdout",
     "output_type": "stream",
     "text": [
      "30\n",
      "k : 14\n",
      "1\n",
      "-18686.90198530174\n",
      "2065.8345584252233\n",
      "40\n",
      "K : 2\n",
      "[0 -800 -100 -1200 -2000]\n"
     ]
    },
    {
     "name": "stderr",
     "output_type": "stream",
     "text": [
      "\u001b[36m\u001b[1m[ \u001b[22m\u001b[39m\u001b[36m\u001b[1mInfo: \u001b[22m\u001b[39m          30.3284924s: 30 seconds, 328 milliseconds\n",
      "\u001b[36m\u001b[1m[ \u001b[22m\u001b[39m\u001b[36m\u001b[1mInfo: \u001b[22m\u001b[39m started timer at: 2025-03-05T15:22:40.300\n"
     ]
    },
    {
     "name": "stdout",
     "output_type": "stream",
     "text": [
      "false\n"
     ]
    },
    {
     "name": "stderr",
     "output_type": "stream",
     "text": [
      "\u001b[36m\u001b[1m[ \u001b[22m\u001b[39m\u001b[36m\u001b[1mInfo: \u001b[22m\u001b[39m started timer at: 2025-03-05T15:22:46.867\n"
     ]
    },
    {
     "name": "stdout",
     "output_type": "stream",
     "text": [
      "40\n",
      "k : 2\n",
      "1\n",
      "-20205.031816965962\n",
      "2578.102668695422\n",
      "40\n",
      "K : 2\n",
      "[0 -1200 -100 -1200 -2000]\n"
     ]
    },
    {
     "name": "stderr",
     "output_type": "stream",
     "text": [
      "\u001b[36m\u001b[1m[ \u001b[22m\u001b[39m\u001b[36m\u001b[1mInfo: \u001b[22m\u001b[39m          40.6945564s: 40 seconds, 694 milliseconds\n",
      "\u001b[36m\u001b[1m[ \u001b[22m\u001b[39m\u001b[36m\u001b[1mInfo: \u001b[22m\u001b[39m started timer at: 2025-03-05T15:23:27.573\n"
     ]
    },
    {
     "name": "stdout",
     "output_type": "stream",
     "text": [
      "false\n"
     ]
    },
    {
     "name": "stderr",
     "output_type": "stream",
     "text": [
      "\u001b[36m\u001b[1m[ \u001b[22m\u001b[39m\u001b[36m\u001b[1mInfo: \u001b[22m\u001b[39m started timer at: 2025-03-05T15:23:33.868\n"
     ]
    },
    {
     "name": "stdout",
     "output_type": "stream",
     "text": [
      "40\n",
      "k : 2\n",
      "1\n",
      "-24072.151049078322\n",
      "2923.1136104251937\n",
      "40\n",
      "K : 2\n",
      "[0 -1600 -100 -1200 -2000]\n"
     ]
    },
    {
     "name": "stderr",
     "output_type": "stream",
     "text": [
      "\u001b[36m\u001b[1m[ \u001b[22m\u001b[39m\u001b[36m\u001b[1mInfo: \u001b[22m\u001b[39m          38.2465121s: 38 seconds, 246 milliseconds\n",
      "\u001b[36m\u001b[1m[ \u001b[22m\u001b[39m\u001b[36m\u001b[1mInfo: \u001b[22m\u001b[39m started timer at: 2025-03-05T15:24:12.122\n"
     ]
    },
    {
     "name": "stdout",
     "output_type": "stream",
     "text": [
      "false\n"
     ]
    },
    {
     "name": "stderr",
     "output_type": "stream",
     "text": [
      "\u001b[36m\u001b[1m[ \u001b[22m\u001b[39m\u001b[36m\u001b[1mInfo: \u001b[22m\u001b[39m started timer at: 2025-03-05T15:24:18.422\n"
     ]
    },
    {
     "name": "stdout",
     "output_type": "stream",
     "text": [
      "40\n",
      "k : 2\n",
      "1\n",
      "-27263.977160756112\n",
      "3223.1208051452095\n",
      "40\n",
      "K : 2\n",
      "[0 -2000 -100 -1200 -2000]\n"
     ]
    },
    {
     "name": "stderr",
     "output_type": "stream",
     "text": [
      "\u001b[36m\u001b[1m[ \u001b[22m\u001b[39m\u001b[36m\u001b[1mInfo: \u001b[22m\u001b[39m          41.4381517s: 41 seconds, 438 milliseconds\n",
      "\u001b[36m\u001b[1m[ \u001b[22m\u001b[39m\u001b[36m\u001b[1mInfo: \u001b[22m\u001b[39m started timer at: 2025-03-05T15:24:59.882\n"
     ]
    },
    {
     "name": "stdout",
     "output_type": "stream",
     "text": [
      "false\n"
     ]
    },
    {
     "name": "stderr",
     "output_type": "stream",
     "text": [
      "\u001b[36m\u001b[1m[ \u001b[22m\u001b[39m\u001b[36m\u001b[1mInfo: \u001b[22m\u001b[39m started timer at: 2025-03-05T15:25:06.125\n"
     ]
    },
    {
     "name": "stdout",
     "output_type": "stream",
     "text": [
      "40\n",
      "k : 2\n",
      "1\n",
      "-30307.30916734991\n",
      "3487.1110687646087\n",
      "40\n",
      "K : 2\n",
      "[0 -2400 -100 -1200 -2000]\n"
     ]
    },
    {
     "name": "stderr",
     "output_type": "stream",
     "text": [
      "\u001b[36m\u001b[1m[ \u001b[22m\u001b[39m\u001b[36m\u001b[1mInfo: \u001b[22m\u001b[39m          40.5349229s: 40 seconds, 534 milliseconds\n",
      "\u001b[36m\u001b[1m[ \u001b[22m\u001b[39m\u001b[36m\u001b[1mInfo: \u001b[22m\u001b[39m started timer at: 2025-03-05T15:25:46.664\n"
     ]
    },
    {
     "name": "stdout",
     "output_type": "stream",
     "text": [
      "false\n"
     ]
    },
    {
     "name": "stderr",
     "output_type": "stream",
     "text": [
      "\u001b[36m\u001b[1m[ \u001b[22m\u001b[39m\u001b[36m\u001b[1mInfo: \u001b[22m\u001b[39m started timer at: 2025-03-05T15:25:52.965\n"
     ]
    },
    {
     "name": "stdout",
     "output_type": "stream",
     "text": [
      "40\n",
      "k : 2\n",
      "1\n",
      "-32853.75042119668\n",
      "3697.3773693985568\n",
      "40\n",
      "K : 2\n",
      "[0 -2800 -100 -1200 -2000]\n"
     ]
    },
    {
     "name": "stderr",
     "output_type": "stream",
     "text": [
      "\u001b[36m\u001b[1m[ \u001b[22m\u001b[39m\u001b[36m\u001b[1mInfo: \u001b[22m\u001b[39m          37.6552594s: 37 seconds, 655 milliseconds\n",
      "\u001b[36m\u001b[1m[ \u001b[22m\u001b[39m\u001b[36m\u001b[1mInfo: \u001b[22m\u001b[39m started timer at: 2025-03-05T15:26:30.639\n"
     ]
    },
    {
     "name": "stdout",
     "output_type": "stream",
     "text": [
      "false\n"
     ]
    },
    {
     "name": "stderr",
     "output_type": "stream",
     "text": [
      "\u001b[36m\u001b[1m[ \u001b[22m\u001b[39m\u001b[36m\u001b[1mInfo: \u001b[22m\u001b[39m started timer at: 2025-03-05T15:26:36.866\n"
     ]
    },
    {
     "name": "stdout",
     "output_type": "stream",
     "text": [
      "40\n",
      "k : 2\n",
      "1\n",
      "-35077.24790414574\n",
      "3817.4257365091667\n",
      "40\n",
      "K : 2\n",
      "[0 -3200 -100 -1200 -2000]\n"
     ]
    },
    {
     "name": "stderr",
     "output_type": "stream",
     "text": [
      "\u001b[36m\u001b[1m[ \u001b[22m\u001b[39m\u001b[36m\u001b[1mInfo: \u001b[22m\u001b[39m          41.5487817s: 41 seconds, 548 milliseconds\n",
      "\u001b[36m\u001b[1m[ \u001b[22m\u001b[39m\u001b[36m\u001b[1mInfo: \u001b[22m\u001b[39m started timer at: 2025-03-05T15:27:18.441\n"
     ]
    },
    {
     "name": "stdout",
     "output_type": "stream",
     "text": [
      "false\n"
     ]
    },
    {
     "name": "stderr",
     "output_type": "stream",
     "text": [
      "\u001b[36m\u001b[1m[ \u001b[22m\u001b[39m\u001b[36m\u001b[1mInfo: \u001b[22m\u001b[39m started timer at: 2025-03-05T15:27:24.781\n"
     ]
    },
    {
     "name": "stdout",
     "output_type": "stream",
     "text": [
      "40\n",
      "k : 2\n",
      "1\n",
      "-37101.817244393154\n",
      "3963.595646772679\n",
      "40"
     ]
    },
    {
     "name": "stderr",
     "output_type": "stream",
     "text": [
      "\u001b[36m\u001b[1m[ \u001b[22m\u001b[39m\u001b[36m\u001b[1mInfo: \u001b[22m\u001b[39m          40.7126977s: 40 seconds, 712 milliseconds\n",
      "\u001b[36m\u001b[1m[ \u001b[22m\u001b[39m\u001b[36m\u001b[1mInfo: \u001b[22m\u001b[39m started timer at: 2025-03-05T15:28:05.496\n"
     ]
    },
    {
     "name": "stdout",
     "output_type": "stream",
     "text": [
      "\n",
      "K : 4\n",
      "[0 -800 -100 -1200 -2000]\n",
      "false\n"
     ]
    },
    {
     "name": "stderr",
     "output_type": "stream",
     "text": [
      "\u001b[36m\u001b[1m[ \u001b[22m\u001b[39m\u001b[36m\u001b[1mInfo: \u001b[22m\u001b[39m started timer at: 2025-03-05T15:28:11.790\n"
     ]
    },
    {
     "name": "stdout",
     "output_type": "stream",
     "text": [
      "40\n",
      "k : 4\n",
      "1\n",
      "-17338.66099401409\n",
      "1931.839003792628\n",
      "40\n",
      "K : 4\n",
      "[0 -1200 -100 -1200 -2000]\n"
     ]
    },
    {
     "name": "stderr",
     "output_type": "stream",
     "text": [
      "\u001b[36m\u001b[1m[ \u001b[22m\u001b[39m\u001b[36m\u001b[1mInfo: \u001b[22m\u001b[39m          37.4829941s: 37 seconds, 482 milliseconds\n",
      "\u001b[36m\u001b[1m[ \u001b[22m\u001b[39m\u001b[36m\u001b[1mInfo: \u001b[22m\u001b[39m started timer at: 2025-03-05T15:28:49.302\n"
     ]
    },
    {
     "name": "stdout",
     "output_type": "stream",
     "text": [
      "false\n"
     ]
    },
    {
     "name": "stderr",
     "output_type": "stream",
     "text": [
      "\u001b[36m\u001b[1m[ \u001b[22m\u001b[39m\u001b[36m\u001b[1mInfo: \u001b[22m\u001b[39m started timer at: 2025-03-05T15:28:55.853\n"
     ]
    },
    {
     "name": "stdout",
     "output_type": "stream",
     "text": [
      "40\n",
      "k : 4\n",
      "1\n",
      "-20335.66332988726\n",
      "2253.3946317621026\n",
      "40\n",
      "K : 4\n",
      "[0 -1600 -100 -1200 -2000]\n"
     ]
    },
    {
     "name": "stderr",
     "output_type": "stream",
     "text": [
      "\u001b[36m\u001b[1m[ \u001b[22m\u001b[39m\u001b[36m\u001b[1mInfo: \u001b[22m\u001b[39m          42.0608551s: 42 seconds, 60 milliseconds\n",
      "\u001b[36m\u001b[1m[ \u001b[22m\u001b[39m\u001b[36m\u001b[1mInfo: \u001b[22m\u001b[39m started timer at: 2025-03-05T15:29:37.930\n"
     ]
    },
    {
     "name": "stdout",
     "output_type": "stream",
     "text": [
      "false\n"
     ]
    },
    {
     "name": "stderr",
     "output_type": "stream",
     "text": [
      "\u001b[36m\u001b[1m[ \u001b[22m\u001b[39m\u001b[36m\u001b[1mInfo: \u001b[22m\u001b[39m started timer at: 2025-03-05T15:29:44.299\n"
     ]
    },
    {
     "name": "stdout",
     "output_type": "stream",
     "text": [
      "40\n",
      "k : 4\n",
      "1\n",
      "-22909.563304527892\n",
      "2491.230202448652\n",
      "40\n",
      "K : 4\n",
      "[0 -2000 -100 -1200 -2000]\n"
     ]
    },
    {
     "name": "stderr",
     "output_type": "stream",
     "text": [
      "\u001b[36m\u001b[1m[ \u001b[22m\u001b[39m\u001b[36m\u001b[1mInfo: \u001b[22m\u001b[39m          41.0812767s: 41 seconds, 81 milliseconds\n",
      "\u001b[36m\u001b[1m[ \u001b[22m\u001b[39m\u001b[36m\u001b[1mInfo: \u001b[22m\u001b[39m started timer at: 2025-03-05T15:30:25.395\n"
     ]
    },
    {
     "name": "stdout",
     "output_type": "stream",
     "text": [
      "false\n"
     ]
    },
    {
     "name": "stderr",
     "output_type": "stream",
     "text": [
      "\u001b[36m\u001b[1m[ \u001b[22m\u001b[39m\u001b[36m\u001b[1mInfo: \u001b[22m\u001b[39m started timer at: 2025-03-05T15:30:31.724\n"
     ]
    },
    {
     "name": "stdout",
     "output_type": "stream",
     "text": [
      "40\n",
      "k : 4\n",
      "1\n",
      "-25213.568631440776\n",
      "2743.373084523928\n",
      "40\n",
      "K : 4\n",
      "[0 -2400 -100 -1200 -2000]\n"
     ]
    },
    {
     "name": "stderr",
     "output_type": "stream",
     "text": [
      "\u001b[36m\u001b[1m[ \u001b[22m\u001b[39m\u001b[36m\u001b[1mInfo: \u001b[22m\u001b[39m          37.9205189s: 37 seconds, 920 milliseconds\n",
      "\u001b[36m\u001b[1m[ \u001b[22m\u001b[39m\u001b[36m\u001b[1mInfo: \u001b[22m\u001b[39m started timer at: 2025-03-05T15:31:09.667\n"
     ]
    },
    {
     "name": "stdout",
     "output_type": "stream",
     "text": [
      "false\n"
     ]
    },
    {
     "name": "stderr",
     "output_type": "stream",
     "text": [
      "\u001b[36m\u001b[1m[ \u001b[22m\u001b[39m\u001b[36m\u001b[1mInfo: \u001b[22m\u001b[39m started timer at: 2025-03-05T15:31:15.997\n"
     ]
    },
    {
     "name": "stdout",
     "output_type": "stream",
     "text": [
      "40\n",
      "k : 4\n",
      "1\n",
      "-27313.81183164408\n",
      "2950.5048483547907\n",
      "40\n",
      "K : 4\n",
      "[0 -2800 -100 -1200 -2000]\n"
     ]
    },
    {
     "name": "stderr",
     "output_type": "stream",
     "text": [
      "\u001b[36m\u001b[1m[ \u001b[22m\u001b[39m\u001b[36m\u001b[1mInfo: \u001b[22m\u001b[39m          41.5558552s: 41 seconds, 555 milliseconds\n",
      "\u001b[36m\u001b[1m[ \u001b[22m\u001b[39m\u001b[36m\u001b[1mInfo: \u001b[22m\u001b[39m started timer at: 2025-03-05T15:31:57.579\n"
     ]
    },
    {
     "name": "stdout",
     "output_type": "stream",
     "text": [
      "false\n"
     ]
    },
    {
     "name": "stderr",
     "output_type": "stream",
     "text": [
      "\u001b[36m\u001b[1m[ \u001b[22m\u001b[39m\u001b[36m\u001b[1mInfo: \u001b[22m\u001b[39m started timer at: 2025-03-05T15:32:03.958\n"
     ]
    },
    {
     "name": "stdout",
     "output_type": "stream",
     "text": [
      "40\n",
      "k : 4\n",
      "1\n",
      "-29208.149578446664\n",
      "3188.3089158395874\n",
      "40\n",
      "K : 4\n",
      "[0 -3200 -100 -1200 -2000]\n"
     ]
    },
    {
     "name": "stderr",
     "output_type": "stream",
     "text": [
      "\u001b[36m\u001b[1m[ \u001b[22m\u001b[39m\u001b[36m\u001b[1mInfo: \u001b[22m\u001b[39m          40.7568671s: 40 seconds, 756 milliseconds\n",
      "\u001b[36m\u001b[1m[ \u001b[22m\u001b[39m\u001b[36m\u001b[1mInfo: \u001b[22m\u001b[39m started timer at: 2025-03-05T15:32:44.730\n"
     ]
    },
    {
     "name": "stdout",
     "output_type": "stream",
     "text": [
      "false\n"
     ]
    },
    {
     "name": "stderr",
     "output_type": "stream",
     "text": [
      "\u001b[36m\u001b[1m[ \u001b[22m\u001b[39m\u001b[36m\u001b[1mInfo: \u001b[22m\u001b[39m started timer at: 2025-03-05T15:32:51.063\n"
     ]
    },
    {
     "name": "stdout",
     "output_type": "stream",
     "text": [
      "40\n",
      "k : 4\n",
      "1\n",
      "-31128.35468584193\n",
      "3373.70078837933\n",
      "40\n",
      "K : 6\n",
      "[0 -800 -100 -1200 -2000]\n"
     ]
    },
    {
     "name": "stderr",
     "output_type": "stream",
     "text": [
      "\u001b[36m\u001b[1m[ \u001b[22m\u001b[39m\u001b[36m\u001b[1mInfo: \u001b[22m\u001b[39m           38.268588s: 38 seconds, 268 milliseconds\n",
      "\u001b[36m\u001b[1m[ \u001b[22m\u001b[39m\u001b[36m\u001b[1mInfo: \u001b[22m\u001b[39m started timer at: 2025-03-05T15:33:29.361\n"
     ]
    },
    {
     "name": "stdout",
     "output_type": "stream",
     "text": [
      "false\n"
     ]
    },
    {
     "name": "stderr",
     "output_type": "stream",
     "text": [
      "\u001b[36m\u001b[1m[ \u001b[22m\u001b[39m\u001b[36m\u001b[1mInfo: \u001b[22m\u001b[39m started timer at: 2025-03-05T15:33:35.810\n"
     ]
    },
    {
     "name": "stdout",
     "output_type": "stream",
     "text": [
      "40\n",
      "k : 6\n",
      "1\n",
      "-16948.530194587325\n",
      "1813.6207219027344\n",
      "40\n",
      "K : 6\n",
      "[0 -1200 -100 -1200 -2000]\n"
     ]
    },
    {
     "name": "stderr",
     "output_type": "stream",
     "text": [
      "\u001b[36m\u001b[1m[ \u001b[22m\u001b[39m\u001b[36m\u001b[1mInfo: \u001b[22m\u001b[39m          39.3680344s: 39 seconds, 368 milliseconds\n",
      "\u001b[36m\u001b[1m[ \u001b[22m\u001b[39m\u001b[36m\u001b[1mInfo: \u001b[22m\u001b[39m started timer at: 2025-03-05T15:34:15.199\n"
     ]
    },
    {
     "name": "stdout",
     "output_type": "stream",
     "text": [
      "false\n"
     ]
    },
    {
     "name": "stderr",
     "output_type": "stream",
     "text": [
      "\u001b[36m\u001b[1m[ \u001b[22m\u001b[39m\u001b[36m\u001b[1mInfo: \u001b[22m\u001b[39m started timer at: 2025-03-05T15:34:21.402\n"
     ]
    },
    {
     "name": "stdout",
     "output_type": "stream",
     "text": [
      "40\n",
      "k : 6\n",
      "1\n",
      "-19568.111085844226\n",
      "2060.38995624739\n",
      "40\n",
      "K : 6\n",
      "[0 -1600 -100 -1200 -2000]\n"
     ]
    },
    {
     "name": "stderr",
     "output_type": "stream",
     "text": [
      "\u001b[36m\u001b[1m[ \u001b[22m\u001b[39m\u001b[36m\u001b[1mInfo: \u001b[22m\u001b[39m          39.6543124s: 39 seconds, 654 milliseconds\n",
      "\u001b[36m\u001b[1m[ \u001b[22m\u001b[39m\u001b[36m\u001b[1mInfo: \u001b[22m\u001b[39m started timer at: 2025-03-05T15:35:01.061\n"
     ]
    },
    {
     "name": "stdout",
     "output_type": "stream",
     "text": [
      "false\n"
     ]
    },
    {
     "name": "stderr",
     "output_type": "stream",
     "text": [
      "\u001b[36m\u001b[1m[ \u001b[22m\u001b[39m\u001b[36m\u001b[1mInfo: \u001b[22m\u001b[39m started timer at: 2025-03-05T15:35:07.313\n"
     ]
    },
    {
     "name": "stdout",
     "output_type": "stream",
     "text": [
      "40\n",
      "k : 6\n",
      "1\n",
      "-21705.49740757603\n",
      "2254.8115282312783\n",
      "40\n",
      "K : 6\n",
      "[0 -2000 -100 -1200 -2000]\n"
     ]
    },
    {
     "name": "stderr",
     "output_type": "stream",
     "text": [
      "\u001b[36m\u001b[1m[ \u001b[22m\u001b[39m\u001b[36m\u001b[1mInfo: \u001b[22m\u001b[39m          36.5596163s: 36 seconds, 559 milliseconds\n",
      "\u001b[36m\u001b[1m[ \u001b[22m\u001b[39m\u001b[36m\u001b[1mInfo: \u001b[22m\u001b[39m started timer at: 2025-03-05T15:35:43.899\n"
     ]
    },
    {
     "name": "stdout",
     "output_type": "stream",
     "text": [
      "false\n"
     ]
    },
    {
     "name": "stderr",
     "output_type": "stream",
     "text": [
      "\u001b[36m\u001b[1m[ \u001b[22m\u001b[39m\u001b[36m\u001b[1mInfo: \u001b[22m\u001b[39m started timer at: 2025-03-05T15:35:50.365\n"
     ]
    },
    {
     "name": "stdout",
     "output_type": "stream",
     "text": [
      "40\n",
      "k : 6\n",
      "1\n",
      "-23644.900229061277\n",
      "2410.5287339701135\n",
      "40\n",
      "K : 6\n",
      "[0 -2400 -100 -1200 -2000]\n"
     ]
    },
    {
     "name": "stderr",
     "output_type": "stream",
     "text": [
      "\u001b[36m\u001b[1m[ \u001b[22m\u001b[39m\u001b[36m\u001b[1mInfo: \u001b[22m\u001b[39m           40.025542s: 40 seconds, 25 milliseconds\n",
      "\u001b[36m\u001b[1m[ \u001b[22m\u001b[39m\u001b[36m\u001b[1mInfo: \u001b[22m\u001b[39m started timer at: 2025-03-05T15:36:30.406\n"
     ]
    },
    {
     "name": "stdout",
     "output_type": "stream",
     "text": [
      "false\n"
     ]
    },
    {
     "name": "stderr",
     "output_type": "stream",
     "text": [
      "\u001b[36m\u001b[1m[ \u001b[22m\u001b[39m\u001b[36m\u001b[1mInfo: \u001b[22m\u001b[39m started timer at: 2025-03-05T15:36:36.766\n"
     ]
    },
    {
     "name": "stdout",
     "output_type": "stream",
     "text": [
      "40\n",
      "k : 6\n",
      "1\n",
      "-25253.950189623964\n",
      "2610.1745369072332\n",
      "40\n",
      "K : 6\n",
      "[0 -2800 -100 -1200 -2000]\n"
     ]
    },
    {
     "name": "stderr",
     "output_type": "stream",
     "text": [
      "\u001b[36m\u001b[1m[ \u001b[22m\u001b[39m\u001b[36m\u001b[1mInfo: \u001b[22m\u001b[39m          39.7522626s: 39 seconds, 752 milliseconds\n",
      "\u001b[36m\u001b[1m[ \u001b[22m\u001b[39m\u001b[36m\u001b[1mInfo: \u001b[22m\u001b[39m started timer at: 2025-03-05T15:37:16.543\n"
     ]
    },
    {
     "name": "stdout",
     "output_type": "stream",
     "text": [
      "false\n"
     ]
    },
    {
     "name": "stderr",
     "output_type": "stream",
     "text": [
      "\u001b[36m\u001b[1m[ \u001b[22m\u001b[39m\u001b[36m\u001b[1mInfo: \u001b[22m\u001b[39m started timer at: 2025-03-05T15:37:22.997\n"
     ]
    },
    {
     "name": "stdout",
     "output_type": "stream",
     "text": [
      "40\n",
      "k : 6\n",
      "1\n",
      "-26955.11694842253\n",
      "2783.022130585364\n",
      "40\n",
      "K : 6\n",
      "[0 -3200 -100 -1200 -2000]\n"
     ]
    },
    {
     "name": "stderr",
     "output_type": "stream",
     "text": [
      "\u001b[36m\u001b[1m[ \u001b[22m\u001b[39m\u001b[36m\u001b[1mInfo: \u001b[22m\u001b[39m          38.0677127s: 38 seconds, 67 milliseconds\n",
      "\u001b[36m\u001b[1m[ \u001b[22m\u001b[39m\u001b[36m\u001b[1mInfo: \u001b[22m\u001b[39m started timer at: 2025-03-05T15:38:01.081\n"
     ]
    },
    {
     "name": "stdout",
     "output_type": "stream",
     "text": [
      "false\n"
     ]
    },
    {
     "name": "stderr",
     "output_type": "stream",
     "text": [
      "\u001b[36m\u001b[1m[ \u001b[22m\u001b[39m\u001b[36m\u001b[1mInfo: \u001b[22m\u001b[39m started timer at: 2025-03-05T15:38:07.429\n"
     ]
    },
    {
     "name": "stdout",
     "output_type": "stream",
     "text": [
      "40\n",
      "k : 6\n",
      "1\n",
      "-28590.10422577593\n",
      "2972.351878531304\n",
      "40\n",
      "K : 8\n",
      "[0 -800 -100 -1200 -2000]\n"
     ]
    },
    {
     "name": "stderr",
     "output_type": "stream",
     "text": [
      "\u001b[36m\u001b[1m[ \u001b[22m\u001b[39m\u001b[36m\u001b[1mInfo: \u001b[22m\u001b[39m          38.8474906s: 38 seconds, 847 milliseconds\n",
      "\u001b[36m\u001b[1m[ \u001b[22m\u001b[39m\u001b[36m\u001b[1mInfo: \u001b[22m\u001b[39m started timer at: 2025-03-05T15:38:46.302\n"
     ]
    },
    {
     "name": "stdout",
     "output_type": "stream",
     "text": [
      "false\n"
     ]
    },
    {
     "name": "stderr",
     "output_type": "stream",
     "text": [
      "\u001b[36m\u001b[1m[ \u001b[22m\u001b[39m\u001b[36m\u001b[1mInfo: \u001b[22m\u001b[39m started timer at: 2025-03-05T15:38:52.626\n"
     ]
    },
    {
     "name": "stdout",
     "output_type": "stream",
     "text": [
      "40\n",
      "k : 8\n",
      "1\n",
      "-16780.731023955206\n",
      "1815.2033355334468\n",
      "40\n",
      "K : 8\n",
      "[0 -1200 -100 -1200 -2000]\n"
     ]
    },
    {
     "name": "stderr",
     "output_type": "stream",
     "text": [
      "\u001b[36m\u001b[1m[ \u001b[22m\u001b[39m\u001b[36m\u001b[1mInfo: \u001b[22m\u001b[39m          40.7868879s: 40 seconds, 786 milliseconds\n",
      "\u001b[36m\u001b[1m[ \u001b[22m\u001b[39m\u001b[36m\u001b[1mInfo: \u001b[22m\u001b[39m started timer at: 2025-03-05T15:39:33.440\n"
     ]
    },
    {
     "name": "stdout",
     "output_type": "stream",
     "text": [
      "false\n"
     ]
    },
    {
     "name": "stderr",
     "output_type": "stream",
     "text": [
      "\u001b[36m\u001b[1m[ \u001b[22m\u001b[39m\u001b[36m\u001b[1mInfo: \u001b[22m\u001b[39m started timer at: 2025-03-05T15:39:39.754\n"
     ]
    },
    {
     "name": "stdout",
     "output_type": "stream",
     "text": [
      "40\n",
      "k : 8\n",
      "1\n",
      "-19243.488855335705\n",
      "2008.020888500003\n",
      "40\n",
      "K : 8\n",
      "[0 -1600 -100 -1200 -2000]\n"
     ]
    },
    {
     "name": "stderr",
     "output_type": "stream",
     "text": [
      "\u001b[36m\u001b[1m[ \u001b[22m\u001b[39m\u001b[36m\u001b[1mInfo: \u001b[22m\u001b[39m          39.1242463s: 39 seconds, 124 milliseconds\n",
      "\u001b[36m\u001b[1m[ \u001b[22m\u001b[39m\u001b[36m\u001b[1mInfo: \u001b[22m\u001b[39m started timer at: 2025-03-05T15:40:18.892\n"
     ]
    },
    {
     "name": "stdout",
     "output_type": "stream",
     "text": [
      "false\n"
     ]
    },
    {
     "name": "stderr",
     "output_type": "stream",
     "text": [
      "\u001b[36m\u001b[1m[ \u001b[22m\u001b[39m\u001b[36m\u001b[1mInfo: \u001b[22m\u001b[39m started timer at: 2025-03-05T15:40:25.378\n"
     ]
    },
    {
     "name": "stdout",
     "output_type": "stream",
     "text": [
      "40\n",
      "k : 8\n",
      "1\n",
      "-21206.0007395396\n",
      "2147.1961876163327\n",
      "40\n",
      "K : 8\n",
      "[0 -2000 -100 -1200 -2000]\n"
     ]
    },
    {
     "name": "stderr",
     "output_type": "stream",
     "text": [
      "\u001b[36m\u001b[1m[ \u001b[22m\u001b[39m\u001b[36m\u001b[1mInfo: \u001b[22m\u001b[39m          38.3743267s: 38 seconds, 374 milliseconds\n",
      "\u001b[36m\u001b[1m[ \u001b[22m\u001b[39m\u001b[36m\u001b[1mInfo: \u001b[22m\u001b[39m started timer at: 2025-03-05T15:41:03.763\n"
     ]
    },
    {
     "name": "stdout",
     "output_type": "stream",
     "text": [
      "false\n"
     ]
    },
    {
     "name": "stderr",
     "output_type": "stream",
     "text": [
      "\u001b[36m\u001b[1m[ \u001b[22m\u001b[39m\u001b[36m\u001b[1mInfo: \u001b[22m\u001b[39m started timer at: 2025-03-05T15:41:10.029\n"
     ]
    },
    {
     "name": "stdout",
     "output_type": "stream",
     "text": [
      "40\n",
      "k : 8\n",
      "1\n",
      "-22864.26406018598\n",
      "2277.3194956653183\n",
      "40\n",
      "K : 8\n",
      "[0 -2400 -100 -1200 -2000]\n"
     ]
    },
    {
     "name": "stderr",
     "output_type": "stream",
     "text": [
      "\u001b[36m\u001b[1m[ \u001b[22m\u001b[39m\u001b[36m\u001b[1mInfo: \u001b[22m\u001b[39m          40.3659194s: 40 seconds, 365 milliseconds\n",
      "\u001b[36m\u001b[1m[ \u001b[22m\u001b[39m\u001b[36m\u001b[1mInfo: \u001b[22m\u001b[39m started timer at: 2025-03-05T15:41:50.407\n"
     ]
    },
    {
     "name": "stdout",
     "output_type": "stream",
     "text": [
      "false\n"
     ]
    },
    {
     "name": "stderr",
     "output_type": "stream",
     "text": [
      "\u001b[36m\u001b[1m[ \u001b[22m\u001b[39m\u001b[36m\u001b[1mInfo: \u001b[22m\u001b[39m started timer at: 2025-03-05T15:41:56.642\n"
     ]
    },
    {
     "name": "stdout",
     "output_type": "stream",
     "text": [
      "40\n",
      "k : 8\n",
      "1\n",
      "-24375.904083746424\n",
      "2415.0978363717873\n",
      "40\n",
      "K : 8\n",
      "[0 -2800 -100 -1200 -2000]\n"
     ]
    },
    {
     "name": "stderr",
     "output_type": "stream",
     "text": [
      "\u001b[36m\u001b[1m[ \u001b[22m\u001b[39m\u001b[36m\u001b[1mInfo: \u001b[22m\u001b[39m          39.0889411s: 39 seconds, 88 milliseconds\n",
      "\u001b[36m\u001b[1m[ \u001b[22m\u001b[39m\u001b[36m\u001b[1mInfo: \u001b[22m\u001b[39m started timer at: 2025-03-05T15:42:35.761\n"
     ]
    },
    {
     "name": "stdout",
     "output_type": "stream",
     "text": [
      "false\n"
     ]
    },
    {
     "name": "stderr",
     "output_type": "stream",
     "text": [
      "\u001b[36m\u001b[1m[ \u001b[22m\u001b[39m\u001b[36m\u001b[1mInfo: \u001b[22m\u001b[39m started timer at: 2025-03-05T15:42:42.100\n"
     ]
    },
    {
     "name": "stdout",
     "output_type": "stream",
     "text": [
      "40\n",
      "k : 8\n",
      "1\n",
      "-25763.04808369179\n",
      "2602.1194098144397\n",
      "40\n",
      "K : 8\n",
      "[0 -3200 -100 -1200 -2000]\n"
     ]
    },
    {
     "name": "stderr",
     "output_type": "stream",
     "text": [
      "\u001b[36m\u001b[1m[ \u001b[22m\u001b[39m\u001b[36m\u001b[1mInfo: \u001b[22m\u001b[39m          37.4124274s: 37 seconds, 412 milliseconds\n",
      "\u001b[36m\u001b[1m[ \u001b[22m\u001b[39m\u001b[36m\u001b[1mInfo: \u001b[22m\u001b[39m started timer at: 2025-03-05T15:43:19.526\n"
     ]
    },
    {
     "name": "stdout",
     "output_type": "stream",
     "text": [
      "false\n"
     ]
    },
    {
     "name": "stderr",
     "output_type": "stream",
     "text": [
      "\u001b[36m\u001b[1m[ \u001b[22m\u001b[39m\u001b[36m\u001b[1mInfo: \u001b[22m\u001b[39m started timer at: 2025-03-05T15:43:25.818\n"
     ]
    },
    {
     "name": "stdout",
     "output_type": "stream",
     "text": [
      "40\n",
      "k : 8\n",
      "1\n",
      "-27216.545210029453\n",
      "2811.999550767443\n",
      "40\n",
      "K : 10\n",
      "[0 -800 -100 -1200 -2000]\n"
     ]
    },
    {
     "name": "stderr",
     "output_type": "stream",
     "text": [
      "\u001b[36m\u001b[1m[ \u001b[22m\u001b[39m\u001b[36m\u001b[1mInfo: \u001b[22m\u001b[39m          40.0890944s: 40 seconds, 89 milliseconds\n",
      "\u001b[36m\u001b[1m[ \u001b[22m\u001b[39m\u001b[36m\u001b[1mInfo: \u001b[22m\u001b[39m started timer at: 2025-03-05T15:44:05.936\n"
     ]
    },
    {
     "name": "stdout",
     "output_type": "stream",
     "text": [
      "false\n"
     ]
    },
    {
     "name": "stderr",
     "output_type": "stream",
     "text": [
      "\u001b[36m\u001b[1m[ \u001b[22m\u001b[39m\u001b[36m\u001b[1mInfo: \u001b[22m\u001b[39m started timer at: 2025-03-05T15:44:12.295\n"
     ]
    },
    {
     "name": "stdout",
     "output_type": "stream",
     "text": [
      "40\n",
      "k : 10\n",
      "1\n",
      "-16765.07585141891\n",
      "1795.668590705129\n",
      "40\n",
      "K : 10\n",
      "[0 -1200 -100 -1200 -2000]\n"
     ]
    },
    {
     "name": "stderr",
     "output_type": "stream",
     "text": [
      "\u001b[36m\u001b[1m[ \u001b[22m\u001b[39m\u001b[36m\u001b[1mInfo: \u001b[22m\u001b[39m          39.8512831s: 39 seconds, 851 milliseconds\n",
      "\u001b[36m\u001b[1m[ \u001b[22m\u001b[39m\u001b[36m\u001b[1mInfo: \u001b[22m\u001b[39m started timer at: 2025-03-05T15:44:52.145\n"
     ]
    },
    {
     "name": "stdout",
     "output_type": "stream",
     "text": [
      "false\n"
     ]
    },
    {
     "name": "stderr",
     "output_type": "stream",
     "text": [
      "\u001b[36m\u001b[1m[ \u001b[22m\u001b[39m\u001b[36m\u001b[1mInfo: \u001b[22m\u001b[39m started timer at: 2025-03-05T15:44:58.467\n"
     ]
    },
    {
     "name": "stdout",
     "output_type": "stream",
     "text": [
      "40\n",
      "k : 10\n",
      "1\n",
      "-19146.276472204452\n",
      "2005.8970962238463\n",
      "40"
     ]
    },
    {
     "name": "stderr",
     "output_type": "stream",
     "text": [
      "\u001b[36m\u001b[1m[ \u001b[22m\u001b[39m\u001b[36m\u001b[1mInfo: \u001b[22m\u001b[39m          38.1632104s: 38 seconds, 163 milliseconds\n",
      "\u001b[36m\u001b[1m[ \u001b[22m\u001b[39m\u001b[36m\u001b[1mInfo: \u001b[22m\u001b[39m started timer at: 2025-03-05T15:45:36.634\n"
     ]
    },
    {
     "name": "stdout",
     "output_type": "stream",
     "text": [
      "\n",
      "K : 10\n",
      "[0 -1600 -100 -1200 -2000]\n",
      "false\n"
     ]
    },
    {
     "name": "stderr",
     "output_type": "stream",
     "text": [
      "\u001b[36m\u001b[1m[ \u001b[22m\u001b[39m\u001b[36m\u001b[1mInfo: \u001b[22m\u001b[39m started timer at: 2025-03-05T15:45:42.925\n"
     ]
    },
    {
     "name": "stdout",
     "output_type": "stream",
     "text": [
      "40\n",
      "k : 10\n",
      "1\n",
      "-21007.68286379268\n",
      "2137.0244454621165\n",
      "40\n",
      "K : 10\n",
      "[0 -2000 -100 -1200 -2000]\n"
     ]
    },
    {
     "name": "stderr",
     "output_type": "stream",
     "text": [
      "\u001b[36m\u001b[1m[ \u001b[22m\u001b[39m\u001b[36m\u001b[1mInfo: \u001b[22m\u001b[39m          40.7034323s: 40 seconds, 703 milliseconds\n",
      "\u001b[36m\u001b[1m[ \u001b[22m\u001b[39m\u001b[36m\u001b[1mInfo: \u001b[22m\u001b[39m started timer at: 2025-03-05T15:46:23.634\n"
     ]
    },
    {
     "name": "stdout",
     "output_type": "stream",
     "text": [
      "false\n"
     ]
    },
    {
     "name": "stderr",
     "output_type": "stream",
     "text": [
      "\u001b[36m\u001b[1m[ \u001b[22m\u001b[39m\u001b[36m\u001b[1mInfo: \u001b[22m\u001b[39m started timer at: 2025-03-05T15:46:29.831\n"
     ]
    },
    {
     "name": "stdout",
     "output_type": "stream",
     "text": [
      "40\n",
      "k : 10\n",
      "1\n",
      "-22474.872003125864\n",
      "2247.8852291247895\n",
      "40\n",
      "K : 10\n",
      "[0 -2400 -100 -1200 -2000]\n"
     ]
    },
    {
     "name": "stderr",
     "output_type": "stream",
     "text": [
      "\u001b[36m\u001b[1m[ \u001b[22m\u001b[39m\u001b[36m\u001b[1mInfo: \u001b[22m\u001b[39m          38.4614836s: 38 seconds, 461 milliseconds\n",
      "\u001b[36m\u001b[1m[ \u001b[22m\u001b[39m\u001b[36m\u001b[1mInfo: \u001b[22m\u001b[39m started timer at: 2025-03-05T15:47:08.312\n"
     ]
    },
    {
     "name": "stdout",
     "output_type": "stream",
     "text": [
      "false\n"
     ]
    },
    {
     "name": "stderr",
     "output_type": "stream",
     "text": [
      "\u001b[36m\u001b[1m[ \u001b[22m\u001b[39m\u001b[36m\u001b[1mInfo: \u001b[22m\u001b[39m started timer at: 2025-03-05T15:47:14.493\n"
     ]
    },
    {
     "name": "stdout",
     "output_type": "stream",
     "text": [
      "40\n",
      "k : 10\n",
      "1\n",
      "-23797.847939798496\n",
      "2309.202210093408\n",
      "40\n",
      "K : 10\n",
      "[0 -2800 -100 -1200 -2000]\n"
     ]
    },
    {
     "name": "stderr",
     "output_type": "stream",
     "text": [
      "\u001b[36m\u001b[1m[ \u001b[22m\u001b[39m\u001b[36m\u001b[1mInfo: \u001b[22m\u001b[39m          38.0413228s: 38 seconds, 41 milliseconds\n",
      "\u001b[36m\u001b[1m[ \u001b[22m\u001b[39m\u001b[36m\u001b[1mInfo: \u001b[22m\u001b[39m started timer at: 2025-03-05T15:47:52.583\n"
     ]
    },
    {
     "name": "stdout",
     "output_type": "stream",
     "text": [
      "false\n"
     ]
    },
    {
     "name": "stderr",
     "output_type": "stream",
     "text": [
      "\u001b[36m\u001b[1m[ \u001b[22m\u001b[39m\u001b[36m\u001b[1mInfo: \u001b[22m\u001b[39m started timer at: 2025-03-05T15:47:58.842\n"
     ]
    },
    {
     "name": "stdout",
     "output_type": "stream",
     "text": [
      "40\n",
      "k : 10\n",
      "1\n",
      "-25059.361934771685\n",
      "2453.3101215109223\n",
      "40\n",
      "K : 10\n",
      "[0 -3200 -100 -1200 -2000]\n"
     ]
    },
    {
     "name": "stderr",
     "output_type": "stream",
     "text": [
      "\u001b[36m\u001b[1m[ \u001b[22m\u001b[39m\u001b[36m\u001b[1mInfo: \u001b[22m\u001b[39m          40.0600224s: 40 seconds, 60 milliseconds\n",
      "\u001b[36m\u001b[1m[ \u001b[22m\u001b[39m\u001b[36m\u001b[1mInfo: \u001b[22m\u001b[39m started timer at: 2025-03-05T15:48:38.924\n"
     ]
    },
    {
     "name": "stdout",
     "output_type": "stream",
     "text": [
      "false\n"
     ]
    },
    {
     "name": "stderr",
     "output_type": "stream",
     "text": [
      "\u001b[36m\u001b[1m[ \u001b[22m\u001b[39m\u001b[36m\u001b[1mInfo: \u001b[22m\u001b[39m started timer at: 2025-03-05T15:48:45.122\n"
     ]
    },
    {
     "name": "stdout",
     "output_type": "stream",
     "text": [
      "40\n",
      "k : 10\n",
      "1\n",
      "-26273.98065621839\n",
      "2634.745718771654\n",
      "40\n",
      "K : 12\n",
      "[0 -800 -100 -1200 -2000]\n"
     ]
    },
    {
     "name": "stderr",
     "output_type": "stream",
     "text": [
      "\u001b[36m\u001b[1m[ \u001b[22m\u001b[39m\u001b[36m\u001b[1mInfo: \u001b[22m\u001b[39m          38.5908553s: 38 seconds, 590 milliseconds\n",
      "\u001b[36m\u001b[1m[ \u001b[22m\u001b[39m\u001b[36m\u001b[1mInfo: \u001b[22m\u001b[39m started timer at: 2025-03-05T15:49:23.716\n"
     ]
    },
    {
     "name": "stdout",
     "output_type": "stream",
     "text": [
      "false\n"
     ]
    },
    {
     "name": "stderr",
     "output_type": "stream",
     "text": [
      "\u001b[36m\u001b[1m[ \u001b[22m\u001b[39m\u001b[36m\u001b[1mInfo: \u001b[22m\u001b[39m started timer at: 2025-03-05T15:49:30.101\n"
     ]
    },
    {
     "name": "stdout",
     "output_type": "stream",
     "text": [
      "40\n",
      "k : 12\n",
      "1\n",
      "-16708.081300623173\n",
      "1795.9088600360299\n",
      "40\n",
      "K : 12\n",
      "[0 -1200 -100 -1200 -2000]\n"
     ]
    },
    {
     "name": "stderr",
     "output_type": "stream",
     "text": [
      "\u001b[36m\u001b[1m[ \u001b[22m\u001b[39m\u001b[36m\u001b[1mInfo: \u001b[22m\u001b[39m           38.110744s: 38 seconds, 110 milliseconds\n",
      "\u001b[36m\u001b[1m[ \u001b[22m\u001b[39m\u001b[36m\u001b[1mInfo: \u001b[22m\u001b[39m started timer at: 2025-03-05T15:50:08.239\n"
     ]
    },
    {
     "name": "stdout",
     "output_type": "stream",
     "text": [
      "false\n"
     ]
    },
    {
     "name": "stderr",
     "output_type": "stream",
     "text": [
      "\u001b[36m\u001b[1m[ \u001b[22m\u001b[39m\u001b[36m\u001b[1mInfo: \u001b[22m\u001b[39m started timer at: 2025-03-05T15:50:14.515\n"
     ]
    },
    {
     "name": "stdout",
     "output_type": "stream",
     "text": [
      "40\n",
      "k : 12\n",
      "1\n",
      "-19052.242210488683\n",
      "1978.710057971084\n",
      "40\n",
      "K : 12\n",
      "[0 -1600 -100 -1200 -2000]\n"
     ]
    },
    {
     "name": "stderr",
     "output_type": "stream",
     "text": [
      "\u001b[36m\u001b[1m[ \u001b[22m\u001b[39m\u001b[36m\u001b[1mInfo: \u001b[22m\u001b[39m          41.2521108s: 41 seconds, 252 milliseconds\n",
      "\u001b[36m\u001b[1m[ \u001b[22m\u001b[39m\u001b[36m\u001b[1mInfo: \u001b[22m\u001b[39m started timer at: 2025-03-05T15:50:55.790\n"
     ]
    },
    {
     "name": "stdout",
     "output_type": "stream",
     "text": [
      "false\n"
     ]
    },
    {
     "name": "stderr",
     "output_type": "stream",
     "text": [
      "\u001b[36m\u001b[1m[ \u001b[22m\u001b[39m\u001b[36m\u001b[1mInfo: \u001b[22m\u001b[39m started timer at: 2025-03-05T15:51:02.192\n"
     ]
    },
    {
     "name": "stdout",
     "output_type": "stream",
     "text": [
      "40\n",
      "k : 12\n",
      "1\n",
      "-20815.727605572956\n",
      "2095.209035026482\n",
      "40\n",
      "K : 12\n",
      "[0 -2000 -100 -1200 -2000]\n"
     ]
    },
    {
     "name": "stderr",
     "output_type": "stream",
     "text": [
      "\u001b[36m\u001b[1m[ \u001b[22m\u001b[39m\u001b[36m\u001b[1mInfo: \u001b[22m\u001b[39m          39.4649926s: 39 seconds, 464 milliseconds\n",
      "\u001b[36m\u001b[1m[ \u001b[22m\u001b[39m\u001b[36m\u001b[1mInfo: \u001b[22m\u001b[39m started timer at: 2025-03-05T15:51:41.677\n"
     ]
    },
    {
     "name": "stdout",
     "output_type": "stream",
     "text": [
      "false\n"
     ]
    },
    {
     "name": "stderr",
     "output_type": "stream",
     "text": [
      "\u001b[36m\u001b[1m[ \u001b[22m\u001b[39m\u001b[36m\u001b[1mInfo: \u001b[22m\u001b[39m started timer at: 2025-03-05T15:51:48.080\n"
     ]
    },
    {
     "name": "stdout",
     "output_type": "stream",
     "text": [
      "40\n",
      "k : 12\n",
      "1\n",
      "-22269.213040811395\n",
      "2190.032193873376\n",
      "40"
     ]
    },
    {
     "name": "stderr",
     "output_type": "stream",
     "text": [
      "\u001b[36m\u001b[1m[ \u001b[22m\u001b[39m\u001b[36m\u001b[1mInfo: \u001b[22m\u001b[39m          37.9600296s: 37 seconds, 960 milliseconds\n",
      "\u001b[36m\u001b[1m[ \u001b[22m\u001b[39m\u001b[36m\u001b[1mInfo: \u001b[22m\u001b[39m started timer at: 2025-03-05T15:52:26.060\n"
     ]
    },
    {
     "name": "stdout",
     "output_type": "stream",
     "text": [
      "\n",
      "K : 12\n",
      "[0 -2400 -100 -1200 -2000]\n",
      "false\n"
     ]
    },
    {
     "name": "stderr",
     "output_type": "stream",
     "text": [
      "\u001b[36m\u001b[1m[ \u001b[22m\u001b[39m\u001b[36m\u001b[1mInfo: \u001b[22m\u001b[39m started timer at: 2025-03-05T15:52:32.427\n"
     ]
    },
    {
     "name": "stdout",
     "output_type": "stream",
     "text": [
      "40\n",
      "k : 12\n",
      "1\n",
      "-23431.198463129287\n",
      "2260.3048842604057\n",
      "40\n",
      "K : 12\n",
      "[0 -2800 -100 -1200 -2000]\n"
     ]
    },
    {
     "name": "stderr",
     "output_type": "stream",
     "text": [
      "\u001b[36m\u001b[1m[ \u001b[22m\u001b[39m\u001b[36m\u001b[1mInfo: \u001b[22m\u001b[39m          40.6854228s: 40 seconds, 685 milliseconds\n",
      "\u001b[36m\u001b[1m[ \u001b[22m\u001b[39m\u001b[36m\u001b[1mInfo: \u001b[22m\u001b[39m started timer at: 2025-03-05T15:53:13.135\n"
     ]
    },
    {
     "name": "stdout",
     "output_type": "stream",
     "text": [
      "false\n"
     ]
    },
    {
     "name": "stderr",
     "output_type": "stream",
     "text": [
      "\u001b[36m\u001b[1m[ \u001b[22m\u001b[39m\u001b[36m\u001b[1mInfo: \u001b[22m\u001b[39m started timer at: 2025-03-05T15:53:19.307\n"
     ]
    },
    {
     "name": "stdout",
     "output_type": "stream",
     "text": [
      "40\n",
      "k : 12\n",
      "1\n",
      "-24578.354240724675\n",
      "2411.7525061428573\n",
      "40\n",
      "K : 12\n",
      "[0 -3200 -100 -1200 -2000]\n"
     ]
    },
    {
     "name": "stderr",
     "output_type": "stream",
     "text": [
      "\u001b[36m\u001b[1m[ \u001b[22m\u001b[39m\u001b[36m\u001b[1mInfo: \u001b[22m\u001b[39m          38.0772018s: 38 seconds, 77 milliseconds\n",
      "\u001b[36m\u001b[1m[ \u001b[22m\u001b[39m\u001b[36m\u001b[1mInfo: \u001b[22m\u001b[39m started timer at: 2025-03-05T15:53:57.395\n"
     ]
    },
    {
     "name": "stdout",
     "output_type": "stream",
     "text": [
      "false\n"
     ]
    },
    {
     "name": "stderr",
     "output_type": "stream",
     "text": [
      "\u001b[36m\u001b[1m[ \u001b[22m\u001b[39m\u001b[36m\u001b[1mInfo: \u001b[22m\u001b[39m started timer at: 2025-03-05T15:54:03.466\n"
     ]
    },
    {
     "name": "stdout",
     "output_type": "stream",
     "text": [
      "40\n",
      "k : 12\n",
      "1\n",
      "-25573.573876671864\n",
      "2499.178917940883\n",
      "40\n",
      "K : 14\n",
      "[0 -800 -100 -1200 -2000]\n"
     ]
    },
    {
     "name": "stderr",
     "output_type": "stream",
     "text": [
      "\u001b[36m\u001b[1m[ \u001b[22m\u001b[39m\u001b[36m\u001b[1mInfo: \u001b[22m\u001b[39m          36.0352905s: 36 seconds, 35 milliseconds\n",
      "\u001b[36m\u001b[1m[ \u001b[22m\u001b[39m\u001b[36m\u001b[1mInfo: \u001b[22m\u001b[39m started timer at: 2025-03-05T15:54:39.517\n"
     ]
    },
    {
     "name": "stdout",
     "output_type": "stream",
     "text": [
      "false\n"
     ]
    },
    {
     "name": "stderr",
     "output_type": "stream",
     "text": [
      "\u001b[36m\u001b[1m[ \u001b[22m\u001b[39m\u001b[36m\u001b[1mInfo: \u001b[22m\u001b[39m started timer at: 2025-03-05T15:54:45.658\n"
     ]
    },
    {
     "name": "stdout",
     "output_type": "stream",
     "text": [
      "40\n",
      "k : 14\n",
      "1\n",
      "-16636.762051617854\n",
      "1774.9610623006322\n",
      "40\n",
      "K : 14\n",
      "[0 -1200 -100 -1200 -2000]\n"
     ]
    },
    {
     "name": "stderr",
     "output_type": "stream",
     "text": [
      "\u001b[36m\u001b[1m[ \u001b[22m\u001b[39m\u001b[36m\u001b[1mInfo: \u001b[22m\u001b[39m          40.9336374s: 40 seconds, 933 milliseconds\n",
      "\u001b[36m\u001b[1m[ \u001b[22m\u001b[39m\u001b[36m\u001b[1mInfo: \u001b[22m\u001b[39m started timer at: 2025-03-05T15:55:26.595\n"
     ]
    },
    {
     "name": "stdout",
     "output_type": "stream",
     "text": [
      "false\n"
     ]
    },
    {
     "name": "stderr",
     "output_type": "stream",
     "text": [
      "\u001b[36m\u001b[1m[ \u001b[22m\u001b[39m\u001b[36m\u001b[1mInfo: \u001b[22m\u001b[39m started timer at: 2025-03-05T15:55:32.841\n"
     ]
    },
    {
     "name": "stdout",
     "output_type": "stream",
     "text": [
      "40\n",
      "k : 14\n",
      "1\n",
      "-19020.452990440972\n",
      "1969.7319867376216\n",
      "40\n",
      "K : 14\n",
      "[0 -1600 -100 -1200 -2000]\n"
     ]
    },
    {
     "name": "stderr",
     "output_type": "stream",
     "text": [
      "\u001b[36m\u001b[1m[ \u001b[22m\u001b[39m\u001b[36m\u001b[1mInfo: \u001b[22m\u001b[39m          39.8057121s: 39 seconds, 805 milliseconds\n",
      "\u001b[36m\u001b[1m[ \u001b[22m\u001b[39m\u001b[36m\u001b[1mInfo: \u001b[22m\u001b[39m started timer at: 2025-03-05T15:56:12.655\n"
     ]
    },
    {
     "name": "stdout",
     "output_type": "stream",
     "text": [
      "false\n"
     ]
    },
    {
     "name": "stderr",
     "output_type": "stream",
     "text": [
      "\u001b[36m\u001b[1m[ \u001b[22m\u001b[39m\u001b[36m\u001b[1mInfo: \u001b[22m\u001b[39m started timer at: 2025-03-05T15:56:18.806\n"
     ]
    },
    {
     "name": "stdout",
     "output_type": "stream",
     "text": [
      "40\n",
      "k : 14\n",
      "1\n",
      "-20727.74085182465\n",
      "2053.7936138306964\n",
      "40\n",
      "K : 14\n",
      "[0 -2000 -100 -1200 -2000]\n"
     ]
    },
    {
     "name": "stderr",
     "output_type": "stream",
     "text": [
      "\u001b[36m\u001b[1m[ \u001b[22m\u001b[39m\u001b[36m\u001b[1mInfo: \u001b[22m\u001b[39m          35.9564149s: 35 seconds, 956 milliseconds\n",
      "\u001b[36m\u001b[1m[ \u001b[22m\u001b[39m\u001b[36m\u001b[1mInfo: \u001b[22m\u001b[39m started timer at: 2025-03-05T15:56:54.776\n"
     ]
    },
    {
     "name": "stdout",
     "output_type": "stream",
     "text": [
      "false\n"
     ]
    },
    {
     "name": "stderr",
     "output_type": "stream",
     "text": [
      "\u001b[36m\u001b[1m[ \u001b[22m\u001b[39m\u001b[36m\u001b[1mInfo: \u001b[22m\u001b[39m started timer at: 2025-03-05T15:57:01.101\n"
     ]
    },
    {
     "name": "stdout",
     "output_type": "stream",
     "text": [
      "40\n",
      "k : 14\n",
      "1\n",
      "-22108.49490324018\n",
      "2164.4777244783663\n",
      "40\n",
      "K : 14\n",
      "[0 -2400 -100 -1200 -2000]\n"
     ]
    },
    {
     "name": "stderr",
     "output_type": "stream",
     "text": [
      "\u001b[36m\u001b[1m[ \u001b[22m\u001b[39m\u001b[36m\u001b[1mInfo: \u001b[22m\u001b[39m          40.7684816s: 40 seconds, 768 milliseconds\n",
      "\u001b[36m\u001b[1m[ \u001b[22m\u001b[39m\u001b[36m\u001b[1mInfo: \u001b[22m\u001b[39m started timer at: 2025-03-05T15:57:41.876\n"
     ]
    },
    {
     "name": "stdout",
     "output_type": "stream",
     "text": [
      "false\n"
     ]
    },
    {
     "name": "stderr",
     "output_type": "stream",
     "text": [
      "\u001b[36m\u001b[1m[ \u001b[22m\u001b[39m\u001b[36m\u001b[1mInfo: \u001b[22m\u001b[39m started timer at: 2025-03-05T15:57:48.057\n"
     ]
    },
    {
     "name": "stdout",
     "output_type": "stream",
     "text": [
      "40\n",
      "k : 14\n",
      "1\n",
      "-23109.282354634608\n",
      "2211.9240226678453\n",
      "40\n",
      "K : 14\n",
      "[0 -2800 -100 -1200 -2000]\n"
     ]
    },
    {
     "name": "stderr",
     "output_type": "stream",
     "text": [
      "\u001b[36m\u001b[1m[ \u001b[22m\u001b[39m\u001b[36m\u001b[1mInfo: \u001b[22m\u001b[39m          39.5120628s: 39 seconds, 512 milliseconds\n",
      "\u001b[36m\u001b[1m[ \u001b[22m\u001b[39m\u001b[36m\u001b[1mInfo: \u001b[22m\u001b[39m started timer at: 2025-03-05T15:58:27.588\n"
     ]
    },
    {
     "name": "stdout",
     "output_type": "stream",
     "text": [
      "false\n"
     ]
    },
    {
     "name": "stderr",
     "output_type": "stream",
     "text": [
      "\u001b[36m\u001b[1m[ \u001b[22m\u001b[39m\u001b[36m\u001b[1mInfo: \u001b[22m\u001b[39m started timer at: 2025-03-05T15:58:33.833\n"
     ]
    },
    {
     "name": "stdout",
     "output_type": "stream",
     "text": [
      "40\n",
      "k : 14\n",
      "1\n",
      "-24167.50652240563\n",
      "2298.933138465089\n",
      "40\n",
      "K : 14\n",
      "[0 -3200 -100 -1200 -2000]\n"
     ]
    },
    {
     "name": "stderr",
     "output_type": "stream",
     "text": [
      "\u001b[36m\u001b[1m[ \u001b[22m\u001b[39m\u001b[36m\u001b[1mInfo: \u001b[22m\u001b[39m           37.855337s: 37 seconds, 855 milliseconds\n",
      "\u001b[36m\u001b[1m[ \u001b[22m\u001b[39m\u001b[36m\u001b[1mInfo: \u001b[22m\u001b[39m started timer at: 2025-03-05T15:59:11.706\n"
     ]
    },
    {
     "name": "stdout",
     "output_type": "stream",
     "text": [
      "false\n"
     ]
    },
    {
     "name": "stderr",
     "output_type": "stream",
     "text": [
      "\u001b[36m\u001b[1m[ \u001b[22m\u001b[39m\u001b[36m\u001b[1mInfo: \u001b[22m\u001b[39m started timer at: 2025-03-05T15:59:17.967\n"
     ]
    },
    {
     "name": "stdout",
     "output_type": "stream",
     "text": [
      "40\n",
      "k : 14\n",
      "1\n",
      "-25099.338296487706\n",
      "2377.8725517076277\n",
      "40\n",
      "K : 16\n",
      "[0 -800 -100 -1200 -2000]\n"
     ]
    },
    {
     "name": "stderr",
     "output_type": "stream",
     "text": [
      "\u001b[36m\u001b[1m[ \u001b[22m\u001b[39m\u001b[36m\u001b[1mInfo: \u001b[22m\u001b[39m           38.216338s: 38 seconds, 216 milliseconds\n",
      "\u001b[36m\u001b[1m[ \u001b[22m\u001b[39m\u001b[36m\u001b[1mInfo: \u001b[22m\u001b[39m started timer at: 2025-03-05T15:59:56.197\n"
     ]
    },
    {
     "name": "stdout",
     "output_type": "stream",
     "text": [
      "false\n"
     ]
    },
    {
     "name": "stderr",
     "output_type": "stream",
     "text": [
      "\u001b[36m\u001b[1m[ \u001b[22m\u001b[39m\u001b[36m\u001b[1mInfo: \u001b[22m\u001b[39m started timer at: 2025-03-05T16:00:02.458\n"
     ]
    },
    {
     "name": "stdout",
     "output_type": "stream",
     "text": [
      "40\n",
      "k : 16\n",
      "1\n",
      "-16618.608224128413\n",
      "1773.2078371038438\n",
      "40\n",
      "K : 16\n",
      "[0 -1200 -100 -1200 -2000]\n"
     ]
    },
    {
     "name": "stderr",
     "output_type": "stream",
     "text": [
      "\u001b[36m\u001b[1m[ \u001b[22m\u001b[39m\u001b[36m\u001b[1mInfo: \u001b[22m\u001b[39m          40.7290765s: 40 seconds, 729 milliseconds\n",
      "\u001b[36m\u001b[1m[ \u001b[22m\u001b[39m\u001b[36m\u001b[1mInfo: \u001b[22m\u001b[39m started timer at: 2025-03-05T16:00:43.200\n"
     ]
    },
    {
     "name": "stdout",
     "output_type": "stream",
     "text": [
      "false\n"
     ]
    },
    {
     "name": "stderr",
     "output_type": "stream",
     "text": [
      "\u001b[36m\u001b[1m[ \u001b[22m\u001b[39m\u001b[36m\u001b[1mInfo: \u001b[22m\u001b[39m started timer at: 2025-03-05T16:00:49.459\n"
     ]
    },
    {
     "name": "stdout",
     "output_type": "stream",
     "text": [
      "40\n",
      "k : 16\n",
      "1\n",
      "-19005.41086430196\n",
      "1973.0541033908842\n",
      "40\n",
      "K : 16\n",
      "[0 -1600 -100 -1200 -2000]\n"
     ]
    },
    {
     "name": "stderr",
     "output_type": "stream",
     "text": [
      "\u001b[36m\u001b[1m[ \u001b[22m\u001b[39m\u001b[36m\u001b[1mInfo: \u001b[22m\u001b[39m          38.5757974s: 38 seconds, 575 milliseconds\n",
      "\u001b[36m\u001b[1m[ \u001b[22m\u001b[39m\u001b[36m\u001b[1mInfo: \u001b[22m\u001b[39m started timer at: 2025-03-05T16:01:28.052\n"
     ]
    },
    {
     "name": "stdout",
     "output_type": "stream",
     "text": [
      "false\n"
     ]
    },
    {
     "name": "stderr",
     "output_type": "stream",
     "text": [
      "\u001b[36m\u001b[1m[ \u001b[22m\u001b[39m\u001b[36m\u001b[1mInfo: \u001b[22m\u001b[39m started timer at: 2025-03-05T16:01:34.280\n"
     ]
    },
    {
     "name": "stdout",
     "output_type": "stream",
     "text": [
      "40\n",
      "k : 16\n",
      "1\n",
      "-20698.547841580574\n",
      "2026.8104043652022\n",
      "40\n",
      "K : 16\n",
      "[0 -2000 -100 -1200 -2000]\n"
     ]
    },
    {
     "name": "stderr",
     "output_type": "stream",
     "text": [
      "\u001b[36m\u001b[1m[ \u001b[22m\u001b[39m\u001b[36m\u001b[1mInfo: \u001b[22m\u001b[39m           38.709312s: 38 seconds, 709 milliseconds\n",
      "\u001b[36m\u001b[1m[ \u001b[22m\u001b[39m\u001b[36m\u001b[1mInfo: \u001b[22m\u001b[39m started timer at: 2025-03-05T16:02:13.011\n"
     ]
    },
    {
     "name": "stdout",
     "output_type": "stream",
     "text": [
      "false\n"
     ]
    },
    {
     "name": "stderr",
     "output_type": "stream",
     "text": [
      "\u001b[36m\u001b[1m[ \u001b[22m\u001b[39m\u001b[36m\u001b[1mInfo: \u001b[22m\u001b[39m started timer at: 2025-03-05T16:02:19.178\n"
     ]
    },
    {
     "name": "stdout",
     "output_type": "stream",
     "text": [
      "40\n",
      "k : 16\n",
      "1\n",
      "-21942.009918226675\n",
      "2104.631343397874\n",
      "40\n",
      "K : 16\n",
      "[0 -2400 -100 -1200 -2000]\n"
     ]
    },
    {
     "name": "stderr",
     "output_type": "stream",
     "text": [
      "\u001b[36m\u001b[1m[ \u001b[22m\u001b[39m\u001b[36m\u001b[1mInfo: \u001b[22m\u001b[39m          39.9251962s: 39 seconds, 925 milliseconds\n",
      "\u001b[36m\u001b[1m[ \u001b[22m\u001b[39m\u001b[36m\u001b[1mInfo: \u001b[22m\u001b[39m started timer at: 2025-03-05T16:02:59.119\n"
     ]
    },
    {
     "name": "stdout",
     "output_type": "stream",
     "text": [
      "false\n"
     ]
    },
    {
     "name": "stderr",
     "output_type": "stream",
     "text": [
      "\u001b[36m\u001b[1m[ \u001b[22m\u001b[39m\u001b[36m\u001b[1mInfo: \u001b[22m\u001b[39m started timer at: 2025-03-05T16:03:05.473\n"
     ]
    },
    {
     "name": "stdout",
     "output_type": "stream",
     "text": [
      "40\n",
      "k : 16\n",
      "1\n",
      "-22951.90371034183\n",
      "2153.2863093029036\n",
      "40\n",
      "K : 16\n",
      "[0 -2800 -100 -1200 -2000]\n"
     ]
    },
    {
     "name": "stderr",
     "output_type": "stream",
     "text": [
      "\u001b[36m\u001b[1m[ \u001b[22m\u001b[39m\u001b[36m\u001b[1mInfo: \u001b[22m\u001b[39m           37.839164s: 37 seconds, 839 milliseconds\n",
      "\u001b[36m\u001b[1m[ \u001b[22m\u001b[39m\u001b[36m\u001b[1mInfo: \u001b[22m\u001b[39m started timer at: 2025-03-05T16:03:43.329\n"
     ]
    },
    {
     "name": "stdout",
     "output_type": "stream",
     "text": [
      "false\n"
     ]
    },
    {
     "name": "stderr",
     "output_type": "stream",
     "text": [
      "\u001b[36m\u001b[1m[ \u001b[22m\u001b[39m\u001b[36m\u001b[1mInfo: \u001b[22m\u001b[39m started timer at: 2025-03-05T16:03:49.477\n"
     ]
    },
    {
     "name": "stdout",
     "output_type": "stream",
     "text": [
      "40\n",
      "k : 16\n",
      "1\n",
      "-23864.824908382492\n",
      "2271.71305635674\n",
      "40\n",
      "K : 16\n",
      "[0 -3200 -100 -1200 -2000]\n"
     ]
    },
    {
     "name": "stderr",
     "output_type": "stream",
     "text": [
      "\u001b[36m\u001b[1m[ \u001b[22m\u001b[39m\u001b[36m\u001b[1mInfo: \u001b[22m\u001b[39m          37.7454316s: 37 seconds, 745 milliseconds\n",
      "\u001b[36m\u001b[1m[ \u001b[22m\u001b[39m\u001b[36m\u001b[1mInfo: \u001b[22m\u001b[39m started timer at: 2025-03-05T16:04:27.237\n"
     ]
    },
    {
     "name": "stdout",
     "output_type": "stream",
     "text": [
      "false\n"
     ]
    },
    {
     "name": "stderr",
     "output_type": "stream",
     "text": [
      "\u001b[36m\u001b[1m[ \u001b[22m\u001b[39m\u001b[36m\u001b[1mInfo: \u001b[22m\u001b[39m started timer at: 2025-03-05T16:04:33.435\n"
     ]
    },
    {
     "name": "stdout",
     "output_type": "stream",
     "text": [
      "40\n",
      "k : 16\n",
      "1\n",
      "-24672.23233384387\n",
      "2327.249064630756\n",
      "40\n",
      "K : 18\n",
      "[0 -800 -100 -1200 -2000]\n"
     ]
    },
    {
     "name": "stderr",
     "output_type": "stream",
     "text": [
      "\u001b[36m\u001b[1m[ \u001b[22m\u001b[39m\u001b[36m\u001b[1mInfo: \u001b[22m\u001b[39m           39.508685s: 39 seconds, 508 milliseconds\n",
      "\u001b[36m\u001b[1m[ \u001b[22m\u001b[39m\u001b[36m\u001b[1mInfo: \u001b[22m\u001b[39m started timer at: 2025-03-05T16:05:12.967\n"
     ]
    },
    {
     "name": "stdout",
     "output_type": "stream",
     "text": [
      "false\n"
     ]
    },
    {
     "name": "stderr",
     "output_type": "stream",
     "text": [
      "\u001b[36m\u001b[1m[ \u001b[22m\u001b[39m\u001b[36m\u001b[1mInfo: \u001b[22m\u001b[39m started timer at: 2025-03-05T16:05:19.260\n"
     ]
    },
    {
     "name": "stdout",
     "output_type": "stream",
     "text": [
      "40\n",
      "k : 18\n",
      "1\n",
      "-16664.206659789328\n",
      "1793.8694990218487\n",
      "40\n",
      "K : 18\n",
      "[0 -1200 -100 -1200 -2000]\n"
     ]
    },
    {
     "name": "stderr",
     "output_type": "stream",
     "text": [
      "\u001b[36m\u001b[1m[ \u001b[22m\u001b[39m\u001b[36m\u001b[1mInfo: \u001b[22m\u001b[39m          40.3732889s: 40 seconds, 373 milliseconds\n",
      "\u001b[36m\u001b[1m[ \u001b[22m\u001b[39m\u001b[36m\u001b[1mInfo: \u001b[22m\u001b[39m started timer at: 2025-03-05T16:05:59.638\n"
     ]
    },
    {
     "name": "stdout",
     "output_type": "stream",
     "text": [
      "false\n"
     ]
    },
    {
     "name": "stderr",
     "output_type": "stream",
     "text": [
      "\u001b[36m\u001b[1m[ \u001b[22m\u001b[39m\u001b[36m\u001b[1mInfo: \u001b[22m\u001b[39m started timer at: 2025-03-05T16:06:05.867\n"
     ]
    },
    {
     "name": "stdout",
     "output_type": "stream",
     "text": [
      "40\n",
      "k : 18\n",
      "1\n",
      "-18947.603861006017\n",
      "1929.4671436416256\n",
      "40\n",
      "K : 18\n",
      "[0 -1600 -100 -1200 -2000]\n"
     ]
    },
    {
     "name": "stderr",
     "output_type": "stream",
     "text": [
      "\u001b[36m\u001b[1m[ \u001b[22m\u001b[39m\u001b[36m\u001b[1mInfo: \u001b[22m\u001b[39m          37.4447852s: 37 seconds, 444 milliseconds\n",
      "\u001b[36m\u001b[1m[ \u001b[22m\u001b[39m\u001b[36m\u001b[1mInfo: \u001b[22m\u001b[39m started timer at: 2025-03-05T16:06:43.337\n"
     ]
    },
    {
     "name": "stdout",
     "output_type": "stream",
     "text": [
      "false\n"
     ]
    },
    {
     "name": "stderr",
     "output_type": "stream",
     "text": [
      "\u001b[36m\u001b[1m[ \u001b[22m\u001b[39m\u001b[36m\u001b[1mInfo: \u001b[22m\u001b[39m started timer at: 2025-03-05T16:06:49.575\n"
     ]
    },
    {
     "name": "stdout",
     "output_type": "stream",
     "text": [
      "40\n",
      "k : 18\n",
      "1\n",
      "-20649.068748494752\n",
      "2044.7471785554524\n",
      "40\n",
      "K : 18\n",
      "[0 -2000 -100 -1200 -2000]\n"
     ]
    },
    {
     "name": "stderr",
     "output_type": "stream",
     "text": [
      "\u001b[36m\u001b[1m[ \u001b[22m\u001b[39m\u001b[36m\u001b[1mInfo: \u001b[22m\u001b[39m          40.8821601s: 40 seconds, 882 milliseconds\n",
      "\u001b[36m\u001b[1m[ \u001b[22m\u001b[39m\u001b[36m\u001b[1mInfo: \u001b[22m\u001b[39m started timer at: 2025-03-05T16:07:30.477\n"
     ]
    },
    {
     "name": "stdout",
     "output_type": "stream",
     "text": [
      "false\n"
     ]
    },
    {
     "name": "stderr",
     "output_type": "stream",
     "text": [
      "\u001b[36m\u001b[1m[ \u001b[22m\u001b[39m\u001b[36m\u001b[1mInfo: \u001b[22m\u001b[39m started timer at: 2025-03-05T16:07:36.668\n"
     ]
    },
    {
     "name": "stdout",
     "output_type": "stream",
     "text": [
      "40\n",
      "k : 18\n",
      "1\n",
      "-21902.171534375262\n",
      "2100.305939199253\n",
      "40\n",
      "K : 18\n",
      "[0 -2400 -100 -1200 -2000]\n"
     ]
    },
    {
     "name": "stderr",
     "output_type": "stream",
     "text": [
      "\u001b[36m\u001b[1m[ \u001b[22m\u001b[39m\u001b[36m\u001b[1mInfo: \u001b[22m\u001b[39m          39.6901302s: 39 seconds, 690 milliseconds\n",
      "\u001b[36m\u001b[1m[ \u001b[22m\u001b[39m\u001b[36m\u001b[1mInfo: \u001b[22m\u001b[39m started timer at: 2025-03-05T16:08:16.374\n"
     ]
    },
    {
     "name": "stdout",
     "output_type": "stream",
     "text": [
      "false\n"
     ]
    },
    {
     "name": "stderr",
     "output_type": "stream",
     "text": [
      "\u001b[36m\u001b[1m[ \u001b[22m\u001b[39m\u001b[36m\u001b[1mInfo: \u001b[22m\u001b[39m started timer at: 2025-03-05T16:08:22.691\n"
     ]
    },
    {
     "name": "stdout",
     "output_type": "stream",
     "text": [
      "40\n",
      "k : 18\n",
      "1\n",
      "-22770.502786979094\n",
      "2111.300200471112\n",
      "40\n",
      "K : 18\n",
      "[0 -2800 -100 -1200 -2000]\n"
     ]
    },
    {
     "name": "stderr",
     "output_type": "stream",
     "text": [
      "\u001b[36m\u001b[1m[ \u001b[22m\u001b[39m\u001b[36m\u001b[1mInfo: \u001b[22m\u001b[39m          36.7101437s: 36 seconds, 710 milliseconds\n",
      "\u001b[36m\u001b[1m[ \u001b[22m\u001b[39m\u001b[36m\u001b[1mInfo: \u001b[22m\u001b[39m started timer at: 2025-03-05T16:08:59.406\n"
     ]
    },
    {
     "name": "stdout",
     "output_type": "stream",
     "text": [
      "false\n"
     ]
    },
    {
     "name": "stderr",
     "output_type": "stream",
     "text": [
      "\u001b[36m\u001b[1m[ \u001b[22m\u001b[39m\u001b[36m\u001b[1mInfo: \u001b[22m\u001b[39m started timer at: 2025-03-05T16:09:05.671\n"
     ]
    },
    {
     "name": "stdout",
     "output_type": "stream",
     "text": [
      "40\n",
      "k : 18\n",
      "1\n",
      "-23604.720133023144\n",
      "2234.278528472663\n",
      "40\n",
      "K : 18\n",
      "[0 -3200 -100 -1200 -2000]\n"
     ]
    },
    {
     "name": "stderr",
     "output_type": "stream",
     "text": [
      "\u001b[36m\u001b[1m[ \u001b[22m\u001b[39m\u001b[36m\u001b[1mInfo: \u001b[22m\u001b[39m          40.0861349s: 40 seconds, 86 milliseconds\n",
      "\u001b[36m\u001b[1m[ \u001b[22m\u001b[39m\u001b[36m\u001b[1mInfo: \u001b[22m\u001b[39m started timer at: 2025-03-05T16:09:45.766\n"
     ]
    },
    {
     "name": "stdout",
     "output_type": "stream",
     "text": [
      "false\n"
     ]
    },
    {
     "name": "stderr",
     "output_type": "stream",
     "text": [
      "\u001b[36m\u001b[1m[ \u001b[22m\u001b[39m\u001b[36m\u001b[1mInfo: \u001b[22m\u001b[39m started timer at: 2025-03-05T16:09:52.022\n"
     ]
    },
    {
     "name": "stdout",
     "output_type": "stream",
     "text": [
      "40\n",
      "k : 18\n",
      "1\n",
      "-24284.541428598022\n",
      "2270.8776766780093\n",
      "40\n",
      "K : 20\n",
      "[0 -800 -100 -1200 -2000]\n"
     ]
    },
    {
     "name": "stderr",
     "output_type": "stream",
     "text": [
      "\u001b[36m\u001b[1m[ \u001b[22m\u001b[39m\u001b[36m\u001b[1mInfo: \u001b[22m\u001b[39m          38.5972578s: 38 seconds, 597 milliseconds\n",
      "\u001b[36m\u001b[1m[ \u001b[22m\u001b[39m\u001b[36m\u001b[1mInfo: \u001b[22m\u001b[39m started timer at: 2025-03-05T16:10:30.630\n"
     ]
    },
    {
     "name": "stdout",
     "output_type": "stream",
     "text": [
      "false\n"
     ]
    },
    {
     "name": "stderr",
     "output_type": "stream",
     "text": [
      "\u001b[36m\u001b[1m[ \u001b[22m\u001b[39m\u001b[36m\u001b[1mInfo: \u001b[22m\u001b[39m started timer at: 2025-03-05T16:10:36.779\n"
     ]
    },
    {
     "name": "stdout",
     "output_type": "stream",
     "text": [
      "40\n",
      "k : 20\n",
      "1\n",
      "-16620.58790871347\n",
      "1802.0043129617407\n",
      "40\n",
      "K : 20\n",
      "[0 -1200 -100 -1200 -2000]\n"
     ]
    },
    {
     "name": "stderr",
     "output_type": "stream",
     "text": [
      "\u001b[36m\u001b[1m[ \u001b[22m\u001b[39m\u001b[36m\u001b[1mInfo: \u001b[22m\u001b[39m          39.2044553s: 39 seconds, 204 milliseconds\n",
      "\u001b[36m\u001b[1m[ \u001b[22m\u001b[39m\u001b[36m\u001b[1mInfo: \u001b[22m\u001b[39m started timer at: 2025-03-05T16:11:15.998\n"
     ]
    },
    {
     "name": "stdout",
     "output_type": "stream",
     "text": [
      "false\n"
     ]
    },
    {
     "name": "stderr",
     "output_type": "stream",
     "text": [
      "\u001b[36m\u001b[1m[ \u001b[22m\u001b[39m\u001b[36m\u001b[1mInfo: \u001b[22m\u001b[39m started timer at: 2025-03-05T16:11:22.299\n"
     ]
    },
    {
     "name": "stdout",
     "output_type": "stream",
     "text": [
      "40\n",
      "k : 20\n",
      "1\n",
      "-18939.60345639725\n",
      "1939.922276273157\n",
      "40\n",
      "K : 20\n",
      "[0 -1600 -100 -1200 -2000]\n"
     ]
    },
    {
     "name": "stderr",
     "output_type": "stream",
     "text": [
      "\u001b[36m\u001b[1m[ \u001b[22m\u001b[39m\u001b[36m\u001b[1mInfo: \u001b[22m\u001b[39m          39.4604697s: 39 seconds, 460 milliseconds\n",
      "\u001b[36m\u001b[1m[ \u001b[22m\u001b[39m\u001b[36m\u001b[1mInfo: \u001b[22m\u001b[39m started timer at: 2025-03-05T16:12:01.776\n"
     ]
    },
    {
     "name": "stdout",
     "output_type": "stream",
     "text": [
      "false\n"
     ]
    },
    {
     "name": "stderr",
     "output_type": "stream",
     "text": [
      "\u001b[36m\u001b[1m[ \u001b[22m\u001b[39m\u001b[36m\u001b[1mInfo: \u001b[22m\u001b[39m started timer at: 2025-03-05T16:12:07.988\n"
     ]
    },
    {
     "name": "stdout",
     "output_type": "stream",
     "text": [
      "40\n",
      "k : 20\n",
      "1\n",
      "-20592.291435335137\n",
      "2060.5671230222215\n",
      "40\n",
      "K : 20\n",
      "[0 -2000 -100 -1200 -2000]\n"
     ]
    },
    {
     "name": "stderr",
     "output_type": "stream",
     "text": [
      "\u001b[36m\u001b[1m[ \u001b[22m\u001b[39m\u001b[36m\u001b[1mInfo: \u001b[22m\u001b[39m          40.2177786s: 40 seconds, 217 milliseconds\n",
      "\u001b[36m\u001b[1m[ \u001b[22m\u001b[39m\u001b[36m\u001b[1mInfo: \u001b[22m\u001b[39m started timer at: 2025-03-05T16:12:48.213\n"
     ]
    },
    {
     "name": "stdout",
     "output_type": "stream",
     "text": [
      "false\n"
     ]
    },
    {
     "name": "stderr",
     "output_type": "stream",
     "text": [
      "\u001b[36m\u001b[1m[ \u001b[22m\u001b[39m\u001b[36m\u001b[1mInfo: \u001b[22m\u001b[39m started timer at: 2025-03-05T16:12:54.294\n"
     ]
    },
    {
     "name": "stdout",
     "output_type": "stream",
     "text": [
      "40\n",
      "k : 20\n",
      "1\n",
      "-21755.656694567973\n",
      "2091.3464852536854\n",
      "40\n",
      "K : 20\n",
      "[0 -2400 -100 -1200 -2000]\n"
     ]
    },
    {
     "name": "stderr",
     "output_type": "stream",
     "text": [
      "\u001b[36m\u001b[1m[ \u001b[22m\u001b[39m\u001b[36m\u001b[1mInfo: \u001b[22m\u001b[39m          37.2413358s: 37 seconds, 241 milliseconds\n",
      "\u001b[36m\u001b[1m[ \u001b[22m\u001b[39m\u001b[36m\u001b[1mInfo: \u001b[22m\u001b[39m started timer at: 2025-03-05T16:13:31.572\n"
     ]
    },
    {
     "name": "stdout",
     "output_type": "stream",
     "text": [
      "false\n"
     ]
    },
    {
     "name": "stderr",
     "output_type": "stream",
     "text": [
      "\u001b[36m\u001b[1m[ \u001b[22m\u001b[39m\u001b[36m\u001b[1mInfo: \u001b[22m\u001b[39m started timer at: 2025-03-05T16:13:37.612\n"
     ]
    },
    {
     "name": "stdout",
     "output_type": "stream",
     "text": [
      "40\n",
      "k : 20\n",
      "1\n",
      "-22656.560284327763\n",
      "2138.3585953654706\n",
      "40\n",
      "K : 20\n",
      "[0 -2800 -100 -1200 -2000]\n"
     ]
    },
    {
     "name": "stderr",
     "output_type": "stream",
     "text": [
      "\u001b[36m\u001b[1m[ \u001b[22m\u001b[39m\u001b[36m\u001b[1mInfo: \u001b[22m\u001b[39m          36.5707266s: 36 seconds, 570 milliseconds\n",
      "\u001b[36m\u001b[1m[ \u001b[22m\u001b[39m\u001b[36m\u001b[1mInfo: \u001b[22m\u001b[39m started timer at: 2025-03-05T16:14:14.197\n"
     ]
    },
    {
     "name": "stdout",
     "output_type": "stream",
     "text": [
      "false\n"
     ]
    },
    {
     "name": "stderr",
     "output_type": "stream",
     "text": [
      "\u001b[36m\u001b[1m[ \u001b[22m\u001b[39m\u001b[36m\u001b[1mInfo: \u001b[22m\u001b[39m started timer at: 2025-03-05T16:14:20.362\n"
     ]
    },
    {
     "name": "stdout",
     "output_type": "stream",
     "text": [
      "40\n",
      "k : 20\n",
      "1\n",
      "-23386.847247033602\n",
      "2152.2185264246405\n",
      "40\n",
      "K : 20\n",
      "[0 -3200 -100 -1200 -2000]\n"
     ]
    },
    {
     "name": "stderr",
     "output_type": "stream",
     "text": [
      "\u001b[36m\u001b[1m[ \u001b[22m\u001b[39m\u001b[36m\u001b[1mInfo: \u001b[22m\u001b[39m          38.7860942s: 38 seconds, 786 milliseconds\n",
      "\u001b[36m\u001b[1m[ \u001b[22m\u001b[39m\u001b[36m\u001b[1mInfo: \u001b[22m\u001b[39m started timer at: 2025-03-05T16:14:59.157\n"
     ]
    },
    {
     "name": "stdout",
     "output_type": "stream",
     "text": [
      "false\n"
     ]
    },
    {
     "name": "stderr",
     "output_type": "stream",
     "text": [
      "\u001b[36m\u001b[1m[ \u001b[22m\u001b[39m\u001b[36m\u001b[1mInfo: \u001b[22m\u001b[39m started timer at: 2025-03-05T16:15:05.229\n"
     ]
    },
    {
     "name": "stdout",
     "output_type": "stream",
     "text": [
      "40\n",
      "k : 20\n",
      "1\n",
      "-24014.668233231663\n",
      "2268.1876882447013\n",
      "50\n",
      "K : 2\n",
      "[0 -800 -100 -1200 -2000]\n"
     ]
    },
    {
     "name": "stderr",
     "output_type": "stream",
     "text": [
      "\u001b[36m\u001b[1m[ \u001b[22m\u001b[39m\u001b[36m\u001b[1mInfo: \u001b[22m\u001b[39m           37.331102s: 37 seconds, 331 milliseconds\n",
      "\u001b[36m\u001b[1m[ \u001b[22m\u001b[39m\u001b[36m\u001b[1mInfo: \u001b[22m\u001b[39m started timer at: 2025-03-05T16:15:42.582\n"
     ]
    },
    {
     "name": "stdout",
     "output_type": "stream",
     "text": [
      "false\n"
     ]
    },
    {
     "name": "stderr",
     "output_type": "stream",
     "text": [
      "\u001b[36m\u001b[1m[ \u001b[22m\u001b[39m\u001b[36m\u001b[1mInfo: \u001b[22m\u001b[39m started timer at: 2025-03-05T16:15:48.859\n"
     ]
    },
    {
     "name": "stdout",
     "output_type": "stream",
     "text": [
      "50\n",
      "k : 2\n",
      "1\n",
      "-23309.597945504756\n",
      "2719.564434673235\n",
      "50\n",
      "K : 2\n",
      "[0 -1200 -100 -1200 -2000]\n"
     ]
    },
    {
     "name": "stderr",
     "output_type": "stream",
     "text": [
      "\u001b[36m\u001b[1m[ \u001b[22m\u001b[39m\u001b[36m\u001b[1mInfo: \u001b[22m\u001b[39m          47.0223952s: 47 seconds, 22 milliseconds\n",
      "\u001b[36m\u001b[1m[ \u001b[22m\u001b[39m\u001b[36m\u001b[1mInfo: \u001b[22m\u001b[39m started timer at: 2025-03-05T16:16:35.891\n"
     ]
    },
    {
     "name": "stdout",
     "output_type": "stream",
     "text": [
      "false\n"
     ]
    },
    {
     "name": "stderr",
     "output_type": "stream",
     "text": [
      "\u001b[36m\u001b[1m[ \u001b[22m\u001b[39m\u001b[36m\u001b[1mInfo: \u001b[22m\u001b[39m started timer at: 2025-03-05T16:16:42.354\n"
     ]
    },
    {
     "name": "stdout",
     "output_type": "stream",
     "text": [
      "50\n",
      "k : 2\n",
      "1\n",
      "-27637.12728853551\n",
      "3079.488565824113\n",
      "50\n",
      "K : 2\n",
      "[0 -1600 -100 -1200 -2000]\n"
     ]
    },
    {
     "name": "stderr",
     "output_type": "stream",
     "text": [
      "\u001b[36m\u001b[1m[ \u001b[22m\u001b[39m\u001b[36m\u001b[1mInfo: \u001b[22m\u001b[39m          50.2518711s: 50 seconds, 251 milliseconds\n",
      "\u001b[36m\u001b[1m[ \u001b[22m\u001b[39m\u001b[36m\u001b[1mInfo: \u001b[22m\u001b[39m started timer at: 2025-03-05T16:17:32.619\n"
     ]
    },
    {
     "name": "stdout",
     "output_type": "stream",
     "text": [
      "false\n"
     ]
    },
    {
     "name": "stderr",
     "output_type": "stream",
     "text": [
      "\u001b[36m\u001b[1m[ \u001b[22m\u001b[39m\u001b[36m\u001b[1mInfo: \u001b[22m\u001b[39m started timer at: 2025-03-05T16:17:38.735\n"
     ]
    },
    {
     "name": "stdout",
     "output_type": "stream",
     "text": [
      "50\n",
      "k : 2\n",
      "1\n",
      "-31284.94780423793\n",
      "3394.298025587012\n",
      "50\n",
      "K : 2\n",
      "[0 -2000 -100 -1200 -2000]\n"
     ]
    },
    {
     "name": "stderr",
     "output_type": "stream",
     "text": [
      "\u001b[36m\u001b[1m[ \u001b[22m\u001b[39m\u001b[36m\u001b[1mInfo: \u001b[22m\u001b[39m          48.6915737s: 48 seconds, 691 milliseconds\n",
      "\u001b[36m\u001b[1m[ \u001b[22m\u001b[39m\u001b[36m\u001b[1mInfo: \u001b[22m\u001b[39m started timer at: 2025-03-05T16:18:27.447\n"
     ]
    },
    {
     "name": "stdout",
     "output_type": "stream",
     "text": [
      "false\n"
     ]
    },
    {
     "name": "stderr",
     "output_type": "stream",
     "text": [
      "\u001b[36m\u001b[1m[ \u001b[22m\u001b[39m\u001b[36m\u001b[1mInfo: \u001b[22m\u001b[39m started timer at: 2025-03-05T16:18:33.644\n"
     ]
    },
    {
     "name": "stdout",
     "output_type": "stream",
     "text": [
      "50\n",
      "k : 2\n",
      "1\n",
      "-34637.11528797237\n",
      "3604.555898918337\n",
      "50"
     ]
    },
    {
     "name": "stderr",
     "output_type": "stream",
     "text": [
      "\u001b[36m\u001b[1m[ \u001b[22m\u001b[39m\u001b[36m\u001b[1mInfo: \u001b[22m\u001b[39m          47.5178938s: 47 seconds, 517 milliseconds\n",
      "\u001b[36m\u001b[1m[ \u001b[22m\u001b[39m\u001b[36m\u001b[1mInfo: \u001b[22m\u001b[39m started timer at: 2025-03-05T16:19:21.177\n"
     ]
    },
    {
     "name": "stdout",
     "output_type": "stream",
     "text": [
      "\n",
      "K : 2\n",
      "[0 -2400 -100 -1200 -2000]\n",
      "false\n"
     ]
    },
    {
     "name": "stderr",
     "output_type": "stream",
     "text": [
      "\u001b[36m\u001b[1m[ \u001b[22m\u001b[39m\u001b[36m\u001b[1mInfo: \u001b[22m\u001b[39m started timer at: 2025-03-05T16:19:27.403\n"
     ]
    },
    {
     "name": "stdout",
     "output_type": "stream",
     "text": [
      "50\n",
      "k : 2\n",
      "1\n",
      "-37704.98948959648\n",
      "3878.0468639608575\n",
      "50\n",
      "K : 2\n",
      "[0 -2800 -100 -1200 -2000]\n"
     ]
    },
    {
     "name": "stderr",
     "output_type": "stream",
     "text": [
      "\u001b[36m\u001b[1m[ \u001b[22m\u001b[39m\u001b[36m\u001b[1mInfo: \u001b[22m\u001b[39m          47.8311646s: 47 seconds, 831 milliseconds\n",
      "\u001b[36m\u001b[1m[ \u001b[22m\u001b[39m\u001b[36m\u001b[1mInfo: \u001b[22m\u001b[39m started timer at: 2025-03-05T16:20:15.265\n"
     ]
    },
    {
     "name": "stdout",
     "output_type": "stream",
     "text": [
      "false\n"
     ]
    },
    {
     "name": "stderr",
     "output_type": "stream",
     "text": [
      "\u001b[36m\u001b[1m[ \u001b[22m\u001b[39m\u001b[36m\u001b[1mInfo: \u001b[22m\u001b[39m started timer at: 2025-03-05T16:20:21.447\n"
     ]
    },
    {
     "name": "stdout",
     "output_type": "stream",
     "text": [
      "50\n",
      "k : 2\n",
      "1\n",
      "-40020.74168382101\n",
      "4076.7786949321626\n",
      "50\n",
      "K : 2\n",
      "[0 -3200 -100 -1200 -2000]\n"
     ]
    },
    {
     "name": "stderr",
     "output_type": "stream",
     "text": [
      "\u001b[36m\u001b[1m[ \u001b[22m\u001b[39m\u001b[36m\u001b[1mInfo: \u001b[22m\u001b[39m          49.4484423s: 49 seconds, 448 milliseconds\n",
      "\u001b[36m\u001b[1m[ \u001b[22m\u001b[39m\u001b[36m\u001b[1mInfo: \u001b[22m\u001b[39m started timer at: 2025-03-05T16:21:10.911\n"
     ]
    },
    {
     "name": "stdout",
     "output_type": "stream",
     "text": [
      "false\n"
     ]
    },
    {
     "name": "stderr",
     "output_type": "stream",
     "text": [
      "\u001b[36m\u001b[1m[ \u001b[22m\u001b[39m\u001b[36m\u001b[1mInfo: \u001b[22m\u001b[39m started timer at: 2025-03-05T16:21:17.352\n"
     ]
    },
    {
     "name": "stdout",
     "output_type": "stream",
     "text": [
      "50\n",
      "k : 2\n",
      "1\n",
      "-42407.95762653131\n",
      "4224.404024241704\n",
      "50\n",
      "K : 4\n",
      "[0 -800 -100 -1200 -2000]\n"
     ]
    },
    {
     "name": "stderr",
     "output_type": "stream",
     "text": [
      "\u001b[36m\u001b[1m[ \u001b[22m\u001b[39m\u001b[36m\u001b[1mInfo: \u001b[22m\u001b[39m          48.7931858s: 48 seconds, 793 milliseconds\n",
      "\u001b[36m\u001b[1m[ \u001b[22m\u001b[39m\u001b[36m\u001b[1mInfo: \u001b[22m\u001b[39m started timer at: 2025-03-05T16:22:06.148\n"
     ]
    },
    {
     "name": "stdout",
     "output_type": "stream",
     "text": [
      "false\n"
     ]
    },
    {
     "name": "stderr",
     "output_type": "stream",
     "text": [
      "\u001b[36m\u001b[1m[ \u001b[22m\u001b[39m\u001b[36m\u001b[1mInfo: \u001b[22m\u001b[39m started timer at: 2025-03-05T16:22:12.545\n"
     ]
    },
    {
     "name": "stdout",
     "output_type": "stream",
     "text": [
      "50\n",
      "k : 4\n",
      "1\n",
      "-20231.52156805439\n",
      "2028.3020695208231\n",
      "50"
     ]
    },
    {
     "name": "stderr",
     "output_type": "stream",
     "text": [
      "\u001b[36m\u001b[1m[ \u001b[22m\u001b[39m\u001b[36m\u001b[1mInfo: \u001b[22m\u001b[39m          46.3086818s: 46 seconds, 308 milliseconds\n",
      "\u001b[36m\u001b[1m[ \u001b[22m\u001b[39m\u001b[36m\u001b[1mInfo: \u001b[22m\u001b[39m started timer at: 2025-03-05T16:22:58.860\n"
     ]
    },
    {
     "name": "stdout",
     "output_type": "stream",
     "text": [
      "\n",
      "K : 4\n",
      "[0 -1200 -100 -1200 -2000]\n",
      "false\n"
     ]
    },
    {
     "name": "stderr",
     "output_type": "stream",
     "text": [
      "\u001b[36m\u001b[1m[ \u001b[22m\u001b[39m\u001b[36m\u001b[1mInfo: \u001b[22m\u001b[39m started timer at: 2025-03-05T16:23:05.295\n"
     ]
    },
    {
     "name": "stdout",
     "output_type": "stream",
     "text": [
      "50\n",
      "k : 4\n",
      "1\n",
      "-23610.70667127565\n",
      "2323.3644794282613\n",
      "50\n",
      "K : 4\n",
      "[0 -1600 -100 -1200 -2000]\n"
     ]
    },
    {
     "name": "stderr",
     "output_type": "stream",
     "text": [
      "\u001b[36m\u001b[1m[ \u001b[22m\u001b[39m\u001b[36m\u001b[1mInfo: \u001b[22m\u001b[39m          50.2477402s: 50 seconds, 247 milliseconds\n",
      "\u001b[36m\u001b[1m[ \u001b[22m\u001b[39m\u001b[36m\u001b[1mInfo: \u001b[22m\u001b[39m started timer at: 2025-03-05T16:23:55.561\n"
     ]
    },
    {
     "name": "stdout",
     "output_type": "stream",
     "text": [
      "false\n"
     ]
    },
    {
     "name": "stderr",
     "output_type": "stream",
     "text": [
      "\u001b[36m\u001b[1m[ \u001b[22m\u001b[39m\u001b[36m\u001b[1mInfo: \u001b[22m\u001b[39m started timer at: 2025-03-05T16:24:01.911\n"
     ]
    },
    {
     "name": "stdout",
     "output_type": "stream",
     "text": [
      "50\n",
      "k : 4\n",
      "1\n",
      "-26591.03339014233\n",
      "2661.3620946219967\n",
      "50\n",
      "K : 4\n",
      "[0 -2000 -100 -1200 -2000]\n"
     ]
    },
    {
     "name": "stderr",
     "output_type": "stream",
     "text": [
      "\u001b[36m\u001b[1m[ \u001b[22m\u001b[39m\u001b[36m\u001b[1mInfo: \u001b[22m\u001b[39m          48.5064967s: 48 seconds, 506 milliseconds\n",
      "\u001b[36m\u001b[1m[ \u001b[22m\u001b[39m\u001b[36m\u001b[1mInfo: \u001b[22m\u001b[39m started timer at: 2025-03-05T16:24:50.450\n"
     ]
    },
    {
     "name": "stdout",
     "output_type": "stream",
     "text": [
      "false\n"
     ]
    },
    {
     "name": "stderr",
     "output_type": "stream",
     "text": [
      "\u001b[36m\u001b[1m[ \u001b[22m\u001b[39m\u001b[36m\u001b[1mInfo: \u001b[22m\u001b[39m started timer at: 2025-03-05T16:24:56.724\n"
     ]
    },
    {
     "name": "stdout",
     "output_type": "stream",
     "text": [
      "50\n",
      "k : 4\n",
      "1\n",
      "-29307.99512066511\n",
      "2921.927890186826\n",
      "50\n",
      "K : 4\n",
      "[0 -2400 -100 -1200 -2000]\n"
     ]
    },
    {
     "name": "stderr",
     "output_type": "stream",
     "text": [
      "\u001b[36m\u001b[1m[ \u001b[22m\u001b[39m\u001b[36m\u001b[1mInfo: \u001b[22m\u001b[39m          48.0355267s: 48 seconds, 35 milliseconds\n",
      "\u001b[36m\u001b[1m[ \u001b[22m\u001b[39m\u001b[36m\u001b[1mInfo: \u001b[22m\u001b[39m started timer at: 2025-03-05T16:25:44.776\n"
     ]
    },
    {
     "name": "stdout",
     "output_type": "stream",
     "text": [
      "false\n"
     ]
    },
    {
     "name": "stderr",
     "output_type": "stream",
     "text": [
      "\u001b[36m\u001b[1m[ \u001b[22m\u001b[39m\u001b[36m\u001b[1mInfo: \u001b[22m\u001b[39m started timer at: 2025-03-05T16:25:51.147\n"
     ]
    },
    {
     "name": "stdout",
     "output_type": "stream",
     "text": [
      "50\n",
      "k : 4\n",
      "1\n",
      "-31774.35855401864\n",
      "3190.2392094649663\n",
      "50\n",
      "K : 4\n",
      "[0 -2800 -100 -1200 -2000]\n"
     ]
    },
    {
     "name": "stderr",
     "output_type": "stream",
     "text": [
      "\u001b[36m\u001b[1m[ \u001b[22m\u001b[39m\u001b[36m\u001b[1mInfo: \u001b[22m\u001b[39m          46.9952659s: 46 seconds, 995 milliseconds\n",
      "\u001b[36m\u001b[1m[ \u001b[22m\u001b[39m\u001b[36m\u001b[1mInfo: \u001b[22m\u001b[39m started timer at: 2025-03-05T16:26:38.147\n"
     ]
    },
    {
     "name": "stdout",
     "output_type": "stream",
     "text": [
      "false\n"
     ]
    },
    {
     "name": "stderr",
     "output_type": "stream",
     "text": [
      "\u001b[36m\u001b[1m[ \u001b[22m\u001b[39m\u001b[36m\u001b[1mInfo: \u001b[22m\u001b[39m started timer at: 2025-03-05T16:26:44.422\n"
     ]
    },
    {
     "name": "stdout",
     "output_type": "stream",
     "text": [
      "50\n",
      "k : 4\n",
      "1\n",
      "-33940.6153401713\n",
      "3330.240379102785\n",
      "50\n",
      "K : 4\n",
      "[0 -3200 -100 -1200 -2000]\n"
     ]
    },
    {
     "name": "stderr",
     "output_type": "stream",
     "text": [
      "\u001b[36m\u001b[1m[ \u001b[22m\u001b[39m\u001b[36m\u001b[1mInfo: \u001b[22m\u001b[39m          50.2899152s: 50 seconds, 289 milliseconds\n",
      "\u001b[36m\u001b[1m[ \u001b[22m\u001b[39m\u001b[36m\u001b[1mInfo: \u001b[22m\u001b[39m started timer at: 2025-03-05T16:27:34.732\n"
     ]
    },
    {
     "name": "stdout",
     "output_type": "stream",
     "text": [
      "false\n"
     ]
    },
    {
     "name": "stderr",
     "output_type": "stream",
     "text": [
      "\u001b[36m\u001b[1m[ \u001b[22m\u001b[39m\u001b[36m\u001b[1mInfo: \u001b[22m\u001b[39m started timer at: 2025-03-05T16:27:41.056\n"
     ]
    },
    {
     "name": "stdout",
     "output_type": "stream",
     "text": [
      "50\n",
      "k : 4\n",
      "1\n",
      "-35922.99919178522\n",
      "3524.1052247454963\n",
      "50\n",
      "K : 6\n",
      "[0 -800 -100 -1200 -2000]\n"
     ]
    },
    {
     "name": "stderr",
     "output_type": "stream",
     "text": [
      "\u001b[36m\u001b[1m[ \u001b[22m\u001b[39m\u001b[36m\u001b[1mInfo: \u001b[22m\u001b[39m          49.9420606s: 49 seconds, 942 milliseconds\n",
      "\u001b[36m\u001b[1m[ \u001b[22m\u001b[39m\u001b[36m\u001b[1mInfo: \u001b[22m\u001b[39m started timer at: 2025-03-05T16:28:31.008\n"
     ]
    },
    {
     "name": "stdout",
     "output_type": "stream",
     "text": [
      "false\n"
     ]
    },
    {
     "name": "stderr",
     "output_type": "stream",
     "text": [
      "\u001b[36m\u001b[1m[ \u001b[22m\u001b[39m\u001b[36m\u001b[1mInfo: \u001b[22m\u001b[39m started timer at: 2025-03-05T16:28:37.283\n"
     ]
    },
    {
     "name": "stdout",
     "output_type": "stream",
     "text": [
      "50\n",
      "k : 6\n",
      "1\n",
      "-19814.2698836975\n",
      "1931.432520569872\n",
      "50\n",
      "K : 6\n",
      "[0 -1200 -100 -1200 -2000]\n"
     ]
    },
    {
     "name": "stderr",
     "output_type": "stream",
     "text": [
      "\u001b[36m\u001b[1m[ \u001b[22m\u001b[39m\u001b[36m\u001b[1mInfo: \u001b[22m\u001b[39m          49.7779811s: 49 seconds, 777 milliseconds\n",
      "\u001b[36m\u001b[1m[ \u001b[22m\u001b[39m\u001b[36m\u001b[1mInfo: \u001b[22m\u001b[39m started timer at: 2025-03-05T16:29:27.102\n"
     ]
    },
    {
     "name": "stdout",
     "output_type": "stream",
     "text": [
      "false\n"
     ]
    },
    {
     "name": "stderr",
     "output_type": "stream",
     "text": [
      "\u001b[36m\u001b[1m[ \u001b[22m\u001b[39m\u001b[36m\u001b[1mInfo: \u001b[22m\u001b[39m started timer at: 2025-03-05T16:29:33.462\n"
     ]
    },
    {
     "name": "stdout",
     "output_type": "stream",
     "text": [
      "50\n",
      "k : 6\n",
      "1\n",
      "-22746.610997776097\n",
      "2173.457163231094\n",
      "50\n",
      "K : 6\n",
      "[0 -1600 -100 -1200 -2000]\n"
     ]
    },
    {
     "name": "stderr",
     "output_type": "stream",
     "text": [
      "\u001b[36m\u001b[1m[ \u001b[22m\u001b[39m\u001b[36m\u001b[1mInfo: \u001b[22m\u001b[39m          47.2514204s: 47 seconds, 251 milliseconds\n",
      "\u001b[36m\u001b[1m[ \u001b[22m\u001b[39m\u001b[36m\u001b[1mInfo: \u001b[22m\u001b[39m started timer at: 2025-03-05T16:30:20.733\n"
     ]
    },
    {
     "name": "stdout",
     "output_type": "stream",
     "text": [
      "false\n"
     ]
    },
    {
     "name": "stderr",
     "output_type": "stream",
     "text": [
      "\u001b[36m\u001b[1m[ \u001b[22m\u001b[39m\u001b[36m\u001b[1mInfo: \u001b[22m\u001b[39m started timer at: 2025-03-05T16:30:27.007\n"
     ]
    },
    {
     "name": "stdout",
     "output_type": "stream",
     "text": [
      "50\n",
      "k : 6\n",
      "1\n",
      "-25389.13650018118\n",
      "2367.744774214113\n",
      "50\n",
      "K : 6\n",
      "[0 -2000 -100 -1200 -2000]\n"
     ]
    },
    {
     "name": "stderr",
     "output_type": "stream",
     "text": [
      "\u001b[36m\u001b[1m[ \u001b[22m\u001b[39m\u001b[36m\u001b[1mInfo: \u001b[22m\u001b[39m          51.0431356s: 51 seconds, 43 milliseconds\n",
      "\u001b[36m\u001b[1m[ \u001b[22m\u001b[39m\u001b[36m\u001b[1mInfo: \u001b[22m\u001b[39m started timer at: 2025-03-05T16:31:18.072\n"
     ]
    },
    {
     "name": "stdout",
     "output_type": "stream",
     "text": [
      "false\n"
     ]
    },
    {
     "name": "stderr",
     "output_type": "stream",
     "text": [
      "\u001b[36m\u001b[1m[ \u001b[22m\u001b[39m\u001b[36m\u001b[1mInfo: \u001b[22m\u001b[39m started timer at: 2025-03-05T16:31:24.393\n"
     ]
    },
    {
     "name": "stdout",
     "output_type": "stream",
     "text": [
      "50\n",
      "k : 6\n",
      "1\n",
      "-27606.397842019425\n",
      "2615.5253729915307\n",
      "50\n",
      "K : 6\n",
      "[0 -2400 -100 -1200 -2000]\n"
     ]
    },
    {
     "name": "stderr",
     "output_type": "stream",
     "text": [
      "\u001b[36m\u001b[1m[ \u001b[22m\u001b[39m\u001b[36m\u001b[1mInfo: \u001b[22m\u001b[39m          49.1788747s: 49 seconds, 178 milliseconds\n",
      "\u001b[36m\u001b[1m[ \u001b[22m\u001b[39m\u001b[36m\u001b[1mInfo: \u001b[22m\u001b[39m started timer at: 2025-03-05T16:32:13.588\n"
     ]
    },
    {
     "name": "stdout",
     "output_type": "stream",
     "text": [
      "false\n"
     ]
    },
    {
     "name": "stderr",
     "output_type": "stream",
     "text": [
      "\u001b[36m\u001b[1m[ \u001b[22m\u001b[39m\u001b[36m\u001b[1mInfo: \u001b[22m\u001b[39m started timer at: 2025-03-05T16:32:19.940\n"
     ]
    },
    {
     "name": "stdout",
     "output_type": "stream",
     "text": [
      "50\n",
      "k : 6\n",
      "1\n",
      "-29698.880776909125\n",
      "2808.4508795785982\n",
      "50\n",
      "K : 6\n",
      "[0 -2800 -100 -1200 -2000]\n"
     ]
    },
    {
     "name": "stderr",
     "output_type": "stream",
     "text": [
      "\u001b[36m\u001b[1m[ \u001b[22m\u001b[39m\u001b[36m\u001b[1mInfo: \u001b[22m\u001b[39m          47.9769624s: 47 seconds, 976 milliseconds\n",
      "\u001b[36m\u001b[1m[ \u001b[22m\u001b[39m\u001b[36m\u001b[1mInfo: \u001b[22m\u001b[39m started timer at: 2025-03-05T16:33:07.929\n"
     ]
    },
    {
     "name": "stdout",
     "output_type": "stream",
     "text": [
      "false\n"
     ]
    },
    {
     "name": "stderr",
     "output_type": "stream",
     "text": [
      "\u001b[36m\u001b[1m[ \u001b[22m\u001b[39m\u001b[36m\u001b[1mInfo: \u001b[22m\u001b[39m started timer at: 2025-03-05T16:33:14.125\n"
     ]
    },
    {
     "name": "stdout",
     "output_type": "stream",
     "text": [
      "50\n",
      "k : 6\n",
      "1\n",
      "-31583.49441863472\n",
      "2987.509945979489\n",
      "50\n",
      "K : 6\n",
      "[0 -3200 -100 -1200 -2000]\n"
     ]
    },
    {
     "name": "stderr",
     "output_type": "stream",
     "text": [
      "\u001b[36m\u001b[1m[ \u001b[22m\u001b[39m\u001b[36m\u001b[1mInfo: \u001b[22m\u001b[39m          45.3380282s: 45 seconds, 338 milliseconds\n",
      "\u001b[36m\u001b[1m[ \u001b[22m\u001b[39m\u001b[36m\u001b[1mInfo: \u001b[22m\u001b[39m started timer at: 2025-03-05T16:33:59.485\n"
     ]
    },
    {
     "name": "stdout",
     "output_type": "stream",
     "text": [
      "false\n"
     ]
    },
    {
     "name": "stderr",
     "output_type": "stream",
     "text": [
      "\u001b[36m\u001b[1m[ \u001b[22m\u001b[39m\u001b[36m\u001b[1mInfo: \u001b[22m\u001b[39m started timer at: 2025-03-05T16:34:05.654\n"
     ]
    },
    {
     "name": "stdout",
     "output_type": "stream",
     "text": [
      "50\n",
      "k : 6\n",
      "1\n",
      "-33383.932710859095\n",
      "3205.017951080266\n",
      "50\n",
      "K : 8\n",
      "[0 -800 -100 -1200 -2000]\n"
     ]
    },
    {
     "name": "stderr",
     "output_type": "stream",
     "text": [
      "\u001b[36m\u001b[1m[ \u001b[22m\u001b[39m\u001b[36m\u001b[1mInfo: \u001b[22m\u001b[39m          49.1730301s: 49 seconds, 173 milliseconds\n",
      "\u001b[36m\u001b[1m[ \u001b[22m\u001b[39m\u001b[36m\u001b[1mInfo: \u001b[22m\u001b[39m started timer at: 2025-03-05T16:34:54.843\n"
     ]
    },
    {
     "name": "stdout",
     "output_type": "stream",
     "text": [
      "false\n"
     ]
    },
    {
     "name": "stderr",
     "output_type": "stream",
     "text": [
      "\u001b[36m\u001b[1m[ \u001b[22m\u001b[39m\u001b[36m\u001b[1mInfo: \u001b[22m\u001b[39m started timer at: 2025-03-05T16:35:01.003\n"
     ]
    },
    {
     "name": "stdout",
     "output_type": "stream",
     "text": [
      "50\n",
      "k : 8\n",
      "1\n",
      "-19684.905470124173\n",
      "1943.6616924306074\n",
      "50\n",
      "K : 8\n",
      "[0 -1200 -100 -1200 -2000]\n"
     ]
    },
    {
     "name": "stderr",
     "output_type": "stream",
     "text": [
      "\u001b[36m\u001b[1m[ \u001b[22m\u001b[39m\u001b[36m\u001b[1mInfo: \u001b[22m\u001b[39m          49.9810294s: 49 seconds, 981 milliseconds\n",
      "\u001b[36m\u001b[1m[ \u001b[22m\u001b[39m\u001b[36m\u001b[1mInfo: \u001b[22m\u001b[39m started timer at: 2025-03-05T16:35:50.998\n"
     ]
    },
    {
     "name": "stdout",
     "output_type": "stream",
     "text": [
      "false\n"
     ]
    },
    {
     "name": "stderr",
     "output_type": "stream",
     "text": [
      "\u001b[36m\u001b[1m[ \u001b[22m\u001b[39m\u001b[36m\u001b[1mInfo: \u001b[22m\u001b[39m started timer at: 2025-03-05T16:35:57.115\n"
     ]
    },
    {
     "name": "stdout",
     "output_type": "stream",
     "text": [
      "50\n",
      "k : 8\n",
      "1\n",
      "-22526.05895070752\n",
      "2119.978598887717\n",
      "50\n",
      "K : 8\n",
      "[0 -1600 -100 -1200 -2000]\n"
     ]
    },
    {
     "name": "stderr",
     "output_type": "stream",
     "text": [
      "\u001b[36m\u001b[1m[ \u001b[22m\u001b[39m\u001b[36m\u001b[1mInfo: \u001b[22m\u001b[39m          48.1571266s: 48 seconds, 157 milliseconds\n",
      "\u001b[36m\u001b[1m[ \u001b[22m\u001b[39m\u001b[36m\u001b[1mInfo: \u001b[22m\u001b[39m started timer at: 2025-03-05T16:36:45.293\n"
     ]
    },
    {
     "name": "stdout",
     "output_type": "stream",
     "text": [
      "false\n"
     ]
    },
    {
     "name": "stderr",
     "output_type": "stream",
     "text": [
      "\u001b[36m\u001b[1m[ \u001b[22m\u001b[39m\u001b[36m\u001b[1mInfo: \u001b[22m\u001b[39m started timer at: 2025-03-05T16:36:51.521\n"
     ]
    },
    {
     "name": "stdout",
     "output_type": "stream",
     "text": [
      "50\n",
      "k : 8\n",
      "1\n",
      "-24890.42052622292\n",
      "2327.25028770035\n",
      "50\n",
      "K : 8\n",
      "[0 -2000 -100 -1200 -2000]\n"
     ]
    },
    {
     "name": "stderr",
     "output_type": "stream",
     "text": [
      "\u001b[36m\u001b[1m[ \u001b[22m\u001b[39m\u001b[36m\u001b[1mInfo: \u001b[22m\u001b[39m          46.2943939s: 46 seconds, 294 milliseconds\n",
      "\u001b[36m\u001b[1m[ \u001b[22m\u001b[39m\u001b[36m\u001b[1mInfo: \u001b[22m\u001b[39m started timer at: 2025-03-05T16:37:37.832\n"
     ]
    },
    {
     "name": "stdout",
     "output_type": "stream",
     "text": [
      "false\n"
     ]
    },
    {
     "name": "stderr",
     "output_type": "stream",
     "text": [
      "\u001b[36m\u001b[1m[ \u001b[22m\u001b[39m\u001b[36m\u001b[1mInfo: \u001b[22m\u001b[39m started timer at: 2025-03-05T16:37:44.092\n"
     ]
    },
    {
     "name": "stdout",
     "output_type": "stream",
     "text": [
      "50\n",
      "k : 8\n",
      "1\n",
      "-26920.71225814724\n",
      "2472.2339338845304\n",
      "50\n",
      "K : 8\n",
      "[0 -2400 -100 -1200 -2000]\n"
     ]
    },
    {
     "name": "stderr",
     "output_type": "stream",
     "text": [
      "\u001b[36m\u001b[1m[ \u001b[22m\u001b[39m\u001b[36m\u001b[1mInfo: \u001b[22m\u001b[39m          49.7573733s: 49 seconds, 757 milliseconds\n",
      "\u001b[36m\u001b[1m[ \u001b[22m\u001b[39m\u001b[36m\u001b[1mInfo: \u001b[22m\u001b[39m started timer at: 2025-03-05T16:38:33.855\n"
     ]
    },
    {
     "name": "stdout",
     "output_type": "stream",
     "text": [
      "false\n"
     ]
    },
    {
     "name": "stderr",
     "output_type": "stream",
     "text": [
      "\u001b[36m\u001b[1m[ \u001b[22m\u001b[39m\u001b[36m\u001b[1mInfo: \u001b[22m\u001b[39m started timer at: 2025-03-05T16:38:40.178\n"
     ]
    },
    {
     "name": "stdout",
     "output_type": "stream",
     "text": [
      "50\n",
      "k : 8\n",
      "1\n",
      "-28775.293659796404\n",
      "2644.9060338641543\n",
      "50\n",
      "K : 8\n",
      "[0 -2800 -100 -1200 -2000]\n"
     ]
    },
    {
     "name": "stderr",
     "output_type": "stream",
     "text": [
      "\u001b[36m\u001b[1m[ \u001b[22m\u001b[39m\u001b[36m\u001b[1mInfo: \u001b[22m\u001b[39m          48.4498268s: 48 seconds, 449 milliseconds\n",
      "\u001b[36m\u001b[1m[ \u001b[22m\u001b[39m\u001b[36m\u001b[1mInfo: \u001b[22m\u001b[39m started timer at: 2025-03-05T16:39:28.655\n"
     ]
    },
    {
     "name": "stdout",
     "output_type": "stream",
     "text": [
      "false\n"
     ]
    },
    {
     "name": "stderr",
     "output_type": "stream",
     "text": [
      "\u001b[36m\u001b[1m[ \u001b[22m\u001b[39m\u001b[36m\u001b[1mInfo: \u001b[22m\u001b[39m started timer at: 2025-03-05T16:39:34.946\n"
     ]
    },
    {
     "name": "stdout",
     "output_type": "stream",
     "text": [
      "50\n",
      "k : 8\n",
      "1\n",
      "-30376.588836879964\n",
      "2834.658311719382\n",
      "50\n",
      "K : 8\n",
      "[0 -3200 -100 -1200 -2000]\n"
     ]
    },
    {
     "name": "stderr",
     "output_type": "stream",
     "text": [
      "\u001b[36m\u001b[1m[ \u001b[22m\u001b[39m\u001b[36m\u001b[1mInfo: \u001b[22m\u001b[39m          47.6483741s: 47 seconds, 648 milliseconds\n",
      "\u001b[36m\u001b[1m[ \u001b[22m\u001b[39m\u001b[36m\u001b[1mInfo: \u001b[22m\u001b[39m started timer at: 2025-03-05T16:40:22.606\n"
     ]
    },
    {
     "name": "stdout",
     "output_type": "stream",
     "text": [
      "false\n"
     ]
    },
    {
     "name": "stderr",
     "output_type": "stream",
     "text": [
      "\u001b[36m\u001b[1m[ \u001b[22m\u001b[39m\u001b[36m\u001b[1mInfo: \u001b[22m\u001b[39m started timer at: 2025-03-05T16:40:28.786\n"
     ]
    },
    {
     "name": "stdout",
     "output_type": "stream",
     "text": [
      "50\n",
      "k : 8\n",
      "1\n",
      "-32003.107066835535\n",
      "2921.6971616152855\n",
      "50\n",
      "K : 10\n",
      "[0 -800 -100 -1200 -2000]\n"
     ]
    },
    {
     "name": "stderr",
     "output_type": "stream",
     "text": [
      "\u001b[36m\u001b[1m[ \u001b[22m\u001b[39m\u001b[36m\u001b[1mInfo: \u001b[22m\u001b[39m          46.8113385s: 46 seconds, 811 milliseconds\n",
      "\u001b[36m\u001b[1m[ \u001b[22m\u001b[39m\u001b[36m\u001b[1mInfo: \u001b[22m\u001b[39m started timer at: 2025-03-05T16:41:15.603\n"
     ]
    },
    {
     "name": "stdout",
     "output_type": "stream",
     "text": [
      "false\n"
     ]
    },
    {
     "name": "stderr",
     "output_type": "stream",
     "text": [
      "\u001b[36m\u001b[1m[ \u001b[22m\u001b[39m\u001b[36m\u001b[1mInfo: \u001b[22m\u001b[39m started timer at: 2025-03-05T16:41:21.814\n"
     ]
    },
    {
     "name": "stdout",
     "output_type": "stream",
     "text": [
      "50\n",
      "k : 10\n",
      "1\n",
      "-19617.70790172552\n",
      "1902.1156859659552\n",
      "50\n",
      "K : 10\n",
      "[0 -1200 -100 -1200 -2000]\n"
     ]
    },
    {
     "name": "stderr",
     "output_type": "stream",
     "text": [
      "\u001b[36m\u001b[1m[ \u001b[22m\u001b[39m\u001b[36m\u001b[1mInfo: \u001b[22m\u001b[39m          50.2861707s: 50 seconds, 286 milliseconds\n",
      "\u001b[36m\u001b[1m[ \u001b[22m\u001b[39m\u001b[36m\u001b[1mInfo: \u001b[22m\u001b[39m started timer at: 2025-03-05T16:42:12.123\n"
     ]
    },
    {
     "name": "stdout",
     "output_type": "stream",
     "text": [
      "false\n"
     ]
    },
    {
     "name": "stderr",
     "output_type": "stream",
     "text": [
      "\u001b[36m\u001b[1m[ \u001b[22m\u001b[39m\u001b[36m\u001b[1mInfo: \u001b[22m\u001b[39m started timer at: 2025-03-05T16:42:18.355\n"
     ]
    },
    {
     "name": "stdout",
     "output_type": "stream",
     "text": [
      "50\n",
      "k : 10\n",
      "1\n",
      "-22412.996526949686\n",
      "2125.2211674900395\n",
      "50\n",
      "K : 10\n",
      "[0 -1600 -100 -1200 -2000]\n"
     ]
    },
    {
     "name": "stderr",
     "output_type": "stream",
     "text": [
      "\u001b[36m\u001b[1m[ \u001b[22m\u001b[39m\u001b[36m\u001b[1mInfo: \u001b[22m\u001b[39m          49.0140443s: 49 seconds, 14 milliseconds\n",
      "\u001b[36m\u001b[1m[ \u001b[22m\u001b[39m\u001b[36m\u001b[1mInfo: \u001b[22m\u001b[39m started timer at: 2025-03-05T16:43:07.394\n"
     ]
    },
    {
     "name": "stdout",
     "output_type": "stream",
     "text": [
      "false\n"
     ]
    },
    {
     "name": "stderr",
     "output_type": "stream",
     "text": [
      "\u001b[36m\u001b[1m[ \u001b[22m\u001b[39m\u001b[36m\u001b[1mInfo: \u001b[22m\u001b[39m started timer at: 2025-03-05T16:43:13.606\n"
     ]
    },
    {
     "name": "stdout",
     "output_type": "stream",
     "text": [
      "50\n",
      "k : 10\n",
      "1\n",
      "-24634.58896434254\n",
      "2287.930933733651\n",
      "50\n",
      "K : 10\n",
      "[0 -2000 -100 -1200 -2000]\n"
     ]
    },
    {
     "name": "stderr",
     "output_type": "stream",
     "text": [
      "\u001b[36m\u001b[1m[ \u001b[22m\u001b[39m\u001b[36m\u001b[1mInfo: \u001b[22m\u001b[39m          46.2544395s: 46 seconds, 254 milliseconds\n",
      "\u001b[36m\u001b[1m[ \u001b[22m\u001b[39m\u001b[36m\u001b[1mInfo: \u001b[22m\u001b[39m started timer at: 2025-03-05T16:43:59.872\n"
     ]
    },
    {
     "name": "stdout",
     "output_type": "stream",
     "text": [
      "false\n"
     ]
    },
    {
     "name": "stderr",
     "output_type": "stream",
     "text": [
      "\u001b[36m\u001b[1m[ \u001b[22m\u001b[39m\u001b[36m\u001b[1mInfo: \u001b[22m\u001b[39m started timer at: 2025-03-05T16:44:06.147\n"
     ]
    },
    {
     "name": "stdout",
     "output_type": "stream",
     "text": [
      "50\n",
      "k : 10\n",
      "1\n",
      "-26597.76010413912\n",
      "2409.2645429933436\n",
      "50\n",
      "K : 10\n",
      "[0 -2400 -100 -1200 -2000]\n"
     ]
    },
    {
     "name": "stderr",
     "output_type": "stream",
     "text": [
      "\u001b[36m\u001b[1m[ \u001b[22m\u001b[39m\u001b[36m\u001b[1mInfo: \u001b[22m\u001b[39m          50.1806008s: 50 seconds, 180 milliseconds\n",
      "\u001b[36m\u001b[1m[ \u001b[22m\u001b[39m\u001b[36m\u001b[1mInfo: \u001b[22m\u001b[39m started timer at: 2025-03-05T16:44:56.333\n"
     ]
    },
    {
     "name": "stdout",
     "output_type": "stream",
     "text": [
      "false\n"
     ]
    },
    {
     "name": "stderr",
     "output_type": "stream",
     "text": [
      "\u001b[36m\u001b[1m[ \u001b[22m\u001b[39m\u001b[36m\u001b[1mInfo: \u001b[22m\u001b[39m started timer at: 2025-03-05T16:45:02.561\n"
     ]
    },
    {
     "name": "stdout",
     "output_type": "stream",
     "text": [
      "50\n",
      "k : 10\n",
      "1\n",
      "-28259.060209710537\n",
      "2543.3202727287976\n",
      "50\n",
      "K : 10\n",
      "[0 -2800 -100 -1200 -2000]\n"
     ]
    },
    {
     "name": "stderr",
     "output_type": "stream",
     "text": [
      "\u001b[36m\u001b[1m[ \u001b[22m\u001b[39m\u001b[36m\u001b[1mInfo: \u001b[22m\u001b[39m          49.2969049s: 49 seconds, 296 milliseconds\n",
      "\u001b[36m\u001b[1m[ \u001b[22m\u001b[39m\u001b[36m\u001b[1mInfo: \u001b[22m\u001b[39m started timer at: 2025-03-05T16:45:51.868\n"
     ]
    },
    {
     "name": "stdout",
     "output_type": "stream",
     "text": [
      "false\n"
     ]
    },
    {
     "name": "stderr",
     "output_type": "stream",
     "text": [
      "\u001b[36m\u001b[1m[ \u001b[22m\u001b[39m\u001b[36m\u001b[1mInfo: \u001b[22m\u001b[39m started timer at: 2025-03-05T16:45:58.137\n"
     ]
    },
    {
     "name": "stdout",
     "output_type": "stream",
     "text": [
      "50\n",
      "k : 10\n",
      "1\n",
      "-29641.4224083475\n",
      "2679.4741776978785\n",
      "50\n",
      "K : 10\n",
      "[0 -3200 -100 -1200 -2000]\n"
     ]
    },
    {
     "name": "stderr",
     "output_type": "stream",
     "text": [
      "\u001b[36m\u001b[1m[ \u001b[22m\u001b[39m\u001b[36m\u001b[1mInfo: \u001b[22m\u001b[39m            48.38475s: 48 seconds, 384 milliseconds\n",
      "\u001b[36m\u001b[1m[ \u001b[22m\u001b[39m\u001b[36m\u001b[1mInfo: \u001b[22m\u001b[39m started timer at: 2025-03-05T16:46:46.542\n"
     ]
    },
    {
     "name": "stdout",
     "output_type": "stream",
     "text": [
      "false\n"
     ]
    },
    {
     "name": "stderr",
     "output_type": "stream",
     "text": [
      "\u001b[36m\u001b[1m[ \u001b[22m\u001b[39m\u001b[36m\u001b[1mInfo: \u001b[22m\u001b[39m started timer at: 2025-03-05T16:46:52.832\n"
     ]
    },
    {
     "name": "stdout",
     "output_type": "stream",
     "text": [
      "50\n",
      "k : 10\n",
      "1\n",
      "-31119.374231666945\n",
      "2808.020037497729\n",
      "50\n",
      "K : 12\n",
      "[0 -800 -100 -1200 -2000]\n"
     ]
    },
    {
     "name": "stderr",
     "output_type": "stream",
     "text": [
      "\u001b[36m\u001b[1m[ \u001b[22m\u001b[39m\u001b[36m\u001b[1mInfo: \u001b[22m\u001b[39m          45.4118062s: 45 seconds, 411 milliseconds\n",
      "\u001b[36m\u001b[1m[ \u001b[22m\u001b[39m\u001b[36m\u001b[1mInfo: \u001b[22m\u001b[39m started timer at: 2025-03-05T16:47:38.250\n"
     ]
    },
    {
     "name": "stdout",
     "output_type": "stream",
     "text": [
      "false\n"
     ]
    },
    {
     "name": "stderr",
     "output_type": "stream",
     "text": [
      "\u001b[36m\u001b[1m[ \u001b[22m\u001b[39m\u001b[36m\u001b[1mInfo: \u001b[22m\u001b[39m started timer at: 2025-03-05T16:47:44.681\n"
     ]
    },
    {
     "name": "stdout",
     "output_type": "stream",
     "text": [
      "50\n",
      "k : 12\n",
      "1\n",
      "-19561.677450816922\n",
      "1901.835607281658\n",
      "50\n",
      "K : 12\n",
      "[0 -1200 -100 -1200 -2000]\n"
     ]
    },
    {
     "name": "stderr",
     "output_type": "stream",
     "text": [
      "\u001b[36m\u001b[1m[ \u001b[22m\u001b[39m\u001b[36m\u001b[1mInfo: \u001b[22m\u001b[39m          50.8951387s: 50 seconds, 895 milliseconds\n",
      "\u001b[36m\u001b[1m[ \u001b[22m\u001b[39m\u001b[36m\u001b[1mInfo: \u001b[22m\u001b[39m started timer at: 2025-03-05T16:48:35.591\n"
     ]
    },
    {
     "name": "stdout",
     "output_type": "stream",
     "text": [
      "false\n"
     ]
    },
    {
     "name": "stderr",
     "output_type": "stream",
     "text": [
      "\u001b[36m\u001b[1m[ \u001b[22m\u001b[39m\u001b[36m\u001b[1mInfo: \u001b[22m\u001b[39m started timer at: 2025-03-05T16:48:41.881\n"
     ]
    },
    {
     "name": "stdout",
     "output_type": "stream",
     "text": [
      "50\n",
      "k : 12\n",
      "1\n",
      "-22372.522616174523\n",
      "2104.062652502998\n",
      "50\n",
      "K : 12\n",
      "[0 -1600 -100 -1200 -2000]\n"
     ]
    },
    {
     "name": "stderr",
     "output_type": "stream",
     "text": [
      "\u001b[36m\u001b[1m[ \u001b[22m\u001b[39m\u001b[36m\u001b[1mInfo: \u001b[22m\u001b[39m          50.0518259s: 50 seconds, 51 milliseconds\n",
      "\u001b[36m\u001b[1m[ \u001b[22m\u001b[39m\u001b[36m\u001b[1mInfo: \u001b[22m\u001b[39m started timer at: 2025-03-05T16:49:31.944\n"
     ]
    },
    {
     "name": "stdout",
     "output_type": "stream",
     "text": [
      "false\n"
     ]
    },
    {
     "name": "stderr",
     "output_type": "stream",
     "text": [
      "\u001b[36m\u001b[1m[ \u001b[22m\u001b[39m\u001b[36m\u001b[1mInfo: \u001b[22m\u001b[39m started timer at: 2025-03-05T16:49:38.234\n"
     ]
    },
    {
     "name": "stdout",
     "output_type": "stream",
     "text": [
      "50\n",
      "k : 12\n",
      "1\n",
      "-24556.382464414946\n",
      "2246.8496409833983\n",
      "50\n",
      "K : 12\n",
      "[0 -2000 -100 -1200 -2000]\n"
     ]
    },
    {
     "name": "stderr",
     "output_type": "stream",
     "text": [
      "\u001b[36m\u001b[1m[ \u001b[22m\u001b[39m\u001b[36m\u001b[1mInfo: \u001b[22m\u001b[39m          49.2152385s: 49 seconds, 215 milliseconds\n",
      "\u001b[36m\u001b[1m[ \u001b[22m\u001b[39m\u001b[36m\u001b[1mInfo: \u001b[22m\u001b[39m started timer at: 2025-03-05T16:50:27.462\n"
     ]
    },
    {
     "name": "stdout",
     "output_type": "stream",
     "text": [
      "false\n"
     ]
    },
    {
     "name": "stderr",
     "output_type": "stream",
     "text": [
      "\u001b[36m\u001b[1m[ \u001b[22m\u001b[39m\u001b[36m\u001b[1mInfo: \u001b[22m\u001b[39m started timer at: 2025-03-05T16:50:33.864\n"
     ]
    },
    {
     "name": "stdout",
     "output_type": "stream",
     "text": [
      "50\n",
      "k : 12\n",
      "1\n",
      "-26335.551162350446\n",
      "2344.7692252284437\n",
      "50\n",
      "K : 12\n",
      "[0 -2400 -100 -1200 -2000]\n"
     ]
    },
    {
     "name": "stderr",
     "output_type": "stream",
     "text": [
      "\u001b[36m\u001b[1m[ \u001b[22m\u001b[39m\u001b[36m\u001b[1mInfo: \u001b[22m\u001b[39m          46.8938869s: 46 seconds, 893 milliseconds\n",
      "\u001b[36m\u001b[1m[ \u001b[22m\u001b[39m\u001b[36m\u001b[1mInfo: \u001b[22m\u001b[39m started timer at: 2025-03-05T16:51:20.771\n"
     ]
    },
    {
     "name": "stdout",
     "output_type": "stream",
     "text": [
      "false\n"
     ]
    },
    {
     "name": "stderr",
     "output_type": "stream",
     "text": [
      "\u001b[36m\u001b[1m[ \u001b[22m\u001b[39m\u001b[36m\u001b[1mInfo: \u001b[22m\u001b[39m started timer at: 2025-03-05T16:51:27.061\n"
     ]
    },
    {
     "name": "stdout",
     "output_type": "stream",
     "text": [
      "50\n",
      "k : 12\n",
      "1\n",
      "-27904.787408411412\n",
      "2500.1936026678613\n",
      "50\n",
      "K : 12\n",
      "[0 -2800 -100 -1200 -2000]\n"
     ]
    },
    {
     "name": "stderr",
     "output_type": "stream",
     "text": [
      "\u001b[36m\u001b[1m[ \u001b[22m\u001b[39m\u001b[36m\u001b[1mInfo: \u001b[22m\u001b[39m          49.5257734s: 49 seconds, 525 milliseconds\n",
      "\u001b[36m\u001b[1m[ \u001b[22m\u001b[39m\u001b[36m\u001b[1mInfo: \u001b[22m\u001b[39m started timer at: 2025-03-05T16:52:16.607\n"
     ]
    },
    {
     "name": "stdout",
     "output_type": "stream",
     "text": [
      "false\n"
     ]
    },
    {
     "name": "stderr",
     "output_type": "stream",
     "text": [
      "\u001b[36m\u001b[1m[ \u001b[22m\u001b[39m\u001b[36m\u001b[1mInfo: \u001b[22m\u001b[39m started timer at: 2025-03-05T16:52:22.756\n"
     ]
    },
    {
     "name": "stdout",
     "output_type": "stream",
     "text": [
      "50\n",
      "k : 12\n",
      "1\n",
      "-29207.326809244372\n",
      "2609.194403203681\n",
      "50\n",
      "K : 12\n",
      "[0 -3200 -100 -1200 -2000]\n"
     ]
    },
    {
     "name": "stderr",
     "output_type": "stream",
     "text": [
      "\u001b[36m\u001b[1m[ \u001b[22m\u001b[39m\u001b[36m\u001b[1mInfo: \u001b[22m\u001b[39m          47.6642287s: 47 seconds, 664 milliseconds\n",
      "\u001b[36m\u001b[1m[ \u001b[22m\u001b[39m\u001b[36m\u001b[1mInfo: \u001b[22m\u001b[39m started timer at: 2025-03-05T16:53:10.446\n"
     ]
    },
    {
     "name": "stdout",
     "output_type": "stream",
     "text": [
      "false\n"
     ]
    },
    {
     "name": "stderr",
     "output_type": "stream",
     "text": [
      "\u001b[36m\u001b[1m[ \u001b[22m\u001b[39m\u001b[36m\u001b[1mInfo: \u001b[22m\u001b[39m started timer at: 2025-03-05T16:53:16.644\n"
     ]
    },
    {
     "name": "stdout",
     "output_type": "stream",
     "text": [
      "50\n",
      "k : 12\n",
      "1\n",
      "-30462.112901210607\n",
      "2691.33884663917\n",
      "50\n",
      "K : 14\n",
      "[0 -800 -100 -1200 -2000]\n"
     ]
    },
    {
     "name": "stderr",
     "output_type": "stream",
     "text": [
      "\u001b[36m\u001b[1m[ \u001b[22m\u001b[39m\u001b[36m\u001b[1mInfo: \u001b[22m\u001b[39m          46.4895809s: 46 seconds, 489 milliseconds\n",
      "\u001b[36m\u001b[1m[ \u001b[22m\u001b[39m\u001b[36m\u001b[1mInfo: \u001b[22m\u001b[39m started timer at: 2025-03-05T16:54:03.158\n"
     ]
    },
    {
     "name": "stdout",
     "output_type": "stream",
     "text": [
      "false\n"
     ]
    },
    {
     "name": "stderr",
     "output_type": "stream",
     "text": [
      "\u001b[36m\u001b[1m[ \u001b[22m\u001b[39m\u001b[36m\u001b[1mInfo: \u001b[22m\u001b[39m started timer at: 2025-03-05T16:54:09.433\n"
     ]
    },
    {
     "name": "stdout",
     "output_type": "stream",
     "text": [
      "50\n",
      "k : 14\n",
      "1\n",
      "-19543.77448609938\n",
      "1904.6529983675443\n",
      "50\n",
      "K : 14\n",
      "[0 -1200 -100 -1200 -2000]\n"
     ]
    },
    {
     "name": "stderr",
     "output_type": "stream",
     "text": [
      "\u001b[36m\u001b[1m[ \u001b[22m\u001b[39m\u001b[36m\u001b[1mInfo: \u001b[22m\u001b[39m          47.1471752s: 47 seconds, 147 milliseconds\n",
      "\u001b[36m\u001b[1m[ \u001b[22m\u001b[39m\u001b[36m\u001b[1mInfo: \u001b[22m\u001b[39m started timer at: 2025-03-05T16:54:56.621\n"
     ]
    },
    {
     "name": "stdout",
     "output_type": "stream",
     "text": [
      "false\n"
     ]
    },
    {
     "name": "stderr",
     "output_type": "stream",
     "text": [
      "\u001b[36m\u001b[1m[ \u001b[22m\u001b[39m\u001b[36m\u001b[1mInfo: \u001b[22m\u001b[39m started timer at: 2025-03-05T16:55:02.834\n"
     ]
    },
    {
     "name": "stdout",
     "output_type": "stream",
     "text": [
      "50\n",
      "k : 14\n",
      "1\n",
      "-22365.294967342623\n",
      "2092.8047900454803\n",
      "50\n",
      "K : 14\n",
      "[0 -1600 -100 -1200 -2000]\n"
     ]
    },
    {
     "name": "stderr",
     "output_type": "stream",
     "text": [
      "\u001b[36m\u001b[1m[ \u001b[22m\u001b[39m\u001b[36m\u001b[1mInfo: \u001b[22m\u001b[39m          49.8283323s: 49 seconds, 828 milliseconds\n",
      "\u001b[36m\u001b[1m[ \u001b[22m\u001b[39m\u001b[36m\u001b[1mInfo: \u001b[22m\u001b[39m started timer at: 2025-03-05T16:55:52.688\n"
     ]
    },
    {
     "name": "stdout",
     "output_type": "stream",
     "text": [
      "false\n"
     ]
    },
    {
     "name": "stderr",
     "output_type": "stream",
     "text": [
      "\u001b[36m\u001b[1m[ \u001b[22m\u001b[39m\u001b[36m\u001b[1mInfo: \u001b[22m\u001b[39m started timer at: 2025-03-05T16:55:58.915\n"
     ]
    },
    {
     "name": "stdout",
     "output_type": "stream",
     "text": [
      "50\n",
      "k : 14\n",
      "1\n",
      "-24443.002393599625\n",
      "2222.6178235564266\n",
      "50\n",
      "K : 14\n",
      "[0 -2000 -100 -1200 -2000]\n"
     ]
    },
    {
     "name": "stderr",
     "output_type": "stream",
     "text": [
      "\u001b[36m\u001b[1m[ \u001b[22m\u001b[39m\u001b[36m\u001b[1mInfo: \u001b[22m\u001b[39m          48.9703572s: 48 seconds, 970 milliseconds\n",
      "\u001b[36m\u001b[1m[ \u001b[22m\u001b[39m\u001b[36m\u001b[1mInfo: \u001b[22m\u001b[39m started timer at: 2025-03-05T16:56:47.897\n"
     ]
    },
    {
     "name": "stdout",
     "output_type": "stream",
     "text": [
      "false\n"
     ]
    },
    {
     "name": "stderr",
     "output_type": "stream",
     "text": [
      "\u001b[36m\u001b[1m[ \u001b[22m\u001b[39m\u001b[36m\u001b[1mInfo: \u001b[22m\u001b[39m started timer at: 2025-03-05T16:56:54.232\n"
     ]
    },
    {
     "name": "stdout",
     "output_type": "stream",
     "text": [
      "50\n",
      "k : 14\n",
      "1\n",
      "-26269.96853549149\n",
      "2325.6315641167585\n",
      "50\n",
      "K : 14\n",
      "[0 -2400 -100 -1200 -2000]\n"
     ]
    },
    {
     "name": "stderr",
     "output_type": "stream",
     "text": [
      "\u001b[36m\u001b[1m[ \u001b[22m\u001b[39m\u001b[36m\u001b[1mInfo: \u001b[22m\u001b[39m          46.7617936s: 46 seconds, 761 milliseconds\n",
      "\u001b[36m\u001b[1m[ \u001b[22m\u001b[39m\u001b[36m\u001b[1mInfo: \u001b[22m\u001b[39m started timer at: 2025-03-05T16:57:41.013\n"
     ]
    },
    {
     "name": "stdout",
     "output_type": "stream",
     "text": [
      "false\n"
     ]
    },
    {
     "name": "stderr",
     "output_type": "stream",
     "text": [
      "\u001b[36m\u001b[1m[ \u001b[22m\u001b[39m\u001b[36m\u001b[1mInfo: \u001b[22m\u001b[39m started timer at: 2025-03-05T16:57:47.335\n"
     ]
    },
    {
     "name": "stdout",
     "output_type": "stream",
     "text": [
      "50\n",
      "k : 14\n",
      "1\n",
      "-27686.3516241538\n",
      "2398.501675649745\n",
      "50\n",
      "K : 14\n",
      "[0 -2800 -100 -1200 -2000]\n"
     ]
    },
    {
     "name": "stderr",
     "output_type": "stream",
     "text": [
      "\u001b[36m\u001b[1m[ \u001b[22m\u001b[39m\u001b[36m\u001b[1mInfo: \u001b[22m\u001b[39m          47.5231353s: 47 seconds, 523 milliseconds\n",
      "\u001b[36m\u001b[1m[ \u001b[22m\u001b[39m\u001b[36m\u001b[1mInfo: \u001b[22m\u001b[39m started timer at: 2025-03-05T16:58:34.870\n"
     ]
    },
    {
     "name": "stdout",
     "output_type": "stream",
     "text": [
      "false\n"
     ]
    },
    {
     "name": "stderr",
     "output_type": "stream",
     "text": [
      "\u001b[36m\u001b[1m[ \u001b[22m\u001b[39m\u001b[36m\u001b[1mInfo: \u001b[22m\u001b[39m started timer at: 2025-03-05T16:58:41.035\n"
     ]
    },
    {
     "name": "stdout",
     "output_type": "stream",
     "text": [
      "50\n",
      "k : 14\n",
      "1\n",
      "-28929.003398176545\n",
      "2496.134309777048\n",
      "50\n",
      "K : 14\n",
      "[0 -3200 -100 -1200 -2000]\n"
     ]
    },
    {
     "name": "stderr",
     "output_type": "stream",
     "text": [
      "\u001b[36m\u001b[1m[ \u001b[22m\u001b[39m\u001b[36m\u001b[1mInfo: \u001b[22m\u001b[39m          48.8564991s: 48 seconds, 856 milliseconds\n",
      "\u001b[36m\u001b[1m[ \u001b[22m\u001b[39m\u001b[36m\u001b[1mInfo: \u001b[22m\u001b[39m started timer at: 2025-03-05T16:59:29.918\n"
     ]
    },
    {
     "name": "stdout",
     "output_type": "stream",
     "text": [
      "false\n"
     ]
    },
    {
     "name": "stderr",
     "output_type": "stream",
     "text": [
      "\u001b[36m\u001b[1m[ \u001b[22m\u001b[39m\u001b[36m\u001b[1mInfo: \u001b[22m\u001b[39m started timer at: 2025-03-05T16:59:36.184\n"
     ]
    },
    {
     "name": "stdout",
     "output_type": "stream",
     "text": [
      "50\n",
      "k : 14\n",
      "1\n",
      "-30100.528584264554\n",
      "2621.9927604680265\n",
      "50\n",
      "K : 16\n",
      "[0 -800 -100 -1200 -2000]\n"
     ]
    },
    {
     "name": "stderr",
     "output_type": "stream",
     "text": [
      "\u001b[36m\u001b[1m[ \u001b[22m\u001b[39m\u001b[36m\u001b[1mInfo: \u001b[22m\u001b[39m          47.6601424s: 47 seconds, 660 milliseconds\n",
      "\u001b[36m\u001b[1m[ \u001b[22m\u001b[39m\u001b[36m\u001b[1mInfo: \u001b[22m\u001b[39m started timer at: 2025-03-05T17:00:23.885\n"
     ]
    },
    {
     "name": "stdout",
     "output_type": "stream",
     "text": [
      "false\n"
     ]
    },
    {
     "name": "stderr",
     "output_type": "stream",
     "text": [
      "\u001b[36m\u001b[1m[ \u001b[22m\u001b[39m\u001b[36m\u001b[1mInfo: \u001b[22m\u001b[39m started timer at: 2025-03-05T17:00:30.160\n"
     ]
    },
    {
     "name": "stdout",
     "output_type": "stream",
     "text": [
      "50\n",
      "k : 16\n",
      "1\n",
      "-19554.118922083613\n",
      "1902.1921279528776\n",
      "50\n",
      "K : 16\n",
      "[0 -1200 -100 -1200 -2000]\n"
     ]
    },
    {
     "name": "stderr",
     "output_type": "stream",
     "text": [
      "\u001b[36m\u001b[1m[ \u001b[22m\u001b[39m\u001b[36m\u001b[1mInfo: \u001b[22m\u001b[39m          47.5925159s: 47 seconds, 592 milliseconds\n",
      "\u001b[36m\u001b[1m[ \u001b[22m\u001b[39m\u001b[36m\u001b[1mInfo: \u001b[22m\u001b[39m started timer at: 2025-03-05T17:01:17.773\n"
     ]
    },
    {
     "name": "stdout",
     "output_type": "stream",
     "text": [
      "false\n"
     ]
    },
    {
     "name": "stderr",
     "output_type": "stream",
     "text": [
      "\u001b[36m\u001b[1m[ \u001b[22m\u001b[39m\u001b[36m\u001b[1mInfo: \u001b[22m\u001b[39m started timer at: 2025-03-05T17:01:24.080\n"
     ]
    },
    {
     "name": "stdout",
     "output_type": "stream",
     "text": [
      "50\n",
      "k : 16\n",
      "1\n",
      "-22290.480346806457\n",
      "2094.693038470218\n",
      "50\n",
      "K : 16\n",
      "[0 -1600 -100 -1200 -2000]\n"
     ]
    },
    {
     "name": "stderr",
     "output_type": "stream",
     "text": [
      "\u001b[36m\u001b[1m[ \u001b[22m\u001b[39m\u001b[36m\u001b[1mInfo: \u001b[22m\u001b[39m          48.0591984s: 48 seconds, 59 milliseconds\n",
      "\u001b[36m\u001b[1m[ \u001b[22m\u001b[39m\u001b[36m\u001b[1mInfo: \u001b[22m\u001b[39m started timer at: 2025-03-05T17:02:12.150\n"
     ]
    },
    {
     "name": "stdout",
     "output_type": "stream",
     "text": [
      "false\n"
     ]
    },
    {
     "name": "stderr",
     "output_type": "stream",
     "text": [
      "\u001b[36m\u001b[1m[ \u001b[22m\u001b[39m\u001b[36m\u001b[1mInfo: \u001b[22m\u001b[39m started timer at: 2025-03-05T17:02:18.425\n"
     ]
    },
    {
     "name": "stdout",
     "output_type": "stream",
     "text": [
      "50\n",
      "k : 16\n",
      "1\n",
      "-24421.683803483225\n",
      "2250.527855595553\n",
      "50\n",
      "K : 16\n",
      "[0 -2000 -100 -1200 -2000]\n"
     ]
    },
    {
     "name": "stderr",
     "output_type": "stream",
     "text": [
      "\u001b[36m\u001b[1m[ \u001b[22m\u001b[39m\u001b[36m\u001b[1mInfo: \u001b[22m\u001b[39m          49.4876558s: 49 seconds, 487 milliseconds\n",
      "\u001b[36m\u001b[1m[ \u001b[22m\u001b[39m\u001b[36m\u001b[1mInfo: \u001b[22m\u001b[39m started timer at: 2025-03-05T17:03:07.951\n"
     ]
    },
    {
     "name": "stdout",
     "output_type": "stream",
     "text": [
      "false\n"
     ]
    },
    {
     "name": "stderr",
     "output_type": "stream",
     "text": [
      "\u001b[36m\u001b[1m[ \u001b[22m\u001b[39m\u001b[36m\u001b[1mInfo: \u001b[22m\u001b[39m started timer at: 2025-03-05T17:03:14.274\n"
     ]
    },
    {
     "name": "stdout",
     "output_type": "stream",
     "text": [
      "50\n",
      "k : 16\n",
      "1\n",
      "-26126.348231440683\n",
      "2326.077209373692\n",
      "50\n",
      "K : 16\n",
      "[0 -2400 -100 -1200 -2000]\n"
     ]
    },
    {
     "name": "stderr",
     "output_type": "stream",
     "text": [
      "\u001b[36m\u001b[1m[ \u001b[22m\u001b[39m\u001b[36m\u001b[1mInfo: \u001b[22m\u001b[39m          48.7901521s: 48 seconds, 790 milliseconds\n",
      "\u001b[36m\u001b[1m[ \u001b[22m\u001b[39m\u001b[36m\u001b[1mInfo: \u001b[22m\u001b[39m started timer at: 2025-03-05T17:04:03.083\n"
     ]
    },
    {
     "name": "stdout",
     "output_type": "stream",
     "text": [
      "false\n"
     ]
    },
    {
     "name": "stderr",
     "output_type": "stream",
     "text": [
      "\u001b[36m\u001b[1m[ \u001b[22m\u001b[39m\u001b[36m\u001b[1mInfo: \u001b[22m\u001b[39m started timer at: 2025-03-05T17:04:09.275\n"
     ]
    },
    {
     "name": "stdout",
     "output_type": "stream",
     "text": [
      "50\n",
      "k : 16\n",
      "1\n",
      "-27511.185964645218\n",
      "2404.60186986048\n",
      "50\n",
      "K : 16\n",
      "[0 -2800 -100 -1200 -2000]\n"
     ]
    },
    {
     "name": "stderr",
     "output_type": "stream",
     "text": [
      "\u001b[36m\u001b[1m[ \u001b[22m\u001b[39m\u001b[36m\u001b[1mInfo: \u001b[22m\u001b[39m          46.3995452s: 46 seconds, 399 milliseconds\n",
      "\u001b[36m\u001b[1m[ \u001b[22m\u001b[39m\u001b[36m\u001b[1mInfo: \u001b[22m\u001b[39m started timer at: 2025-03-05T17:04:55.696\n"
     ]
    },
    {
     "name": "stdout",
     "output_type": "stream",
     "text": [
      "false\n"
     ]
    },
    {
     "name": "stderr",
     "output_type": "stream",
     "text": [
      "\u001b[36m\u001b[1m[ \u001b[22m\u001b[39m\u001b[36m\u001b[1mInfo: \u001b[22m\u001b[39m started timer at: 2025-03-05T17:05:02.098\n"
     ]
    },
    {
     "name": "stdout",
     "output_type": "stream",
     "text": [
      "50\n",
      "k : 16\n",
      "1\n",
      "-28600.649049145908\n",
      "2453.2244814488927\n",
      "50\n",
      "K : 16\n",
      "[0 -3200 -100 -1200 -2000]\n"
     ]
    },
    {
     "name": "stderr",
     "output_type": "stream",
     "text": [
      "\u001b[36m\u001b[1m[ \u001b[22m\u001b[39m\u001b[36m\u001b[1mInfo: \u001b[22m\u001b[39m          48.3963219s: 48 seconds, 396 milliseconds\n",
      "\u001b[36m\u001b[1m[ \u001b[22m\u001b[39m\u001b[36m\u001b[1mInfo: \u001b[22m\u001b[39m started timer at: 2025-03-05T17:05:50.509\n"
     ]
    },
    {
     "name": "stdout",
     "output_type": "stream",
     "text": [
      "false\n"
     ]
    },
    {
     "name": "stderr",
     "output_type": "stream",
     "text": [
      "\u001b[36m\u001b[1m[ \u001b[22m\u001b[39m\u001b[36m\u001b[1mInfo: \u001b[22m\u001b[39m started timer at: 2025-03-05T17:05:56.801\n"
     ]
    },
    {
     "name": "stdout",
     "output_type": "stream",
     "text": [
      "50\n",
      "k : 16\n",
      "1\n",
      "-29706.990032292902\n",
      "2566.5634714714092\n",
      "50\n",
      "K : 18\n",
      "[0 -800 -100 -1200 -2000]\n"
     ]
    },
    {
     "name": "stderr",
     "output_type": "stream",
     "text": [
      "\u001b[36m\u001b[1m[ \u001b[22m\u001b[39m\u001b[36m\u001b[1mInfo: \u001b[22m\u001b[39m          48.3561743s: 48 seconds, 356 milliseconds\n",
      "\u001b[36m\u001b[1m[ \u001b[22m\u001b[39m\u001b[36m\u001b[1mInfo: \u001b[22m\u001b[39m started timer at: 2025-03-05T17:06:45.198\n"
     ]
    },
    {
     "name": "stdout",
     "output_type": "stream",
     "text": [
      "false\n"
     ]
    },
    {
     "name": "stderr",
     "output_type": "stream",
     "text": [
      "\u001b[36m\u001b[1m[ \u001b[22m\u001b[39m\u001b[36m\u001b[1mInfo: \u001b[22m\u001b[39m started timer at: 2025-03-05T17:06:51.286\n"
     ]
    },
    {
     "name": "stdout",
     "output_type": "stream",
     "text": [
      "50\n",
      "k : 18\n",
      "1\n",
      "-19530.85139065932\n",
      "1936.001676877379\n",
      "50\n",
      "K : 18\n",
      "[0 -1200 -100 -1200 -2000]\n"
     ]
    },
    {
     "name": "stderr",
     "output_type": "stream",
     "text": [
      "\u001b[36m\u001b[1m[ \u001b[22m\u001b[39m\u001b[36m\u001b[1mInfo: \u001b[22m\u001b[39m          49.5488378s: 49 seconds, 548 milliseconds\n",
      "\u001b[36m\u001b[1m[ \u001b[22m\u001b[39m\u001b[36m\u001b[1mInfo: \u001b[22m\u001b[39m started timer at: 2025-03-05T17:07:40.857\n"
     ]
    },
    {
     "name": "stdout",
     "output_type": "stream",
     "text": [
      "false\n"
     ]
    },
    {
     "name": "stderr",
     "output_type": "stream",
     "text": [
      "\u001b[36m\u001b[1m[ \u001b[22m\u001b[39m\u001b[36m\u001b[1mInfo: \u001b[22m\u001b[39m started timer at: 2025-03-05T17:07:47.274\n"
     ]
    },
    {
     "name": "stdout",
     "output_type": "stream",
     "text": [
      "50\n",
      "k : 18\n",
      "1\n",
      "-22282.68320687862\n",
      "2077.709448800194\n",
      "50\n",
      "K : 18\n",
      "[0 -1600 -100 -1200 -2000]\n"
     ]
    },
    {
     "name": "stderr",
     "output_type": "stream",
     "text": [
      "\u001b[36m\u001b[1m[ \u001b[22m\u001b[39m\u001b[36m\u001b[1mInfo: \u001b[22m\u001b[39m          46.4827068s: 46 seconds, 482 milliseconds\n",
      "\u001b[36m\u001b[1m[ \u001b[22m\u001b[39m\u001b[36m\u001b[1mInfo: \u001b[22m\u001b[39m started timer at: 2025-03-05T17:08:33.773\n"
     ]
    },
    {
     "name": "stdout",
     "output_type": "stream",
     "text": [
      "false\n"
     ]
    },
    {
     "name": "stderr",
     "output_type": "stream",
     "text": [
      "\u001b[36m\u001b[1m[ \u001b[22m\u001b[39m\u001b[36m\u001b[1mInfo: \u001b[22m\u001b[39m started timer at: 2025-03-05T17:08:40.015\n"
     ]
    },
    {
     "name": "stdout",
     "output_type": "stream",
     "text": [
      "50\n",
      "k : 18\n",
      "1\n",
      "-24368.81763949592\n",
      "2200.4260292801414\n",
      "50\n",
      "K : 18\n",
      "[0 -2000 -100 -1200 -2000]\n"
     ]
    },
    {
     "name": "stderr",
     "output_type": "stream",
     "text": [
      "\u001b[36m\u001b[1m[ \u001b[22m\u001b[39m\u001b[36m\u001b[1mInfo: \u001b[22m\u001b[39m          49.5321217s: 49 seconds, 532 milliseconds\n",
      "\u001b[36m\u001b[1m[ \u001b[22m\u001b[39m\u001b[36m\u001b[1mInfo: \u001b[22m\u001b[39m started timer at: 2025-03-05T17:09:29.576\n"
     ]
    },
    {
     "name": "stdout",
     "output_type": "stream",
     "text": [
      "false\n"
     ]
    },
    {
     "name": "stderr",
     "output_type": "stream",
     "text": [
      "\u001b[36m\u001b[1m[ \u001b[22m\u001b[39m\u001b[36m\u001b[1mInfo: \u001b[22m\u001b[39m started timer at: 2025-03-05T17:09:35.899\n"
     ]
    },
    {
     "name": "stdout",
     "output_type": "stream",
     "text": [
      "50\n",
      "k : 18\n",
      "1\n",
      "-26086.81926017395\n",
      "2294.626007252951\n",
      "50\n",
      "K : 18\n",
      "[0 -2400 -100 -1200 -2000]\n"
     ]
    },
    {
     "name": "stderr",
     "output_type": "stream",
     "text": [
      "\u001b[36m\u001b[1m[ \u001b[22m\u001b[39m\u001b[36m\u001b[1mInfo: \u001b[22m\u001b[39m          49.2025966s: 49 seconds, 202 milliseconds\n",
      "\u001b[36m\u001b[1m[ \u001b[22m\u001b[39m\u001b[36m\u001b[1mInfo: \u001b[22m\u001b[39m started timer at: 2025-03-05T17:10:25.126\n"
     ]
    },
    {
     "name": "stdout",
     "output_type": "stream",
     "text": [
      "false\n"
     ]
    },
    {
     "name": "stderr",
     "output_type": "stream",
     "text": [
      "\u001b[36m\u001b[1m[ \u001b[22m\u001b[39m\u001b[36m\u001b[1mInfo: \u001b[22m\u001b[39m started timer at: 2025-03-05T17:10:31.509\n"
     ]
    },
    {
     "name": "stdout",
     "output_type": "stream",
     "text": [
      "50\n",
      "k : 18\n",
      "1\n",
      "-27383.943441280557\n",
      "2384.9092689240615\n",
      "50"
     ]
    },
    {
     "name": "stderr",
     "output_type": "stream",
     "text": [
      "\u001b[36m\u001b[1m[ \u001b[22m\u001b[39m\u001b[36m\u001b[1mInfo: \u001b[22m\u001b[39m          48.1015177s: 48 seconds, 101 milliseconds\n",
      "\u001b[36m\u001b[1m[ \u001b[22m\u001b[39m\u001b[36m\u001b[1mInfo: \u001b[22m\u001b[39m started timer at: 2025-03-05T17:11:19.659\n"
     ]
    },
    {
     "name": "stdout",
     "output_type": "stream",
     "text": [
      "\n",
      "K : 18\n",
      "[0 -2800 -100 -1200 -2000]\n",
      "false\n"
     ]
    },
    {
     "name": "stderr",
     "output_type": "stream",
     "text": [
      "\u001b[36m\u001b[1m[ \u001b[22m\u001b[39m\u001b[36m\u001b[1mInfo: \u001b[22m\u001b[39m started timer at: 2025-03-05T17:11:26.044\n"
     ]
    },
    {
     "name": "stdout",
     "output_type": "stream",
     "text": [
      "50\n",
      "k : 18\n",
      "1\n",
      "-28468.66349307755\n",
      "2393.7664609009275\n",
      "50\n",
      "K : 18\n",
      "[0 -3200 -100 -1200 -2000]\n"
     ]
    },
    {
     "name": "stderr",
     "output_type": "stream",
     "text": [
      "\u001b[36m\u001b[1m[ \u001b[22m\u001b[39m\u001b[36m\u001b[1mInfo: \u001b[22m\u001b[39m           44.687055s: 44 seconds, 687 milliseconds\n",
      "\u001b[36m\u001b[1m[ \u001b[22m\u001b[39m\u001b[36m\u001b[1mInfo: \u001b[22m\u001b[39m started timer at: 2025-03-05T17:12:10.738\n"
     ]
    },
    {
     "name": "stdout",
     "output_type": "stream",
     "text": [
      "false\n"
     ]
    },
    {
     "name": "stderr",
     "output_type": "stream",
     "text": [
      "\u001b[36m\u001b[1m[ \u001b[22m\u001b[39m\u001b[36m\u001b[1mInfo: \u001b[22m\u001b[39m started timer at: 2025-03-05T17:12:16.841\n"
     ]
    },
    {
     "name": "stdout",
     "output_type": "stream",
     "text": [
      "50\n",
      "k : 18\n",
      "1\n",
      "-29426.40523814945\n",
      "2491.1581586036364\n",
      "50\n",
      "K : 20\n",
      "[0 -800 -100 -1200 -2000]\n"
     ]
    },
    {
     "name": "stderr",
     "output_type": "stream",
     "text": [
      "\u001b[36m\u001b[1m[ \u001b[22m\u001b[39m\u001b[36m\u001b[1mInfo: \u001b[22m\u001b[39m           47.453497s: 47 seconds, 453 milliseconds\n",
      "\u001b[36m\u001b[1m[ \u001b[22m\u001b[39m\u001b[36m\u001b[1mInfo: \u001b[22m\u001b[39m started timer at: 2025-03-05T17:13:04.316\n"
     ]
    },
    {
     "name": "stdout",
     "output_type": "stream",
     "text": [
      "false\n"
     ]
    },
    {
     "name": "stderr",
     "output_type": "stream",
     "text": [
      "\u001b[36m\u001b[1m[ \u001b[22m\u001b[39m\u001b[36m\u001b[1mInfo: \u001b[22m\u001b[39m started timer at: 2025-03-05T17:13:10.451\n"
     ]
    },
    {
     "name": "stdout",
     "output_type": "stream",
     "text": [
      "50\n",
      "k : 20\n",
      "1\n",
      "-19533.28342982562\n",
      "1916.169752372405\n",
      "50\n",
      "K : 20\n",
      "[0 -1200 -100 -1200 -2000]\n"
     ]
    },
    {
     "name": "stderr",
     "output_type": "stream",
     "text": [
      "\u001b[36m\u001b[1m[ \u001b[22m\u001b[39m\u001b[36m\u001b[1mInfo: \u001b[22m\u001b[39m          48.9660786s: 48 seconds, 966 milliseconds\n",
      "\u001b[36m\u001b[1m[ \u001b[22m\u001b[39m\u001b[36m\u001b[1mInfo: \u001b[22m\u001b[39m started timer at: 2025-03-05T17:13:59.430\n"
     ]
    },
    {
     "name": "stdout",
     "output_type": "stream",
     "text": [
      "false\n"
     ]
    },
    {
     "name": "stderr",
     "output_type": "stream",
     "text": [
      "\u001b[36m\u001b[1m[ \u001b[22m\u001b[39m\u001b[36m\u001b[1mInfo: \u001b[22m\u001b[39m started timer at: 2025-03-05T17:14:05.658\n"
     ]
    },
    {
     "name": "stdout",
     "output_type": "stream",
     "text": [
      "50\n",
      "k : 20\n",
      "1\n",
      "-22265.83918186044\n",
      "2145.786036310612\n",
      "50\n",
      "K : 20\n",
      "[0 -1600 -100 -1200 -2000]\n"
     ]
    },
    {
     "name": "stderr",
     "output_type": "stream",
     "text": [
      "\u001b[36m\u001b[1m[ \u001b[22m\u001b[39m\u001b[36m\u001b[1mInfo: \u001b[22m\u001b[39m          48.5101244s: 48 seconds, 510 milliseconds\n",
      "\u001b[36m\u001b[1m[ \u001b[22m\u001b[39m\u001b[36m\u001b[1mInfo: \u001b[22m\u001b[39m started timer at: 2025-03-05T17:14:54.179\n"
     ]
    },
    {
     "name": "stdout",
     "output_type": "stream",
     "text": [
      "false\n"
     ]
    },
    {
     "name": "stderr",
     "output_type": "stream",
     "text": [
      "\u001b[36m\u001b[1m[ \u001b[22m\u001b[39m\u001b[36m\u001b[1mInfo: \u001b[22m\u001b[39m started timer at: 2025-03-05T17:15:00.385\n"
     ]
    },
    {
     "name": "stdout",
     "output_type": "stream",
     "text": [
      "50\n",
      "k : 20\n",
      "1\n",
      "-24433.76755064929\n",
      "2241.7217591296576\n",
      "50\n",
      "K : 20\n",
      "[0 -2000 -100 -1200 -2000]\n"
     ]
    },
    {
     "name": "stderr",
     "output_type": "stream",
     "text": [
      "\u001b[36m\u001b[1m[ \u001b[22m\u001b[39m\u001b[36m\u001b[1mInfo: \u001b[22m\u001b[39m          46.6598853s: 46 seconds, 659 milliseconds\n",
      "\u001b[36m\u001b[1m[ \u001b[22m\u001b[39m\u001b[36m\u001b[1mInfo: \u001b[22m\u001b[39m started timer at: 2025-03-05T17:15:47.079\n"
     ]
    },
    {
     "name": "stdout",
     "output_type": "stream",
     "text": [
      "false\n"
     ]
    },
    {
     "name": "stderr",
     "output_type": "stream",
     "text": [
      "\u001b[36m\u001b[1m[ \u001b[22m\u001b[39m\u001b[36m\u001b[1mInfo: \u001b[22m\u001b[39m started timer at: 2025-03-05T17:15:53.354\n"
     ]
    },
    {
     "name": "stdout",
     "output_type": "stream",
     "text": [
      "50\n",
      "k : 20\n",
      "1\n",
      "-26056.393444823516\n",
      "2290.9837458234347\n",
      "50\n",
      "K : 20\n",
      "[0 -2400 -100 -1200 -2000]\n"
     ]
    },
    {
     "name": "stderr",
     "output_type": "stream",
     "text": [
      "\u001b[36m\u001b[1m[ \u001b[22m\u001b[39m\u001b[36m\u001b[1mInfo: \u001b[22m\u001b[39m          47.9662787s: 47 seconds, 966 milliseconds\n",
      "\u001b[36m\u001b[1m[ \u001b[22m\u001b[39m\u001b[36m\u001b[1mInfo: \u001b[22m\u001b[39m started timer at: 2025-03-05T17:16:41.329\n"
     ]
    },
    {
     "name": "stdout",
     "output_type": "stream",
     "text": [
      "false\n"
     ]
    },
    {
     "name": "stderr",
     "output_type": "stream",
     "text": [
      "\u001b[36m\u001b[1m[ \u001b[22m\u001b[39m\u001b[36m\u001b[1mInfo: \u001b[22m\u001b[39m started timer at: 2025-03-05T17:16:47.589\n"
     ]
    },
    {
     "name": "stdout",
     "output_type": "stream",
     "text": [
      "50\n",
      "k : 20\n",
      "1\n",
      "-27301.193382710426\n",
      "2338.365688978855\n",
      "50\n",
      "K : 20\n",
      "[0 -2800 -100 -1200 -2000]\n"
     ]
    },
    {
     "name": "stderr",
     "output_type": "stream",
     "text": [
      "\u001b[36m\u001b[1m[ \u001b[22m\u001b[39m\u001b[36m\u001b[1mInfo: \u001b[22m\u001b[39m           48.071941s: 48 seconds, 71 milliseconds\n",
      "\u001b[36m\u001b[1m[ \u001b[22m\u001b[39m\u001b[36m\u001b[1mInfo: \u001b[22m\u001b[39m started timer at: 2025-03-05T17:17:35.688\n"
     ]
    },
    {
     "name": "stdout",
     "output_type": "stream",
     "text": [
      "false\n"
     ]
    },
    {
     "name": "stderr",
     "output_type": "stream",
     "text": [
      "\u001b[36m\u001b[1m[ \u001b[22m\u001b[39m\u001b[36m\u001b[1mInfo: \u001b[22m\u001b[39m started timer at: 2025-03-05T17:17:42.042\n"
     ]
    },
    {
     "name": "stdout",
     "output_type": "stream",
     "text": [
      "50\n",
      "k : 20\n",
      "1\n",
      "-28258.137933589875\n",
      "2424.267980108979\n",
      "50\n",
      "K : 20\n",
      "[0 -3200 -100 -1200 -2000]\n"
     ]
    },
    {
     "name": "stderr",
     "output_type": "stream",
     "text": [
      "\u001b[36m\u001b[1m[ \u001b[22m\u001b[39m\u001b[36m\u001b[1mInfo: \u001b[22m\u001b[39m          47.7872662s: 47 seconds, 787 milliseconds\n",
      "\u001b[36m\u001b[1m[ \u001b[22m\u001b[39m\u001b[36m\u001b[1mInfo: \u001b[22m\u001b[39m started timer at: 2025-03-05T17:18:29.845\n"
     ]
    },
    {
     "name": "stdout",
     "output_type": "stream",
     "text": [
      "false\n"
     ]
    },
    {
     "name": "stderr",
     "output_type": "stream",
     "text": [
      "\u001b[36m\u001b[1m[ \u001b[22m\u001b[39m\u001b[36m\u001b[1mInfo: \u001b[22m\u001b[39m started timer at: 2025-03-05T17:18:36.137\n"
     ]
    },
    {
     "name": "stdout",
     "output_type": "stream",
     "text": [
      "50\n",
      "k : 20\n",
      "1\n",
      "-29155.57302397185\n",
      "2446.275761787709\n",
      "50\n",
      "K : 22\n",
      "[0 -800 -100 -1200 -2000]\n"
     ]
    },
    {
     "name": "stderr",
     "output_type": "stream",
     "text": [
      "\u001b[36m\u001b[1m[ \u001b[22m\u001b[39m\u001b[36m\u001b[1mInfo: \u001b[22m\u001b[39m           45.221257s: 45 seconds, 221 milliseconds\n",
      "\u001b[36m\u001b[1m[ \u001b[22m\u001b[39m\u001b[36m\u001b[1mInfo: \u001b[22m\u001b[39m started timer at: 2025-03-05T17:19:21.365\n"
     ]
    },
    {
     "name": "stdout",
     "output_type": "stream",
     "text": [
      "false\n"
     ]
    },
    {
     "name": "stderr",
     "output_type": "stream",
     "text": [
      "\u001b[36m\u001b[1m[ \u001b[22m\u001b[39m\u001b[36m\u001b[1mInfo: \u001b[22m\u001b[39m started timer at: 2025-03-05T17:19:27.576\n"
     ]
    },
    {
     "name": "stdout",
     "output_type": "stream",
     "text": [
      "50\n",
      "k : 22\n",
      "1\n",
      "-19520.888004941182\n",
      "1915.9259309307317\n",
      "50\n",
      "K : 22\n",
      "[0 -1200 -100 -1200 -2000]\n"
     ]
    },
    {
     "name": "stderr",
     "output_type": "stream",
     "text": [
      "\u001b[36m\u001b[1m[ \u001b[22m\u001b[39m\u001b[36m\u001b[1mInfo: \u001b[22m\u001b[39m          49.4808426s: 49 seconds, 480 milliseconds\n",
      "\u001b[36m\u001b[1m[ \u001b[22m\u001b[39m\u001b[36m\u001b[1mInfo: \u001b[22m\u001b[39m started timer at: 2025-03-05T17:20:17.072\n"
     ]
    },
    {
     "name": "stdout",
     "output_type": "stream",
     "text": [
      "false\n"
     ]
    },
    {
     "name": "stderr",
     "output_type": "stream",
     "text": [
      "\u001b[36m\u001b[1m[ \u001b[22m\u001b[39m\u001b[36m\u001b[1mInfo: \u001b[22m\u001b[39m started timer at: 2025-03-05T17:20:23.386\n"
     ]
    },
    {
     "name": "stdout",
     "output_type": "stream",
     "text": [
      "50\n",
      "k : 22\n",
      "1\n",
      "-22279.60748955066\n",
      "2121.200741720223\n",
      "50\n",
      "K : 22\n",
      "[0 -1600 -100 -1200 -2000]\n"
     ]
    },
    {
     "name": "stderr",
     "output_type": "stream",
     "text": [
      "\u001b[36m\u001b[1m[ \u001b[22m\u001b[39m\u001b[36m\u001b[1mInfo: \u001b[22m\u001b[39m          49.1309392s: 49 seconds, 130 milliseconds\n",
      "\u001b[36m\u001b[1m[ \u001b[22m\u001b[39m\u001b[36m\u001b[1mInfo: \u001b[22m\u001b[39m started timer at: 2025-03-05T17:21:12.544\n"
     ]
    },
    {
     "name": "stdout",
     "output_type": "stream",
     "text": [
      "false\n"
     ]
    },
    {
     "name": "stderr",
     "output_type": "stream",
     "text": [
      "\u001b[36m\u001b[1m[ \u001b[22m\u001b[39m\u001b[36m\u001b[1mInfo: \u001b[22m\u001b[39m started timer at: 2025-03-05T17:21:18.867\n"
     ]
    },
    {
     "name": "stdout",
     "output_type": "stream",
     "text": [
      "50\n",
      "k : 22\n",
      "1\n",
      "-24343.156833524616\n",
      "2223.6595629745875\n",
      "50\n",
      "K : 22\n",
      "[0 -2000 -100 -1200 -2000]\n"
     ]
    },
    {
     "name": "stderr",
     "output_type": "stream",
     "text": [
      "\u001b[36m\u001b[1m[ \u001b[22m\u001b[39m\u001b[36m\u001b[1mInfo: \u001b[22m\u001b[39m          49.0382095s: 49 seconds, 38 milliseconds\n",
      "\u001b[36m\u001b[1m[ \u001b[22m\u001b[39m\u001b[36m\u001b[1mInfo: \u001b[22m\u001b[39m started timer at: 2025-03-05T17:22:07.924\n"
     ]
    },
    {
     "name": "stdout",
     "output_type": "stream",
     "text": [
      "false\n"
     ]
    },
    {
     "name": "stderr",
     "output_type": "stream",
     "text": [
      "\u001b[36m\u001b[1m[ \u001b[22m\u001b[39m\u001b[36m\u001b[1mInfo: \u001b[22m\u001b[39m started timer at: 2025-03-05T17:22:14.254\n"
     ]
    },
    {
     "name": "stdout",
     "output_type": "stream",
     "text": [
      "50\n",
      "k : 22\n",
      "1\n",
      "-25958.5802332425\n",
      "2309.457641112012\n",
      "50\n",
      "K : 22\n",
      "[0 -2400 -100 -1200 -2000]\n"
     ]
    },
    {
     "name": "stderr",
     "output_type": "stream",
     "text": [
      "\u001b[36m\u001b[1m[ \u001b[22m\u001b[39m\u001b[36m\u001b[1mInfo: \u001b[22m\u001b[39m          45.8688853s: 45 seconds, 868 milliseconds\n",
      "\u001b[36m\u001b[1m[ \u001b[22m\u001b[39m\u001b[36m\u001b[1mInfo: \u001b[22m\u001b[39m started timer at: 2025-03-05T17:23:00.141\n"
     ]
    },
    {
     "name": "stdout",
     "output_type": "stream",
     "text": [
      "false\n"
     ]
    },
    {
     "name": "stderr",
     "output_type": "stream",
     "text": [
      "\u001b[36m\u001b[1m[ \u001b[22m\u001b[39m\u001b[36m\u001b[1mInfo: \u001b[22m\u001b[39m started timer at: 2025-03-05T17:23:06.346\n"
     ]
    },
    {
     "name": "stdout",
     "output_type": "stream",
     "text": [
      "50\n",
      "k : 22\n",
      "1\n",
      "-27196.114991616138\n",
      "2330.791683022205\n",
      "50\n",
      "K : 22\n",
      "[0 -2800 -100 -1200 -2000]\n"
     ]
    },
    {
     "name": "stderr",
     "output_type": "stream",
     "text": [
      "\u001b[36m\u001b[1m[ \u001b[22m\u001b[39m\u001b[36m\u001b[1mInfo: \u001b[22m\u001b[39m          48.6871775s: 48 seconds, 687 milliseconds\n",
      "\u001b[36m\u001b[1m[ \u001b[22m\u001b[39m\u001b[36m\u001b[1mInfo: \u001b[22m\u001b[39m started timer at: 2025-03-05T17:23:55.056\n"
     ]
    },
    {
     "name": "stdout",
     "output_type": "stream",
     "text": [
      "false\n"
     ]
    },
    {
     "name": "stderr",
     "output_type": "stream",
     "text": [
      "\u001b[36m\u001b[1m[ \u001b[22m\u001b[39m\u001b[36m\u001b[1mInfo: \u001b[22m\u001b[39m started timer at: 2025-03-05T17:24:01.333\n"
     ]
    },
    {
     "name": "stdout",
     "output_type": "stream",
     "text": [
      "50\n",
      "k : 22\n",
      "1\n",
      "-28170.079491546585\n",
      "2385.7223073465966\n",
      "50\n",
      "K : 22\n",
      "[0 -3200 -100 -1200 -2000]\n"
     ]
    },
    {
     "name": "stderr",
     "output_type": "stream",
     "text": [
      "\u001b[36m\u001b[1m[ \u001b[22m\u001b[39m\u001b[36m\u001b[1mInfo: \u001b[22m\u001b[39m          48.3093869s: 48 seconds, 309 milliseconds\n",
      "\u001b[36m\u001b[1m[ \u001b[22m\u001b[39m\u001b[36m\u001b[1mInfo: \u001b[22m\u001b[39m started timer at: 2025-03-05T17:24:49.652\n"
     ]
    },
    {
     "name": "stdout",
     "output_type": "stream",
     "text": [
      "false\n"
     ]
    },
    {
     "name": "stderr",
     "output_type": "stream",
     "text": [
      "\u001b[36m\u001b[1m[ \u001b[22m\u001b[39m\u001b[36m\u001b[1mInfo: \u001b[22m\u001b[39m started timer at: 2025-03-05T17:24:55.847\n"
     ]
    },
    {
     "name": "stdout",
     "output_type": "stream",
     "text": [
      "50\n",
      "k : 22\n",
      "1\n",
      "-28986.423579507853\n",
      "2468.3724980887187\n",
      "50\n",
      "K : 24\n",
      "[0 -800 -100 -1200 -2000]\n"
     ]
    },
    {
     "name": "stderr",
     "output_type": "stream",
     "text": [
      "\u001b[36m\u001b[1m[ \u001b[22m\u001b[39m\u001b[36m\u001b[1mInfo: \u001b[22m\u001b[39m          47.2180973s: 47 seconds, 218 milliseconds\n",
      "\u001b[36m\u001b[1m[ \u001b[22m\u001b[39m\u001b[36m\u001b[1mInfo: \u001b[22m\u001b[39m started timer at: 2025-03-05T17:25:43.083\n"
     ]
    },
    {
     "name": "stdout",
     "output_type": "stream",
     "text": [
      "false\n"
     ]
    },
    {
     "name": "stderr",
     "output_type": "stream",
     "text": [
      "\u001b[36m\u001b[1m[ \u001b[22m\u001b[39m\u001b[36m\u001b[1mInfo: \u001b[22m\u001b[39m started timer at: 2025-03-05T17:25:49.391\n"
     ]
    },
    {
     "name": "stdout",
     "output_type": "stream",
     "text": [
      "50\n",
      "k : 24\n",
      "1\n",
      "-19469.78590566923\n",
      "1913.0867225903758\n",
      "50\n",
      "K : 24\n",
      "[0 -1200 -100 -1200 -2000]\n"
     ]
    },
    {
     "name": "stderr",
     "output_type": "stream",
     "text": [
      "\u001b[36m\u001b[1m[ \u001b[22m\u001b[39m\u001b[36m\u001b[1mInfo: \u001b[22m\u001b[39m          48.1161396s: 48 seconds, 116 milliseconds\n",
      "\u001b[36m\u001b[1m[ \u001b[22m\u001b[39m\u001b[36m\u001b[1mInfo: \u001b[22m\u001b[39m started timer at: 2025-03-05T17:26:37.523\n"
     ]
    },
    {
     "name": "stdout",
     "output_type": "stream",
     "text": [
      "false\n"
     ]
    },
    {
     "name": "stderr",
     "output_type": "stream",
     "text": [
      "\u001b[36m\u001b[1m[ \u001b[22m\u001b[39m\u001b[36m\u001b[1mInfo: \u001b[22m\u001b[39m started timer at: 2025-03-05T17:26:43.860\n"
     ]
    },
    {
     "name": "stdout",
     "output_type": "stream",
     "text": [
      "50\n",
      "k : 24\n",
      "1\n",
      "-22260.78119156212\n",
      "2114.0693655125615\n",
      "50\n",
      "K : 24\n",
      "[0 -1600 -100 -1200 -2000]\n"
     ]
    },
    {
     "name": "stderr",
     "output_type": "stream",
     "text": [
      "\u001b[36m\u001b[1m[ \u001b[22m\u001b[39m\u001b[36m\u001b[1mInfo: \u001b[22m\u001b[39m           48.691595s: 48 seconds, 691 milliseconds\n",
      "\u001b[36m\u001b[1m[ \u001b[22m\u001b[39m\u001b[36m\u001b[1mInfo: \u001b[22m\u001b[39m started timer at: 2025-03-05T17:27:32.575\n"
     ]
    },
    {
     "name": "stdout",
     "output_type": "stream",
     "text": [
      "false\n"
     ]
    },
    {
     "name": "stderr",
     "output_type": "stream",
     "text": [
      "\u001b[36m\u001b[1m[ \u001b[22m\u001b[39m\u001b[36m\u001b[1mInfo: \u001b[22m\u001b[39m started timer at: 2025-03-05T17:27:38.866\n"
     ]
    },
    {
     "name": "stdout",
     "output_type": "stream",
     "text": [
      "50\n",
      "k : 24\n",
      "1\n",
      "-24336.047084361093\n",
      "2230.8071002386514\n",
      "50\n",
      "K : 24\n",
      "[0 -2000 -100 -1200 -2000]\n"
     ]
    },
    {
     "name": "stderr",
     "output_type": "stream",
     "text": [
      "\u001b[36m\u001b[1m[ \u001b[22m\u001b[39m\u001b[36m\u001b[1mInfo: \u001b[22m\u001b[39m           50.029679s: 50 seconds, 29 milliseconds\n",
      "\u001b[36m\u001b[1m[ \u001b[22m\u001b[39m\u001b[36m\u001b[1mInfo: \u001b[22m\u001b[39m started timer at: 2025-03-05T17:28:28.921\n"
     ]
    },
    {
     "name": "stdout",
     "output_type": "stream",
     "text": [
      "false\n"
     ]
    },
    {
     "name": "stderr",
     "output_type": "stream",
     "text": [
      "\u001b[36m\u001b[1m[ \u001b[22m\u001b[39m\u001b[36m\u001b[1mInfo: \u001b[22m\u001b[39m started timer at: 2025-03-05T17:28:35.283\n"
     ]
    },
    {
     "name": "stdout",
     "output_type": "stream",
     "text": [
      "50\n",
      "k : 24\n",
      "1\n",
      "-25980.98589294892\n",
      "2302.9565699823374\n",
      "50\n",
      "K : 24\n",
      "[0 -2400 -100 -1200 -2000]\n"
     ]
    },
    {
     "name": "stderr",
     "output_type": "stream",
     "text": [
      "\u001b[36m\u001b[1m[ \u001b[22m\u001b[39m\u001b[36m\u001b[1mInfo: \u001b[22m\u001b[39m          49.4595968s: 49 seconds, 459 milliseconds\n",
      "\u001b[36m\u001b[1m[ \u001b[22m\u001b[39m\u001b[36m\u001b[1mInfo: \u001b[22m\u001b[39m started timer at: 2025-03-05T17:29:24.760\n"
     ]
    },
    {
     "name": "stdout",
     "output_type": "stream",
     "text": [
      "false\n"
     ]
    },
    {
     "name": "stderr",
     "output_type": "stream",
     "text": [
      "\u001b[36m\u001b[1m[ \u001b[22m\u001b[39m\u001b[36m\u001b[1mInfo: \u001b[22m\u001b[39m started timer at: 2025-03-05T17:29:31.208\n"
     ]
    },
    {
     "name": "stdout",
     "output_type": "stream",
     "text": [
      "50\n",
      "k : 24\n",
      "1\n",
      "-27131.648585370396\n",
      "2334.889190571721\n",
      "50\n",
      "K : 24\n",
      "[0 -2800 -100 -1200 -2000]\n"
     ]
    },
    {
     "name": "stderr",
     "output_type": "stream",
     "text": [
      "\u001b[36m\u001b[1m[ \u001b[22m\u001b[39m\u001b[36m\u001b[1mInfo: \u001b[22m\u001b[39m          47.5559699s: 47 seconds, 555 milliseconds\n",
      "\u001b[36m\u001b[1m[ \u001b[22m\u001b[39m\u001b[36m\u001b[1mInfo: \u001b[22m\u001b[39m started timer at: 2025-03-05T17:30:18.778\n"
     ]
    },
    {
     "name": "stdout",
     "output_type": "stream",
     "text": [
      "false\n"
     ]
    },
    {
     "name": "stderr",
     "output_type": "stream",
     "text": [
      "\u001b[36m\u001b[1m[ \u001b[22m\u001b[39m\u001b[36m\u001b[1mInfo: \u001b[22m\u001b[39m started timer at: 2025-03-05T17:30:25.146\n"
     ]
    },
    {
     "name": "stdout",
     "output_type": "stream",
     "text": [
      "50\n",
      "k : 24\n",
      "1\n",
      "-28016.269608006274\n",
      "2351.6573130984098\n",
      "50\n",
      "K : 24\n",
      "[0 -3200 -100 -1200 -2000]\n"
     ]
    },
    {
     "name": "stderr",
     "output_type": "stream",
     "text": [
      "\u001b[36m\u001b[1m[ \u001b[22m\u001b[39m\u001b[36m\u001b[1mInfo: \u001b[22m\u001b[39m           47.013984s: 47 seconds, 13 milliseconds\n",
      "\u001b[36m\u001b[1m[ \u001b[22m\u001b[39m\u001b[36m\u001b[1mInfo: \u001b[22m\u001b[39m started timer at: 2025-03-05T17:31:12.179\n"
     ]
    },
    {
     "name": "stdout",
     "output_type": "stream",
     "text": [
      "false\n"
     ]
    },
    {
     "name": "stderr",
     "output_type": "stream",
     "text": [
      "\u001b[36m\u001b[1m[ \u001b[22m\u001b[39m\u001b[36m\u001b[1mInfo: \u001b[22m\u001b[39m started timer at: 2025-03-05T17:31:18.454\n"
     ]
    },
    {
     "name": "stdout",
     "output_type": "stream",
     "text": [
      "50\n",
      "k : 24\n",
      "1\n",
      "-28795.215833092283\n",
      "2368.8632252749917\n",
      "60\n",
      "K : 2\n",
      "[0 -800 -100 -1200 -2000]\n"
     ]
    },
    {
     "name": "stderr",
     "output_type": "stream",
     "text": [
      "\u001b[36m\u001b[1m[ \u001b[22m\u001b[39m\u001b[36m\u001b[1mInfo: \u001b[22m\u001b[39m          46.7210401s: 46 seconds, 721 milliseconds\n",
      "\u001b[36m\u001b[1m[ \u001b[22m\u001b[39m\u001b[36m\u001b[1mInfo: \u001b[22m\u001b[39m started timer at: 2025-03-05T17:32:05.193\n"
     ]
    },
    {
     "name": "stdout",
     "output_type": "stream",
     "text": [
      "false\n"
     ]
    },
    {
     "name": "stderr",
     "output_type": "stream",
     "text": [
      "\u001b[36m\u001b[1m[ \u001b[22m\u001b[39m\u001b[36m\u001b[1mInfo: \u001b[22m\u001b[39m started timer at: 2025-03-05T17:32:11.310\n"
     ]
    },
    {
     "name": "stdout",
     "output_type": "stream",
     "text": [
      "60\n",
      "k : 2\n",
      "1\n",
      "-26216.390682466685\n",
      "2840.326007516674\n",
      "60\n",
      "K : 2\n",
      "[0 -1200 -100 -1200 -2000]\n"
     ]
    },
    {
     "name": "stderr",
     "output_type": "stream",
     "text": [
      "\u001b[36m\u001b[1m[ \u001b[22m\u001b[39m\u001b[36m\u001b[1mInfo: \u001b[22m\u001b[39m          57.7234399s: 57 seconds, 723 milliseconds\n",
      "\u001b[36m\u001b[1m[ \u001b[22m\u001b[39m\u001b[36m\u001b[1mInfo: \u001b[22m\u001b[39m started timer at: 2025-03-05T17:33:09.045\n"
     ]
    },
    {
     "name": "stdout",
     "output_type": "stream",
     "text": [
      "false\n"
     ]
    },
    {
     "name": "stderr",
     "output_type": "stream",
     "text": [
      "\u001b[36m\u001b[1m[ \u001b[22m\u001b[39m\u001b[36m\u001b[1mInfo: \u001b[22m\u001b[39m started timer at: 2025-03-05T17:33:15.241\n"
     ]
    },
    {
     "name": "stdout",
     "output_type": "stream",
     "text": [
      "60\n",
      "k : 2\n",
      "1\n",
      "-31051.328436153555\n",
      "3194.016140407738\n",
      "60\n",
      "K : 2\n",
      "[0 -1600 -100 -1200 -2000]\n"
     ]
    },
    {
     "name": "stderr",
     "output_type": "stream",
     "text": [
      "\u001b[36m\u001b[1m[ \u001b[22m\u001b[39m\u001b[36m\u001b[1mInfo: \u001b[22m\u001b[39m          56.6530061s: 56 seconds, 653 milliseconds\n",
      "\u001b[36m\u001b[1m[ \u001b[22m\u001b[39m\u001b[36m\u001b[1mInfo: \u001b[22m\u001b[39m started timer at: 2025-03-05T17:34:11.906\n"
     ]
    },
    {
     "name": "stdout",
     "output_type": "stream",
     "text": [
      "false\n"
     ]
    },
    {
     "name": "stderr",
     "output_type": "stream",
     "text": [
      "\u001b[36m\u001b[1m[ \u001b[22m\u001b[39m\u001b[36m\u001b[1mInfo: \u001b[22m\u001b[39m started timer at: 2025-03-05T17:34:18.214\n"
     ]
    },
    {
     "name": "stdout",
     "output_type": "stream",
     "text": [
      "60\n",
      "k : 2\n",
      "1\n",
      "-34960.33843378911\n",
      "3512.3859131707054\n",
      "60\n",
      "K : 2\n",
      "[0 -2000 -100 -1200 -2000]\n"
     ]
    },
    {
     "name": "stderr",
     "output_type": "stream",
     "text": [
      "\u001b[36m\u001b[1m[ \u001b[22m\u001b[39m\u001b[36m\u001b[1mInfo: \u001b[22m\u001b[39m          54.2059923s: 54 seconds, 205 milliseconds\n",
      "\u001b[36m\u001b[1m[ \u001b[22m\u001b[39m\u001b[36m\u001b[1mInfo: \u001b[22m\u001b[39m started timer at: 2025-03-05T17:35:12.430\n"
     ]
    },
    {
     "name": "stdout",
     "output_type": "stream",
     "text": [
      "false\n"
     ]
    },
    {
     "name": "stderr",
     "output_type": "stream",
     "text": [
      "\u001b[36m\u001b[1m[ \u001b[22m\u001b[39m\u001b[36m\u001b[1mInfo: \u001b[22m\u001b[39m started timer at: 2025-03-05T17:35:18.769\n"
     ]
    },
    {
     "name": "stdout",
     "output_type": "stream",
     "text": [
      "60\n",
      "k : 2\n",
      "1\n",
      "-38667.6736422034\n",
      "3786.5248286698165\n",
      "60\n",
      "K : 2\n",
      "[0 -2400 -100 -1200 -2000]\n"
     ]
    },
    {
     "name": "stderr",
     "output_type": "stream",
     "text": [
      "\u001b[36m\u001b[1m[ \u001b[22m\u001b[39m\u001b[36m\u001b[1mInfo: \u001b[22m\u001b[39m          57.7480168s: 57 seconds, 748 milliseconds\n",
      "\u001b[36m\u001b[1m[ \u001b[22m\u001b[39m\u001b[36m\u001b[1mInfo: \u001b[22m\u001b[39m started timer at: 2025-03-05T17:36:16.531\n"
     ]
    },
    {
     "name": "stdout",
     "output_type": "stream",
     "text": [
      "false\n"
     ]
    },
    {
     "name": "stderr",
     "output_type": "stream",
     "text": [
      "\u001b[36m\u001b[1m[ \u001b[22m\u001b[39m\u001b[36m\u001b[1mInfo: \u001b[22m\u001b[39m started timer at: 2025-03-05T17:36:22.855\n"
     ]
    },
    {
     "name": "stdout",
     "output_type": "stream",
     "text": [
      "60\n",
      "k : 2\n",
      "1\n",
      "-41979.59713416538\n",
      "4035.0910124001634\n",
      "60\n",
      "K : 2\n",
      "[0 -2800 -100 -1200 -2000]\n"
     ]
    },
    {
     "name": "stderr",
     "output_type": "stream",
     "text": [
      "\u001b[36m\u001b[1m[ \u001b[22m\u001b[39m\u001b[36m\u001b[1mInfo: \u001b[22m\u001b[39m          57.9501953s: 57 seconds, 950 milliseconds\n",
      "\u001b[36m\u001b[1m[ \u001b[22m\u001b[39m\u001b[36m\u001b[1mInfo: \u001b[22m\u001b[39m started timer at: 2025-03-05T17:37:20.823\n"
     ]
    },
    {
     "name": "stdout",
     "output_type": "stream",
     "text": [
      "false\n"
     ]
    },
    {
     "name": "stderr",
     "output_type": "stream",
     "text": [
      "\u001b[36m\u001b[1m[ \u001b[22m\u001b[39m\u001b[36m\u001b[1mInfo: \u001b[22m\u001b[39m started timer at: 2025-03-05T17:37:27.189\n"
     ]
    },
    {
     "name": "stdout",
     "output_type": "stream",
     "text": [
      "60\n",
      "k : 2\n",
      "1\n",
      "-44813.82159708898\n",
      "4185.3258881617085\n",
      "60\n",
      "K : 2\n",
      "[0 -3200 -100 -1200 -2000]\n"
     ]
    },
    {
     "name": "stderr",
     "output_type": "stream",
     "text": [
      "\u001b[36m\u001b[1m[ \u001b[22m\u001b[39m\u001b[36m\u001b[1mInfo: \u001b[22m\u001b[39m          56.9965004s: 56 seconds, 996 milliseconds\n",
      "\u001b[36m\u001b[1m[ \u001b[22m\u001b[39m\u001b[36m\u001b[1mInfo: \u001b[22m\u001b[39m started timer at: 2025-03-05T17:38:24.197\n"
     ]
    },
    {
     "name": "stdout",
     "output_type": "stream",
     "text": [
      "false\n"
     ]
    },
    {
     "name": "stderr",
     "output_type": "stream",
     "text": [
      "\u001b[36m\u001b[1m[ \u001b[22m\u001b[39m\u001b[36m\u001b[1mInfo: \u001b[22m\u001b[39m started timer at: 2025-03-05T17:38:30.571\n"
     ]
    },
    {
     "name": "stdout",
     "output_type": "stream",
     "text": [
      "60\n",
      "k : 2\n",
      "1\n",
      "-47131.74161644812\n",
      "4295.436680023966\n",
      "60\n",
      "K : 4\n",
      "[0 -800 -100 -1200 -2000]\n"
     ]
    },
    {
     "name": "stderr",
     "output_type": "stream",
     "text": [
      "\u001b[36m\u001b[1m[ \u001b[22m\u001b[39m\u001b[36m\u001b[1mInfo: \u001b[22m\u001b[39m          56.2408082s: 56 seconds, 240 milliseconds\n",
      "\u001b[36m\u001b[1m[ \u001b[22m\u001b[39m\u001b[36m\u001b[1mInfo: \u001b[22m\u001b[39m started timer at: 2025-03-05T17:39:26.827\n"
     ]
    },
    {
     "name": "stdout",
     "output_type": "stream",
     "text": [
      "false\n"
     ]
    },
    {
     "name": "stderr",
     "output_type": "stream",
     "text": [
      "\u001b[36m\u001b[1m[ \u001b[22m\u001b[39m\u001b[36m\u001b[1mInfo: \u001b[22m\u001b[39m started timer at: 2025-03-05T17:39:33.151\n"
     ]
    },
    {
     "name": "stdout",
     "output_type": "stream",
     "text": [
      "60\n",
      "k : 4\n",
      "1\n",
      "-22913.057099956237\n",
      "2092.41988457016\n",
      "60\n",
      "K : 4\n",
      "[0 -1200 -100 -1200 -2000]\n"
     ]
    },
    {
     "name": "stderr",
     "output_type": "stream",
     "text": [
      "\u001b[36m\u001b[1m[ \u001b[22m\u001b[39m\u001b[36m\u001b[1mInfo: \u001b[22m\u001b[39m          55.2763046s: 55 seconds, 276 milliseconds\n",
      "\u001b[36m\u001b[1m[ \u001b[22m\u001b[39m\u001b[36m\u001b[1mInfo: \u001b[22m\u001b[39m started timer at: 2025-03-05T17:40:28.453\n"
     ]
    },
    {
     "name": "stdout",
     "output_type": "stream",
     "text": [
      "false\n"
     ]
    },
    {
     "name": "stderr",
     "output_type": "stream",
     "text": [
      "\u001b[36m\u001b[1m[ \u001b[22m\u001b[39m\u001b[36m\u001b[1mInfo: \u001b[22m\u001b[39m started timer at: 2025-03-05T17:40:34.712\n"
     ]
    },
    {
     "name": "stdout",
     "output_type": "stream",
     "text": [
      "60\n",
      "k : 4\n",
      "1\n",
      "-26638.59486380383\n",
      "2452.9917105880045\n",
      "60\n",
      "K : 4\n",
      "[0 -1600 -100 -1200 -2000]\n"
     ]
    },
    {
     "name": "stderr",
     "output_type": "stream",
     "text": [
      "\u001b[36m\u001b[1m[ \u001b[22m\u001b[39m\u001b[36m\u001b[1mInfo: \u001b[22m\u001b[39m          59.2573661s: 59 seconds, 257 milliseconds\n",
      "\u001b[36m\u001b[1m[ \u001b[22m\u001b[39m\u001b[36m\u001b[1mInfo: \u001b[22m\u001b[39m started timer at: 2025-03-05T17:41:33.979\n"
     ]
    },
    {
     "name": "stdout",
     "output_type": "stream",
     "text": [
      "false\n"
     ]
    },
    {
     "name": "stderr",
     "output_type": "stream",
     "text": [
      "\u001b[36m\u001b[1m[ \u001b[22m\u001b[39m\u001b[36m\u001b[1mInfo: \u001b[22m\u001b[39m started timer at: 2025-03-05T17:41:40.262\n"
     ]
    },
    {
     "name": "stdout",
     "output_type": "stream",
     "text": [
      "60\n",
      "k : 4\n",
      "1\n",
      "-29940.861551751826\n",
      "2782.5469548398446\n",
      "60\n",
      "K : 4\n",
      "[0 -2000 -100 -1200 -2000]\n"
     ]
    },
    {
     "name": "stderr",
     "output_type": "stream",
     "text": [
      "\u001b[36m\u001b[1m[ \u001b[22m\u001b[39m\u001b[36m\u001b[1mInfo: \u001b[22m\u001b[39m          58.2204006s: 58 seconds, 220 milliseconds\n",
      "\u001b[36m\u001b[1m[ \u001b[22m\u001b[39m\u001b[36m\u001b[1mInfo: \u001b[22m\u001b[39m started timer at: 2025-03-05T17:42:38.487\n"
     ]
    },
    {
     "name": "stdout",
     "output_type": "stream",
     "text": [
      "false\n"
     ]
    },
    {
     "name": "stderr",
     "output_type": "stream",
     "text": [
      "\u001b[36m\u001b[1m[ \u001b[22m\u001b[39m\u001b[36m\u001b[1mInfo: \u001b[22m\u001b[39m started timer at: 2025-03-05T17:42:44.822\n"
     ]
    },
    {
     "name": "stdout",
     "output_type": "stream",
     "text": [
      "60\n",
      "k : 4\n",
      "1\n",
      "-33046.286957305136\n",
      "3067.9157288951633\n",
      "60\n",
      "K : 4\n",
      "[0 -2400 -100 -1200 -2000]\n"
     ]
    },
    {
     "name": "stderr",
     "output_type": "stream",
     "text": [
      "\u001b[36m\u001b[1m[ \u001b[22m\u001b[39m\u001b[36m\u001b[1mInfo: \u001b[22m\u001b[39m          57.3848336s: 57 seconds, 384 milliseconds\n",
      "\u001b[36m\u001b[1m[ \u001b[22m\u001b[39m\u001b[36m\u001b[1mInfo: \u001b[22m\u001b[39m started timer at: 2025-03-05T17:43:42.210\n"
     ]
    },
    {
     "name": "stdout",
     "output_type": "stream",
     "text": [
      "false\n"
     ]
    },
    {
     "name": "stderr",
     "output_type": "stream",
     "text": [
      "\u001b[36m\u001b[1m[ \u001b[22m\u001b[39m\u001b[36m\u001b[1mInfo: \u001b[22m\u001b[39m started timer at: 2025-03-05T17:43:48.486\n"
     ]
    },
    {
     "name": "stdout",
     "output_type": "stream",
     "text": [
      "60\n",
      "k : 4\n",
      "1\n",
      "-35921.73480875337\n",
      "3328.053510950322\n",
      "60\n",
      "K : 4\n",
      "[0 -2800 -100 -1200 -2000]\n"
     ]
    },
    {
     "name": "stderr",
     "output_type": "stream",
     "text": [
      "\u001b[36m\u001b[1m[ \u001b[22m\u001b[39m\u001b[36m\u001b[1mInfo: \u001b[22m\u001b[39m           56.619674s: 56 seconds, 619 milliseconds\n",
      "\u001b[36m\u001b[1m[ \u001b[22m\u001b[39m\u001b[36m\u001b[1mInfo: \u001b[22m\u001b[39m started timer at: 2025-03-05T17:44:45.151\n"
     ]
    },
    {
     "name": "stdout",
     "output_type": "stream",
     "text": [
      "false\n"
     ]
    },
    {
     "name": "stderr",
     "output_type": "stream",
     "text": [
      "\u001b[36m\u001b[1m[ \u001b[22m\u001b[39m\u001b[36m\u001b[1mInfo: \u001b[22m\u001b[39m started timer at: 2025-03-05T17:44:51.475\n"
     ]
    },
    {
     "name": "stdout",
     "output_type": "stream",
     "text": [
      "60\n",
      "k : 4\n",
      "1\n",
      "-38437.489962755324\n",
      "3561.337627131127\n"
     ]
    },
    {
     "name": "stderr",
     "output_type": "stream",
     "text": [
      "\u001b[36m\u001b[1m[ \u001b[22m\u001b[39m\u001b[36m\u001b[1mInfo: \u001b[22m\u001b[39m          56.0707693s: 56 seconds, 70 milliseconds\n",
      "\u001b[36m\u001b[1m[ \u001b[22m\u001b[39m\u001b[36m\u001b[1mInfo: \u001b[22m\u001b[39m started timer at: 2025-03-05T17:45:47.561\n"
     ]
    },
    {
     "name": "stdout",
     "output_type": "stream",
     "text": [
      "60\n",
      "K : 4\n",
      "[0 -3200 -100 -1200 -2000]\n",
      "false\n"
     ]
    },
    {
     "name": "stderr",
     "output_type": "stream",
     "text": [
      "\u001b[36m\u001b[1m[ \u001b[22m\u001b[39m\u001b[36m\u001b[1mInfo: \u001b[22m\u001b[39m started timer at: 2025-03-05T17:45:53.835\n"
     ]
    },
    {
     "name": "stdout",
     "output_type": "stream",
     "text": [
      "60\n",
      "k : 4\n",
      "1\n",
      "-40619.50281823865\n",
      "3694.1835143468747\n",
      "60\n",
      "K : 6\n",
      "[0 -800 -100 -1200 -2000]\n"
     ]
    },
    {
     "name": "stderr",
     "output_type": "stream",
     "text": [
      "\u001b[36m\u001b[1m[ \u001b[22m\u001b[39m\u001b[36m\u001b[1mInfo: \u001b[22m\u001b[39m          58.3602706s: 58 seconds, 360 milliseconds\n",
      "\u001b[36m\u001b[1m[ \u001b[22m\u001b[39m\u001b[36m\u001b[1mInfo: \u001b[22m\u001b[39m started timer at: 2025-03-05T17:46:52.197\n"
     ]
    },
    {
     "name": "stdout",
     "output_type": "stream",
     "text": [
      "false\n"
     ]
    },
    {
     "name": "stderr",
     "output_type": "stream",
     "text": [
      "\u001b[36m\u001b[1m[ \u001b[22m\u001b[39m\u001b[36m\u001b[1mInfo: \u001b[22m\u001b[39m started timer at: 2025-03-05T17:46:58.551\n"
     ]
    },
    {
     "name": "stdout",
     "output_type": "stream",
     "text": [
      "60\n",
      "k : 6\n",
      "1\n",
      "-22484.60185360392\n",
      "1987.877997615594\n",
      "60\n",
      "K : 6\n",
      "[0 -1200 -100 -1200 -2000]\n"
     ]
    },
    {
     "name": "stderr",
     "output_type": "stream",
     "text": [
      "\u001b[36m\u001b[1m[ \u001b[22m\u001b[39m\u001b[36m\u001b[1mInfo: \u001b[22m\u001b[39m          58.9915592s: 58 seconds, 991 milliseconds\n",
      "\u001b[36m\u001b[1m[ \u001b[22m\u001b[39m\u001b[36m\u001b[1mInfo: \u001b[22m\u001b[39m started timer at: 2025-03-05T17:47:57.555\n"
     ]
    },
    {
     "name": "stdout",
     "output_type": "stream",
     "text": [
      "false\n"
     ]
    },
    {
     "name": "stderr",
     "output_type": "stream",
     "text": [
      "\u001b[36m\u001b[1m[ \u001b[22m\u001b[39m\u001b[36m\u001b[1mInfo: \u001b[22m\u001b[39m started timer at: 2025-03-05T17:48:03.862\n"
     ]
    },
    {
     "name": "stdout",
     "output_type": "stream",
     "text": [
      "60\n",
      "k : 6\n",
      "1\n",
      "-25800.13501179107\n",
      "2275.2878879091013\n",
      "60\n",
      "K : 6\n",
      "[0 -1600 -100 -1200 -2000]\n"
     ]
    },
    {
     "name": "stderr",
     "output_type": "stream",
     "text": [
      "\u001b[36m\u001b[1m[ \u001b[22m\u001b[39m\u001b[36m\u001b[1mInfo: \u001b[22m\u001b[39m          56.9940272s: 56 seconds, 994 milliseconds\n",
      "\u001b[36m\u001b[1m[ \u001b[22m\u001b[39m\u001b[36m\u001b[1mInfo: \u001b[22m\u001b[39m started timer at: 2025-03-05T17:49:00.872\n"
     ]
    },
    {
     "name": "stdout",
     "output_type": "stream",
     "text": [
      "false\n"
     ]
    },
    {
     "name": "stderr",
     "output_type": "stream",
     "text": [
      "\u001b[36m\u001b[1m[ \u001b[22m\u001b[39m\u001b[36m\u001b[1mInfo: \u001b[22m\u001b[39m started timer at: 2025-03-05T17:49:07.224\n"
     ]
    },
    {
     "name": "stdout",
     "output_type": "stream",
     "text": [
      "60\n",
      "k : 6\n",
      "1\n",
      "-28695.655306271416\n",
      "2510.8096570052476\n",
      "60\n",
      "K : 6\n",
      "[0 -2000 -100 -1200 -2000]\n"
     ]
    },
    {
     "name": "stderr",
     "output_type": "stream",
     "text": [
      "\u001b[36m\u001b[1m[ \u001b[22m\u001b[39m\u001b[36m\u001b[1mInfo: \u001b[22m\u001b[39m          56.0603691s: 56 seconds, 60 milliseconds\n",
      "\u001b[36m\u001b[1m[ \u001b[22m\u001b[39m\u001b[36m\u001b[1mInfo: \u001b[22m\u001b[39m started timer at: 2025-03-05T17:50:03.299\n"
     ]
    },
    {
     "name": "stdout",
     "output_type": "stream",
     "text": [
      "false\n"
     ]
    },
    {
     "name": "stderr",
     "output_type": "stream",
     "text": [
      "\u001b[36m\u001b[1m[ \u001b[22m\u001b[39m\u001b[36m\u001b[1mInfo: \u001b[22m\u001b[39m started timer at: 2025-03-05T17:50:09.738\n"
     ]
    },
    {
     "name": "stdout",
     "output_type": "stream",
     "text": [
      "60\n",
      "k : 6\n",
      "1\n",
      "-31313.311639741194\n",
      "2726.824313228247\n",
      "60\n",
      "K : 6\n",
      "[0 -2400 -100 -1200 -2000]\n"
     ]
    },
    {
     "name": "stderr",
     "output_type": "stream",
     "text": [
      "\u001b[36m\u001b[1m[ \u001b[22m\u001b[39m\u001b[36m\u001b[1mInfo: \u001b[22m\u001b[39m          56.1173904s: 56 seconds, 117 milliseconds\n",
      "\u001b[36m\u001b[1m[ \u001b[22m\u001b[39m\u001b[36m\u001b[1mInfo: \u001b[22m\u001b[39m started timer at: 2025-03-05T17:51:05.864\n"
     ]
    },
    {
     "name": "stdout",
     "output_type": "stream",
     "text": [
      "false\n"
     ]
    },
    {
     "name": "stderr",
     "output_type": "stream",
     "text": [
      "\u001b[36m\u001b[1m[ \u001b[22m\u001b[39m\u001b[36m\u001b[1mInfo: \u001b[22m\u001b[39m started timer at: 2025-03-05T17:51:12.216\n"
     ]
    },
    {
     "name": "stdout",
     "output_type": "stream",
     "text": [
      "60\n",
      "k : 6\n",
      "1\n",
      "-33735.553206397024\n",
      "2992.0225457804677\n",
      "60\n",
      "K : 6\n",
      "[0 -2800 -100 -1200 -2000]\n"
     ]
    },
    {
     "name": "stderr",
     "output_type": "stream",
     "text": [
      "\u001b[36m\u001b[1m[ \u001b[22m\u001b[39m\u001b[36m\u001b[1mInfo: \u001b[22m\u001b[39m          56.3423604s: 56 seconds, 342 milliseconds\n",
      "\u001b[36m\u001b[1m[ \u001b[22m\u001b[39m\u001b[36m\u001b[1mInfo: \u001b[22m\u001b[39m started timer at: 2025-03-05T17:52:08.569\n"
     ]
    },
    {
     "name": "stdout",
     "output_type": "stream",
     "text": [
      "false\n"
     ]
    },
    {
     "name": "stderr",
     "output_type": "stream",
     "text": [
      "\u001b[36m\u001b[1m[ \u001b[22m\u001b[39m\u001b[36m\u001b[1mInfo: \u001b[22m\u001b[39m started timer at: 2025-03-05T17:52:14.735\n"
     ]
    },
    {
     "name": "stdout",
     "output_type": "stream",
     "text": [
      "60\n",
      "k : 6\n",
      "1\n",
      "-35938.57214747033\n",
      "3220.4353738217314\n",
      "60\n",
      "K : 6\n",
      "[0 -3200 -100 -1200 -2000]\n"
     ]
    },
    {
     "name": "stderr",
     "output_type": "stream",
     "text": [
      "\u001b[36m\u001b[1m[ \u001b[22m\u001b[39m\u001b[36m\u001b[1mInfo: \u001b[22m\u001b[39m          57.2162957s: 57 seconds, 216 milliseconds\n",
      "\u001b[36m\u001b[1m[ \u001b[22m\u001b[39m\u001b[36m\u001b[1mInfo: \u001b[22m\u001b[39m started timer at: 2025-03-05T17:53:11.966\n"
     ]
    },
    {
     "name": "stdout",
     "output_type": "stream",
     "text": [
      "false\n"
     ]
    },
    {
     "name": "stderr",
     "output_type": "stream",
     "text": [
      "\u001b[36m\u001b[1m[ \u001b[22m\u001b[39m\u001b[36m\u001b[1mInfo: \u001b[22m\u001b[39m started timer at: 2025-03-05T17:53:18.116\n"
     ]
    },
    {
     "name": "stdout",
     "output_type": "stream",
     "text": [
      "60\n",
      "k : 6\n",
      "1\n",
      "-37950.40052783235\n",
      "3381.5135932015196\n",
      "60\n",
      "K : 8\n",
      "[0 -800 -100 -1200 -2000]\n"
     ]
    },
    {
     "name": "stderr",
     "output_type": "stream",
     "text": [
      "\u001b[36m\u001b[1m[ \u001b[22m\u001b[39m\u001b[36m\u001b[1mInfo: \u001b[22m\u001b[39m          56.2892377s: 56 seconds, 289 milliseconds\n",
      "\u001b[36m\u001b[1m[ \u001b[22m\u001b[39m\u001b[36m\u001b[1mInfo: \u001b[22m\u001b[39m started timer at: 2025-03-05T17:54:14.423\n"
     ]
    },
    {
     "name": "stdout",
     "output_type": "stream",
     "text": [
      "false\n"
     ]
    },
    {
     "name": "stderr",
     "output_type": "stream",
     "text": [
      "\u001b[36m\u001b[1m[ \u001b[22m\u001b[39m\u001b[36m\u001b[1mInfo: \u001b[22m\u001b[39m started timer at: 2025-03-05T17:54:20.729\n"
     ]
    },
    {
     "name": "stdout",
     "output_type": "stream",
     "text": [
      "60\n",
      "k : 8\n",
      "1\n",
      "-22404.89811369551\n",
      "2042.8233682451566\n",
      "60\n",
      "K : 8\n",
      "[0 -1200 -100 -1200 -2000]\n"
     ]
    },
    {
     "name": "stderr",
     "output_type": "stream",
     "text": [
      "\u001b[36m\u001b[1m[ \u001b[22m\u001b[39m\u001b[36m\u001b[1mInfo: \u001b[22m\u001b[39m          55.8279888s: 55 seconds, 827 milliseconds\n",
      "\u001b[36m\u001b[1m[ \u001b[22m\u001b[39m\u001b[36m\u001b[1mInfo: \u001b[22m\u001b[39m started timer at: 2025-03-05T17:55:16.572\n"
     ]
    },
    {
     "name": "stdout",
     "output_type": "stream",
     "text": [
      "false\n"
     ]
    },
    {
     "name": "stderr",
     "output_type": "stream",
     "text": [
      "\u001b[36m\u001b[1m[ \u001b[22m\u001b[39m\u001b[36m\u001b[1mInfo: \u001b[22m\u001b[39m started timer at: 2025-03-05T17:55:22.901\n"
     ]
    },
    {
     "name": "stdout",
     "output_type": "stream",
     "text": [
      "60\n",
      "k : 8\n",
      "1\n",
      "-25568.213013640652\n",
      "2233.940030043406\n",
      "60\n",
      "K : 8\n",
      "[0 -1600 -100 -1200 -2000]\n"
     ]
    },
    {
     "name": "stderr",
     "output_type": "stream",
     "text": [
      "\u001b[36m\u001b[1m[ \u001b[22m\u001b[39m\u001b[36m\u001b[1mInfo: \u001b[22m\u001b[39m          55.5762169s: 55 seconds, 576 milliseconds\n",
      "\u001b[36m\u001b[1m[ \u001b[22m\u001b[39m\u001b[36m\u001b[1mInfo: \u001b[22m\u001b[39m started timer at: 2025-03-05T17:56:18.498\n"
     ]
    },
    {
     "name": "stdout",
     "output_type": "stream",
     "text": [
      "false\n"
     ]
    },
    {
     "name": "stderr",
     "output_type": "stream",
     "text": [
      "\u001b[36m\u001b[1m[ \u001b[22m\u001b[39m\u001b[36m\u001b[1mInfo: \u001b[22m\u001b[39m started timer at: 2025-03-05T17:56:24.867\n"
     ]
    },
    {
     "name": "stdout",
     "output_type": "stream",
     "text": [
      "60\n",
      "k : 8\n",
      "1\n",
      "-28256.927936438413\n",
      "2389.1832203376484\n",
      "60\n",
      "K : 8\n",
      "[0 -2000 -100 -1200 -2000]\n"
     ]
    },
    {
     "name": "stderr",
     "output_type": "stream",
     "text": [
      "\u001b[36m\u001b[1m[ \u001b[22m\u001b[39m\u001b[36m\u001b[1mInfo: \u001b[22m\u001b[39m          58.6769014s: 58 seconds, 676 milliseconds\n",
      "\u001b[36m\u001b[1m[ \u001b[22m\u001b[39m\u001b[36m\u001b[1mInfo: \u001b[22m\u001b[39m started timer at: 2025-03-05T17:57:23.557\n"
     ]
    },
    {
     "name": "stdout",
     "output_type": "stream",
     "text": [
      "false\n"
     ]
    },
    {
     "name": "stderr",
     "output_type": "stream",
     "text": [
      "\u001b[36m\u001b[1m[ \u001b[22m\u001b[39m\u001b[36m\u001b[1mInfo: \u001b[22m\u001b[39m started timer at: 2025-03-05T17:57:29.849\n"
     ]
    },
    {
     "name": "stdout",
     "output_type": "stream",
     "text": [
      "60\n",
      "k : 8\n",
      "1\n",
      "-30594.05214167099\n",
      "2620.7350694184383\n",
      "60\n",
      "K : 8\n",
      "[0 -2400 -100 -1200 -2000]\n"
     ]
    },
    {
     "name": "stderr",
     "output_type": "stream",
     "text": [
      "\u001b[36m\u001b[1m[ \u001b[22m\u001b[39m\u001b[36m\u001b[1mInfo: \u001b[22m\u001b[39m          57.7530551s: 57 seconds, 753 milliseconds\n",
      "\u001b[36m\u001b[1m[ \u001b[22m\u001b[39m\u001b[36m\u001b[1mInfo: \u001b[22m\u001b[39m started timer at: 2025-03-05T17:58:27.615\n"
     ]
    },
    {
     "name": "stdout",
     "output_type": "stream",
     "text": [
      "false\n"
     ]
    },
    {
     "name": "stderr",
     "output_type": "stream",
     "text": [
      "\u001b[36m\u001b[1m[ \u001b[22m\u001b[39m\u001b[36m\u001b[1mInfo: \u001b[22m\u001b[39m started timer at: 2025-03-05T17:58:33.968\n"
     ]
    },
    {
     "name": "stdout",
     "output_type": "stream",
     "text": [
      "60\n",
      "k : 8\n",
      "1\n",
      "-32734.631891912304\n",
      "2786.954056281507\n",
      "60\n",
      "K : 8\n",
      "[0 -2800 -100 -1200 -2000]\n"
     ]
    },
    {
     "name": "stderr",
     "output_type": "stream",
     "text": [
      "\u001b[36m\u001b[1m[ \u001b[22m\u001b[39m\u001b[36m\u001b[1mInfo: \u001b[22m\u001b[39m          56.5593273s: 56 seconds, 559 milliseconds\n",
      "\u001b[36m\u001b[1m[ \u001b[22m\u001b[39m\u001b[36m\u001b[1mInfo: \u001b[22m\u001b[39m started timer at: 2025-03-05T17:59:30.537\n"
     ]
    },
    {
     "name": "stdout",
     "output_type": "stream",
     "text": [
      "false\n"
     ]
    },
    {
     "name": "stderr",
     "output_type": "stream",
     "text": [
      "\u001b[36m\u001b[1m[ \u001b[22m\u001b[39m\u001b[36m\u001b[1mInfo: \u001b[22m\u001b[39m started timer at: 2025-03-05T17:59:36.859\n"
     ]
    },
    {
     "name": "stdout",
     "output_type": "stream",
     "text": [
      "60\n",
      "k : 8\n",
      "1\n",
      "-34616.43293184919\n",
      "2942.1584689183846\n",
      "60\n",
      "K : 8\n",
      "[0 -3200 -100 -1200 -2000]\n"
     ]
    },
    {
     "name": "stderr",
     "output_type": "stream",
     "text": [
      "\u001b[36m\u001b[1m[ \u001b[22m\u001b[39m\u001b[36m\u001b[1mInfo: \u001b[22m\u001b[39m          55.6593781s: 55 seconds, 659 milliseconds\n",
      "\u001b[36m\u001b[1m[ \u001b[22m\u001b[39m\u001b[36m\u001b[1mInfo: \u001b[22m\u001b[39m started timer at: 2025-03-05T18:00:32.535\n"
     ]
    },
    {
     "name": "stdout",
     "output_type": "stream",
     "text": [
      "false\n"
     ]
    },
    {
     "name": "stderr",
     "output_type": "stream",
     "text": [
      "\u001b[36m\u001b[1m[ \u001b[22m\u001b[39m\u001b[36m\u001b[1mInfo: \u001b[22m\u001b[39m started timer at: 2025-03-05T18:00:38.810\n"
     ]
    },
    {
     "name": "stdout",
     "output_type": "stream",
     "text": [
      "60\n",
      "k : 8\n",
      "1\n",
      "-36478.40724468972\n",
      "3119.9630767783656\n",
      "60\n",
      "K : 10\n",
      "[0 -800 -100 -1200 -2000]\n"
     ]
    },
    {
     "name": "stderr",
     "output_type": "stream",
     "text": [
      "\u001b[36m\u001b[1m[ \u001b[22m\u001b[39m\u001b[36m\u001b[1mInfo: \u001b[22m\u001b[39m          56.2206213s: 56 seconds, 220 milliseconds\n",
      "\u001b[36m\u001b[1m[ \u001b[22m\u001b[39m\u001b[36m\u001b[1mInfo: \u001b[22m\u001b[39m started timer at: 2025-03-05T18:01:35.054\n"
     ]
    },
    {
     "name": "stdout",
     "output_type": "stream",
     "text": [
      "false\n"
     ]
    },
    {
     "name": "stderr",
     "output_type": "stream",
     "text": [
      "\u001b[36m\u001b[1m[ \u001b[22m\u001b[39m\u001b[36m\u001b[1mInfo: \u001b[22m\u001b[39m started timer at: 2025-03-05T18:01:41.535\n"
     ]
    },
    {
     "name": "stdout",
     "output_type": "stream",
     "text": [
      "60\n",
      "k : 10\n",
      "1\n",
      "-22280.44245644335\n",
      "2008.097742483257\n",
      "60\n",
      "K : 10\n",
      "[0 -1200 -100 -1200 -2000]\n"
     ]
    },
    {
     "name": "stderr",
     "output_type": "stream",
     "text": [
      "\u001b[36m\u001b[1m[ \u001b[22m\u001b[39m\u001b[36m\u001b[1mInfo: \u001b[22m\u001b[39m          59.5394208s: 59 seconds, 539 milliseconds\n",
      "\u001b[36m\u001b[1m[ \u001b[22m\u001b[39m\u001b[36m\u001b[1mInfo: \u001b[22m\u001b[39m started timer at: 2025-03-05T18:02:41.088\n"
     ]
    },
    {
     "name": "stdout",
     "output_type": "stream",
     "text": [
      "false\n"
     ]
    },
    {
     "name": "stderr",
     "output_type": "stream",
     "text": [
      "\u001b[36m\u001b[1m[ \u001b[22m\u001b[39m\u001b[36m\u001b[1mInfo: \u001b[22m\u001b[39m started timer at: 2025-03-05T18:02:47.396\n"
     ]
    },
    {
     "name": "stdout",
     "output_type": "stream",
     "text": [
      "60\n",
      "k : 10\n",
      "1\n",
      "-25499.561767552113\n",
      "2239.232605150614\n",
      "60\n",
      "K : 10\n",
      "[0 -1600 -100 -1200 -2000]\n"
     ]
    },
    {
     "name": "stderr",
     "output_type": "stream",
     "text": [
      "\u001b[36m\u001b[1m[ \u001b[22m\u001b[39m\u001b[36m\u001b[1mInfo: \u001b[22m\u001b[39m          58.5722366s: 58 seconds, 572 milliseconds\n",
      "\u001b[36m\u001b[1m[ \u001b[22m\u001b[39m\u001b[36m\u001b[1mInfo: \u001b[22m\u001b[39m started timer at: 2025-03-05T18:03:45.985\n"
     ]
    },
    {
     "name": "stdout",
     "output_type": "stream",
     "text": [
      "false\n"
     ]
    },
    {
     "name": "stderr",
     "output_type": "stream",
     "text": [
      "\u001b[36m\u001b[1m[ \u001b[22m\u001b[39m\u001b[36m\u001b[1mInfo: \u001b[22m\u001b[39m started timer at: 2025-03-05T18:03:52.265\n"
     ]
    },
    {
     "name": "stdout",
     "output_type": "stream",
     "text": [
      "60\n",
      "k : 10\n",
      "1\n",
      "-28082.02331691888\n",
      "2448.691829211564\n",
      "60\n",
      "K : 10\n",
      "[0 -2000 -100 -1200 -2000]\n"
     ]
    },
    {
     "name": "stderr",
     "output_type": "stream",
     "text": [
      "\u001b[36m\u001b[1m[ \u001b[22m\u001b[39m\u001b[36m\u001b[1mInfo: \u001b[22m\u001b[39m          57.0201444s: 57 seconds, 20 milliseconds\n",
      "\u001b[36m\u001b[1m[ \u001b[22m\u001b[39m\u001b[36m\u001b[1mInfo: \u001b[22m\u001b[39m started timer at: 2025-03-05T18:04:49.304\n"
     ]
    },
    {
     "name": "stdout",
     "output_type": "stream",
     "text": [
      "false\n"
     ]
    },
    {
     "name": "stderr",
     "output_type": "stream",
     "text": [
      "\u001b[36m\u001b[1m[ \u001b[22m\u001b[39m\u001b[36m\u001b[1mInfo: \u001b[22m\u001b[39m started timer at: 2025-03-05T18:04:55.595\n"
     ]
    },
    {
     "name": "stdout",
     "output_type": "stream",
     "text": [
      "60\n",
      "k : 10\n",
      "1\n",
      "-30256.37010333246\n",
      "2559.9051669313344\n",
      "60\n",
      "K : 10\n",
      "[0 -2400 -100 -1200 -2000]\n"
     ]
    },
    {
     "name": "stderr",
     "output_type": "stream",
     "text": [
      "\u001b[36m\u001b[1m[ \u001b[22m\u001b[39m\u001b[36m\u001b[1mInfo: \u001b[22m\u001b[39m          56.1345035s: 56 seconds, 134 milliseconds\n",
      "\u001b[36m\u001b[1m[ \u001b[22m\u001b[39m\u001b[36m\u001b[1mInfo: \u001b[22m\u001b[39m started timer at: 2025-03-05T18:05:51.743\n"
     ]
    },
    {
     "name": "stdout",
     "output_type": "stream",
     "text": [
      "false\n"
     ]
    },
    {
     "name": "stderr",
     "output_type": "stream",
     "text": [
      "\u001b[36m\u001b[1m[ \u001b[22m\u001b[39m\u001b[36m\u001b[1mInfo: \u001b[22m\u001b[39m started timer at: 2025-03-05T18:05:58.129\n"
     ]
    },
    {
     "name": "stdout",
     "output_type": "stream",
     "text": [
      "60\n",
      "k : 10\n",
      "1\n",
      "-32260.461979311556\n",
      "2658.285014316275\n",
      "60\n",
      "K : 10\n",
      "[0 -2800 -100 -1200 -2000]\n"
     ]
    },
    {
     "name": "stderr",
     "output_type": "stream",
     "text": [
      "\u001b[36m\u001b[1m[ \u001b[22m\u001b[39m\u001b[36m\u001b[1mInfo: \u001b[22m\u001b[39m          56.5556821s: 56 seconds, 555 milliseconds\n",
      "\u001b[36m\u001b[1m[ \u001b[22m\u001b[39m\u001b[36m\u001b[1mInfo: \u001b[22m\u001b[39m started timer at: 2025-03-05T18:06:54.703\n"
     ]
    },
    {
     "name": "stdout",
     "output_type": "stream",
     "text": [
      "false\n"
     ]
    },
    {
     "name": "stderr",
     "output_type": "stream",
     "text": [
      "\u001b[36m\u001b[1m[ \u001b[22m\u001b[39m\u001b[36m\u001b[1mInfo: \u001b[22m\u001b[39m started timer at: 2025-03-05T18:07:01.009\n"
     ]
    },
    {
     "name": "stdout",
     "output_type": "stream",
     "text": [
      "60\n",
      "k : 10\n",
      "1\n",
      "-33996.532559803985\n",
      "2876.350260536856\n",
      "60\n",
      "K : 10\n",
      "[0 -3200 -100 -1200 -2000]\n"
     ]
    },
    {
     "name": "stderr",
     "output_type": "stream",
     "text": [
      "\u001b[36m\u001b[1m[ \u001b[22m\u001b[39m\u001b[36m\u001b[1mInfo: \u001b[22m\u001b[39m          58.7217485s: 58 seconds, 721 milliseconds\n",
      "\u001b[36m\u001b[1m[ \u001b[22m\u001b[39m\u001b[36m\u001b[1mInfo: \u001b[22m\u001b[39m started timer at: 2025-03-05T18:07:59.761\n"
     ]
    },
    {
     "name": "stdout",
     "output_type": "stream",
     "text": [
      "false\n"
     ]
    },
    {
     "name": "stderr",
     "output_type": "stream",
     "text": [
      "\u001b[36m\u001b[1m[ \u001b[22m\u001b[39m\u001b[36m\u001b[1mInfo: \u001b[22m\u001b[39m started timer at: 2025-03-05T18:08:06.001\n"
     ]
    },
    {
     "name": "stdout",
     "output_type": "stream",
     "text": [
      "60\n",
      "k : 10\n",
      "1\n",
      "-35671.33713015887\n",
      "2953.759410362798\n",
      "60\n",
      "K : 12\n",
      "[0 -800 -100 -1200 -2000]\n"
     ]
    },
    {
     "name": "stderr",
     "output_type": "stream",
     "text": [
      "\u001b[36m\u001b[1m[ \u001b[22m\u001b[39m\u001b[36m\u001b[1mInfo: \u001b[22m\u001b[39m          57.8977902s: 57 seconds, 897 milliseconds\n",
      "\u001b[36m\u001b[1m[ \u001b[22m\u001b[39m\u001b[36m\u001b[1mInfo: \u001b[22m\u001b[39m started timer at: 2025-03-05T18:09:03.910\n"
     ]
    },
    {
     "name": "stdout",
     "output_type": "stream",
     "text": [
      "false\n"
     ]
    },
    {
     "name": "stderr",
     "output_type": "stream",
     "text": [
      "\u001b[36m\u001b[1m[ \u001b[22m\u001b[39m\u001b[36m\u001b[1mInfo: \u001b[22m\u001b[39m started timer at: 2025-03-05T18:09:10.201\n"
     ]
    },
    {
     "name": "stdout",
     "output_type": "stream",
     "text": [
      "60\n",
      "k : 12\n",
      "1\n",
      "-22276.755900494696\n",
      "1984.8617697119666\n",
      "60\n",
      "K : 12\n",
      "[0 -1200 -100 -1200 -2000]\n"
     ]
    },
    {
     "name": "stderr",
     "output_type": "stream",
     "text": [
      "\u001b[36m\u001b[1m[ \u001b[22m\u001b[39m\u001b[36m\u001b[1mInfo: \u001b[22m\u001b[39m          57.5598872s: 57 seconds, 559 milliseconds\n",
      "\u001b[36m\u001b[1m[ \u001b[22m\u001b[39m\u001b[36m\u001b[1mInfo: \u001b[22m\u001b[39m started timer at: 2025-03-05T18:10:07.777\n"
     ]
    },
    {
     "name": "stdout",
     "output_type": "stream",
     "text": [
      "false\n"
     ]
    },
    {
     "name": "stderr",
     "output_type": "stream",
     "text": [
      "\u001b[36m\u001b[1m[ \u001b[22m\u001b[39m\u001b[36m\u001b[1mInfo: \u001b[22m\u001b[39m started timer at: 2025-03-05T18:10:14.146\n"
     ]
    },
    {
     "name": "stdout",
     "output_type": "stream",
     "text": [
      "60\n",
      "k : 12\n",
      "1\n",
      "-25370.836564793375\n",
      "2285.3030119741734\n",
      "60\n",
      "K : 12\n",
      "[0 -1600 -100 -1200 -2000]\n"
     ]
    },
    {
     "name": "stderr",
     "output_type": "stream",
     "text": [
      "\u001b[36m\u001b[1m[ \u001b[22m\u001b[39m\u001b[36m\u001b[1mInfo: \u001b[22m\u001b[39m          55.2150549s: 55 seconds, 215 milliseconds\n",
      "\u001b[36m\u001b[1m[ \u001b[22m\u001b[39m\u001b[36m\u001b[1mInfo: \u001b[22m\u001b[39m started timer at: 2025-03-05T18:11:09.386\n"
     ]
    },
    {
     "name": "stdout",
     "output_type": "stream",
     "text": [
      "false\n"
     ]
    },
    {
     "name": "stderr",
     "output_type": "stream",
     "text": [
      "\u001b[36m\u001b[1m[ \u001b[22m\u001b[39m\u001b[36m\u001b[1mInfo: \u001b[22m\u001b[39m started timer at: 2025-03-05T18:11:15.555\n"
     ]
    },
    {
     "name": "stdout",
     "output_type": "stream",
     "text": [
      "60\n",
      "k : 12\n",
      "1\n",
      "-27994.300576167767\n",
      "2375.231605700277\n",
      "60\n",
      "K : 12\n",
      "[0 -2000 -100 -1200 -2000]\n"
     ]
    },
    {
     "name": "stderr",
     "output_type": "stream",
     "text": [
      "\u001b[36m\u001b[1m[ \u001b[22m\u001b[39m\u001b[36m\u001b[1mInfo: \u001b[22m\u001b[39m          54.6022057s: 54 seconds, 602 milliseconds\n",
      "\u001b[36m\u001b[1m[ \u001b[22m\u001b[39m\u001b[36m\u001b[1mInfo: \u001b[22m\u001b[39m started timer at: 2025-03-05T18:12:10.159\n"
     ]
    },
    {
     "name": "stdout",
     "output_type": "stream",
     "text": [
      "false\n"
     ]
    },
    {
     "name": "stderr",
     "output_type": "stream",
     "text": [
      "\u001b[36m\u001b[1m[ \u001b[22m\u001b[39m\u001b[36m\u001b[1mInfo: \u001b[22m\u001b[39m started timer at: 2025-03-05T18:12:16.374\n"
     ]
    },
    {
     "name": "stdout",
     "output_type": "stream",
     "text": [
      "60\n",
      "k : 12\n",
      "1\n",
      "-30110.670151758062\n",
      "2516.512251846365\n",
      "60\n",
      "K : 12\n",
      "[0 -2400 -100 -1200 -2000]\n"
     ]
    },
    {
     "name": "stderr",
     "output_type": "stream",
     "text": [
      "\u001b[36m\u001b[1m[ \u001b[22m\u001b[39m\u001b[36m\u001b[1mInfo: \u001b[22m\u001b[39m          56.6891248s: 56 seconds, 689 milliseconds\n",
      "\u001b[36m\u001b[1m[ \u001b[22m\u001b[39m\u001b[36m\u001b[1mInfo: \u001b[22m\u001b[39m started timer at: 2025-03-05T18:13:13.083\n"
     ]
    },
    {
     "name": "stdout",
     "output_type": "stream",
     "text": [
      "false\n"
     ]
    },
    {
     "name": "stderr",
     "output_type": "stream",
     "text": [
      "\u001b[36m\u001b[1m[ \u001b[22m\u001b[39m\u001b[36m\u001b[1mInfo: \u001b[22m\u001b[39m started timer at: 2025-03-05T18:13:19.263\n"
     ]
    },
    {
     "name": "stdout",
     "output_type": "stream",
     "text": [
      "60\n",
      "k : 12\n",
      "1\n",
      "-31939.412298188472\n",
      "2609.8028223002652\n",
      "60\n",
      "K : 12\n",
      "[0 -2800 -100 -1200 -2000]\n"
     ]
    },
    {
     "name": "stderr",
     "output_type": "stream",
     "text": [
      "\u001b[36m\u001b[1m[ \u001b[22m\u001b[39m\u001b[36m\u001b[1mInfo: \u001b[22m\u001b[39m          56.6436856s: 56 seconds, 643 milliseconds\n",
      "\u001b[36m\u001b[1m[ \u001b[22m\u001b[39m\u001b[36m\u001b[1mInfo: \u001b[22m\u001b[39m started timer at: 2025-03-05T18:14:15.917\n"
     ]
    },
    {
     "name": "stdout",
     "output_type": "stream",
     "text": [
      "false\n"
     ]
    },
    {
     "name": "stderr",
     "output_type": "stream",
     "text": [
      "\u001b[36m\u001b[1m[ \u001b[22m\u001b[39m\u001b[36m\u001b[1mInfo: \u001b[22m\u001b[39m started timer at: 2025-03-05T18:14:22.189\n"
     ]
    },
    {
     "name": "stdout",
     "output_type": "stream",
     "text": [
      "60\n",
      "k : 12\n",
      "1\n",
      "-33611.43390069198\n",
      "2737.9811381774493\n",
      "60\n",
      "K : 12\n",
      "[0 -3200 -100 -1200 -2000]\n"
     ]
    },
    {
     "name": "stderr",
     "output_type": "stream",
     "text": [
      "\u001b[36m\u001b[1m[ \u001b[22m\u001b[39m\u001b[36m\u001b[1mInfo: \u001b[22m\u001b[39m          55.6967029s: 55 seconds, 696 milliseconds\n",
      "\u001b[36m\u001b[1m[ \u001b[22m\u001b[39m\u001b[36m\u001b[1mInfo: \u001b[22m\u001b[39m started timer at: 2025-03-05T18:15:17.911\n"
     ]
    },
    {
     "name": "stdout",
     "output_type": "stream",
     "text": [
      "false\n"
     ]
    },
    {
     "name": "stderr",
     "output_type": "stream",
     "text": [
      "\u001b[36m\u001b[1m[ \u001b[22m\u001b[39m\u001b[36m\u001b[1mInfo: \u001b[22m\u001b[39m started timer at: 2025-03-05T18:15:24.214\n"
     ]
    },
    {
     "name": "stdout",
     "output_type": "stream",
     "text": [
      "60\n",
      "k : 12\n",
      "1\n",
      "-35123.45818183184\n",
      "2859.7001973428833\n",
      "60\n",
      "K : 14\n",
      "[0 -800 -100 -1200 -2000]\n"
     ]
    },
    {
     "name": "stderr",
     "output_type": "stream",
     "text": [
      "\u001b[36m\u001b[1m[ \u001b[22m\u001b[39m\u001b[36m\u001b[1mInfo: \u001b[22m\u001b[39m          54.6284526s: 54 seconds, 628 milliseconds\n",
      "\u001b[36m\u001b[1m[ \u001b[22m\u001b[39m\u001b[36m\u001b[1mInfo: \u001b[22m\u001b[39m started timer at: 2025-03-05T18:16:18.859\n"
     ]
    },
    {
     "name": "stdout",
     "output_type": "stream",
     "text": [
      "false\n"
     ]
    },
    {
     "name": "stderr",
     "output_type": "stream",
     "text": [
      "\u001b[36m\u001b[1m[ \u001b[22m\u001b[39m\u001b[36m\u001b[1mInfo: \u001b[22m\u001b[39m started timer at: 2025-03-05T18:16:24.992\n"
     ]
    },
    {
     "name": "stdout",
     "output_type": "stream",
     "text": [
      "60\n",
      "k : 14\n",
      "1\n",
      "-22237.3261875959\n",
      "2000.4580498163111\n",
      "60\n",
      "K : 14\n",
      "[0 -1200 -100 -1200 -2000]\n"
     ]
    },
    {
     "name": "stderr",
     "output_type": "stream",
     "text": [
      "\u001b[36m\u001b[1m[ \u001b[22m\u001b[39m\u001b[36m\u001b[1mInfo: \u001b[22m\u001b[39m           55.984314s: 55 seconds, 984 milliseconds\n",
      "\u001b[36m\u001b[1m[ \u001b[22m\u001b[39m\u001b[36m\u001b[1mInfo: \u001b[22m\u001b[39m started timer at: 2025-03-05T18:17:21.001\n"
     ]
    },
    {
     "name": "stdout",
     "output_type": "stream",
     "text": [
      "false\n"
     ]
    },
    {
     "name": "stderr",
     "output_type": "stream",
     "text": [
      "\u001b[36m\u001b[1m[ \u001b[22m\u001b[39m\u001b[36m\u001b[1mInfo: \u001b[22m\u001b[39m started timer at: 2025-03-05T18:17:27.041\n"
     ]
    },
    {
     "name": "stdout",
     "output_type": "stream",
     "text": [
      "60\n",
      "k : 14\n",
      "1\n",
      "-25395.377998807995\n",
      "2227.1365401867874\n",
      "60\n",
      "K : 14\n",
      "[0 -1600 -100 -1200 -2000]\n"
     ]
    },
    {
     "name": "stderr",
     "output_type": "stream",
     "text": [
      "\u001b[36m\u001b[1m[ \u001b[22m\u001b[39m\u001b[36m\u001b[1mInfo: \u001b[22m\u001b[39m          59.0180422s: 59 seconds, 18 milliseconds\n",
      "\u001b[36m\u001b[1m[ \u001b[22m\u001b[39m\u001b[36m\u001b[1mInfo: \u001b[22m\u001b[39m started timer at: 2025-03-05T18:18:26.061\n"
     ]
    },
    {
     "name": "stdout",
     "output_type": "stream",
     "text": [
      "false\n"
     ]
    },
    {
     "name": "stderr",
     "output_type": "stream",
     "text": [
      "\u001b[36m\u001b[1m[ \u001b[22m\u001b[39m\u001b[36m\u001b[1mInfo: \u001b[22m\u001b[39m started timer at: 2025-03-05T18:18:32.430\n"
     ]
    },
    {
     "name": "stdout",
     "output_type": "stream",
     "text": [
      "60\n",
      "k : 14\n",
      "1\n",
      "-27926.33430610146\n",
      "2363.1606055619154\n",
      "60\n",
      "K : 14\n",
      "[0 -2000 -100 -1200 -2000]\n"
     ]
    },
    {
     "name": "stderr",
     "output_type": "stream",
     "text": [
      "\u001b[36m\u001b[1m[ \u001b[22m\u001b[39m\u001b[36m\u001b[1mInfo: \u001b[22m\u001b[39m          57.8069851s: 57 seconds, 806 milliseconds\n",
      "\u001b[36m\u001b[1m[ \u001b[22m\u001b[39m\u001b[36m\u001b[1mInfo: \u001b[22m\u001b[39m started timer at: 2025-03-05T18:19:30.242\n"
     ]
    },
    {
     "name": "stdout",
     "output_type": "stream",
     "text": [
      "false\n"
     ]
    },
    {
     "name": "stderr",
     "output_type": "stream",
     "text": [
      "\u001b[36m\u001b[1m[ \u001b[22m\u001b[39m\u001b[36m\u001b[1mInfo: \u001b[22m\u001b[39m started timer at: 2025-03-05T18:19:36.378\n"
     ]
    },
    {
     "name": "stdout",
     "output_type": "stream",
     "text": [
      "60\n",
      "k : 14\n",
      "1\n",
      "-29995.56574097047\n",
      "2511.481915752821\n",
      "60\n",
      "K : 14\n",
      "[0 -2400 -100 -1200 -2000]\n"
     ]
    },
    {
     "name": "stderr",
     "output_type": "stream",
     "text": [
      "\u001b[36m\u001b[1m[ \u001b[22m\u001b[39m\u001b[36m\u001b[1mInfo: \u001b[22m\u001b[39m          56.3857927s: 56 seconds, 385 milliseconds\n",
      "\u001b[36m\u001b[1m[ \u001b[22m\u001b[39m\u001b[36m\u001b[1mInfo: \u001b[22m\u001b[39m started timer at: 2025-03-05T18:20:32.792\n"
     ]
    },
    {
     "name": "stdout",
     "output_type": "stream",
     "text": [
      "false\n"
     ]
    },
    {
     "name": "stderr",
     "output_type": "stream",
     "text": [
      "\u001b[36m\u001b[1m[ \u001b[22m\u001b[39m\u001b[36m\u001b[1mInfo: \u001b[22m\u001b[39m started timer at: 2025-03-05T18:20:39.247\n"
     ]
    },
    {
     "name": "stdout",
     "output_type": "stream",
     "text": [
      "60\n",
      "k : 14\n",
      "1\n",
      "-31769.50112846376\n",
      "2630.8834469608532\n",
      "60\n",
      "K : 14\n",
      "[0 -2800 -100 -1200 -2000]\n"
     ]
    },
    {
     "name": "stderr",
     "output_type": "stream",
     "text": [
      "\u001b[36m\u001b[1m[ \u001b[22m\u001b[39m\u001b[36m\u001b[1mInfo: \u001b[22m\u001b[39m          55.3493592s: 55 seconds, 349 milliseconds\n",
      "\u001b[36m\u001b[1m[ \u001b[22m\u001b[39m\u001b[36m\u001b[1mInfo: \u001b[22m\u001b[39m started timer at: 2025-03-05T18:21:34.600\n"
     ]
    },
    {
     "name": "stdout",
     "output_type": "stream",
     "text": [
      "false\n"
     ]
    },
    {
     "name": "stderr",
     "output_type": "stream",
     "text": [
      "\u001b[36m\u001b[1m[ \u001b[22m\u001b[39m\u001b[36m\u001b[1mInfo: \u001b[22m\u001b[39m started timer at: 2025-03-05T18:21:40.889\n"
     ]
    },
    {
     "name": "stdout",
     "output_type": "stream",
     "text": [
      "60\n",
      "k : 14\n",
      "1\n",
      "-33321.80067022957\n",
      "2686.835505493609\n",
      "60\n",
      "K : 14\n",
      "[0 -3200 -100 -1200 -2000]\n"
     ]
    },
    {
     "name": "stderr",
     "output_type": "stream",
     "text": [
      "\u001b[36m\u001b[1m[ \u001b[22m\u001b[39m\u001b[36m\u001b[1mInfo: \u001b[22m\u001b[39m          56.2986142s: 56 seconds, 298 milliseconds\n",
      "\u001b[36m\u001b[1m[ \u001b[22m\u001b[39m\u001b[36m\u001b[1mInfo: \u001b[22m\u001b[39m started timer at: 2025-03-05T18:22:37.240\n"
     ]
    },
    {
     "name": "stdout",
     "output_type": "stream",
     "text": [
      "false\n"
     ]
    },
    {
     "name": "stderr",
     "output_type": "stream",
     "text": [
      "\u001b[36m\u001b[1m[ \u001b[22m\u001b[39m\u001b[36m\u001b[1mInfo: \u001b[22m\u001b[39m started timer at: 2025-03-05T18:22:43.548\n"
     ]
    },
    {
     "name": "stdout",
     "output_type": "stream",
     "text": [
      "60\n",
      "k : 14\n",
      "1\n",
      "-34709.60540115785\n",
      "2834.4487103736064\n",
      "60\n",
      "K : 16\n",
      "[0 -800 -100 -1200 -2000]\n"
     ]
    },
    {
     "name": "stderr",
     "output_type": "stream",
     "text": [
      "\u001b[36m\u001b[1m[ \u001b[22m\u001b[39m\u001b[36m\u001b[1mInfo: \u001b[22m\u001b[39m          57.8367415s: 57 seconds, 836 milliseconds\n",
      "\u001b[36m\u001b[1m[ \u001b[22m\u001b[39m\u001b[36m\u001b[1mInfo: \u001b[22m\u001b[39m started timer at: 2025-03-05T18:23:41.410\n"
     ]
    },
    {
     "name": "stdout",
     "output_type": "stream",
     "text": [
      "false\n"
     ]
    },
    {
     "name": "stderr",
     "output_type": "stream",
     "text": [
      "\u001b[36m\u001b[1m[ \u001b[22m\u001b[39m\u001b[36m\u001b[1mInfo: \u001b[22m\u001b[39m started timer at: 2025-03-05T18:23:47.623\n"
     ]
    },
    {
     "name": "stdout",
     "output_type": "stream",
     "text": [
      "60\n",
      "k : 16\n",
      "1\n",
      "-22285.337184759013\n",
      "2024.485883978669\n",
      "60\n",
      "K : 16\n",
      "[0 -1200 -100 -1200 -2000]\n"
     ]
    },
    {
     "name": "stderr",
     "output_type": "stream",
     "text": [
      "\u001b[36m\u001b[1m[ \u001b[22m\u001b[39m\u001b[36m\u001b[1mInfo: \u001b[22m\u001b[39m          58.3281357s: 58 seconds, 328 milliseconds\n",
      "\u001b[36m\u001b[1m[ \u001b[22m\u001b[39m\u001b[36m\u001b[1mInfo: \u001b[22m\u001b[39m started timer at: 2025-03-05T18:24:45.962\n"
     ]
    },
    {
     "name": "stdout",
     "output_type": "stream",
     "text": [
      "false\n"
     ]
    },
    {
     "name": "stderr",
     "output_type": "stream",
     "text": [
      "\u001b[36m\u001b[1m[ \u001b[22m\u001b[39m\u001b[36m\u001b[1mInfo: \u001b[22m\u001b[39m started timer at: 2025-03-05T18:24:52.191\n"
     ]
    },
    {
     "name": "stdout",
     "output_type": "stream",
     "text": [
      "60\n",
      "k : 16\n",
      "1\n",
      "-25391.109349759783\n",
      "2219.261527148591\n",
      "60\n",
      "K : 16\n",
      "[0 -1600 -100 -1200 -2000]\n"
     ]
    },
    {
     "name": "stderr",
     "output_type": "stream",
     "text": [
      "\u001b[36m\u001b[1m[ \u001b[22m\u001b[39m\u001b[36m\u001b[1mInfo: \u001b[22m\u001b[39m          57.2781358s: 57 seconds, 278 milliseconds\n",
      "\u001b[36m\u001b[1m[ \u001b[22m\u001b[39m\u001b[36m\u001b[1mInfo: \u001b[22m\u001b[39m started timer at: 2025-03-05T18:25:49.499\n"
     ]
    },
    {
     "name": "stdout",
     "output_type": "stream",
     "text": [
      "false\n"
     ]
    },
    {
     "name": "stderr",
     "output_type": "stream",
     "text": [
      "\u001b[36m\u001b[1m[ \u001b[22m\u001b[39m\u001b[36m\u001b[1mInfo: \u001b[22m\u001b[39m started timer at: 2025-03-05T18:25:55.742\n"
     ]
    },
    {
     "name": "stdout",
     "output_type": "stream",
     "text": [
      "60\n",
      "k : 16\n",
      "1\n",
      "-27930.26041563732\n",
      "2423.6963633201594\n",
      "60\n",
      "K : 16\n",
      "[0 -2000 -100 -1200 -2000]\n"
     ]
    },
    {
     "name": "stderr",
     "output_type": "stream",
     "text": [
      "\u001b[36m\u001b[1m[ \u001b[22m\u001b[39m\u001b[36m\u001b[1mInfo: \u001b[22m\u001b[39m          55.4640661s: 55 seconds, 464 milliseconds\n",
      "\u001b[36m\u001b[1m[ \u001b[22m\u001b[39m\u001b[36m\u001b[1mInfo: \u001b[22m\u001b[39m started timer at: 2025-03-05T18:26:51.215\n"
     ]
    },
    {
     "name": "stdout",
     "output_type": "stream",
     "text": [
      "false\n"
     ]
    },
    {
     "name": "stderr",
     "output_type": "stream",
     "text": [
      "\u001b[36m\u001b[1m[ \u001b[22m\u001b[39m\u001b[36m\u001b[1mInfo: \u001b[22m\u001b[39m started timer at: 2025-03-05T18:26:57.708\n"
     ]
    },
    {
     "name": "stdout",
     "output_type": "stream",
     "text": [
      "60\n",
      "k : 16\n",
      "1\n",
      "-30009.440281169427\n",
      "2506.433064153427\n",
      "60\n",
      "K : 16\n",
      "[0 -2400 -100 -1200 -2000]\n"
     ]
    },
    {
     "name": "stderr",
     "output_type": "stream",
     "text": [
      "\u001b[36m\u001b[1m[ \u001b[22m\u001b[39m\u001b[36m\u001b[1mInfo: \u001b[22m\u001b[39m          57.4795944s: 57 seconds, 479 milliseconds\n",
      "\u001b[36m\u001b[1m[ \u001b[22m\u001b[39m\u001b[36m\u001b[1mInfo: \u001b[22m\u001b[39m started timer at: 2025-03-05T18:27:55.203\n"
     ]
    },
    {
     "name": "stdout",
     "output_type": "stream",
     "text": [
      "false\n"
     ]
    },
    {
     "name": "stderr",
     "output_type": "stream",
     "text": [
      "\u001b[36m\u001b[1m[ \u001b[22m\u001b[39m\u001b[36m\u001b[1mInfo: \u001b[22m\u001b[39m started timer at: 2025-03-05T18:28:01.573\n"
     ]
    },
    {
     "name": "stdout",
     "output_type": "stream",
     "text": [
      "60\n",
      "k : 16\n",
      "1\n",
      "-31671.65471148374\n",
      "2584.72375857549\n",
      "60\n",
      "K : 16\n",
      "[0 -2800 -100 -1200 -2000]\n"
     ]
    },
    {
     "name": "stderr",
     "output_type": "stream",
     "text": [
      "\u001b[36m\u001b[1m[ \u001b[22m\u001b[39m\u001b[36m\u001b[1mInfo: \u001b[22m\u001b[39m          58.6147012s: 58 seconds, 614 milliseconds\n",
      "\u001b[36m\u001b[1m[ \u001b[22m\u001b[39m\u001b[36m\u001b[1mInfo: \u001b[22m\u001b[39m started timer at: 2025-03-05T18:29:00.213\n"
     ]
    },
    {
     "name": "stdout",
     "output_type": "stream",
     "text": [
      "false\n"
     ]
    },
    {
     "name": "stderr",
     "output_type": "stream",
     "text": [
      "\u001b[36m\u001b[1m[ \u001b[22m\u001b[39m\u001b[36m\u001b[1mInfo: \u001b[22m\u001b[39m started timer at: 2025-03-05T18:29:06.535\n"
     ]
    },
    {
     "name": "stdout",
     "output_type": "stream",
     "text": [
      "60\n",
      "k : 16\n",
      "1\n",
      "-33075.056247342334\n",
      "2645.0223087809727\n",
      "60\n",
      "K : 16\n",
      "[0 -3200 -100 -1200 -2000]\n"
     ]
    },
    {
     "name": "stderr",
     "output_type": "stream",
     "text": [
      "\u001b[36m\u001b[1m[ \u001b[22m\u001b[39m\u001b[36m\u001b[1mInfo: \u001b[22m\u001b[39m          57.9409567s: 57 seconds, 940 milliseconds\n",
      "\u001b[36m\u001b[1m[ \u001b[22m\u001b[39m\u001b[36m\u001b[1mInfo: \u001b[22m\u001b[39m started timer at: 2025-03-05T18:30:04.485\n"
     ]
    },
    {
     "name": "stdout",
     "output_type": "stream",
     "text": [
      "false\n"
     ]
    },
    {
     "name": "stderr",
     "output_type": "stream",
     "text": [
      "\u001b[36m\u001b[1m[ \u001b[22m\u001b[39m\u001b[36m\u001b[1mInfo: \u001b[22m\u001b[39m started timer at: 2025-03-05T18:30:10.886\n"
     ]
    },
    {
     "name": "stdout",
     "output_type": "stream",
     "text": [
      "60\n",
      "k : 16\n",
      "1\n",
      "-34382.03946592359\n",
      "2749.4160921509724\n",
      "60\n",
      "K : 18\n",
      "[0 -800 -100 -1200 -2000]\n"
     ]
    },
    {
     "name": "stderr",
     "output_type": "stream",
     "text": [
      "\u001b[36m\u001b[1m[ \u001b[22m\u001b[39m\u001b[36m\u001b[1mInfo: \u001b[22m\u001b[39m          56.4887626s: 56 seconds, 488 milliseconds\n",
      "\u001b[36m\u001b[1m[ \u001b[22m\u001b[39m\u001b[36m\u001b[1mInfo: \u001b[22m\u001b[39m started timer at: 2025-03-05T18:31:07.395\n"
     ]
    },
    {
     "name": "stdout",
     "output_type": "stream",
     "text": [
      "false\n"
     ]
    },
    {
     "name": "stderr",
     "output_type": "stream",
     "text": [
      "\u001b[36m\u001b[1m[ \u001b[22m\u001b[39m\u001b[36m\u001b[1mInfo: \u001b[22m\u001b[39m started timer at: 2025-03-05T18:31:13.762\n"
     ]
    },
    {
     "name": "stdout",
     "output_type": "stream",
     "text": [
      "60\n",
      "k : 18\n",
      "1\n",
      "-22261.289383160864\n",
      "1998.998784919591\n",
      "60\n",
      "K : 18\n",
      "[0 -1200 -100 -1200 -2000]\n"
     ]
    },
    {
     "name": "stderr",
     "output_type": "stream",
     "text": [
      "\u001b[36m\u001b[1m[ \u001b[22m\u001b[39m\u001b[36m\u001b[1mInfo: \u001b[22m\u001b[39m          55.2328365s: 55 seconds, 232 milliseconds\n",
      "\u001b[36m\u001b[1m[ \u001b[22m\u001b[39m\u001b[36m\u001b[1mInfo: \u001b[22m\u001b[39m started timer at: 2025-03-05T18:32:09.020\n"
     ]
    },
    {
     "name": "stdout",
     "output_type": "stream",
     "text": [
      "false\n"
     ]
    },
    {
     "name": "stderr",
     "output_type": "stream",
     "text": [
      "\u001b[36m\u001b[1m[ \u001b[22m\u001b[39m\u001b[36m\u001b[1mInfo: \u001b[22m\u001b[39m started timer at: 2025-03-05T18:32:15.154\n"
     ]
    },
    {
     "name": "stdout",
     "output_type": "stream",
     "text": [
      "60\n",
      "k : 18\n",
      "1\n",
      "-25382.019141494642\n",
      "2207.438617867073\n",
      "60\n",
      "K : 18\n",
      "[0 -1600 -100 -1200 -2000]\n"
     ]
    },
    {
     "name": "stderr",
     "output_type": "stream",
     "text": [
      "\u001b[36m\u001b[1m[ \u001b[22m\u001b[39m\u001b[36m\u001b[1mInfo: \u001b[22m\u001b[39m          55.7062771s: 55 seconds, 706 milliseconds\n",
      "\u001b[36m\u001b[1m[ \u001b[22m\u001b[39m\u001b[36m\u001b[1mInfo: \u001b[22m\u001b[39m started timer at: 2025-03-05T18:33:10.912\n"
     ]
    },
    {
     "name": "stdout",
     "output_type": "stream",
     "text": [
      "false\n"
     ]
    },
    {
     "name": "stderr",
     "output_type": "stream",
     "text": [
      "\u001b[36m\u001b[1m[ \u001b[22m\u001b[39m\u001b[36m\u001b[1mInfo: \u001b[22m\u001b[39m started timer at: 2025-03-05T18:33:17.140\n"
     ]
    },
    {
     "name": "stdout",
     "output_type": "stream",
     "text": [
      "60\n",
      "k : 18\n",
      "1\n",
      "-27864.326009391963\n",
      "2415.255707120484\n",
      "60\n",
      "K : 18\n",
      "[0 -2000 -100 -1200 -2000]\n"
     ]
    },
    {
     "name": "stderr",
     "output_type": "stream",
     "text": [
      "\u001b[36m\u001b[1m[ \u001b[22m\u001b[39m\u001b[36m\u001b[1mInfo: \u001b[22m\u001b[39m          57.9077256s: 57 seconds, 907 milliseconds\n",
      "\u001b[36m\u001b[1m[ \u001b[22m\u001b[39m\u001b[36m\u001b[1mInfo: \u001b[22m\u001b[39m started timer at: 2025-03-05T18:34:15.064\n"
     ]
    },
    {
     "name": "stdout",
     "output_type": "stream",
     "text": [
      "false\n"
     ]
    },
    {
     "name": "stderr",
     "output_type": "stream",
     "text": [
      "\u001b[36m\u001b[1m[ \u001b[22m\u001b[39m\u001b[36m\u001b[1mInfo: \u001b[22m\u001b[39m started timer at: 2025-03-05T18:34:21.293\n"
     ]
    },
    {
     "name": "stdout",
     "output_type": "stream",
     "text": [
      "60\n",
      "k : 18\n",
      "1\n",
      "-29893.504154257666\n",
      "2494.1507479985744\n",
      "60\n",
      "K : 18\n",
      "[0 -2400 -100 -1200 -2000]\n"
     ]
    },
    {
     "name": "stderr",
     "output_type": "stream",
     "text": [
      "\u001b[36m\u001b[1m[ \u001b[22m\u001b[39m\u001b[36m\u001b[1mInfo: \u001b[22m\u001b[39m          56.8490749s: 56 seconds, 849 milliseconds\n",
      "\u001b[36m\u001b[1m[ \u001b[22m\u001b[39m\u001b[36m\u001b[1mInfo: \u001b[22m\u001b[39m started timer at: 2025-03-05T18:35:18.155\n"
     ]
    },
    {
     "name": "stdout",
     "output_type": "stream",
     "text": [
      "false\n"
     ]
    },
    {
     "name": "stderr",
     "output_type": "stream",
     "text": [
      "\u001b[36m\u001b[1m[ \u001b[22m\u001b[39m\u001b[36m\u001b[1mInfo: \u001b[22m\u001b[39m started timer at: 2025-03-05T18:35:24.450\n"
     ]
    },
    {
     "name": "stdout",
     "output_type": "stream",
     "text": [
      "60\n",
      "k : 18\n",
      "1\n",
      "-31544.697711755227\n",
      "2568.3443436124685\n",
      "60\n",
      "K : 18\n",
      "[0 -2800 -100 -1200 -2000]\n"
     ]
    },
    {
     "name": "stderr",
     "output_type": "stream",
     "text": [
      "\u001b[36m\u001b[1m[ \u001b[22m\u001b[39m\u001b[36m\u001b[1mInfo: \u001b[22m\u001b[39m          56.1410593s: 56 seconds, 141 milliseconds\n",
      "\u001b[36m\u001b[1m[ \u001b[22m\u001b[39m\u001b[36m\u001b[1mInfo: \u001b[22m\u001b[39m started timer at: 2025-03-05T18:36:20.596\n"
     ]
    },
    {
     "name": "stdout",
     "output_type": "stream",
     "text": [
      "false\n"
     ]
    },
    {
     "name": "stderr",
     "output_type": "stream",
     "text": [
      "\u001b[36m\u001b[1m[ \u001b[22m\u001b[39m\u001b[36m\u001b[1mInfo: \u001b[22m\u001b[39m started timer at: 2025-03-05T18:36:26.887\n"
     ]
    },
    {
     "name": "stdout",
     "output_type": "stream",
     "text": [
      "60\n",
      "k : 18\n",
      "1\n",
      "-32937.6230977708\n",
      "2623.4604465979196\n",
      "60\n",
      "K : 18\n",
      "[0 -3200 -100 -1200 -2000]\n"
     ]
    },
    {
     "name": "stderr",
     "output_type": "stream",
     "text": [
      "\u001b[36m\u001b[1m[ \u001b[22m\u001b[39m\u001b[36m\u001b[1mInfo: \u001b[22m\u001b[39m            55.11882s: 55 seconds, 118 milliseconds\n",
      "\u001b[36m\u001b[1m[ \u001b[22m\u001b[39m\u001b[36m\u001b[1mInfo: \u001b[22m\u001b[39m started timer at: 2025-03-05T18:37:22.030\n"
     ]
    },
    {
     "name": "stdout",
     "output_type": "stream",
     "text": [
      "false\n"
     ]
    },
    {
     "name": "stderr",
     "output_type": "stream",
     "text": [
      "\u001b[36m\u001b[1m[ \u001b[22m\u001b[39m\u001b[36m\u001b[1mInfo: \u001b[22m\u001b[39m started timer at: 2025-03-05T18:37:28.368\n"
     ]
    },
    {
     "name": "stdout",
     "output_type": "stream",
     "text": [
      "60\n",
      "k : 18\n",
      "1\n",
      "-34153.6604090702\n",
      "2681.9454923766016\n",
      "60\n",
      "K : 20\n",
      "[0 -800 -100 -1200 -2000]\n"
     ]
    },
    {
     "name": "stderr",
     "output_type": "stream",
     "text": [
      "\u001b[36m\u001b[1m[ \u001b[22m\u001b[39m\u001b[36m\u001b[1mInfo: \u001b[22m\u001b[39m           55.106121s: 55 seconds, 106 milliseconds\n",
      "\u001b[36m\u001b[1m[ \u001b[22m\u001b[39m\u001b[36m\u001b[1mInfo: \u001b[22m\u001b[39m started timer at: 2025-03-05T18:38:23.480\n"
     ]
    },
    {
     "name": "stdout",
     "output_type": "stream",
     "text": [
      "false\n"
     ]
    },
    {
     "name": "stderr",
     "output_type": "stream",
     "text": [
      "\u001b[36m\u001b[1m[ \u001b[22m\u001b[39m\u001b[36m\u001b[1mInfo: \u001b[22m\u001b[39m started timer at: 2025-03-05T18:38:29.863\n"
     ]
    },
    {
     "name": "stdout",
     "output_type": "stream",
     "text": [
      "60\n",
      "k : 20\n",
      "1\n",
      "-22224.655482951806\n",
      "2006.3803686660992\n",
      "60\n",
      "K : 20\n",
      "[0 -1200 -100 -1200 -2000]\n"
     ]
    },
    {
     "name": "stderr",
     "output_type": "stream",
     "text": [
      "\u001b[36m\u001b[1m[ \u001b[22m\u001b[39m\u001b[36m\u001b[1mInfo: \u001b[22m\u001b[39m          59.0373295s: 59 seconds, 37 milliseconds\n",
      "\u001b[36m\u001b[1m[ \u001b[22m\u001b[39m\u001b[36m\u001b[1mInfo: \u001b[22m\u001b[39m started timer at: 2025-03-05T18:39:28.913\n"
     ]
    },
    {
     "name": "stdout",
     "output_type": "stream",
     "text": [
      "false\n"
     ]
    },
    {
     "name": "stderr",
     "output_type": "stream",
     "text": [
      "\u001b[36m\u001b[1m[ \u001b[22m\u001b[39m\u001b[36m\u001b[1mInfo: \u001b[22m\u001b[39m started timer at: 2025-03-05T18:39:35.127\n"
     ]
    },
    {
     "name": "stdout",
     "output_type": "stream",
     "text": [
      "60\n",
      "k : 20\n",
      "1\n",
      "-25387.931700257377\n",
      "2226.6040311761385\n",
      "60\n",
      "K : 20\n",
      "[0 -1600 -100 -1200 -2000]\n"
     ]
    },
    {
     "name": "stderr",
     "output_type": "stream",
     "text": [
      "\u001b[36m\u001b[1m[ \u001b[22m\u001b[39m\u001b[36m\u001b[1mInfo: \u001b[22m\u001b[39m          57.8043814s: 57 seconds, 804 milliseconds\n",
      "\u001b[36m\u001b[1m[ \u001b[22m\u001b[39m\u001b[36m\u001b[1mInfo: \u001b[22m\u001b[39m started timer at: 2025-03-05T18:40:32.938\n"
     ]
    },
    {
     "name": "stdout",
     "output_type": "stream",
     "text": [
      "false\n"
     ]
    },
    {
     "name": "stderr",
     "output_type": "stream",
     "text": [
      "\u001b[36m\u001b[1m[ \u001b[22m\u001b[39m\u001b[36m\u001b[1mInfo: \u001b[22m\u001b[39m started timer at: 2025-03-05T18:40:39.224\n"
     ]
    },
    {
     "name": "stdout",
     "output_type": "stream",
     "text": [
      "60\n",
      "k : 20\n",
      "1\n",
      "-27860.057186264636\n",
      "2360.995942928162\n",
      "60\n",
      "K : 20\n",
      "[0 -2000 -100 -1200 -2000]\n"
     ]
    },
    {
     "name": "stderr",
     "output_type": "stream",
     "text": [
      "\u001b[36m\u001b[1m[ \u001b[22m\u001b[39m\u001b[36m\u001b[1mInfo: \u001b[22m\u001b[39m          56.6289548s: 56 seconds, 628 milliseconds\n",
      "\u001b[36m\u001b[1m[ \u001b[22m\u001b[39m\u001b[36m\u001b[1mInfo: \u001b[22m\u001b[39m started timer at: 2025-03-05T18:41:35.864\n"
     ]
    },
    {
     "name": "stdout",
     "output_type": "stream",
     "text": [
      "false\n"
     ]
    },
    {
     "name": "stderr",
     "output_type": "stream",
     "text": [
      "\u001b[36m\u001b[1m[ \u001b[22m\u001b[39m\u001b[36m\u001b[1mInfo: \u001b[22m\u001b[39m started timer at: 2025-03-05T18:41:42.089\n"
     ]
    },
    {
     "name": "stdout",
     "output_type": "stream",
     "text": [
      "60\n",
      "k : 20\n",
      "1\n",
      "-29899.32178879171\n",
      "2497.794173159075\n",
      "60\n",
      "K : 20\n",
      "[0 -2400 -100 -1200 -2000]\n"
     ]
    },
    {
     "name": "stderr",
     "output_type": "stream",
     "text": [
      "\u001b[36m\u001b[1m[ \u001b[22m\u001b[39m\u001b[36m\u001b[1mInfo: \u001b[22m\u001b[39m          55.9735974s: 55 seconds, 973 milliseconds\n",
      "\u001b[36m\u001b[1m[ \u001b[22m\u001b[39m\u001b[36m\u001b[1mInfo: \u001b[22m\u001b[39m started timer at: 2025-03-05T18:42:38.078\n"
     ]
    },
    {
     "name": "stdout",
     "output_type": "stream",
     "text": [
      "false\n"
     ]
    },
    {
     "name": "stderr",
     "output_type": "stream",
     "text": [
      "\u001b[36m\u001b[1m[ \u001b[22m\u001b[39m\u001b[36m\u001b[1mInfo: \u001b[22m\u001b[39m started timer at: 2025-03-05T18:42:44.480\n"
     ]
    },
    {
     "name": "stdout",
     "output_type": "stream",
     "text": [
      "60\n",
      "k : 20\n",
      "1\n",
      "-31506.70511077196\n",
      "2535.5660722976963\n",
      "60\n",
      "K : 20\n",
      "[0 -2800 -100 -1200 -2000]\n"
     ]
    },
    {
     "name": "stderr",
     "output_type": "stream",
     "text": [
      "\u001b[36m\u001b[1m[ \u001b[22m\u001b[39m\u001b[36m\u001b[1mInfo: \u001b[22m\u001b[39m          55.8956048s: 55 seconds, 895 milliseconds\n",
      "\u001b[36m\u001b[1m[ \u001b[22m\u001b[39m\u001b[36m\u001b[1mInfo: \u001b[22m\u001b[39m started timer at: 2025-03-05T18:43:40.401\n"
     ]
    },
    {
     "name": "stdout",
     "output_type": "stream",
     "text": [
      "false\n"
     ]
    },
    {
     "name": "stderr",
     "output_type": "stream",
     "text": [
      "\u001b[36m\u001b[1m[ \u001b[22m\u001b[39m\u001b[36m\u001b[1mInfo: \u001b[22m\u001b[39m started timer at: 2025-03-05T18:43:46.745\n"
     ]
    },
    {
     "name": "stdout",
     "output_type": "stream",
     "text": [
      "60\n",
      "k : 20\n",
      "1\n",
      "-32877.09940078304\n",
      "2592.1386903900147\n",
      "60\n",
      "K : 20\n",
      "[0 -3200 -100 -1200 -2000]\n"
     ]
    },
    {
     "name": "stderr",
     "output_type": "stream",
     "text": [
      "\u001b[36m\u001b[1m[ \u001b[22m\u001b[39m\u001b[36m\u001b[1mInfo: \u001b[22m\u001b[39m          58.1064355s: 58 seconds, 106 milliseconds\n",
      "\u001b[36m\u001b[1m[ \u001b[22m\u001b[39m\u001b[36m\u001b[1mInfo: \u001b[22m\u001b[39m started timer at: 2025-03-05T18:44:44.871\n"
     ]
    },
    {
     "name": "stdout",
     "output_type": "stream",
     "text": [
      "false\n"
     ]
    },
    {
     "name": "stderr",
     "output_type": "stream",
     "text": [
      "\u001b[36m\u001b[1m[ \u001b[22m\u001b[39m\u001b[36m\u001b[1mInfo: \u001b[22m\u001b[39m started timer at: 2025-03-05T18:44:51.198\n"
     ]
    },
    {
     "name": "stdout",
     "output_type": "stream",
     "text": [
      "60\n",
      "k : 20\n",
      "1\n",
      "-33936.53781354849\n",
      "2650.017014986283\n",
      "60\n",
      "K : 22\n",
      "[0 -800 -100 -1200 -2000]\n"
     ]
    },
    {
     "name": "stderr",
     "output_type": "stream",
     "text": [
      "\u001b[36m\u001b[1m[ \u001b[22m\u001b[39m\u001b[36m\u001b[1mInfo: \u001b[22m\u001b[39m          57.4311301s: 57 seconds, 431 milliseconds\n",
      "\u001b[36m\u001b[1m[ \u001b[22m\u001b[39m\u001b[36m\u001b[1mInfo: \u001b[22m\u001b[39m started timer at: 2025-03-05T18:45:48.641\n"
     ]
    },
    {
     "name": "stdout",
     "output_type": "stream",
     "text": [
      "false\n"
     ]
    },
    {
     "name": "stderr",
     "output_type": "stream",
     "text": [
      "\u001b[36m\u001b[1m[ \u001b[22m\u001b[39m\u001b[36m\u001b[1mInfo: \u001b[22m\u001b[39m started timer at: 2025-03-05T18:45:54.870\n"
     ]
    },
    {
     "name": "stdout",
     "output_type": "stream",
     "text": [
      "60\n",
      "k : 22\n",
      "1\n",
      "-22249.335721971634\n",
      "2020.9270651343572\n",
      "60\n",
      "K : 22\n",
      "[0 -1200 -100 -1200 -2000]\n"
     ]
    },
    {
     "name": "stderr",
     "output_type": "stream",
     "text": [
      "\u001b[36m\u001b[1m[ \u001b[22m\u001b[39m\u001b[36m\u001b[1mInfo: \u001b[22m\u001b[39m          57.9172942s: 57 seconds, 917 milliseconds\n",
      "\u001b[36m\u001b[1m[ \u001b[22m\u001b[39m\u001b[36m\u001b[1mInfo: \u001b[22m\u001b[39m started timer at: 2025-03-05T18:46:52.806\n"
     ]
    },
    {
     "name": "stdout",
     "output_type": "stream",
     "text": [
      "false\n"
     ]
    },
    {
     "name": "stderr",
     "output_type": "stream",
     "text": [
      "\u001b[36m\u001b[1m[ \u001b[22m\u001b[39m\u001b[36m\u001b[1mInfo: \u001b[22m\u001b[39m started timer at: 2025-03-05T18:46:59.174\n"
     ]
    },
    {
     "name": "stdout",
     "output_type": "stream",
     "text": [
      "60\n",
      "k : 22\n",
      "1\n",
      "-25363.90301665613\n",
      "2226.425447813267\n",
      "60\n",
      "K : 22\n",
      "[0 -1600 -100 -1200 -2000]\n"
     ]
    },
    {
     "name": "stderr",
     "output_type": "stream",
     "text": [
      "\u001b[36m\u001b[1m[ \u001b[22m\u001b[39m\u001b[36m\u001b[1mInfo: \u001b[22m\u001b[39m          56.2073222s: 56 seconds, 207 milliseconds\n",
      "\u001b[36m\u001b[1m[ \u001b[22m\u001b[39m\u001b[36m\u001b[1mInfo: \u001b[22m\u001b[39m started timer at: 2025-03-05T18:47:55.389\n"
     ]
    },
    {
     "name": "stdout",
     "output_type": "stream",
     "text": [
      "false\n"
     ]
    },
    {
     "name": "stderr",
     "output_type": "stream",
     "text": [
      "\u001b[36m\u001b[1m[ \u001b[22m\u001b[39m\u001b[36m\u001b[1mInfo: \u001b[22m\u001b[39m started timer at: 2025-03-05T18:48:01.711\n"
     ]
    },
    {
     "name": "stdout",
     "output_type": "stream",
     "text": [
      "60\n",
      "k : 22\n",
      "1\n",
      "-27863.74026728177\n",
      "2381.976899667004\n",
      "60\n",
      "K : 22\n",
      "[0 -2000 -100 -1200 -2000]\n"
     ]
    },
    {
     "name": "stderr",
     "output_type": "stream",
     "text": [
      "\u001b[36m\u001b[1m[ \u001b[22m\u001b[39m\u001b[36m\u001b[1mInfo: \u001b[22m\u001b[39m          56.5062333s: 56 seconds, 506 milliseconds\n",
      "\u001b[36m\u001b[1m[ \u001b[22m\u001b[39m\u001b[36m\u001b[1mInfo: \u001b[22m\u001b[39m started timer at: 2025-03-05T18:48:58.235\n"
     ]
    },
    {
     "name": "stdout",
     "output_type": "stream",
     "text": [
      "false\n"
     ]
    },
    {
     "name": "stderr",
     "output_type": "stream",
     "text": [
      "\u001b[36m\u001b[1m[ \u001b[22m\u001b[39m\u001b[36m\u001b[1mInfo: \u001b[22m\u001b[39m started timer at: 2025-03-05T18:49:04.701\n"
     ]
    },
    {
     "name": "stdout",
     "output_type": "stream",
     "text": [
      "60\n",
      "k : 22\n",
      "1\n",
      "-29857.24129848056\n",
      "2465.3792861910133\n",
      "60\n",
      "K : 22\n",
      "[0 -2400 -100 -1200 -2000]\n"
     ]
    },
    {
     "name": "stderr",
     "output_type": "stream",
     "text": [
      "\u001b[36m\u001b[1m[ \u001b[22m\u001b[39m\u001b[36m\u001b[1mInfo: \u001b[22m\u001b[39m          58.7225169s: 58 seconds, 722 milliseconds\n",
      "\u001b[36m\u001b[1m[ \u001b[22m\u001b[39m\u001b[36m\u001b[1mInfo: \u001b[22m\u001b[39m started timer at: 2025-03-05T18:50:03.436\n"
     ]
    },
    {
     "name": "stdout",
     "output_type": "stream",
     "text": [
      "false\n"
     ]
    },
    {
     "name": "stderr",
     "output_type": "stream",
     "text": [
      "\u001b[36m\u001b[1m[ \u001b[22m\u001b[39m\u001b[36m\u001b[1mInfo: \u001b[22m\u001b[39m started timer at: 2025-03-05T18:50:09.601\n"
     ]
    },
    {
     "name": "stdout",
     "output_type": "stream",
     "text": [
      "60\n",
      "k : 22\n",
      "1\n",
      "-31465.93075291105\n",
      "2520.3383243948733\n",
      "60\n",
      "K : 22\n",
      "[0 -2800 -100 -1200 -2000]\n"
     ]
    },
    {
     "name": "stderr",
     "output_type": "stream",
     "text": [
      "\u001b[36m\u001b[1m[ \u001b[22m\u001b[39m\u001b[36m\u001b[1mInfo: \u001b[22m\u001b[39m          58.1480929s: 58 seconds, 148 milliseconds\n",
      "\u001b[36m\u001b[1m[ \u001b[22m\u001b[39m\u001b[36m\u001b[1mInfo: \u001b[22m\u001b[39m started timer at: 2025-03-05T18:51:07.771\n"
     ]
    },
    {
     "name": "stdout",
     "output_type": "stream",
     "text": [
      "false\n"
     ]
    },
    {
     "name": "stderr",
     "output_type": "stream",
     "text": [
      "\u001b[36m\u001b[1m[ \u001b[22m\u001b[39m\u001b[36m\u001b[1mInfo: \u001b[22m\u001b[39m started timer at: 2025-03-05T18:51:13.914\n"
     ]
    },
    {
     "name": "stdout",
     "output_type": "stream",
     "text": [
      "60\n",
      "k : 22\n",
      "1\n",
      "-32753.975361435838\n",
      "2574.3910387334895\n",
      "60\n",
      "K : 22\n",
      "[0 -3200 -100 -1200 -2000]\n"
     ]
    },
    {
     "name": "stderr",
     "output_type": "stream",
     "text": [
      "\u001b[36m\u001b[1m[ \u001b[22m\u001b[39m\u001b[36m\u001b[1mInfo: \u001b[22m\u001b[39m          57.4784699s: 57 seconds, 478 milliseconds\n",
      "\u001b[36m\u001b[1m[ \u001b[22m\u001b[39m\u001b[36m\u001b[1mInfo: \u001b[22m\u001b[39m started timer at: 2025-03-05T18:52:11.399\n"
     ]
    },
    {
     "name": "stdout",
     "output_type": "stream",
     "text": [
      "false\n"
     ]
    },
    {
     "name": "stderr",
     "output_type": "stream",
     "text": [
      "\u001b[36m\u001b[1m[ \u001b[22m\u001b[39m\u001b[36m\u001b[1mInfo: \u001b[22m\u001b[39m started timer at: 2025-03-05T18:52:17.754\n"
     ]
    },
    {
     "name": "stdout",
     "output_type": "stream",
     "text": [
      "60\n",
      "k : 22\n",
      "1\n",
      "-33800.8239535108\n",
      "2622.3333680772676\n",
      "60\n",
      "K : 24\n",
      "[0 -800 -100 -1200 -2000]\n"
     ]
    },
    {
     "name": "stderr",
     "output_type": "stream",
     "text": [
      "\u001b[36m\u001b[1m[ \u001b[22m\u001b[39m\u001b[36m\u001b[1mInfo: \u001b[22m\u001b[39m          56.1848235s: 56 seconds, 184 milliseconds\n",
      "\u001b[36m\u001b[1m[ \u001b[22m\u001b[39m\u001b[36m\u001b[1mInfo: \u001b[22m\u001b[39m started timer at: 2025-03-05T18:53:13.945\n"
     ]
    },
    {
     "name": "stdout",
     "output_type": "stream",
     "text": [
      "false\n"
     ]
    },
    {
     "name": "stderr",
     "output_type": "stream",
     "text": [
      "\u001b[36m\u001b[1m[ \u001b[22m\u001b[39m\u001b[36m\u001b[1mInfo: \u001b[22m\u001b[39m started timer at: 2025-03-05T18:53:20.347\n"
     ]
    },
    {
     "name": "stdout",
     "output_type": "stream",
     "text": [
      "60\n",
      "k : 24\n",
      "1\n",
      "-22197.500512248404\n",
      "1997.0949596103708\n",
      "60\n",
      "K : 24\n",
      "[0 -1200 -100 -1200 -2000]\n"
     ]
    },
    {
     "name": "stderr",
     "output_type": "stream",
     "text": [
      "\u001b[36m\u001b[1m[ \u001b[22m\u001b[39m\u001b[36m\u001b[1mInfo: \u001b[22m\u001b[39m          56.6465592s: 56 seconds, 646 milliseconds\n",
      "\u001b[36m\u001b[1m[ \u001b[22m\u001b[39m\u001b[36m\u001b[1mInfo: \u001b[22m\u001b[39m started timer at: 2025-03-05T18:54:17.012\n"
     ]
    },
    {
     "name": "stdout",
     "output_type": "stream",
     "text": [
      "false\n"
     ]
    },
    {
     "name": "stderr",
     "output_type": "stream",
     "text": [
      "\u001b[36m\u001b[1m[ \u001b[22m\u001b[39m\u001b[36m\u001b[1mInfo: \u001b[22m\u001b[39m started timer at: 2025-03-05T18:54:23.428\n"
     ]
    },
    {
     "name": "stdout",
     "output_type": "stream",
     "text": [
      "60\n",
      "k : 24\n",
      "1\n",
      "-25376.942487186883\n",
      "2236.618782319654\n",
      "60\n",
      "K : 24\n",
      "[0 -1600 -100 -1200 -2000]\n"
     ]
    },
    {
     "name": "stderr",
     "output_type": "stream",
     "text": [
      "\u001b[36m\u001b[1m[ \u001b[22m\u001b[39m\u001b[36m\u001b[1mInfo: \u001b[22m\u001b[39m          57.4907721s: 57 seconds, 490 milliseconds\n",
      "\u001b[36m\u001b[1m[ \u001b[22m\u001b[39m\u001b[36m\u001b[1mInfo: \u001b[22m\u001b[39m started timer at: 2025-03-05T18:55:20.941\n"
     ]
    },
    {
     "name": "stdout",
     "output_type": "stream",
     "text": [
      "false\n"
     ]
    },
    {
     "name": "stderr",
     "output_type": "stream",
     "text": [
      "\u001b[36m\u001b[1m[ \u001b[22m\u001b[39m\u001b[36m\u001b[1mInfo: \u001b[22m\u001b[39m started timer at: 2025-03-05T18:55:26.950\n"
     ]
    },
    {
     "name": "stdout",
     "output_type": "stream",
     "text": [
      "60\n",
      "k : 24\n",
      "1\n",
      "-27825.683975577114\n",
      "2404.975389912657\n",
      "60\n",
      "K : 24\n",
      "[0 -2000 -100 -1200 -2000]\n"
     ]
    },
    {
     "name": "stderr",
     "output_type": "stream",
     "text": [
      "\u001b[36m\u001b[1m[ \u001b[22m\u001b[39m\u001b[36m\u001b[1mInfo: \u001b[22m\u001b[39m          57.1311021s: 57 seconds, 131 milliseconds\n",
      "\u001b[36m\u001b[1m[ \u001b[22m\u001b[39m\u001b[36m\u001b[1mInfo: \u001b[22m\u001b[39m started timer at: 2025-03-05T18:56:24.101\n"
     ]
    },
    {
     "name": "stdout",
     "output_type": "stream",
     "text": [
      "false\n"
     ]
    },
    {
     "name": "stderr",
     "output_type": "stream",
     "text": [
      "\u001b[36m\u001b[1m[ \u001b[22m\u001b[39m\u001b[36m\u001b[1mInfo: \u001b[22m\u001b[39m started timer at: 2025-03-05T18:56:30.202\n"
     ]
    },
    {
     "name": "stdout",
     "output_type": "stream",
     "text": [
      "60\n",
      "k : 24\n",
      "1\n",
      "-29791.564222983052\n",
      "2495.434304486989\n",
      "60\n",
      "K : 24\n",
      "[0 -2400 -100 -1200 -2000]\n"
     ]
    },
    {
     "name": "stderr",
     "output_type": "stream",
     "text": [
      "\u001b[36m\u001b[1m[ \u001b[22m\u001b[39m\u001b[36m\u001b[1mInfo: \u001b[22m\u001b[39m          56.6127483s: 56 seconds, 612 milliseconds\n",
      "\u001b[36m\u001b[1m[ \u001b[22m\u001b[39m\u001b[36m\u001b[1mInfo: \u001b[22m\u001b[39m started timer at: 2025-03-05T18:57:26.820\n"
     ]
    },
    {
     "name": "stdout",
     "output_type": "stream",
     "text": [
      "false\n"
     ]
    },
    {
     "name": "stderr",
     "output_type": "stream",
     "text": [
      "\u001b[36m\u001b[1m[ \u001b[22m\u001b[39m\u001b[36m\u001b[1mInfo: \u001b[22m\u001b[39m started timer at: 2025-03-05T18:57:33.049\n"
     ]
    },
    {
     "name": "stdout",
     "output_type": "stream",
     "text": [
      "60\n",
      "k : 24\n",
      "1\n",
      "-31386.740059978914\n",
      "2537.312141674015\n",
      "60\n",
      "K : 24\n",
      "[0 -2800 -100 -1200 -2000]\n"
     ]
    },
    {
     "name": "stderr",
     "output_type": "stream",
     "text": [
      "\u001b[36m\u001b[1m[ \u001b[22m\u001b[39m\u001b[36m\u001b[1mInfo: \u001b[22m\u001b[39m          55.9411018s: 55 seconds, 941 milliseconds\n",
      "\u001b[36m\u001b[1m[ \u001b[22m\u001b[39m\u001b[36m\u001b[1mInfo: \u001b[22m\u001b[39m started timer at: 2025-03-05T18:58:29.007\n"
     ]
    },
    {
     "name": "stdout",
     "output_type": "stream",
     "text": [
      "false\n"
     ]
    },
    {
     "name": "stderr",
     "output_type": "stream",
     "text": [
      "\u001b[36m\u001b[1m[ \u001b[22m\u001b[39m\u001b[36m\u001b[1mInfo: \u001b[22m\u001b[39m started timer at: 2025-03-05T18:58:35.267\n"
     ]
    },
    {
     "name": "stdout",
     "output_type": "stream",
     "text": [
      "60\n",
      "k : 24\n",
      "1\n",
      "-32632.79285633496\n",
      "2563.4463274564796\n",
      "60\n",
      "K : 24\n",
      "[0 -3200 -100 -1200 -2000]\n"
     ]
    },
    {
     "name": "stderr",
     "output_type": "stream",
     "text": [
      "\u001b[36m\u001b[1m[ \u001b[22m\u001b[39m\u001b[36m\u001b[1mInfo: \u001b[22m\u001b[39m          53.6600783s: 53 seconds, 660 milliseconds\n",
      "\u001b[36m\u001b[1m[ \u001b[22m\u001b[39m\u001b[36m\u001b[1mInfo: \u001b[22m\u001b[39m started timer at: 2025-03-05T18:59:28.937\n"
     ]
    },
    {
     "name": "stdout",
     "output_type": "stream",
     "text": [
      "false\n"
     ]
    },
    {
     "name": "stderr",
     "output_type": "stream",
     "text": [
      "\u001b[36m\u001b[1m[ \u001b[22m\u001b[39m\u001b[36m\u001b[1mInfo: \u001b[22m\u001b[39m started timer at: 2025-03-05T18:59:35.103\n"
     ]
    },
    {
     "name": "stdout",
     "output_type": "stream",
     "text": [
      "60\n",
      "k : 24\n",
      "1\n",
      "-33676.52694042622\n",
      "2624.238579287556\n",
      "60\n",
      "K : 26\n",
      "[0 -800 -100 -1200 -2000]\n"
     ]
    },
    {
     "name": "stderr",
     "output_type": "stream",
     "text": [
      "\u001b[36m\u001b[1m[ \u001b[22m\u001b[39m\u001b[36m\u001b[1mInfo: \u001b[22m\u001b[39m          57.3076057s: 57 seconds, 307 milliseconds\n",
      "\u001b[36m\u001b[1m[ \u001b[22m\u001b[39m\u001b[36m\u001b[1mInfo: \u001b[22m\u001b[39m started timer at: 2025-03-05T19:00:32.428\n"
     ]
    },
    {
     "name": "stdout",
     "output_type": "stream",
     "text": [
      "false\n"
     ]
    },
    {
     "name": "stderr",
     "output_type": "stream",
     "text": [
      "\u001b[36m\u001b[1m[ \u001b[22m\u001b[39m\u001b[36m\u001b[1mInfo: \u001b[22m\u001b[39m started timer at: 2025-03-05T19:00:38.623\n"
     ]
    },
    {
     "name": "stdout",
     "output_type": "stream",
     "text": [
      "60\n",
      "k : 26\n",
      "1\n",
      "-22200.95653791505\n",
      "1984.1742203025983\n",
      "60\n",
      "K : 26\n",
      "[0 -1200 -100 -1200 -2000]\n"
     ]
    },
    {
     "name": "stderr",
     "output_type": "stream",
     "text": [
      "\u001b[36m\u001b[1m[ \u001b[22m\u001b[39m\u001b[36m\u001b[1mInfo: \u001b[22m\u001b[39m          58.8182581s: 58 seconds, 818 milliseconds\n",
      "\u001b[36m\u001b[1m[ \u001b[22m\u001b[39m\u001b[36m\u001b[1mInfo: \u001b[22m\u001b[39m started timer at: 2025-03-05T19:01:37.468\n"
     ]
    },
    {
     "name": "stdout",
     "output_type": "stream",
     "text": [
      "false\n"
     ]
    },
    {
     "name": "stderr",
     "output_type": "stream",
     "text": [
      "\u001b[36m\u001b[1m[ \u001b[22m\u001b[39m\u001b[36m\u001b[1mInfo: \u001b[22m\u001b[39m started timer at: 2025-03-05T19:01:43.696\n"
     ]
    },
    {
     "name": "stdout",
     "output_type": "stream",
     "text": [
      "60\n",
      "k : 26\n",
      "1\n",
      "-25343.320371282098\n",
      "2252.906213331449\n",
      "60\n",
      "K : 26\n",
      "[0 -1600 -100 -1200 -2000]\n"
     ]
    },
    {
     "name": "stderr",
     "output_type": "stream",
     "text": [
      "\u001b[36m\u001b[1m[ \u001b[22m\u001b[39m\u001b[36m\u001b[1mInfo: \u001b[22m\u001b[39m          57.5622308s: 57 seconds, 562 milliseconds\n",
      "\u001b[36m\u001b[1m[ \u001b[22m\u001b[39m\u001b[36m\u001b[1mInfo: \u001b[22m\u001b[39m started timer at: 2025-03-05T19:02:41.273\n"
     ]
    },
    {
     "name": "stdout",
     "output_type": "stream",
     "text": [
      "false\n"
     ]
    },
    {
     "name": "stderr",
     "output_type": "stream",
     "text": [
      "\u001b[36m\u001b[1m[ \u001b[22m\u001b[39m\u001b[36m\u001b[1mInfo: \u001b[22m\u001b[39m started timer at: 2025-03-05T19:02:47.595\n"
     ]
    },
    {
     "name": "stdout",
     "output_type": "stream",
     "text": [
      "60\n",
      "k : 26\n",
      "1\n",
      "-27878.57664159675\n",
      "2405.50439651838\n",
      "60\n",
      "K : 26\n",
      "[0 -2000 -100 -1200 -2000]\n"
     ]
    },
    {
     "name": "stderr",
     "output_type": "stream",
     "text": [
      "\u001b[36m\u001b[1m[ \u001b[22m\u001b[39m\u001b[36m\u001b[1mInfo: \u001b[22m\u001b[39m           56.306272s: 56 seconds, 306 milliseconds\n",
      "\u001b[36m\u001b[1m[ \u001b[22m\u001b[39m\u001b[36m\u001b[1mInfo: \u001b[22m\u001b[39m started timer at: 2025-03-05T19:03:43.912\n"
     ]
    },
    {
     "name": "stdout",
     "output_type": "stream",
     "text": [
      "false\n"
     ]
    },
    {
     "name": "stderr",
     "output_type": "stream",
     "text": [
      "\u001b[36m\u001b[1m[ \u001b[22m\u001b[39m\u001b[36m\u001b[1mInfo: \u001b[22m\u001b[39m started timer at: 2025-03-05T19:03:50.266\n"
     ]
    },
    {
     "name": "stdout",
     "output_type": "stream",
     "text": [
      "60\n",
      "k : 26\n",
      "1\n",
      "-29821.61056220835\n",
      "2498.7613068769556\n",
      "60\n",
      "K : 26\n",
      "[0 -2400 -100 -1200 -2000]\n"
     ]
    },
    {
     "name": "stderr",
     "output_type": "stream",
     "text": [
      "\u001b[36m\u001b[1m[ \u001b[22m\u001b[39m\u001b[36m\u001b[1mInfo: \u001b[22m\u001b[39m          54.6061666s: 54 seconds, 606 milliseconds\n",
      "\u001b[36m\u001b[1m[ \u001b[22m\u001b[39m\u001b[36m\u001b[1mInfo: \u001b[22m\u001b[39m started timer at: 2025-03-05T19:04:44.891\n"
     ]
    },
    {
     "name": "stdout",
     "output_type": "stream",
     "text": [
      "false\n"
     ]
    },
    {
     "name": "stderr",
     "output_type": "stream",
     "text": [
      "\u001b[36m\u001b[1m[ \u001b[22m\u001b[39m\u001b[36m\u001b[1mInfo: \u001b[22m\u001b[39m started timer at: 2025-03-05T19:04:51.234\n"
     ]
    },
    {
     "name": "stdout",
     "output_type": "stream",
     "text": [
      "60\n",
      "k : 26\n",
      "1\n",
      "-31373.565503993195\n",
      "2511.48211238006\n",
      "60\n",
      "K : 26\n",
      "[0 -2800 -100 -1200 -2000]\n"
     ]
    },
    {
     "name": "stderr",
     "output_type": "stream",
     "text": [
      "\u001b[36m\u001b[1m[ \u001b[22m\u001b[39m\u001b[36m\u001b[1mInfo: \u001b[22m\u001b[39m          58.6303023s: 58 seconds, 630 milliseconds\n",
      "\u001b[36m\u001b[1m[ \u001b[22m\u001b[39m\u001b[36m\u001b[1mInfo: \u001b[22m\u001b[39m started timer at: 2025-03-05T19:05:49.873\n"
     ]
    },
    {
     "name": "stdout",
     "output_type": "stream",
     "text": [
      "false\n"
     ]
    },
    {
     "name": "stderr",
     "output_type": "stream",
     "text": [
      "\u001b[36m\u001b[1m[ \u001b[22m\u001b[39m\u001b[36m\u001b[1mInfo: \u001b[22m\u001b[39m started timer at: 2025-03-05T19:05:56.163\n"
     ]
    },
    {
     "name": "stdout",
     "output_type": "stream",
     "text": [
      "60\n",
      "k : 26\n",
      "1\n",
      "-32620.20456071887\n",
      "2576.163934666257\n",
      "60\n",
      "K : 26\n",
      "[0 -3200 -100 -1200 -2000]\n"
     ]
    },
    {
     "name": "stderr",
     "output_type": "stream",
     "text": [
      "\u001b[36m\u001b[1m[ \u001b[22m\u001b[39m\u001b[36m\u001b[1mInfo: \u001b[22m\u001b[39m          57.6753343s: 57 seconds, 675 milliseconds\n",
      "\u001b[36m\u001b[1m[ \u001b[22m\u001b[39m\u001b[36m\u001b[1mInfo: \u001b[22m\u001b[39m started timer at: 2025-03-05T19:06:53.867\n"
     ]
    },
    {
     "name": "stdout",
     "output_type": "stream",
     "text": [
      "false\n"
     ]
    },
    {
     "name": "stderr",
     "output_type": "stream",
     "text": [
      "\u001b[36m\u001b[1m[ \u001b[22m\u001b[39m\u001b[36m\u001b[1mInfo: \u001b[22m\u001b[39m started timer at: 2025-03-05T19:07:00.121\n"
     ]
    },
    {
     "name": "stdout",
     "output_type": "stream",
     "text": [
      "60\n",
      "k : 26\n",
      "1\n",
      "-33506.29922968072\n",
      "2603.094259238891\n",
      "60\n",
      "K : 28\n",
      "[0 -800 -100 -1200 -2000]\n"
     ]
    },
    {
     "name": "stderr",
     "output_type": "stream",
     "text": [
      "\u001b[36m\u001b[1m[ \u001b[22m\u001b[39m\u001b[36m\u001b[1mInfo: \u001b[22m\u001b[39m          56.3617574s: 56 seconds, 361 milliseconds\n",
      "\u001b[36m\u001b[1m[ \u001b[22m\u001b[39m\u001b[36m\u001b[1mInfo: \u001b[22m\u001b[39m started timer at: 2025-03-05T19:07:56.490\n"
     ]
    },
    {
     "name": "stdout",
     "output_type": "stream",
     "text": [
      "false\n"
     ]
    },
    {
     "name": "stderr",
     "output_type": "stream",
     "text": [
      "\u001b[36m\u001b[1m[ \u001b[22m\u001b[39m\u001b[36m\u001b[1mInfo: \u001b[22m\u001b[39m started timer at: 2025-03-05T19:08:02.720\n"
     ]
    },
    {
     "name": "stdout",
     "output_type": "stream",
     "text": [
      "60\n",
      "k : 28\n",
      "1\n",
      "-22210.201375604785\n",
      "1988.228739369082\n",
      "60\n",
      "K : 28\n",
      "[0 -1200 -100 -1200 -2000]\n"
     ]
    },
    {
     "name": "stderr",
     "output_type": "stream",
     "text": [
      "\u001b[36m\u001b[1m[ \u001b[22m\u001b[39m\u001b[36m\u001b[1mInfo: \u001b[22m\u001b[39m          58.1895644s: 58 seconds, 189 milliseconds\n",
      "\u001b[36m\u001b[1m[ \u001b[22m\u001b[39m\u001b[36m\u001b[1mInfo: \u001b[22m\u001b[39m started timer at: 2025-03-05T19:09:00.937\n"
     ]
    },
    {
     "name": "stdout",
     "output_type": "stream",
     "text": [
      "false\n"
     ]
    },
    {
     "name": "stderr",
     "output_type": "stream",
     "text": [
      "\u001b[36m\u001b[1m[ \u001b[22m\u001b[39m\u001b[36m\u001b[1mInfo: \u001b[22m\u001b[39m started timer at: 2025-03-05T19:09:07.273\n"
     ]
    },
    {
     "name": "stdout",
     "output_type": "stream",
     "text": [
      "60\n",
      "k : 28\n",
      "1\n",
      "-25373.60359305327\n",
      "2252.4488287018694\n",
      "60\n",
      "K : 28\n",
      "[0 -1600 -100 -1200 -2000]\n"
     ]
    },
    {
     "name": "stderr",
     "output_type": "stream",
     "text": [
      "\u001b[36m\u001b[1m[ \u001b[22m\u001b[39m\u001b[36m\u001b[1mInfo: \u001b[22m\u001b[39m          55.1551275s: 55 seconds, 155 milliseconds\n",
      "\u001b[36m\u001b[1m[ \u001b[22m\u001b[39m\u001b[36m\u001b[1mInfo: \u001b[22m\u001b[39m started timer at: 2025-03-05T19:10:02.448\n"
     ]
    },
    {
     "name": "stdout",
     "output_type": "stream",
     "text": [
      "false\n"
     ]
    },
    {
     "name": "stderr",
     "output_type": "stream",
     "text": [
      "\u001b[36m\u001b[1m[ \u001b[22m\u001b[39m\u001b[36m\u001b[1mInfo: \u001b[22m\u001b[39m started timer at: 2025-03-05T19:10:08.848\n"
     ]
    },
    {
     "name": "stdout",
     "output_type": "stream",
     "text": [
      "60\n",
      "k : 28\n",
      "1\n",
      "-27818.36095883726\n",
      "2403.347083394152\n",
      "60\n",
      "K : 28\n",
      "[0 -2000 -100 -1200 -2000]\n"
     ]
    },
    {
     "name": "stderr",
     "output_type": "stream",
     "text": [
      "\u001b[36m\u001b[1m[ \u001b[22m\u001b[39m\u001b[36m\u001b[1mInfo: \u001b[22m\u001b[39m          58.3444056s: 58 seconds, 344 milliseconds\n",
      "\u001b[36m\u001b[1m[ \u001b[22m\u001b[39m\u001b[36m\u001b[1mInfo: \u001b[22m\u001b[39m started timer at: 2025-03-05T19:11:07.209\n"
     ]
    },
    {
     "name": "stdout",
     "output_type": "stream",
     "text": [
      "false\n"
     ]
    },
    {
     "name": "stderr",
     "output_type": "stream",
     "text": [
      "\u001b[36m\u001b[1m[ \u001b[22m\u001b[39m\u001b[36m\u001b[1mInfo: \u001b[22m\u001b[39m started timer at: 2025-03-05T19:11:13.596\n"
     ]
    },
    {
     "name": "stdout",
     "output_type": "stream",
     "text": [
      "60\n",
      "k : 28\n",
      "1\n",
      "-29825.560158535063\n",
      "2468.870220435436\n",
      "60\n",
      "K : 28\n",
      "[0 -2400 -100 -1200 -2000]\n"
     ]
    },
    {
     "name": "stderr",
     "output_type": "stream",
     "text": [
      "\u001b[36m\u001b[1m[ \u001b[22m\u001b[39m\u001b[36m\u001b[1mInfo: \u001b[22m\u001b[39m          58.1891734s: 58 seconds, 189 milliseconds\n",
      "\u001b[36m\u001b[1m[ \u001b[22m\u001b[39m\u001b[36m\u001b[1mInfo: \u001b[22m\u001b[39m started timer at: 2025-03-05T19:12:11.796\n"
     ]
    },
    {
     "name": "stdout",
     "output_type": "stream",
     "text": [
      "false\n"
     ]
    },
    {
     "name": "stderr",
     "output_type": "stream",
     "text": [
      "\u001b[36m\u001b[1m[ \u001b[22m\u001b[39m\u001b[36m\u001b[1mInfo: \u001b[22m\u001b[39m started timer at: 2025-03-05T19:12:18.118\n"
     ]
    },
    {
     "name": "stdout",
     "output_type": "stream",
     "text": [
      "60\n",
      "k : 28\n",
      "1\n",
      "-31417.111122278042\n",
      "2547.7226630267705\n",
      "60"
     ]
    },
    {
     "name": "stderr",
     "output_type": "stream",
     "text": [
      "\u001b[36m\u001b[1m[ \u001b[22m\u001b[39m\u001b[36m\u001b[1mInfo: \u001b[22m\u001b[39m          57.2845642s: 57 seconds, 284 milliseconds\n",
      "\u001b[36m\u001b[1m[ \u001b[22m\u001b[39m\u001b[36m\u001b[1mInfo: \u001b[22m\u001b[39m started timer at: 2025-03-05T19:13:15.411\n"
     ]
    },
    {
     "name": "stdout",
     "output_type": "stream",
     "text": [
      "\n",
      "K : 28\n",
      "[0 -2800 -100 -1200 -2000]\n",
      "false\n"
     ]
    },
    {
     "name": "stderr",
     "output_type": "stream",
     "text": [
      "\u001b[36m\u001b[1m[ \u001b[22m\u001b[39m\u001b[36m\u001b[1mInfo: \u001b[22m\u001b[39m started timer at: 2025-03-05T19:13:21.843\n"
     ]
    },
    {
     "name": "stdout",
     "output_type": "stream",
     "text": [
      "60\n",
      "k : 28\n",
      "1\n",
      "-32557.070513768773\n",
      "2532.89752597142\n",
      "60\n",
      "K : 28\n",
      "[0 -3200 -100 -1200 -2000]\n"
     ]
    },
    {
     "name": "stderr",
     "output_type": "stream",
     "text": [
      "\u001b[36m\u001b[1m[ \u001b[22m\u001b[39m\u001b[36m\u001b[1mInfo: \u001b[22m\u001b[39m          56.1290082s: 56 seconds, 129 milliseconds\n",
      "\u001b[36m\u001b[1m[ \u001b[22m\u001b[39m\u001b[36m\u001b[1mInfo: \u001b[22m\u001b[39m started timer at: 2025-03-05T19:14:18.022\n"
     ]
    },
    {
     "name": "stdout",
     "output_type": "stream",
     "text": [
      "false\n"
     ]
    },
    {
     "name": "stderr",
     "output_type": "stream",
     "text": [
      "\u001b[36m\u001b[1m[ \u001b[22m\u001b[39m\u001b[36m\u001b[1mInfo: \u001b[22m\u001b[39m started timer at: 2025-03-05T19:14:24.423\n"
     ]
    },
    {
     "name": "stdout",
     "output_type": "stream",
     "text": [
      "60\n",
      "k : 28\n",
      "1\n",
      "-33423.47870897099\n",
      "2552.4566518646707\n",
      "60"
     ]
    },
    {
     "name": "stderr",
     "output_type": "stream",
     "text": [
      "\u001b[36m\u001b[1m[ \u001b[22m\u001b[39m\u001b[36m\u001b[1mInfo: \u001b[22m\u001b[39m          53.3578525s: 53 seconds, 357 milliseconds\n",
      "\u001b[36m\u001b[1m[ \u001b[22m\u001b[39m\u001b[36m\u001b[1mInfo: \u001b[22m\u001b[39m started timer at: 2025-03-05T19:15:17.795\n"
     ]
    },
    {
     "name": "stdout",
     "output_type": "stream",
     "text": [
      "\n",
      "K : 30\n",
      "[0 -800 -100 -1200 -2000]\n",
      "false\n"
     ]
    },
    {
     "name": "stderr",
     "output_type": "stream",
     "text": [
      "\u001b[36m\u001b[1m[ \u001b[22m\u001b[39m\u001b[36m\u001b[1mInfo: \u001b[22m\u001b[39m started timer at: 2025-03-05T19:15:24.193\n"
     ]
    },
    {
     "name": "stdout",
     "output_type": "stream",
     "text": [
      "60\n",
      "k : 30\n",
      "1\n",
      "-22273.04621341387\n",
      "2003.2352819874648\n",
      "60\n",
      "K : 30\n",
      "[0 -1200 -100 -1200 -2000]\n"
     ]
    },
    {
     "name": "stderr",
     "output_type": "stream",
     "text": [
      "\u001b[36m\u001b[1m[ \u001b[22m\u001b[39m\u001b[36m\u001b[1mInfo: \u001b[22m\u001b[39m          60.0316814s: 1 minute, 31 milliseconds\n",
      "\u001b[36m\u001b[1m[ \u001b[22m\u001b[39m\u001b[36m\u001b[1mInfo: \u001b[22m\u001b[39m started timer at: 2025-03-05T19:16:24.291\n"
     ]
    },
    {
     "name": "stdout",
     "output_type": "stream",
     "text": [
      "false\n"
     ]
    },
    {
     "name": "stderr",
     "output_type": "stream",
     "text": [
      "\u001b[36m\u001b[1m[ \u001b[22m\u001b[39m\u001b[36m\u001b[1mInfo: \u001b[22m\u001b[39m started timer at: 2025-03-05T19:16:30.646\n"
     ]
    },
    {
     "name": "stdout",
     "output_type": "stream",
     "text": [
      "60\n",
      "k : 30\n",
      "1\n",
      "-25437.266339516984\n",
      "2306.7178621286116\n",
      "60\n",
      "K : 30\n",
      "[0 -1600 -100 -1200 -2000]\n"
     ]
    },
    {
     "name": "stderr",
     "output_type": "stream",
     "text": [
      "\u001b[36m\u001b[1m[ \u001b[22m\u001b[39m\u001b[36m\u001b[1mInfo: \u001b[22m\u001b[39m          59.1865535s: 59 seconds, 186 milliseconds\n",
      "\u001b[36m\u001b[1m[ \u001b[22m\u001b[39m\u001b[36m\u001b[1mInfo: \u001b[22m\u001b[39m started timer at: 2025-03-05T19:17:29.853\n"
     ]
    },
    {
     "name": "stdout",
     "output_type": "stream",
     "text": [
      "false\n"
     ]
    },
    {
     "name": "stderr",
     "output_type": "stream",
     "text": [
      "\u001b[36m\u001b[1m[ \u001b[22m\u001b[39m\u001b[36m\u001b[1mInfo: \u001b[22m\u001b[39m started timer at: 2025-03-05T19:17:35.972\n"
     ]
    },
    {
     "name": "stdout",
     "output_type": "stream",
     "text": [
      "60\n",
      "k : 30\n",
      "1\n",
      "-27977.837731963802\n",
      "2430.262530070023\n",
      "60\n",
      "K : 30\n",
      "[0 -2000 -100 -1200 -2000]\n"
     ]
    },
    {
     "name": "stderr",
     "output_type": "stream",
     "text": [
      "\u001b[36m\u001b[1m[ \u001b[22m\u001b[39m\u001b[36m\u001b[1mInfo: \u001b[22m\u001b[39m          56.3084068s: 56 seconds, 308 milliseconds\n",
      "\u001b[36m\u001b[1m[ \u001b[22m\u001b[39m\u001b[36m\u001b[1mInfo: \u001b[22m\u001b[39m started timer at: 2025-03-05T19:18:32.291\n"
     ]
    },
    {
     "name": "stdout",
     "output_type": "stream",
     "text": [
      "false\n"
     ]
    },
    {
     "name": "stderr",
     "output_type": "stream",
     "text": [
      "\u001b[36m\u001b[1m[ \u001b[22m\u001b[39m\u001b[36m\u001b[1mInfo: \u001b[22m\u001b[39m started timer at: 2025-03-05T19:18:38.472\n"
     ]
    },
    {
     "name": "stdout",
     "output_type": "stream",
     "text": [
      "60\n",
      "k : 30\n",
      "1\n",
      "-29664.900161960883\n",
      "2462.2619619945544\n",
      "60\n",
      "K : 30\n",
      "[0 -2400 -100 -1200 -2000]\n"
     ]
    },
    {
     "name": "stderr",
     "output_type": "stream",
     "text": [
      "\u001b[36m\u001b[1m[ \u001b[22m\u001b[39m\u001b[36m\u001b[1mInfo: \u001b[22m\u001b[39m          55.0868255s: 55 seconds, 86 milliseconds\n",
      "\u001b[36m\u001b[1m[ \u001b[22m\u001b[39m\u001b[36m\u001b[1mInfo: \u001b[22m\u001b[39m started timer at: 2025-03-05T19:19:33.568\n"
     ]
    },
    {
     "name": "stdout",
     "output_type": "stream",
     "text": [
      "false\n"
     ]
    },
    {
     "name": "stderr",
     "output_type": "stream",
     "text": [
      "\u001b[36m\u001b[1m[ \u001b[22m\u001b[39m\u001b[36m\u001b[1mInfo: \u001b[22m\u001b[39m started timer at: 2025-03-05T19:19:39.842\n"
     ]
    },
    {
     "name": "stdout",
     "output_type": "stream",
     "text": [
      "60\n",
      "k : 30\n",
      "1\n",
      "-31065.020526139302\n",
      "2606.167384198637\n",
      "60\n",
      "K : 30\n",
      "[0 -2800 -100 -1200 -2000]\n"
     ]
    },
    {
     "name": "stderr",
     "output_type": "stream",
     "text": [
      "\u001b[36m\u001b[1m[ \u001b[22m\u001b[39m\u001b[36m\u001b[1mInfo: \u001b[22m\u001b[39m          52.8954074s: 52 seconds, 895 milliseconds\n",
      "\u001b[36m\u001b[1m[ \u001b[22m\u001b[39m\u001b[36m\u001b[1mInfo: \u001b[22m\u001b[39m started timer at: 2025-03-05T19:20:32.764\n"
     ]
    },
    {
     "name": "stdout",
     "output_type": "stream",
     "text": [
      "false\n"
     ]
    },
    {
     "name": "stderr",
     "output_type": "stream",
     "text": [
      "\u001b[36m\u001b[1m[ \u001b[22m\u001b[39m\u001b[36m\u001b[1mInfo: \u001b[22m\u001b[39m started timer at: 2025-03-05T19:20:38.970\n"
     ]
    },
    {
     "name": "stdout",
     "output_type": "stream",
     "text": [
      "60\n",
      "k : 30\n",
      "1\n",
      "-32890.1029116404\n",
      "2935.0588569254237\n",
      "60\n",
      "K : 30\n",
      "[0 -3200 -100 -1200 -2000]\n"
     ]
    },
    {
     "name": "stderr",
     "output_type": "stream",
     "text": [
      "\u001b[36m\u001b[1m[ \u001b[22m\u001b[39m\u001b[36m\u001b[1mInfo: \u001b[22m\u001b[39m           51.139921s: 51 seconds, 139 milliseconds\n",
      "\u001b[36m\u001b[1m[ \u001b[22m\u001b[39m\u001b[36m\u001b[1mInfo: \u001b[22m\u001b[39m started timer at: 2025-03-05T19:21:30.162\n"
     ]
    },
    {
     "name": "stdout",
     "output_type": "stream",
     "text": [
      "false\n"
     ]
    },
    {
     "name": "stderr",
     "output_type": "stream",
     "text": [
      "\u001b[36m\u001b[1m[ \u001b[22m\u001b[39m\u001b[36m\u001b[1mInfo: \u001b[22m\u001b[39m started timer at: 2025-03-05T19:21:36.344\n"
     ]
    },
    {
     "name": "stdout",
     "output_type": "stream",
     "text": [
      "60\n",
      "k : 30\n",
      "1\n",
      "-34498.02323448695\n",
      "3193.3375150122283\n"
     ]
    },
    {
     "name": "stderr",
     "output_type": "stream",
     "text": [
      "\u001b[36m\u001b[1m[ \u001b[22m\u001b[39m\u001b[36m\u001b[1mInfo: \u001b[22m\u001b[39m          53.5124486s: 53 seconds, 512 milliseconds\n"
     ]
    }
   ],
   "source": [
    "using DataFrames\n",
    "df= DataFrame(u=[],K=[],n=[],s=[],m=[],f=[],p=[],lamb=[],mean=[],std=[])\n",
    "\n",
    "cost=[ \n",
    "    [0\t-800\t-100\t-1200 -2000],\n",
    "    [0\t-1200\t-100\t-1200 -2000],\n",
    "    [0\t-1600\t-100\t-1200 -2000],\n",
    "    [0\t-2000\t-100\t-1200 -2000],\n",
    "    [0  -2400   -100    -1200 -2000],\n",
    "    [0  -2800   -100    -1200 -2000],\n",
    "    [0  -3200   -100    -1200 -2000]\n",
    "] \n",
    "\n",
    "\n",
    "for units in [20, 25, 30, 40, 50, 60]\n",
    "\n",
    "    for K in 2:2:convert(Int64, floor((units+1)/2)) \n",
    "        \n",
    "    global NumberUnits=convert(Int64,units)\n",
    "    global limit=convert(Int64,K)\n",
    "    #for lambda in [1,0.9,0.75,0.5,0.1,0.075,0.05,0.01,0.0075,0.005,0.0001]\n",
    "    for lambda in 1:1:1\n",
    "    global lamb=lambda\n",
    "    for c in cost\n",
    "        tick()\n",
    "        println(units)  \n",
    "        print(\"K : \")\n",
    "        println(K)\n",
    "        global normal_operation,setup_cost,maintenance_penalty,failure_penalty,system_penalty=c\n",
    "        println(c)  \n",
    "        global NumberUnits=units\n",
    "\n",
    "# POMDP is set up\n",
    "# CONTINUE to obtain TRIVIAL SOLUTION and compute expected total rewards\n",
    "\n",
    "# Obtain Q function using Value Iteration, same as CW-MDP\n",
    "Q = ValueIteration(1:Number_level, T, gamma)\n",
    "println(isnan(Q[1,1]))\n",
    "if sum(isnan(Q[1,1])) > 0.0\n",
    "    continue\n",
    "end\n",
    "\n",
    "tick()\n",
    "\n",
    "trials=10000;\n",
    "simsteps = 100;\n",
    "results=zeros(trials)*0.1\n",
    "Threads.@threads  for h in 1:trials\n",
    "# Suppose we start from brand new states and we know it\n",
    "s=repeat(1:1,NumberUnits)\n",
    "# o=s \n",
    "o = rand(Initialobs, NumberUnits)\n",
    "# belief = [[1.0, 0.0, 0.0, 0.0] for j in 1:NumberUnits]\n",
    "belief = [Observation_matrix[1,:] for j in 1:NumberUnits]\n",
    "R_sequence=[] \n",
    "r=repeat(1:1,NumberUnits)*1.0\n",
    "# a=repeat(1:1,NumberUnits)\n",
    "\n",
    "# iteration\n",
    "for k in 1:simsteps\n",
    "    # function decision(Q, o, b)\n",
    " \n",
    "    a=decision(Q,o,belief) # system-level decision making: action vector\n",
    "    # SANITY CHECK\n",
    "    # Update belief for each component individually\n",
    "    #b=update_belief(b, a, o, multiunit) # what is the sequence of observing, updating belief, taking action?\n",
    "    \n",
    "    R_instant = 0.0\n",
    "    global failed_components=0\n",
    "    # When generating new state and new reward, we use true states\n",
    "    for i in 1:NumberUnits # numerate over units\n",
    "        if o[i]==Number_level # failure state is self-announcing\n",
    "            failed_components+=1\n",
    "        end\n",
    "    s[i],r[i],o[i]=generative(s[i],a[i],234) #call generative function for underlying states\n",
    "    # it might be better to use generative function to give o as well\n",
    "    # o[i]=emission(s[i]) # observation generated by new underlying state\n",
    "    belief[i]=update_belief(belief[i], a[i], o[i], multiunit)\n",
    "    # sum up single-component cost\n",
    "    R_instant += r[i]\n",
    "    end\n",
    "    # add setup cost\n",
    "    if (2 in a) ||(3 in a) ||(4 in a)\n",
    "        R_instant += setup_cost\n",
    "    end\n",
    "    # add system failure penalty\n",
    "    if failed_components >= limit\n",
    "        R_instant += system_penalty\n",
    "    end\n",
    "    # record instant reward of current time step\n",
    "    append!(R_sequence, R_instant)\n",
    "\n",
    "end\n",
    "R_discounted=0\n",
    "for k in 1:simsteps\n",
    "    R_discounted=gamma * R_discounted+R_sequence[simsteps-k+1]\n",
    "end\n",
    "results[h]=R_discounted\n",
    "end # end the 10000 trials\n",
    "\n",
    "println(units)\n",
    "            print(\"k : \")\n",
    "            println(limit)\n",
    "println(lambda)\n",
    "\n",
    "println(mean(results))\n",
    "\n",
    "println(std(results))\n",
    "pushfirst!(df,[units,limit,normal_operation,setup_cost,maintenance_penalty,failure_penalty,system_penalty,lamb,mean(results),std(results)])\n",
    "        \n",
    "tock()\n",
    "\n",
    "                    \n",
    "                    \n",
    "    end\n",
    "    end        \n",
    "end\n",
    "end\n"
   ]
  },
  {
   "cell_type": "code",
   "execution_count": 44,
   "metadata": {},
   "outputs": [
    {
     "data": {
      "text/html": [
       "<div><div style = \"float: left;\"><span>385×10 DataFrame</span></div><div style = \"float: right;\"><span style = \"font-style: italic;\">360 rows omitted</span></div><div style = \"clear: both;\"></div></div><div class = \"data-frame\" style = \"overflow-x: scroll;\"><table class = \"data-frame\" style = \"margin-bottom: 6px;\"><thead><tr class = \"header\"><th class = \"rowNumber\" style = \"font-weight: bold; text-align: right;\">Row</th><th style = \"text-align: left;\">u</th><th style = \"text-align: left;\">K</th><th style = \"text-align: left;\">n</th><th style = \"text-align: left;\">s</th><th style = \"text-align: left;\">m</th><th style = \"text-align: left;\">f</th><th style = \"text-align: left;\">p</th><th style = \"text-align: left;\">lamb</th><th style = \"text-align: left;\">mean</th><th style = \"text-align: left;\">std</th></tr><tr class = \"subheader headerLastRow\"><th class = \"rowNumber\" style = \"font-weight: bold; text-align: right;\"></th><th title = \"Any\" style = \"text-align: left;\">Any</th><th title = \"Any\" style = \"text-align: left;\">Any</th><th title = \"Any\" style = \"text-align: left;\">Any</th><th title = \"Any\" style = \"text-align: left;\">Any</th><th title = \"Any\" style = \"text-align: left;\">Any</th><th title = \"Any\" style = \"text-align: left;\">Any</th><th title = \"Any\" style = \"text-align: left;\">Any</th><th title = \"Any\" style = \"text-align: left;\">Any</th><th title = \"Any\" style = \"text-align: left;\">Any</th><th title = \"Any\" style = \"text-align: left;\">Any</th></tr></thead><tbody><tr><td class = \"rowNumber\" style = \"font-weight: bold; text-align: right;\">1</td><td style = \"text-align: left;\">60.0</td><td style = \"text-align: left;\">30.0</td><td style = \"text-align: left;\">0.0</td><td style = \"text-align: left;\">-3200.0</td><td style = \"text-align: left;\">-100.0</td><td style = \"text-align: left;\">-1200.0</td><td style = \"text-align: left;\">-2000.0</td><td style = \"text-align: left;\">1.0</td><td style = \"text-align: left;\">-34498.0</td><td style = \"text-align: left;\">3193.34</td></tr><tr><td class = \"rowNumber\" style = \"font-weight: bold; text-align: right;\">2</td><td style = \"text-align: left;\">60.0</td><td style = \"text-align: left;\">30.0</td><td style = \"text-align: left;\">0.0</td><td style = \"text-align: left;\">-2800.0</td><td style = \"text-align: left;\">-100.0</td><td style = \"text-align: left;\">-1200.0</td><td style = \"text-align: left;\">-2000.0</td><td style = \"text-align: left;\">1.0</td><td style = \"text-align: left;\">-32890.1</td><td style = \"text-align: left;\">2935.06</td></tr><tr><td class = \"rowNumber\" style = \"font-weight: bold; text-align: right;\">3</td><td style = \"text-align: left;\">60.0</td><td style = \"text-align: left;\">30.0</td><td style = \"text-align: left;\">0.0</td><td style = \"text-align: left;\">-2400.0</td><td style = \"text-align: left;\">-100.0</td><td style = \"text-align: left;\">-1200.0</td><td style = \"text-align: left;\">-2000.0</td><td style = \"text-align: left;\">1.0</td><td style = \"text-align: left;\">-31065.0</td><td style = \"text-align: left;\">2606.17</td></tr><tr><td class = \"rowNumber\" style = \"font-weight: bold; text-align: right;\">4</td><td style = \"text-align: left;\">60.0</td><td style = \"text-align: left;\">30.0</td><td style = \"text-align: left;\">0.0</td><td style = \"text-align: left;\">-2000.0</td><td style = \"text-align: left;\">-100.0</td><td style = \"text-align: left;\">-1200.0</td><td style = \"text-align: left;\">-2000.0</td><td style = \"text-align: left;\">1.0</td><td style = \"text-align: left;\">-29664.9</td><td style = \"text-align: left;\">2462.26</td></tr><tr><td class = \"rowNumber\" style = \"font-weight: bold; text-align: right;\">5</td><td style = \"text-align: left;\">60.0</td><td style = \"text-align: left;\">30.0</td><td style = \"text-align: left;\">0.0</td><td style = \"text-align: left;\">-1600.0</td><td style = \"text-align: left;\">-100.0</td><td style = \"text-align: left;\">-1200.0</td><td style = \"text-align: left;\">-2000.0</td><td style = \"text-align: left;\">1.0</td><td style = \"text-align: left;\">-27977.8</td><td style = \"text-align: left;\">2430.26</td></tr><tr><td class = \"rowNumber\" style = \"font-weight: bold; text-align: right;\">6</td><td style = \"text-align: left;\">60.0</td><td style = \"text-align: left;\">30.0</td><td style = \"text-align: left;\">0.0</td><td style = \"text-align: left;\">-1200.0</td><td style = \"text-align: left;\">-100.0</td><td style = \"text-align: left;\">-1200.0</td><td style = \"text-align: left;\">-2000.0</td><td style = \"text-align: left;\">1.0</td><td style = \"text-align: left;\">-25437.3</td><td style = \"text-align: left;\">2306.72</td></tr><tr><td class = \"rowNumber\" style = \"font-weight: bold; text-align: right;\">7</td><td style = \"text-align: left;\">60.0</td><td style = \"text-align: left;\">30.0</td><td style = \"text-align: left;\">0.0</td><td style = \"text-align: left;\">-800.0</td><td style = \"text-align: left;\">-100.0</td><td style = \"text-align: left;\">-1200.0</td><td style = \"text-align: left;\">-2000.0</td><td style = \"text-align: left;\">1.0</td><td style = \"text-align: left;\">-22273.0</td><td style = \"text-align: left;\">2003.24</td></tr><tr><td class = \"rowNumber\" style = \"font-weight: bold; text-align: right;\">8</td><td style = \"text-align: left;\">60.0</td><td style = \"text-align: left;\">28.0</td><td style = \"text-align: left;\">0.0</td><td style = \"text-align: left;\">-3200.0</td><td style = \"text-align: left;\">-100.0</td><td style = \"text-align: left;\">-1200.0</td><td style = \"text-align: left;\">-2000.0</td><td style = \"text-align: left;\">1.0</td><td style = \"text-align: left;\">-33423.5</td><td style = \"text-align: left;\">2552.46</td></tr><tr><td class = \"rowNumber\" style = \"font-weight: bold; text-align: right;\">9</td><td style = \"text-align: left;\">60.0</td><td style = \"text-align: left;\">28.0</td><td style = \"text-align: left;\">0.0</td><td style = \"text-align: left;\">-2800.0</td><td style = \"text-align: left;\">-100.0</td><td style = \"text-align: left;\">-1200.0</td><td style = \"text-align: left;\">-2000.0</td><td style = \"text-align: left;\">1.0</td><td style = \"text-align: left;\">-32557.1</td><td style = \"text-align: left;\">2532.9</td></tr><tr><td class = \"rowNumber\" style = \"font-weight: bold; text-align: right;\">10</td><td style = \"text-align: left;\">60.0</td><td style = \"text-align: left;\">28.0</td><td style = \"text-align: left;\">0.0</td><td style = \"text-align: left;\">-2400.0</td><td style = \"text-align: left;\">-100.0</td><td style = \"text-align: left;\">-1200.0</td><td style = \"text-align: left;\">-2000.0</td><td style = \"text-align: left;\">1.0</td><td style = \"text-align: left;\">-31417.1</td><td style = \"text-align: left;\">2547.72</td></tr><tr><td class = \"rowNumber\" style = \"font-weight: bold; text-align: right;\">11</td><td style = \"text-align: left;\">60.0</td><td style = \"text-align: left;\">28.0</td><td style = \"text-align: left;\">0.0</td><td style = \"text-align: left;\">-2000.0</td><td style = \"text-align: left;\">-100.0</td><td style = \"text-align: left;\">-1200.0</td><td style = \"text-align: left;\">-2000.0</td><td style = \"text-align: left;\">1.0</td><td style = \"text-align: left;\">-29825.6</td><td style = \"text-align: left;\">2468.87</td></tr><tr><td class = \"rowNumber\" style = \"font-weight: bold; text-align: right;\">12</td><td style = \"text-align: left;\">60.0</td><td style = \"text-align: left;\">28.0</td><td style = \"text-align: left;\">0.0</td><td style = \"text-align: left;\">-1600.0</td><td style = \"text-align: left;\">-100.0</td><td style = \"text-align: left;\">-1200.0</td><td style = \"text-align: left;\">-2000.0</td><td style = \"text-align: left;\">1.0</td><td style = \"text-align: left;\">-27818.4</td><td style = \"text-align: left;\">2403.35</td></tr><tr><td class = \"rowNumber\" style = \"font-weight: bold; text-align: right;\">13</td><td style = \"text-align: left;\">60.0</td><td style = \"text-align: left;\">28.0</td><td style = \"text-align: left;\">0.0</td><td style = \"text-align: left;\">-1200.0</td><td style = \"text-align: left;\">-100.0</td><td style = \"text-align: left;\">-1200.0</td><td style = \"text-align: left;\">-2000.0</td><td style = \"text-align: left;\">1.0</td><td style = \"text-align: left;\">-25373.6</td><td style = \"text-align: left;\">2252.45</td></tr><tr><td style = \"text-align: right;\">&vellip;</td><td style = \"text-align: right;\">&vellip;</td><td style = \"text-align: right;\">&vellip;</td><td style = \"text-align: right;\">&vellip;</td><td style = \"text-align: right;\">&vellip;</td><td style = \"text-align: right;\">&vellip;</td><td style = \"text-align: right;\">&vellip;</td><td style = \"text-align: right;\">&vellip;</td><td style = \"text-align: right;\">&vellip;</td><td style = \"text-align: right;\">&vellip;</td><td style = \"text-align: right;\">&vellip;</td></tr><tr><td class = \"rowNumber\" style = \"font-weight: bold; text-align: right;\">374</td><td style = \"text-align: left;\">20.0</td><td style = \"text-align: left;\">4.0</td><td style = \"text-align: left;\">0.0</td><td style = \"text-align: left;\">-2400.0</td><td style = \"text-align: left;\">-100.0</td><td style = \"text-align: left;\">-1200.0</td><td style = \"text-align: left;\">-2000.0</td><td style = \"text-align: left;\">1.0</td><td style = \"text-align: left;\">-15175.2</td><td style = \"text-align: left;\">2201.64</td></tr><tr><td class = \"rowNumber\" style = \"font-weight: bold; text-align: right;\">375</td><td style = \"text-align: left;\">20.0</td><td style = \"text-align: left;\">4.0</td><td style = \"text-align: left;\">0.0</td><td style = \"text-align: left;\">-2000.0</td><td style = \"text-align: left;\">-100.0</td><td style = \"text-align: left;\">-1200.0</td><td style = \"text-align: left;\">-2000.0</td><td style = \"text-align: left;\">1.0</td><td style = \"text-align: left;\">-14971.9</td><td style = \"text-align: left;\">2178.44</td></tr><tr><td class = \"rowNumber\" style = \"font-weight: bold; text-align: right;\">376</td><td style = \"text-align: left;\">20.0</td><td style = \"text-align: left;\">4.0</td><td style = \"text-align: left;\">0.0</td><td style = \"text-align: left;\">-1600.0</td><td style = \"text-align: left;\">-100.0</td><td style = \"text-align: left;\">-1200.0</td><td style = \"text-align: left;\">-2000.0</td><td style = \"text-align: left;\">1.0</td><td style = \"text-align: left;\">-14088.3</td><td style = \"text-align: left;\">2011.42</td></tr><tr><td class = \"rowNumber\" style = \"font-weight: bold; text-align: right;\">377</td><td style = \"text-align: left;\">20.0</td><td style = \"text-align: left;\">4.0</td><td style = \"text-align: left;\">0.0</td><td style = \"text-align: left;\">-1200.0</td><td style = \"text-align: left;\">-100.0</td><td style = \"text-align: left;\">-1200.0</td><td style = \"text-align: left;\">-2000.0</td><td style = \"text-align: left;\">1.0</td><td style = \"text-align: left;\">-12491.2</td><td style = \"text-align: left;\">1766.97</td></tr><tr><td class = \"rowNumber\" style = \"font-weight: bold; text-align: right;\">378</td><td style = \"text-align: left;\">20.0</td><td style = \"text-align: left;\">4.0</td><td style = \"text-align: left;\">0.0</td><td style = \"text-align: left;\">-800.0</td><td style = \"text-align: left;\">-100.0</td><td style = \"text-align: left;\">-1200.0</td><td style = \"text-align: left;\">-2000.0</td><td style = \"text-align: left;\">1.0</td><td style = \"text-align: left;\">-10778.3</td><td style = \"text-align: left;\">1573.37</td></tr><tr><td class = \"rowNumber\" style = \"font-weight: bold; text-align: right;\">379</td><td style = \"text-align: left;\">20.0</td><td style = \"text-align: left;\">2.0</td><td style = \"text-align: left;\">0.0</td><td style = \"text-align: left;\">-3200.0</td><td style = \"text-align: left;\">-100.0</td><td style = \"text-align: left;\">-1200.0</td><td style = \"text-align: left;\">-2000.0</td><td style = \"text-align: left;\">1.0</td><td style = \"text-align: left;\">-21161.5</td><td style = \"text-align: left;\">3077.63</td></tr><tr><td class = \"rowNumber\" style = \"font-weight: bold; text-align: right;\">380</td><td style = \"text-align: left;\">20.0</td><td style = \"text-align: left;\">2.0</td><td style = \"text-align: left;\">0.0</td><td style = \"text-align: left;\">-2800.0</td><td style = \"text-align: left;\">-100.0</td><td style = \"text-align: left;\">-1200.0</td><td style = \"text-align: left;\">-2000.0</td><td style = \"text-align: left;\">1.0</td><td style = \"text-align: left;\">-20108.1</td><td style = \"text-align: left;\">3020.67</td></tr><tr><td class = \"rowNumber\" style = \"font-weight: bold; text-align: right;\">381</td><td style = \"text-align: left;\">20.0</td><td style = \"text-align: left;\">2.0</td><td style = \"text-align: left;\">0.0</td><td style = \"text-align: left;\">-2400.0</td><td style = \"text-align: left;\">-100.0</td><td style = \"text-align: left;\">-1200.0</td><td style = \"text-align: left;\">-2000.0</td><td style = \"text-align: left;\">1.0</td><td style = \"text-align: left;\">-19081.5</td><td style = \"text-align: left;\">2923.76</td></tr><tr><td class = \"rowNumber\" style = \"font-weight: bold; text-align: right;\">382</td><td style = \"text-align: left;\">20.0</td><td style = \"text-align: left;\">2.0</td><td style = \"text-align: left;\">0.0</td><td style = \"text-align: left;\">-2000.0</td><td style = \"text-align: left;\">-100.0</td><td style = \"text-align: left;\">-1200.0</td><td style = \"text-align: left;\">-2000.0</td><td style = \"text-align: left;\">1.0</td><td style = \"text-align: left;\">-18969.5</td><td style = \"text-align: left;\">2881.41</td></tr><tr><td class = \"rowNumber\" style = \"font-weight: bold; text-align: right;\">383</td><td style = \"text-align: left;\">20.0</td><td style = \"text-align: left;\">2.0</td><td style = \"text-align: left;\">0.0</td><td style = \"text-align: left;\">-1600.0</td><td style = \"text-align: left;\">-100.0</td><td style = \"text-align: left;\">-1200.0</td><td style = \"text-align: left;\">-2000.0</td><td style = \"text-align: left;\">1.0</td><td style = \"text-align: left;\">-17446.2</td><td style = \"text-align: left;\">2627.6</td></tr><tr><td class = \"rowNumber\" style = \"font-weight: bold; text-align: right;\">384</td><td style = \"text-align: left;\">20.0</td><td style = \"text-align: left;\">2.0</td><td style = \"text-align: left;\">0.0</td><td style = \"text-align: left;\">-1200.0</td><td style = \"text-align: left;\">-100.0</td><td style = \"text-align: left;\">-1200.0</td><td style = \"text-align: left;\">-2000.0</td><td style = \"text-align: left;\">1.0</td><td style = \"text-align: left;\">-15226.4</td><td style = \"text-align: left;\">2316.32</td></tr><tr><td class = \"rowNumber\" style = \"font-weight: bold; text-align: right;\">385</td><td style = \"text-align: left;\">20.0</td><td style = \"text-align: left;\">2.0</td><td style = \"text-align: left;\">0.0</td><td style = \"text-align: left;\">-800.0</td><td style = \"text-align: left;\">-100.0</td><td style = \"text-align: left;\">-1200.0</td><td style = \"text-align: left;\">-2000.0</td><td style = \"text-align: left;\">1.0</td><td style = \"text-align: left;\">-12876.6</td><td style = \"text-align: left;\">2120.12</td></tr></tbody></table></div>"
      ],
      "text/latex": [
       "\\begin{tabular}{r|cccccccccc}\n",
       "\t& u & K & n & s & m & f & p & lamb & mean & std\\\\\n",
       "\t\\hline\n",
       "\t& Any & Any & Any & Any & Any & Any & Any & Any & Any & Any\\\\\n",
       "\t\\hline\n",
       "\t1 & 60.0 & 30.0 & 0.0 & -3200.0 & -100.0 & -1200.0 & -2000.0 & 1.0 & -34498.0 & 3193.34 \\\\\n",
       "\t2 & 60.0 & 30.0 & 0.0 & -2800.0 & -100.0 & -1200.0 & -2000.0 & 1.0 & -32890.1 & 2935.06 \\\\\n",
       "\t3 & 60.0 & 30.0 & 0.0 & -2400.0 & -100.0 & -1200.0 & -2000.0 & 1.0 & -31065.0 & 2606.17 \\\\\n",
       "\t4 & 60.0 & 30.0 & 0.0 & -2000.0 & -100.0 & -1200.0 & -2000.0 & 1.0 & -29664.9 & 2462.26 \\\\\n",
       "\t5 & 60.0 & 30.0 & 0.0 & -1600.0 & -100.0 & -1200.0 & -2000.0 & 1.0 & -27977.8 & 2430.26 \\\\\n",
       "\t6 & 60.0 & 30.0 & 0.0 & -1200.0 & -100.0 & -1200.0 & -2000.0 & 1.0 & -25437.3 & 2306.72 \\\\\n",
       "\t7 & 60.0 & 30.0 & 0.0 & -800.0 & -100.0 & -1200.0 & -2000.0 & 1.0 & -22273.0 & 2003.24 \\\\\n",
       "\t8 & 60.0 & 28.0 & 0.0 & -3200.0 & -100.0 & -1200.0 & -2000.0 & 1.0 & -33423.5 & 2552.46 \\\\\n",
       "\t9 & 60.0 & 28.0 & 0.0 & -2800.0 & -100.0 & -1200.0 & -2000.0 & 1.0 & -32557.1 & 2532.9 \\\\\n",
       "\t10 & 60.0 & 28.0 & 0.0 & -2400.0 & -100.0 & -1200.0 & -2000.0 & 1.0 & -31417.1 & 2547.72 \\\\\n",
       "\t11 & 60.0 & 28.0 & 0.0 & -2000.0 & -100.0 & -1200.0 & -2000.0 & 1.0 & -29825.6 & 2468.87 \\\\\n",
       "\t12 & 60.0 & 28.0 & 0.0 & -1600.0 & -100.0 & -1200.0 & -2000.0 & 1.0 & -27818.4 & 2403.35 \\\\\n",
       "\t13 & 60.0 & 28.0 & 0.0 & -1200.0 & -100.0 & -1200.0 & -2000.0 & 1.0 & -25373.6 & 2252.45 \\\\\n",
       "\t14 & 60.0 & 28.0 & 0.0 & -800.0 & -100.0 & -1200.0 & -2000.0 & 1.0 & -22210.2 & 1988.23 \\\\\n",
       "\t15 & 60.0 & 26.0 & 0.0 & -3200.0 & -100.0 & -1200.0 & -2000.0 & 1.0 & -33506.3 & 2603.09 \\\\\n",
       "\t16 & 60.0 & 26.0 & 0.0 & -2800.0 & -100.0 & -1200.0 & -2000.0 & 1.0 & -32620.2 & 2576.16 \\\\\n",
       "\t17 & 60.0 & 26.0 & 0.0 & -2400.0 & -100.0 & -1200.0 & -2000.0 & 1.0 & -31373.6 & 2511.48 \\\\\n",
       "\t18 & 60.0 & 26.0 & 0.0 & -2000.0 & -100.0 & -1200.0 & -2000.0 & 1.0 & -29821.6 & 2498.76 \\\\\n",
       "\t19 & 60.0 & 26.0 & 0.0 & -1600.0 & -100.0 & -1200.0 & -2000.0 & 1.0 & -27878.6 & 2405.5 \\\\\n",
       "\t20 & 60.0 & 26.0 & 0.0 & -1200.0 & -100.0 & -1200.0 & -2000.0 & 1.0 & -25343.3 & 2252.91 \\\\\n",
       "\t21 & 60.0 & 26.0 & 0.0 & -800.0 & -100.0 & -1200.0 & -2000.0 & 1.0 & -22201.0 & 1984.17 \\\\\n",
       "\t22 & 60.0 & 24.0 & 0.0 & -3200.0 & -100.0 & -1200.0 & -2000.0 & 1.0 & -33676.5 & 2624.24 \\\\\n",
       "\t23 & 60.0 & 24.0 & 0.0 & -2800.0 & -100.0 & -1200.0 & -2000.0 & 1.0 & -32632.8 & 2563.45 \\\\\n",
       "\t24 & 60.0 & 24.0 & 0.0 & -2400.0 & -100.0 & -1200.0 & -2000.0 & 1.0 & -31386.7 & 2537.31 \\\\\n",
       "\t25 & 60.0 & 24.0 & 0.0 & -2000.0 & -100.0 & -1200.0 & -2000.0 & 1.0 & -29791.6 & 2495.43 \\\\\n",
       "\t26 & 60.0 & 24.0 & 0.0 & -1600.0 & -100.0 & -1200.0 & -2000.0 & 1.0 & -27825.7 & 2404.98 \\\\\n",
       "\t27 & 60.0 & 24.0 & 0.0 & -1200.0 & -100.0 & -1200.0 & -2000.0 & 1.0 & -25376.9 & 2236.62 \\\\\n",
       "\t28 & 60.0 & 24.0 & 0.0 & -800.0 & -100.0 & -1200.0 & -2000.0 & 1.0 & -22197.5 & 1997.09 \\\\\n",
       "\t29 & 60.0 & 22.0 & 0.0 & -3200.0 & -100.0 & -1200.0 & -2000.0 & 1.0 & -33800.8 & 2622.33 \\\\\n",
       "\t30 & 60.0 & 22.0 & 0.0 & -2800.0 & -100.0 & -1200.0 & -2000.0 & 1.0 & -32754.0 & 2574.39 \\\\\n",
       "\t$\\dots$ & $\\dots$ & $\\dots$ & $\\dots$ & $\\dots$ & $\\dots$ & $\\dots$ & $\\dots$ & $\\dots$ & $\\dots$ & $\\dots$ \\\\\n",
       "\\end{tabular}\n"
      ],
      "text/plain": [
       "\u001b[1m385×10 DataFrame\u001b[0m\n",
       "\u001b[1m Row \u001b[0m│\u001b[1m u    \u001b[0m\u001b[1m K    \u001b[0m\u001b[1m n   \u001b[0m\u001b[1m s       \u001b[0m\u001b[1m m      \u001b[0m\u001b[1m f       \u001b[0m\u001b[1m p       \u001b[0m\u001b[1m lamb \u001b[0m\u001b[1m mean     \u001b[0m\u001b[1m std\u001b[0m ⋯\n",
       "     │\u001b[90m Any  \u001b[0m\u001b[90m Any  \u001b[0m\u001b[90m Any \u001b[0m\u001b[90m Any     \u001b[0m\u001b[90m Any    \u001b[0m\u001b[90m Any     \u001b[0m\u001b[90m Any     \u001b[0m\u001b[90m Any  \u001b[0m\u001b[90m Any      \u001b[0m\u001b[90m Any\u001b[0m ⋯\n",
       "─────┼──────────────────────────────────────────────────────────────────────────\n",
       "   1 │ 60.0  30.0  0.0  -3200.0  -100.0  -1200.0  -2000.0  1.0   -34498.0  319 ⋯\n",
       "   2 │ 60.0  30.0  0.0  -2800.0  -100.0  -1200.0  -2000.0  1.0   -32890.1  293\n",
       "   3 │ 60.0  30.0  0.0  -2400.0  -100.0  -1200.0  -2000.0  1.0   -31065.0  260\n",
       "   4 │ 60.0  30.0  0.0  -2000.0  -100.0  -1200.0  -2000.0  1.0   -29664.9  246\n",
       "   5 │ 60.0  30.0  0.0  -1600.0  -100.0  -1200.0  -2000.0  1.0   -27977.8  243 ⋯\n",
       "   6 │ 60.0  30.0  0.0  -1200.0  -100.0  -1200.0  -2000.0  1.0   -25437.3  230\n",
       "   7 │ 60.0  30.0  0.0  -800.0   -100.0  -1200.0  -2000.0  1.0   -22273.0  200\n",
       "   8 │ 60.0  28.0  0.0  -3200.0  -100.0  -1200.0  -2000.0  1.0   -33423.5  255\n",
       "   9 │ 60.0  28.0  0.0  -2800.0  -100.0  -1200.0  -2000.0  1.0   -32557.1  253 ⋯\n",
       "  10 │ 60.0  28.0  0.0  -2400.0  -100.0  -1200.0  -2000.0  1.0   -31417.1  254\n",
       "  11 │ 60.0  28.0  0.0  -2000.0  -100.0  -1200.0  -2000.0  1.0   -29825.6  246\n",
       "  ⋮  │  ⋮     ⋮     ⋮      ⋮       ⋮        ⋮        ⋮      ⋮       ⋮          ⋱\n",
       " 376 │ 20.0  4.0   0.0  -1600.0  -100.0  -1200.0  -2000.0  1.0   -14088.3  201\n",
       " 377 │ 20.0  4.0   0.0  -1200.0  -100.0  -1200.0  -2000.0  1.0   -12491.2  176 ⋯\n",
       " 378 │ 20.0  4.0   0.0  -800.0   -100.0  -1200.0  -2000.0  1.0   -10778.3  157\n",
       " 379 │ 20.0  2.0   0.0  -3200.0  -100.0  -1200.0  -2000.0  1.0   -21161.5  307\n",
       " 380 │ 20.0  2.0   0.0  -2800.0  -100.0  -1200.0  -2000.0  1.0   -20108.1  302\n",
       " 381 │ 20.0  2.0   0.0  -2400.0  -100.0  -1200.0  -2000.0  1.0   -19081.5  292 ⋯\n",
       " 382 │ 20.0  2.0   0.0  -2000.0  -100.0  -1200.0  -2000.0  1.0   -18969.5  288\n",
       " 383 │ 20.0  2.0   0.0  -1600.0  -100.0  -1200.0  -2000.0  1.0   -17446.2  262\n",
       " 384 │ 20.0  2.0   0.0  -1200.0  -100.0  -1200.0  -2000.0  1.0   -15226.4  231\n",
       " 385 │ 20.0  2.0   0.0  -800.0   -100.0  -1200.0  -2000.0  1.0   -12876.6  212 ⋯\n",
       "\u001b[36m                                                   1 column and 364 rows omitted\u001b[0m"
      ]
     },
     "execution_count": 44,
     "metadata": {},
     "output_type": "execute_result"
    }
   ],
   "source": [
    "df"
   ]
  },
  {
   "cell_type": "code",
   "execution_count": 45,
   "metadata": {},
   "outputs": [
    {
     "data": {
      "text/plain": [
       "\"Homo CW-MDP.csv\""
      ]
     },
     "execution_count": 45,
     "metadata": {},
     "output_type": "execute_result"
    }
   ],
   "source": [
    "using CSV\n",
    "CSV.write(\"Homo CW-MDP.csv\", df)"
   ]
  },
  {
   "cell_type": "code",
   "execution_count": null,
   "metadata": {},
   "outputs": [],
   "source": []
  }
 ],
 "metadata": {
  "kernelspec": {
   "display_name": "Julia 1.11.3",
   "language": "julia",
   "name": "julia-1.11"
  },
  "language_info": {
   "file_extension": ".jl",
   "mimetype": "application/julia",
   "name": "julia",
   "version": "1.11.3"
  },
  "vscode": {
   "interpreter": {
    "hash": "aee8b7b246df8f9039afb4144a1f6fd8d2ca17a180786b69acc140d282b71a49"
   }
  }
 },
 "nbformat": 4,
 "nbformat_minor": 4
}
