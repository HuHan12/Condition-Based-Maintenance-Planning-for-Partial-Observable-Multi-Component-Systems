{
 "cells": [
  {
   "cell_type": "code",
   "execution_count": 1,
   "metadata": {},
   "outputs": [],
   "source": [
    "using POMDPs, POMDPTools, QuickPOMDPs, MCTS, DiscreteValueIteration, POMDPSimulators, POMDPModels, POMDPPolicies\n",
    "using Distributions, Combinatorics, StaticArrays, D3Trees, Random\n",
    "using FileIO, JLD2, TickTock"
   ]
  },
  {
   "cell_type": "code",
   "execution_count": 2,
   "metadata": {},
   "outputs": [
    {
     "data": {
      "text/plain": [
       "4-element view(::Array{Float64, 3}, 4, :, 2) with eltype Float64:\n",
       " 0.8571\n",
       " 0.1429\n",
       " 0.0\n",
       " 0.0"
      ]
     },
     "execution_count": 2,
     "metadata": {},
     "output_type": "execute_result"
    }
   ],
   "source": [
    "global Number_level = 4;\n",
    "global Action_num = 4;\n",
    "\n",
    "States=Array((1:Number_level))\n",
    "Observations=Array((1:Number_level))\n",
    "\n",
    "using POMDPs, QuickPOMDPs, POMDPModelTools, POMDPSimulators, QMDP\n",
    "\n",
    "gamma=0.95\n",
    "\n",
    "Observation_matrix=[\n",
    "    0.8 0.2 0.0 0.0;\n",
    "    0.1 0.8 0.1 0.0;\n",
    "    0.0 0.2 0.8 0.0;\n",
    "    0.0 0.0 0.0 1.0\n",
    "]\n",
    "\n",
    "Transition_matrix = [\n",
    "    0.8571 0.1429 0.0    0.0;\n",
    "    0.0    0.8571 0.1429 0.0;\n",
    "    0.0    0.0    0.8    0.2;\n",
    "    0.0    0.0    0.0    1.0\n",
    "]\n",
    "T=zeros(Number_level,Number_level,3);\n",
    "T[:,:,1].=Transition_matrix;\n",
    "T[:,:,2].=Transition_matrix;\n",
    "for j in 1:Number_level\n",
    "    T[j,:,3].=Transition_matrix[1,:];\n",
    "    end\n",
    "T[Number_level,:,1].=0.0\n",
    "T[Number_level,Number_level,1]=1.0\n",
    "T[Number_level,:,2].=Transition_matrix[1,:]"
   ]
  },
  {
   "cell_type": "code",
   "execution_count": 3,
   "metadata": {},
   "outputs": [
    {
     "data": {
      "text/plain": [
       "4-element Vector{Float64}:\n",
       " 0.8\n",
       " 0.2\n",
       " 0.0\n",
       " 0.0"
      ]
     },
     "execution_count": 3,
     "metadata": {},
     "output_type": "execute_result"
    }
   ],
   "source": [
    "Observation_matrix[1,:]"
   ]
  },
  {
   "cell_type": "code",
   "execution_count": 4,
   "metadata": {},
   "outputs": [
    {
     "data": {
      "text/plain": [
       "               \u001b[97;1mSparseCat distribution\u001b[0m           \n",
       "     \u001b[38;5;8m┌                                        ┐\u001b[0m \n",
       "   1 \u001b[38;5;8m┤\u001b[0m\u001b[38;5;2m■■■■■■■■■■■■■■■■■■■■■■■■■■■■■■■■■■■\u001b[0m 0.8 \u001b[38;5;8m \u001b[0m \u001b[38;5;8m\u001b[0m\n",
       "   2 \u001b[38;5;8m┤\u001b[0m\u001b[38;5;2m■■■■■■■■■\u001b[0m 0.2                           \u001b[38;5;8m \u001b[0m \u001b[38;5;8m\u001b[0m\n",
       "   3 \u001b[38;5;8m┤\u001b[0m\u001b[38;5;2m\u001b[0m 0.0                                    \u001b[38;5;8m \u001b[0m \u001b[38;5;8m\u001b[0m\n",
       "   4 \u001b[38;5;8m┤\u001b[0m\u001b[38;5;2m\u001b[0m 0.0                                    \u001b[38;5;8m \u001b[0m \u001b[38;5;8m\u001b[0m\n",
       "     \u001b[38;5;8m└                                        ┘\u001b[0m "
      ]
     },
     "execution_count": 4,
     "metadata": {},
     "output_type": "execute_result"
    }
   ],
   "source": [
    "SparseCat(Observations, Observation_matrix[1,:])"
   ]
  },
  {
   "cell_type": "code",
   "execution_count": 5,
   "metadata": {},
   "outputs": [],
   "source": [
    "# Observation_matrix=[\n",
    "#     0.65  0.25 0.1   0.0;\n",
    "#     0.175 0.65 0.175 0.0;\n",
    "#     0.1   0.25 0.65  0.0;\n",
    "#     0.0   0.0  0.0   1.0\n",
    "# ]"
   ]
  },
  {
   "cell_type": "code",
   "execution_count": 6,
   "metadata": {},
   "outputs": [
    {
     "data": {
      "text/plain": [
       "4×4×3 Array{Float64, 3}:\n",
       "[:, :, 1] =\n",
       " 0.8571  0.1429  0.0     0.0\n",
       " 0.0     0.8571  0.1429  0.0\n",
       " 0.0     0.0     0.8     0.2\n",
       " 0.0     0.0     0.0     1.0\n",
       "\n",
       "[:, :, 2] =\n",
       " 0.8571  0.1429  0.0     0.0\n",
       " 0.0     0.8571  0.1429  0.0\n",
       " 0.0     0.0     0.8     0.2\n",
       " 0.8571  0.1429  0.0     0.0\n",
       "\n",
       "[:, :, 3] =\n",
       " 0.8571  0.1429  0.0  0.0\n",
       " 0.8571  0.1429  0.0  0.0\n",
       " 0.8571  0.1429  0.0  0.0\n",
       " 0.8571  0.1429  0.0  0.0"
      ]
     },
     "execution_count": 6,
     "metadata": {},
     "output_type": "execute_result"
    }
   ],
   "source": [
    "T"
   ]
  },
  {
   "cell_type": "code",
   "execution_count": 7,
   "metadata": {},
   "outputs": [
    {
     "data": {
      "text/plain": [
       "-2000"
      ]
     },
     "execution_count": 7,
     "metadata": {},
     "output_type": "execute_result"
    }
   ],
   "source": [
    "NumberUnits=20\n",
    "limit=12\n",
    "failure_penalty = -1200.0;\n",
    "maintenance_penalty = -100.0;\n",
    "setup_cost = -300.0;\n",
    "normal_operation = 0.0;\n",
    "system_penalty=-2000"
   ]
  },
  {
   "cell_type": "code",
   "execution_count": null,
   "metadata": {},
   "outputs": [],
   "source": []
  },
  {
   "cell_type": "code",
   "execution_count": 8,
   "metadata": {},
   "outputs": [],
   "source": [
    "# In iterations, belief needs to be \"manually\" updated using updater(policy::Policy), \n",
    "# then call decision function using policy and belief state\n"
   ]
  },
  {
   "cell_type": "code",
   "execution_count": 9,
   "metadata": {},
   "outputs": [
    {
     "data": {
      "text/plain": [
       "               \u001b[97;1mSparseCat distribution\u001b[0m           \n",
       "     \u001b[38;5;8m┌                                        ┐\u001b[0m \n",
       "   1 \u001b[38;5;8m┤\u001b[0m\u001b[38;5;2m■■■■■■■■■■■■■■■■■■■■■■■■■■■■■■■■■■■\u001b[0m 0.8 \u001b[38;5;8m \u001b[0m \u001b[38;5;8m\u001b[0m\n",
       "   2 \u001b[38;5;8m┤\u001b[0m\u001b[38;5;2m■■■■■■■■■\u001b[0m 0.2                           \u001b[38;5;8m \u001b[0m \u001b[38;5;8m\u001b[0m\n",
       "   3 \u001b[38;5;8m┤\u001b[0m\u001b[38;5;2m\u001b[0m 0.0                                    \u001b[38;5;8m \u001b[0m \u001b[38;5;8m\u001b[0m\n",
       "   4 \u001b[38;5;8m┤\u001b[0m\u001b[38;5;2m\u001b[0m 0.0                                    \u001b[38;5;8m \u001b[0m \u001b[38;5;8m\u001b[0m\n",
       "     \u001b[38;5;8m└                                        ┘\u001b[0m "
      ]
     },
     "execution_count": 9,
     "metadata": {},
     "output_type": "execute_result"
    }
   ],
   "source": [
    "SparseCat(Observations, Observation_matrix[1,:])"
   ]
  },
  {
   "cell_type": "code",
   "execution_count": 10,
   "metadata": {},
   "outputs": [
    {
     "data": {
      "text/plain": [
       "4-element Vector{Float64}:\n",
       " 1.0\n",
       " 0.0\n",
       " 0.0\n",
       " 0.0"
      ]
     },
     "execution_count": 10,
     "metadata": {},
     "output_type": "execute_result"
    }
   ],
   "source": [
    "Initialstates = zeros(Number_level)\n",
    "Initialstates[1]=1.0\n",
    "Initialstates"
   ]
  },
  {
   "cell_type": "code",
   "execution_count": 11,
   "metadata": {},
   "outputs": [
    {
     "data": {
      "text/plain": [
       "               \u001b[97;1mSparseCat distribution\u001b[0m           \n",
       "     \u001b[38;5;8m┌                                        ┐\u001b[0m \n",
       "   1 \u001b[38;5;8m┤\u001b[0m\u001b[38;5;2m■■■■■■■■■■■■■■■■■■■■■■■■■■■■■■■■■■■\u001b[0m 1.0 \u001b[38;5;8m \u001b[0m \u001b[38;5;8m\u001b[0m\n",
       "   2 \u001b[38;5;8m┤\u001b[0m\u001b[38;5;2m\u001b[0m 0.0                                    \u001b[38;5;8m \u001b[0m \u001b[38;5;8m\u001b[0m\n",
       "   3 \u001b[38;5;8m┤\u001b[0m\u001b[38;5;2m\u001b[0m 0.0                                    \u001b[38;5;8m \u001b[0m \u001b[38;5;8m\u001b[0m\n",
       "   4 \u001b[38;5;8m┤\u001b[0m\u001b[38;5;2m\u001b[0m 0.0                                    \u001b[38;5;8m \u001b[0m \u001b[38;5;8m\u001b[0m\n",
       "     \u001b[38;5;8m└                                        ┘\u001b[0m "
      ]
     },
     "execution_count": 11,
     "metadata": {},
     "output_type": "execute_result"
    }
   ],
   "source": [
    "Initialstate = SparseCat(States, Initialstates)"
   ]
  },
  {
   "cell_type": "code",
   "execution_count": 12,
   "metadata": {},
   "outputs": [],
   "source": [
    "# Initialobss = zeros(Number_level)\n",
    "# Initialobss[1]=1.0\n",
    "# Initialobss"
   ]
  },
  {
   "cell_type": "code",
   "execution_count": 13,
   "metadata": {},
   "outputs": [
    {
     "data": {
      "text/plain": [
       "               \u001b[97;1mSparseCat distribution\u001b[0m           \n",
       "     \u001b[38;5;8m┌                                        ┐\u001b[0m \n",
       "   1 \u001b[38;5;8m┤\u001b[0m\u001b[38;5;2m■■■■■■■■■■■■■■■■■■■■■■■■■■■■■■■■■■■\u001b[0m 0.8 \u001b[38;5;8m \u001b[0m \u001b[38;5;8m\u001b[0m\n",
       "   2 \u001b[38;5;8m┤\u001b[0m\u001b[38;5;2m■■■■■■■■■\u001b[0m 0.2                           \u001b[38;5;8m \u001b[0m \u001b[38;5;8m\u001b[0m\n",
       "   3 \u001b[38;5;8m┤\u001b[0m\u001b[38;5;2m\u001b[0m 0.0                                    \u001b[38;5;8m \u001b[0m \u001b[38;5;8m\u001b[0m\n",
       "   4 \u001b[38;5;8m┤\u001b[0m\u001b[38;5;2m\u001b[0m 0.0                                    \u001b[38;5;8m \u001b[0m \u001b[38;5;8m\u001b[0m\n",
       "     \u001b[38;5;8m└                                        ┘\u001b[0m "
      ]
     },
     "execution_count": 13,
     "metadata": {},
     "output_type": "execute_result"
    }
   ],
   "source": [
    "Initialobs = SparseCat(Observations, Observation_matrix[1,:])"
   ]
  },
  {
   "cell_type": "code",
   "execution_count": 14,
   "metadata": {},
   "outputs": [
    {
     "data": {
      "text/plain": [
       "QuickPOMDP{Base.UUID(\"f2e4cc47-3705-45a2-a25f-c9963dd4486e\"), Int64, Int64, Int64, @NamedTuple{stateindex::Dict{Int64, Int64}, isterminal::Bool, obsindex::Dict{Int64, Int64}, states::Vector{Int64}, observations::Vector{Int64}, discount::Float64, initialobs::SparseCat{Vector{Int64}, Vector{Float64}}, actions::Vector{Int64}, observation::var\"#2#5\", actionindex::Dict{Int64, Int64}, initialstate::SparseCat{Vector{Int64}, Vector{Float64}}, transition::var\"#1#4\", reward::var\"#3#6\"}}((stateindex = Dict(4 => 4, 2 => 2, 3 => 3, 1 => 1), isterminal = false, obsindex = Dict(4 => 4, 2 => 2, 3 => 3, 1 => 1), states = [1, 2, 3, 4], observations = [1, 2, 3, 4], discount = 0.95, initialobs = SparseCat{Vector{Int64}, Vector{Float64}}([1, 2, 3, 4], [0.8, 0.2, 0.0, 0.0]), actions = [1, 2, 3, 4], observation = var\"#2#5\"(), actionindex = Dict(4 => 4, 2 => 2, 3 => 3, 1 => 1), initialstate = SparseCat{Vector{Int64}, Vector{Float64}}([1, 2, 3, 4], [1.0, 0.0, 0.0, 0.0]), transition = var\"#1#4\"(), reward = var\"#3#6\"()))"
      ]
     },
     "execution_count": 14,
     "metadata": {},
     "output_type": "execute_result"
    }
   ],
   "source": [
    "multiunit = QuickPOMDP(\n",
    "    states=States,\n",
    "    actions=Array((1:Action_num)),\n",
    "    observations = Observations,\n",
    "    #initialstate = repeat(1:1,NumberUnits),\n",
    "    initialstate = Initialstate,\n",
    "    #initialobs = repeat(1:1,NumberUnits),\n",
    "    initialobs = Initialobs,\n",
    "    discount = gamma,\n",
    "\n",
    "    transition = function(s,a)\n",
    "        if a == 1 # NO REPAIR, NO SYSTEM FAILURE\n",
    "            #crd = Categorical(T[s,:,1]);\n",
    "            #s = rand(crd);\n",
    "            return SparseCat(States, T[s,:,1])\n",
    "        end\n",
    "        if a == 2 # UNIT NOT REPAIRED UNLESS FAILURE BUT REPAIR IN SYSTEM\n",
    "            if s == Number_level\n",
    "                s = 1\n",
    "                #crd = Categorical(T[s,:,2]);\n",
    "                #s = rand(crd);\n",
    "                return SparseCat(States, T[s,:,2])\n",
    "            else\n",
    "                #crd = Categorical(T[s,:,2]);\n",
    "                #s = rand(crd);\n",
    "                return SparseCat(States, T[s,:,2])\n",
    "            end\n",
    "        end\n",
    "        if a == 3 # UNIT REPAIRED AND MAINTENANCE IN SYSTEM, NO SYSTEM FAILURE\n",
    "            if s==Number_level\n",
    "                s=1\n",
    "                #crd = Categorical(T[s,:,3]);\n",
    "                #s = rand(crd);\n",
    "                return SparseCat(States, T[s,:,3])\n",
    "            else\n",
    "                s = 1\n",
    "                #crd = Categorical(T[s,:,3]);\n",
    "                #s = rand(crd);\n",
    "                return SparseCat(States, T[s,:,3])\n",
    "            end\n",
    "        end\n",
    "        if a == 4 # UNIT REPAIRED AND MAINTENANCE IN SYSTEM,SYSTEM FAILED\n",
    "            if s==Number_level\n",
    "                s=1\n",
    "                #crd = Categorical(T[s,:,3]);\n",
    "                #s = rand(crd);\n",
    "                return SparseCat(States, T[s,:,3])\n",
    "            else\n",
    "                s = 1\n",
    "                #crd = Categorical(T[s,:,3]);\n",
    "                #s = rand(crd);\n",
    "                return SparseCat(States, T[s,:,3])\n",
    "            end\n",
    "        end\n",
    "    end,\n",
    "\n",
    "    observation = function(a,s)\n",
    "        return SparseCat(Observations, Observation_matrix[s,:])\n",
    "    end,\n",
    "        \n",
    "    reward = function (s, a)\n",
    "        if a == 1 # NO REPAIR, NO SYSTEM FAILURE\n",
    "            if s == Number_level\n",
    "                return system_penalty/(limit)\n",
    "            else\n",
    "                return normal_operation\n",
    "            end\n",
    "            #crd = Categorical(T[s,:,1]);\n",
    "            #s = rand(crd);\n",
    "        end\n",
    "        if a == 2 # UNIT NOT REPAIRED UNLESS FAILURE BUT REPAIR IN SYSTEM, NO SYSTEM FAILURE PENALTY\n",
    "            if s == Number_level\n",
    "                #s = 1\n",
    "                #crd = Categorical(T[s,:,2]);\n",
    "                #s = rand(crd);\n",
    "                return failure_penalty +  setup_cost/NumberUnits + normal_operation\n",
    "            else\n",
    "                # Here it doesn't matter whether systems fails or not, since C_b does not apply to functional units\n",
    "                return normal_operation +  setup_cost/NumberUnits\n",
    "            end\n",
    "        end\n",
    "        if a == 3 # UNIT REPAIRED AND MAINTENANCE IN SYSTEM, NO SYSTEM FAILURE PENALTY\n",
    "            if s==Number_level\n",
    "                #s=1\n",
    "                #crd = Categorical(T[s,:,3]);\n",
    "                #s = rand(crd);\n",
    "                return failure_penalty +  setup_cost/NumberUnits + normal_operation\n",
    "            else\n",
    "                # Here it doesn't matter whether systems fails or not, since C_b does not apply to functional units\n",
    "                return maintenance_penalty +  setup_cost/NumberUnits+ normal_operation \n",
    "            end\n",
    "        end\n",
    "        if a == 4 # UNIT REPAIRED AND MAINTENANCE IN SYSTEM,SYSTEM FAILED\n",
    "            if s==Number_level\n",
    "                #s=1\n",
    "                #crd = Categorical(T[s,:,3]);\n",
    "                #s = rand(crd);\n",
    "                return failure_penalty +  setup_cost/NumberUnits + normal_operation + system_penalty/(limit)\n",
    "            else\n",
    "                #s = 1\n",
    "                #crd = Categorical(T[s,:,3]);\n",
    "                #s = rand(crd);\n",
    "                return maintenance_penalty +  setup_cost/NumberUnits + normal_operation\n",
    "            end\n",
    "        end\n",
    "    end,\n",
    "    \n",
    "\n",
    ")"
   ]
  },
  {
   "cell_type": "code",
   "execution_count": 15,
   "metadata": {},
   "outputs": [
    {
     "data": {
      "text/plain": [
       "               \u001b[97;1mSparseCat distribution\u001b[0m           \n",
       "     \u001b[38;5;8m┌                                        ┐\u001b[0m \n",
       "   1 \u001b[38;5;8m┤\u001b[0m\u001b[38;5;2m■■■■■■■■■■■■■■■■■■■■■■■■■■■■■■■■■■■\u001b[0m 1.0 \u001b[38;5;8m \u001b[0m \u001b[38;5;8m\u001b[0m\n",
       "   2 \u001b[38;5;8m┤\u001b[0m\u001b[38;5;2m\u001b[0m 0.0                                    \u001b[38;5;8m \u001b[0m \u001b[38;5;8m\u001b[0m\n",
       "   3 \u001b[38;5;8m┤\u001b[0m\u001b[38;5;2m\u001b[0m 0.0                                    \u001b[38;5;8m \u001b[0m \u001b[38;5;8m\u001b[0m\n",
       "   4 \u001b[38;5;8m┤\u001b[0m\u001b[38;5;2m\u001b[0m 0.0                                    \u001b[38;5;8m \u001b[0m \u001b[38;5;8m\u001b[0m\n",
       "     \u001b[38;5;8m└                                        ┘\u001b[0m "
      ]
     },
     "execution_count": 15,
     "metadata": {},
     "output_type": "execute_result"
    }
   ],
   "source": [
    "initialstate(multiunit)"
   ]
  },
  {
   "cell_type": "code",
   "execution_count": 16,
   "metadata": {},
   "outputs": [
    {
     "name": "stderr",
     "output_type": "stream",
     "text": [
      "\u001b[32m\u001b[1m   Resolving\u001b[22m\u001b[39m package versions...\n",
      "\u001b[32m\u001b[1m  No Changes\u001b[22m\u001b[39m to `C:\\Users\\hhu98\\.julia\\environments\\v1.11\\Project.toml`\n",
      "\u001b[32m\u001b[1m  No Changes\u001b[22m\u001b[39m to `C:\\Users\\hhu98\\.julia\\environments\\v1.11\\Manifest.toml`\n"
     ]
    }
   ],
   "source": [
    "import Pkg; Pkg.add(\"NativeSARSOP\")\n",
    "using POMDPs\n",
    "using NativeSARSOP\n",
    "using POMDPModels\n",
    "\n"
   ]
  },
  {
   "cell_type": "code",
   "execution_count": 17,
   "metadata": {},
   "outputs": [
    {
     "data": {
      "text/plain": [
       "4-element Vector{Int64}:\n",
       " 1\n",
       " 2\n",
       " 3\n",
       " 4"
      ]
     },
     "execution_count": 17,
     "metadata": {},
     "output_type": "execute_result"
    }
   ],
   "source": [
    "ordered_states(multiunit)"
   ]
  },
  {
   "cell_type": "code",
   "execution_count": 18,
   "metadata": {},
   "outputs": [
    {
     "data": {
      "text/plain": [
       "4"
      ]
     },
     "execution_count": 18,
     "metadata": {},
     "output_type": "execute_result"
    }
   ],
   "source": [
    "length(states(multiunit))"
   ]
  },
  {
   "cell_type": "code",
   "execution_count": 19,
   "metadata": {},
   "outputs": [],
   "source": [
    "#import Pkg; Pkg.add(\"IncrementalPruning\")"
   ]
  },
  {
   "cell_type": "code",
   "execution_count": 20,
   "metadata": {},
   "outputs": [],
   "source": [
    "# using IncrementalPruning\n",
    "# solver = PruneSolver() # set the solver\n",
    "\n",
    "# policy = solve(solver, multiunit)"
   ]
  },
  {
   "cell_type": "code",
   "execution_count": 21,
   "metadata": {},
   "outputs": [],
   "source": [
    "#value(policy,[0.1,0.8,0.1,0.0])"
   ]
  },
  {
   "cell_type": "code",
   "execution_count": 22,
   "metadata": {},
   "outputs": [
    {
     "data": {
      "text/plain": [
       "AlphaVectorPolicy{QuickPOMDP{Base.UUID(\"f2e4cc47-3705-45a2-a25f-c9963dd4486e\"), Int64, Int64, Int64, @NamedTuple{stateindex::Dict{Int64, Int64}, isterminal::Bool, obsindex::Dict{Int64, Int64}, states::Vector{Int64}, observations::Vector{Int64}, discount::Float64, initialobs::SparseCat{Vector{Int64}, Vector{Float64}}, actions::Vector{Int64}, observation::var\"#2#5\", actionindex::Dict{Int64, Int64}, initialstate::SparseCat{Vector{Int64}, Vector{Float64}}, transition::var\"#1#4\", reward::var\"#3#6\"}}, Int64}(QuickPOMDP{Base.UUID(\"f2e4cc47-3705-45a2-a25f-c9963dd4486e\"), Int64, Int64, Int64, @NamedTuple{stateindex::Dict{Int64, Int64}, isterminal::Bool, obsindex::Dict{Int64, Int64}, states::Vector{Int64}, observations::Vector{Int64}, discount::Float64, initialobs::SparseCat{Vector{Int64}, Vector{Float64}}, actions::Vector{Int64}, observation::var\"#2#5\", actionindex::Dict{Int64, Int64}, initialstate::SparseCat{Vector{Int64}, Vector{Float64}}, transition::var\"#1#4\", reward::var\"#3#6\"}}((stateindex = Dict(4 => 4, 2 => 2, 3 => 3, 1 => 1), isterminal = false, obsindex = Dict(4 => 4, 2 => 2, 3 => 3, 1 => 1), states = [1, 2, 3, 4], observations = [1, 2, 3, 4], discount = 0.95, initialobs = SparseCat{Vector{Int64}, Vector{Float64}}([1, 2, 3, 4], [0.8, 0.2, 0.0, 0.0]), actions = [1, 2, 3, 4], observation = var\"#2#5\"(), actionindex = Dict(4 => 4, 2 => 2, 3 => 3, 1 => 1), initialstate = SparseCat{Vector{Int64}, Vector{Float64}}([1, 2, 3, 4], [1.0, 0.0, 0.0, 0.0]), transition = var\"#1#4\"(), reward = var\"#3#6\"())), 4, [[-215.72341091331475, -313.41068255644547, -695.7138372637509, -1526.0576540856434], [-215.66248406861035, -315.15968653818766, -695.7138372637509, -1526.0576540856434], [-230.5581097043219, -330.2751458487265, -710.6474871886643, -1430.5581097043219], [-215.52556234402698, -315.17757951391286, -695.5542759535031, -1525.8468004114604], [-215.517183253768, -315.176987222487, -695.5542759535031, -1525.8468004114604], [-215.5117171072374, -315.1769389954538, -695.5542759535031, -1525.8468004114604], [-215.50815582654585, -315.1769350685918, -695.5542759535031, -1525.8468004114604], [-215.5058359692394, -315.17693474884896, -695.5542759535031, -1525.8468004114604], [-215.50432481912875, -315.17693472281405, -695.5542759535031, -1525.8468004114604], [-215.50334046163783, -315.1769347206942, -695.5542759535031, -1525.8468004114604]  …  [-215.91184957572528, -291.5679581202849, -557.302905326582, -1525.4676949010902], [-215.90981832484349, -291.5690179513172, -557.3029053265562, -1525.4676949010902], [-215.31687196759398, -314.97064081572495, -713.50116233472, -1616.421438048028], [-215.3168719672822, -314.97064081570215, -713.50116233472, -1616.421438048028], [-215.3168719670788, -314.97064081570034, -713.50116233472, -1616.421438048028], [-215.31687196694628, -314.97064081570016, -713.50116233472, -1616.421438048028], [-215.31687196685994, -314.97064081570016, -713.50116233472, -1616.421438048028], [-215.31687196680372, -314.97064081570016, -713.50116233472, -1616.421438048028], [-215.3168719667671, -314.97064081570016, -713.50116233472, -1616.421438048028], [-215.31687182438554, -315.46455917058597, -716.2661561275027, -1616.421438048028]], [1, 1, 2, 1, 1, 1, 1, 1, 1, 1  …  1, 1, 1, 1, 1, 1, 1, 1, 1, 1])"
      ]
     },
     "execution_count": 22,
     "metadata": {},
     "output_type": "execute_result"
    }
   ],
   "source": [
    "solver = SARSOPSolver()\n",
    "policy = solve(solver, multiunit)\n",
    "# Calling observation"
   ]
  },
  {
   "cell_type": "code",
   "execution_count": 23,
   "metadata": {},
   "outputs": [
    {
     "data": {
      "text/plain": [
       "-1430.316871825709"
      ]
     },
     "execution_count": 23,
     "metadata": {},
     "output_type": "execute_result"
    }
   ],
   "source": [
    "value(policy,[0.0,0.0,0.0,1.0])"
   ]
  },
  {
   "cell_type": "code",
   "execution_count": 24,
   "metadata": {},
   "outputs": [
    {
     "data": {
      "text/plain": [
       "-330.31687182570914"
      ]
     },
     "execution_count": 24,
     "metadata": {},
     "output_type": "execute_result"
    }
   ],
   "source": [
    "value(policy,[0.1,0.1,0.8,0.0])"
   ]
  },
  {
   "cell_type": "code",
   "execution_count": 25,
   "metadata": {},
   "outputs": [
    {
     "data": {
      "text/plain": [
       "-330.31687182570914"
      ]
     },
     "execution_count": 25,
     "metadata": {},
     "output_type": "execute_result"
    }
   ],
   "source": [
    "b=[[0.0, 0.2, 0.8, 0.0] for j in 1:NumberUnits]\n",
    "belief=b[1]\n",
    "value(policy,belief)"
   ]
  },
  {
   "cell_type": "code",
   "execution_count": 26,
   "metadata": {},
   "outputs": [
    {
     "data": {
      "text/plain": [
       "               \u001b[97;1mSparseCat distribution\u001b[0m           \n",
       "     \u001b[38;5;8m┌                                        ┐\u001b[0m \n",
       "   1 \u001b[38;5;8m┤\u001b[0m\u001b[38;5;2m\u001b[0m 0.0                                    \u001b[38;5;8m \u001b[0m \u001b[38;5;8m\u001b[0m\n",
       "   2 \u001b[38;5;8m┤\u001b[0m\u001b[38;5;2m\u001b[0m 0.0                                    \u001b[38;5;8m \u001b[0m \u001b[38;5;8m\u001b[0m\n",
       "   3 \u001b[38;5;8m┤\u001b[0m\u001b[38;5;2m■■■■■■■■■■■■■■■■■■■■■■■■■■■■■■■■■■■\u001b[0m 0.8 \u001b[38;5;8m \u001b[0m \u001b[38;5;8m\u001b[0m\n",
       "   4 \u001b[38;5;8m┤\u001b[0m\u001b[38;5;2m■■■■■■■■■\u001b[0m 0.2                           \u001b[38;5;8m \u001b[0m \u001b[38;5;8m\u001b[0m\n",
       "     \u001b[38;5;8m└                                        ┘\u001b[0m "
      ]
     },
     "execution_count": 26,
     "metadata": {},
     "output_type": "execute_result"
    }
   ],
   "source": [
    "#transition function: transition(pomdp, state, action)\n",
    "#return the transition distribution form the current state-action pair\n",
    "transition(multiunit, 3,1)"
   ]
  },
  {
   "cell_type": "code",
   "execution_count": 27,
   "metadata": {},
   "outputs": [
    {
     "data": {
      "text/plain": [
       "               \u001b[97;1mSparseCat distribution\u001b[0m           \n",
       "     \u001b[38;5;8m┌                                        ┐\u001b[0m \n",
       "   1 \u001b[38;5;8m┤\u001b[0m\u001b[38;5;2m■■■■\u001b[0m 0.1                                \u001b[38;5;8m \u001b[0m \u001b[38;5;8m\u001b[0m\n",
       "   2 \u001b[38;5;8m┤\u001b[0m\u001b[38;5;2m■■■■■■■■■■■■■■■■■■■■■■■■■■■■■■■■■■■\u001b[0m 0.8 \u001b[38;5;8m \u001b[0m \u001b[38;5;8m\u001b[0m\n",
       "   3 \u001b[38;5;8m┤\u001b[0m\u001b[38;5;2m■■■■\u001b[0m 0.1                                \u001b[38;5;8m \u001b[0m \u001b[38;5;8m\u001b[0m\n",
       "   4 \u001b[38;5;8m┤\u001b[0m\u001b[38;5;2m\u001b[0m 0.0                                    \u001b[38;5;8m \u001b[0m \u001b[38;5;8m\u001b[0m\n",
       "     \u001b[38;5;8m└                                        ┘\u001b[0m "
      ]
     },
     "execution_count": 27,
     "metadata": {},
     "output_type": "execute_result"
    }
   ],
   "source": [
    "# observation function: observation(pomdp, action,statep)\n",
    "# return the observation distribution\n",
    "POMDPs.observation(multiunit,1,2)"
   ]
  },
  {
   "cell_type": "code",
   "execution_count": null,
   "metadata": {},
   "outputs": [],
   "source": []
  },
  {
   "cell_type": "code",
   "execution_count": 28,
   "metadata": {},
   "outputs": [
    {
     "data": {
      "text/plain": [
       "               \u001b[97;1mSparseCat distribution\u001b[0m           \n",
       "     \u001b[38;5;8m┌                                        ┐\u001b[0m \n",
       "   1 \u001b[38;5;8m┤\u001b[0m\u001b[38;5;2m■■■■■■■■■■■■■■■■■■■■■■■■■■■■■■■■■■■\u001b[0m 0.8 \u001b[38;5;8m \u001b[0m \u001b[38;5;8m\u001b[0m\n",
       "   2 \u001b[38;5;8m┤\u001b[0m\u001b[38;5;2m■■■■■■■■■\u001b[0m 0.2                           \u001b[38;5;8m \u001b[0m \u001b[38;5;8m\u001b[0m\n",
       "   3 \u001b[38;5;8m┤\u001b[0m\u001b[38;5;2m\u001b[0m 0.0                                    \u001b[38;5;8m \u001b[0m \u001b[38;5;8m\u001b[0m\n",
       "   4 \u001b[38;5;8m┤\u001b[0m\u001b[38;5;2m\u001b[0m 0.0                                    \u001b[38;5;8m \u001b[0m \u001b[38;5;8m\u001b[0m\n",
       "     \u001b[38;5;8m└                                        ┘\u001b[0m "
      ]
     },
     "execution_count": 28,
     "metadata": {},
     "output_type": "execute_result"
    }
   ],
   "source": [
    "s=1\n",
    "new_a = 1\n",
    "p_observation = POMDPs.observation(multiunit,new_a,s)\n"
   ]
  },
  {
   "cell_type": "code",
   "execution_count": 29,
   "metadata": {},
   "outputs": [
    {
     "data": {
      "text/plain": [
       "0.2"
      ]
     },
     "execution_count": 29,
     "metadata": {},
     "output_type": "execute_result"
    }
   ],
   "source": [
    "# use pdf function to get prob of certain entry\n",
    "new_obs=2\n",
    "pdf(p_observation,new_obs)"
   ]
  },
  {
   "cell_type": "code",
   "execution_count": 30,
   "metadata": {},
   "outputs": [
    {
     "data": {
      "text/plain": [
       "generative (generic function with 2 methods)"
      ]
     },
     "execution_count": 30,
     "metadata": {},
     "output_type": "execute_result"
    }
   ],
   "source": [
    "function generative(s,a,rng=23) # calculate TRUE COMPONENT-LEVEL reward r_i(s_i,a_i) and get evolving states\n",
    "    if a==1 # No maintenance in the system, no system failure\n",
    "        crd=Categorical(T[s,:,1])\n",
    "        s=rand(crd)\n",
    "        r=normal_operation\n",
    "        obs_distribution = SparseCat(Observations, Observation_matrix[s,:])\n",
    "        obs = rand(obs_distribution)\n",
    "        return (sp=s,r=r,o=obs)\n",
    "    end\n",
    "\n",
    "    if a==2 # Maintenance occurs in the system, no system failure, corrective maintenance for the unit\n",
    "        if s==Number_level\n",
    "            crd=Categorical(T[1,:,2])\n",
    "            s=rand(crd)\n",
    "            r=failure_penalty  + normal_operation\n",
    "            obs_distribution = SparseCat(Observations, Observation_matrix[s,:])\n",
    "            obs = rand(obs_distribution)\n",
    "            return (sp=s,r=r,o=obs)\n",
    "        else\n",
    "            crd = Categorical(T[s,:,2])\n",
    "            s = rand(crd)\n",
    "            r = normal_operation\n",
    "            obs_distribution = SparseCat(Observations, Observation_matrix[s,:])\n",
    "            obs = rand(obs_distribution)\n",
    "            return (sp=s,r=r,o=obs)\n",
    "        end\n",
    "    end\n",
    "\n",
    "    if a==3 # Maintenance occurs in the system, no system failure, preventive maintenance for the unit\n",
    "        if s==Number_level\n",
    "            crd=Categorical(T[1,:,3])\n",
    "            s=rand(crd)\n",
    "            r=failure_penalty  + normal_operation\n",
    "            obs_distribution = SparseCat(Observations, Observation_matrix[s,:])\n",
    "            obs = rand(obs_distribution)\n",
    "            return (sp=s,r=r,o=obs)\n",
    "        else\n",
    "            crd = Categorical(T[s,:,3])\n",
    "            s = rand(crd)\n",
    "            r = maintenance_penalty+normal_operation\n",
    "            obs_distribution = SparseCat(Observations, Observation_matrix[s,:])\n",
    "            obs = rand(obs_distribution)\n",
    "            return (sp=s,r=r,o=obs)\n",
    "        end\n",
    "    end\n",
    "\n",
    "    if a==4 # maintenance in system, system failure occurs, preventive replacement for the unit\n",
    "        if s==Number_level\n",
    "            crd = Categorical(T[1,:,3])\n",
    "            s = rand(crd)\n",
    "            r=failure_penalty+ normal_operation\n",
    "            obs_distribution = SparseCat(Observations, Observation_matrix[s,:])\n",
    "            obs = rand(obs_distribution)\n",
    "            return (sp=s,r=r,o=obs)\n",
    "        else\n",
    "            r = maintenance_penalty+normal_operation\n",
    "            crd = Categorical(T[1,:,3])\n",
    "            s = rand(crd)\n",
    "            obs_distribution = SparseCat(Observations, Observation_matrix[s,:])\n",
    "            obs = rand(obs_distribution)\n",
    "            return (sp=s,r=r,o=obs)\n",
    "        end\n",
    "    end\n",
    "end\n",
    "\n",
    "        \n",
    "        \n",
    "    "
   ]
  },
  {
   "cell_type": "markdown",
   "metadata": {},
   "source": [
    "#### Belief updater"
   ]
  },
  {
   "cell_type": "markdown",
   "metadata": {},
   "source": [
    "$$b'(s_j)=P(s_j\\vert o,a,b)=\\dfrac{P(o\\vert s_j,a)\\sum_{s_i\\in \\mathcal{S}}P(s_j\\vert s_i,a)b(s_i)}{\\sum_{s_j\\in \\mathcal{S}}P(o\\vert s_j,a)\\sum_{s_i\\in \\mathcal{S}}P(s_j\\vert s_i,a)b(s_i)}$$"
   ]
  },
  {
   "cell_type": "code",
   "execution_count": 31,
   "metadata": {},
   "outputs": [
    {
     "data": {
      "text/plain": [
       "update_belief (generic function with 1 method)"
      ]
     },
     "execution_count": 31,
     "metadata": {},
     "output_type": "execute_result"
    }
   ],
   "source": [
    "function update_belief(b,a,o,pomdp) \n",
    "    # NOTE: \n",
    "    # in input, b is belief from last epoch (before a)\n",
    "    # a is the last action we took\n",
    "    # o is the new observation after a\n",
    "    updated_belief = zeros(length(b))\n",
    "    if o==4\n",
    "        updated_belief[length(states(pomdp))]=1.0\n",
    "        return updated_belief\n",
    "    end\n",
    "    #if ((a==2)&&(o==4)) ||(a==3) ||(a==4)\n",
    "    #if (a==2) ||(a==3) ||(a==4)\n",
    "    if (a==3) ||(a==4)\n",
    "    # We assume perfect maintenance and it is know to decision maker(belief updater)\n",
    "        for sp in 1: length(states(pomdp))\n",
    "            p_observation = POMDPs.observation(pomdp,a,sp) \n",
    "            p_obs = pdf(p_observation,o)\n",
    "            # Transition probability distribution is T[1,:,1]\n",
    "            p_trans = pdf(transition(pomdp,1,1),sp) \n",
    "            updated_belief[sp] = p_obs * p_trans\n",
    "        end\n",
    "        updated_belief ./= sum(updated_belief)\n",
    "        return updated_belief\n",
    "    end\n",
    "    \n",
    "    for sp in 1:length(states(pomdp)) \n",
    "        p_observation = POMDPs.observation(pomdp,a,sp) \n",
    "        p_obs = pdf(p_observation,o)\n",
    "        p_trans = 0.0\n",
    "        for s in 1:length(states(pomdp))\n",
    "            #trans = transition(pomdp, s,a)\n",
    "            #p_trans += pdf(transition(pomdp, s,a),sp) * pdf(b, s)\n",
    "            # p_trans += T[s,sp,a] * pdf(b, s)\n",
    "            p_trans += pdf(transition(pomdp,s,a),sp) * b[s]\n",
    "        end\n",
    "        updated_belief[sp] = p_obs * p_trans\n",
    "    end\n",
    "        # Normalize the updated belief state to ensure it sums up to 1\n",
    "        updated_belief ./= sum(updated_belief)\n",
    "    return updated_belief\n",
    "end\n"
   ]
  },
  {
   "cell_type": "code",
   "execution_count": 32,
   "metadata": {},
   "outputs": [],
   "source": [
    "# s=1\n",
    "# sp=2\n",
    "# a=1\n",
    "# pdf(transition(multiunit, s,a),sp)"
   ]
  },
  {
   "cell_type": "code",
   "execution_count": 33,
   "metadata": {},
   "outputs": [],
   "source": [
    "# updated_belief_state = update_belief(SparseCat(States, [0.1,0.9,0.0,0.0]), 2, 4, multiunit)"
   ]
  },
  {
   "cell_type": "code",
   "execution_count": 34,
   "metadata": {},
   "outputs": [],
   "source": [
    "# updated_belief_state = update_belief([0.0,0.1,0.9,0.0], 2, 2, multiunit)"
   ]
  },
  {
   "cell_type": "code",
   "execution_count": 35,
   "metadata": {},
   "outputs": [],
   "source": [
    "# #updated_belief_state = update_belief(SparseCat(States, [0.0,0.1,0.9,0.0]), 2, 2, multiunit)\n",
    "# updated_belief_state = update_belief([0.0,0.1,0.9,0.0], 2, 3, multiunit)\n",
    "# # result of distinguishing a=2 taken under different states"
   ]
  },
  {
   "cell_type": "code",
   "execution_count": 36,
   "metadata": {},
   "outputs": [],
   "source": [
    "# updated_belief_state = update_belief([0.1,0.9,0.0,0.0], 1, 1, multiunit)"
   ]
  },
  {
   "cell_type": "markdown",
   "metadata": {},
   "source": [
    "### System-level decision making"
   ]
  },
  {
   "cell_type": "code",
   "execution_count": 37,
   "metadata": {},
   "outputs": [
    {
     "data": {
      "text/plain": [
       "decision (generic function with 1 method)"
      ]
     },
     "execution_count": 37,
     "metadata": {},
     "output_type": "execute_result"
    }
   ],
   "source": [
    "function decision(policy, o, b)\n",
    "# initialize system-level action vector\n",
    "    Q=Qfnc(policy,b) # Q is an N*A matrix for each unit-action pair\n",
    "    a_final = repeat(1:1,NumberUnits)\n",
    "    failed_components = 0\n",
    "    for i in 1:NumberUnits # numerate over units\n",
    "        if o[i]==Number_level # failure state is self-announcing\n",
    "            failed_components+=1\n",
    "        end\n",
    "    end\n",
    "    if failed_components >= limit # System fails\n",
    "        for i in 1:NumberUnits\n",
    "            if o[i]==Number_level\n",
    "                a_final[i]=4\n",
    "            else\n",
    "                a_final[i]=argmax(a->Q[i,a],[2,3]) # If the unit does not fail, the case is the same as a=2,3\n",
    "            end\n",
    "        end\n",
    "        return a_final\n",
    "    end\n",
    "\n",
    "    # Based on belief, compare the expected total rewards of setting up maintenance or not\n",
    "    D0=0.0\n",
    "    a0=repeat(1:1,NumberUnits)\n",
    "    for i in 1:NumberUnits\n",
    "        D0+=Q[i,1]\n",
    "    end\n",
    "\n",
    "    D1=0.0\n",
    "    a1=repeat(1:1,NumberUnits)\n",
    "    for i in 1:NumberUnits\n",
    "        a1[i]=argmax(a->Q[i,a],[2,3])\n",
    "        if o[i]==Number_level\n",
    "            a1[i]=3\n",
    "        end\n",
    "        D1+=Q[i,a1[i]]\n",
    "    end\n",
    "\n",
    "    if !(3 in a1)\n",
    "        return a0\n",
    "    end\n",
    "\n",
    "    if D0 > D1\n",
    "        return a0\n",
    "    else\n",
    "        return a1\n",
    "    end\n",
    "end\n",
    "\n",
    "\n",
    "    \n",
    "    \n",
    "    \n"
   ]
  },
  {
   "cell_type": "markdown",
   "metadata": {},
   "source": [
    "# $Q$-function\n",
    "After obtaining $V^*(b)$ from policy, we calculate optimal $Q$-function by\n",
    "$$Q^*(b,a)=R(b,a)+\\gamma  \\sum_{o'\\in \\mathcal{O}} \\eta(o'|b,a)V^*(b')$$\n",
    "where expected immediate reward of taking action $a$ in belief state $b$ is $$R(b,a)=\\sum_{s\\in \\mathcal{S}}R(s,a) b(s),$$\n",
    "and prior probability of observing $o'$ after taking action $a$ is $$\\eta(o'|b,a)=\\sum_{s'\\in\\mathcal{S}} P(o'|s',a)\\sum_{s\\in\\mathcal{S}}T(s'|s,a)b(s)$$"
   ]
  },
  {
   "cell_type": "code",
   "execution_count": 38,
   "metadata": {},
   "outputs": [
    {
     "data": {
      "text/plain": [
       "Qfnc (generic function with 1 method)"
      ]
     },
     "execution_count": 38,
     "metadata": {},
     "output_type": "execute_result"
    }
   ],
   "source": [
    "function Qfnc(policy,b)\n",
    "    epsilon = 1e-4\n",
    "    Q=zeros((NumberUnits,4)) \n",
    "    # NOTE: Q is defined for each unit (according to their beliefs), not state\n",
    "    for i in 1:NumberUnits\n",
    "        belief=b[i]\n",
    "        # if i == 1\n",
    "        #     println(\"The current belief is \",belief)\n",
    "        # end\n",
    "        for a in 1:4\n",
    "            # if i==1\n",
    "            # println(\"Take action \",a)\n",
    "            # end\n",
    "            Q_value=0\n",
    "            for s in 1:Number_level\n",
    "                Q_value+=belief[s] * POMDPs.reward(multiunit,s,a)\n",
    "            end\n",
    "            for o in 1:Number_level\n",
    "                # if i==1\n",
    "                # println(\"prior probability of observing \",o,\" after taking action \",a)\n",
    "                # end\n",
    "            # the o here is the observation we expect to obtain at next time step, \n",
    "            # i.e., after taking the action we are deciding\n",
    "            # so we don't need input current o\n",
    "                o_prior = 0 \n",
    "                for sp in 1:Number_level\n",
    "                    p_sp=0\n",
    "                    for s in 1:Number_level\n",
    "                        p_sp+=pdf(transition(multiunit,s,a),sp) * belief[s]\n",
    "                        #p_sp+=T[s,sp,a] * belief[s]\n",
    "                    end\n",
    "                    p_sp=p_sp * Observation_matrix[sp,o]\n",
    "                    o_prior+=p_sp\n",
    "                end\n",
    "                #println(o_prior)\n",
    "                bp=update_belief(belief,a,o,multiunit)\n",
    "                # if i == 1\n",
    "                #     println(o_prior)\n",
    "                #     println(\"next time step belief vector after observing \",o)\n",
    "                #     println(bp)\n",
    "                # end\n",
    "                if o_prior > epsilon\n",
    "                    Q_value += gamma * o_prior * value(policy,bp)\n",
    "                end\n",
    "            end\n",
    "            Q[i,a]=Q_value\n",
    "        end\n",
    "    end\n",
    "    return Q\n",
    "end\n",
    "        \n",
    "                \n",
    "                "
   ]
  },
  {
   "cell_type": "code",
   "execution_count": 39,
   "metadata": {},
   "outputs": [
    {
     "data": {
      "text/plain": [
       "20-element Vector{Vector{Float64}}:\n",
       " [0.0, 0.2, 0.8, 0.0]\n",
       " [0.0, 0.2, 0.8, 0.0]\n",
       " [0.0, 0.2, 0.8, 0.0]\n",
       " [0.0, 0.2, 0.8, 0.0]\n",
       " [0.0, 0.2, 0.8, 0.0]\n",
       " [0.0, 0.2, 0.8, 0.0]\n",
       " [0.0, 0.2, 0.8, 0.0]\n",
       " [0.0, 0.2, 0.8, 0.0]\n",
       " [0.0, 0.2, 0.8, 0.0]\n",
       " [0.0, 0.2, 0.8, 0.0]\n",
       " [0.0, 0.2, 0.8, 0.0]\n",
       " [0.0, 0.2, 0.8, 0.0]\n",
       " [0.0, 0.2, 0.8, 0.0]\n",
       " [0.0, 0.2, 0.8, 0.0]\n",
       " [0.0, 0.2, 0.8, 0.0]\n",
       " [0.0, 0.2, 0.8, 0.0]\n",
       " [0.0, 0.2, 0.8, 0.0]\n",
       " [0.0, 0.2, 0.8, 0.0]\n",
       " [0.0, 0.2, 0.8, 0.0]\n",
       " [0.0, 0.2, 0.8, 0.0]"
      ]
     },
     "execution_count": 39,
     "metadata": {},
     "output_type": "execute_result"
    }
   ],
   "source": [
    "b=[[0.0, 0.2, 0.8, 0.0] for j in 1:NumberUnits]\n"
   ]
  },
  {
   "cell_type": "code",
   "execution_count": 40,
   "metadata": {},
   "outputs": [
    {
     "data": {
      "text/plain": [
       "20×4 Matrix{Float64}:\n",
       " -480.37  -495.37  -330.317  -330.317\n",
       " -480.37  -495.37  -330.317  -330.317\n",
       " -480.37  -495.37  -330.317  -330.317\n",
       " -480.37  -495.37  -330.317  -330.317\n",
       " -480.37  -495.37  -330.317  -330.317\n",
       " -480.37  -495.37  -330.317  -330.317\n",
       " -480.37  -495.37  -330.317  -330.317\n",
       " -480.37  -495.37  -330.317  -330.317\n",
       " -480.37  -495.37  -330.317  -330.317\n",
       " -480.37  -495.37  -330.317  -330.317\n",
       " -480.37  -495.37  -330.317  -330.317\n",
       " -480.37  -495.37  -330.317  -330.317\n",
       " -480.37  -495.37  -330.317  -330.317\n",
       " -480.37  -495.37  -330.317  -330.317\n",
       " -480.37  -495.37  -330.317  -330.317\n",
       " -480.37  -495.37  -330.317  -330.317\n",
       " -480.37  -495.37  -330.317  -330.317\n",
       " -480.37  -495.37  -330.317  -330.317\n",
       " -480.37  -495.37  -330.317  -330.317\n",
       " -480.37  -495.37  -330.317  -330.317"
      ]
     },
     "execution_count": 40,
     "metadata": {},
     "output_type": "execute_result"
    }
   ],
   "source": [
    "Q=Qfnc(policy,b)"
   ]
  },
  {
   "cell_type": "code",
   "execution_count": 41,
   "metadata": {},
   "outputs": [
    {
     "data": {
      "text/plain": [
       "20-element Vector{Vector{Float64}}:\n",
       " [0.2, 0.3, 0.5, 0.0]\n",
       " [0.2, 0.3, 0.5, 0.0]\n",
       " [0.2, 0.3, 0.5, 0.0]\n",
       " [0.2, 0.3, 0.5, 0.0]\n",
       " [0.2, 0.3, 0.5, 0.0]\n",
       " [0.2, 0.3, 0.5, 0.0]\n",
       " [0.2, 0.3, 0.5, 0.0]\n",
       " [0.2, 0.3, 0.5, 0.0]\n",
       " [0.2, 0.3, 0.5, 0.0]\n",
       " [0.2, 0.3, 0.5, 0.0]\n",
       " [0.2, 0.3, 0.5, 0.0]\n",
       " [0.2, 0.3, 0.5, 0.0]\n",
       " [0.2, 0.3, 0.5, 0.0]\n",
       " [0.2, 0.3, 0.5, 0.0]\n",
       " [0.2, 0.3, 0.5, 0.0]\n",
       " [0.2, 0.3, 0.5, 0.0]\n",
       " [0.2, 0.3, 0.5, 0.0]\n",
       " [0.2, 0.3, 0.5, 0.0]\n",
       " [0.2, 0.3, 0.5, 0.0]\n",
       " [0.2, 0.3, 0.5, 0.0]"
      ]
     },
     "execution_count": 41,
     "metadata": {},
     "output_type": "execute_result"
    }
   ],
   "source": [
    "b=[[0.2, 0.3, 0.5, 0.0] for j in 1:NumberUnits]"
   ]
  },
  {
   "cell_type": "code",
   "execution_count": 42,
   "metadata": {},
   "outputs": [],
   "source": [
    "o=rand(1:4,20)\n",
    "for i in 1:10\n",
    "    o[i]=4\n",
    "end"
   ]
  },
  {
   "cell_type": "code",
   "execution_count": 43,
   "metadata": {},
   "outputs": [
    {
     "data": {
      "text/plain": [
       "20-element Vector{Int64}:\n",
       " 4\n",
       " 4\n",
       " 4\n",
       " 4\n",
       " 4\n",
       " 4\n",
       " 4\n",
       " 4\n",
       " 4\n",
       " 4\n",
       " 4\n",
       " 3\n",
       " 4\n",
       " 4\n",
       " 3\n",
       " 4\n",
       " 3\n",
       " 3\n",
       " 4\n",
       " 3"
      ]
     },
     "execution_count": 43,
     "metadata": {},
     "output_type": "execute_result"
    }
   ],
   "source": [
    "decision(policy, o, b)"
   ]
  },
  {
   "cell_type": "code",
   "execution_count": 44,
   "metadata": {},
   "outputs": [
    {
     "data": {
      "text/plain": [
       "get_fixed_K (generic function with 1 method)"
      ]
     },
     "execution_count": 44,
     "metadata": {},
     "output_type": "execute_result"
    }
   ],
   "source": [
    "# Define the fixed K values for each unit count\n",
    "function get_fixed_K(units)\n",
    "    if units == 60\n",
    "        return 18\n",
    "    elseif units == 50\n",
    "        return 18\n",
    "    elseif units == 40\n",
    "        return 18\n",
    "    elseif units == 30\n",
    "        return 14\n",
    "    elseif units == 25\n",
    "        return 10  # Assuming a reasonable value for 25\n",
    "    elseif units == 20\n",
    "        return 10   # Assuming a reasonable value for 20\n",
    "    else\n",
    "        return convert(Int64, floor((units+1)/4))  # Fallback for any other values\n",
    "    end\n",
    "end"
   ]
  },
  {
   "cell_type": "markdown",
   "metadata": {},
   "source": [
    "### Iteration"
   ]
  },
  {
   "cell_type": "code",
   "execution_count": 45,
   "metadata": {},
   "outputs": [
    {
     "name": "stdout",
     "output_type": "stream",
     "text": [
      "20\n",
      "K : 10\n"
     ]
    },
    {
     "name": "stderr",
     "output_type": "stream",
     "text": [
      "\u001b[36m\u001b[1m[ \u001b[22m\u001b[39m\u001b[36m\u001b[1mInfo: \u001b[22m\u001b[39m started timer at: 2025-04-11T15:00:48.525\n"
     ]
    },
    {
     "name": "stdout",
     "output_type": "stream",
     "text": [
      "[0 -2400 -100 -1200 -2000]\n",
      "Uncertainty Level: \n",
      "Low20\n",
      "k : 10\n",
      "1\n",
      "-12375.720751856577\n",
      "1636.6470453347647\n",
      "20\n",
      "K : 10\n",
      "[0 -2400 -100 -1200 -2000]\n",
      "Uncertainty Level: \n",
      "Original"
     ]
    },
    {
     "name": "stderr",
     "output_type": "stream",
     "text": [
      "\u001b[36m\u001b[1m[ \u001b[22m\u001b[39m\u001b[36m\u001b[1mInfo: \u001b[22m\u001b[39m         490.5995881s: 8 minutes, 10 seconds, 599 milliseconds\n",
      "\u001b[36m\u001b[1m[ \u001b[22m\u001b[39m\u001b[36m\u001b[1mInfo: \u001b[22m\u001b[39m started timer at: 2025-04-11T15:08:59.276\n"
     ]
    },
    {
     "name": "stdout",
     "output_type": "stream",
     "text": [
      "20\n",
      "k : 10\n",
      "1\n",
      "-12442.425575383284\n",
      "1657.7358252885992\n",
      "20\n",
      "K : 10\n",
      "[0 -2400 -100 -1200 -2000]\n",
      "Uncertainty Level: \n",
      "High"
     ]
    },
    {
     "name": "stderr",
     "output_type": "stream",
     "text": [
      "\u001b[36m\u001b[1m[ \u001b[22m\u001b[39m\u001b[36m\u001b[1mInfo: \u001b[22m\u001b[39m         435.6973096s: 7 minutes, 15 seconds, 697 milliseconds\n",
      "\u001b[36m\u001b[1m[ \u001b[22m\u001b[39m\u001b[36m\u001b[1mInfo: \u001b[22m\u001b[39m started timer at: 2025-04-11T15:16:14.991\n"
     ]
    },
    {
     "name": "stdout",
     "output_type": "stream",
     "text": [
      "20\n",
      "k : 10\n",
      "1\n",
      "-12602.642886823765\n",
      "1645.7659102467844\n",
      "20\n",
      "K : 10\n",
      "[0 -2400 -100 -1200 -2000]\n",
      "Uncertainty Level: \n",
      "Very High"
     ]
    },
    {
     "name": "stderr",
     "output_type": "stream",
     "text": [
      "\u001b[36m\u001b[1m[ \u001b[22m\u001b[39m\u001b[36m\u001b[1mInfo: \u001b[22m\u001b[39m         478.9375654s: 7 minutes, 58 seconds, 937 milliseconds\n",
      "\u001b[36m\u001b[1m[ \u001b[22m\u001b[39m\u001b[36m\u001b[1mInfo: \u001b[22m\u001b[39m started timer at: 2025-04-11T15:24:13.938\n"
     ]
    },
    {
     "name": "stdout",
     "output_type": "stream",
     "text": [
      "20\n",
      "k : 10\n",
      "1\n",
      "-12847.548675671991\n",
      "1664.3095868209164\n",
      "20\n",
      "K : "
     ]
    },
    {
     "name": "stderr",
     "output_type": "stream",
     "text": [
      "\u001b[36m\u001b[1m[ \u001b[22m\u001b[39m\u001b[36m\u001b[1mInfo: \u001b[22m\u001b[39m         437.3502576s: 7 minutes, 17 seconds, 350 milliseconds\n",
      "\u001b[36m\u001b[1m[ \u001b[22m\u001b[39m\u001b[36m\u001b[1mInfo: \u001b[22m\u001b[39m started timer at: 2025-04-11T15:31:31.293\n"
     ]
    },
    {
     "name": "stdout",
     "output_type": "stream",
     "text": [
      "10\n",
      "[0 -2400 -100 -1200 -2000]\n",
      "Uncertainty Level: \n",
      "Extreme20\n",
      "k : 10\n",
      "1\n",
      "-13024.831211733106\n",
      "1682.1755598562345\n",
      "25\n",
      "K : 10\n",
      "[0 -2400 -100 -1200 -2000]\n",
      "Uncertainty Level: \n",
      "Low"
     ]
    },
    {
     "name": "stderr",
     "output_type": "stream",
     "text": [
      "\u001b[36m\u001b[1m[ \u001b[22m\u001b[39m\u001b[36m\u001b[1mInfo: \u001b[22m\u001b[39m         415.0898996s: 6 minutes, 55 seconds, 89 milliseconds\n",
      "\u001b[36m\u001b[1m[ \u001b[22m\u001b[39m\u001b[36m\u001b[1mInfo: \u001b[22m\u001b[39m started timer at: 2025-04-11T15:38:26.399\n"
     ]
    },
    {
     "name": "stdout",
     "output_type": "stream",
     "text": [
      "25\n",
      "k : 10\n",
      "1\n",
      "-14749.75000003398\n",
      "1806.6495637594392\n",
      "25\n",
      "K : 10\n",
      "[0 -2400 -100 -1200 -2000]\n",
      "Uncertainty Level: \n",
      "Original"
     ]
    },
    {
     "name": "stderr",
     "output_type": "stream",
     "text": [
      "\u001b[36m\u001b[1m[ \u001b[22m\u001b[39m\u001b[36m\u001b[1mInfo: \u001b[22m\u001b[39m         582.2206832s: 9 minutes, 42 seconds, 220 milliseconds\n",
      "\u001b[36m\u001b[1m[ \u001b[22m\u001b[39m\u001b[36m\u001b[1mInfo: \u001b[22m\u001b[39m started timer at: 2025-04-11T15:48:08.633\n"
     ]
    },
    {
     "name": "stdout",
     "output_type": "stream",
     "text": [
      "25\n",
      "k : 10\n",
      "1\n",
      "-14805.443195636773\n",
      "1770.4513043505076\n",
      "25\n",
      "K : 10\n",
      "[0 -2400 -100 -1200 -2000]\n",
      "Uncertainty Level: \n",
      "High"
     ]
    },
    {
     "name": "stderr",
     "output_type": "stream",
     "text": [
      "\u001b[36m\u001b[1m[ \u001b[22m\u001b[39m\u001b[36m\u001b[1mInfo: \u001b[22m\u001b[39m         551.0259468s: 9 minutes, 11 seconds, 25 milliseconds\n",
      "\u001b[36m\u001b[1m[ \u001b[22m\u001b[39m\u001b[36m\u001b[1mInfo: \u001b[22m\u001b[39m started timer at: 2025-04-11T15:57:19.670\n"
     ]
    },
    {
     "name": "stdout",
     "output_type": "stream",
     "text": [
      "25\n",
      "k : 10\n",
      "1\n",
      "-15095.841461847762\n",
      "1831.3873305453994\n",
      "25\n",
      "K : 10\n",
      "[0 -2400 -100 -1200 -2000]\n",
      "Uncertainty Level: \n",
      "Very High"
     ]
    },
    {
     "name": "stderr",
     "output_type": "stream",
     "text": [
      "\u001b[36m\u001b[1m[ \u001b[22m\u001b[39m\u001b[36m\u001b[1mInfo: \u001b[22m\u001b[39m         500.1035562s: 8 minutes, 20 seconds, 103 milliseconds\n",
      "\u001b[36m\u001b[1m[ \u001b[22m\u001b[39m\u001b[36m\u001b[1mInfo: \u001b[22m\u001b[39m started timer at: 2025-04-11T16:05:39.779\n"
     ]
    },
    {
     "name": "stdout",
     "output_type": "stream",
     "text": [
      "25\n",
      "k : 10\n",
      "1\n",
      "-15273.206345582475\n",
      "1804.115944893766\n",
      "25\n",
      "K : 10\n",
      "[0 -2400 -100 -1200 -2000]\n",
      "Uncertainty Level: \n",
      "Extreme"
     ]
    },
    {
     "name": "stderr",
     "output_type": "stream",
     "text": [
      "\u001b[36m\u001b[1m[ \u001b[22m\u001b[39m\u001b[36m\u001b[1mInfo: \u001b[22m\u001b[39m         538.5920956s: 8 minutes, 58 seconds, 592 milliseconds\n",
      "\u001b[36m\u001b[1m[ \u001b[22m\u001b[39m\u001b[36m\u001b[1mInfo: \u001b[22m\u001b[39m started timer at: 2025-04-11T16:14:38.385\n"
     ]
    },
    {
     "name": "stdout",
     "output_type": "stream",
     "text": [
      "25\n",
      "k : 10\n",
      "1\n",
      "-15484.642701450188\n",
      "1837.9153600178354\n",
      "30\n",
      "K : 14\n",
      "[0 -2400 -100 -1200 -2000]\n",
      "Uncertainty Level: \n",
      "Low"
     ]
    },
    {
     "name": "stderr",
     "output_type": "stream",
     "text": [
      "\u001b[36m\u001b[1m[ \u001b[22m\u001b[39m\u001b[36m\u001b[1mInfo: \u001b[22m\u001b[39m         521.2653064s: 8 minutes, 41 seconds, 265 milliseconds\n",
      "\u001b[36m\u001b[1m[ \u001b[22m\u001b[39m\u001b[36m\u001b[1mInfo: \u001b[22m\u001b[39m started timer at: 2025-04-11T16:23:19.659\n"
     ]
    },
    {
     "name": "stdout",
     "output_type": "stream",
     "text": [
      "30\n",
      "k : 14\n",
      "1\n",
      "-16978.372702896868\n",
      "1877.2866759290903\n",
      "30\n",
      "K : 14\n",
      "[0 -2400 -100 -1200 -2000]\n",
      "Uncertainty Level: \n",
      "Original"
     ]
    },
    {
     "name": "stderr",
     "output_type": "stream",
     "text": [
      "\u001b[36m\u001b[1m[ \u001b[22m\u001b[39m\u001b[36m\u001b[1mInfo: \u001b[22m\u001b[39m         631.5215709s: 10 minutes, 31 seconds, 521 milliseconds\n",
      "\u001b[36m\u001b[1m[ \u001b[22m\u001b[39m\u001b[36m\u001b[1mInfo: \u001b[22m\u001b[39m started timer at: 2025-04-11T16:33:51.189\n"
     ]
    },
    {
     "name": "stdout",
     "output_type": "stream",
     "text": [
      "30\n",
      "k : 14\n",
      "1\n",
      "-16700.698443801688\n",
      "1839.8637579999447\n",
      "30\n",
      "K : 14\n",
      "[0 -2400 -100 -1200 -2000]\n",
      "Uncertainty Level: \n",
      "High"
     ]
    },
    {
     "name": "stderr",
     "output_type": "stream",
     "text": [
      "\u001b[36m\u001b[1m[ \u001b[22m\u001b[39m\u001b[36m\u001b[1mInfo: \u001b[22m\u001b[39m         672.3155671s: 11 minutes, 12 seconds, 315 milliseconds\n",
      "\u001b[36m\u001b[1m[ \u001b[22m\u001b[39m\u001b[36m\u001b[1mInfo: \u001b[22m\u001b[39m started timer at: 2025-04-11T16:45:03.522\n"
     ]
    },
    {
     "name": "stdout",
     "output_type": "stream",
     "text": [
      "30\n",
      "k : 14\n",
      "1\n",
      "-16932.89838702807\n",
      "1846.9827728604378\n",
      "30\n",
      "K : 14\n",
      "[0 -2400 -100 -1200 -2000]\n",
      "Uncertainty Level: \n",
      "Very High"
     ]
    },
    {
     "name": "stderr",
     "output_type": "stream",
     "text": [
      "\u001b[36m\u001b[1m[ \u001b[22m\u001b[39m\u001b[36m\u001b[1mInfo: \u001b[22m\u001b[39m         610.9529026s: 10 minutes, 10 seconds, 952 milliseconds\n",
      "\u001b[36m\u001b[1m[ \u001b[22m\u001b[39m\u001b[36m\u001b[1mInfo: \u001b[22m\u001b[39m started timer at: 2025-04-11T16:55:14.487\n"
     ]
    },
    {
     "name": "stdout",
     "output_type": "stream",
     "text": [
      "30\n",
      "k : 14\n",
      "1\n",
      "-17171.082914495455\n",
      "1830.1066750469622\n",
      "30\n",
      "K : 14\n",
      "[0 -2400 -100 -1200 -2000]\n",
      "Uncertainty Level: \n",
      "Extreme"
     ]
    },
    {
     "name": "stderr",
     "output_type": "stream",
     "text": [
      "\u001b[36m\u001b[1m[ \u001b[22m\u001b[39m\u001b[36m\u001b[1mInfo: \u001b[22m\u001b[39m         634.6294653s: 10 minutes, 34 seconds, 629 milliseconds\n",
      "\u001b[36m\u001b[1m[ \u001b[22m\u001b[39m\u001b[36m\u001b[1mInfo: \u001b[22m\u001b[39m started timer at: 2025-04-11T17:05:49.122\n"
     ]
    },
    {
     "name": "stdout",
     "output_type": "stream",
     "text": [
      "30\n",
      "k : 14\n",
      "1\n",
      "-17406.728670946246\n",
      "1895.1882537628599\n",
      "40\n",
      "K : 18\n",
      "[0 -2400 -100 -1200 -2000]\n",
      "Uncertainty Level: \n",
      "Low"
     ]
    },
    {
     "name": "stderr",
     "output_type": "stream",
     "text": [
      "\u001b[36m\u001b[1m[ \u001b[22m\u001b[39m\u001b[36m\u001b[1mInfo: \u001b[22m\u001b[39m          598.283749s: 9 minutes, 58 seconds, 283 milliseconds\n",
      "\u001b[36m\u001b[1m[ \u001b[22m\u001b[39m\u001b[36m\u001b[1mInfo: \u001b[22m\u001b[39m started timer at: 2025-04-11T17:15:47.410\n"
     ]
    },
    {
     "name": "stdout",
     "output_type": "stream",
     "text": [
      "40\n",
      "k : 18\n",
      "1\n",
      "-22636.31860249937\n",
      "2098.6988138018974\n",
      "40\n",
      "K : 18\n",
      "[0 -2400 -100 -1200 -2000]\n",
      "Uncertainty Level: \n",
      "Original"
     ]
    },
    {
     "name": "stderr",
     "output_type": "stream",
     "text": [
      "\u001b[36m\u001b[1m[ \u001b[22m\u001b[39m\u001b[36m\u001b[1mInfo: \u001b[22m\u001b[39m         712.4577318s: 11 minutes, 52 seconds, 457 milliseconds\n",
      "\u001b[36m\u001b[1m[ \u001b[22m\u001b[39m\u001b[36m\u001b[1mInfo: \u001b[22m\u001b[39m started timer at: 2025-04-11T17:27:39.881\n"
     ]
    },
    {
     "name": "stdout",
     "output_type": "stream",
     "text": [
      "40\n",
      "k : 18\n",
      "1\n",
      "-20885.507882213642\n",
      "1996.531476657147\n",
      "40\n",
      "K : 18\n",
      "[0 -2400 -100 -1200 -2000]\n",
      "Uncertainty Level: \n",
      "High"
     ]
    },
    {
     "name": "stderr",
     "output_type": "stream",
     "text": [
      "\u001b[36m\u001b[1m[ \u001b[22m\u001b[39m\u001b[36m\u001b[1mInfo: \u001b[22m\u001b[39m         744.9832134s: 12 minutes, 24 seconds, 983 milliseconds\n",
      "\u001b[36m\u001b[1m[ \u001b[22m\u001b[39m\u001b[36m\u001b[1mInfo: \u001b[22m\u001b[39m started timer at: 2025-04-11T17:40:04.883\n"
     ]
    },
    {
     "name": "stdout",
     "output_type": "stream",
     "text": [
      "40\n",
      "k : 18\n",
      "1\n",
      "-20991.24876887029\n",
      "1988.1064513096471\n",
      "40\n",
      "K : 18\n",
      "[0 -2400 -100 -1200 -2000]\n",
      "Uncertainty Level: \n",
      "Very High"
     ]
    },
    {
     "name": "stderr",
     "output_type": "stream",
     "text": [
      "\u001b[36m\u001b[1m[ \u001b[22m\u001b[39m\u001b[36m\u001b[1mInfo: \u001b[22m\u001b[39m         668.2093965s: 11 minutes, 8 seconds, 209 milliseconds\n",
      "\u001b[36m\u001b[1m[ \u001b[22m\u001b[39m\u001b[36m\u001b[1mInfo: \u001b[22m\u001b[39m started timer at: 2025-04-11T17:51:13.102\n"
     ]
    },
    {
     "name": "stdout",
     "output_type": "stream",
     "text": [
      "40\n",
      "k : 18\n",
      "1\n",
      "-21280.993914633447\n",
      "2024.672178269773\n",
      "40\n",
      "K : 18\n",
      "[0 -2400 -100 -1200 -2000]\n",
      "Uncertainty Level: \n",
      "Extreme"
     ]
    },
    {
     "name": "stderr",
     "output_type": "stream",
     "text": [
      "\u001b[36m\u001b[1m[ \u001b[22m\u001b[39m\u001b[36m\u001b[1mInfo: \u001b[22m\u001b[39m          696.962408s: 11 minutes, 36 seconds, 962 milliseconds\n",
      "\u001b[36m\u001b[1m[ \u001b[22m\u001b[39m\u001b[36m\u001b[1mInfo: \u001b[22m\u001b[39m started timer at: 2025-04-11T18:02:50.086\n"
     ]
    },
    {
     "name": "stdout",
     "output_type": "stream",
     "text": [
      "40\n",
      "k : 18\n",
      "1\n",
      "-21618.486066059853\n",
      "2064.919408050862\n"
     ]
    },
    {
     "name": "stderr",
     "output_type": "stream",
     "text": [
      "\u001b[36m\u001b[1m[ \u001b[22m\u001b[39m\u001b[36m\u001b[1mInfo: \u001b[22m\u001b[39m         688.4728345s: 11 minutes, 28 seconds, 472 milliseconds\n"
     ]
    },
    {
     "name": "stdout",
     "output_type": "stream",
     "text": [
      "50\n",
      "K : 18\n",
      "[0 -2400 -100 -1200 -2000]\n",
      "Uncertainty Level: \n",
      "Low"
     ]
    },
    {
     "name": "stderr",
     "output_type": "stream",
     "text": [
      "\u001b[36m\u001b[1m[ \u001b[22m\u001b[39m\u001b[36m\u001b[1mInfo: \u001b[22m\u001b[39m started timer at: 2025-04-11T18:14:18.605\n"
     ]
    },
    {
     "name": "stdout",
     "output_type": "stream",
     "text": [
      "50\n",
      "k : 18\n",
      "1\n",
      "-26886.17130543368\n",
      "2283.4616610489043\n",
      "50\n",
      "K : 18\n",
      "["
     ]
    },
    {
     "name": "stderr",
     "output_type": "stream",
     "text": [
      "\u001b[36m\u001b[1m[ \u001b[22m\u001b[39m\u001b[36m\u001b[1mInfo: \u001b[22m\u001b[39m         900.8168628s: 15 minutes, 816 milliseconds\n",
      "\u001b[36m\u001b[1m[ \u001b[22m\u001b[39m\u001b[36m\u001b[1mInfo: \u001b[22m\u001b[39m started timer at: 2025-04-11T18:29:19.425\n"
     ]
    },
    {
     "name": "stdout",
     "output_type": "stream",
     "text": [
      "0 -2400 -100 -1200 -2000]\n",
      "Uncertainty Level: \n",
      "Original50\n",
      "k : 18\n",
      "1\n",
      "-24830.34123673942\n",
      "2209.055370854847\n",
      "50\n",
      "K : 18\n",
      "[0 -2400 -100 -1200 -2000]\n",
      "Uncertainty Level: \n",
      "High"
     ]
    },
    {
     "name": "stderr",
     "output_type": "stream",
     "text": [
      "\u001b[36m\u001b[1m[ \u001b[22m\u001b[39m\u001b[36m\u001b[1mInfo: \u001b[22m\u001b[39m         894.2549239s: 14 minutes, 54 seconds, 254 milliseconds\n",
      "\u001b[36m\u001b[1m[ \u001b[22m\u001b[39m\u001b[36m\u001b[1mInfo: \u001b[22m\u001b[39m started timer at: 2025-04-11T18:44:13.699\n"
     ]
    },
    {
     "name": "stdout",
     "output_type": "stream",
     "text": [
      "50\n",
      "k : 18\n",
      "1\n",
      "-24899.500312623604\n",
      "2182.3494949115334\n",
      "50"
     ]
    },
    {
     "name": "stderr",
     "output_type": "stream",
     "text": [
      "\u001b[36m\u001b[1m[ \u001b[22m\u001b[39m\u001b[36m\u001b[1mInfo: \u001b[22m\u001b[39m         767.0416399s: 12 minutes, 47 seconds, 41 milliseconds\n",
      "\u001b[36m\u001b[1m[ \u001b[22m\u001b[39m\u001b[36m\u001b[1mInfo: \u001b[22m\u001b[39m started timer at: 2025-04-11T18:57:00.761\n"
     ]
    },
    {
     "name": "stdout",
     "output_type": "stream",
     "text": [
      "\n",
      "K : 18\n",
      "[0 -2400 -100 -1200 -2000]\n",
      "Uncertainty Level: \n",
      "Very High50\n",
      "k : 18\n",
      "1\n",
      "-25371.107068907375\n",
      "2238.5981827365017\n",
      "50\n",
      "K : 18\n",
      "[0 -2400 -100 -1200 -2000]\n",
      "Uncertainty Level: \n",
      "Extreme"
     ]
    },
    {
     "name": "stderr",
     "output_type": "stream",
     "text": [
      "\u001b[36m\u001b[1m[ \u001b[22m\u001b[39m\u001b[36m\u001b[1mInfo: \u001b[22m\u001b[39m         878.0286478s: 14 minutes, 38 seconds, 28 milliseconds\n",
      "\u001b[36m\u001b[1m[ \u001b[22m\u001b[39m\u001b[36m\u001b[1mInfo: \u001b[22m\u001b[39m started timer at: 2025-04-11T19:11:38.809\n"
     ]
    },
    {
     "name": "stdout",
     "output_type": "stream",
     "text": [
      "50\n",
      "k : 18\n",
      "1\n",
      "-25836.48497609796\n",
      "2270.551978981659\n",
      "60\n",
      "K : 18\n",
      "[0 -2400 -100 -1200 -2000]\n",
      "Uncertainty Level: \n",
      "Low"
     ]
    },
    {
     "name": "stderr",
     "output_type": "stream",
     "text": [
      "\u001b[36m\u001b[1m[ \u001b[22m\u001b[39m\u001b[36m\u001b[1mInfo: \u001b[22m\u001b[39m         829.8390774s: 13 minutes, 49 seconds, 839 milliseconds\n",
      "\u001b[36m\u001b[1m[ \u001b[22m\u001b[39m\u001b[36m\u001b[1mInfo: \u001b[22m\u001b[39m started timer at: 2025-04-11T19:25:28.669\n"
     ]
    },
    {
     "name": "stdout",
     "output_type": "stream",
     "text": [
      "60\n",
      "k : 18\n",
      "1\n",
      "-30673.426306036745\n",
      "2443.531347662646\n",
      "60\n",
      "K : 18\n",
      "[0 -2400 -100 -1200 -2000]\n",
      "Uncertainty Level: \n",
      "Original"
     ]
    },
    {
     "name": "stderr",
     "output_type": "stream",
     "text": [
      "\u001b[36m\u001b[1m[ \u001b[22m\u001b[39m\u001b[36m\u001b[1mInfo: \u001b[22m\u001b[39m        1068.1568426s: 17 minutes, 48 seconds, 156 milliseconds\n",
      "\u001b[36m\u001b[1m[ \u001b[22m\u001b[39m\u001b[36m\u001b[1mInfo: \u001b[22m\u001b[39m started timer at: 2025-04-11T19:43:16.849\n"
     ]
    },
    {
     "name": "stdout",
     "output_type": "stream",
     "text": [
      "60\n",
      "k : 18\n",
      "1\n",
      "-28955.72041685543\n",
      "2402.637708512321\n",
      "60\n",
      "K : 18\n",
      "[0 -2400 -100 -1200 -2000]\n",
      "Uncertainty Level: \n",
      "High"
     ]
    },
    {
     "name": "stderr",
     "output_type": "stream",
     "text": [
      "\u001b[36m\u001b[1m[ \u001b[22m\u001b[39m\u001b[36m\u001b[1mInfo: \u001b[22m\u001b[39m        1022.7096623s: 17 minutes, 2 seconds, 709 milliseconds\n",
      "\u001b[36m\u001b[1m[ \u001b[22m\u001b[39m\u001b[36m\u001b[1mInfo: \u001b[22m\u001b[39m started timer at: 2025-04-11T20:00:19.570\n"
     ]
    },
    {
     "name": "stdout",
     "output_type": "stream",
     "text": [
      "60\n",
      "k : 18\n",
      "1\n",
      "-28648.972984244334\n",
      "2365.9869187522113\n",
      "60\n",
      "K : 18\n",
      "[0 -2400 -100 -1200 -2000]\n",
      "Uncertainty Level: \n",
      "Very High"
     ]
    },
    {
     "name": "stderr",
     "output_type": "stream",
     "text": [
      "\u001b[36m\u001b[1m[ \u001b[22m\u001b[39m\u001b[36m\u001b[1mInfo: \u001b[22m\u001b[39m         955.3548872s: 15 minutes, 55 seconds, 354 milliseconds\n",
      "\u001b[36m\u001b[1m[ \u001b[22m\u001b[39m\u001b[36m\u001b[1mInfo: \u001b[22m\u001b[39m started timer at: 2025-04-11T20:16:14.964\n"
     ]
    },
    {
     "name": "stdout",
     "output_type": "stream",
     "text": [
      "60\n",
      "k : 18\n",
      "1\n",
      "-29260.78412334087\n",
      "2418.5831391653364\n",
      "60\n",
      "K : 18\n",
      "[0 -2400 -100 -1200 -2000]\n",
      "Uncertainty Level: \n",
      "Extreme"
     ]
    },
    {
     "name": "stderr",
     "output_type": "stream",
     "text": [
      "\u001b[36m\u001b[1m[ \u001b[22m\u001b[39m\u001b[36m\u001b[1mInfo: \u001b[22m\u001b[39m         994.5686602s: 16 minutes, 34 seconds, 568 milliseconds\n",
      "\u001b[36m\u001b[1m[ \u001b[22m\u001b[39m\u001b[36m\u001b[1mInfo: \u001b[22m\u001b[39m started timer at: 2025-04-11T20:32:49.547\n"
     ]
    },
    {
     "name": "stdout",
     "output_type": "stream",
     "text": [
      "60\n",
      "k : 18\n",
      "1\n",
      "-29807.88253768276\n",
      "2433.823087405922\n"
     ]
    },
    {
     "name": "stderr",
     "output_type": "stream",
     "text": [
      "\u001b[36m\u001b[1m[ \u001b[22m\u001b[39m\u001b[36m\u001b[1mInfo: \u001b[22m\u001b[39m        1012.2835098s: 16 minutes, 52 seconds, 283 milliseconds\n"
     ]
    }
   ],
   "source": [
    "using DataFrames\n",
    "# df= DataFrame(u=[],K=[],n=[],s=[],m=[],f=[],p=[],lamb=[],mean=[],std=[])\n",
    "# Define the observation matrices with varying uncertainty levels\n",
    "observation_matrices = [\n",
    "    # Low Uncertainty\n",
    "    [\n",
    "        0.9  0.1  0.0  0.0;\n",
    "        0.05 0.9  0.05 0.0;\n",
    "        0.0  0.1  0.9  0.0;\n",
    "        0.0  0.0  0.0  1.0\n",
    "    ],\n",
    "    # Original Uncertainty\n",
    "    [\n",
    "        0.8  0.2  0.0  0.0;\n",
    "        0.1  0.8  0.1  0.0;\n",
    "        0.0  0.2  0.8  0.0;\n",
    "        0.0  0.0  0.0  1.0\n",
    "    ],\n",
    "    # High Uncertainty\n",
    "    [\n",
    "        0.7  0.3  0.0  0.0;\n",
    "        0.15 0.7  0.15 0.0;\n",
    "        0.0  0.3  0.7  0.0;\n",
    "        0.0  0.0  0.0  1.0\n",
    "    ],\n",
    "    # Very High Uncertainty\n",
    "    [\n",
    "        0.6  0.4  0.0  0.0;\n",
    "        0.2  0.6  0.2  0.0;\n",
    "        0.0  0.4  0.6  0.0;\n",
    "        0.0  0.0  0.0  1.0\n",
    "    ],\n",
    "    # Extreme Uncertainty\n",
    "    [\n",
    "        0.5  0.5  0.0  0.0;\n",
    "        0.25 0.5  0.25 0.0;\n",
    "        0.0  0.5  0.5  0.0;\n",
    "        0.0  0.0  0.0  1.0\n",
    "    ]\n",
    "]\n",
    "\n",
    "# Labels for the observation matrices (useful for output and plotting)\n",
    "uncertainty_labels = [\"Low\", \"Original\", \"High\", \"Very High\", \"Extreme\"]\n",
    "\n",
    "# Modified DataFrame with an additional column for uncertainty level\n",
    "df = DataFrame(uncertainty=[], u=[], K=[], n=[], s=[], m=[], f=[], p=[], lamb=[], mean=[], std=[])\n",
    "\n",
    "\n",
    "cost=[ \n",
    "    [0  -2400   -100    -1200 -2000]\n",
    "\n",
    "] \n",
    "\n",
    "\n",
    "\n",
    "for units in [20, 25, 30, 40, 50, 60]\n",
    "\n",
    "    # for K in 2:2:convert(Int64, floor((units+1)/2)) \n",
    "    global limit = get_fixed_K(units)\n",
    "    global K = limit\n",
    "          \n",
    "    global NumberUnits=convert(Int64,units)\n",
    "    # global limit=convert(Int64,K)\n",
    "    #for lambda in [1,0.9,0.75,0.5,0.1,0.075,0.05,0.01,0.0075,0.005,0.0001]\n",
    "    for lambda in 1:1:1\n",
    "    global lamb=lambda\n",
    "    for c in cost\n",
    "        for obs_idx in 1:length(observation_matrices)\n",
    "            global Observation_matrix = observation_matrices[obs_idx]\n",
    "            global uncertainty_level = uncertainty_labels[obs_idx]\n",
    "        tick()\n",
    "        println(units)  \n",
    "        print(\"K : \")\n",
    "        println(K)\n",
    "        global normal_operation,setup_cost,maintenance_penalty,failure_penalty,system_penalty=c\n",
    "        println(c)  \n",
    "        global NumberUnits=units\n",
    "                println(\"Uncertainty Level: \")\n",
    "                print(uncertainty_level)\n",
    "# POMDP is set up\n",
    "# CONTINUE to solve it and compute expected total rewards\n",
    "policy = solve(solver, multiunit)\n",
    "# Obtain Q function from Value function (given by policy)\n",
    "\n",
    "trials=10000;\n",
    "simsteps = 100;\n",
    "results=zeros(trials)*0.1\n",
    "Threads.@threads  for h in 1:trials\n",
    "# Suppose we start from brand new states and we know it\n",
    "s=repeat(1:1,NumberUnits)\n",
    "# o=s \n",
    "o = rand(Initialobs, NumberUnits)\n",
    "# belief = [[1.0, 0.0, 0.0, 0.0] for j in 1:NumberUnits]\n",
    "belief = [Observation_matrix[1,:] for j in 1:NumberUnits]\n",
    "R_sequence=[] \n",
    "r=repeat(1:1,NumberUnits)*1.0\n",
    "\n",
    "# iteration\n",
    "for k in 1:simsteps\n",
    "    a=decision(policy,o,belief) # system-level decision making: action vector\n",
    "    \n",
    "    # SANITY CHECK\n",
    "    # Update belief for each component individually\n",
    "    #b=update_belief(b, a, o, multiunit) # what is the sequence of observing, updating belief, taking action?\n",
    "    \n",
    "    R_instant = 0.0\n",
    "    global failed_components=0\n",
    "    # When generating new state and new reward, we use true states\n",
    "    for i in 1:NumberUnits # numerate over units\n",
    "        if o[i]==Number_level # failure state is self-announcing\n",
    "            failed_components+=1\n",
    "        end\n",
    "    s[i],r[i],o[i]=generative(s[i],a[i],234) #call generative function for underlying states\n",
    "    # it might be better to use generative function to give o as well\n",
    "    #o[i]=emission(s[i]) # observation generated by new underlying state\n",
    "    belief[i]=update_belief(belief[i], a[i], o[i], multiunit)\n",
    "    # sum up single-component cost\n",
    "    R_instant += r[i]\n",
    "    end\n",
    "    # add setup cost\n",
    "    if (2 in a) ||(3 in a) ||(4 in a)\n",
    "        R_instant += setup_cost\n",
    "    end\n",
    "    # add system failure penalty\n",
    "    if failed_components >= limit\n",
    "        R_instant += system_penalty\n",
    "    end\n",
    "    # record instant reward of current time step\n",
    "    append!(R_sequence, R_instant)\n",
    "end\n",
    "R_discounted=0\n",
    "for k in 1:simsteps\n",
    "    R_discounted=gamma * R_discounted+R_sequence[simsteps-k+1]\n",
    "end\n",
    "results[h]=R_discounted\n",
    "end # end the 10000 trials\n",
    "\n",
    "println(units)\n",
    "            print(\"k : \")\n",
    "            println(limit)\n",
    "println(lambda)\n",
    "\n",
    "println(mean(results))\n",
    "\n",
    "println(std(results))\n",
    "    pushfirst!(df, [\n",
    "        uncertainty_level,  # Add the uncertainty level as the first column\n",
    "        units, \n",
    "        limit, \n",
    "        normal_operation, \n",
    "        setup_cost, \n",
    "        maintenance_penalty, \n",
    "        failure_penalty, \n",
    "        system_penalty, \n",
    "        lamb, \n",
    "        mean(results), \n",
    "        std(results)\n",
    "    ])\n",
    "        \n",
    "tock()\n",
    "\n",
    "                    \n",
    "                    \n",
    "    end\n",
    "    end        \n",
    "end\n",
    "end\n"
   ]
  },
  {
   "cell_type": "code",
   "execution_count": 46,
   "metadata": {
    "scrolled": true
   },
   "outputs": [
    {
     "data": {
      "text/html": [
       "<div><div style = \"float: left;\"><span>30×11 DataFrame</span></div><div style = \"float: right;\"><span style = \"font-style: italic;\">5 rows omitted</span></div><div style = \"clear: both;\"></div></div><div class = \"data-frame\" style = \"overflow-x: scroll;\"><table class = \"data-frame\" style = \"margin-bottom: 6px;\"><thead><tr class = \"header\"><th class = \"rowNumber\" style = \"font-weight: bold; text-align: right;\">Row</th><th style = \"text-align: left;\">uncertainty</th><th style = \"text-align: left;\">u</th><th style = \"text-align: left;\">K</th><th style = \"text-align: left;\">n</th><th style = \"text-align: left;\">s</th><th style = \"text-align: left;\">m</th><th style = \"text-align: left;\">f</th><th style = \"text-align: left;\">p</th><th style = \"text-align: left;\">lamb</th><th style = \"text-align: left;\">mean</th><th style = \"text-align: left;\">std</th></tr><tr class = \"subheader headerLastRow\"><th class = \"rowNumber\" style = \"font-weight: bold; text-align: right;\"></th><th title = \"Any\" style = \"text-align: left;\">Any</th><th title = \"Any\" style = \"text-align: left;\">Any</th><th title = \"Any\" style = \"text-align: left;\">Any</th><th title = \"Any\" style = \"text-align: left;\">Any</th><th title = \"Any\" style = \"text-align: left;\">Any</th><th title = \"Any\" style = \"text-align: left;\">Any</th><th title = \"Any\" style = \"text-align: left;\">Any</th><th title = \"Any\" style = \"text-align: left;\">Any</th><th title = \"Any\" style = \"text-align: left;\">Any</th><th title = \"Any\" style = \"text-align: left;\">Any</th><th title = \"Any\" style = \"text-align: left;\">Any</th></tr></thead><tbody><tr><td class = \"rowNumber\" style = \"font-weight: bold; text-align: right;\">1</td><td style = \"text-align: left;\">Extreme</td><td style = \"text-align: left;\">60</td><td style = \"text-align: left;\">18</td><td style = \"text-align: left;\">0</td><td style = \"text-align: left;\">-2400</td><td style = \"text-align: left;\">-100</td><td style = \"text-align: left;\">-1200</td><td style = \"text-align: left;\">-2000</td><td style = \"text-align: left;\">1</td><td style = \"text-align: left;\">-29807.9</td><td style = \"text-align: left;\">2433.82</td></tr><tr><td class = \"rowNumber\" style = \"font-weight: bold; text-align: right;\">2</td><td style = \"text-align: left;\">Very High</td><td style = \"text-align: left;\">60</td><td style = \"text-align: left;\">18</td><td style = \"text-align: left;\">0</td><td style = \"text-align: left;\">-2400</td><td style = \"text-align: left;\">-100</td><td style = \"text-align: left;\">-1200</td><td style = \"text-align: left;\">-2000</td><td style = \"text-align: left;\">1</td><td style = \"text-align: left;\">-29260.8</td><td style = \"text-align: left;\">2418.58</td></tr><tr><td class = \"rowNumber\" style = \"font-weight: bold; text-align: right;\">3</td><td style = \"text-align: left;\">High</td><td style = \"text-align: left;\">60</td><td style = \"text-align: left;\">18</td><td style = \"text-align: left;\">0</td><td style = \"text-align: left;\">-2400</td><td style = \"text-align: left;\">-100</td><td style = \"text-align: left;\">-1200</td><td style = \"text-align: left;\">-2000</td><td style = \"text-align: left;\">1</td><td style = \"text-align: left;\">-28649.0</td><td style = \"text-align: left;\">2365.99</td></tr><tr><td class = \"rowNumber\" style = \"font-weight: bold; text-align: right;\">4</td><td style = \"text-align: left;\">Original</td><td style = \"text-align: left;\">60</td><td style = \"text-align: left;\">18</td><td style = \"text-align: left;\">0</td><td style = \"text-align: left;\">-2400</td><td style = \"text-align: left;\">-100</td><td style = \"text-align: left;\">-1200</td><td style = \"text-align: left;\">-2000</td><td style = \"text-align: left;\">1</td><td style = \"text-align: left;\">-28955.7</td><td style = \"text-align: left;\">2402.64</td></tr><tr><td class = \"rowNumber\" style = \"font-weight: bold; text-align: right;\">5</td><td style = \"text-align: left;\">Low</td><td style = \"text-align: left;\">60</td><td style = \"text-align: left;\">18</td><td style = \"text-align: left;\">0</td><td style = \"text-align: left;\">-2400</td><td style = \"text-align: left;\">-100</td><td style = \"text-align: left;\">-1200</td><td style = \"text-align: left;\">-2000</td><td style = \"text-align: left;\">1</td><td style = \"text-align: left;\">-30673.4</td><td style = \"text-align: left;\">2443.53</td></tr><tr><td class = \"rowNumber\" style = \"font-weight: bold; text-align: right;\">6</td><td style = \"text-align: left;\">Extreme</td><td style = \"text-align: left;\">50</td><td style = \"text-align: left;\">18</td><td style = \"text-align: left;\">0</td><td style = \"text-align: left;\">-2400</td><td style = \"text-align: left;\">-100</td><td style = \"text-align: left;\">-1200</td><td style = \"text-align: left;\">-2000</td><td style = \"text-align: left;\">1</td><td style = \"text-align: left;\">-25836.5</td><td style = \"text-align: left;\">2270.55</td></tr><tr><td class = \"rowNumber\" style = \"font-weight: bold; text-align: right;\">7</td><td style = \"text-align: left;\">Very High</td><td style = \"text-align: left;\">50</td><td style = \"text-align: left;\">18</td><td style = \"text-align: left;\">0</td><td style = \"text-align: left;\">-2400</td><td style = \"text-align: left;\">-100</td><td style = \"text-align: left;\">-1200</td><td style = \"text-align: left;\">-2000</td><td style = \"text-align: left;\">1</td><td style = \"text-align: left;\">-25371.1</td><td style = \"text-align: left;\">2238.6</td></tr><tr><td class = \"rowNumber\" style = \"font-weight: bold; text-align: right;\">8</td><td style = \"text-align: left;\">High</td><td style = \"text-align: left;\">50</td><td style = \"text-align: left;\">18</td><td style = \"text-align: left;\">0</td><td style = \"text-align: left;\">-2400</td><td style = \"text-align: left;\">-100</td><td style = \"text-align: left;\">-1200</td><td style = \"text-align: left;\">-2000</td><td style = \"text-align: left;\">1</td><td style = \"text-align: left;\">-24899.5</td><td style = \"text-align: left;\">2182.35</td></tr><tr><td class = \"rowNumber\" style = \"font-weight: bold; text-align: right;\">9</td><td style = \"text-align: left;\">Original</td><td style = \"text-align: left;\">50</td><td style = \"text-align: left;\">18</td><td style = \"text-align: left;\">0</td><td style = \"text-align: left;\">-2400</td><td style = \"text-align: left;\">-100</td><td style = \"text-align: left;\">-1200</td><td style = \"text-align: left;\">-2000</td><td style = \"text-align: left;\">1</td><td style = \"text-align: left;\">-24830.3</td><td style = \"text-align: left;\">2209.06</td></tr><tr><td class = \"rowNumber\" style = \"font-weight: bold; text-align: right;\">10</td><td style = \"text-align: left;\">Low</td><td style = \"text-align: left;\">50</td><td style = \"text-align: left;\">18</td><td style = \"text-align: left;\">0</td><td style = \"text-align: left;\">-2400</td><td style = \"text-align: left;\">-100</td><td style = \"text-align: left;\">-1200</td><td style = \"text-align: left;\">-2000</td><td style = \"text-align: left;\">1</td><td style = \"text-align: left;\">-26886.2</td><td style = \"text-align: left;\">2283.46</td></tr><tr><td class = \"rowNumber\" style = \"font-weight: bold; text-align: right;\">11</td><td style = \"text-align: left;\">Extreme</td><td style = \"text-align: left;\">40</td><td style = \"text-align: left;\">18</td><td style = \"text-align: left;\">0</td><td style = \"text-align: left;\">-2400</td><td style = \"text-align: left;\">-100</td><td style = \"text-align: left;\">-1200</td><td style = \"text-align: left;\">-2000</td><td style = \"text-align: left;\">1</td><td style = \"text-align: left;\">-21618.5</td><td style = \"text-align: left;\">2064.92</td></tr><tr><td class = \"rowNumber\" style = \"font-weight: bold; text-align: right;\">12</td><td style = \"text-align: left;\">Very High</td><td style = \"text-align: left;\">40</td><td style = \"text-align: left;\">18</td><td style = \"text-align: left;\">0</td><td style = \"text-align: left;\">-2400</td><td style = \"text-align: left;\">-100</td><td style = \"text-align: left;\">-1200</td><td style = \"text-align: left;\">-2000</td><td style = \"text-align: left;\">1</td><td style = \"text-align: left;\">-21281.0</td><td style = \"text-align: left;\">2024.67</td></tr><tr><td class = \"rowNumber\" style = \"font-weight: bold; text-align: right;\">13</td><td style = \"text-align: left;\">High</td><td style = \"text-align: left;\">40</td><td style = \"text-align: left;\">18</td><td style = \"text-align: left;\">0</td><td style = \"text-align: left;\">-2400</td><td style = \"text-align: left;\">-100</td><td style = \"text-align: left;\">-1200</td><td style = \"text-align: left;\">-2000</td><td style = \"text-align: left;\">1</td><td style = \"text-align: left;\">-20991.2</td><td style = \"text-align: left;\">1988.11</td></tr><tr><td style = \"text-align: right;\">&vellip;</td><td style = \"text-align: right;\">&vellip;</td><td style = \"text-align: right;\">&vellip;</td><td style = \"text-align: right;\">&vellip;</td><td style = \"text-align: right;\">&vellip;</td><td style = \"text-align: right;\">&vellip;</td><td style = \"text-align: right;\">&vellip;</td><td style = \"text-align: right;\">&vellip;</td><td style = \"text-align: right;\">&vellip;</td><td style = \"text-align: right;\">&vellip;</td><td style = \"text-align: right;\">&vellip;</td><td style = \"text-align: right;\">&vellip;</td></tr><tr><td class = \"rowNumber\" style = \"font-weight: bold; text-align: right;\">19</td><td style = \"text-align: left;\">Original</td><td style = \"text-align: left;\">30</td><td style = \"text-align: left;\">14</td><td style = \"text-align: left;\">0</td><td style = \"text-align: left;\">-2400</td><td style = \"text-align: left;\">-100</td><td style = \"text-align: left;\">-1200</td><td style = \"text-align: left;\">-2000</td><td style = \"text-align: left;\">1</td><td style = \"text-align: left;\">-16700.7</td><td style = \"text-align: left;\">1839.86</td></tr><tr><td class = \"rowNumber\" style = \"font-weight: bold; text-align: right;\">20</td><td style = \"text-align: left;\">Low</td><td style = \"text-align: left;\">30</td><td style = \"text-align: left;\">14</td><td style = \"text-align: left;\">0</td><td style = \"text-align: left;\">-2400</td><td style = \"text-align: left;\">-100</td><td style = \"text-align: left;\">-1200</td><td style = \"text-align: left;\">-2000</td><td style = \"text-align: left;\">1</td><td style = \"text-align: left;\">-16978.4</td><td style = \"text-align: left;\">1877.29</td></tr><tr><td class = \"rowNumber\" style = \"font-weight: bold; text-align: right;\">21</td><td style = \"text-align: left;\">Extreme</td><td style = \"text-align: left;\">25</td><td style = \"text-align: left;\">10</td><td style = \"text-align: left;\">0</td><td style = \"text-align: left;\">-2400</td><td style = \"text-align: left;\">-100</td><td style = \"text-align: left;\">-1200</td><td style = \"text-align: left;\">-2000</td><td style = \"text-align: left;\">1</td><td style = \"text-align: left;\">-15484.6</td><td style = \"text-align: left;\">1837.92</td></tr><tr><td class = \"rowNumber\" style = \"font-weight: bold; text-align: right;\">22</td><td style = \"text-align: left;\">Very High</td><td style = \"text-align: left;\">25</td><td style = \"text-align: left;\">10</td><td style = \"text-align: left;\">0</td><td style = \"text-align: left;\">-2400</td><td style = \"text-align: left;\">-100</td><td style = \"text-align: left;\">-1200</td><td style = \"text-align: left;\">-2000</td><td style = \"text-align: left;\">1</td><td style = \"text-align: left;\">-15273.2</td><td style = \"text-align: left;\">1804.12</td></tr><tr><td class = \"rowNumber\" style = \"font-weight: bold; text-align: right;\">23</td><td style = \"text-align: left;\">High</td><td style = \"text-align: left;\">25</td><td style = \"text-align: left;\">10</td><td style = \"text-align: left;\">0</td><td style = \"text-align: left;\">-2400</td><td style = \"text-align: left;\">-100</td><td style = \"text-align: left;\">-1200</td><td style = \"text-align: left;\">-2000</td><td style = \"text-align: left;\">1</td><td style = \"text-align: left;\">-15095.8</td><td style = \"text-align: left;\">1831.39</td></tr><tr><td class = \"rowNumber\" style = \"font-weight: bold; text-align: right;\">24</td><td style = \"text-align: left;\">Original</td><td style = \"text-align: left;\">25</td><td style = \"text-align: left;\">10</td><td style = \"text-align: left;\">0</td><td style = \"text-align: left;\">-2400</td><td style = \"text-align: left;\">-100</td><td style = \"text-align: left;\">-1200</td><td style = \"text-align: left;\">-2000</td><td style = \"text-align: left;\">1</td><td style = \"text-align: left;\">-14805.4</td><td style = \"text-align: left;\">1770.45</td></tr><tr><td class = \"rowNumber\" style = \"font-weight: bold; text-align: right;\">25</td><td style = \"text-align: left;\">Low</td><td style = \"text-align: left;\">25</td><td style = \"text-align: left;\">10</td><td style = \"text-align: left;\">0</td><td style = \"text-align: left;\">-2400</td><td style = \"text-align: left;\">-100</td><td style = \"text-align: left;\">-1200</td><td style = \"text-align: left;\">-2000</td><td style = \"text-align: left;\">1</td><td style = \"text-align: left;\">-14749.8</td><td style = \"text-align: left;\">1806.65</td></tr><tr><td class = \"rowNumber\" style = \"font-weight: bold; text-align: right;\">26</td><td style = \"text-align: left;\">Extreme</td><td style = \"text-align: left;\">20</td><td style = \"text-align: left;\">10</td><td style = \"text-align: left;\">0</td><td style = \"text-align: left;\">-2400</td><td style = \"text-align: left;\">-100</td><td style = \"text-align: left;\">-1200</td><td style = \"text-align: left;\">-2000</td><td style = \"text-align: left;\">1</td><td style = \"text-align: left;\">-13024.8</td><td style = \"text-align: left;\">1682.18</td></tr><tr><td class = \"rowNumber\" style = \"font-weight: bold; text-align: right;\">27</td><td style = \"text-align: left;\">Very High</td><td style = \"text-align: left;\">20</td><td style = \"text-align: left;\">10</td><td style = \"text-align: left;\">0</td><td style = \"text-align: left;\">-2400</td><td style = \"text-align: left;\">-100</td><td style = \"text-align: left;\">-1200</td><td style = \"text-align: left;\">-2000</td><td style = \"text-align: left;\">1</td><td style = \"text-align: left;\">-12847.5</td><td style = \"text-align: left;\">1664.31</td></tr><tr><td class = \"rowNumber\" style = \"font-weight: bold; text-align: right;\">28</td><td style = \"text-align: left;\">High</td><td style = \"text-align: left;\">20</td><td style = \"text-align: left;\">10</td><td style = \"text-align: left;\">0</td><td style = \"text-align: left;\">-2400</td><td style = \"text-align: left;\">-100</td><td style = \"text-align: left;\">-1200</td><td style = \"text-align: left;\">-2000</td><td style = \"text-align: left;\">1</td><td style = \"text-align: left;\">-12602.6</td><td style = \"text-align: left;\">1645.77</td></tr><tr><td class = \"rowNumber\" style = \"font-weight: bold; text-align: right;\">29</td><td style = \"text-align: left;\">Original</td><td style = \"text-align: left;\">20</td><td style = \"text-align: left;\">10</td><td style = \"text-align: left;\">0</td><td style = \"text-align: left;\">-2400</td><td style = \"text-align: left;\">-100</td><td style = \"text-align: left;\">-1200</td><td style = \"text-align: left;\">-2000</td><td style = \"text-align: left;\">1</td><td style = \"text-align: left;\">-12442.4</td><td style = \"text-align: left;\">1657.74</td></tr><tr><td class = \"rowNumber\" style = \"font-weight: bold; text-align: right;\">30</td><td style = \"text-align: left;\">Low</td><td style = \"text-align: left;\">20</td><td style = \"text-align: left;\">10</td><td style = \"text-align: left;\">0</td><td style = \"text-align: left;\">-2400</td><td style = \"text-align: left;\">-100</td><td style = \"text-align: left;\">-1200</td><td style = \"text-align: left;\">-2000</td><td style = \"text-align: left;\">1</td><td style = \"text-align: left;\">-12375.7</td><td style = \"text-align: left;\">1636.65</td></tr></tbody></table></div>"
      ],
      "text/latex": [
       "\\begin{tabular}{r|ccccccccccc}\n",
       "\t& uncertainty & u & K & n & s & m & f & p & lamb & mean & std\\\\\n",
       "\t\\hline\n",
       "\t& Any & Any & Any & Any & Any & Any & Any & Any & Any & Any & Any\\\\\n",
       "\t\\hline\n",
       "\t1 & Extreme & 60 & 18 & 0 & -2400 & -100 & -1200 & -2000 & 1 & -29807.9 & 2433.82 \\\\\n",
       "\t2 & Very High & 60 & 18 & 0 & -2400 & -100 & -1200 & -2000 & 1 & -29260.8 & 2418.58 \\\\\n",
       "\t3 & High & 60 & 18 & 0 & -2400 & -100 & -1200 & -2000 & 1 & -28649.0 & 2365.99 \\\\\n",
       "\t4 & Original & 60 & 18 & 0 & -2400 & -100 & -1200 & -2000 & 1 & -28955.7 & 2402.64 \\\\\n",
       "\t5 & Low & 60 & 18 & 0 & -2400 & -100 & -1200 & -2000 & 1 & -30673.4 & 2443.53 \\\\\n",
       "\t6 & Extreme & 50 & 18 & 0 & -2400 & -100 & -1200 & -2000 & 1 & -25836.5 & 2270.55 \\\\\n",
       "\t7 & Very High & 50 & 18 & 0 & -2400 & -100 & -1200 & -2000 & 1 & -25371.1 & 2238.6 \\\\\n",
       "\t8 & High & 50 & 18 & 0 & -2400 & -100 & -1200 & -2000 & 1 & -24899.5 & 2182.35 \\\\\n",
       "\t9 & Original & 50 & 18 & 0 & -2400 & -100 & -1200 & -2000 & 1 & -24830.3 & 2209.06 \\\\\n",
       "\t10 & Low & 50 & 18 & 0 & -2400 & -100 & -1200 & -2000 & 1 & -26886.2 & 2283.46 \\\\\n",
       "\t11 & Extreme & 40 & 18 & 0 & -2400 & -100 & -1200 & -2000 & 1 & -21618.5 & 2064.92 \\\\\n",
       "\t12 & Very High & 40 & 18 & 0 & -2400 & -100 & -1200 & -2000 & 1 & -21281.0 & 2024.67 \\\\\n",
       "\t13 & High & 40 & 18 & 0 & -2400 & -100 & -1200 & -2000 & 1 & -20991.2 & 1988.11 \\\\\n",
       "\t14 & Original & 40 & 18 & 0 & -2400 & -100 & -1200 & -2000 & 1 & -20885.5 & 1996.53 \\\\\n",
       "\t15 & Low & 40 & 18 & 0 & -2400 & -100 & -1200 & -2000 & 1 & -22636.3 & 2098.7 \\\\\n",
       "\t16 & Extreme & 30 & 14 & 0 & -2400 & -100 & -1200 & -2000 & 1 & -17406.7 & 1895.19 \\\\\n",
       "\t17 & Very High & 30 & 14 & 0 & -2400 & -100 & -1200 & -2000 & 1 & -17171.1 & 1830.11 \\\\\n",
       "\t18 & High & 30 & 14 & 0 & -2400 & -100 & -1200 & -2000 & 1 & -16932.9 & 1846.98 \\\\\n",
       "\t19 & Original & 30 & 14 & 0 & -2400 & -100 & -1200 & -2000 & 1 & -16700.7 & 1839.86 \\\\\n",
       "\t20 & Low & 30 & 14 & 0 & -2400 & -100 & -1200 & -2000 & 1 & -16978.4 & 1877.29 \\\\\n",
       "\t21 & Extreme & 25 & 10 & 0 & -2400 & -100 & -1200 & -2000 & 1 & -15484.6 & 1837.92 \\\\\n",
       "\t22 & Very High & 25 & 10 & 0 & -2400 & -100 & -1200 & -2000 & 1 & -15273.2 & 1804.12 \\\\\n",
       "\t23 & High & 25 & 10 & 0 & -2400 & -100 & -1200 & -2000 & 1 & -15095.8 & 1831.39 \\\\\n",
       "\t24 & Original & 25 & 10 & 0 & -2400 & -100 & -1200 & -2000 & 1 & -14805.4 & 1770.45 \\\\\n",
       "\t25 & Low & 25 & 10 & 0 & -2400 & -100 & -1200 & -2000 & 1 & -14749.8 & 1806.65 \\\\\n",
       "\t26 & Extreme & 20 & 10 & 0 & -2400 & -100 & -1200 & -2000 & 1 & -13024.8 & 1682.18 \\\\\n",
       "\t27 & Very High & 20 & 10 & 0 & -2400 & -100 & -1200 & -2000 & 1 & -12847.5 & 1664.31 \\\\\n",
       "\t28 & High & 20 & 10 & 0 & -2400 & -100 & -1200 & -2000 & 1 & -12602.6 & 1645.77 \\\\\n",
       "\t29 & Original & 20 & 10 & 0 & -2400 & -100 & -1200 & -2000 & 1 & -12442.4 & 1657.74 \\\\\n",
       "\t30 & Low & 20 & 10 & 0 & -2400 & -100 & -1200 & -2000 & 1 & -12375.7 & 1636.65 \\\\\n",
       "\\end{tabular}\n"
      ],
      "text/plain": [
       "\u001b[1m30×11 DataFrame\u001b[0m\n",
       "\u001b[1m Row \u001b[0m│\u001b[1m uncertainty \u001b[0m\u001b[1m u   \u001b[0m\u001b[1m K   \u001b[0m\u001b[1m n   \u001b[0m\u001b[1m s     \u001b[0m\u001b[1m m    \u001b[0m\u001b[1m f     \u001b[0m\u001b[1m p     \u001b[0m\u001b[1m lamb \u001b[0m\u001b[1m mean     \u001b[0m\u001b[1m \u001b[0m ⋯\n",
       "     │\u001b[90m Any         \u001b[0m\u001b[90m Any \u001b[0m\u001b[90m Any \u001b[0m\u001b[90m Any \u001b[0m\u001b[90m Any   \u001b[0m\u001b[90m Any  \u001b[0m\u001b[90m Any   \u001b[0m\u001b[90m Any   \u001b[0m\u001b[90m Any  \u001b[0m\u001b[90m Any      \u001b[0m\u001b[90m \u001b[0m ⋯\n",
       "─────┼──────────────────────────────────────────────────────────────────────────\n",
       "   1 │ Extreme      60   18   0    -2400  -100  -1200  -2000  1     -29807.9   ⋯\n",
       "   2 │ Very High    60   18   0    -2400  -100  -1200  -2000  1     -29260.8\n",
       "   3 │ High         60   18   0    -2400  -100  -1200  -2000  1     -28649.0\n",
       "   4 │ Original     60   18   0    -2400  -100  -1200  -2000  1     -28955.7\n",
       "   5 │ Low          60   18   0    -2400  -100  -1200  -2000  1     -30673.4   ⋯\n",
       "   6 │ Extreme      50   18   0    -2400  -100  -1200  -2000  1     -25836.5\n",
       "   7 │ Very High    50   18   0    -2400  -100  -1200  -2000  1     -25371.1\n",
       "   8 │ High         50   18   0    -2400  -100  -1200  -2000  1     -24899.5\n",
       "   9 │ Original     50   18   0    -2400  -100  -1200  -2000  1     -24830.3   ⋯\n",
       "  10 │ Low          50   18   0    -2400  -100  -1200  -2000  1     -26886.2\n",
       "  11 │ Extreme      40   18   0    -2400  -100  -1200  -2000  1     -21618.5\n",
       "  ⋮  │      ⋮        ⋮    ⋮    ⋮     ⋮     ⋮      ⋮      ⋮     ⋮       ⋮       ⋱\n",
       "  21 │ Extreme      25   10   0    -2400  -100  -1200  -2000  1     -15484.6\n",
       "  22 │ Very High    25   10   0    -2400  -100  -1200  -2000  1     -15273.2   ⋯\n",
       "  23 │ High         25   10   0    -2400  -100  -1200  -2000  1     -15095.8\n",
       "  24 │ Original     25   10   0    -2400  -100  -1200  -2000  1     -14805.4\n",
       "  25 │ Low          25   10   0    -2400  -100  -1200  -2000  1     -14749.8\n",
       "  26 │ Extreme      20   10   0    -2400  -100  -1200  -2000  1     -13024.8   ⋯\n",
       "  27 │ Very High    20   10   0    -2400  -100  -1200  -2000  1     -12847.5\n",
       "  28 │ High         20   10   0    -2400  -100  -1200  -2000  1     -12602.6\n",
       "  29 │ Original     20   10   0    -2400  -100  -1200  -2000  1     -12442.4\n",
       "  30 │ Low          20   10   0    -2400  -100  -1200  -2000  1     -12375.7   ⋯\n",
       "\u001b[36m                                                     1 column and 9 rows omitted\u001b[0m"
      ]
     },
     "execution_count": 46,
     "metadata": {},
     "output_type": "execute_result"
    }
   ],
   "source": [
    "df"
   ]
  },
  {
   "cell_type": "code",
   "execution_count": 47,
   "metadata": {},
   "outputs": [
    {
     "data": {
      "text/plain": [
       "\"CW-POMDP.csv\""
      ]
     },
     "execution_count": 47,
     "metadata": {},
     "output_type": "execute_result"
    }
   ],
   "source": [
    "using CSV\n",
    "CSV.write(\"CW-POMDP.csv\", df)"
   ]
  }
 ],
 "metadata": {
  "kernelspec": {
   "display_name": "Julia 1.11.3",
   "language": "julia",
   "name": "julia-1.11"
  },
  "language_info": {
   "file_extension": ".jl",
   "mimetype": "application/julia",
   "name": "julia",
   "version": "1.11.3"
  },
  "vscode": {
   "interpreter": {
    "hash": "aee8b7b246df8f9039afb4144a1f6fd8d2ca17a180786b69acc140d282b71a49"
   }
  }
 },
 "nbformat": 4,
 "nbformat_minor": 4
}
