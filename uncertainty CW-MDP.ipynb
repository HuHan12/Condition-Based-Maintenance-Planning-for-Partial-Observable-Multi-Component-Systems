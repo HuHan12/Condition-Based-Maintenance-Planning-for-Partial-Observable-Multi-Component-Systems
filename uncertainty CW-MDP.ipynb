{
 "cells": [
  {
   "cell_type": "code",
   "execution_count": 1,
   "metadata": {},
   "outputs": [],
   "source": [
    "# import Pkg;\n",
    "# Pkg.add(\"POMDPSimulators\")\n",
    "# Pkg.add(\"POMDPs\")\n",
    "# Pkg.add(\"POMDPTools\")\n",
    "# Pkg.add(\"QuickPOMDPs\")\n",
    "# Pkg.add(\"MCTS\")\n",
    "# Pkg.add(\"DiscreteValueIteration\")\n",
    "# Pkg.add(\"POMDPModels\")\n",
    "# Pkg.add(\"POMDPPolicies\")\n",
    "# Pkg.add(\"Distributions\")\n",
    "# Pkg.add(\"Combinatorics\")\n",
    "# Pkg.add(\"StaticArrays\")\n",
    "# Pkg.add(\"D3Trees\")\n",
    "# Pkg.add(\"Random\")\n",
    "# Pkg.add(\"FileIO\")\n",
    "# Pkg.add(\"JLD2\")\n",
    "# Pkg.add(\"TickTock\")\n",
    "\n"
   ]
  },
  {
   "cell_type": "code",
   "execution_count": 2,
   "metadata": {},
   "outputs": [],
   "source": [
    "# import Pkg; Pkg.add(\"DataFrames\")"
   ]
  },
  {
   "cell_type": "code",
   "execution_count": 3,
   "metadata": {},
   "outputs": [],
   "source": [
    "using POMDPs, POMDPTools, QuickPOMDPs, MCTS, DiscreteValueIteration, POMDPSimulators, POMDPModels, POMDPPolicies\n",
    "using Distributions, Combinatorics, StaticArrays, D3Trees, Random\n",
    "using FileIO, JLD2, TickTock"
   ]
  },
  {
   "cell_type": "code",
   "execution_count": 4,
   "metadata": {},
   "outputs": [
    {
     "data": {
      "text/plain": [
       "4-element view(::Array{Float64, 3}, 4, :, 2) with eltype Float64:\n",
       " 0.8571\n",
       " 0.1429\n",
       " 0.0\n",
       " 0.0"
      ]
     },
     "execution_count": 4,
     "metadata": {},
     "output_type": "execute_result"
    }
   ],
   "source": [
    "global Number_level = 4;\n",
    "global Action_num = 4;\n",
    "\n",
    "gamma=0.95\n",
    "Transition_matrix = [\n",
    "    0.8571 0.1429 0.0    0.0;\n",
    "    0.0    0.8571 0.1429 0.0;\n",
    "    0.0    0.0    0.8    0.2;\n",
    "    0.0    0.0    0.0    1.0\n",
    "]\n",
    "T=zeros(Number_level,Number_level,3);\n",
    "T[:,:,1].=Transition_matrix;\n",
    "T[:,:,2].=Transition_matrix;\n",
    "for j in 1:Number_level\n",
    "    T[j,:,3].=Transition_matrix[1,:];\n",
    "    end\n",
    "T[Number_level,:,1].=0.0\n",
    "T[Number_level,Number_level,1]=1.0\n",
    "T[Number_level,:,2].=Transition_matrix[1,:]\n"
   ]
  },
  {
   "cell_type": "code",
   "execution_count": 5,
   "metadata": {},
   "outputs": [
    {
     "data": {
      "text/plain": [
       "4×4×3 Array{Float64, 3}:\n",
       "[:, :, 1] =\n",
       " 0.8571  0.1429  0.0     0.0\n",
       " 0.0     0.8571  0.1429  0.0\n",
       " 0.0     0.0     0.8     0.2\n",
       " 0.0     0.0     0.0     1.0\n",
       "\n",
       "[:, :, 2] =\n",
       " 0.8571  0.1429  0.0     0.0\n",
       " 0.0     0.8571  0.1429  0.0\n",
       " 0.0     0.0     0.8     0.2\n",
       " 0.8571  0.1429  0.0     0.0\n",
       "\n",
       "[:, :, 3] =\n",
       " 0.8571  0.1429  0.0  0.0\n",
       " 0.8571  0.1429  0.0  0.0\n",
       " 0.8571  0.1429  0.0  0.0\n",
       " 0.8571  0.1429  0.0  0.0"
      ]
     },
     "execution_count": 5,
     "metadata": {},
     "output_type": "execute_result"
    }
   ],
   "source": [
    "T"
   ]
  },
  {
   "cell_type": "code",
   "execution_count": 6,
   "metadata": {},
   "outputs": [
    {
     "data": {
      "text/plain": [
       "4×4 Matrix{Float64}:\n",
       " 0.8  0.2  0.0  0.0\n",
       " 0.1  0.8  0.1  0.0\n",
       " 0.0  0.2  0.8  0.0\n",
       " 0.0  0.0  0.0  1.0"
      ]
     },
     "execution_count": 6,
     "metadata": {},
     "output_type": "execute_result"
    }
   ],
   "source": [
    "Observation_matrix=[\n",
    "    0.8 0.2 0.0 0.0;\n",
    "    0.1 0.8 0.1 0.0;\n",
    "    0.0 0.2 0.8 0.0;\n",
    "    0.0 0.0 0.0 1.0\n",
    "]\n",
    "# Observation_matrix=[\n",
    "#     0.7 0.2 0.1 0.0;\n",
    "#     0.15 0.7 0.15 0.0;\n",
    "#     0.1 0.2 0.7 0.0;\n",
    "#     0.0 0.0 0.0 1.0\n",
    "# ]\n",
    "\n",
    "# Observation_matrix=[\n",
    "#     0.65  0.25 0.1   0.0;\n",
    "#     0.175 0.65 0.175 0.0;\n",
    "#     0.1   0.25 0.65  0.0;\n",
    "#     0.0   0.0  0.0   1.0\n",
    "# ]"
   ]
  },
  {
   "cell_type": "code",
   "execution_count": 7,
   "metadata": {},
   "outputs": [
    {
     "data": {
      "text/plain": [
       "-2000"
      ]
     },
     "execution_count": 7,
     "metadata": {},
     "output_type": "execute_result"
    }
   ],
   "source": [
    "NumberUnits=20\n",
    "limit=12\n",
    "failure_penalty = -1200.0;\n",
    "maintenance_penalty = -100.0;\n",
    "setup_cost = -300.0;\n",
    "normal_operation = 0.0;\n",
    "system_penalty=-2000"
   ]
  },
  {
   "cell_type": "code",
   "execution_count": 8,
   "metadata": {},
   "outputs": [],
   "source": [
    "# import Pkg; Pkg.add(\"QMDP\")"
   ]
  },
  {
   "cell_type": "code",
   "execution_count": 9,
   "metadata": {},
   "outputs": [],
   "source": [
    "States=Array((1:Number_level))\n",
    "Observations=Array((1:Number_level))\n",
    "\n",
    "using POMDPs, QuickPOMDPs, POMDPModelTools, POMDPSimulators, QMDP"
   ]
  },
  {
   "cell_type": "code",
   "execution_count": 10,
   "metadata": {},
   "outputs": [],
   "source": [
    "# In iterations, belief needs to be \"manually\" updated using updater(policy::Policy), \n",
    "# then call decision function using policy and belief state\n"
   ]
  },
  {
   "cell_type": "code",
   "execution_count": 11,
   "metadata": {},
   "outputs": [
    {
     "data": {
      "text/plain": [
       "               \u001b[97;1mSparseCat distribution\u001b[0m           \n",
       "     \u001b[38;5;8m┌                                        ┐\u001b[0m \n",
       "   1 \u001b[38;5;8m┤\u001b[0m\u001b[38;5;2m■■■■■■■■■■■■■■■■■■■■■■■■■■■■■■■■■■■\u001b[0m 0.8 \u001b[38;5;8m \u001b[0m \u001b[38;5;8m\u001b[0m\n",
       "   2 \u001b[38;5;8m┤\u001b[0m\u001b[38;5;2m■■■■■■■■■\u001b[0m 0.2                           \u001b[38;5;8m \u001b[0m \u001b[38;5;8m\u001b[0m\n",
       "   3 \u001b[38;5;8m┤\u001b[0m\u001b[38;5;2m\u001b[0m 0.0                                    \u001b[38;5;8m \u001b[0m \u001b[38;5;8m\u001b[0m\n",
       "   4 \u001b[38;5;8m┤\u001b[0m\u001b[38;5;2m\u001b[0m 0.0                                    \u001b[38;5;8m \u001b[0m \u001b[38;5;8m\u001b[0m\n",
       "     \u001b[38;5;8m└                                        ┘\u001b[0m "
      ]
     },
     "execution_count": 11,
     "metadata": {},
     "output_type": "execute_result"
    }
   ],
   "source": [
    "SparseCat(Observations, Observation_matrix[1,:])"
   ]
  },
  {
   "cell_type": "code",
   "execution_count": 12,
   "metadata": {},
   "outputs": [
    {
     "data": {
      "text/plain": [
       "4-element Vector{Float64}:\n",
       " 1.0\n",
       " 0.0\n",
       " 0.0\n",
       " 0.0"
      ]
     },
     "execution_count": 12,
     "metadata": {},
     "output_type": "execute_result"
    }
   ],
   "source": [
    "Initialstates = zeros(Number_level)\n",
    "Initialstates[1]=1.0\n",
    "Initialstates"
   ]
  },
  {
   "cell_type": "code",
   "execution_count": 13,
   "metadata": {},
   "outputs": [
    {
     "data": {
      "text/plain": [
       "               \u001b[97;1mSparseCat distribution\u001b[0m           \n",
       "     \u001b[38;5;8m┌                                        ┐\u001b[0m \n",
       "   1 \u001b[38;5;8m┤\u001b[0m\u001b[38;5;2m■■■■■■■■■■■■■■■■■■■■■■■■■■■■■■■■■■■\u001b[0m 1.0 \u001b[38;5;8m \u001b[0m \u001b[38;5;8m\u001b[0m\n",
       "   2 \u001b[38;5;8m┤\u001b[0m\u001b[38;5;2m\u001b[0m 0.0                                    \u001b[38;5;8m \u001b[0m \u001b[38;5;8m\u001b[0m\n",
       "   3 \u001b[38;5;8m┤\u001b[0m\u001b[38;5;2m\u001b[0m 0.0                                    \u001b[38;5;8m \u001b[0m \u001b[38;5;8m\u001b[0m\n",
       "   4 \u001b[38;5;8m┤\u001b[0m\u001b[38;5;2m\u001b[0m 0.0                                    \u001b[38;5;8m \u001b[0m \u001b[38;5;8m\u001b[0m\n",
       "     \u001b[38;5;8m└                                        ┘\u001b[0m "
      ]
     },
     "execution_count": 13,
     "metadata": {},
     "output_type": "execute_result"
    }
   ],
   "source": [
    "Initialstate = SparseCat(States, Initialstates)"
   ]
  },
  {
   "cell_type": "code",
   "execution_count": 14,
   "metadata": {},
   "outputs": [],
   "source": [
    "# Initialobss = zeros(Number_level)\n",
    "# Initialobss[1]=1.0\n",
    "# Initialobss"
   ]
  },
  {
   "cell_type": "code",
   "execution_count": 15,
   "metadata": {},
   "outputs": [
    {
     "data": {
      "text/plain": [
       "               \u001b[97;1mSparseCat distribution\u001b[0m           \n",
       "     \u001b[38;5;8m┌                                        ┐\u001b[0m \n",
       "   1 \u001b[38;5;8m┤\u001b[0m\u001b[38;5;2m■■■■■■■■■■■■■■■■■■■■■■■■■■■■■■■■■■■\u001b[0m 0.8 \u001b[38;5;8m \u001b[0m \u001b[38;5;8m\u001b[0m\n",
       "   2 \u001b[38;5;8m┤\u001b[0m\u001b[38;5;2m■■■■■■■■■\u001b[0m 0.2                           \u001b[38;5;8m \u001b[0m \u001b[38;5;8m\u001b[0m\n",
       "   3 \u001b[38;5;8m┤\u001b[0m\u001b[38;5;2m\u001b[0m 0.0                                    \u001b[38;5;8m \u001b[0m \u001b[38;5;8m\u001b[0m\n",
       "   4 \u001b[38;5;8m┤\u001b[0m\u001b[38;5;2m\u001b[0m 0.0                                    \u001b[38;5;8m \u001b[0m \u001b[38;5;8m\u001b[0m\n",
       "     \u001b[38;5;8m└                                        ┘\u001b[0m "
      ]
     },
     "execution_count": 15,
     "metadata": {},
     "output_type": "execute_result"
    }
   ],
   "source": [
    "# Initialobs = SparseCat(States, Initialobss)\n",
    "Initialobs = SparseCat(Observations, Observation_matrix[1,:])"
   ]
  },
  {
   "cell_type": "code",
   "execution_count": 16,
   "metadata": {},
   "outputs": [
    {
     "data": {
      "text/plain": [
       "QuickPOMDP{Base.UUID(\"5debbec2-f653-42ca-bffc-89021d95a8d2\"), Int64, Int64, Int64, @NamedTuple{stateindex::Dict{Int64, Int64}, isterminal::Bool, obsindex::Dict{Int64, Int64}, states::Vector{Int64}, observations::Vector{Int64}, discount::Float64, initialobs::SparseCat{Vector{Int64}, Vector{Float64}}, actions::Vector{Int64}, observation::var\"#2#5\", actionindex::Dict{Int64, Int64}, initialstate::SparseCat{Vector{Int64}, Vector{Float64}}, transition::var\"#1#4\", reward::var\"#3#6\"}}((stateindex = Dict(4 => 4, 2 => 2, 3 => 3, 1 => 1), isterminal = false, obsindex = Dict(4 => 4, 2 => 2, 3 => 3, 1 => 1), states = [1, 2, 3, 4], observations = [1, 2, 3, 4], discount = 0.95, initialobs = SparseCat{Vector{Int64}, Vector{Float64}}([1, 2, 3, 4], [0.8, 0.2, 0.0, 0.0]), actions = [1, 2, 3, 4], observation = var\"#2#5\"(), actionindex = Dict(4 => 4, 2 => 2, 3 => 3, 1 => 1), initialstate = SparseCat{Vector{Int64}, Vector{Float64}}([1, 2, 3, 4], [1.0, 0.0, 0.0, 0.0]), transition = var\"#1#4\"(), reward = var\"#3#6\"()))"
      ]
     },
     "execution_count": 16,
     "metadata": {},
     "output_type": "execute_result"
    }
   ],
   "source": [
    "multiunit = QuickPOMDP(\n",
    "    states=States,\n",
    "    actions=Array((1:Action_num)),\n",
    "    observations = Observations,\n",
    "    #initialstate = repeat(1:1,NumberUnits),\n",
    "    initialstate = Initialstate,\n",
    "    #initialobs = repeat(1:1,NumberUnits),\n",
    "    initialobs = Initialobs,\n",
    "    discount = gamma,\n",
    "\n",
    "    transition = function(s,a)\n",
    "        if a == 1 # NO REPAIR, NO SYSTEM FAILURE\n",
    "            #crd = Categorical(T[s,:,1]);\n",
    "            #s = rand(crd);\n",
    "            return SparseCat(States, T[s,:,1])\n",
    "        end\n",
    "        if a == 2 # UNIT NOT REPAIRED UNLESS FAILURE BUT REPAIR IN SYSTEM\n",
    "            if s == Number_level\n",
    "                s = 1\n",
    "                #crd = Categorical(T[s,:,2]);\n",
    "                #s = rand(crd);\n",
    "                return SparseCat(States, T[s,:,2])\n",
    "            else\n",
    "                #crd = Categorical(T[s,:,2]);\n",
    "                #s = rand(crd);\n",
    "                return SparseCat(States, T[s,:,2])\n",
    "            end\n",
    "        end\n",
    "        if a == 3 # UNIT REPAIRED AND MAINTENANCE IN SYSTEM, NO SYSTEM FAILURE\n",
    "            if s==Number_level\n",
    "                s=1\n",
    "                #crd = Categorical(T[s,:,3]);\n",
    "                #s = rand(crd);\n",
    "                return SparseCat(States, T[s,:,3])\n",
    "            else\n",
    "                s = 1\n",
    "                #crd = Categorical(T[s,:,3]);\n",
    "                #s = rand(crd);\n",
    "                return SparseCat(States, T[s,:,3])\n",
    "            end\n",
    "        end\n",
    "        if a == 4 # UNIT REPAIRED AND MAINTENANCE IN SYSTEM,SYSTEM FAILED\n",
    "            if s==Number_level\n",
    "                s=1\n",
    "                #crd = Categorical(T[s,:,3]);\n",
    "                #s = rand(crd);\n",
    "                return SparseCat(States, T[s,:,3])\n",
    "            else\n",
    "                s = 1\n",
    "                #crd = Categorical(T[s,:,3]);\n",
    "                #s = rand(crd);\n",
    "                return SparseCat(States, T[s,:,3])\n",
    "            end\n",
    "        end\n",
    "    end,\n",
    "\n",
    "    observation = function(a,s)\n",
    "        return SparseCat(Observations, Observation_matrix[s,:])\n",
    "    end,\n",
    "        \n",
    "    reward = function (s, a)\n",
    "        if a == 1 # NO REPAIR, NO SYSTEM FAILURE\n",
    "            if s == Number_level\n",
    "                return system_penalty/(limit)\n",
    "            else\n",
    "                return normal_operation\n",
    "            end\n",
    "            #crd = Categorical(T[s,:,1]);\n",
    "            #s = rand(crd);\n",
    "        end\n",
    "        if a == 2 # UNIT NOT REPAIRED UNLESS FAILURE BUT REPAIR IN SYSTEM, NO SYSTEM FAILURE PENALTY\n",
    "            if s == Number_level\n",
    "                #s = 1\n",
    "                #crd = Categorical(T[s,:,2]);\n",
    "                #s = rand(crd);\n",
    "                return failure_penalty +  setup_cost/NumberUnits + normal_operation\n",
    "            else\n",
    "                # Here it doesn't matter whether systems fails or not, since C_b does not apply to functional units\n",
    "                return normal_operation +  setup_cost/NumberUnits\n",
    "            end\n",
    "        end\n",
    "        if a == 3 # UNIT REPAIRED AND MAINTENANCE IN SYSTEM, NO SYSTEM FAILURE PENALTY\n",
    "            if s==Number_level\n",
    "                #s=1\n",
    "                #crd = Categorical(T[s,:,3]);\n",
    "                #s = rand(crd);\n",
    "                return failure_penalty +  setup_cost/NumberUnits + normal_operation\n",
    "            else\n",
    "                # Here it doesn't matter whether systems fails or not, since C_b does not apply to functional units\n",
    "                return maintenance_penalty +  setup_cost/NumberUnits+ normal_operation \n",
    "            end\n",
    "        end\n",
    "        if a == 4 # UNIT REPAIRED AND MAINTENANCE IN SYSTEM,SYSTEM FAILED\n",
    "            if s==Number_level\n",
    "                #s=1\n",
    "                #crd = Categorical(T[s,:,3]);\n",
    "                #s = rand(crd);\n",
    "                return failure_penalty +  setup_cost/NumberUnits + normal_operation + system_penalty/(limit)\n",
    "            else\n",
    "                #s = 1\n",
    "                #crd = Categorical(T[s,:,3]);\n",
    "                #s = rand(crd);\n",
    "                return maintenance_penalty +  setup_cost/NumberUnits + normal_operation\n",
    "            end\n",
    "        end\n",
    "    end,\n",
    "    \n",
    "\n",
    ")"
   ]
  },
  {
   "cell_type": "code",
   "execution_count": 17,
   "metadata": {},
   "outputs": [
    {
     "data": {
      "text/plain": [
       "               \u001b[97;1mSparseCat distribution\u001b[0m           \n",
       "     \u001b[38;5;8m┌                                        ┐\u001b[0m \n",
       "   1 \u001b[38;5;8m┤\u001b[0m\u001b[38;5;2m■■■■■■■■■■■■■■■■■■■■■■■■■■■■■■■■■■■\u001b[0m 1.0 \u001b[38;5;8m \u001b[0m \u001b[38;5;8m\u001b[0m\n",
       "   2 \u001b[38;5;8m┤\u001b[0m\u001b[38;5;2m\u001b[0m 0.0                                    \u001b[38;5;8m \u001b[0m \u001b[38;5;8m\u001b[0m\n",
       "   3 \u001b[38;5;8m┤\u001b[0m\u001b[38;5;2m\u001b[0m 0.0                                    \u001b[38;5;8m \u001b[0m \u001b[38;5;8m\u001b[0m\n",
       "   4 \u001b[38;5;8m┤\u001b[0m\u001b[38;5;2m\u001b[0m 0.0                                    \u001b[38;5;8m \u001b[0m \u001b[38;5;8m\u001b[0m\n",
       "     \u001b[38;5;8m└                                        ┘\u001b[0m "
      ]
     },
     "execution_count": 17,
     "metadata": {},
     "output_type": "execute_result"
    }
   ],
   "source": [
    "initialstate(multiunit)"
   ]
  },
  {
   "cell_type": "code",
   "execution_count": 18,
   "metadata": {},
   "outputs": [],
   "source": [
    "# import Pkg; Pkg.add(\"NativeSARSOP\")\n",
    "using POMDPs\n",
    "# using NativeSARSOP\n",
    "using POMDPModels\n",
    "\n"
   ]
  },
  {
   "cell_type": "code",
   "execution_count": 19,
   "metadata": {},
   "outputs": [
    {
     "data": {
      "text/plain": [
       "4-element Vector{Int64}:\n",
       " 1\n",
       " 2\n",
       " 3\n",
       " 4"
      ]
     },
     "execution_count": 19,
     "metadata": {},
     "output_type": "execute_result"
    }
   ],
   "source": [
    "ordered_states(multiunit)"
   ]
  },
  {
   "cell_type": "code",
   "execution_count": 20,
   "metadata": {},
   "outputs": [
    {
     "data": {
      "text/plain": [
       "4"
      ]
     },
     "execution_count": 20,
     "metadata": {},
     "output_type": "execute_result"
    }
   ],
   "source": [
    "length(states(multiunit))"
   ]
  },
  {
   "cell_type": "code",
   "execution_count": 21,
   "metadata": {},
   "outputs": [],
   "source": [
    "#import Pkg; Pkg.add(\"IncrementalPruning\")"
   ]
  },
  {
   "cell_type": "code",
   "execution_count": 22,
   "metadata": {},
   "outputs": [],
   "source": [
    "# using IncrementalPruning\n",
    "# solver = PruneSolver() # set the solver\n",
    "\n",
    "# policy = solve(solver, multiunit)"
   ]
  },
  {
   "cell_type": "code",
   "execution_count": 23,
   "metadata": {},
   "outputs": [],
   "source": [
    "#value(policy,[0.1,0.8,0.1,0.0])"
   ]
  },
  {
   "cell_type": "code",
   "execution_count": 24,
   "metadata": {},
   "outputs": [],
   "source": [
    "# solver = SARSOPSolver()\n",
    "# policy = solve(solver, multiunit)\n",
    "# # Calling observation"
   ]
  },
  {
   "cell_type": "code",
   "execution_count": 25,
   "metadata": {},
   "outputs": [],
   "source": [
    "# value(policy,[0.0,0.0,0.0,1.0])"
   ]
  },
  {
   "cell_type": "code",
   "execution_count": 26,
   "metadata": {},
   "outputs": [],
   "source": [
    "# value(policy,[0.1,0.1,0.8,0.0])"
   ]
  },
  {
   "cell_type": "code",
   "execution_count": 27,
   "metadata": {},
   "outputs": [
    {
     "data": {
      "text/plain": [
       "4-element Vector{Float64}:\n",
       " 0.0\n",
       " 0.2\n",
       " 0.8\n",
       " 0.0"
      ]
     },
     "execution_count": 27,
     "metadata": {},
     "output_type": "execute_result"
    }
   ],
   "source": [
    "b=[[0.0, 0.2, 0.8, 0.0] for j in 1:NumberUnits]\n",
    "belief=b[1]\n",
    "# value(policy,belief)"
   ]
  },
  {
   "cell_type": "code",
   "execution_count": 28,
   "metadata": {},
   "outputs": [
    {
     "data": {
      "text/plain": [
       "               \u001b[97;1mSparseCat distribution\u001b[0m           \n",
       "     \u001b[38;5;8m┌                                        ┐\u001b[0m \n",
       "   1 \u001b[38;5;8m┤\u001b[0m\u001b[38;5;2m\u001b[0m 0.0                                    \u001b[38;5;8m \u001b[0m \u001b[38;5;8m\u001b[0m\n",
       "   2 \u001b[38;5;8m┤\u001b[0m\u001b[38;5;2m\u001b[0m 0.0                                    \u001b[38;5;8m \u001b[0m \u001b[38;5;8m\u001b[0m\n",
       "   3 \u001b[38;5;8m┤\u001b[0m\u001b[38;5;2m■■■■■■■■■■■■■■■■■■■■■■■■■■■■■■■■■■■\u001b[0m 0.8 \u001b[38;5;8m \u001b[0m \u001b[38;5;8m\u001b[0m\n",
       "   4 \u001b[38;5;8m┤\u001b[0m\u001b[38;5;2m■■■■■■■■■\u001b[0m 0.2                           \u001b[38;5;8m \u001b[0m \u001b[38;5;8m\u001b[0m\n",
       "     \u001b[38;5;8m└                                        ┘\u001b[0m "
      ]
     },
     "execution_count": 28,
     "metadata": {},
     "output_type": "execute_result"
    }
   ],
   "source": [
    "#transition function: transition(pomdp, state, action)\n",
    "#return the transition distribution form the current state-action pair\n",
    "transition(multiunit, 3,1)"
   ]
  },
  {
   "cell_type": "code",
   "execution_count": 29,
   "metadata": {},
   "outputs": [
    {
     "data": {
      "text/plain": [
       "               \u001b[97;1mSparseCat distribution\u001b[0m           \n",
       "     \u001b[38;5;8m┌                                        ┐\u001b[0m \n",
       "   1 \u001b[38;5;8m┤\u001b[0m\u001b[38;5;2m■■■■\u001b[0m 0.1                                \u001b[38;5;8m \u001b[0m \u001b[38;5;8m\u001b[0m\n",
       "   2 \u001b[38;5;8m┤\u001b[0m\u001b[38;5;2m■■■■■■■■■■■■■■■■■■■■■■■■■■■■■■■■■■■\u001b[0m 0.8 \u001b[38;5;8m \u001b[0m \u001b[38;5;8m\u001b[0m\n",
       "   3 \u001b[38;5;8m┤\u001b[0m\u001b[38;5;2m■■■■\u001b[0m 0.1                                \u001b[38;5;8m \u001b[0m \u001b[38;5;8m\u001b[0m\n",
       "   4 \u001b[38;5;8m┤\u001b[0m\u001b[38;5;2m\u001b[0m 0.0                                    \u001b[38;5;8m \u001b[0m \u001b[38;5;8m\u001b[0m\n",
       "     \u001b[38;5;8m└                                        ┘\u001b[0m "
      ]
     },
     "execution_count": 29,
     "metadata": {},
     "output_type": "execute_result"
    }
   ],
   "source": [
    "# observation function: observation(pomdp, action,statep)\n",
    "# return the observation distribution\n",
    "POMDPs.observation(multiunit,1,2)"
   ]
  },
  {
   "cell_type": "code",
   "execution_count": 30,
   "metadata": {},
   "outputs": [
    {
     "data": {
      "text/plain": [
       "-15.0"
      ]
     },
     "execution_count": 30,
     "metadata": {},
     "output_type": "execute_result"
    }
   ],
   "source": [
    "reward(multiunit, 2,2)"
   ]
  },
  {
   "cell_type": "code",
   "execution_count": 31,
   "metadata": {},
   "outputs": [
    {
     "data": {
      "text/plain": [
       "               \u001b[97;1mSparseCat distribution\u001b[0m           \n",
       "     \u001b[38;5;8m┌                                        ┐\u001b[0m \n",
       "   1 \u001b[38;5;8m┤\u001b[0m\u001b[38;5;2m■■■■■■■■■■■■■■■■■■■■■■■■■■■■■■■■■■■\u001b[0m 0.8 \u001b[38;5;8m \u001b[0m \u001b[38;5;8m\u001b[0m\n",
       "   2 \u001b[38;5;8m┤\u001b[0m\u001b[38;5;2m■■■■■■■■■\u001b[0m 0.2                           \u001b[38;5;8m \u001b[0m \u001b[38;5;8m\u001b[0m\n",
       "   3 \u001b[38;5;8m┤\u001b[0m\u001b[38;5;2m\u001b[0m 0.0                                    \u001b[38;5;8m \u001b[0m \u001b[38;5;8m\u001b[0m\n",
       "   4 \u001b[38;5;8m┤\u001b[0m\u001b[38;5;2m\u001b[0m 0.0                                    \u001b[38;5;8m \u001b[0m \u001b[38;5;8m\u001b[0m\n",
       "     \u001b[38;5;8m└                                        ┘\u001b[0m "
      ]
     },
     "execution_count": 31,
     "metadata": {},
     "output_type": "execute_result"
    }
   ],
   "source": [
    "s=1\n",
    "new_a = 1\n",
    "p_observation = POMDPs.observation(multiunit,new_a,s)\n"
   ]
  },
  {
   "cell_type": "code",
   "execution_count": 32,
   "metadata": {},
   "outputs": [
    {
     "data": {
      "text/plain": [
       "0.2"
      ]
     },
     "execution_count": 32,
     "metadata": {},
     "output_type": "execute_result"
    }
   ],
   "source": [
    "# use pdf function to get prob of certain entry\n",
    "new_obs=2\n",
    "pdf(p_observation,new_obs)"
   ]
  },
  {
   "cell_type": "code",
   "execution_count": 33,
   "metadata": {},
   "outputs": [
    {
     "data": {
      "text/plain": [
       "generative (generic function with 2 methods)"
      ]
     },
     "execution_count": 33,
     "metadata": {},
     "output_type": "execute_result"
    }
   ],
   "source": [
    "function generative(s,a,rng=23) # calculate TRUE COMPONENT-LEVEL reward r_i(s_i,a_i) and get evolving states\n",
    "    if a==1 # No maintenance in the system, no system failure\n",
    "        crd=Categorical(T[s,:,1])\n",
    "        s=rand(crd)\n",
    "        r=normal_operation\n",
    "        obs_distribution = SparseCat(Observations, Observation_matrix[s,:])\n",
    "        obs = rand(obs_distribution)\n",
    "        return (sp=s,r=r,o=obs)\n",
    "    end\n",
    "\n",
    "    if a==2 # Maintenance occurs in the system, no system failure, corrective maintenance for the unit\n",
    "        if s==Number_level\n",
    "            crd=Categorical(T[1,:,2])\n",
    "            s=rand(crd)\n",
    "            r=failure_penalty  + normal_operation\n",
    "            obs_distribution = SparseCat(Observations, Observation_matrix[s,:])\n",
    "            obs = rand(obs_distribution)\n",
    "            return (sp=s,r=r,o=obs)\n",
    "        else\n",
    "            crd = Categorical(T[s,:,2])\n",
    "            s = rand(crd)\n",
    "            r = normal_operation\n",
    "            obs_distribution = SparseCat(Observations, Observation_matrix[s,:])\n",
    "            obs = rand(obs_distribution)\n",
    "            return (sp=s,r=r,o=obs)\n",
    "        end\n",
    "    end\n",
    "\n",
    "    if a==3 # Maintenance occurs in the system, no system failure, preventive maintenance for the unit\n",
    "        if s==Number_level\n",
    "            crd=Categorical(T[1,:,3])\n",
    "            s=rand(crd)\n",
    "            r=failure_penalty  + normal_operation\n",
    "            obs_distribution = SparseCat(Observations, Observation_matrix[s,:])\n",
    "            obs = rand(obs_distribution)\n",
    "            return (sp=s,r=r,o=obs)\n",
    "        else\n",
    "            crd = Categorical(T[s,:,3])\n",
    "            s = rand(crd)\n",
    "            r = maintenance_penalty+normal_operation\n",
    "            obs_distribution = SparseCat(Observations, Observation_matrix[s,:])\n",
    "            obs = rand(obs_distribution)\n",
    "            return (sp=s,r=r,o=obs)\n",
    "        end\n",
    "    end\n",
    "\n",
    "    if a==4 # maintenance in system, system failure occurs, preventive replacement for the unit\n",
    "        if s==Number_level\n",
    "            crd = Categorical(T[1,:,3])\n",
    "            s = rand(crd)\n",
    "            r=failure_penalty+ normal_operation\n",
    "            obs_distribution = SparseCat(Observations, Observation_matrix[s,:])\n",
    "            obs = rand(obs_distribution)\n",
    "            return (sp=s,r=r,o=obs)\n",
    "        else\n",
    "            r = maintenance_penalty+normal_operation\n",
    "            crd = Categorical(T[1,:,3])\n",
    "            s = rand(crd)\n",
    "            obs_distribution = SparseCat(Observations, Observation_matrix[s,:])\n",
    "            obs = rand(obs_distribution)\n",
    "            return (sp=s,r=r,o=obs)\n",
    "        end\n",
    "    end\n",
    "end\n",
    "\n",
    "        \n",
    "        \n",
    "    "
   ]
  },
  {
   "cell_type": "markdown",
   "metadata": {},
   "source": [
    "#### Belief updater"
   ]
  },
  {
   "cell_type": "markdown",
   "metadata": {},
   "source": [
    "$$b'(s_j)=P(s_j\\vert o,a,b)=\\dfrac{P(o\\vert s_j,a)\\sum_{s_i\\in \\mathcal{S}}P(s_j\\vert s_i,a)b(s_i)}{\\sum_{s_j\\in \\mathcal{S}}P(o\\vert s_j,a)\\sum_{s_i\\in \\mathcal{S}}P(s_j\\vert s_i,a)b(s_i)}$$"
   ]
  },
  {
   "cell_type": "code",
   "execution_count": 34,
   "metadata": {},
   "outputs": [
    {
     "data": {
      "text/plain": [
       "update_belief (generic function with 1 method)"
      ]
     },
     "execution_count": 34,
     "metadata": {},
     "output_type": "execute_result"
    }
   ],
   "source": [
    "function update_belief(b,a,o,pomdp) \n",
    "    # NOTE: \n",
    "    # in input, b is belief from last epoch (before a)\n",
    "    # a is the last action we took\n",
    "    # o is the new observation after a\n",
    "    updated_belief = zeros(length(b))\n",
    "    if o==4\n",
    "        updated_belief[length(states(pomdp))]=1.0\n",
    "        return updated_belief\n",
    "    end\n",
    "    #if ((a==2)&&(o==4)) ||(a==3) ||(a==4)\n",
    "    #if (a==2) ||(a==3) ||(a==4)\n",
    "    if (a==3) ||(a==4)\n",
    "    # We assume perfect maintenance and it is know to decision maker(belief updater)\n",
    "        for sp in 1: length(states(pomdp))\n",
    "            p_observation = POMDPs.observation(pomdp,a,sp) \n",
    "            p_obs = pdf(p_observation,o)\n",
    "            # Transition probability distribution is T[1,:,1]\n",
    "            p_trans = pdf(transition(pomdp,1,1),sp) \n",
    "            updated_belief[sp] = p_obs * p_trans\n",
    "        end\n",
    "        updated_belief ./= sum(updated_belief)\n",
    "        return updated_belief\n",
    "    end\n",
    "    \n",
    "    for sp in 1:length(states(pomdp)) \n",
    "        p_observation = POMDPs.observation(pomdp,a,sp) \n",
    "        p_obs = pdf(p_observation,o)\n",
    "        p_trans = 0.0\n",
    "        for s in 1:length(states(pomdp))\n",
    "            #trans = transition(pomdp, s,a)\n",
    "            #p_trans += pdf(transition(pomdp, s,a),sp) * pdf(b, s)\n",
    "            # p_trans += T[s,sp,a] * pdf(b, s)\n",
    "            p_trans += pdf(transition(pomdp,s,a),sp) * b[s]\n",
    "        end\n",
    "        updated_belief[sp] = p_obs * p_trans\n",
    "    end\n",
    "        # Normalize the updated belief state to ensure it sums up to 1\n",
    "        updated_belief ./= sum(updated_belief)\n",
    "    return updated_belief\n",
    "end\n"
   ]
  },
  {
   "cell_type": "markdown",
   "metadata": {},
   "source": [
    "### Value Iteration"
   ]
  },
  {
   "cell_type": "code",
   "execution_count": 35,
   "metadata": {},
   "outputs": [
    {
     "data": {
      "text/plain": [
       "ValueIteration (generic function with 1 method)"
      ]
     },
     "execution_count": 35,
     "metadata": {},
     "output_type": "execute_result"
    }
   ],
   "source": [
    "function ValueIteration(S, T, γ)\n",
    "    # Here we always consider the state with the highest belief as the true state\n",
    "    Q = zeros((Number_level, 4))\n",
    "    V = zeros(Float64, (Number_level)).+1000\n",
    "    i=0\n",
    "    while i<=10000\n",
    "        for s in 1:Number_level\n",
    "            Threads.@threads for a in 1:4\n",
    "                # Q[s,a] = (reward(s,a)) + γ*(sum(T[s,s1,a]*V[s1] for s1 in 1:Number_level))\n",
    "                # reward(multiunit, 2,2)\n",
    "                if a == 4\n",
    "                    Q[s,a] = (reward(multiunit,s,a)) + γ*(sum(T[s,s1,3]*V[s1] for s1 in 1:Number_level))\n",
    "                else\n",
    "                Q[s,a] = (reward(multiunit,s,a)) + γ*(sum(T[s,s1,a]*V[s1] for s1 in 1:Number_level))\n",
    "                end\n",
    "            end\n",
    "            V[s] = findmax(Q[s, 1:4])[1]\n",
    "        end\n",
    "        i+=1\n",
    "    end\n",
    "    return Q\n",
    "end"
   ]
  },
  {
   "cell_type": "markdown",
   "metadata": {},
   "source": [
    "### System-level decision making"
   ]
  },
  {
   "cell_type": "code",
   "execution_count": 36,
   "metadata": {},
   "outputs": [
    {
     "data": {
      "text/plain": [
       "decision (generic function with 1 method)"
      ]
     },
     "execution_count": 36,
     "metadata": {},
     "output_type": "execute_result"
    }
   ],
   "source": [
    "function decision(Q, o, b)\n",
    "    a_final = repeat(1:1,NumberUnits)\n",
    "    # Instead of using maximum likelihood state,\n",
    "    # we use belief-weighted sum of Q function\n",
    "\n",
    "    failed_components = 0\n",
    "    for i in 1:NumberUnits # numerate over units\n",
    "        if o[i] == Number_level # failure state is self-announcing\n",
    "            failed_components+=1\n",
    "        end\n",
    "    end\n",
    "\n",
    "    # calculate belief-based Q table for each unit\n",
    "    Q_belief = zeros((NumberUnits, 4))\n",
    "    \n",
    "    for i in 1:NumberUnits\n",
    "        belief = b[i]\n",
    "        for a in 1:4\n",
    "            Q_belief[i,a] = sum(belief[s] * Q[s,a] for s in 1:Number_level)\n",
    "        end\n",
    "    end\n",
    "\n",
    "    # decision making: 3 scenarios\n",
    "    # 1) System fails\n",
    "    if failed_components >= limit\n",
    "        for i in 1:NumberUnits\n",
    "            a_final[i]=argmax(a->Q_belief[i,a],[2,3])\n",
    "            if o[i] == Number_level\n",
    "                a_final[i]=4\n",
    "            end\n",
    "        end\n",
    "        return a_final\n",
    "    end\n",
    "\n",
    "    q0 = 0.0\n",
    "    a0 = repeat(1:1, NumberUnits)\n",
    "    for i in 1:NumberUnits\n",
    "        q0+=Q_belief[i,1]\n",
    "    end\n",
    "\n",
    "    q1 = 0.0\n",
    "    a1 = repeat(1:1, NumberUnits)\n",
    "    for i in 1:NumberUnits\n",
    "        a1[i] = argmax(a->Q_belief[i,a], [2,3])\n",
    "        if o[i] == Number_level\n",
    "            a1[i] = 3\n",
    "        end\n",
    "        q1 += Q_belief[i, a1[i]]\n",
    "    end\n",
    "\n",
    "    if !(3 in a1)\n",
    "        a1 = a0\n",
    "        q1 = q0\n",
    "    end\n",
    "\n",
    "    if q0 > q1\n",
    "        return a0\n",
    "    else\n",
    "        return a1\n",
    "    end\n",
    "end\n",
    "    \n",
    "\n"
   ]
  },
  {
   "cell_type": "code",
   "execution_count": 37,
   "metadata": {},
   "outputs": [],
   "source": [
    "# function decision(Q, o, b)\n",
    "#     a_final = repeat(1:1,NumberUnits)\n",
    "#     # obtain \"guessed\" state vector from belief vector\n",
    "#     # and consider it as the true state vector\n",
    "#     s_guess = argmax.(b)\n",
    "\n",
    "#     failed_components = 0\n",
    "#     for i in 1:NumberUnits # numerate over units\n",
    "#         if o[i] == Number_level # failure state is self-announcing\n",
    "#             failed_components+=1\n",
    "#         end\n",
    "#     end\n",
    "\n",
    "#     if failed_components >= limit\n",
    "#         for i in 1:NumberUnits\n",
    "#             a_final[i]=argmax(a->Q[s_guess[i],a],[2,3])\n",
    "#             if o[i] == Number_level\n",
    "#                 a_final[i]=4\n",
    "#             end\n",
    "#         end\n",
    "#         return a_final\n",
    "#     end\n",
    "\n",
    "#     q0 = 0.0\n",
    "#     a0 = repeat(1:1, NumberUnits)\n",
    "#     for i in 1:NumberUnits\n",
    "#         q0+=Q[s_guess[i],1]\n",
    "#     end\n",
    "\n",
    "#     q1 = 0.0\n",
    "#     a1 = repeat(1:1, NumberUnits)\n",
    "#     for i in 1:NumberUnits\n",
    "#         a1[i] = argmax(a->Q[s_guess[i],a], [2,3])\n",
    "#         if o[i] == Number_level\n",
    "#             a1[i] = 3\n",
    "#         end\n",
    "#         q1 += Q[s_guess[i], a1[i]]\n",
    "#     end\n",
    "\n",
    "#     if !(3 in a1)\n",
    "#         a1 = a0\n",
    "#         q1 = q0\n",
    "#     end\n",
    "\n",
    "#     if q0 > q1\n",
    "#         return a0\n",
    "#     else\n",
    "#         return a1\n",
    "#     end\n",
    "# end\n",
    "    \n",
    "\n",
    "\n",
    "   \n",
    "    \n",
    "    "
   ]
  },
  {
   "cell_type": "markdown",
   "metadata": {},
   "source": [
    "### Iteration"
   ]
  },
  {
   "cell_type": "code",
   "execution_count": 38,
   "metadata": {},
   "outputs": [
    {
     "data": {
      "text/plain": [
       "10-element Vector{Vector{Float64}}:\n",
       " [1.0, 0.0, 0.0, 0.0]\n",
       " [1.0, 0.0, 0.0, 0.0]\n",
       " [1.0, 0.0, 0.0, 0.0]\n",
       " [1.0, 0.0, 0.0, 0.0]\n",
       " [1.0, 0.0, 0.0, 0.0]\n",
       " [1.0, 0.0, 0.0, 0.0]\n",
       " [1.0, 0.0, 0.0, 0.0]\n",
       " [1.0, 0.0, 0.0, 0.0]\n",
       " [1.0, 0.0, 0.0, 0.0]\n",
       " [1.0, 0.0, 0.0, 0.0]"
      ]
     },
     "execution_count": 38,
     "metadata": {},
     "output_type": "execute_result"
    }
   ],
   "source": [
    "NumberUnits = 10\n",
    "belief = [[1.0, 0.0, 0.0, 0.0] for j in 1:NumberUnits]"
   ]
  },
  {
   "cell_type": "code",
   "execution_count": 39,
   "metadata": {},
   "outputs": [
    {
     "data": {
      "text/plain": [
       "4-element Vector{Float64}:\n",
       " 0.7\n",
       " 0.3\n",
       " 0.0\n",
       " 0.0"
      ]
     },
     "execution_count": 39,
     "metadata": {},
     "output_type": "execute_result"
    }
   ],
   "source": [
    "belief[1]=[0.7,0.3,0.0,0.0]"
   ]
  },
  {
   "cell_type": "code",
   "execution_count": 40,
   "metadata": {},
   "outputs": [
    {
     "data": {
      "text/plain": [
       "10-element Vector{Vector{Float64}}:\n",
       " [0.7, 0.3, 0.0, 0.0]\n",
       " [1.0, 0.0, 0.0, 0.0]\n",
       " [1.0, 0.0, 0.0, 0.0]\n",
       " [1.0, 0.0, 0.0, 0.0]\n",
       " [1.0, 0.0, 0.0, 0.0]\n",
       " [1.0, 0.0, 0.0, 0.0]\n",
       " [1.0, 0.0, 0.0, 0.0]\n",
       " [1.0, 0.0, 0.0, 0.0]\n",
       " [1.0, 0.0, 0.0, 0.0]\n",
       " [1.0, 0.0, 0.0, 0.0]"
      ]
     },
     "execution_count": 40,
     "metadata": {},
     "output_type": "execute_result"
    }
   ],
   "source": [
    "belief"
   ]
  },
  {
   "cell_type": "code",
   "execution_count": 41,
   "metadata": {},
   "outputs": [
    {
     "data": {
      "text/plain": [
       "1-element Vector{Vector{Float64}}:\n",
       " [0.7, 0.3, 0.0, 0.0]"
      ]
     },
     "execution_count": 41,
     "metadata": {},
     "output_type": "execute_result"
    }
   ],
   "source": [
    "b = belief[1,:]"
   ]
  },
  {
   "cell_type": "code",
   "execution_count": 42,
   "metadata": {},
   "outputs": [
    {
     "data": {
      "text/plain": [
       "4-element Vector{Float64}:\n",
       " 0.7\n",
       " 0.3\n",
       " 0.0\n",
       " 0.0"
      ]
     },
     "execution_count": 42,
     "metadata": {},
     "output_type": "execute_result"
    }
   ],
   "source": [
    "b[1]"
   ]
  },
  {
   "cell_type": "code",
   "execution_count": 43,
   "metadata": {},
   "outputs": [
    {
     "data": {
      "text/plain": [
       "get_fixed_K (generic function with 1 method)"
      ]
     },
     "execution_count": 43,
     "metadata": {},
     "output_type": "execute_result"
    }
   ],
   "source": [
    "# Define the fixed K values for each unit count\n",
    "function get_fixed_K(units)\n",
    "    if units == 60\n",
    "        return 18\n",
    "    elseif units == 50\n",
    "        return 18\n",
    "    elseif units == 40\n",
    "        return 18\n",
    "    elseif units == 30\n",
    "        return 14\n",
    "    elseif units == 25\n",
    "        return 10  # Assuming a reasonable value for 25\n",
    "    elseif units == 20\n",
    "        return 10   # Assuming a reasonable value for 20\n",
    "    else\n",
    "        return convert(Int64, floor((units+1)/4))  # Fallback for any other values\n",
    "    end\n",
    "end"
   ]
  },
  {
   "cell_type": "code",
   "execution_count": 44,
   "metadata": {},
   "outputs": [
    {
     "name": "stdout",
     "output_type": "stream",
     "text": [
      "20\n",
      "K : 10\n"
     ]
    },
    {
     "name": "stderr",
     "output_type": "stream",
     "text": [
      "\u001b[36m\u001b[1m[ \u001b[22m\u001b[39m\u001b[36m\u001b[1mInfo: \u001b[22m\u001b[39m started timer at: 2025-04-11T17:10:01.048\n"
     ]
    },
    {
     "name": "stdout",
     "output_type": "stream",
     "text": [
      "[0 -2400 -100 -1200 -2000]\n",
      "Uncertainty Level: Low\n",
      "false\n"
     ]
    },
    {
     "name": "stderr",
     "output_type": "stream",
     "text": [
      "\u001b[36m\u001b[1m[ \u001b[22m\u001b[39m\u001b[36m\u001b[1mInfo: \u001b[22m\u001b[39m started timer at: 2025-04-11T17:10:06.318\n"
     ]
    },
    {
     "name": "stdout",
     "output_type": "stream",
     "text": [
      "20\n",
      "k : 10\n",
      "1\n",
      "-13533.477251042223\n",
      "1802.7784007743253\n",
      "1802.7784007743253\n",
      "20\n",
      "K : 10\n",
      "[0 -2400 -100 -1200 -2000]\n",
      "Uncertainty Level: Original\n"
     ]
    },
    {
     "name": "stderr",
     "output_type": "stream",
     "text": [
      "\u001b[36m\u001b[1m[ \u001b[22m\u001b[39m\u001b[36m\u001b[1mInfo: \u001b[22m\u001b[39m          26.8448998s: 26 seconds, 844 milliseconds\n",
      "\u001b[36m\u001b[1m[ \u001b[22m\u001b[39m\u001b[36m\u001b[1mInfo: \u001b[22m\u001b[39m started timer at: 2025-04-11T17:10:33.272\n"
     ]
    },
    {
     "name": "stdout",
     "output_type": "stream",
     "text": [
      "false\n"
     ]
    },
    {
     "name": "stderr",
     "output_type": "stream",
     "text": [
      "\u001b[36m\u001b[1m[ \u001b[22m\u001b[39m\u001b[36m\u001b[1mInfo: \u001b[22m\u001b[39m started timer at: 2025-04-11T17:10:36.546\n"
     ]
    },
    {
     "name": "stdout",
     "output_type": "stream",
     "text": [
      "20\n",
      "k : 10\n",
      "1\n",
      "-12688.634120405004\n",
      "1732.6742090281318\n",
      "1732.6742090281318\n",
      "20\n",
      "K : 10\n",
      "[0 -2400 -100 -1200 -2000]\n",
      "Uncertainty Level: High\n"
     ]
    },
    {
     "name": "stderr",
     "output_type": "stream",
     "text": [
      "\u001b[36m\u001b[1m[ \u001b[22m\u001b[39m\u001b[36m\u001b[1mInfo: \u001b[22m\u001b[39m          24.6951444s: 24 seconds, 695 milliseconds\n",
      "\u001b[36m\u001b[1m[ \u001b[22m\u001b[39m\u001b[36m\u001b[1mInfo: \u001b[22m\u001b[39m started timer at: 2025-04-11T17:11:01.279\n"
     ]
    },
    {
     "name": "stdout",
     "output_type": "stream",
     "text": [
      "false\n"
     ]
    },
    {
     "name": "stderr",
     "output_type": "stream",
     "text": [
      "\u001b[36m\u001b[1m[ \u001b[22m\u001b[39m\u001b[36m\u001b[1mInfo: \u001b[22m\u001b[39m started timer at: 2025-04-11T17:11:04.686\n"
     ]
    },
    {
     "name": "stdout",
     "output_type": "stream",
     "text": [
      "20\n",
      "k : 10\n",
      "1\n",
      "-12943.361099953647\n",
      "1738.385973662807\n",
      "1738.385973662807\n",
      "20\n",
      "K : 10\n",
      "[0 -2400 -100 -1200 -2000]\n",
      "Uncertainty Level: Very High\n"
     ]
    },
    {
     "name": "stderr",
     "output_type": "stream",
     "text": [
      "\u001b[36m\u001b[1m[ \u001b[22m\u001b[39m\u001b[36m\u001b[1mInfo: \u001b[22m\u001b[39m          25.7627191s: 25 seconds, 762 milliseconds\n",
      "\u001b[36m\u001b[1m[ \u001b[22m\u001b[39m\u001b[36m\u001b[1mInfo: \u001b[22m\u001b[39m started timer at: 2025-04-11T17:11:30.463\n"
     ]
    },
    {
     "name": "stdout",
     "output_type": "stream",
     "text": [
      "false\n"
     ]
    },
    {
     "name": "stderr",
     "output_type": "stream",
     "text": [
      "\u001b[36m\u001b[1m[ \u001b[22m\u001b[39m\u001b[36m\u001b[1mInfo: \u001b[22m\u001b[39m started timer at: 2025-04-11T17:11:33.811\n"
     ]
    },
    {
     "name": "stdout",
     "output_type": "stream",
     "text": [
      "20\n",
      "k : 10\n",
      "1\n",
      "-13127.947076043736\n",
      "1762.0223200439568\n",
      "1762.0223200439568\n",
      "20\n",
      "K : 10\n",
      "[0 -2400 -100 -1200 -2000]\n",
      "Uncertainty Level: Extreme\n"
     ]
    },
    {
     "name": "stderr",
     "output_type": "stream",
     "text": [
      "\u001b[36m\u001b[1m[ \u001b[22m\u001b[39m\u001b[36m\u001b[1mInfo: \u001b[22m\u001b[39m          25.0107981s: 25 seconds, 10 milliseconds\n",
      "\u001b[36m\u001b[1m[ \u001b[22m\u001b[39m\u001b[36m\u001b[1mInfo: \u001b[22m\u001b[39m started timer at: 2025-04-11T17:11:58.851\n"
     ]
    },
    {
     "name": "stdout",
     "output_type": "stream",
     "text": [
      "false\n"
     ]
    },
    {
     "name": "stderr",
     "output_type": "stream",
     "text": [
      "\u001b[36m\u001b[1m[ \u001b[22m\u001b[39m\u001b[36m\u001b[1mInfo: \u001b[22m\u001b[39m started timer at: 2025-04-11T17:12:02.119\n"
     ]
    },
    {
     "name": "stdout",
     "output_type": "stream",
     "text": [
      "20\n",
      "k : 10\n",
      "1\n",
      "-13286.193322067295\n",
      "1814.0065629645485\n",
      "1814.0065629645485\n",
      "25\n",
      "K : 10\n",
      "[0 -2400 -100 -1200 -2000]\n",
      "Uncertainty Level: Low\n"
     ]
    },
    {
     "name": "stderr",
     "output_type": "stream",
     "text": [
      "\u001b[36m\u001b[1m[ \u001b[22m\u001b[39m\u001b[36m\u001b[1mInfo: \u001b[22m\u001b[39m          24.6812034s: 24 seconds, 681 milliseconds\n",
      "\u001b[36m\u001b[1m[ \u001b[22m\u001b[39m\u001b[36m\u001b[1mInfo: \u001b[22m\u001b[39m started timer at: 2025-04-11T17:12:26.820\n"
     ]
    },
    {
     "name": "stdout",
     "output_type": "stream",
     "text": [
      "false\n"
     ]
    },
    {
     "name": "stderr",
     "output_type": "stream",
     "text": [
      "\u001b[36m\u001b[1m[ \u001b[22m\u001b[39m\u001b[36m\u001b[1mInfo: \u001b[22m\u001b[39m started timer at: 2025-04-11T17:12:30.057\n"
     ]
    },
    {
     "name": "stdout",
     "output_type": "stream",
     "text": [
      "25\n",
      "k : 10\n",
      "1\n",
      "-16367.128136775773\n",
      "1967.5114337153966\n",
      "1967.5114337153966\n",
      "25\n",
      "K : 10\n",
      "[0 -2400 -100 -1200 -2000]\n",
      "Uncertainty Level: Original\n"
     ]
    },
    {
     "name": "stderr",
     "output_type": "stream",
     "text": [
      "\u001b[36m\u001b[1m[ \u001b[22m\u001b[39m\u001b[36m\u001b[1mInfo: \u001b[22m\u001b[39m          32.8526775s: 32 seconds, 852 milliseconds\n",
      "\u001b[36m\u001b[1m[ \u001b[22m\u001b[39m\u001b[36m\u001b[1mInfo: \u001b[22m\u001b[39m started timer at: 2025-04-11T17:13:02.940\n"
     ]
    },
    {
     "name": "stdout",
     "output_type": "stream",
     "text": [
      "false\n"
     ]
    },
    {
     "name": "stderr",
     "output_type": "stream",
     "text": [
      "\u001b[36m\u001b[1m[ \u001b[22m\u001b[39m\u001b[36m\u001b[1mInfo: \u001b[22m\u001b[39m started timer at: 2025-04-11T17:13:06.081\n"
     ]
    },
    {
     "name": "stdout",
     "output_type": "stream",
     "text": [
      "25\n",
      "k : 10\n",
      "1\n",
      "-16381.636824312323\n",
      "1980.6774835509168\n",
      "1980.6774835509168\n",
      "25\n",
      "K : 10\n",
      "[0 -2400 -100 -1200 -2000]\n",
      "Uncertainty Level: High\n"
     ]
    },
    {
     "name": "stderr",
     "output_type": "stream",
     "text": [
      "\u001b[36m\u001b[1m[ \u001b[22m\u001b[39m\u001b[36m\u001b[1mInfo: \u001b[22m\u001b[39m          32.0144637s: 32 seconds, 14 milliseconds\n",
      "\u001b[36m\u001b[1m[ \u001b[22m\u001b[39m\u001b[36m\u001b[1mInfo: \u001b[22m\u001b[39m started timer at: 2025-04-11T17:13:38.123\n"
     ]
    },
    {
     "name": "stdout",
     "output_type": "stream",
     "text": [
      "false\n"
     ]
    },
    {
     "name": "stderr",
     "output_type": "stream",
     "text": [
      "\u001b[36m\u001b[1m[ \u001b[22m\u001b[39m\u001b[36m\u001b[1mInfo: \u001b[22m\u001b[39m started timer at: 2025-04-11T17:13:41.176\n"
     ]
    },
    {
     "name": "stdout",
     "output_type": "stream",
     "text": [
      "25\n",
      "k : 10\n",
      "1\n",
      "-15571.749733061475\n",
      "1911.7651780474569\n",
      "1911.7651780474569\n",
      "25\n",
      "K : 10\n",
      "[0 -2400 -100 -1200 -2000]\n",
      "Uncertainty Level: Very High\n"
     ]
    },
    {
     "name": "stderr",
     "output_type": "stream",
     "text": [
      "\u001b[36m\u001b[1m[ \u001b[22m\u001b[39m\u001b[36m\u001b[1mInfo: \u001b[22m\u001b[39m          32.4656059s: 32 seconds, 465 milliseconds\n",
      "\u001b[36m\u001b[1m[ \u001b[22m\u001b[39m\u001b[36m\u001b[1mInfo: \u001b[22m\u001b[39m started timer at: 2025-04-11T17:14:13.661\n"
     ]
    },
    {
     "name": "stdout",
     "output_type": "stream",
     "text": [
      "false\n"
     ]
    },
    {
     "name": "stderr",
     "output_type": "stream",
     "text": [
      "\u001b[36m\u001b[1m[ \u001b[22m\u001b[39m\u001b[36m\u001b[1mInfo: \u001b[22m\u001b[39m started timer at: 2025-04-11T17:14:16.718\n"
     ]
    },
    {
     "name": "stdout",
     "output_type": "stream",
     "text": [
      "25\n",
      "k : 10\n",
      "1\n",
      "-15852.526599767938\n",
      "1972.8977861547426\n",
      "1972.8977861547426\n",
      "25\n",
      "K : 10\n",
      "[0 -2400 -100 -1200 -2000]\n",
      "Uncertainty Level: Extreme\n"
     ]
    },
    {
     "name": "stderr",
     "output_type": "stream",
     "text": [
      "\u001b[36m\u001b[1m[ \u001b[22m\u001b[39m\u001b[36m\u001b[1mInfo: \u001b[22m\u001b[39m           31.798796s: 31 seconds, 798 milliseconds\n",
      "\u001b[36m\u001b[1m[ \u001b[22m\u001b[39m\u001b[36m\u001b[1mInfo: \u001b[22m\u001b[39m started timer at: 2025-04-11T17:14:48.533\n"
     ]
    },
    {
     "name": "stdout",
     "output_type": "stream",
     "text": [
      "false\n"
     ]
    },
    {
     "name": "stderr",
     "output_type": "stream",
     "text": [
      "\u001b[36m\u001b[1m[ \u001b[22m\u001b[39m\u001b[36m\u001b[1mInfo: \u001b[22m\u001b[39m started timer at: 2025-04-11T17:14:51.785\n"
     ]
    },
    {
     "name": "stdout",
     "output_type": "stream",
     "text": [
      "25\n",
      "k : 10\n",
      "1\n",
      "-16089.514555865795\n",
      "1976.991150361655\n",
      "1976.991150361655\n",
      "30"
     ]
    },
    {
     "name": "stderr",
     "output_type": "stream",
     "text": [
      "\u001b[36m\u001b[1m[ \u001b[22m\u001b[39m\u001b[36m\u001b[1mInfo: \u001b[22m\u001b[39m          32.4389191s: 32 seconds, 438 milliseconds\n",
      "\u001b[36m\u001b[1m[ \u001b[22m\u001b[39m\u001b[36m\u001b[1mInfo: \u001b[22m\u001b[39m started timer at: 2025-04-11T17:15:24.239\n"
     ]
    },
    {
     "name": "stdout",
     "output_type": "stream",
     "text": [
      "\n",
      "K : 14\n",
      "[0 -2400 -100 -1200 -2000]\n",
      "Uncertainty Level: Low\n",
      "false\n"
     ]
    },
    {
     "name": "stderr",
     "output_type": "stream",
     "text": [
      "\u001b[36m\u001b[1m[ \u001b[22m\u001b[39m\u001b[36m\u001b[1mInfo: \u001b[22m\u001b[39m started timer at: 2025-04-11T17:15:27.276\n"
     ]
    },
    {
     "name": "stdout",
     "output_type": "stream",
     "text": [
      "30\n",
      "k : 14\n",
      "1\n",
      "-18227.7054720087\n",
      "1936.5764114136862\n",
      "1936.5764114136862\n",
      "30"
     ]
    },
    {
     "name": "stderr",
     "output_type": "stream",
     "text": [
      "\u001b[36m\u001b[1m[ \u001b[22m\u001b[39m\u001b[36m\u001b[1mInfo: \u001b[22m\u001b[39m           37.914655s: 37 seconds, 914 milliseconds\n",
      "\u001b[36m\u001b[1m[ \u001b[22m\u001b[39m\u001b[36m\u001b[1mInfo: \u001b[22m\u001b[39m started timer at: 2025-04-11T17:16:05.217\n"
     ]
    },
    {
     "name": "stdout",
     "output_type": "stream",
     "text": [
      "\n",
      "K : 14\n",
      "[0 -2400 -100 -1200 -2000]\n",
      "Uncertainty Level: Original\n",
      "false\n"
     ]
    },
    {
     "name": "stderr",
     "output_type": "stream",
     "text": [
      "\u001b[36m\u001b[1m[ \u001b[22m\u001b[39m\u001b[36m\u001b[1mInfo: \u001b[22m\u001b[39m started timer at: 2025-04-11T17:16:08.565\n"
     ]
    },
    {
     "name": "stdout",
     "output_type": "stream",
     "text": [
      "30\n",
      "k : 14\n",
      "1\n",
      "-18276.967943491356\n",
      "2013.9074675989045\n",
      "2013.9074675989045\n",
      "30\n",
      "K : 14\n",
      "[0 -2400 -100 -1200 -2000]\n",
      "Uncertainty Level: High\n"
     ]
    },
    {
     "name": "stderr",
     "output_type": "stream",
     "text": [
      "\u001b[36m\u001b[1m[ \u001b[22m\u001b[39m\u001b[36m\u001b[1mInfo: \u001b[22m\u001b[39m           38.797504s: 38 seconds, 797 milliseconds\n",
      "\u001b[36m\u001b[1m[ \u001b[22m\u001b[39m\u001b[36m\u001b[1mInfo: \u001b[22m\u001b[39m started timer at: 2025-04-11T17:16:47.391\n"
     ]
    },
    {
     "name": "stdout",
     "output_type": "stream",
     "text": [
      "false\n"
     ]
    },
    {
     "name": "stderr",
     "output_type": "stream",
     "text": [
      "\u001b[36m\u001b[1m[ \u001b[22m\u001b[39m\u001b[36m\u001b[1mInfo: \u001b[22m\u001b[39m started timer at: 2025-04-11T17:16:50.842\n"
     ]
    },
    {
     "name": "stdout",
     "output_type": "stream",
     "text": [
      "30\n",
      "k : 14\n",
      "1\n",
      "-17648.803324191933\n",
      "1962.4090652387845\n",
      "1962.4090652387845\n",
      "30\n",
      "K : 14\n",
      "[0 -2400 -100 -1200 -2000]\n",
      "Uncertainty Level: Very High\n"
     ]
    },
    {
     "name": "stderr",
     "output_type": "stream",
     "text": [
      "\u001b[36m\u001b[1m[ \u001b[22m\u001b[39m\u001b[36m\u001b[1mInfo: \u001b[22m\u001b[39m          38.1644129s: 38 seconds, 164 milliseconds\n",
      "\u001b[36m\u001b[1m[ \u001b[22m\u001b[39m\u001b[36m\u001b[1mInfo: \u001b[22m\u001b[39m started timer at: 2025-04-11T17:17:29.022\n"
     ]
    },
    {
     "name": "stdout",
     "output_type": "stream",
     "text": [
      "false\n"
     ]
    },
    {
     "name": "stderr",
     "output_type": "stream",
     "text": [
      "\u001b[36m\u001b[1m[ \u001b[22m\u001b[39m\u001b[36m\u001b[1mInfo: \u001b[22m\u001b[39m started timer at: 2025-04-11T17:17:32.203\n"
     ]
    },
    {
     "name": "stdout",
     "output_type": "stream",
     "text": [
      "30\n",
      "k : 14\n",
      "1\n",
      "-17736.896864839422\n",
      "1972.1117594012717\n",
      "1972.1117594012717\n",
      "30\n",
      "K : 14\n",
      "[0 -2400 -100 -1200 -2000]\n",
      "Uncertainty Level: Extreme\n"
     ]
    },
    {
     "name": "stderr",
     "output_type": "stream",
     "text": [
      "\u001b[36m\u001b[1m[ \u001b[22m\u001b[39m\u001b[36m\u001b[1mInfo: \u001b[22m\u001b[39m          38.4396864s: 38 seconds, 439 milliseconds\n",
      "\u001b[36m\u001b[1m[ \u001b[22m\u001b[39m\u001b[36m\u001b[1mInfo: \u001b[22m\u001b[39m started timer at: 2025-04-11T17:18:10.669\n"
     ]
    },
    {
     "name": "stdout",
     "output_type": "stream",
     "text": [
      "false\n"
     ]
    },
    {
     "name": "stderr",
     "output_type": "stream",
     "text": [
      "\u001b[36m\u001b[1m[ \u001b[22m\u001b[39m\u001b[36m\u001b[1mInfo: \u001b[22m\u001b[39m started timer at: 2025-04-11T17:18:13.956\n"
     ]
    },
    {
     "name": "stdout",
     "output_type": "stream",
     "text": [
      "30\n",
      "k : 14\n",
      "1\n",
      "-17925.1059757201\n",
      "2014.008987215484\n",
      "2014.008987215484\n",
      "40"
     ]
    },
    {
     "name": "stderr",
     "output_type": "stream",
     "text": [
      "\u001b[36m\u001b[1m[ \u001b[22m\u001b[39m\u001b[36m\u001b[1mInfo: \u001b[22m\u001b[39m          38.3132306s: 38 seconds, 313 milliseconds\n",
      "\u001b[36m\u001b[1m[ \u001b[22m\u001b[39m\u001b[36m\u001b[1mInfo: \u001b[22m\u001b[39m started timer at: 2025-04-11T17:18:52.296\n"
     ]
    },
    {
     "name": "stdout",
     "output_type": "stream",
     "text": [
      "\n",
      "K : 18\n",
      "[0 -2400 -100 -1200 -2000]\n",
      "Uncertainty Level: Low\n",
      "false\n"
     ]
    },
    {
     "name": "stderr",
     "output_type": "stream",
     "text": [
      "\u001b[36m\u001b[1m[ \u001b[22m\u001b[39m\u001b[36m\u001b[1mInfo: \u001b[22m\u001b[39m started timer at: 2025-04-11T17:18:55.484\n"
     ]
    },
    {
     "name": "stdout",
     "output_type": "stream",
     "text": [
      "40\n",
      "k : 18\n",
      "1\n",
      "-22630.736953004885\n",
      "2093.050748681443\n",
      "2093.050748681443\n",
      "40\n",
      "K : 18\n",
      "[0 -2400 -100 -1200 -2000]\n",
      "Uncertainty Level: Original\n"
     ]
    },
    {
     "name": "stderr",
     "output_type": "stream",
     "text": [
      "\u001b[36m\u001b[1m[ \u001b[22m\u001b[39m\u001b[36m\u001b[1mInfo: \u001b[22m\u001b[39m          50.9706775s: 50 seconds, 970 milliseconds\n",
      "\u001b[36m\u001b[1m[ \u001b[22m\u001b[39m\u001b[36m\u001b[1mInfo: \u001b[22m\u001b[39m started timer at: 2025-04-11T17:19:46.477\n"
     ]
    },
    {
     "name": "stdout",
     "output_type": "stream",
     "text": [
      "false\n"
     ]
    },
    {
     "name": "stderr",
     "output_type": "stream",
     "text": [
      "\u001b[36m\u001b[1m[ \u001b[22m\u001b[39m\u001b[36m\u001b[1mInfo: \u001b[22m\u001b[39m started timer at: 2025-04-11T17:19:49.601\n"
     ]
    },
    {
     "name": "stdout",
     "output_type": "stream",
     "text": [
      "40\n",
      "k : 18\n",
      "1\n",
      "-22813.563365570044\n",
      "2122.8077397746365\n",
      "2122.8077397746365\n",
      "40\n",
      "K : 18\n",
      "[0 -2400 -100 -1200 -2000]\n",
      "Uncertainty Level: High\n"
     ]
    },
    {
     "name": "stderr",
     "output_type": "stream",
     "text": [
      "\u001b[36m\u001b[1m[ \u001b[22m\u001b[39m\u001b[36m\u001b[1mInfo: \u001b[22m\u001b[39m          51.4620902s: 51 seconds, 462 milliseconds\n",
      "\u001b[36m\u001b[1m[ \u001b[22m\u001b[39m\u001b[36m\u001b[1mInfo: \u001b[22m\u001b[39m started timer at: 2025-04-11T17:20:41.089\n"
     ]
    },
    {
     "name": "stdout",
     "output_type": "stream",
     "text": [
      "false\n"
     ]
    },
    {
     "name": "stderr",
     "output_type": "stream",
     "text": [
      "\u001b[36m\u001b[1m[ \u001b[22m\u001b[39m\u001b[36m\u001b[1mInfo: \u001b[22m\u001b[39m started timer at: 2025-04-11T17:20:44.196\n"
     ]
    },
    {
     "name": "stdout",
     "output_type": "stream",
     "text": [
      "40\n",
      "k : 18\n",
      "1\n",
      "-22715.557314178313\n",
      "2169.31652770905\n",
      "2169.31652770905\n",
      "40"
     ]
    },
    {
     "name": "stderr",
     "output_type": "stream",
     "text": [
      "\u001b[36m\u001b[1m[ \u001b[22m\u001b[39m\u001b[36m\u001b[1mInfo: \u001b[22m\u001b[39m          51.3812535s: 51 seconds, 381 milliseconds\n",
      "\u001b[36m\u001b[1m[ \u001b[22m\u001b[39m\u001b[36m\u001b[1mInfo: \u001b[22m\u001b[39m started timer at: 2025-04-11T17:21:35.607\n"
     ]
    },
    {
     "name": "stdout",
     "output_type": "stream",
     "text": [
      "\n",
      "K : 18\n",
      "[0 -2400 -100 -1200 -2000]\n",
      "Uncertainty Level: Very High\n",
      "false\n"
     ]
    },
    {
     "name": "stderr",
     "output_type": "stream",
     "text": [
      "\u001b[36m\u001b[1m[ \u001b[22m\u001b[39m\u001b[36m\u001b[1mInfo: \u001b[22m\u001b[39m started timer at: 2025-04-11T17:21:38.870\n"
     ]
    },
    {
     "name": "stdout",
     "output_type": "stream",
     "text": [
      "40\n",
      "k : 18\n",
      "1\n",
      "-22397.095564484167\n",
      "2168.508323300679\n",
      "2168.508323300679\n",
      "40\n",
      "K : 18\n",
      "[0 -2400 -100 -1200 -2000]\n",
      "Uncertainty Level: Extreme\n"
     ]
    },
    {
     "name": "stderr",
     "output_type": "stream",
     "text": [
      "\u001b[36m\u001b[1m[ \u001b[22m\u001b[39m\u001b[36m\u001b[1mInfo: \u001b[22m\u001b[39m          50.1863987s: 50 seconds, 186 milliseconds\n",
      "\u001b[36m\u001b[1m[ \u001b[22m\u001b[39m\u001b[36m\u001b[1mInfo: \u001b[22m\u001b[39m started timer at: 2025-04-11T17:22:29.070\n"
     ]
    },
    {
     "name": "stdout",
     "output_type": "stream",
     "text": [
      "false\n"
     ]
    },
    {
     "name": "stderr",
     "output_type": "stream",
     "text": [
      "\u001b[36m\u001b[1m[ \u001b[22m\u001b[39m\u001b[36m\u001b[1mInfo: \u001b[22m\u001b[39m started timer at: 2025-04-11T17:22:32.245\n"
     ]
    },
    {
     "name": "stdout",
     "output_type": "stream",
     "text": [
      "40\n",
      "k : 18\n",
      "1\n",
      "-22405.435821048464\n",
      "2216.940351892938\n",
      "2216.940351892938\n",
      "50\n",
      "K : 18\n",
      "[0 -2400 -100 -1200 -2000]\n",
      "Uncertainty Level: Low\n"
     ]
    },
    {
     "name": "stderr",
     "output_type": "stream",
     "text": [
      "\u001b[36m\u001b[1m[ \u001b[22m\u001b[39m\u001b[36m\u001b[1mInfo: \u001b[22m\u001b[39m          50.5954387s: 50 seconds, 595 milliseconds\n",
      "\u001b[36m\u001b[1m[ \u001b[22m\u001b[39m\u001b[36m\u001b[1mInfo: \u001b[22m\u001b[39m started timer at: 2025-04-11T17:23:22.865\n"
     ]
    },
    {
     "name": "stdout",
     "output_type": "stream",
     "text": [
      "false\n"
     ]
    },
    {
     "name": "stderr",
     "output_type": "stream",
     "text": [
      "\u001b[36m\u001b[1m[ \u001b[22m\u001b[39m\u001b[36m\u001b[1mInfo: \u001b[22m\u001b[39m started timer at: 2025-04-11T17:23:26.352\n"
     ]
    },
    {
     "name": "stdout",
     "output_type": "stream",
     "text": [
      "50\n",
      "k : 18\n",
      "1\n",
      "-26938.98897738177\n",
      "2311.780479005983\n",
      "2311.780479005983\n",
      "50\n",
      "K : 18\n",
      "[0 -2400 -100 -1200 -2000]\n",
      "Uncertainty Level: Original\n"
     ]
    },
    {
     "name": "stderr",
     "output_type": "stream",
     "text": [
      "\u001b[36m\u001b[1m[ \u001b[22m\u001b[39m\u001b[36m\u001b[1mInfo: \u001b[22m\u001b[39m          64.1418324s: 1 minute, 4 seconds, 141 milliseconds\n",
      "\u001b[36m\u001b[1m[ \u001b[22m\u001b[39m\u001b[36m\u001b[1mInfo: \u001b[22m\u001b[39m started timer at: 2025-04-11T17:24:30.558\n"
     ]
    },
    {
     "name": "stdout",
     "output_type": "stream",
     "text": [
      "false\n"
     ]
    },
    {
     "name": "stderr",
     "output_type": "stream",
     "text": [
      "\u001b[36m\u001b[1m[ \u001b[22m\u001b[39m\u001b[36m\u001b[1mInfo: \u001b[22m\u001b[39m started timer at: 2025-04-11T17:24:33.923\n"
     ]
    },
    {
     "name": "stdout",
     "output_type": "stream",
     "text": [
      "50\n",
      "k : 18\n",
      "1\n",
      "-27396.89812802582\n",
      "2340.3122915521267\n",
      "2340.3122915521267\n",
      "50\n",
      "K : 18\n",
      "[0 -2400 -100 -1200 -2000]\n",
      "Uncertainty Level: High\n"
     ]
    },
    {
     "name": "stderr",
     "output_type": "stream",
     "text": [
      "\u001b[36m\u001b[1m[ \u001b[22m\u001b[39m\u001b[36m\u001b[1mInfo: \u001b[22m\u001b[39m          63.6318895s: 1 minute, 3 seconds, 631 milliseconds\n",
      "\u001b[36m\u001b[1m[ \u001b[22m\u001b[39m\u001b[36m\u001b[1mInfo: \u001b[22m\u001b[39m started timer at: 2025-04-11T17:25:37.570\n"
     ]
    },
    {
     "name": "stdout",
     "output_type": "stream",
     "text": [
      "false\n"
     ]
    },
    {
     "name": "stderr",
     "output_type": "stream",
     "text": [
      "\u001b[36m\u001b[1m[ \u001b[22m\u001b[39m\u001b[36m\u001b[1mInfo: \u001b[22m\u001b[39m started timer at: 2025-04-11T17:25:40.707\n"
     ]
    },
    {
     "name": "stdout",
     "output_type": "stream",
     "text": [
      "50\n",
      "k : 18\n",
      "1\n",
      "-27472.098068596257\n",
      "2434.8297949042503\n",
      "2434.8297949042503\n",
      "50\n",
      "K : 18\n",
      "[0 -2400 -100 -1200 -2000]\n",
      "Uncertainty Level: Very High\n"
     ]
    },
    {
     "name": "stderr",
     "output_type": "stream",
     "text": [
      "\u001b[36m\u001b[1m[ \u001b[22m\u001b[39m\u001b[36m\u001b[1mInfo: \u001b[22m\u001b[39m          64.2638355s: 1 minute, 4 seconds, 263 milliseconds\n",
      "\u001b[36m\u001b[1m[ \u001b[22m\u001b[39m\u001b[36m\u001b[1mInfo: \u001b[22m\u001b[39m started timer at: 2025-04-11T17:26:44.995\n"
     ]
    },
    {
     "name": "stdout",
     "output_type": "stream",
     "text": [
      "false\n"
     ]
    },
    {
     "name": "stderr",
     "output_type": "stream",
     "text": [
      "\u001b[36m\u001b[1m[ \u001b[22m\u001b[39m\u001b[36m\u001b[1mInfo: \u001b[22m\u001b[39m started timer at: 2025-04-11T17:26:48.221\n"
     ]
    },
    {
     "name": "stdout",
     "output_type": "stream",
     "text": [
      "50\n",
      "k : 18\n",
      "1\n",
      "-26960.60973942188\n",
      "2416.05349589214\n",
      "2416.05349589214\n",
      "50\n",
      "K : 18\n",
      "[0 -2400 -100 -1200 -2000]\n",
      "Uncertainty Level: Extreme\n"
     ]
    },
    {
     "name": "stderr",
     "output_type": "stream",
     "text": [
      "\u001b[36m\u001b[1m[ \u001b[22m\u001b[39m\u001b[36m\u001b[1mInfo: \u001b[22m\u001b[39m          63.5143355s: 1 minute, 3 seconds, 514 milliseconds\n",
      "\u001b[36m\u001b[1m[ \u001b[22m\u001b[39m\u001b[36m\u001b[1mInfo: \u001b[22m\u001b[39m started timer at: 2025-04-11T17:27:51.748\n"
     ]
    },
    {
     "name": "stdout",
     "output_type": "stream",
     "text": [
      "false\n"
     ]
    },
    {
     "name": "stderr",
     "output_type": "stream",
     "text": [
      "\u001b[36m\u001b[1m[ \u001b[22m\u001b[39m\u001b[36m\u001b[1mInfo: \u001b[22m\u001b[39m started timer at: 2025-04-11T17:27:55.424\n"
     ]
    },
    {
     "name": "stdout",
     "output_type": "stream",
     "text": [
      "50\n",
      "k : 18\n",
      "1\n",
      "-27031.23018745657\n",
      "2461.3543080898585\n",
      "2461.3543080898585\n"
     ]
    },
    {
     "name": "stderr",
     "output_type": "stream",
     "text": [
      "\u001b[36m\u001b[1m[ \u001b[22m\u001b[39m\u001b[36m\u001b[1mInfo: \u001b[22m\u001b[39m          62.8212375s: 1 minute, 2 seconds, 821 milliseconds\n"
     ]
    },
    {
     "name": "stdout",
     "output_type": "stream",
     "text": [
      "60\n",
      "K : 18\n",
      "[0 -2400 -100 -1200 -2000]\n",
      "Uncertainty Level: Low\n"
     ]
    },
    {
     "name": "stderr",
     "output_type": "stream",
     "text": [
      "\u001b[36m\u001b[1m[ \u001b[22m\u001b[39m\u001b[36m\u001b[1mInfo: \u001b[22m\u001b[39m started timer at: 2025-04-11T17:28:58.287\n"
     ]
    },
    {
     "name": "stdout",
     "output_type": "stream",
     "text": [
      "false\n"
     ]
    },
    {
     "name": "stderr",
     "output_type": "stream",
     "text": [
      "\u001b[36m\u001b[1m[ \u001b[22m\u001b[39m\u001b[36m\u001b[1mInfo: \u001b[22m\u001b[39m started timer at: 2025-04-11T17:29:01.500\n"
     ]
    },
    {
     "name": "stdout",
     "output_type": "stream",
     "text": [
      "60\n",
      "k : 18\n",
      "1\n",
      "-30813.805919853443\n",
      "2491.991329667633\n",
      "2491.991329667633\n",
      "60\n",
      "K : 18\n",
      "[0 -2400 -100 -1200 -2000]\n",
      "Uncertainty Level: Original\n"
     ]
    },
    {
     "name": "stderr",
     "output_type": "stream",
     "text": [
      "\u001b[36m\u001b[1m[ \u001b[22m\u001b[39m\u001b[36m\u001b[1mInfo: \u001b[22m\u001b[39m          77.2156856s: 1 minute, 17 seconds, 215 milliseconds\n",
      "\u001b[36m\u001b[1m[ \u001b[22m\u001b[39m\u001b[36m\u001b[1mInfo: \u001b[22m\u001b[39m started timer at: 2025-04-11T17:30:18.756\n"
     ]
    },
    {
     "name": "stdout",
     "output_type": "stream",
     "text": [
      "false\n"
     ]
    },
    {
     "name": "stderr",
     "output_type": "stream",
     "text": [
      "\u001b[36m\u001b[1m[ \u001b[22m\u001b[39m\u001b[36m\u001b[1mInfo: \u001b[22m\u001b[39m started timer at: 2025-04-11T17:30:21.963\n"
     ]
    },
    {
     "name": "stdout",
     "output_type": "stream",
     "text": [
      "60\n",
      "k : 18\n",
      "1\n",
      "-31539.372681949295\n",
      "2548.052928624735\n",
      "2548.052928624735\n",
      "60\n",
      "K : 18\n",
      "[0 -2400 -100 -1200 -2000]\n",
      "Uncertainty Level: High"
     ]
    },
    {
     "name": "stderr",
     "output_type": "stream",
     "text": [
      "\u001b[36m\u001b[1m[ \u001b[22m\u001b[39m\u001b[36m\u001b[1mInfo: \u001b[22m\u001b[39m          76.9983851s: 1 minute, 16 seconds, 998 milliseconds\n",
      "\u001b[36m\u001b[1m[ \u001b[22m\u001b[39m\u001b[36m\u001b[1mInfo: \u001b[22m\u001b[39m started timer at: 2025-04-11T17:31:38.992\n"
     ]
    },
    {
     "name": "stdout",
     "output_type": "stream",
     "text": [
      "\n",
      "false\n"
     ]
    },
    {
     "name": "stderr",
     "output_type": "stream",
     "text": [
      "\u001b[36m\u001b[1m[ \u001b[22m\u001b[39m\u001b[36m\u001b[1mInfo: \u001b[22m\u001b[39m started timer at: 2025-04-11T17:31:42.743\n"
     ]
    },
    {
     "name": "stdout",
     "output_type": "stream",
     "text": [
      "60\n",
      "k : 18\n",
      "1\n",
      "-31766.228069390916\n",
      "2601.3726210783548\n",
      "2601.3726210783548\n",
      "60\n",
      "K : 18\n",
      "[0 -2400"
     ]
    },
    {
     "name": "stderr",
     "output_type": "stream",
     "text": [
      "\u001b[36m\u001b[1m[ \u001b[22m\u001b[39m\u001b[36m\u001b[1mInfo: \u001b[22m\u001b[39m          77.2771057s: 1 minute, 17 seconds, 277 milliseconds\n",
      "\u001b[36m\u001b[1m[ \u001b[22m\u001b[39m\u001b[36m\u001b[1mInfo: \u001b[22m\u001b[39m started timer at: 2025-04-11T17:33:00.047\n"
     ]
    },
    {
     "name": "stdout",
     "output_type": "stream",
     "text": [
      " -100 -1200 -2000]\n",
      "Uncertainty Level: Very High\n",
      "false\n"
     ]
    },
    {
     "name": "stderr",
     "output_type": "stream",
     "text": [
      "\u001b[36m\u001b[1m[ \u001b[22m\u001b[39m\u001b[36m\u001b[1mInfo: \u001b[22m\u001b[39m started timer at: 2025-04-11T17:33:03.561\n"
     ]
    },
    {
     "name": "stdout",
     "output_type": "stream",
     "text": [
      "60\n",
      "k : 18\n",
      "1\n",
      "-31292.873599302\n",
      "2647.4375280239783\n",
      "2647.4375280239783\n",
      "60\n",
      "K : 18\n",
      "[0 -2400 -100 -1200 -2000]\n",
      "Uncertainty Level: Extreme\n"
     ]
    },
    {
     "name": "stderr",
     "output_type": "stream",
     "text": [
      "\u001b[36m\u001b[1m[ \u001b[22m\u001b[39m\u001b[36m\u001b[1mInfo: \u001b[22m\u001b[39m          75.9263239s: 1 minute, 15 seconds, 926 milliseconds\n",
      "\u001b[36m\u001b[1m[ \u001b[22m\u001b[39m\u001b[36m\u001b[1mInfo: \u001b[22m\u001b[39m started timer at: 2025-04-11T17:34:19.527\n"
     ]
    },
    {
     "name": "stdout",
     "output_type": "stream",
     "text": [
      "false\n"
     ]
    },
    {
     "name": "stderr",
     "output_type": "stream",
     "text": [
      "\u001b[36m\u001b[1m[ \u001b[22m\u001b[39m\u001b[36m\u001b[1mInfo: \u001b[22m\u001b[39m started timer at: 2025-04-11T17:34:22.795\n"
     ]
    },
    {
     "name": "stdout",
     "output_type": "stream",
     "text": [
      "60\n",
      "k : 18\n",
      "1\n",
      "-31819.72503322261\n",
      "2638.723190356039\n",
      "2638.723190356039\n"
     ]
    },
    {
     "name": "stderr",
     "output_type": "stream",
     "text": [
      "\u001b[36m\u001b[1m[ \u001b[22m\u001b[39m\u001b[36m\u001b[1mInfo: \u001b[22m\u001b[39m          75.5712643s: 1 minute, 15 seconds, 571 milliseconds\n"
     ]
    }
   ],
   "source": [
    "using DataFrames\n",
    "observation_matrices = [\n",
    "    # Low Uncertainty\n",
    "    [\n",
    "        0.9  0.1  0.0  0.0;\n",
    "        0.05 0.9  0.05 0.0;\n",
    "        0.0  0.1  0.9  0.0;\n",
    "        0.0  0.0  0.0  1.0\n",
    "    ],\n",
    "    # Original Uncertainty\n",
    "    [\n",
    "        0.8  0.2  0.0  0.0;\n",
    "        0.1  0.8  0.1  0.0;\n",
    "        0.0  0.2  0.8  0.0;\n",
    "        0.0  0.0  0.0  1.0\n",
    "    ],\n",
    "    # High Uncertainty\n",
    "    [\n",
    "        0.7  0.3  0.0  0.0;\n",
    "        0.15 0.7  0.15 0.0;\n",
    "        0.0  0.3  0.7  0.0;\n",
    "        0.0  0.0  0.0  1.0\n",
    "    ],\n",
    "    # Very High Uncertainty\n",
    "    [\n",
    "        0.6  0.4  0.0  0.0;\n",
    "        0.2  0.6  0.2  0.0;\n",
    "        0.0  0.4  0.6  0.0;\n",
    "        0.0  0.0  0.0  1.0\n",
    "    ],\n",
    "    # Extreme Uncertainty\n",
    "    [\n",
    "        0.5  0.5  0.0  0.0;\n",
    "        0.25 0.5  0.25 0.0;\n",
    "        0.0  0.5  0.5  0.0;\n",
    "        0.0  0.0  0.0  1.0\n",
    "    ]\n",
    "]\n",
    "\n",
    "# Labels for the observation matrices (useful for output and plotting)\n",
    "uncertainty_labels = [\"Low\", \"Original\", \"High\", \"Very High\", \"Extreme\"]\n",
    "\n",
    "# Modified DataFrame with an additional column for uncertainty level\n",
    "df = DataFrame(uncertainty=[], u=[], K=[], n=[], s=[], m=[], f=[], p=[], lamb=[], mean=[], std=[])\n",
    "\n",
    "cost=[ \n",
    "    [0  -2400   -100    -1200 -2000]\n",
    "\n",
    "] \n",
    "\n",
    "\n",
    "for units in [20, 25, 30, 40, 50, 60]\n",
    "\n",
    "    global limit = get_fixed_K(units)\n",
    "    global K = limit\n",
    "        \n",
    "    global NumberUnits=convert(Int64,units)\n",
    " \n",
    "    #for lambda in [1,0.9,0.75,0.5,0.1,0.075,0.05,0.01,0.0075,0.005,0.0001]\n",
    "    for lambda in 1:1:1\n",
    "    global lamb=lambda\n",
    "    for c in cost\n",
    "        for obs_idx in 1:length(observation_matrices)\n",
    "            global Observation_matrix = observation_matrices[obs_idx]\n",
    "            global uncertainty_level = uncertainty_labels[obs_idx]\n",
    "        tick()\n",
    "        println(units)  \n",
    "        print(\"K : \")\n",
    "        println(K)\n",
    "        global normal_operation,setup_cost,maintenance_penalty,failure_penalty,system_penalty=c\n",
    "        println(c)  \n",
    "        println(\"Uncertainty Level: \", uncertainty_level)\n",
    "\n",
    "        global NumberUnits=units\n",
    "\n",
    "# POMDP is set up\n",
    "# CONTINUE to obtain TRIVIAL SOLUTION and compute expected total rewards\n",
    "\n",
    "# Obtain Q function using Value Iteration, same as CW-MDP\n",
    "Q = ValueIteration(1:Number_level, T, gamma)\n",
    "println(isnan(Q[1,1]))\n",
    "if sum(isnan(Q[1,1])) > 0.0\n",
    "    continue\n",
    "end\n",
    "\n",
    "tick()\n",
    "\n",
    "trials=10000;\n",
    "simsteps = 100;\n",
    "results=zeros(trials)*0.1\n",
    "Threads.@threads  for h in 1:trials\n",
    "# Suppose we start from brand new states and we know it\n",
    "s=repeat(1:1,NumberUnits)\n",
    "# o=s \n",
    "o = rand(Initialobs, NumberUnits)\n",
    "# belief = [[1.0, 0.0, 0.0, 0.0] for j in 1:NumberUnits]\n",
    "belief = [Observation_matrix[1,:] for j in 1:NumberUnits]\n",
    "R_sequence=[] \n",
    "r=repeat(1:1,NumberUnits)*1.0\n",
    "# a=repeat(1:1,NumberUnits)\n",
    "\n",
    "# iteration\n",
    "for k in 1:simsteps\n",
    "    # function decision(Q, o, b)\n",
    " \n",
    "    a=decision(Q,o,belief) # system-level decision making: action vector\n",
    "    # SANITY CHECK\n",
    "    # Update belief for each component individually\n",
    "    #b=update_belief(b, a, o, multiunit) # what is the sequence of observing, updating belief, taking action?\n",
    "    \n",
    "    R_instant = 0.0\n",
    "    global failed_components=0\n",
    "    # When generating new state and new reward, we use true states\n",
    "    for i in 1:NumberUnits # numerate over units\n",
    "        if o[i]==Number_level # failure state is self-announcing\n",
    "            failed_components+=1\n",
    "        end\n",
    "    s[i],r[i],o[i]=generative(s[i],a[i],234) #call generative function for underlying states\n",
    "    # it might be better to use generative function to give o as well\n",
    "    # o[i]=emission(s[i]) # observation generated by new underlying state\n",
    "    belief[i]=update_belief(belief[i], a[i], o[i], multiunit)\n",
    "    # sum up single-component cost\n",
    "    R_instant += r[i]\n",
    "    end\n",
    "    # add setup cost\n",
    "    if (2 in a) ||(3 in a) ||(4 in a)\n",
    "        R_instant += setup_cost\n",
    "    end\n",
    "    # add system failure penalty\n",
    "    if failed_components >= limit\n",
    "        R_instant += system_penalty\n",
    "    end\n",
    "    # record instant reward of current time step\n",
    "    append!(R_sequence, R_instant)\n",
    "\n",
    "end\n",
    "R_discounted=0\n",
    "for k in 1:simsteps\n",
    "    R_discounted=gamma * R_discounted+R_sequence[simsteps-k+1]\n",
    "end\n",
    "results[h]=R_discounted\n",
    "end # end the 10000 trials\n",
    "\n",
    "println(units)\n",
    "            print(\"k : \")\n",
    "            println(limit)\n",
    "println(lambda)\n",
    "\n",
    "println(mean(results))\n",
    "\n",
    "println(std(results))\n",
    "println(std(results))\n",
    "    pushfirst!(df, [\n",
    "        uncertainty_level,  # Add the uncertainty level as the first column\n",
    "        units, \n",
    "        limit, \n",
    "        normal_operation, \n",
    "        setup_cost, \n",
    "        maintenance_penalty, \n",
    "        failure_penalty, \n",
    "        system_penalty, \n",
    "        lamb, \n",
    "        mean(results), \n",
    "        std(results)\n",
    "    ])\n",
    "        \n",
    "tock()\n",
    "\n",
    "                    \n",
    "                    \n",
    "    end\n",
    "    end        \n",
    "end\n",
    "end\n"
   ]
  },
  {
   "cell_type": "code",
   "execution_count": 45,
   "metadata": {},
   "outputs": [
    {
     "data": {
      "text/html": [
       "<div><div style = \"float: left;\"><span>30×11 DataFrame</span></div><div style = \"float: right;\"><span style = \"font-style: italic;\">5 rows omitted</span></div><div style = \"clear: both;\"></div></div><div class = \"data-frame\" style = \"overflow-x: scroll;\"><table class = \"data-frame\" style = \"margin-bottom: 6px;\"><thead><tr class = \"header\"><th class = \"rowNumber\" style = \"font-weight: bold; text-align: right;\">Row</th><th style = \"text-align: left;\">uncertainty</th><th style = \"text-align: left;\">u</th><th style = \"text-align: left;\">K</th><th style = \"text-align: left;\">n</th><th style = \"text-align: left;\">s</th><th style = \"text-align: left;\">m</th><th style = \"text-align: left;\">f</th><th style = \"text-align: left;\">p</th><th style = \"text-align: left;\">lamb</th><th style = \"text-align: left;\">mean</th><th style = \"text-align: left;\">std</th></tr><tr class = \"subheader headerLastRow\"><th class = \"rowNumber\" style = \"font-weight: bold; text-align: right;\"></th><th title = \"Any\" style = \"text-align: left;\">Any</th><th title = \"Any\" style = \"text-align: left;\">Any</th><th title = \"Any\" style = \"text-align: left;\">Any</th><th title = \"Any\" style = \"text-align: left;\">Any</th><th title = \"Any\" style = \"text-align: left;\">Any</th><th title = \"Any\" style = \"text-align: left;\">Any</th><th title = \"Any\" style = \"text-align: left;\">Any</th><th title = \"Any\" style = \"text-align: left;\">Any</th><th title = \"Any\" style = \"text-align: left;\">Any</th><th title = \"Any\" style = \"text-align: left;\">Any</th><th title = \"Any\" style = \"text-align: left;\">Any</th></tr></thead><tbody><tr><td class = \"rowNumber\" style = \"font-weight: bold; text-align: right;\">1</td><td style = \"text-align: left;\">Extreme</td><td style = \"text-align: left;\">60</td><td style = \"text-align: left;\">18</td><td style = \"text-align: left;\">0</td><td style = \"text-align: left;\">-2400</td><td style = \"text-align: left;\">-100</td><td style = \"text-align: left;\">-1200</td><td style = \"text-align: left;\">-2000</td><td style = \"text-align: left;\">1</td><td style = \"text-align: left;\">-31819.7</td><td style = \"text-align: left;\">2638.72</td></tr><tr><td class = \"rowNumber\" style = \"font-weight: bold; text-align: right;\">2</td><td style = \"text-align: left;\">Very High</td><td style = \"text-align: left;\">60</td><td style = \"text-align: left;\">18</td><td style = \"text-align: left;\">0</td><td style = \"text-align: left;\">-2400</td><td style = \"text-align: left;\">-100</td><td style = \"text-align: left;\">-1200</td><td style = \"text-align: left;\">-2000</td><td style = \"text-align: left;\">1</td><td style = \"text-align: left;\">-31292.9</td><td style = \"text-align: left;\">2647.44</td></tr><tr><td class = \"rowNumber\" style = \"font-weight: bold; text-align: right;\">3</td><td style = \"text-align: left;\">High</td><td style = \"text-align: left;\">60</td><td style = \"text-align: left;\">18</td><td style = \"text-align: left;\">0</td><td style = \"text-align: left;\">-2400</td><td style = \"text-align: left;\">-100</td><td style = \"text-align: left;\">-1200</td><td style = \"text-align: left;\">-2000</td><td style = \"text-align: left;\">1</td><td style = \"text-align: left;\">-31766.2</td><td style = \"text-align: left;\">2601.37</td></tr><tr><td class = \"rowNumber\" style = \"font-weight: bold; text-align: right;\">4</td><td style = \"text-align: left;\">Original</td><td style = \"text-align: left;\">60</td><td style = \"text-align: left;\">18</td><td style = \"text-align: left;\">0</td><td style = \"text-align: left;\">-2400</td><td style = \"text-align: left;\">-100</td><td style = \"text-align: left;\">-1200</td><td style = \"text-align: left;\">-2000</td><td style = \"text-align: left;\">1</td><td style = \"text-align: left;\">-31539.4</td><td style = \"text-align: left;\">2548.05</td></tr><tr><td class = \"rowNumber\" style = \"font-weight: bold; text-align: right;\">5</td><td style = \"text-align: left;\">Low</td><td style = \"text-align: left;\">60</td><td style = \"text-align: left;\">18</td><td style = \"text-align: left;\">0</td><td style = \"text-align: left;\">-2400</td><td style = \"text-align: left;\">-100</td><td style = \"text-align: left;\">-1200</td><td style = \"text-align: left;\">-2000</td><td style = \"text-align: left;\">1</td><td style = \"text-align: left;\">-30813.8</td><td style = \"text-align: left;\">2491.99</td></tr><tr><td class = \"rowNumber\" style = \"font-weight: bold; text-align: right;\">6</td><td style = \"text-align: left;\">Extreme</td><td style = \"text-align: left;\">50</td><td style = \"text-align: left;\">18</td><td style = \"text-align: left;\">0</td><td style = \"text-align: left;\">-2400</td><td style = \"text-align: left;\">-100</td><td style = \"text-align: left;\">-1200</td><td style = \"text-align: left;\">-2000</td><td style = \"text-align: left;\">1</td><td style = \"text-align: left;\">-27031.2</td><td style = \"text-align: left;\">2461.35</td></tr><tr><td class = \"rowNumber\" style = \"font-weight: bold; text-align: right;\">7</td><td style = \"text-align: left;\">Very High</td><td style = \"text-align: left;\">50</td><td style = \"text-align: left;\">18</td><td style = \"text-align: left;\">0</td><td style = \"text-align: left;\">-2400</td><td style = \"text-align: left;\">-100</td><td style = \"text-align: left;\">-1200</td><td style = \"text-align: left;\">-2000</td><td style = \"text-align: left;\">1</td><td style = \"text-align: left;\">-26960.6</td><td style = \"text-align: left;\">2416.05</td></tr><tr><td class = \"rowNumber\" style = \"font-weight: bold; text-align: right;\">8</td><td style = \"text-align: left;\">High</td><td style = \"text-align: left;\">50</td><td style = \"text-align: left;\">18</td><td style = \"text-align: left;\">0</td><td style = \"text-align: left;\">-2400</td><td style = \"text-align: left;\">-100</td><td style = \"text-align: left;\">-1200</td><td style = \"text-align: left;\">-2000</td><td style = \"text-align: left;\">1</td><td style = \"text-align: left;\">-27472.1</td><td style = \"text-align: left;\">2434.83</td></tr><tr><td class = \"rowNumber\" style = \"font-weight: bold; text-align: right;\">9</td><td style = \"text-align: left;\">Original</td><td style = \"text-align: left;\">50</td><td style = \"text-align: left;\">18</td><td style = \"text-align: left;\">0</td><td style = \"text-align: left;\">-2400</td><td style = \"text-align: left;\">-100</td><td style = \"text-align: left;\">-1200</td><td style = \"text-align: left;\">-2000</td><td style = \"text-align: left;\">1</td><td style = \"text-align: left;\">-27396.9</td><td style = \"text-align: left;\">2340.31</td></tr><tr><td class = \"rowNumber\" style = \"font-weight: bold; text-align: right;\">10</td><td style = \"text-align: left;\">Low</td><td style = \"text-align: left;\">50</td><td style = \"text-align: left;\">18</td><td style = \"text-align: left;\">0</td><td style = \"text-align: left;\">-2400</td><td style = \"text-align: left;\">-100</td><td style = \"text-align: left;\">-1200</td><td style = \"text-align: left;\">-2000</td><td style = \"text-align: left;\">1</td><td style = \"text-align: left;\">-26939.0</td><td style = \"text-align: left;\">2311.78</td></tr><tr><td class = \"rowNumber\" style = \"font-weight: bold; text-align: right;\">11</td><td style = \"text-align: left;\">Extreme</td><td style = \"text-align: left;\">40</td><td style = \"text-align: left;\">18</td><td style = \"text-align: left;\">0</td><td style = \"text-align: left;\">-2400</td><td style = \"text-align: left;\">-100</td><td style = \"text-align: left;\">-1200</td><td style = \"text-align: left;\">-2000</td><td style = \"text-align: left;\">1</td><td style = \"text-align: left;\">-22405.4</td><td style = \"text-align: left;\">2216.94</td></tr><tr><td class = \"rowNumber\" style = \"font-weight: bold; text-align: right;\">12</td><td style = \"text-align: left;\">Very High</td><td style = \"text-align: left;\">40</td><td style = \"text-align: left;\">18</td><td style = \"text-align: left;\">0</td><td style = \"text-align: left;\">-2400</td><td style = \"text-align: left;\">-100</td><td style = \"text-align: left;\">-1200</td><td style = \"text-align: left;\">-2000</td><td style = \"text-align: left;\">1</td><td style = \"text-align: left;\">-22397.1</td><td style = \"text-align: left;\">2168.51</td></tr><tr><td class = \"rowNumber\" style = \"font-weight: bold; text-align: right;\">13</td><td style = \"text-align: left;\">High</td><td style = \"text-align: left;\">40</td><td style = \"text-align: left;\">18</td><td style = \"text-align: left;\">0</td><td style = \"text-align: left;\">-2400</td><td style = \"text-align: left;\">-100</td><td style = \"text-align: left;\">-1200</td><td style = \"text-align: left;\">-2000</td><td style = \"text-align: left;\">1</td><td style = \"text-align: left;\">-22715.6</td><td style = \"text-align: left;\">2169.32</td></tr><tr><td style = \"text-align: right;\">&vellip;</td><td style = \"text-align: right;\">&vellip;</td><td style = \"text-align: right;\">&vellip;</td><td style = \"text-align: right;\">&vellip;</td><td style = \"text-align: right;\">&vellip;</td><td style = \"text-align: right;\">&vellip;</td><td style = \"text-align: right;\">&vellip;</td><td style = \"text-align: right;\">&vellip;</td><td style = \"text-align: right;\">&vellip;</td><td style = \"text-align: right;\">&vellip;</td><td style = \"text-align: right;\">&vellip;</td><td style = \"text-align: right;\">&vellip;</td></tr><tr><td class = \"rowNumber\" style = \"font-weight: bold; text-align: right;\">19</td><td style = \"text-align: left;\">Original</td><td style = \"text-align: left;\">30</td><td style = \"text-align: left;\">14</td><td style = \"text-align: left;\">0</td><td style = \"text-align: left;\">-2400</td><td style = \"text-align: left;\">-100</td><td style = \"text-align: left;\">-1200</td><td style = \"text-align: left;\">-2000</td><td style = \"text-align: left;\">1</td><td style = \"text-align: left;\">-18277.0</td><td style = \"text-align: left;\">2013.91</td></tr><tr><td class = \"rowNumber\" style = \"font-weight: bold; text-align: right;\">20</td><td style = \"text-align: left;\">Low</td><td style = \"text-align: left;\">30</td><td style = \"text-align: left;\">14</td><td style = \"text-align: left;\">0</td><td style = \"text-align: left;\">-2400</td><td style = \"text-align: left;\">-100</td><td style = \"text-align: left;\">-1200</td><td style = \"text-align: left;\">-2000</td><td style = \"text-align: left;\">1</td><td style = \"text-align: left;\">-18227.7</td><td style = \"text-align: left;\">1936.58</td></tr><tr><td class = \"rowNumber\" style = \"font-weight: bold; text-align: right;\">21</td><td style = \"text-align: left;\">Extreme</td><td style = \"text-align: left;\">25</td><td style = \"text-align: left;\">10</td><td style = \"text-align: left;\">0</td><td style = \"text-align: left;\">-2400</td><td style = \"text-align: left;\">-100</td><td style = \"text-align: left;\">-1200</td><td style = \"text-align: left;\">-2000</td><td style = \"text-align: left;\">1</td><td style = \"text-align: left;\">-16089.5</td><td style = \"text-align: left;\">1976.99</td></tr><tr><td class = \"rowNumber\" style = \"font-weight: bold; text-align: right;\">22</td><td style = \"text-align: left;\">Very High</td><td style = \"text-align: left;\">25</td><td style = \"text-align: left;\">10</td><td style = \"text-align: left;\">0</td><td style = \"text-align: left;\">-2400</td><td style = \"text-align: left;\">-100</td><td style = \"text-align: left;\">-1200</td><td style = \"text-align: left;\">-2000</td><td style = \"text-align: left;\">1</td><td style = \"text-align: left;\">-15852.5</td><td style = \"text-align: left;\">1972.9</td></tr><tr><td class = \"rowNumber\" style = \"font-weight: bold; text-align: right;\">23</td><td style = \"text-align: left;\">High</td><td style = \"text-align: left;\">25</td><td style = \"text-align: left;\">10</td><td style = \"text-align: left;\">0</td><td style = \"text-align: left;\">-2400</td><td style = \"text-align: left;\">-100</td><td style = \"text-align: left;\">-1200</td><td style = \"text-align: left;\">-2000</td><td style = \"text-align: left;\">1</td><td style = \"text-align: left;\">-15571.7</td><td style = \"text-align: left;\">1911.77</td></tr><tr><td class = \"rowNumber\" style = \"font-weight: bold; text-align: right;\">24</td><td style = \"text-align: left;\">Original</td><td style = \"text-align: left;\">25</td><td style = \"text-align: left;\">10</td><td style = \"text-align: left;\">0</td><td style = \"text-align: left;\">-2400</td><td style = \"text-align: left;\">-100</td><td style = \"text-align: left;\">-1200</td><td style = \"text-align: left;\">-2000</td><td style = \"text-align: left;\">1</td><td style = \"text-align: left;\">-16381.6</td><td style = \"text-align: left;\">1980.68</td></tr><tr><td class = \"rowNumber\" style = \"font-weight: bold; text-align: right;\">25</td><td style = \"text-align: left;\">Low</td><td style = \"text-align: left;\">25</td><td style = \"text-align: left;\">10</td><td style = \"text-align: left;\">0</td><td style = \"text-align: left;\">-2400</td><td style = \"text-align: left;\">-100</td><td style = \"text-align: left;\">-1200</td><td style = \"text-align: left;\">-2000</td><td style = \"text-align: left;\">1</td><td style = \"text-align: left;\">-16367.1</td><td style = \"text-align: left;\">1967.51</td></tr><tr><td class = \"rowNumber\" style = \"font-weight: bold; text-align: right;\">26</td><td style = \"text-align: left;\">Extreme</td><td style = \"text-align: left;\">20</td><td style = \"text-align: left;\">10</td><td style = \"text-align: left;\">0</td><td style = \"text-align: left;\">-2400</td><td style = \"text-align: left;\">-100</td><td style = \"text-align: left;\">-1200</td><td style = \"text-align: left;\">-2000</td><td style = \"text-align: left;\">1</td><td style = \"text-align: left;\">-13286.2</td><td style = \"text-align: left;\">1814.01</td></tr><tr><td class = \"rowNumber\" style = \"font-weight: bold; text-align: right;\">27</td><td style = \"text-align: left;\">Very High</td><td style = \"text-align: left;\">20</td><td style = \"text-align: left;\">10</td><td style = \"text-align: left;\">0</td><td style = \"text-align: left;\">-2400</td><td style = \"text-align: left;\">-100</td><td style = \"text-align: left;\">-1200</td><td style = \"text-align: left;\">-2000</td><td style = \"text-align: left;\">1</td><td style = \"text-align: left;\">-13127.9</td><td style = \"text-align: left;\">1762.02</td></tr><tr><td class = \"rowNumber\" style = \"font-weight: bold; text-align: right;\">28</td><td style = \"text-align: left;\">High</td><td style = \"text-align: left;\">20</td><td style = \"text-align: left;\">10</td><td style = \"text-align: left;\">0</td><td style = \"text-align: left;\">-2400</td><td style = \"text-align: left;\">-100</td><td style = \"text-align: left;\">-1200</td><td style = \"text-align: left;\">-2000</td><td style = \"text-align: left;\">1</td><td style = \"text-align: left;\">-12943.4</td><td style = \"text-align: left;\">1738.39</td></tr><tr><td class = \"rowNumber\" style = \"font-weight: bold; text-align: right;\">29</td><td style = \"text-align: left;\">Original</td><td style = \"text-align: left;\">20</td><td style = \"text-align: left;\">10</td><td style = \"text-align: left;\">0</td><td style = \"text-align: left;\">-2400</td><td style = \"text-align: left;\">-100</td><td style = \"text-align: left;\">-1200</td><td style = \"text-align: left;\">-2000</td><td style = \"text-align: left;\">1</td><td style = \"text-align: left;\">-12688.6</td><td style = \"text-align: left;\">1732.67</td></tr><tr><td class = \"rowNumber\" style = \"font-weight: bold; text-align: right;\">30</td><td style = \"text-align: left;\">Low</td><td style = \"text-align: left;\">20</td><td style = \"text-align: left;\">10</td><td style = \"text-align: left;\">0</td><td style = \"text-align: left;\">-2400</td><td style = \"text-align: left;\">-100</td><td style = \"text-align: left;\">-1200</td><td style = \"text-align: left;\">-2000</td><td style = \"text-align: left;\">1</td><td style = \"text-align: left;\">-13533.5</td><td style = \"text-align: left;\">1802.78</td></tr></tbody></table></div>"
      ],
      "text/latex": [
       "\\begin{tabular}{r|ccccccccccc}\n",
       "\t& uncertainty & u & K & n & s & m & f & p & lamb & mean & std\\\\\n",
       "\t\\hline\n",
       "\t& Any & Any & Any & Any & Any & Any & Any & Any & Any & Any & Any\\\\\n",
       "\t\\hline\n",
       "\t1 & Extreme & 60 & 18 & 0 & -2400 & -100 & -1200 & -2000 & 1 & -31819.7 & 2638.72 \\\\\n",
       "\t2 & Very High & 60 & 18 & 0 & -2400 & -100 & -1200 & -2000 & 1 & -31292.9 & 2647.44 \\\\\n",
       "\t3 & High & 60 & 18 & 0 & -2400 & -100 & -1200 & -2000 & 1 & -31766.2 & 2601.37 \\\\\n",
       "\t4 & Original & 60 & 18 & 0 & -2400 & -100 & -1200 & -2000 & 1 & -31539.4 & 2548.05 \\\\\n",
       "\t5 & Low & 60 & 18 & 0 & -2400 & -100 & -1200 & -2000 & 1 & -30813.8 & 2491.99 \\\\\n",
       "\t6 & Extreme & 50 & 18 & 0 & -2400 & -100 & -1200 & -2000 & 1 & -27031.2 & 2461.35 \\\\\n",
       "\t7 & Very High & 50 & 18 & 0 & -2400 & -100 & -1200 & -2000 & 1 & -26960.6 & 2416.05 \\\\\n",
       "\t8 & High & 50 & 18 & 0 & -2400 & -100 & -1200 & -2000 & 1 & -27472.1 & 2434.83 \\\\\n",
       "\t9 & Original & 50 & 18 & 0 & -2400 & -100 & -1200 & -2000 & 1 & -27396.9 & 2340.31 \\\\\n",
       "\t10 & Low & 50 & 18 & 0 & -2400 & -100 & -1200 & -2000 & 1 & -26939.0 & 2311.78 \\\\\n",
       "\t11 & Extreme & 40 & 18 & 0 & -2400 & -100 & -1200 & -2000 & 1 & -22405.4 & 2216.94 \\\\\n",
       "\t12 & Very High & 40 & 18 & 0 & -2400 & -100 & -1200 & -2000 & 1 & -22397.1 & 2168.51 \\\\\n",
       "\t13 & High & 40 & 18 & 0 & -2400 & -100 & -1200 & -2000 & 1 & -22715.6 & 2169.32 \\\\\n",
       "\t14 & Original & 40 & 18 & 0 & -2400 & -100 & -1200 & -2000 & 1 & -22813.6 & 2122.81 \\\\\n",
       "\t15 & Low & 40 & 18 & 0 & -2400 & -100 & -1200 & -2000 & 1 & -22630.7 & 2093.05 \\\\\n",
       "\t16 & Extreme & 30 & 14 & 0 & -2400 & -100 & -1200 & -2000 & 1 & -17925.1 & 2014.01 \\\\\n",
       "\t17 & Very High & 30 & 14 & 0 & -2400 & -100 & -1200 & -2000 & 1 & -17736.9 & 1972.11 \\\\\n",
       "\t18 & High & 30 & 14 & 0 & -2400 & -100 & -1200 & -2000 & 1 & -17648.8 & 1962.41 \\\\\n",
       "\t19 & Original & 30 & 14 & 0 & -2400 & -100 & -1200 & -2000 & 1 & -18277.0 & 2013.91 \\\\\n",
       "\t20 & Low & 30 & 14 & 0 & -2400 & -100 & -1200 & -2000 & 1 & -18227.7 & 1936.58 \\\\\n",
       "\t21 & Extreme & 25 & 10 & 0 & -2400 & -100 & -1200 & -2000 & 1 & -16089.5 & 1976.99 \\\\\n",
       "\t22 & Very High & 25 & 10 & 0 & -2400 & -100 & -1200 & -2000 & 1 & -15852.5 & 1972.9 \\\\\n",
       "\t23 & High & 25 & 10 & 0 & -2400 & -100 & -1200 & -2000 & 1 & -15571.7 & 1911.77 \\\\\n",
       "\t24 & Original & 25 & 10 & 0 & -2400 & -100 & -1200 & -2000 & 1 & -16381.6 & 1980.68 \\\\\n",
       "\t25 & Low & 25 & 10 & 0 & -2400 & -100 & -1200 & -2000 & 1 & -16367.1 & 1967.51 \\\\\n",
       "\t26 & Extreme & 20 & 10 & 0 & -2400 & -100 & -1200 & -2000 & 1 & -13286.2 & 1814.01 \\\\\n",
       "\t27 & Very High & 20 & 10 & 0 & -2400 & -100 & -1200 & -2000 & 1 & -13127.9 & 1762.02 \\\\\n",
       "\t28 & High & 20 & 10 & 0 & -2400 & -100 & -1200 & -2000 & 1 & -12943.4 & 1738.39 \\\\\n",
       "\t29 & Original & 20 & 10 & 0 & -2400 & -100 & -1200 & -2000 & 1 & -12688.6 & 1732.67 \\\\\n",
       "\t30 & Low & 20 & 10 & 0 & -2400 & -100 & -1200 & -2000 & 1 & -13533.5 & 1802.78 \\\\\n",
       "\\end{tabular}\n"
      ],
      "text/plain": [
       "\u001b[1m30×11 DataFrame\u001b[0m\n",
       "\u001b[1m Row \u001b[0m│\u001b[1m uncertainty \u001b[0m\u001b[1m u   \u001b[0m\u001b[1m K   \u001b[0m\u001b[1m n   \u001b[0m\u001b[1m s     \u001b[0m\u001b[1m m    \u001b[0m\u001b[1m f     \u001b[0m\u001b[1m p     \u001b[0m\u001b[1m lamb \u001b[0m\u001b[1m mean     \u001b[0m\u001b[1m \u001b[0m ⋯\n",
       "     │\u001b[90m Any         \u001b[0m\u001b[90m Any \u001b[0m\u001b[90m Any \u001b[0m\u001b[90m Any \u001b[0m\u001b[90m Any   \u001b[0m\u001b[90m Any  \u001b[0m\u001b[90m Any   \u001b[0m\u001b[90m Any   \u001b[0m\u001b[90m Any  \u001b[0m\u001b[90m Any      \u001b[0m\u001b[90m \u001b[0m ⋯\n",
       "─────┼──────────────────────────────────────────────────────────────────────────\n",
       "   1 │ Extreme      60   18   0    -2400  -100  -1200  -2000  1     -31819.7   ⋯\n",
       "   2 │ Very High    60   18   0    -2400  -100  -1200  -2000  1     -31292.9\n",
       "   3 │ High         60   18   0    -2400  -100  -1200  -2000  1     -31766.2\n",
       "   4 │ Original     60   18   0    -2400  -100  -1200  -2000  1     -31539.4\n",
       "   5 │ Low          60   18   0    -2400  -100  -1200  -2000  1     -30813.8   ⋯\n",
       "   6 │ Extreme      50   18   0    -2400  -100  -1200  -2000  1     -27031.2\n",
       "   7 │ Very High    50   18   0    -2400  -100  -1200  -2000  1     -26960.6\n",
       "   8 │ High         50   18   0    -2400  -100  -1200  -2000  1     -27472.1\n",
       "   9 │ Original     50   18   0    -2400  -100  -1200  -2000  1     -27396.9   ⋯\n",
       "  10 │ Low          50   18   0    -2400  -100  -1200  -2000  1     -26939.0\n",
       "  11 │ Extreme      40   18   0    -2400  -100  -1200  -2000  1     -22405.4\n",
       "  ⋮  │      ⋮        ⋮    ⋮    ⋮     ⋮     ⋮      ⋮      ⋮     ⋮       ⋮       ⋱\n",
       "  21 │ Extreme      25   10   0    -2400  -100  -1200  -2000  1     -16089.5\n",
       "  22 │ Very High    25   10   0    -2400  -100  -1200  -2000  1     -15852.5   ⋯\n",
       "  23 │ High         25   10   0    -2400  -100  -1200  -2000  1     -15571.7\n",
       "  24 │ Original     25   10   0    -2400  -100  -1200  -2000  1     -16381.6\n",
       "  25 │ Low          25   10   0    -2400  -100  -1200  -2000  1     -16367.1\n",
       "  26 │ Extreme      20   10   0    -2400  -100  -1200  -2000  1     -13286.2   ⋯\n",
       "  27 │ Very High    20   10   0    -2400  -100  -1200  -2000  1     -13127.9\n",
       "  28 │ High         20   10   0    -2400  -100  -1200  -2000  1     -12943.4\n",
       "  29 │ Original     20   10   0    -2400  -100  -1200  -2000  1     -12688.6\n",
       "  30 │ Low          20   10   0    -2400  -100  -1200  -2000  1     -13533.5   ⋯\n",
       "\u001b[36m                                                     1 column and 9 rows omitted\u001b[0m"
      ]
     },
     "execution_count": 45,
     "metadata": {},
     "output_type": "execute_result"
    }
   ],
   "source": [
    "df"
   ]
  },
  {
   "cell_type": "code",
   "execution_count": 46,
   "metadata": {},
   "outputs": [
    {
     "data": {
      "text/plain": [
       "\"CW-MDP.csv\""
      ]
     },
     "execution_count": 46,
     "metadata": {},
     "output_type": "execute_result"
    }
   ],
   "source": [
    "using CSV\n",
    "CSV.write(\"CW-MDP.csv\", df)"
   ]
  },
  {
   "cell_type": "code",
   "execution_count": null,
   "metadata": {},
   "outputs": [],
   "source": []
  }
 ],
 "metadata": {
  "kernelspec": {
   "display_name": "Julia 1.11.3",
   "language": "julia",
   "name": "julia-1.11"
  },
  "language_info": {
   "file_extension": ".jl",
   "mimetype": "application/julia",
   "name": "julia",
   "version": "1.11.3"
  },
  "vscode": {
   "interpreter": {
    "hash": "aee8b7b246df8f9039afb4144a1f6fd8d2ca17a180786b69acc140d282b71a49"
   }
  }
 },
 "nbformat": 4,
 "nbformat_minor": 4
}
