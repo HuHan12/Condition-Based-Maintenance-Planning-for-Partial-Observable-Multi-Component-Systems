{
 "cells": [
  {
   "cell_type": "code",
   "execution_count": 29,
   "metadata": {},
   "outputs": [],
   "source": [
    "using POMDPs, POMDPTools, QuickPOMDPs, MCTS, DiscreteValueIteration, POMDPSimulators, POMDPModels, POMDPPolicies, POMDPModelTools\n",
    "using Distributions, Combinatorics, StaticArrays, D3Trees, Random\n",
    "using FileIO, JLD2, TickTock\n",
    "using NativeSARSOP\n"
   ]
  },
  {
   "cell_type": "markdown",
   "metadata": {},
   "source": [
    "## Initialization"
   ]
  },
  {
   "cell_type": "code",
   "execution_count": 30,
   "metadata": {},
   "outputs": [
    {
     "data": {
      "text/plain": [
       "4-element Vector{Int64}:\n",
       " 1\n",
       " 2\n",
       " 3\n",
       " 4"
      ]
     },
     "execution_count": 30,
     "metadata": {},
     "output_type": "execute_result"
    }
   ],
   "source": [
    "global Number_level = 4;\n",
    "global Action_num = 4;\n",
    "gamma=0.95\n",
    "\n",
    "States=Array((1:Number_level))\n",
    "Observations=Array((1:Number_level))\n"
   ]
  },
  {
   "cell_type": "code",
   "execution_count": 31,
   "metadata": {},
   "outputs": [
    {
     "data": {
      "text/plain": [
       "4×4 Matrix{Float64}:\n",
       " 0.8  0.2  0.0  0.0\n",
       " 0.1  0.8  0.1  0.0\n",
       " 0.0  0.2  0.8  0.0\n",
       " 0.0  0.0  0.0  1.0"
      ]
     },
     "execution_count": 31,
     "metadata": {},
     "output_type": "execute_result"
    }
   ],
   "source": [
    "Observation_matrix=[\n",
    "    0.8 0.2 0.0 0.0;\n",
    "    0.1 0.8 0.1 0.0;\n",
    "    0.0 0.2 0.8 0.0;\n",
    "    0.0 0.0 0.0 1.0\n",
    "]\n"
   ]
  },
  {
   "cell_type": "code",
   "execution_count": 32,
   "metadata": {},
   "outputs": [
    {
     "data": {
      "text/plain": [
       "0.2"
      ]
     },
     "execution_count": 32,
     "metadata": {},
     "output_type": "execute_result"
    }
   ],
   "source": [
    "pdf(Categorical(Observation_matrix[1,:]),2)"
   ]
  },
  {
   "cell_type": "code",
   "execution_count": 33,
   "metadata": {},
   "outputs": [
    {
     "data": {
      "text/plain": [
       "0.2"
      ]
     },
     "execution_count": 33,
     "metadata": {},
     "output_type": "execute_result"
    }
   ],
   "source": [
    "Observation_matrix[1,2]"
   ]
  },
  {
   "cell_type": "code",
   "execution_count": 34,
   "metadata": {},
   "outputs": [],
   "source": [
    "T=zeros(Number_level,Number_level,3,100);\n",
    "\n",
    "# Load transition probability matrix for each component\n",
    "for i in 1:100\n",
    "    fullname = \"C:/Users/hhu98/OneDrive - UW-Madison/POMDP/code/Heterogeneous system/hetero_tm/tm\"*string(i);\n",
    "   \n",
    "    Transition_matrix = load(fullname*\".jld2\",\"transition_matrix\");\n",
    "    # the last term in argument of T, which is written as 'i' here,\n",
    "    # is the index of component in the heterogeneous system\n",
    "    T[:,:,1,i].=Transition_matrix; # a=1: do not replace\n",
    "    T[:,:,2,i].=Transition_matrix; # a=2: corrective replacement\n",
    "    for j in 1:Number_level\n",
    "        T[j,:,3,i].=Transition_matrix[1,:]; # a=3: preventive replacement\n",
    "        end\n",
    "    # T[Number_level,:,1,i].=Transition_matrix[1,:]\n",
    "    T[Number_level,:,1,i].=0.0\n",
    "    T[Number_level,Number_level,1,i]=1.0\n",
    "    T[Number_level,:,2,i].=Transition_matrix[1,:]\n",
    "\n",
    "end"
   ]
  },
  {
   "cell_type": "code",
   "execution_count": 35,
   "metadata": {},
   "outputs": [],
   "source": [
    "# T[:,:,:,30]"
   ]
  },
  {
   "cell_type": "code",
   "execution_count": 36,
   "metadata": {},
   "outputs": [
    {
     "data": {
      "text/plain": [
       "-2000"
      ]
     },
     "execution_count": 36,
     "metadata": {},
     "output_type": "execute_result"
    }
   ],
   "source": [
    "NumberUnits=20\n",
    "limit=12\n",
    "failure_penalty = -1200.0;\n",
    "maintenance_penalty = -100.0;\n",
    "setup_cost = -300.0;\n",
    "normal_operation = 0.0;\n",
    "system_penalty=-2000"
   ]
  },
  {
   "cell_type": "code",
   "execution_count": 37,
   "metadata": {},
   "outputs": [
    {
     "data": {
      "text/plain": [
       "4-element Vector{Float64}:\n",
       " 1.0\n",
       " 0.0\n",
       " 0.0\n",
       " 0.0"
      ]
     },
     "execution_count": 37,
     "metadata": {},
     "output_type": "execute_result"
    }
   ],
   "source": [
    "Initialstates = zeros(Number_level)\n",
    "Initialstates[1]=1.0\n",
    "Initialstates"
   ]
  },
  {
   "cell_type": "code",
   "execution_count": 38,
   "metadata": {},
   "outputs": [
    {
     "data": {
      "text/plain": [
       "               \u001b[97;1mSparseCat distribution\u001b[0m           \n",
       "     \u001b[38;5;8m┌                                        ┐\u001b[0m \n",
       "   1 \u001b[38;5;8m┤\u001b[0m\u001b[38;5;2m■■■■■■■■■■■■■■■■■■■■■■■■■■■■■■■■■■■\u001b[0m 1.0 \u001b[38;5;8m \u001b[0m \u001b[38;5;8m\u001b[0m\n",
       "   2 \u001b[38;5;8m┤\u001b[0m\u001b[38;5;2m\u001b[0m 0.0                                    \u001b[38;5;8m \u001b[0m \u001b[38;5;8m\u001b[0m\n",
       "   3 \u001b[38;5;8m┤\u001b[0m\u001b[38;5;2m\u001b[0m 0.0                                    \u001b[38;5;8m \u001b[0m \u001b[38;5;8m\u001b[0m\n",
       "   4 \u001b[38;5;8m┤\u001b[0m\u001b[38;5;2m\u001b[0m 0.0                                    \u001b[38;5;8m \u001b[0m \u001b[38;5;8m\u001b[0m\n",
       "     \u001b[38;5;8m└                                        ┘\u001b[0m "
      ]
     },
     "execution_count": 38,
     "metadata": {},
     "output_type": "execute_result"
    }
   ],
   "source": [
    "Initialstate = SparseCat(States, Initialstates)"
   ]
  },
  {
   "cell_type": "code",
   "execution_count": 39,
   "metadata": {},
   "outputs": [
    {
     "data": {
      "text/plain": [
       "               \u001b[97;1mSparseCat distribution\u001b[0m           \n",
       "     \u001b[38;5;8m┌                                        ┐\u001b[0m \n",
       "   1 \u001b[38;5;8m┤\u001b[0m\u001b[38;5;2m■■■■■■■■■■■■■■■■■■■■■■■■■■■■■■■■■■■\u001b[0m 0.8 \u001b[38;5;8m \u001b[0m \u001b[38;5;8m\u001b[0m\n",
       "   2 \u001b[38;5;8m┤\u001b[0m\u001b[38;5;2m■■■■■■■■■\u001b[0m 0.2                           \u001b[38;5;8m \u001b[0m \u001b[38;5;8m\u001b[0m\n",
       "   3 \u001b[38;5;8m┤\u001b[0m\u001b[38;5;2m\u001b[0m 0.0                                    \u001b[38;5;8m \u001b[0m \u001b[38;5;8m\u001b[0m\n",
       "   4 \u001b[38;5;8m┤\u001b[0m\u001b[38;5;2m\u001b[0m 0.0                                    \u001b[38;5;8m \u001b[0m \u001b[38;5;8m\u001b[0m\n",
       "     \u001b[38;5;8m└                                        ┘\u001b[0m "
      ]
     },
     "execution_count": 39,
     "metadata": {},
     "output_type": "execute_result"
    }
   ],
   "source": [
    "Initialobs = SparseCat(Observations, Observation_matrix[1,:])"
   ]
  },
  {
   "cell_type": "markdown",
   "metadata": {},
   "source": [
    "## Define POMDPs"
   ]
  },
  {
   "cell_type": "code",
   "execution_count": 40,
   "metadata": {},
   "outputs": [
    {
     "data": {
      "text/plain": [
       "create_pomdps (generic function with 1 method)"
      ]
     },
     "execution_count": 40,
     "metadata": {},
     "output_type": "execute_result"
    }
   ],
   "source": [
    "function create_pomdps()\n",
    "\n",
    "Unit_pomdps = Dict{Int,POMDP}()\n",
    "\n",
    "for i in 1:NumberUnits\n",
    "\n",
    " Unit_pomdps[i]= QuickPOMDP(\n",
    "    states=States,\n",
    "    actions=Array((1:Action_num)),\n",
    "    observations = Observations,\n",
    "    initialstate = Initialstate,\n",
    "    initialobs = Initialobs,\n",
    "    discount = gamma,\n",
    "\n",
    "    transition = function(s,a)\n",
    "        if a == 1 # NO REPAIR, NO SYSTEM FAILURE\n",
    "            return SparseCat(States, T[s,:,1,i])\n",
    "        end\n",
    "        if a == 2 # UNIT NOT REPAIRED UNLESS FAILURE BUT REPAIR IN SYSTEM\n",
    "            if s == Number_level\n",
    "                s = 1\n",
    "                return SparseCat(States, T[s,:,2,i])\n",
    "            else\n",
    "                return SparseCat(States, T[s,:,2,i])\n",
    "            end\n",
    "        end\n",
    "        if a == 3 # UNIT REPAIRED AND MAINTENANCE IN SYSTEM, NO SYSTEM FAILURE\n",
    "            if s==Number_level\n",
    "                s=1\n",
    "                return SparseCat(States, T[s,:,3,i])\n",
    "            else\n",
    "                s = 1\n",
    "                return SparseCat(States, T[s,:,3,i])\n",
    "            end\n",
    "        end\n",
    "        if a == 4 # UNIT REPAIRED AND MAINTENANCE IN SYSTEM,SYSTEM FAILED\n",
    "            if s==Number_level\n",
    "                s=1\n",
    "                return SparseCat(States, T[s,:,3,i])\n",
    "            else\n",
    "                s = 1\n",
    "                return SparseCat(States, T[s,:,3,i])\n",
    "            end\n",
    "        end\n",
    "    end,\n",
    "\n",
    "    observation = function(a,s)\n",
    "        return SparseCat(Observations, Observation_matrix[s,:])\n",
    "    end,\n",
    "        \n",
    "    reward = function (s, a)\n",
    "        if a == 1 # NO REPAIR, NO SYSTEM FAILURE\n",
    "            if s == Number_level\n",
    "                return system_penalty/(limit)\n",
    "            else\n",
    "                return normal_operation\n",
    "            end\n",
    "        end\n",
    "        if a == 2 # UNIT NOT REPAIRED UNLESS FAILURE BUT REPAIR IN SYSTEM, NO SYSTEM FAILURE PENALTY\n",
    "            if s == Number_level\n",
    "                return failure_penalty +  setup_cost/NumberUnits + normal_operation\n",
    "            else\n",
    "                # Here it doesn't matter whether systems fails or not, since C_b does not apply to functional units\n",
    "                return normal_operation +  setup_cost/NumberUnits\n",
    "            end\n",
    "        end\n",
    "        if a == 3 # UNIT REPAIRED AND MAINTENANCE IN SYSTEM, NO SYSTEM FAILURE PENALTY\n",
    "            if s==Number_level\n",
    "                return failure_penalty +  setup_cost/NumberUnits + normal_operation\n",
    "            else\n",
    "                # Here it doesn't matter whether systems fails or not, since C_b does not apply to functional units\n",
    "                return maintenance_penalty +  setup_cost/NumberUnits+ normal_operation \n",
    "            end\n",
    "        end\n",
    "        if a == 4 # UNIT REPAIRED AND MAINTENANCE IN SYSTEM,SYSTEM FAILED\n",
    "            if s==Number_level\n",
    "                return failure_penalty +  setup_cost/NumberUnits + normal_operation + system_penalty/(limit)\n",
    "            else\n",
    "                return maintenance_penalty +  setup_cost/NumberUnits + normal_operation\n",
    "            end\n",
    "        end\n",
    "    end,\n",
    "    \n",
    ")\n",
    "end\n",
    "return Unit_pomdps\n",
    "end"
   ]
  },
  {
   "cell_type": "markdown",
   "metadata": {},
   "source": [
    "## Solve POMDPs"
   ]
  },
  {
   "cell_type": "code",
   "execution_count": 41,
   "metadata": {},
   "outputs": [
    {
     "data": {
      "text/plain": [
       "solve_pomdps (generic function with 1 method)"
      ]
     },
     "execution_count": 41,
     "metadata": {},
     "output_type": "execute_result"
    }
   ],
   "source": [
    "function solve_pomdps(pomdps)\n",
    "    policies = Dict{Int, Any}()\n",
    "    \n",
    "    for (idx, pomdp) in pomdps\n",
    "        solver = SARSOPSolver()\n",
    "        policies[idx] = solve(solver, pomdp)\n",
    "    end\n",
    "    \n",
    "    return policies\n",
    "end"
   ]
  },
  {
   "cell_type": "code",
   "execution_count": 42,
   "metadata": {},
   "outputs": [
    {
     "data": {
      "text/plain": [
       "Dict{Int64, POMDP} with 20 entries:\n",
       "  5  => QuickPOMDP{UUID(\"f5c2a699-e725-4e8f-b252-adbcb81d2cd7\"), Int64, Int64, …\n",
       "  16 => QuickPOMDP{UUID(\"e317cb13-40c0-4a43-8da3-af6783205611\"), Int64, Int64, …\n",
       "  20 => QuickPOMDP{UUID(\"dab042e0-f58d-4241-a6e9-1b8b0d94cb07\"), Int64, Int64, …\n",
       "  12 => QuickPOMDP{UUID(\"be62d620-32db-422c-abd2-6eb238c8e9fa\"), Int64, Int64, …\n",
       "  8  => QuickPOMDP{UUID(\"51f30ebe-7915-4848-9c5f-7838fec66cdb\"), Int64, Int64, …\n",
       "  17 => QuickPOMDP{UUID(\"34b32356-48c6-424f-975d-521b13de1acd\"), Int64, Int64, …\n",
       "  1  => QuickPOMDP{UUID(\"b427c234-47a3-4735-96bb-47c4694b9213\"), Int64, Int64, …\n",
       "  19 => QuickPOMDP{UUID(\"08fca380-034a-497b-b39d-3698314c8d51\"), Int64, Int64, …\n",
       "  6  => QuickPOMDP{UUID(\"d812378d-f570-4763-9f8b-dc104c092b52\"), Int64, Int64, …\n",
       "  11 => QuickPOMDP{UUID(\"1fbcd60b-bc2a-4b33-aca4-a789aa737560\"), Int64, Int64, …\n",
       "  9  => QuickPOMDP{UUID(\"77f21481-ec52-4ac5-8c1d-658e08cb40a6\"), Int64, Int64, …\n",
       "  14 => QuickPOMDP{UUID(\"adf7883d-b88b-413b-98f9-c1b15c62ea1d\"), Int64, Int64, …\n",
       "  3  => QuickPOMDP{UUID(\"8d38d2fd-4dcb-4230-ac49-6114033c2770\"), Int64, Int64, …\n",
       "  7  => QuickPOMDP{UUID(\"4a030625-18ee-4034-9076-cdbadba6e74e\"), Int64, Int64, …\n",
       "  4  => QuickPOMDP{UUID(\"1e592c02-f669-4996-981f-63320169a4b2\"), Int64, Int64, …\n",
       "  13 => QuickPOMDP{UUID(\"cd1db537-9780-4e4b-92fd-f28bf1db04e6\"), Int64, Int64, …\n",
       "  15 => QuickPOMDP{UUID(\"b96a8c3e-3b56-480c-8d1f-529a432229b4\"), Int64, Int64, …\n",
       "  2  => QuickPOMDP{UUID(\"6bab47d5-1441-4aa7-983c-3f2e10cef111\"), Int64, Int64, …\n",
       "  10 => QuickPOMDP{UUID(\"0060605f-f5fa-4379-8c23-30876b91a28d\"), Int64, Int64, …\n",
       "  18 => QuickPOMDP{UUID(\"cb8e5d17-1092-4c12-98c6-7fbb66ce8979\"), Int64, Int64, …"
      ]
     },
     "execution_count": 42,
     "metadata": {},
     "output_type": "execute_result"
    }
   ],
   "source": [
    "Unit_pomdps = create_pomdps()"
   ]
  },
  {
   "cell_type": "code",
   "execution_count": 43,
   "metadata": {},
   "outputs": [
    {
     "data": {
      "text/plain": [
       "               \u001b[97;1mSparseCat distribution\u001b[0m           \n",
       "     \u001b[38;5;8m┌                                        ┐\u001b[0m \n",
       "   1 \u001b[38;5;8m┤\u001b[0m\u001b[38;5;2m■■■■■■■■■■■■■■■■■■■■■\u001b[0m 0.846701689363337 \u001b[38;5;8m \u001b[0m \u001b[38;5;8m\u001b[0m\n",
       "   2 \u001b[38;5;8m┤\u001b[0m\u001b[38;5;2m■■■■\u001b[0m 0.153298310636663                  \u001b[38;5;8m \u001b[0m \u001b[38;5;8m\u001b[0m\n",
       "   3 \u001b[38;5;8m┤\u001b[0m\u001b[38;5;2m\u001b[0m 0.0                                    \u001b[38;5;8m \u001b[0m \u001b[38;5;8m\u001b[0m\n",
       "   4 \u001b[38;5;8m┤\u001b[0m\u001b[38;5;2m\u001b[0m 0.0                                    \u001b[38;5;8m \u001b[0m \u001b[38;5;8m\u001b[0m\n",
       "     \u001b[38;5;8m└                                        ┘\u001b[0m "
      ]
     },
     "execution_count": 43,
     "metadata": {},
     "output_type": "execute_result"
    }
   ],
   "source": [
    "transition(Unit_pomdps[1],1,1)"
   ]
  },
  {
   "cell_type": "code",
   "execution_count": 44,
   "metadata": {},
   "outputs": [
    {
     "data": {
      "text/plain": [
       "(0.846701689363337, 0.153298310636663)"
      ]
     },
     "execution_count": 44,
     "metadata": {},
     "output_type": "execute_result"
    }
   ],
   "source": [
    "pdf(transition(Unit_pomdps[1],1,1),1), pdf(transition(Unit_pomdps[1],1,1),2)\n"
   ]
  },
  {
   "cell_type": "code",
   "execution_count": 45,
   "metadata": {},
   "outputs": [
    {
     "data": {
      "text/plain": [
       "(0.846701689363337, 0.153298310636663)"
      ]
     },
     "execution_count": 45,
     "metadata": {},
     "output_type": "execute_result"
    }
   ],
   "source": [
    "T[1,1,1,1], T[1,2,1,1]"
   ]
  },
  {
   "cell_type": "code",
   "execution_count": 46,
   "metadata": {},
   "outputs": [
    {
     "data": {
      "text/plain": [
       "AlphaVectorPolicy{QuickPOMDP{Base.UUID(\"b427c234-47a3-4735-96bb-47c4694b9213\"), Int64, Int64, Int64, @NamedTuple{stateindex::Dict{Int64, Int64}, isterminal::Bool, obsindex::Dict{Int64, Int64}, states::Vector{Int64}, observations::Vector{Int64}, discount::Float64, initialobs::SparseCat{Vector{Int64}, Vector{Float64}}, actions::Vector{Int64}, observation::var\"#17#20\", actionindex::Dict{Int64, Int64}, initialstate::SparseCat{Vector{Int64}, Vector{Float64}}, transition::var\"#16#19\"{Int64}, reward::var\"#18#21\"}}, Int64}(QuickPOMDP{Base.UUID(\"b427c234-47a3-4735-96bb-47c4694b9213\"), Int64, Int64, Int64, @NamedTuple{stateindex::Dict{Int64, Int64}, isterminal::Bool, obsindex::Dict{Int64, Int64}, states::Vector{Int64}, observations::Vector{Int64}, discount::Float64, initialobs::SparseCat{Vector{Int64}, Vector{Float64}}, actions::Vector{Int64}, observation::var\"#17#20\", actionindex::Dict{Int64, Int64}, initialstate::SparseCat{Vector{Int64}, Vector{Float64}}, transition::var\"#16#19\"{Int64}, reward::var\"#18#21\"}}((stateindex = Dict(4 => 4, 2 => 2, 3 => 3, 1 => 1), isterminal = false, obsindex = Dict(4 => 4, 2 => 2, 3 => 3, 1 => 1), states = [1, 2, 3, 4], observations = [1, 2, 3, 4], discount = 0.95, initialobs = SparseCat{Vector{Int64}, Vector{Float64}}([1, 2, 3, 4], [0.8, 0.2, 0.0, 0.0]), actions = [1, 2, 3, 4], observation = var\"#17#20\"(), actionindex = Dict(4 => 4, 2 => 2, 3 => 3, 1 => 1), initialstate = SparseCat{Vector{Int64}, Vector{Float64}}([1, 2, 3, 4], [1.0, 0.0, 0.0, 0.0]), transition = var\"#16#19\"{Int64}(1), reward = var\"#18#21\"())), 4, [[-419.10678502566054, -580.1957255778343, -1045.6119143028304, -1719.3257411967825], [-418.5709685134978, -565.5746768600062, -1040.1881626535662, -1718.5590867544897], [-418.57096851349775, -568.3560466872234, -1078.123045487699, -1800.02612080361], [-533.5709685134977, -533.5709685134977, -533.5709685134977, -1633.5709685134977], [-433.35677330771193, -545.0379949879206, -993.4935713923702, -1718.5590867544895], [-418.57096851349775, -565.5746768600062, -1040.1881626535662, -1718.5590867544895], [-433.57096851349775, -583.3560466872234, -1093.123045487699, -1633.5709685134977]], [1, 1, 1, 3, 1, 1, 2])"
      ]
     },
     "execution_count": 46,
     "metadata": {},
     "output_type": "execute_result"
    }
   ],
   "source": [
    "solver = SARSOPSolver()\n",
    "policy = solve(solver, Unit_pomdps[1])\n",
    "# Calling observation"
   ]
  },
  {
   "cell_type": "code",
   "execution_count": 47,
   "metadata": {},
   "outputs": [
    {
     "data": {
      "text/plain": [
       "Dict{Any, Any}()"
      ]
     },
     "execution_count": 47,
     "metadata": {},
     "output_type": "execute_result"
    }
   ],
   "source": [
    "policies = Dict()"
   ]
  },
  {
   "cell_type": "code",
   "execution_count": 48,
   "metadata": {},
   "outputs": [
    {
     "data": {
      "text/plain": [
       "AlphaVectorPolicy{QuickPOMDP{Base.UUID(\"b427c234-47a3-4735-96bb-47c4694b9213\"), Int64, Int64, Int64, @NamedTuple{stateindex::Dict{Int64, Int64}, isterminal::Bool, obsindex::Dict{Int64, Int64}, states::Vector{Int64}, observations::Vector{Int64}, discount::Float64, initialobs::SparseCat{Vector{Int64}, Vector{Float64}}, actions::Vector{Int64}, observation::var\"#17#20\", actionindex::Dict{Int64, Int64}, initialstate::SparseCat{Vector{Int64}, Vector{Float64}}, transition::var\"#16#19\"{Int64}, reward::var\"#18#21\"}}, Int64}(QuickPOMDP{Base.UUID(\"b427c234-47a3-4735-96bb-47c4694b9213\"), Int64, Int64, Int64, @NamedTuple{stateindex::Dict{Int64, Int64}, isterminal::Bool, obsindex::Dict{Int64, Int64}, states::Vector{Int64}, observations::Vector{Int64}, discount::Float64, initialobs::SparseCat{Vector{Int64}, Vector{Float64}}, actions::Vector{Int64}, observation::var\"#17#20\", actionindex::Dict{Int64, Int64}, initialstate::SparseCat{Vector{Int64}, Vector{Float64}}, transition::var\"#16#19\"{Int64}, reward::var\"#18#21\"}}((stateindex = Dict(4 => 4, 2 => 2, 3 => 3, 1 => 1), isterminal = false, obsindex = Dict(4 => 4, 2 => 2, 3 => 3, 1 => 1), states = [1, 2, 3, 4], observations = [1, 2, 3, 4], discount = 0.95, initialobs = SparseCat{Vector{Int64}, Vector{Float64}}([1, 2, 3, 4], [0.8, 0.2, 0.0, 0.0]), actions = [1, 2, 3, 4], observation = var\"#17#20\"(), actionindex = Dict(4 => 4, 2 => 2, 3 => 3, 1 => 1), initialstate = SparseCat{Vector{Int64}, Vector{Float64}}([1, 2, 3, 4], [1.0, 0.0, 0.0, 0.0]), transition = var\"#16#19\"{Int64}(1), reward = var\"#18#21\"())), 4, [[-419.10678502566054, -580.1957255778343, -1045.6119143028304, -1719.3257411967825], [-418.5709685134978, -565.5746768600062, -1040.1881626535662, -1718.5590867544897], [-418.57096851349775, -568.3560466872234, -1078.123045487699, -1800.02612080361], [-533.5709685134977, -533.5709685134977, -533.5709685134977, -1633.5709685134977], [-433.35677330771193, -545.0379949879206, -993.4935713923702, -1718.5590867544895], [-418.57096851349775, -565.5746768600062, -1040.1881626535662, -1718.5590867544895], [-433.57096851349775, -583.3560466872234, -1093.123045487699, -1633.5709685134977]], [1, 1, 1, 3, 1, 1, 2])"
      ]
     },
     "execution_count": 48,
     "metadata": {},
     "output_type": "execute_result"
    }
   ],
   "source": [
    "policies[1] = policy"
   ]
  },
  {
   "cell_type": "code",
   "execution_count": 49,
   "metadata": {},
   "outputs": [
    {
     "data": {
      "text/plain": [
       "-533.5709685134977"
      ]
     },
     "execution_count": 49,
     "metadata": {},
     "output_type": "execute_result"
    }
   ],
   "source": [
    "policy1 = policies[1]\n",
    "b = [0.1,0.1,0.8,0.0]\n",
    "value(policy1,b)"
   ]
  },
  {
   "cell_type": "code",
   "execution_count": 50,
   "metadata": {},
   "outputs": [
    {
     "data": {
      "text/plain": [
       "generative (generic function with 2 methods)"
      ]
     },
     "execution_count": 50,
     "metadata": {},
     "output_type": "execute_result"
    }
   ],
   "source": [
    "function generative(s,a,i,rng=23) # calculate TRUE COMPONENT-LEVEL reward r_i(s_i,a_i) and get evolving states\n",
    "    if a==1 # No maintenance in the system, no system failure\n",
    "        crd=Categorical(T[s,:,1,i])\n",
    "        s=rand(crd)\n",
    "        r=normal_operation\n",
    "        obs_distribution = SparseCat(Observations, Observation_matrix[s,:])\n",
    "        obs = rand(obs_distribution)\n",
    "        return (sp=s,r=r,o=obs)\n",
    "    end\n",
    "\n",
    "    if a==2 # Maintenance occurs in the system, no system failure, corrective maintenance for the unit\n",
    "        if s==Number_level\n",
    "            crd=Categorical(T[1,:,2,i])\n",
    "            s=rand(crd)\n",
    "            r=failure_penalty  + normal_operation\n",
    "            obs_distribution = SparseCat(Observations, Observation_matrix[s,:])\n",
    "            obs = rand(obs_distribution)\n",
    "            return (sp=s,r=r,o=obs)\n",
    "        else\n",
    "            crd = Categorical(T[s,:,2,i])\n",
    "            s = rand(crd)\n",
    "            r = normal_operation\n",
    "            obs_distribution = SparseCat(Observations, Observation_matrix[s,:])\n",
    "            obs = rand(obs_distribution)\n",
    "            return (sp=s,r=r,o=obs)\n",
    "        end\n",
    "    end\n",
    "\n",
    "    if a==3 # Maintenance occurs in the system, no system failure, preventive maintenance for the unit\n",
    "        if s==Number_level\n",
    "            crd=Categorical(T[1,:,3,i])\n",
    "            s=rand(crd)\n",
    "            r=failure_penalty  + normal_operation\n",
    "            obs_distribution = SparseCat(Observations, Observation_matrix[s,:])\n",
    "            obs = rand(obs_distribution)\n",
    "            return (sp=s,r=r,o=obs)\n",
    "        else\n",
    "            crd = Categorical(T[s,:,3,i])\n",
    "            s = rand(crd)\n",
    "            r = maintenance_penalty+normal_operation\n",
    "            obs_distribution = SparseCat(Observations, Observation_matrix[s,:])\n",
    "            obs = rand(obs_distribution)\n",
    "            return (sp=s,r=r,o=obs)\n",
    "        end\n",
    "    end\n",
    "\n",
    "    if a==4 # maintenance in system, system failure occurs, preventive replacement for the unit\n",
    "        if s==Number_level\n",
    "            crd = Categorical(T[1,:,3,i])\n",
    "            s = rand(crd)\n",
    "            r=failure_penalty+ normal_operation\n",
    "            obs_distribution = SparseCat(Observations, Observation_matrix[s,:])\n",
    "            obs = rand(obs_distribution)\n",
    "            return (sp=s,r=r,o=obs)\n",
    "        else\n",
    "            r = maintenance_penalty+normal_operation\n",
    "            crd = Categorical(T[1,:,3,i])\n",
    "            s = rand(crd)\n",
    "            obs_distribution = SparseCat(Observations, Observation_matrix[s,:])\n",
    "            obs = rand(obs_distribution)\n",
    "            return (sp=s,r=r,o=obs)\n",
    "        end\n",
    "    end\n",
    "end\n",
    "\n",
    "        \n",
    "        \n",
    "    "
   ]
  },
  {
   "cell_type": "markdown",
   "metadata": {},
   "source": [
    "#### Belief updater"
   ]
  },
  {
   "cell_type": "markdown",
   "metadata": {},
   "source": [
    "$$b'(s_j)=P(s_j\\vert o,a,b)=\\dfrac{P(o\\vert s_j,a)\\sum_{s_i\\in \\mathcal{S}}P(s_j\\vert s_i,a)b(s_i)}{\\sum_{s_j\\in \\mathcal{S}}P(o\\vert s_j,a)\\sum_{s_i\\in \\mathcal{S}}P(s_j\\vert s_i,a)b(s_i)}$$"
   ]
  },
  {
   "cell_type": "code",
   "execution_count": 51,
   "metadata": {},
   "outputs": [
    {
     "data": {
      "text/plain": [
       "update_belief (generic function with 1 method)"
      ]
     },
     "execution_count": 51,
     "metadata": {},
     "output_type": "execute_result"
    }
   ],
   "source": [
    "# Input: prior belief, action, observation, index of the component\n",
    "# Output: updated belief of the component\n",
    "function update_belief(b,a,o,i) \n",
    "    # NOTE: \n",
    "    # in input, b is belief from last epoch (before a)\n",
    "    # a is the last action we took\n",
    "    # o is the new observation after a\n",
    "    pomdp = Unit_pomdps[i]\n",
    "    updated_belief = zeros(length(b))\n",
    "    if o==4\n",
    "        updated_belief[Number_level]=1.0\n",
    "        return updated_belief\n",
    "    end\n",
    "\n",
    "    if (a==3) ||(a==4)\n",
    "    # We assume perfect maintenance and it is know to decision maker(belief updater)\n",
    "        for sp in 1: Number_level\n",
    "            p_obs = Observation_matrix[sp,o]\n",
    "            p_trans = pdf(transition(pomdp,1,1),sp) \n",
    "            updated_belief[sp] = p_obs * p_trans\n",
    "        end\n",
    "        updated_belief ./= sum(updated_belief)\n",
    "        return updated_belief\n",
    "    end\n",
    "    \n",
    "    for sp in 1:length(states(pomdp)) \n",
    "        # p_observation = POMDPs.observation(pomdp,a,sp) \n",
    "        # p_obs = pdf(p_observation,o)\n",
    "        p_obs = Observation_matrix[sp,o]\n",
    "        p_trans = 0.0\n",
    "        for s in 1:length(states(pomdp))\n",
    "            #trans = transition(pomdp, s,a)\n",
    "            #p_trans += pdf(transition(pomdp, s,a),sp) * pdf(b, s)\n",
    "            # p_trans += T[s,sp,a] * pdf(b, s)\n",
    "            # p_trans += T[s,sp,a,i] * b[s]\n",
    "            p_trans += pdf(transition(pomdp,s,a),sp) * b[s]\n",
    "        end\n",
    "        updated_belief[sp] = p_obs * p_trans\n",
    "    end\n",
    "        # Normalize the updated belief state to ensure it sums up to 1\n",
    "        updated_belief ./= sum(updated_belief)\n",
    "    return updated_belief\n",
    "end\n"
   ]
  },
  {
   "cell_type": "markdown",
   "metadata": {},
   "source": [
    "### System-level decision making"
   ]
  },
  {
   "cell_type": "code",
   "execution_count": 52,
   "metadata": {},
   "outputs": [
    {
     "data": {
      "text/plain": [
       "decision (generic function with 1 method)"
      ]
     },
     "execution_count": 52,
     "metadata": {},
     "output_type": "execute_result"
    }
   ],
   "source": [
    "function decision(o, b)\n",
    "# initialize system-level action vector\n",
    "    Q=Qfnc(b) # Q is an N*A matrix for each unit-action pair\n",
    "    a_final = repeat(1:1,NumberUnits)\n",
    "    failed_components = 0\n",
    "    for i in 1:NumberUnits # numerate over units\n",
    "        if o[i]==Number_level # failure state is self-announcing\n",
    "            failed_components+=1\n",
    "        end\n",
    "    end\n",
    "    if failed_components >= limit # System fails\n",
    "        for i in 1:NumberUnits\n",
    "            if o[i]==Number_level\n",
    "                a_final[i]=4\n",
    "            else\n",
    "                a_final[i]=argmax(a->Q[i,a],[2,3]) # If the unit does not fail, the case is the same as a=2,3\n",
    "            end\n",
    "        end\n",
    "        return a_final\n",
    "    end\n",
    "\n",
    "    # Based on belief, compare the expected total rewards of setting up maintenance or not\n",
    "    D0=0.0\n",
    "    a0=repeat(1:1,NumberUnits)\n",
    "    for i in 1:NumberUnits\n",
    "        D0+=Q[i,1]\n",
    "    end\n",
    "\n",
    "    D1=0.0\n",
    "    a1=repeat(1:1,NumberUnits)\n",
    "    for i in 1:NumberUnits\n",
    "        a1[i]=argmax(a->Q[i,a],[2,3])\n",
    "        if o[i]==Number_level\n",
    "            a1[i]=3\n",
    "        end\n",
    "        D1+=Q[i,a1[i]]\n",
    "    end\n",
    "\n",
    "    if !(3 in a1)\n",
    "        return a0\n",
    "    end\n",
    "\n",
    "    if D0 > D1\n",
    "        return a0\n",
    "    else\n",
    "        return a1\n",
    "    end\n",
    "end\n",
    "\n",
    "\n",
    "    \n",
    "    \n",
    "    \n"
   ]
  },
  {
   "cell_type": "markdown",
   "metadata": {},
   "source": [
    "# $Q$-function\n",
    "After obtaining $V^*(b)$ from policy, we calculate optimal $Q$-function by\n",
    "$$Q^*(b,a)=R(b,a)+\\gamma  \\sum_{o'\\in \\mathcal{O}} \\eta(o'|b,a)V^*(b')$$\n",
    "where expected immediate reward of taking action $a$ in belief state $b$ is $$R(b,a)=\\sum_{s\\in \\mathcal{S}}R(s,a) b(s),$$\n",
    "and prior probability of observing $o'$ after taking action $a$ is $$\\eta(o'|b,a)=\\sum_{s'\\in\\mathcal{S}} P(o'|s',a)\\sum_{s\\in\\mathcal{S}}T(s'|s,a)b(s)$$"
   ]
  },
  {
   "cell_type": "markdown",
   "metadata": {},
   "source": [
    "Now $Q$ needs to be specified to each policy for each unit"
   ]
  },
  {
   "cell_type": "code",
   "execution_count": 53,
   "metadata": {},
   "outputs": [
    {
     "data": {
      "text/plain": [
       "Qfnc (generic function with 1 method)"
      ]
     },
     "execution_count": 53,
     "metadata": {},
     "output_type": "execute_result"
    }
   ],
   "source": [
    "function Qfnc(b)\n",
    "    epsilon = 1e-4\n",
    "    Q=zeros((NumberUnits,4)) \n",
    "    # NOTE: Q is defined for each unit (according to their beliefs), not state\n",
    "    for i in 1:NumberUnits\n",
    "        # Given unit index, specify the belief state, pomdp model, and policy for it\n",
    "        belief=b[i]\n",
    "        pomdp = Unit_pomdps[i]\n",
    "        policy = Unit_policies[i]\n",
    "\n",
    "        for a in 1:4\n",
    "   \n",
    "            Q_value=0\n",
    "            for s in 1:Number_level\n",
    "                Q_value+=belief[s] * POMDPs.reward(pomdp,s,a)\n",
    "            end\n",
    "            for o in 1:Number_level\n",
    "            # the o here is the observation we expect to obtain at next time step, \n",
    "            # i.e., after taking the action we are deciding\n",
    "            # so we don't need input current o\n",
    "                o_prior = 0 \n",
    "                for sp in 1:Number_level\n",
    "                    p_sp=0\n",
    "                    for s in 1:Number_level\n",
    "                        p_sp+=pdf(transition(pomdp,s,a),sp) * belief[s]\n",
    "                    end\n",
    "                    p_sp=p_sp * Observation_matrix[sp,o]\n",
    "                    o_prior+=p_sp\n",
    "                end\n",
    "     \n",
    "                bp=update_belief(belief,a,o,i)\n",
    "      \n",
    "                if o_prior > epsilon\n",
    "                    Q_value += gamma * o_prior * value(policy,bp)\n",
    "                end\n",
    "            end\n",
    "            Q[i,a]=Q_value\n",
    "        end\n",
    "    end\n",
    "    return Q\n",
    "end\n",
    "        \n",
    "                \n",
    "                "
   ]
  },
  {
   "cell_type": "markdown",
   "metadata": {},
   "source": [
    "### Iteration"
   ]
  },
  {
   "cell_type": "code",
   "execution_count": null,
   "metadata": {},
   "outputs": [
    {
     "name": "stdout",
     "output_type": "stream",
     "text": [
      "20\n",
      "K : 2\n",
      "[0 -800 -100 -1200 -2000]\n"
     ]
    },
    {
     "name": "stderr",
     "output_type": "stream",
     "text": [
      "\u001b[36m\u001b[1m[ \u001b[22m\u001b[39m\u001b[36m\u001b[1mInfo: \u001b[22m\u001b[39m started timer at: 2025-03-08T14:23:23.150\n"
     ]
    },
    {
     "name": "stdout",
     "output_type": "stream",
     "text": [
      "20\n",
      "k : 2\n",
      "1\n",
      "-21334.15356568197\n",
      "2520.3332869499923\n",
      "20\n",
      "K : 2\n",
      "[0 -1200 -100 -1200 -2000]\n"
     ]
    },
    {
     "name": "stderr",
     "output_type": "stream",
     "text": [
      "\u001b[36m\u001b[1m[ \u001b[22m\u001b[39m\u001b[36m\u001b[1mInfo: \u001b[22m\u001b[39m        1854.3261379s: 30 minutes, 54 seconds, 326 milliseconds\n",
      "\u001b[36m\u001b[1m[ \u001b[22m\u001b[39m\u001b[36m\u001b[1mInfo: \u001b[22m\u001b[39m started timer at: 2025-03-08T14:54:17.513\n"
     ]
    },
    {
     "name": "stdout",
     "output_type": "stream",
     "text": [
      "20\n",
      "k : 2\n",
      "1\n",
      "-25225.667811798055\n",
      "2797.3431896526217\n",
      "20\n",
      "K : 2\n",
      "[0 -1600 -100 -1200 -2000]\n"
     ]
    },
    {
     "name": "stderr",
     "output_type": "stream",
     "text": [
      "\u001b[36m\u001b[1m[ \u001b[22m\u001b[39m\u001b[36m\u001b[1mInfo: \u001b[22m\u001b[39m        2013.2268396s: 33 minutes, 33 seconds, 226 milliseconds\n",
      "\u001b[36m\u001b[1m[ \u001b[22m\u001b[39m\u001b[36m\u001b[1mInfo: \u001b[22m\u001b[39m started timer at: 2025-03-08T15:27:50.781\n"
     ]
    },
    {
     "name": "stdout",
     "output_type": "stream",
     "text": [
      "20\n",
      "k : 2\n",
      "1\n",
      "-28523.610658067322\n",
      "3095.0182401417705\n",
      "20\n",
      "K : 2\n",
      "[0 -2000 -100 -1200 -2000]\n"
     ]
    },
    {
     "name": "stderr",
     "output_type": "stream",
     "text": [
      "\u001b[36m\u001b[1m[ \u001b[22m\u001b[39m\u001b[36m\u001b[1mInfo: \u001b[22m\u001b[39m        2086.8652329s: 34 minutes, 46 seconds, 865 milliseconds\n",
      "\u001b[36m\u001b[1m[ \u001b[22m\u001b[39m\u001b[36m\u001b[1mInfo: \u001b[22m\u001b[39m started timer at: 2025-03-08T16:02:37.687\n"
     ]
    },
    {
     "name": "stdout",
     "output_type": "stream",
     "text": [
      "20\n",
      "k : 2\n",
      "1\n",
      "-31906.553061697436\n",
      "3307.486123420375\n",
      "20\n",
      "K : 2\n",
      "[0 -2400 -100 -1200 -2000]\n"
     ]
    },
    {
     "name": "stderr",
     "output_type": "stream",
     "text": [
      "\u001b[36m\u001b[1m[ \u001b[22m\u001b[39m\u001b[36m\u001b[1mInfo: \u001b[22m\u001b[39m        2095.4532241s: 34 minutes, 55 seconds, 453 milliseconds\n",
      "\u001b[36m\u001b[1m[ \u001b[22m\u001b[39m\u001b[36m\u001b[1mInfo: \u001b[22m\u001b[39m started timer at: 2025-03-08T16:37:33.179\n"
     ]
    },
    {
     "name": "stdout",
     "output_type": "stream",
     "text": [
      "20\n",
      "k : 2\n",
      "1\n",
      "-34547.2849669973\n",
      "3524.2870382447622\n",
      "20\n",
      "K : 2\n",
      "[0 -2800 -100 -1200 -2000]\n"
     ]
    },
    {
     "name": "stderr",
     "output_type": "stream",
     "text": [
      "\u001b[36m\u001b[1m[ \u001b[22m\u001b[39m\u001b[36m\u001b[1mInfo: \u001b[22m\u001b[39m        1851.9938638s: 30 minutes, 51 seconds, 993 milliseconds\n",
      "\u001b[36m\u001b[1m[ \u001b[22m\u001b[39m\u001b[36m\u001b[1mInfo: \u001b[22m\u001b[39m started timer at: 2025-03-08T17:08:25.196\n"
     ]
    },
    {
     "name": "stdout",
     "output_type": "stream",
     "text": [
      "20\n",
      "k : 2\n",
      "1\n",
      "-37471.916920772805\n",
      "3693.6638055057647\n",
      "20\n",
      "K : 2\n",
      "[0 -3200 -100 -1200 -2000]\n"
     ]
    },
    {
     "name": "stderr",
     "output_type": "stream",
     "text": [
      "\u001b[36m\u001b[1m[ \u001b[22m\u001b[39m\u001b[36m\u001b[1mInfo: \u001b[22m\u001b[39m        1873.3648633s: 31 minutes, 13 seconds, 364 milliseconds\n",
      "\u001b[36m\u001b[1m[ \u001b[22m\u001b[39m\u001b[36m\u001b[1mInfo: \u001b[22m\u001b[39m started timer at: 2025-03-08T17:39:38.603\n"
     ]
    },
    {
     "name": "stdout",
     "output_type": "stream",
     "text": [
      "20\n",
      "k : 2\n",
      "1\n",
      "-40237.500308837014\n",
      "3836.500815548523\n",
      "20\n",
      "K : 4\n",
      "[0 -800 -100 -1200 -2000]\n"
     ]
    },
    {
     "name": "stderr",
     "output_type": "stream",
     "text": [
      "\u001b[36m\u001b[1m[ \u001b[22m\u001b[39m\u001b[36m\u001b[1mInfo: \u001b[22m\u001b[39m        1871.2294421s: 31 minutes, 11 seconds, 229 milliseconds\n",
      "\u001b[36m\u001b[1m[ \u001b[22m\u001b[39m\u001b[36m\u001b[1mInfo: \u001b[22m\u001b[39m started timer at: 2025-03-08T18:10:49.899\n"
     ]
    },
    {
     "name": "stdout",
     "output_type": "stream",
     "text": [
      "20\n",
      "k : 4\n",
      "1\n",
      "-18654.553640285478\n",
      "1777.2234936108086\n",
      "20\n",
      "K : 4\n",
      "[0 -1200 -100 -1200 -2000]\n"
     ]
    },
    {
     "name": "stderr",
     "output_type": "stream",
     "text": [
      "\u001b[36m\u001b[1m[ \u001b[22m\u001b[39m\u001b[36m\u001b[1mInfo: \u001b[22m\u001b[39m        1872.1241472s: 31 minutes, 12 seconds, 124 milliseconds\n",
      "\u001b[36m\u001b[1m[ \u001b[22m\u001b[39m\u001b[36m\u001b[1mInfo: \u001b[22m\u001b[39m started timer at: 2025-03-08T18:42:02.053\n"
     ]
    },
    {
     "name": "stdout",
     "output_type": "stream",
     "text": [
      "20\n",
      "k : 4\n",
      "1\n",
      "-21431.987887114043\n",
      "2021.544664093603\n",
      "20\n",
      "K : 4\n",
      "[0 -1600 -100 -1200 -2000]\n"
     ]
    },
    {
     "name": "stderr",
     "output_type": "stream",
     "text": [
      "\u001b[36m\u001b[1m[ \u001b[22m\u001b[39m\u001b[36m\u001b[1mInfo: \u001b[22m\u001b[39m        1868.7786279s: 31 minutes, 8 seconds, 778 milliseconds\n",
      "\u001b[36m\u001b[1m[ \u001b[22m\u001b[39m\u001b[36m\u001b[1mInfo: \u001b[22m\u001b[39m started timer at: 2025-03-08T19:13:10.873\n"
     ]
    },
    {
     "name": "stdout",
     "output_type": "stream",
     "text": [
      "20\n",
      "k : 4\n",
      "1\n",
      "-23930.496779551297\n",
      "2265.8001274617664\n",
      "20\n",
      "K : 4\n",
      "[0 -2000 -100 -1200 -2000]\n"
     ]
    },
    {
     "name": "stderr",
     "output_type": "stream",
     "text": [
      "\u001b[36m\u001b[1m[ \u001b[22m\u001b[39m\u001b[36m\u001b[1mInfo: \u001b[22m\u001b[39m        1863.0413999s: 31 minutes, 3 seconds, 41 milliseconds\n",
      "\u001b[36m\u001b[1m[ \u001b[22m\u001b[39m\u001b[36m\u001b[1mInfo: \u001b[22m\u001b[39m started timer at: 2025-03-08T19:44:13.951\n"
     ]
    },
    {
     "name": "stdout",
     "output_type": "stream",
     "text": [
      "20\n",
      "k : 4\n",
      "1\n",
      "-26482.74016539944\n",
      "2491.1608316504844\n",
      "20\n",
      "K : 4\n",
      "[0 -2400 -100 -1200 -2000]\n"
     ]
    },
    {
     "name": "stderr",
     "output_type": "stream",
     "text": [
      "\u001b[36m\u001b[1m[ \u001b[22m\u001b[39m\u001b[36m\u001b[1mInfo: \u001b[22m\u001b[39m        1876.7980948s: 31 minutes, 16 seconds, 798 milliseconds\n",
      "\u001b[36m\u001b[1m[ \u001b[22m\u001b[39m\u001b[36m\u001b[1mInfo: \u001b[22m\u001b[39m started timer at: 2025-03-08T20:15:30.778\n"
     ]
    },
    {
     "name": "stdout",
     "output_type": "stream",
     "text": [
      "20\n",
      "k : 4\n",
      "1\n",
      "-28761.96985635249\n",
      "2709.5389726425924\n",
      "20\n",
      "K : 4\n",
      "[0 -2800 -100 -1200 -2000]\n"
     ]
    },
    {
     "name": "stderr",
     "output_type": "stream",
     "text": [
      "\u001b[36m\u001b[1m[ \u001b[22m\u001b[39m\u001b[36m\u001b[1mInfo: \u001b[22m\u001b[39m         1859.064246s: 30 minutes, 59 seconds, 64 milliseconds\n",
      "\u001b[36m\u001b[1m[ \u001b[22m\u001b[39m\u001b[36m\u001b[1mInfo: \u001b[22m\u001b[39m started timer at: 2025-03-08T20:46:29.889\n"
     ]
    },
    {
     "name": "stdout",
     "output_type": "stream",
     "text": [
      "20\n",
      "k : 4\n",
      "1\n",
      "-31230.648470380096\n",
      "2955.308735114746\n",
      "20\n",
      "K : 4\n",
      "[0 -3200 -100 -1200 -2000]\n"
     ]
    },
    {
     "name": "stderr",
     "output_type": "stream",
     "text": [
      "\u001b[36m\u001b[1m[ \u001b[22m\u001b[39m\u001b[36m\u001b[1mInfo: \u001b[22m\u001b[39m        1872.3952067s: 31 minutes, 12 seconds, 395 milliseconds\n",
      "\u001b[36m\u001b[1m[ \u001b[22m\u001b[39m\u001b[36m\u001b[1mInfo: \u001b[22m\u001b[39m started timer at: 2025-03-08T21:17:42.316\n"
     ]
    },
    {
     "name": "stdout",
     "output_type": "stream",
     "text": [
      "20\n",
      "k : 4\n",
      "1\n",
      "-33643.31295089817\n",
      "3185.054931918126\n",
      "20"
     ]
    },
    {
     "name": "stderr",
     "output_type": "stream",
     "text": [
      "\u001b[36m\u001b[1m[ \u001b[22m\u001b[39m\u001b[36m\u001b[1mInfo: \u001b[22m\u001b[39m        1880.1460619s: 31 minutes, 20 seconds, 146 milliseconds\n",
      "\u001b[36m\u001b[1m[ \u001b[22m\u001b[39m\u001b[36m\u001b[1mInfo: \u001b[22m\u001b[39m started timer at: 2025-03-08T21:49:02.504\n"
     ]
    },
    {
     "name": "stdout",
     "output_type": "stream",
     "text": [
      "\n",
      "K : 6\n",
      "[0 -800 -100 -1200 -2000]\n",
      "20\n",
      "k : 6\n",
      "1\n",
      "-18328.989141711958\n",
      "1730.5646910587966\n",
      "20\n",
      "K : 6\n",
      "[0 -1200 -100 -1200 -2000]\n"
     ]
    },
    {
     "name": "stderr",
     "output_type": "stream",
     "text": [
      "\u001b[36m\u001b[1m[ \u001b[22m\u001b[39m\u001b[36m\u001b[1mInfo: \u001b[22m\u001b[39m        1866.4104084s: 31 minutes, 6 seconds, 410 milliseconds\n",
      "\u001b[36m\u001b[1m[ \u001b[22m\u001b[39m\u001b[36m\u001b[1mInfo: \u001b[22m\u001b[39m started timer at: 2025-03-08T22:20:08.951\n"
     ]
    },
    {
     "name": "stdout",
     "output_type": "stream",
     "text": [
      "20\n",
      "k : 6\n",
      "1\n",
      "-20867.86035881905\n",
      "1894.1383523626919\n",
      "20\n",
      "K : 6\n",
      "[0 -1600 -100 -1200 -2000]\n"
     ]
    },
    {
     "name": "stderr",
     "output_type": "stream",
     "text": [
      "\u001b[36m\u001b[1m[ \u001b[22m\u001b[39m\u001b[36m\u001b[1mInfo: \u001b[22m\u001b[39m        1866.8342045s: 31 minutes, 6 seconds, 834 milliseconds\n",
      "\u001b[36m\u001b[1m[ \u001b[22m\u001b[39m\u001b[36m\u001b[1mInfo: \u001b[22m\u001b[39m started timer at: 2025-03-08T22:51:15.823\n"
     ]
    },
    {
     "name": "stdout",
     "output_type": "stream",
     "text": [
      "20\n",
      "k : 6\n",
      "1\n",
      "-23045.291762123936\n",
      "2013.1433131435351\n",
      "20\n",
      "K : 6\n",
      "[0 -2000 -100 -1200 -2000]\n"
     ]
    },
    {
     "name": "stderr",
     "output_type": "stream",
     "text": [
      "\u001b[36m\u001b[1m[ \u001b[22m\u001b[39m\u001b[36m\u001b[1mInfo: \u001b[22m\u001b[39m        1881.6173296s: 31 minutes, 21 seconds, 617 milliseconds\n",
      "\u001b[36m\u001b[1m[ \u001b[22m\u001b[39m\u001b[36m\u001b[1mInfo: \u001b[22m\u001b[39m started timer at: 2025-03-08T23:22:37.471\n"
     ]
    },
    {
     "name": "stdout",
     "output_type": "stream",
     "text": [
      "20\n",
      "k : 6\n",
      "1\n",
      "-25172.5372897172\n",
      "2196.0742937945147\n",
      "20\n",
      "K : 6\n",
      "[0 -2400 -100 -1200 -2000]\n"
     ]
    },
    {
     "name": "stderr",
     "output_type": "stream",
     "text": [
      "\u001b[36m\u001b[1m[ \u001b[22m\u001b[39m\u001b[36m\u001b[1mInfo: \u001b[22m\u001b[39m        1889.3522255s: 31 minutes, 29 seconds, 352 milliseconds\n",
      "\u001b[36m\u001b[1m[ \u001b[22m\u001b[39m\u001b[36m\u001b[1mInfo: \u001b[22m\u001b[39m started timer at: 2025-03-08T23:54:06.865\n"
     ]
    },
    {
     "name": "stdout",
     "output_type": "stream",
     "text": [
      "20\n",
      "k : 6\n",
      "1\n",
      "-27066.227573510634\n",
      "2366.225917273334\n",
      "20\n",
      "K : 6\n",
      "[0 -2800 -100 -1200 -2000]\n"
     ]
    },
    {
     "name": "stderr",
     "output_type": "stream",
     "text": [
      "\u001b[36m\u001b[1m[ \u001b[22m\u001b[39m\u001b[36m\u001b[1mInfo: \u001b[22m\u001b[39m        1883.9673592s: 31 minutes, 23 seconds, 967 milliseconds\n",
      "\u001b[36m\u001b[1m[ \u001b[22m\u001b[39m\u001b[36m\u001b[1mInfo: \u001b[22m\u001b[39m started timer at: 2025-03-09T00:25:30.864\n"
     ]
    },
    {
     "name": "stdout",
     "output_type": "stream",
     "text": [
      "20\n",
      "k : 6\n",
      "1\n",
      "-29032.96386728265\n",
      "2550.9167041584165\n",
      "20\n",
      "K : 6\n",
      "[0 -3200 -100 -1200 -2000]\n"
     ]
    },
    {
     "name": "stderr",
     "output_type": "stream",
     "text": [
      "\u001b[36m\u001b[1m[ \u001b[22m\u001b[39m\u001b[36m\u001b[1mInfo: \u001b[22m\u001b[39m        1881.3305506s: 31 minutes, 21 seconds, 330 milliseconds\n",
      "\u001b[36m\u001b[1m[ \u001b[22m\u001b[39m\u001b[36m\u001b[1mInfo: \u001b[22m\u001b[39m started timer at: 2025-03-09T00:56:52.230\n"
     ]
    },
    {
     "name": "stdout",
     "output_type": "stream",
     "text": [
      "20\n",
      "k : 6\n",
      "1\n",
      "-30981.081674172212\n",
      "2799.303912521521\n",
      "20\n",
      "K : 8\n",
      "[0 -800 -100 -1200 -2000]\n"
     ]
    },
    {
     "name": "stderr",
     "output_type": "stream",
     "text": [
      "\u001b[36m\u001b[1m[ \u001b[22m\u001b[39m\u001b[36m\u001b[1mInfo: \u001b[22m\u001b[39m        1887.9253116s: 31 minutes, 27 seconds, 925 milliseconds\n",
      "\u001b[36m\u001b[1m[ \u001b[22m\u001b[39m\u001b[36m\u001b[1mInfo: \u001b[22m\u001b[39m started timer at: 2025-03-09T01:28:20.204\n"
     ]
    },
    {
     "name": "stdout",
     "output_type": "stream",
     "text": [
      "20\n",
      "k : 8\n",
      "1\n",
      "-18217.651477658295\n",
      "1699.0816079712476\n",
      "20\n",
      "K : 8\n",
      "[0 -1200 -100 -1200 -2000]\n"
     ]
    },
    {
     "name": "stderr",
     "output_type": "stream",
     "text": [
      "\u001b[36m\u001b[1m[ \u001b[22m\u001b[39m\u001b[36m\u001b[1mInfo: \u001b[22m\u001b[39m        1895.9470442s: 31 minutes, 35 seconds, 947 milliseconds\n",
      "\u001b[36m\u001b[1m[ \u001b[22m\u001b[39m\u001b[36m\u001b[1mInfo: \u001b[22m\u001b[39m started timer at: 2025-03-09T01:59:56.190\n"
     ]
    },
    {
     "name": "stdout",
     "output_type": "stream",
     "text": [
      "20\n",
      "k : 8\n",
      "1\n",
      "-20673.310485710503\n",
      "1829.209111389637\n",
      "20\n",
      "K : 8\n",
      "[0 -1600 -100 -1200 -2000]\n"
     ]
    },
    {
     "name": "stderr",
     "output_type": "stream",
     "text": [
      "\u001b[36m\u001b[1m[ \u001b[22m\u001b[39m\u001b[36m\u001b[1mInfo: \u001b[22m\u001b[39m        1888.6231426s: 31 minutes, 28 seconds, 623 milliseconds\n",
      "\u001b[36m\u001b[1m[ \u001b[22m\u001b[39m\u001b[36m\u001b[1mInfo: \u001b[22m\u001b[39m started timer at: 2025-03-09T03:31:24.839\n"
     ]
    },
    {
     "name": "stdout",
     "output_type": "stream",
     "text": [
      "20\n",
      "k : 8\n",
      "1\n",
      "-22759.343012639718\n",
      "1968.8066999638436\n",
      "20\n",
      "K : 8\n",
      "[0 -2000 -100 -1200 -2000]\n"
     ]
    },
    {
     "name": "stderr",
     "output_type": "stream",
     "text": [
      "\u001b[36m\u001b[1m[ \u001b[22m\u001b[39m\u001b[36m\u001b[1mInfo: \u001b[22m\u001b[39m         1877.763091s: 31 minutes, 17 seconds, 763 milliseconds\n",
      "\u001b[36m\u001b[1m[ \u001b[22m\u001b[39m\u001b[36m\u001b[1mInfo: \u001b[22m\u001b[39m started timer at: 2025-03-09T04:02:42.641\n"
     ]
    },
    {
     "name": "stdout",
     "output_type": "stream",
     "text": [
      "20\n",
      "k : 8\n",
      "1\n",
      "-24691.599170667712\n",
      "2103.2543378408927\n",
      "20"
     ]
    },
    {
     "name": "stderr",
     "output_type": "stream",
     "text": [
      "\u001b[36m\u001b[1m[ \u001b[22m\u001b[39m\u001b[36m\u001b[1mInfo: \u001b[22m\u001b[39m        1632.5424761s: 27 minutes, 12 seconds, 542 milliseconds\n",
      "\u001b[36m\u001b[1m[ \u001b[22m\u001b[39m\u001b[36m\u001b[1mInfo: \u001b[22m\u001b[39m started timer at: 2025-03-09T04:29:55.214\n"
     ]
    },
    {
     "name": "stdout",
     "output_type": "stream",
     "text": [
      "\n",
      "K : 8\n",
      "[0 -2400 -100 -1200 -2000]\n",
      "20\n",
      "k : 8\n",
      "1\n",
      "-26293.866959617455\n",
      "2252.700341442588\n",
      "20\n",
      "K : 8\n",
      "[0 -2800 -100 -1200 -2000]\n"
     ]
    },
    {
     "name": "stderr",
     "output_type": "stream",
     "text": [
      "\u001b[36m\u001b[1m[ \u001b[22m\u001b[39m\u001b[36m\u001b[1mInfo: \u001b[22m\u001b[39m        1561.4482395s: 26 minutes, 1 second, 448 milliseconds\n",
      "\u001b[36m\u001b[1m[ \u001b[22m\u001b[39m\u001b[36m\u001b[1mInfo: \u001b[22m\u001b[39m started timer at: 2025-03-09T04:55:56.706\n"
     ]
    },
    {
     "name": "stdout",
     "output_type": "stream",
     "text": [
      "20\n",
      "k : 8\n",
      "1\n",
      "-28063.346839431186\n",
      "2414.956157061746\n",
      "20\n",
      "K : 8\n",
      "[0 -3200 -100 -1200 -2000]\n"
     ]
    },
    {
     "name": "stderr",
     "output_type": "stream",
     "text": [
      "\u001b[36m\u001b[1m[ \u001b[22m\u001b[39m\u001b[36m\u001b[1mInfo: \u001b[22m\u001b[39m         1563.863554s: 26 minutes, 3 seconds, 863 milliseconds\n",
      "\u001b[36m\u001b[1m[ \u001b[22m\u001b[39m\u001b[36m\u001b[1mInfo: \u001b[22m\u001b[39m started timer at: 2025-03-09T05:22:00.595\n"
     ]
    },
    {
     "name": "stdout",
     "output_type": "stream",
     "text": [
      "20\n",
      "k : 8\n",
      "1\n",
      "-29728.91424810087\n",
      "2599.058042966273\n",
      "20\n",
      "K : 10\n",
      "[0 -800 -100 -1200 -2000]\n"
     ]
    },
    {
     "name": "stderr",
     "output_type": "stream",
     "text": [
      "\u001b[36m\u001b[1m[ \u001b[22m\u001b[39m\u001b[36m\u001b[1mInfo: \u001b[22m\u001b[39m        1562.4539839s: 26 minutes, 2 seconds, 453 milliseconds\n",
      "\u001b[36m\u001b[1m[ \u001b[22m\u001b[39m\u001b[36m\u001b[1mInfo: \u001b[22m\u001b[39m started timer at: 2025-03-09T05:48:03.092\n"
     ]
    },
    {
     "name": "stdout",
     "output_type": "stream",
     "text": [
      "20\n",
      "k : 10\n",
      "1\n",
      "-18139.212175738652\n",
      "1668.6219336516892\n",
      "20\n",
      "K : 10\n",
      "[0 -1200 -100 -1200 -2000]\n"
     ]
    },
    {
     "name": "stderr",
     "output_type": "stream",
     "text": [
      "\u001b[36m\u001b[1m[ \u001b[22m\u001b[39m\u001b[36m\u001b[1mInfo: \u001b[22m\u001b[39m        1564.2334221s: 26 minutes, 4 seconds, 233 milliseconds\n",
      "\u001b[36m\u001b[1m[ \u001b[22m\u001b[39m\u001b[36m\u001b[1mInfo: \u001b[22m\u001b[39m started timer at: 2025-03-09T06:14:07.360\n"
     ]
    },
    {
     "name": "stdout",
     "output_type": "stream",
     "text": [
      "20\n",
      "k : 10\n",
      "1\n",
      "-20552.490591508547\n",
      "1828.2054379172562\n",
      "20\n",
      "K : 10\n",
      "[0 -1600 -100 -1200 -2000]\n"
     ]
    },
    {
     "name": "stderr",
     "output_type": "stream",
     "text": [
      "\u001b[36m\u001b[1m[ \u001b[22m\u001b[39m\u001b[36m\u001b[1mInfo: \u001b[22m\u001b[39m        1562.6652961s: 26 minutes, 2 seconds, 665 milliseconds\n",
      "\u001b[36m\u001b[1m[ \u001b[22m\u001b[39m\u001b[36m\u001b[1mInfo: \u001b[22m\u001b[39m started timer at: 2025-03-09T06:40:10.053\n"
     ]
    },
    {
     "name": "stdout",
     "output_type": "stream",
     "text": [
      "20\n",
      "k : 10\n",
      "1\n",
      "-22600.886794028906\n",
      "1969.9719562502187\n",
      "20\n",
      "K : 10\n",
      "[0 -2000 -100 -1200 -2000]\n"
     ]
    },
    {
     "name": "stderr",
     "output_type": "stream",
     "text": [
      "\u001b[36m\u001b[1m[ \u001b[22m\u001b[39m\u001b[36m\u001b[1mInfo: \u001b[22m\u001b[39m        1562.5472074s: 26 minutes, 2 seconds, 547 milliseconds\n",
      "\u001b[36m\u001b[1m[ \u001b[22m\u001b[39m\u001b[36m\u001b[1mInfo: \u001b[22m\u001b[39m started timer at: 2025-03-09T07:06:12.639\n"
     ]
    },
    {
     "name": "stdout",
     "output_type": "stream",
     "text": [
      "20\n",
      "k : 10\n",
      "1\n",
      "-24468.325316463495\n",
      "2062.786191332073\n"
     ]
    },
    {
     "name": "stderr",
     "output_type": "stream",
     "text": [
      "\u001b[36m\u001b[1m[ \u001b[22m\u001b[39m\u001b[36m\u001b[1mInfo: \u001b[22m\u001b[39m         1562.499022s: 26 minutes, 2 seconds, 499 milliseconds\n"
     ]
    },
    {
     "name": "stdout",
     "output_type": "stream",
     "text": [
      "20\n",
      "K : 10\n",
      "[0 -2400 -100 -1200 -2000]\n"
     ]
    },
    {
     "name": "stderr",
     "output_type": "stream",
     "text": [
      "\u001b[36m\u001b[1m[ \u001b[22m\u001b[39m\u001b[36m\u001b[1mInfo: \u001b[22m\u001b[39m started timer at: 2025-03-09T07:32:15.186\n"
     ]
    },
    {
     "name": "stdout",
     "output_type": "stream",
     "text": [
      "20\n",
      "k : 10\n",
      "1\n",
      "-25991.726460282338\n",
      "2188.239992282864\n",
      "20\n",
      "K : 10\n",
      "[0 -2800 -100 -1200 -2000]\n"
     ]
    },
    {
     "name": "stderr",
     "output_type": "stream",
     "text": [
      "\u001b[36m\u001b[1m[ \u001b[22m\u001b[39m\u001b[36m\u001b[1mInfo: \u001b[22m\u001b[39m        1559.9811859s: 25 minutes, 59 seconds, 981 milliseconds\n",
      "\u001b[36m\u001b[1m[ \u001b[22m\u001b[39m\u001b[36m\u001b[1mInfo: \u001b[22m\u001b[39m started timer at: 2025-03-09T07:58:15.187\n"
     ]
    },
    {
     "name": "stdout",
     "output_type": "stream",
     "text": [
      "20\n",
      "k : 10\n",
      "1\n",
      "-27444.73241554506\n",
      "2301.9053247526394\n",
      "20\n",
      "K : 10\n",
      "[0 -3200 -100 -1200 -2000]\n"
     ]
    },
    {
     "name": "stderr",
     "output_type": "stream",
     "text": [
      "\u001b[36m\u001b[1m[ \u001b[22m\u001b[39m\u001b[36m\u001b[1mInfo: \u001b[22m\u001b[39m        1569.5548328s: 26 minutes, 9 seconds, 554 milliseconds\n",
      "\u001b[36m\u001b[1m[ \u001b[22m\u001b[39m\u001b[36m\u001b[1mInfo: \u001b[22m\u001b[39m started timer at: 2025-03-09T08:24:24.776\n"
     ]
    },
    {
     "name": "stdout",
     "output_type": "stream",
     "text": [
      "20\n",
      "k : 10\n",
      "1\n",
      "-28825.051564034402\n",
      "2500.1969807367504\n",
      "25\n",
      "K : 2\n",
      "[0 -800 -100 -1200 -2000]\n"
     ]
    },
    {
     "name": "stderr",
     "output_type": "stream",
     "text": [
      "\u001b[36m\u001b[1m[ \u001b[22m\u001b[39m\u001b[36m\u001b[1mInfo: \u001b[22m\u001b[39m        1570.7871171s: 26 minutes, 10 seconds, 787 milliseconds\n",
      "\u001b[36m\u001b[1m[ \u001b[22m\u001b[39m\u001b[36m\u001b[1mInfo: \u001b[22m\u001b[39m started timer at: 2025-03-09T08:50:35.605\n"
     ]
    },
    {
     "name": "stdout",
     "output_type": "stream",
     "text": [
      "25\n",
      "k : 2\n",
      "1\n",
      "-26255.25430101282\n",
      "2800.6739282000303\n",
      "25\n",
      "K : 2\n",
      "[0 -1200 -100 -1200 -2000]\n"
     ]
    },
    {
     "name": "stderr",
     "output_type": "stream",
     "text": [
      "\u001b[36m\u001b[1m[ \u001b[22m\u001b[39m\u001b[36m\u001b[1mInfo: \u001b[22m\u001b[39m        1926.9085259s: 32 minutes, 6 seconds, 908 milliseconds\n",
      "\u001b[36m\u001b[1m[ \u001b[22m\u001b[39m\u001b[36m\u001b[1mInfo: \u001b[22m\u001b[39m started timer at: 2025-03-09T09:22:42.558\n"
     ]
    },
    {
     "name": "stdout",
     "output_type": "stream",
     "text": [
      "25\n",
      "k : 2\n",
      "1\n",
      "-31029.90276005692\n",
      "3215.6074065343037\n",
      "25\n",
      "K : 2\n",
      "[0 -1600 -100 -1200 -2000]\n"
     ]
    },
    {
     "name": "stderr",
     "output_type": "stream",
     "text": [
      "\u001b[36m\u001b[1m[ \u001b[22m\u001b[39m\u001b[36m\u001b[1mInfo: \u001b[22m\u001b[39m        1904.5475632s: 31 minutes, 44 seconds, 547 milliseconds\n",
      "\u001b[36m\u001b[1m[ \u001b[22m\u001b[39m\u001b[36m\u001b[1mInfo: \u001b[22m\u001b[39m started timer at: 2025-03-09T09:54:27.137\n"
     ]
    },
    {
     "name": "stdout",
     "output_type": "stream",
     "text": [
      "25\n",
      "k : 2\n",
      "1\n",
      "-34811.90287853063\n",
      "3485.282467783675\n",
      "25\n",
      "K : 2\n",
      "[0 -2000 -100 -1200 -2000]\n"
     ]
    },
    {
     "name": "stderr",
     "output_type": "stream",
     "text": [
      "\u001b[36m\u001b[1m[ \u001b[22m\u001b[39m\u001b[36m\u001b[1mInfo: \u001b[22m\u001b[39m        1910.1162702s: 31 minutes, 50 seconds, 116 milliseconds\n",
      "\u001b[36m\u001b[1m[ \u001b[22m\u001b[39m\u001b[36m\u001b[1mInfo: \u001b[22m\u001b[39m started timer at: 2025-03-09T10:26:17.302\n"
     ]
    },
    {
     "name": "stdout",
     "output_type": "stream",
     "text": [
      "25\n",
      "k : 2\n",
      "1\n",
      "-38121.29724037123\n",
      "3647.096884723941\n",
      "25\n",
      "K : 2\n",
      "[0 -2400 -100 -1200 -2000]\n"
     ]
    },
    {
     "name": "stderr",
     "output_type": "stream",
     "text": [
      "\u001b[36m\u001b[1m[ \u001b[22m\u001b[39m\u001b[36m\u001b[1mInfo: \u001b[22m\u001b[39m        1917.9932443s: 31 minutes, 57 seconds, 993 milliseconds\n",
      "\u001b[36m\u001b[1m[ \u001b[22m\u001b[39m\u001b[36m\u001b[1mInfo: \u001b[22m\u001b[39m started timer at: 2025-03-09T10:58:15.335\n"
     ]
    },
    {
     "name": "stdout",
     "output_type": "stream",
     "text": [
      "25\n",
      "k : 2\n",
      "1\n",
      "-41556.48124747733\n",
      "3867.730656222717\n",
      "25\n",
      "K : 2\n",
      "[0 -2800 -100 -1200 -2000]\n"
     ]
    },
    {
     "name": "stderr",
     "output_type": "stream",
     "text": [
      "\u001b[36m\u001b[1m[ \u001b[22m\u001b[39m\u001b[36m\u001b[1mInfo: \u001b[22m\u001b[39m        1912.3021797s: 31 minutes, 52 seconds, 302 milliseconds\n",
      "\u001b[36m\u001b[1m[ \u001b[22m\u001b[39m\u001b[36m\u001b[1mInfo: \u001b[22m\u001b[39m started timer at: 2025-03-09T11:30:07.669\n"
     ]
    },
    {
     "name": "stdout",
     "output_type": "stream",
     "text": [
      "25\n",
      "k : 2\n",
      "1\n",
      "-44477.82059097409\n",
      "3993.298451246269\n",
      "25\n",
      "K : 2\n",
      "[0 -3200 -100 -1200 -2000]\n"
     ]
    },
    {
     "name": "stderr",
     "output_type": "stream",
     "text": [
      "\u001b[36m\u001b[1m[ \u001b[22m\u001b[39m\u001b[36m\u001b[1mInfo: \u001b[22m\u001b[39m        1925.5015658s: 32 minutes, 5 seconds, 501 milliseconds\n",
      "\u001b[36m\u001b[1m[ \u001b[22m\u001b[39m\u001b[36m\u001b[1mInfo: \u001b[22m\u001b[39m started timer at: 2025-03-09T12:02:13.219\n"
     ]
    },
    {
     "name": "stdout",
     "output_type": "stream",
     "text": [
      "25\n",
      "k : 2\n",
      "1\n",
      "-47464.609242938015\n",
      "4154.403600361054\n",
      "25\n",
      "K : 4\n",
      "[0 -800 -100 -1200 -2000]\n"
     ]
    },
    {
     "name": "stderr",
     "output_type": "stream",
     "text": [
      "\u001b[36m\u001b[1m[ \u001b[22m\u001b[39m\u001b[36m\u001b[1mInfo: \u001b[22m\u001b[39m        1925.6343175s: 32 minutes, 5 seconds, 634 milliseconds\n",
      "\u001b[36m\u001b[1m[ \u001b[22m\u001b[39m\u001b[36m\u001b[1mInfo: \u001b[22m\u001b[39m started timer at: 2025-03-09T12:34:18.884\n"
     ]
    },
    {
     "name": "stdout",
     "output_type": "stream",
     "text": [
      "25\n",
      "k : 4\n",
      "1\n",
      "-23103.398058670657\n",
      "1932.4604953136563\n"
     ]
    },
    {
     "name": "stderr",
     "output_type": "stream",
     "text": [
      "\u001b[36m\u001b[1m[ \u001b[22m\u001b[39m\u001b[36m\u001b[1mInfo: \u001b[22m\u001b[39m        1930.5229822s: 32 minutes, 10 seconds, 522 milliseconds\n",
      "\u001b[36m\u001b[1m[ \u001b[22m\u001b[39m\u001b[36m\u001b[1mInfo: \u001b[22m\u001b[39m started timer at: 2025-03-09T13:06:29.454\n"
     ]
    },
    {
     "name": "stdout",
     "output_type": "stream",
     "text": [
      "25\n",
      "K : 4\n",
      "[0 -1200 -100 -1200 -2000]\n",
      "25\n",
      "k : 4\n",
      "1\n",
      "-26557.082614493\n",
      "2211.1297978979414\n",
      "25\n",
      "K : 4\n",
      "[0 -1600 -100 -1200 -2000]\n"
     ]
    },
    {
     "name": "stderr",
     "output_type": "stream",
     "text": [
      "\u001b[36m\u001b[1m[ \u001b[22m\u001b[39m\u001b[36m\u001b[1mInfo: \u001b[22m\u001b[39m        1921.3938289s: 32 minutes, 1 second, 393 milliseconds\n",
      "\u001b[36m\u001b[1m[ \u001b[22m\u001b[39m\u001b[36m\u001b[1mInfo: \u001b[22m\u001b[39m started timer at: 2025-03-09T13:38:30.880\n"
     ]
    },
    {
     "name": "stdout",
     "output_type": "stream",
     "text": [
      "25\n",
      "k : 4\n",
      "1\n",
      "-29507.0248912146\n",
      "2481.7275539849475\n",
      "25\n",
      "K : 4\n",
      "[0 -2000 -100 -1200 -2000]\n"
     ]
    },
    {
     "name": "stderr",
     "output_type": "stream",
     "text": [
      "\u001b[36m\u001b[1m[ \u001b[22m\u001b[39m\u001b[36m\u001b[1mInfo: \u001b[22m\u001b[39m        1928.8451867s: 32 minutes, 8 seconds, 845 milliseconds\n",
      "\u001b[36m\u001b[1m[ \u001b[22m\u001b[39m\u001b[36m\u001b[1mInfo: \u001b[22m\u001b[39m started timer at: 2025-03-09T14:10:39.778\n"
     ]
    },
    {
     "name": "stdout",
     "output_type": "stream",
     "text": [
      "25\n",
      "k : 4\n",
      "1\n",
      "-32270.204674967634\n",
      "2714.4816904959093\n",
      "25\n",
      "K : 4\n",
      "[0 -2400 -100 -1200 -2000]\n"
     ]
    },
    {
     "name": "stderr",
     "output_type": "stream",
     "text": [
      "\u001b[36m\u001b[1m[ \u001b[22m\u001b[39m\u001b[36m\u001b[1mInfo: \u001b[22m\u001b[39m        1937.8252953s: 32 minutes, 17 seconds, 825 milliseconds\n",
      "\u001b[36m\u001b[1m[ \u001b[22m\u001b[39m\u001b[36m\u001b[1mInfo: \u001b[22m\u001b[39m started timer at: 2025-03-09T14:42:57.633\n"
     ]
    },
    {
     "name": "stdout",
     "output_type": "stream",
     "text": [
      "25\n",
      "k : 4\n",
      "1\n",
      "-34966.82602163563\n",
      "2978.0779473687085\n",
      "25\n",
      "K : 4\n",
      "[0 -2800 -100 -1200 -2000]\n"
     ]
    },
    {
     "name": "stderr",
     "output_type": "stream",
     "text": [
      "\u001b[36m\u001b[1m[ \u001b[22m\u001b[39m\u001b[36m\u001b[1mInfo: \u001b[22m\u001b[39m        1922.5852993s: 32 minutes, 2 seconds, 585 milliseconds\n",
      "\u001b[36m\u001b[1m[ \u001b[22m\u001b[39m\u001b[36m\u001b[1mInfo: \u001b[22m\u001b[39m started timer at: 2025-03-09T15:15:00.263\n"
     ]
    },
    {
     "name": "stdout",
     "output_type": "stream",
     "text": [
      "25\n",
      "k : 4\n",
      "1\n",
      "-37564.2952748824\n",
      "3209.370562436325\n",
      "25\n",
      "K : 4\n",
      "[0 -3200 -100 -1200 -2000]\n"
     ]
    },
    {
     "name": "stderr",
     "output_type": "stream",
     "text": [
      "\u001b[36m\u001b[1m[ \u001b[22m\u001b[39m\u001b[36m\u001b[1mInfo: \u001b[22m\u001b[39m        1932.7195284s: 32 minutes, 12 seconds, 719 milliseconds\n",
      "\u001b[36m\u001b[1m[ \u001b[22m\u001b[39m\u001b[36m\u001b[1mInfo: \u001b[22m\u001b[39m started timer at: 2025-03-09T15:47:13.031\n"
     ]
    },
    {
     "name": "stdout",
     "output_type": "stream",
     "text": [
      "25\n",
      "k : 4\n",
      "1\n",
      "-40272.04997840111\n",
      "3408.902514580918\n",
      "25\n",
      "K : 6\n",
      "[0 -800 -100 -1200 -2000]\n"
     ]
    },
    {
     "name": "stderr",
     "output_type": "stream",
     "text": [
      "\u001b[36m\u001b[1m[ \u001b[22m\u001b[39m\u001b[36m\u001b[1mInfo: \u001b[22m\u001b[39m        1937.6545986s: 32 minutes, 17 seconds, 654 milliseconds\n",
      "\u001b[36m\u001b[1m[ \u001b[22m\u001b[39m\u001b[36m\u001b[1mInfo: \u001b[22m\u001b[39m started timer at: 2025-03-09T16:19:30.722\n"
     ]
    },
    {
     "name": "stdout",
     "output_type": "stream",
     "text": [
      "25\n",
      "k : 6\n",
      "1\n",
      "-22800.638597920286\n",
      "1833.0824219562408\n",
      "25\n",
      "K : 6\n",
      "[0 -1200 -100 -1200 -2000]\n"
     ]
    },
    {
     "name": "stderr",
     "output_type": "stream",
     "text": [
      "\u001b[36m\u001b[1m[ \u001b[22m\u001b[39m\u001b[36m\u001b[1mInfo: \u001b[22m\u001b[39m        1938.3030178s: 32 minutes, 18 seconds, 303 milliseconds\n",
      "\u001b[36m\u001b[1m[ \u001b[22m\u001b[39m\u001b[36m\u001b[1mInfo: \u001b[22m\u001b[39m started timer at: 2025-03-09T16:51:49.066\n"
     ]
    },
    {
     "name": "stdout",
     "output_type": "stream",
     "text": [
      "25\n",
      "k : 6\n",
      "1\n",
      "-25935.92855156865\n",
      "2033.0927266249034\n",
      "25\n",
      "K : 6\n",
      "[0 -1600 -100 -1200 -2000]\n"
     ]
    },
    {
     "name": "stderr",
     "output_type": "stream",
     "text": [
      "\u001b[36m\u001b[1m[ \u001b[22m\u001b[39m\u001b[36m\u001b[1mInfo: \u001b[22m\u001b[39m        1932.4782688s: 32 minutes, 12 seconds, 478 milliseconds\n",
      "\u001b[36m\u001b[1m[ \u001b[22m\u001b[39m\u001b[36m\u001b[1mInfo: \u001b[22m\u001b[39m started timer at: 2025-03-09T17:24:01.580\n"
     ]
    },
    {
     "name": "stdout",
     "output_type": "stream",
     "text": [
      "25\n",
      "k : 6\n",
      "1\n",
      "-28434.1425623275\n",
      "2182.1138617526767\n",
      "25\n",
      "K : 6\n",
      "[0 -2000 -100 -1200 -2000]\n"
     ]
    },
    {
     "name": "stderr",
     "output_type": "stream",
     "text": [
      "\u001b[36m\u001b[1m[ \u001b[22m\u001b[39m\u001b[36m\u001b[1mInfo: \u001b[22m\u001b[39m        1934.5319852s: 32 minutes, 14 seconds, 531 milliseconds\n",
      "\u001b[36m\u001b[1m[ \u001b[22m\u001b[39m\u001b[36m\u001b[1mInfo: \u001b[22m\u001b[39m started timer at: 2025-03-09T17:56:16.152\n"
     ]
    },
    {
     "name": "stdout",
     "output_type": "stream",
     "text": [
      "25\n",
      "k : 6\n",
      "1\n",
      "-30770.663159861433\n",
      "2349.9965232604095\n",
      "25\n",
      "K : 6\n",
      "[0 -2400 -100 -1200 -2000]\n"
     ]
    },
    {
     "name": "stderr",
     "output_type": "stream",
     "text": [
      "\u001b[36m\u001b[1m[ \u001b[22m\u001b[39m\u001b[36m\u001b[1mInfo: \u001b[22m\u001b[39m         1943.288279s: 32 minutes, 23 seconds, 288 milliseconds\n",
      "\u001b[36m\u001b[1m[ \u001b[22m\u001b[39m\u001b[36m\u001b[1mInfo: \u001b[22m\u001b[39m started timer at: 2025-03-09T18:28:39.492\n"
     ]
    },
    {
     "name": "stdout",
     "output_type": "stream",
     "text": [
      "25\n",
      "k : 6\n",
      "1\n",
      "-33093.30530113664\n",
      "2569.0908466282995\n",
      "25\n",
      "K : 6\n",
      "[0 -2800 -100 -1200 -2000]\n"
     ]
    },
    {
     "name": "stderr",
     "output_type": "stream",
     "text": [
      "\u001b[36m\u001b[1m[ \u001b[22m\u001b[39m\u001b[36m\u001b[1mInfo: \u001b[22m\u001b[39m        1936.7220948s: 32 minutes, 16 seconds, 722 milliseconds\n",
      "\u001b[36m\u001b[1m[ \u001b[22m\u001b[39m\u001b[36m\u001b[1mInfo: \u001b[22m\u001b[39m started timer at: 2025-03-09T19:00:56.247\n"
     ]
    },
    {
     "name": "stdout",
     "output_type": "stream",
     "text": [
      "25\n",
      "k : 6\n",
      "1\n",
      "-35240.969819693564\n",
      "2731.2703911155454\n",
      "25\n",
      "K : 6\n",
      "[0 -3200 -100 -1200 -2000]\n"
     ]
    },
    {
     "name": "stderr",
     "output_type": "stream",
     "text": [
      "\u001b[36m\u001b[1m[ \u001b[22m\u001b[39m\u001b[36m\u001b[1mInfo: \u001b[22m\u001b[39m        1950.0285187s: 32 minutes, 30 seconds, 28 milliseconds\n",
      "\u001b[36m\u001b[1m[ \u001b[22m\u001b[39m\u001b[36m\u001b[1mInfo: \u001b[22m\u001b[39m started timer at: 2025-03-09T19:33:26.323\n"
     ]
    },
    {
     "name": "stdout",
     "output_type": "stream",
     "text": [
      "25\n",
      "k : 6\n",
      "1\n",
      "-37510.85304775746\n",
      "3014.585259029721\n",
      "25\n",
      "K : 8\n",
      "[0 -800 -100 -1200 -2000]\n"
     ]
    },
    {
     "name": "stderr",
     "output_type": "stream",
     "text": [
      "\u001b[36m\u001b[1m[ \u001b[22m\u001b[39m\u001b[36m\u001b[1mInfo: \u001b[22m\u001b[39m        1964.1076669s: 32 minutes, 44 seconds, 107 milliseconds\n",
      "\u001b[36m\u001b[1m[ \u001b[22m\u001b[39m\u001b[36m\u001b[1mInfo: \u001b[22m\u001b[39m started timer at: 2025-03-09T20:06:10.465\n"
     ]
    },
    {
     "name": "stdout",
     "output_type": "stream",
     "text": [
      "25\n",
      "k : 8\n",
      "1\n",
      "-22713.135698853246\n",
      "1824.795665212377\n",
      "25\n",
      "K : 8\n",
      "[0 -1200 -100 -1200 -2000]\n"
     ]
    },
    {
     "name": "stderr",
     "output_type": "stream",
     "text": [
      "\u001b[36m\u001b[1m[ \u001b[22m\u001b[39m\u001b[36m\u001b[1mInfo: \u001b[22m\u001b[39m         1946.251306s: 32 minutes, 26 seconds, 251 milliseconds\n",
      "\u001b[36m\u001b[1m[ \u001b[22m\u001b[39m\u001b[36m\u001b[1mInfo: \u001b[22m\u001b[39m started timer at: 2025-03-09T20:38:36.760\n"
     ]
    },
    {
     "name": "stdout",
     "output_type": "stream",
     "text": [
      "25\n",
      "k : 8\n",
      "1\n",
      "-25702.667958685066\n",
      "2007.758401274902\n",
      "25\n",
      "K : 8\n",
      "[0 -1600 -100 -1200 -2000]\n"
     ]
    },
    {
     "name": "stderr",
     "output_type": "stream",
     "text": [
      "\u001b[36m\u001b[1m[ \u001b[22m\u001b[39m\u001b[36m\u001b[1mInfo: \u001b[22m\u001b[39m        1957.0687357s: 32 minutes, 37 seconds, 68 milliseconds\n",
      "\u001b[36m\u001b[1m[ \u001b[22m\u001b[39m\u001b[36m\u001b[1mInfo: \u001b[22m\u001b[39m started timer at: 2025-03-09T21:11:13.875\n"
     ]
    },
    {
     "name": "stdout",
     "output_type": "stream",
     "text": [
      "25\n",
      "k : 8\n",
      "1\n",
      "-28146.33258124511\n",
      "2132.498352547165\n",
      "25\n",
      "K : 8\n",
      "[0 -2000 -100 -1200 -2000]\n"
     ]
    },
    {
     "name": "stderr",
     "output_type": "stream",
     "text": [
      "\u001b[36m\u001b[1m[ \u001b[22m\u001b[39m\u001b[36m\u001b[1mInfo: \u001b[22m\u001b[39m        1960.7440324s: 32 minutes, 40 seconds, 744 milliseconds\n",
      "\u001b[36m\u001b[1m[ \u001b[22m\u001b[39m\u001b[36m\u001b[1mInfo: \u001b[22m\u001b[39m started timer at: 2025-03-09T21:43:54.660\n"
     ]
    },
    {
     "name": "stdout",
     "output_type": "stream",
     "text": [
      "25\n",
      "k : 8\n",
      "1\n",
      "-30377.309581303583\n",
      "2290.59841663501\n",
      "25\n",
      "K : 8\n",
      "[0 -2400 -100 -1200 -2000]\n"
     ]
    },
    {
     "name": "stderr",
     "output_type": "stream",
     "text": [
      "\u001b[36m\u001b[1m[ \u001b[22m\u001b[39m\u001b[36m\u001b[1mInfo: \u001b[22m\u001b[39m        1946.8695407s: 32 minutes, 26 seconds, 869 milliseconds\n",
      "\u001b[36m\u001b[1m[ \u001b[22m\u001b[39m\u001b[36m\u001b[1mInfo: \u001b[22m\u001b[39m started timer at: 2025-03-09T22:16:21.558\n"
     ]
    },
    {
     "name": "stdout",
     "output_type": "stream",
     "text": [
      "25\n",
      "k : 8\n",
      "1\n",
      "-32405.62464519986\n",
      "2433.501736150443\n",
      "25\n",
      "K : 8\n",
      "[0 -2800 -100 -1200 -2000]\n"
     ]
    },
    {
     "name": "stderr",
     "output_type": "stream",
     "text": [
      "\u001b[36m\u001b[1m[ \u001b[22m\u001b[39m\u001b[36m\u001b[1mInfo: \u001b[22m\u001b[39m        1957.6070092s: 32 minutes, 37 seconds, 607 milliseconds\n",
      "\u001b[36m\u001b[1m[ \u001b[22m\u001b[39m\u001b[36m\u001b[1mInfo: \u001b[22m\u001b[39m started timer at: 2025-03-09T22:48:59.206\n"
     ]
    },
    {
     "name": "stdout",
     "output_type": "stream",
     "text": [
      "25\n",
      "k : 8\n",
      "1\n",
      "-34313.708704671306\n",
      "2557.7832485317567\n",
      "25\n",
      "K : 8\n",
      "[0 -3200 -100 -1200 -2000]\n"
     ]
    },
    {
     "name": "stderr",
     "output_type": "stream",
     "text": [
      "\u001b[36m\u001b[1m[ \u001b[22m\u001b[39m\u001b[36m\u001b[1mInfo: \u001b[22m\u001b[39m        1962.0807392s: 32 minutes, 42 seconds, 80 milliseconds\n",
      "\u001b[36m\u001b[1m[ \u001b[22m\u001b[39m\u001b[36m\u001b[1mInfo: \u001b[22m\u001b[39m started timer at: 2025-03-09T23:21:41.332\n"
     ]
    },
    {
     "name": "stdout",
     "output_type": "stream",
     "text": [
      "25\n",
      "k : 8\n",
      "1\n",
      "-36282.52661001364\n",
      "2746.094223498323\n",
      "25\n",
      "K : 10\n",
      "[0 -800 -100 -1200 -2000]\n"
     ]
    },
    {
     "name": "stderr",
     "output_type": "stream",
     "text": [
      "\u001b[36m\u001b[1m[ \u001b[22m\u001b[39m\u001b[36m\u001b[1mInfo: \u001b[22m\u001b[39m         1941.934884s: 32 minutes, 21 seconds, 934 milliseconds\n",
      "\u001b[36m\u001b[1m[ \u001b[22m\u001b[39m\u001b[36m\u001b[1mInfo: \u001b[22m\u001b[39m started timer at: 2025-03-09T23:54:03.313\n"
     ]
    },
    {
     "name": "stdout",
     "output_type": "stream",
     "text": [
      "25\n",
      "k : 10\n",
      "1\n",
      "-22657.902628371154\n",
      "1791.7091073074769\n",
      "25\n",
      "K : 10\n",
      "[0 -1200 -100 -1200 -2000]\n"
     ]
    },
    {
     "name": "stderr",
     "output_type": "stream",
     "text": [
      "\u001b[36m\u001b[1m[ \u001b[22m\u001b[39m\u001b[36m\u001b[1mInfo: \u001b[22m\u001b[39m        1951.5639692s: 32 minutes, 31 seconds, 563 milliseconds\n",
      "\u001b[36m\u001b[1m[ \u001b[22m\u001b[39m\u001b[36m\u001b[1mInfo: \u001b[22m\u001b[39m started timer at: 2025-03-10T00:26:34.922\n"
     ]
    },
    {
     "name": "stdout",
     "output_type": "stream",
     "text": [
      "25\n",
      "k : 10\n",
      "1\n",
      "-25682.22981977704\n",
      "2018.2037344927714\n",
      "25\n",
      "K : 10\n",
      "[0 -1600 -100 -1200 -2000]\n"
     ]
    },
    {
     "name": "stderr",
     "output_type": "stream",
     "text": [
      "\u001b[36m\u001b[1m[ \u001b[22m\u001b[39m\u001b[36m\u001b[1mInfo: \u001b[22m\u001b[39m        1948.5931911s: 32 minutes, 28 seconds, 593 milliseconds\n",
      "\u001b[36m\u001b[1m[ \u001b[22m\u001b[39m\u001b[36m\u001b[1mInfo: \u001b[22m\u001b[39m started timer at: 2025-03-10T00:59:03.552\n"
     ]
    },
    {
     "name": "stdout",
     "output_type": "stream",
     "text": [
      "25\n",
      "k : 10\n",
      "1\n",
      "-28049.312266517383\n",
      "2124.2651082385005\n",
      "25\n",
      "K : 10\n",
      "[0 -2000 -100 -1200 -2000]\n"
     ]
    },
    {
     "name": "stderr",
     "output_type": "stream",
     "text": [
      "\u001b[36m\u001b[1m[ \u001b[22m\u001b[39m\u001b[36m\u001b[1mInfo: \u001b[22m\u001b[39m        1948.0861507s: 32 minutes, 28 seconds, 86 milliseconds\n",
      "\u001b[36m\u001b[1m[ \u001b[22m\u001b[39m\u001b[36m\u001b[1mInfo: \u001b[22m\u001b[39m started timer at: 2025-03-10T01:31:31.679\n"
     ]
    },
    {
     "name": "stdout",
     "output_type": "stream",
     "text": [
      "25\n",
      "k : 10\n",
      "1\n",
      "-30149.07997498598\n",
      "2246.9867243716044\n",
      "25\n",
      "K : 10\n",
      "[0 -2400 -100 -1200 -2000]\n"
     ]
    },
    {
     "name": "stderr",
     "output_type": "stream",
     "text": [
      "\u001b[36m\u001b[1m[ \u001b[22m\u001b[39m\u001b[36m\u001b[1mInfo: \u001b[22m\u001b[39m        1965.8493123s: 32 minutes, 45 seconds, 849 milliseconds\n",
      "\u001b[36m\u001b[1m[ \u001b[22m\u001b[39m\u001b[36m\u001b[1mInfo: \u001b[22m\u001b[39m started timer at: 2025-03-10T02:04:17.570\n"
     ]
    },
    {
     "name": "stdout",
     "output_type": "stream",
     "text": [
      "25\n",
      "k : 10\n",
      "1\n",
      "-32129.950136382125\n",
      "2330.4978567529965\n",
      "25\n",
      "K : 10\n",
      "[0 -2800 -100 -1200 -2000]\n"
     ]
    },
    {
     "name": "stderr",
     "output_type": "stream",
     "text": [
      "\u001b[36m\u001b[1m[ \u001b[22m\u001b[39m\u001b[36m\u001b[1mInfo: \u001b[22m\u001b[39m        1952.2235596s: 32 minutes, 32 seconds, 223 milliseconds\n",
      "\u001b[36m\u001b[1m[ \u001b[22m\u001b[39m\u001b[36m\u001b[1mInfo: \u001b[22m\u001b[39m started timer at: 2025-03-10T02:36:49.831\n"
     ]
    },
    {
     "name": "stdout",
     "output_type": "stream",
     "text": [
      "25\n",
      "k : 10\n",
      "1\n",
      "-33851.169576399836\n",
      "2473.706525957773\n",
      "25\n",
      "K : 10\n",
      "[0 -3200 -100 -1200 -2000]\n"
     ]
    },
    {
     "name": "stderr",
     "output_type": "stream",
     "text": [
      "\u001b[36m\u001b[1m[ \u001b[22m\u001b[39m\u001b[36m\u001b[1mInfo: \u001b[22m\u001b[39m        1950.7403683s: 32 minutes, 30 seconds, 740 milliseconds\n",
      "\u001b[36m\u001b[1m[ \u001b[22m\u001b[39m\u001b[36m\u001b[1mInfo: \u001b[22m\u001b[39m started timer at: 2025-03-10T03:09:20.610\n"
     ]
    },
    {
     "name": "stdout",
     "output_type": "stream",
     "text": [
      "25\n",
      "k : 10\n",
      "1\n",
      "-35634.92264046454\n",
      "2611.916162503416\n",
      "25\n",
      "K : 12\n",
      "[0 -800 -100 -1200 -2000]\n"
     ]
    },
    {
     "name": "stderr",
     "output_type": "stream",
     "text": [
      "\u001b[36m\u001b[1m[ \u001b[22m\u001b[39m\u001b[36m\u001b[1mInfo: \u001b[22m\u001b[39m        1953.9580423s: 32 minutes, 33 seconds, 958 milliseconds\n",
      "\u001b[36m\u001b[1m[ \u001b[22m\u001b[39m\u001b[36m\u001b[1mInfo: \u001b[22m\u001b[39m started timer at: 2025-03-10T03:41:54.621\n"
     ]
    },
    {
     "name": "stdout",
     "output_type": "stream",
     "text": [
      "25\n",
      "k : 12\n",
      "1\n",
      "-22589.41907792449\n",
      "1814.3990567408555\n",
      "25\n",
      "K : 12\n",
      "[0 -1200 -100 -1200 -2000]\n"
     ]
    },
    {
     "name": "stderr",
     "output_type": "stream",
     "text": [
      "\u001b[36m\u001b[1m[ \u001b[22m\u001b[39m\u001b[36m\u001b[1mInfo: \u001b[22m\u001b[39m        1959.9734845s: 32 minutes, 39 seconds, 973 milliseconds\n",
      "\u001b[36m\u001b[1m[ \u001b[22m\u001b[39m\u001b[36m\u001b[1mInfo: \u001b[22m\u001b[39m started timer at: 2025-03-10T04:14:34.630\n"
     ]
    },
    {
     "name": "stdout",
     "output_type": "stream",
     "text": [
      "25\n",
      "k : 12\n",
      "1\n",
      "-25566.418806235135\n",
      "1995.8399065242984\n",
      "25\n",
      "K : 12\n",
      "[0 -1600 -100 -1200 -2000]\n"
     ]
    },
    {
     "name": "stderr",
     "output_type": "stream",
     "text": [
      "\u001b[36m\u001b[1m[ \u001b[22m\u001b[39m\u001b[36m\u001b[1mInfo: \u001b[22m\u001b[39m        1959.4845226s: 32 minutes, 39 seconds, 484 milliseconds\n",
      "\u001b[36m\u001b[1m[ \u001b[22m\u001b[39m\u001b[36m\u001b[1mInfo: \u001b[22m\u001b[39m started timer at: 2025-03-10T04:47:14.150\n"
     ]
    },
    {
     "name": "stdout",
     "output_type": "stream",
     "text": [
      "25\n",
      "k : 12\n",
      "1\n",
      "-27963.613298569668\n",
      "2109.5107658068614\n",
      "25\n",
      "K : 12\n",
      "[0 -2000 -100 -1200 -2000]\n"
     ]
    },
    {
     "name": "stderr",
     "output_type": "stream",
     "text": [
      "\u001b[36m\u001b[1m[ \u001b[22m\u001b[39m\u001b[36m\u001b[1mInfo: \u001b[22m\u001b[39m        1950.1441521s: 32 minutes, 30 seconds, 144 milliseconds\n",
      "\u001b[36m\u001b[1m[ \u001b[22m\u001b[39m\u001b[36m\u001b[1mInfo: \u001b[22m\u001b[39m started timer at: 2025-03-10T05:19:44.333\n"
     ]
    },
    {
     "name": "stdout",
     "output_type": "stream",
     "text": [
      "25\n",
      "k : 12\n",
      "1\n",
      "-30016.01274451548\n",
      "2225.7326577892227\n",
      "25\n",
      "K : 12\n",
      "[0 -2400 -100 -1200 -2000]\n"
     ]
    },
    {
     "name": "stderr",
     "output_type": "stream",
     "text": [
      "\u001b[36m\u001b[1m[ \u001b[22m\u001b[39m\u001b[36m\u001b[1mInfo: \u001b[22m\u001b[39m        1955.9310036s: 32 minutes, 35 seconds, 931 milliseconds\n",
      "\u001b[36m\u001b[1m[ \u001b[22m\u001b[39m\u001b[36m\u001b[1mInfo: \u001b[22m\u001b[39m started timer at: 2025-03-10T05:52:20.315\n"
     ]
    },
    {
     "name": "stdout",
     "output_type": "stream",
     "text": [
      "25\n",
      "k : 12\n",
      "1\n",
      "-31912.235840941023\n",
      "2308.3326850109875\n",
      "25\n",
      "K : 12\n",
      "[0 -2800 -100 -1200 -2000]\n"
     ]
    },
    {
     "name": "stderr",
     "output_type": "stream",
     "text": [
      "\u001b[36m\u001b[1m[ \u001b[22m\u001b[39m\u001b[36m\u001b[1mInfo: \u001b[22m\u001b[39m          1949.65282s: 32 minutes, 29 seconds, 652 milliseconds\n",
      "\u001b[36m\u001b[1m[ \u001b[22m\u001b[39m\u001b[36m\u001b[1mInfo: \u001b[22m\u001b[39m started timer at: 2025-03-10T06:24:50.010\n"
     ]
    },
    {
     "name": "stdout",
     "output_type": "stream",
     "text": [
      "25\n",
      "k : 12\n",
      "1\n",
      "-33599.28526623124\n",
      "2390.464498292301\n",
      "25\n",
      "K : 12\n",
      "[0 -3200 -100 -1200 -2000]\n"
     ]
    },
    {
     "name": "stderr",
     "output_type": "stream",
     "text": [
      "\u001b[36m\u001b[1m[ \u001b[22m\u001b[39m\u001b[36m\u001b[1mInfo: \u001b[22m\u001b[39m        1962.7790389s: 32 minutes, 42 seconds, 779 milliseconds\n",
      "\u001b[36m\u001b[1m[ \u001b[22m\u001b[39m\u001b[36m\u001b[1mInfo: \u001b[22m\u001b[39m started timer at: 2025-03-10T06:57:32.831\n"
     ]
    },
    {
     "name": "stdout",
     "output_type": "stream",
     "text": [
      "25\n",
      "k : 12\n",
      "1\n",
      "-35230.09398233285\n",
      "2504.503534739485\n",
      "30\n",
      "K : 2\n",
      "[0 -800 -100 -1200 -2000]\n"
     ]
    },
    {
     "name": "stderr",
     "output_type": "stream",
     "text": [
      "\u001b[36m\u001b[1m[ \u001b[22m\u001b[39m\u001b[36m\u001b[1mInfo: \u001b[22m\u001b[39m        1963.0231422s: 32 minutes, 43 seconds, 23 milliseconds\n",
      "\u001b[36m\u001b[1m[ \u001b[22m\u001b[39m\u001b[36m\u001b[1mInfo: \u001b[22m\u001b[39m started timer at: 2025-03-10T07:30:15.893\n"
     ]
    },
    {
     "name": "stdout",
     "output_type": "stream",
     "text": [
      "30\n",
      "k : 2\n",
      "1\n",
      "-30555.707474657764\n",
      "2932.394384835069\n",
      "30\n",
      "K : 2\n",
      "[0 -1200 -100 -1200 -2000]\n"
     ]
    },
    {
     "name": "stderr",
     "output_type": "stream",
     "text": [
      "\u001b[36m\u001b[1m[ \u001b[22m\u001b[39m\u001b[36m\u001b[1mInfo: \u001b[22m\u001b[39m        2350.9587448s: 39 minutes, 10 seconds, 958 milliseconds\n",
      "\u001b[36m\u001b[1m[ \u001b[22m\u001b[39m\u001b[36m\u001b[1mInfo: \u001b[22m\u001b[39m started timer at: 2025-03-10T08:09:26.905\n"
     ]
    },
    {
     "name": "stdout",
     "output_type": "stream",
     "text": [
      "30\n",
      "k : 2\n",
      "1\n",
      "-36184.65411354238\n",
      "3459.2033549821044\n",
      "30\n",
      "K : 2\n",
      "[0 -1600 -100 -1200 -2000]\n"
     ]
    },
    {
     "name": "stderr",
     "output_type": "stream",
     "text": [
      "\u001b[36m\u001b[1m[ \u001b[22m\u001b[39m\u001b[36m\u001b[1mInfo: \u001b[22m\u001b[39m        2335.6728518s: 38 minutes, 55 seconds, 672 milliseconds\n",
      "\u001b[36m\u001b[1m[ \u001b[22m\u001b[39m\u001b[36m\u001b[1mInfo: \u001b[22m\u001b[39m started timer at: 2025-03-10T08:48:22.622\n"
     ]
    },
    {
     "name": "stdout",
     "output_type": "stream",
     "text": [
      "30\n",
      "k : 2\n",
      "1\n",
      "-40566.88002643755\n",
      "3723.985291438601\n",
      "30\n",
      "K : 2"
     ]
    },
    {
     "name": "stderr",
     "output_type": "stream",
     "text": [
      "\u001b[36m\u001b[1m[ \u001b[22m\u001b[39m\u001b[36m\u001b[1mInfo: \u001b[22m\u001b[39m        2334.4847665s: 38 minutes, 54 seconds, 484 milliseconds\n",
      "\u001b[36m\u001b[1m[ \u001b[22m\u001b[39m\u001b[36m\u001b[1mInfo: \u001b[22m\u001b[39m started timer at: 2025-03-10T09:27:17.154\n"
     ]
    },
    {
     "name": "stdout",
     "output_type": "stream",
     "text": [
      "\n",
      "[0 -2000 -100 -1200 -2000]\n",
      "30\n",
      "k : 2\n",
      "1\n",
      "-44303.11078929711\n",
      "3882.5370091488926\n",
      "30\n",
      "K : 2\n",
      "[0 -2400 -100 -1200 -2000]\n"
     ]
    },
    {
     "name": "stderr",
     "output_type": "stream",
     "text": [
      "\u001b[36m\u001b[1m[ \u001b[22m\u001b[39m\u001b[36m\u001b[1mInfo: \u001b[22m\u001b[39m        2307.3161377s: 38 minutes, 27 seconds, 316 milliseconds\n",
      "\u001b[36m\u001b[1m[ \u001b[22m\u001b[39m\u001b[36m\u001b[1mInfo: \u001b[22m\u001b[39m started timer at: 2025-03-10T10:05:44.517\n"
     ]
    },
    {
     "name": "stdout",
     "output_type": "stream",
     "text": [
      "30\n",
      "k : 2\n",
      "1\n",
      "-47870.956416561705\n",
      "4111.409861816678\n",
      "30\n",
      "K : 2\n",
      "[0 -2800 -100 -1200 -2000]\n"
     ]
    },
    {
     "name": "stderr",
     "output_type": "stream",
     "text": [
      "\u001b[36m\u001b[1m[ \u001b[22m\u001b[39m\u001b[36m\u001b[1mInfo: \u001b[22m\u001b[39m        2344.3645109s: 39 minutes, 4 seconds, 364 milliseconds\n",
      "\u001b[36m\u001b[1m[ \u001b[22m\u001b[39m\u001b[36m\u001b[1mInfo: \u001b[22m\u001b[39m started timer at: 2025-03-10T10:44:48.943\n"
     ]
    },
    {
     "name": "stdout",
     "output_type": "stream",
     "text": [
      "30\n",
      "k : 2\n",
      "1\n",
      "-51247.88660989049\n",
      "4305.585628150751\n",
      "30\n",
      "K : 2\n",
      "[0 -3200 -100 -1200 -2000]\n"
     ]
    },
    {
     "name": "stderr",
     "output_type": "stream",
     "text": [
      "\u001b[36m\u001b[1m[ \u001b[22m\u001b[39m\u001b[36m\u001b[1mInfo: \u001b[22m\u001b[39m        2338.3248649s: 38 minutes, 58 seconds, 324 milliseconds\n",
      "\u001b[36m\u001b[1m[ \u001b[22m\u001b[39m\u001b[36m\u001b[1mInfo: \u001b[22m\u001b[39m started timer at: 2025-03-10T11:23:47.317\n"
     ]
    },
    {
     "name": "stdout",
     "output_type": "stream",
     "text": [
      "30\n",
      "k : 2\n",
      "1\n",
      "-54206.29129634397\n",
      "4385.199776265147\n"
     ]
    },
    {
     "name": "stderr",
     "output_type": "stream",
     "text": [
      "\u001b[36m\u001b[1m[ \u001b[22m\u001b[39m\u001b[36m\u001b[1mInfo: \u001b[22m\u001b[39m         2350.381479s: 39 minutes, 10 seconds, 381 milliseconds\n"
     ]
    },
    {
     "name": "stdout",
     "output_type": "stream",
     "text": [
      "30\n",
      "K : 4\n",
      "[0 -800 -100 -1200 -2000]\n"
     ]
    },
    {
     "name": "stderr",
     "output_type": "stream",
     "text": [
      "\u001b[36m\u001b[1m[ \u001b[22m\u001b[39m\u001b[36m\u001b[1mInfo: \u001b[22m\u001b[39m started timer at: 2025-03-10T12:02:57.744\n"
     ]
    },
    {
     "name": "stdout",
     "output_type": "stream",
     "text": [
      "30\n",
      "k : 4\n",
      "1\n",
      "-27040.55327091217\n",
      "2066.6412921179935\n",
      "30\n",
      "K : 4\n",
      "[0 -1200 -100 -1200 -2000]\n"
     ]
    },
    {
     "name": "stderr",
     "output_type": "stream",
     "text": [
      "\u001b[36m\u001b[1m[ \u001b[22m\u001b[39m\u001b[36m\u001b[1mInfo: \u001b[22m\u001b[39m        2335.8136749s: 38 minutes, 55 seconds, 813 milliseconds\n",
      "\u001b[36m\u001b[1m[ \u001b[22m\u001b[39m\u001b[36m\u001b[1mInfo: \u001b[22m\u001b[39m started timer at: 2025-03-10T12:41:53.599\n"
     ]
    },
    {
     "name": "stdout",
     "output_type": "stream",
     "text": [
      "30\n",
      "k : 4\n",
      "1\n",
      "-31031.01988097228\n",
      "2424.1303605823364\n",
      "30\n",
      "K : 4\n",
      "[0 -1600 -100 -1200 -2000]\n"
     ]
    },
    {
     "name": "stderr",
     "output_type": "stream",
     "text": [
      "\u001b[36m\u001b[1m[ \u001b[22m\u001b[39m\u001b[36m\u001b[1mInfo: \u001b[22m\u001b[39m        2354.8707711s: 39 minutes, 14 seconds, 870 milliseconds\n",
      "\u001b[36m\u001b[1m[ \u001b[22m\u001b[39m\u001b[36m\u001b[1mInfo: \u001b[22m\u001b[39m started timer at: 2025-03-10T13:21:08.533\n"
     ]
    },
    {
     "name": "stdout",
     "output_type": "stream",
     "text": [
      "30\n",
      "k : 4\n",
      "1\n",
      "-34556.69333760917\n",
      "2671.117678439411\n",
      "30\n",
      "K : 4\n",
      "[0 -2000 -100 -1200 -2000]\n"
     ]
    },
    {
     "name": "stderr",
     "output_type": "stream",
     "text": [
      "\u001b[36m\u001b[1m[ \u001b[22m\u001b[39m\u001b[36m\u001b[1mInfo: \u001b[22m\u001b[39m        2361.7758224s: 39 minutes, 21 seconds, 775 milliseconds\n",
      "\u001b[36m\u001b[1m[ \u001b[22m\u001b[39m\u001b[36m\u001b[1mInfo: \u001b[22m\u001b[39m started timer at: 2025-03-10T14:00:30.350\n"
     ]
    },
    {
     "name": "stdout",
     "output_type": "stream",
     "text": [
      "30\n",
      "k : 4\n",
      "1\n",
      "-37620.23279276786\n",
      "2975.9853148163074\n",
      "30\n",
      "K : 4\n",
      "[0 -2400 -100 -1200 -2000]\n"
     ]
    },
    {
     "name": "stderr",
     "output_type": "stream",
     "text": [
      "\u001b[36m\u001b[1m[ \u001b[22m\u001b[39m\u001b[36m\u001b[1mInfo: \u001b[22m\u001b[39m        2347.8942803s: 39 minutes, 7 seconds, 894 milliseconds\n",
      "\u001b[36m\u001b[1m[ \u001b[22m\u001b[39m\u001b[36m\u001b[1mInfo: \u001b[22m\u001b[39m started timer at: 2025-03-10T14:39:38.302\n"
     ]
    },
    {
     "name": "stdout",
     "output_type": "stream",
     "text": [
      "30\n",
      "k : 4\n",
      "1\n",
      "-40632.013174386826\n",
      "3230.5059341745255\n",
      "30\n",
      "K : 4\n",
      "[0 -2800 -100 -1200 -2000]\n"
     ]
    },
    {
     "name": "stderr",
     "output_type": "stream",
     "text": [
      "\u001b[36m\u001b[1m[ \u001b[22m\u001b[39m\u001b[36m\u001b[1mInfo: \u001b[22m\u001b[39m        2347.2530335s: 39 minutes, 7 seconds, 253 milliseconds\n",
      "\u001b[36m\u001b[1m[ \u001b[22m\u001b[39m\u001b[36m\u001b[1mInfo: \u001b[22m\u001b[39m started timer at: 2025-03-10T15:18:45.593\n"
     ]
    },
    {
     "name": "stdout",
     "output_type": "stream",
     "text": [
      "30\n",
      "k : 4\n",
      "1\n",
      "-43632.23763256321\n",
      "3481.300122976049\n",
      "30\n",
      "K : 4\n",
      "[0 -3200 -100 -1200 -2000]\n"
     ]
    },
    {
     "name": "stderr",
     "output_type": "stream",
     "text": [
      "\u001b[36m\u001b[1m[ \u001b[22m\u001b[39m\u001b[36m\u001b[1mInfo: \u001b[22m\u001b[39m        2366.1722292s: 39 minutes, 26 seconds, 172 milliseconds\n",
      "\u001b[36m\u001b[1m[ \u001b[22m\u001b[39m\u001b[36m\u001b[1mInfo: \u001b[22m\u001b[39m started timer at: 2025-03-10T15:58:11.815\n"
     ]
    },
    {
     "name": "stdout",
     "output_type": "stream",
     "text": [
      "30\n",
      "k : 4\n",
      "1\n",
      "-46339.023515168956\n",
      "3714.070854808306\n",
      "30\n",
      "K : 6\n",
      "[0 -800 -100 -1200 -2000]\n"
     ]
    },
    {
     "name": "stderr",
     "output_type": "stream",
     "text": [
      "\u001b[36m\u001b[1m[ \u001b[22m\u001b[39m\u001b[36m\u001b[1mInfo: \u001b[22m\u001b[39m        2350.5669574s: 39 minutes, 10 seconds, 566 milliseconds\n",
      "\u001b[36m\u001b[1m[ \u001b[22m\u001b[39m\u001b[36m\u001b[1mInfo: \u001b[22m\u001b[39m started timer at: 2025-03-10T16:37:22.431\n"
     ]
    },
    {
     "name": "stdout",
     "output_type": "stream",
     "text": [
      "30\n",
      "k : 6\n",
      "1\n",
      "-26709.598941559576\n",
      "1943.1665234668153\n",
      "30\n",
      "K : 6\n",
      "[0 -1200 -100 -1200 -2000]\n"
     ]
    },
    {
     "name": "stderr",
     "output_type": "stream",
     "text": [
      "\u001b[36m\u001b[1m[ \u001b[22m\u001b[39m\u001b[36m\u001b[1mInfo: \u001b[22m\u001b[39m        2355.4997901s: 39 minutes, 15 seconds, 499 milliseconds\n",
      "\u001b[36m\u001b[1m[ \u001b[22m\u001b[39m\u001b[36m\u001b[1mInfo: \u001b[22m\u001b[39m started timer at: 2025-03-10T17:16:37.981\n"
     ]
    },
    {
     "name": "stdout",
     "output_type": "stream",
     "text": [
      "30\n",
      "k : 6\n",
      "1\n",
      "-30258.96170697899\n",
      "2207.6009563405105\n",
      "30\n",
      "K : 6\n",
      "[0 -1600 -100 -1200 -2000]\n"
     ]
    },
    {
     "name": "stderr",
     "output_type": "stream",
     "text": [
      "\u001b[36m\u001b[1m[ \u001b[22m\u001b[39m\u001b[36m\u001b[1mInfo: \u001b[22m\u001b[39m        2394.2451491s: 39 minutes, 54 seconds, 245 milliseconds\n",
      "\u001b[36m\u001b[1m[ \u001b[22m\u001b[39m\u001b[36m\u001b[1mInfo: \u001b[22m\u001b[39m started timer at: 2025-03-10T17:56:32.283\n"
     ]
    },
    {
     "name": "stdout",
     "output_type": "stream",
     "text": [
      "30\n",
      "k : 6\n",
      "1\n",
      "-33327.70575234521\n",
      "2422.146274187927\n",
      "30\n",
      "K : 6\n",
      "[0 -2000 -100 -1200 -2000]\n"
     ]
    },
    {
     "name": "stderr",
     "output_type": "stream",
     "text": [
      "\u001b[36m\u001b[1m[ \u001b[22m\u001b[39m\u001b[36m\u001b[1mInfo: \u001b[22m\u001b[39m        2373.1513565s: 39 minutes, 33 seconds, 151 milliseconds\n",
      "\u001b[36m\u001b[1m[ \u001b[22m\u001b[39m\u001b[36m\u001b[1mInfo: \u001b[22m\u001b[39m started timer at: 2025-03-10T18:36:05.486\n"
     ]
    },
    {
     "name": "stdout",
     "output_type": "stream",
     "text": [
      "30\n",
      "k : 6\n",
      "1\n",
      "-35887.3304393527\n",
      "2547.207703120307\n",
      "30\n",
      "K : 6\n",
      "[0 -2400 -100 -1200 -2000]\n"
     ]
    },
    {
     "name": "stderr",
     "output_type": "stream",
     "text": [
      "\u001b[36m\u001b[1m[ \u001b[22m\u001b[39m\u001b[36m\u001b[1mInfo: \u001b[22m\u001b[39m        2327.6409443s: 38 minutes, 47 seconds, 640 milliseconds\n",
      "\u001b[36m\u001b[1m[ \u001b[22m\u001b[39m\u001b[36m\u001b[1mInfo: \u001b[22m\u001b[39m started timer at: 2025-03-10T19:14:53.171\n"
     ]
    },
    {
     "name": "stdout",
     "output_type": "stream",
     "text": [
      "30\n",
      "k : 6\n",
      "1\n",
      "-38388.53510123\n",
      "2764.1077046872583\n",
      "30\n",
      "K : 6\n",
      "[0 -2800 -100 -1200 -2000]\n"
     ]
    },
    {
     "name": "stderr",
     "output_type": "stream",
     "text": [
      "\u001b[36m\u001b[1m[ \u001b[22m\u001b[39m\u001b[36m\u001b[1mInfo: \u001b[22m\u001b[39m         2360.464847s: 39 minutes, 20 seconds, 464 milliseconds\n",
      "\u001b[36m\u001b[1m[ \u001b[22m\u001b[39m\u001b[36m\u001b[1mInfo: \u001b[22m\u001b[39m started timer at: 2025-03-10T19:54:13.686\n"
     ]
    },
    {
     "name": "stdout",
     "output_type": "stream",
     "text": [
      "30\n",
      "k : 6\n",
      "1\n",
      "-40901.71671595191\n",
      "2991.008878065181\n",
      "30\n",
      "K : 6\n",
      "[0 -3200 -100 -1200 -2000]\n"
     ]
    },
    {
     "name": "stderr",
     "output_type": "stream",
     "text": [
      "\u001b[36m\u001b[1m[ \u001b[22m\u001b[39m\u001b[36m\u001b[1mInfo: \u001b[22m\u001b[39m        2328.7563129s: 38 minutes, 48 seconds, 756 milliseconds\n",
      "\u001b[36m\u001b[1m[ \u001b[22m\u001b[39m\u001b[36m\u001b[1mInfo: \u001b[22m\u001b[39m started timer at: 2025-03-10T20:33:02.489\n"
     ]
    },
    {
     "name": "stdout",
     "output_type": "stream",
     "text": [
      "30\n",
      "k : 6\n",
      "1\n",
      "-43310.967529673326\n",
      "3184.758626838158\n",
      "30\n",
      "K : 8\n",
      "[0 -800 -100 -1200 -2000]\n"
     ]
    },
    {
     "name": "stderr",
     "output_type": "stream",
     "text": [
      "\u001b[36m\u001b[1m[ \u001b[22m\u001b[39m\u001b[36m\u001b[1mInfo: \u001b[22m\u001b[39m        2346.2824402s: 39 minutes, 6 seconds, 282 milliseconds\n",
      "\u001b[36m\u001b[1m[ \u001b[22m\u001b[39m\u001b[36m\u001b[1mInfo: \u001b[22m\u001b[39m started timer at: 2025-03-10T21:12:08.832\n"
     ]
    },
    {
     "name": "stdout",
     "output_type": "stream",
     "text": [
      "30\n",
      "k : 8\n",
      "1\n",
      "-26556.129297611198\n",
      "1921.1230618220645\n",
      "30\n",
      "K : 8\n",
      "[0 -1200 -100 -1200 -2000]\n"
     ]
    },
    {
     "name": "stderr",
     "output_type": "stream",
     "text": [
      "\u001b[36m\u001b[1m[ \u001b[22m\u001b[39m\u001b[36m\u001b[1mInfo: \u001b[22m\u001b[39m        2335.6258093s: 38 minutes, 55 seconds, 625 milliseconds\n",
      "\u001b[36m\u001b[1m[ \u001b[22m\u001b[39m\u001b[36m\u001b[1mInfo: \u001b[22m\u001b[39m started timer at: 2025-03-10T21:51:04.501\n"
     ]
    },
    {
     "name": "stdout",
     "output_type": "stream",
     "text": [
      "30\n",
      "k : 8\n",
      "1\n",
      "-30014.501130093013\n",
      "2151.2623637418815\n",
      "30\n",
      "K : 8\n",
      "[0 -1600 -100 -1200 -2000]\n"
     ]
    },
    {
     "name": "stderr",
     "output_type": "stream",
     "text": [
      "\u001b[36m\u001b[1m[ \u001b[22m\u001b[39m\u001b[36m\u001b[1mInfo: \u001b[22m\u001b[39m        2356.1758889s: 39 minutes, 16 seconds, 175 milliseconds\n",
      "\u001b[36m\u001b[1m[ \u001b[22m\u001b[39m\u001b[36m\u001b[1mInfo: \u001b[22m\u001b[39m started timer at: 2025-03-10T22:30:20.735\n"
     ]
    },
    {
     "name": "stdout",
     "output_type": "stream",
     "text": [
      "30\n",
      "k : 8\n",
      "1\n",
      "-32942.86152324028\n",
      "2282.0195669978443\n",
      "30\n",
      "K : 8\n",
      "[0 -2000 -100 -1200 -2000]\n"
     ]
    },
    {
     "name": "stderr",
     "output_type": "stream",
     "text": [
      "\u001b[36m\u001b[1m[ \u001b[22m\u001b[39m\u001b[36m\u001b[1mInfo: \u001b[22m\u001b[39m        2342.3792115s: 39 minutes, 2 seconds, 379 milliseconds\n",
      "\u001b[36m\u001b[1m[ \u001b[22m\u001b[39m\u001b[36m\u001b[1mInfo: \u001b[22m\u001b[39m started timer at: 2025-03-10T23:09:23.154\n"
     ]
    },
    {
     "name": "stdout",
     "output_type": "stream",
     "text": [
      "30\n",
      "k : 8\n",
      "1\n",
      "-35311.154809086634\n",
      "2452.6008442674934\n",
      "30\n",
      "K : 8\n",
      "[0 -2400 -100 -1200 -2000]\n"
     ]
    },
    {
     "name": "stderr",
     "output_type": "stream",
     "text": [
      "\u001b[36m\u001b[1m[ \u001b[22m\u001b[39m\u001b[36m\u001b[1mInfo: \u001b[22m\u001b[39m        2352.1585037s: 39 minutes, 12 seconds, 158 milliseconds\n",
      "\u001b[36m\u001b[1m[ \u001b[22m\u001b[39m\u001b[36m\u001b[1mInfo: \u001b[22m\u001b[39m started timer at: 2025-03-10T23:48:35.360\n"
     ]
    },
    {
     "name": "stdout",
     "output_type": "stream",
     "text": [
      "30\n",
      "k : 8\n",
      "1\n",
      "-37607.81479194946\n",
      "2611.112287724164\n",
      "30\n",
      "K : 8\n",
      "[0 -2800 -100 -1200 -2000]\n"
     ]
    },
    {
     "name": "stderr",
     "output_type": "stream",
     "text": [
      "\u001b[36m\u001b[1m[ \u001b[22m\u001b[39m\u001b[36m\u001b[1mInfo: \u001b[22m\u001b[39m        2350.0307236s: 39 minutes, 10 seconds, 30 milliseconds\n",
      "\u001b[36m\u001b[1m[ \u001b[22m\u001b[39m\u001b[36m\u001b[1mInfo: \u001b[22m\u001b[39m started timer at: 2025-03-11T00:27:45.451\n"
     ]
    },
    {
     "name": "stdout",
     "output_type": "stream",
     "text": [
      "30\n",
      "k : 8\n",
      "1\n",
      "-39840.37649328465\n",
      "2785.105758337119\n",
      "30\n",
      "K : 8\n",
      "[0 -3200 -100 -1200 -2000]\n"
     ]
    },
    {
     "name": "stderr",
     "output_type": "stream",
     "text": [
      "\u001b[36m\u001b[1m[ \u001b[22m\u001b[39m\u001b[36m\u001b[1mInfo: \u001b[22m\u001b[39m        2361.4286457s: 39 minutes, 21 seconds, 428 milliseconds\n",
      "\u001b[36m\u001b[1m[ \u001b[22m\u001b[39m\u001b[36m\u001b[1mInfo: \u001b[22m\u001b[39m started timer at: 2025-03-11T01:07:06.915\n"
     ]
    },
    {
     "name": "stdout",
     "output_type": "stream",
     "text": [
      "30\n",
      "k : 8\n",
      "1\n",
      "-41913.82214655797\n",
      "2967.8678639835\n",
      "30\n",
      "K : 10\n",
      "[0 -800 -100 -1200 -2000]\n"
     ]
    },
    {
     "name": "stderr",
     "output_type": "stream",
     "text": [
      "\u001b[36m\u001b[1m[ \u001b[22m\u001b[39m\u001b[36m\u001b[1mInfo: \u001b[22m\u001b[39m        2361.0845729s: 39 minutes, 21 seconds, 84 milliseconds\n",
      "\u001b[36m\u001b[1m[ \u001b[22m\u001b[39m\u001b[36m\u001b[1mInfo: \u001b[22m\u001b[39m started timer at: 2025-03-11T01:46:28.057\n"
     ]
    },
    {
     "name": "stdout",
     "output_type": "stream",
     "text": [
      "30\n",
      "k : 10\n",
      "1\n",
      "-26494.8368974668\n",
      "1927.715185960298\n",
      "30\n",
      "K : 10\n",
      "[0 -1200 -100 -1200 -2000]\n"
     ]
    },
    {
     "name": "stderr",
     "output_type": "stream",
     "text": [
      "\u001b[36m\u001b[1m[ \u001b[22m\u001b[39m\u001b[36m\u001b[1mInfo: \u001b[22m\u001b[39m        2365.4434567s: 39 minutes, 25 seconds, 443 milliseconds\n",
      "\u001b[36m\u001b[1m[ \u001b[22m\u001b[39m\u001b[36m\u001b[1mInfo: \u001b[22m\u001b[39m started timer at: 2025-03-11T02:25:53.558\n"
     ]
    },
    {
     "name": "stdout",
     "output_type": "stream",
     "text": [
      "30\n",
      "k : 10\n",
      "1\n",
      "-29956.138800493813\n",
      "2135.251311124488\n",
      "30\n",
      "K : 10\n",
      "[0 -1600 -100 -1200 -2000]\n"
     ]
    },
    {
     "name": "stderr",
     "output_type": "stream",
     "text": [
      "\u001b[36m\u001b[1m[ \u001b[22m\u001b[39m\u001b[36m\u001b[1mInfo: \u001b[22m\u001b[39m        2363.4608287s: 39 minutes, 23 seconds, 460 milliseconds\n",
      "\u001b[36m\u001b[1m[ \u001b[22m\u001b[39m\u001b[36m\u001b[1mInfo: \u001b[22m\u001b[39m started timer at: 2025-03-11T03:05:17.054\n"
     ]
    },
    {
     "name": "stdout",
     "output_type": "stream",
     "text": [
      "30\n",
      "k : 10\n",
      "1\n",
      "-32762.54535109368\n",
      "2285.666161339414\n",
      "30\n",
      "K : 10\n",
      "[0 -2000 -100 -1200 -2000]\n"
     ]
    },
    {
     "name": "stderr",
     "output_type": "stream",
     "text": [
      "\u001b[36m\u001b[1m[ \u001b[22m\u001b[39m\u001b[36m\u001b[1mInfo: \u001b[22m\u001b[39m        2370.0397902s: 39 minutes, 30 seconds, 39 milliseconds\n",
      "\u001b[36m\u001b[1m[ \u001b[22m\u001b[39m\u001b[36m\u001b[1mInfo: \u001b[22m\u001b[39m started timer at: 2025-03-11T03:44:47.146\n"
     ]
    },
    {
     "name": "stdout",
     "output_type": "stream",
     "text": [
      "30\n",
      "k : 10\n",
      "1\n",
      "-35088.0963217355\n",
      "2374.4608002777068\n",
      "30\n",
      "K : 10\n",
      "[0 -2400 -100 -1200 -2000]\n"
     ]
    },
    {
     "name": "stderr",
     "output_type": "stream",
     "text": [
      "\u001b[36m\u001b[1m[ \u001b[22m\u001b[39m\u001b[36m\u001b[1mInfo: \u001b[22m\u001b[39m        2358.5377011s: 39 minutes, 18 seconds, 537 milliseconds\n",
      "\u001b[36m\u001b[1m[ \u001b[22m\u001b[39m\u001b[36m\u001b[1mInfo: \u001b[22m\u001b[39m started timer at: 2025-03-11T04:24:05.743\n"
     ]
    },
    {
     "name": "stdout",
     "output_type": "stream",
     "text": [
      "30\n",
      "k : 10\n",
      "1\n",
      "-37227.536841497844\n",
      "2528.554577316513\n",
      "30\n",
      "K : 10\n",
      "[0 -2800 -100 -1200 -2000]\n"
     ]
    },
    {
     "name": "stderr",
     "output_type": "stream",
     "text": [
      "\u001b[36m\u001b[1m[ \u001b[22m\u001b[39m\u001b[36m\u001b[1mInfo: \u001b[22m\u001b[39m        2364.6439608s: 39 minutes, 24 seconds, 643 milliseconds\n",
      "\u001b[36m\u001b[1m[ \u001b[22m\u001b[39m\u001b[36m\u001b[1mInfo: \u001b[22m\u001b[39m started timer at: 2025-03-11T05:03:30.435\n"
     ]
    },
    {
     "name": "stdout",
     "output_type": "stream",
     "text": [
      "30\n",
      "k : 10\n",
      "1\n",
      "-39327.943805993746\n",
      "2666.7003618592576\n",
      "30\n",
      "K : 10\n",
      "[0 -3200 -100 -1200 -2000]\n"
     ]
    },
    {
     "name": "stderr",
     "output_type": "stream",
     "text": [
      "\u001b[36m\u001b[1m[ \u001b[22m\u001b[39m\u001b[36m\u001b[1mInfo: \u001b[22m\u001b[39m        2349.0753819s: 39 minutes, 9 seconds, 75 milliseconds\n",
      "\u001b[36m\u001b[1m[ \u001b[22m\u001b[39m\u001b[36m\u001b[1mInfo: \u001b[22m\u001b[39m started timer at: 2025-03-11T05:42:39.560\n"
     ]
    },
    {
     "name": "stdout",
     "output_type": "stream",
     "text": [
      "30\n",
      "k : 10\n",
      "1\n",
      "-41211.37316128962\n",
      "2786.533884248857\n",
      "30\n",
      "K : 12\n",
      "[0 -800 -100 -1200 -2000]\n"
     ]
    },
    {
     "name": "stderr",
     "output_type": "stream",
     "text": [
      "\u001b[36m\u001b[1m[ \u001b[22m\u001b[39m\u001b[36m\u001b[1mInfo: \u001b[22m\u001b[39m        2347.3684549s: 39 minutes, 7 seconds, 368 milliseconds\n",
      "\u001b[36m\u001b[1m[ \u001b[22m\u001b[39m\u001b[36m\u001b[1mInfo: \u001b[22m\u001b[39m started timer at: 2025-03-11T06:21:47.009\n"
     ]
    },
    {
     "name": "stdout",
     "output_type": "stream",
     "text": [
      "30\n",
      "k : 12\n",
      "1\n",
      "-26519.436685656696\n",
      "1926.4060289135\n",
      "30\n",
      "K : 12\n",
      "[0 -1200 -100 -1200 -2000]\n"
     ]
    },
    {
     "name": "stderr",
     "output_type": "stream",
     "text": [
      "\u001b[36m\u001b[1m[ \u001b[22m\u001b[39m\u001b[36m\u001b[1mInfo: \u001b[22m\u001b[39m        2337.4261431s: 38 minutes, 57 seconds, 426 milliseconds\n",
      "\u001b[36m\u001b[1m[ \u001b[22m\u001b[39m\u001b[36m\u001b[1mInfo: \u001b[22m\u001b[39m started timer at: 2025-03-11T07:00:44.483\n"
     ]
    },
    {
     "name": "stdout",
     "output_type": "stream",
     "text": [
      "30\n",
      "k : 12\n",
      "1\n",
      "-29908.62363419396\n",
      "2131.305001891442\n",
      "30\n",
      "K : 12\n",
      "[0 -1600 -100 -1200 -2000]\n"
     ]
    },
    {
     "name": "stderr",
     "output_type": "stream",
     "text": [
      "\u001b[36m\u001b[1m[ \u001b[22m\u001b[39m\u001b[36m\u001b[1mInfo: \u001b[22m\u001b[39m        2358.8310749s: 39 minutes, 18 seconds, 831 milliseconds\n",
      "\u001b[36m\u001b[1m[ \u001b[22m\u001b[39m\u001b[36m\u001b[1mInfo: \u001b[22m\u001b[39m started timer at: 2025-03-11T07:40:03.381\n"
     ]
    },
    {
     "name": "stdout",
     "output_type": "stream",
     "text": [
      "30\n",
      "k : 12\n",
      "1\n",
      "-32716.998598009963\n",
      "2289.562260920928\n",
      "30\n",
      "K : 12\n",
      "[0 -2000 -100 -1200 -2000]\n"
     ]
    },
    {
     "name": "stderr",
     "output_type": "stream",
     "text": [
      "\u001b[36m\u001b[1m[ \u001b[22m\u001b[39m\u001b[36m\u001b[1mInfo: \u001b[22m\u001b[39m        2355.7509039s: 39 minutes, 15 seconds, 750 milliseconds\n",
      "\u001b[36m\u001b[1m[ \u001b[22m\u001b[39m\u001b[36m\u001b[1mInfo: \u001b[22m\u001b[39m started timer at: 2025-03-11T08:19:19.182\n"
     ]
    },
    {
     "name": "stdout",
     "output_type": "stream",
     "text": [
      "30\n",
      "k : 12\n",
      "1\n",
      "-34924.309374820645\n",
      "2381.8594565066246\n",
      "30\n",
      "K : 12\n",
      "[0 -2400 -100 -1200 -2000]\n"
     ]
    },
    {
     "name": "stderr",
     "output_type": "stream",
     "text": [
      "\u001b[36m\u001b[1m[ \u001b[22m\u001b[39m\u001b[36m\u001b[1mInfo: \u001b[22m\u001b[39m        2363.3004603s: 39 minutes, 23 seconds, 300 milliseconds\n",
      "\u001b[36m\u001b[1m[ \u001b[22m\u001b[39m\u001b[36m\u001b[1mInfo: \u001b[22m\u001b[39m started timer at: 2025-03-11T08:58:42.531\n"
     ]
    },
    {
     "name": "stdout",
     "output_type": "stream",
     "text": [
      "30\n",
      "k : 12\n",
      "1\n",
      "-37041.68070273423\n",
      "2495.3286143862324\n",
      "30\n",
      "K : 12\n",
      "[0 -2800 -100 -1200 -2000]\n"
     ]
    },
    {
     "name": "stderr",
     "output_type": "stream",
     "text": [
      "\u001b[36m\u001b[1m[ \u001b[22m\u001b[39m\u001b[36m\u001b[1mInfo: \u001b[22m\u001b[39m        2350.8516543s: 39 minutes, 10 seconds, 851 milliseconds\n",
      "\u001b[36m\u001b[1m[ \u001b[22m\u001b[39m\u001b[36m\u001b[1mInfo: \u001b[22m\u001b[39m started timer at: 2025-03-11T09:37:53.432\n"
     ]
    },
    {
     "name": "stdout",
     "output_type": "stream",
     "text": [
      "30\n",
      "k : 12\n",
      "1\n",
      "-39031.671480317455\n",
      "2620.233275515046\n",
      "30\n",
      "K : 12\n",
      "[0 -3200 -100 -1200 -2000]\n"
     ]
    },
    {
     "name": "stderr",
     "output_type": "stream",
     "text": [
      "\u001b[36m\u001b[1m[ \u001b[22m\u001b[39m\u001b[36m\u001b[1mInfo: \u001b[22m\u001b[39m        2376.8617133s: 39 minutes, 36 seconds, 861 milliseconds\n",
      "\u001b[36m\u001b[1m[ \u001b[22m\u001b[39m\u001b[36m\u001b[1mInfo: \u001b[22m\u001b[39m started timer at: 2025-03-11T10:17:30.346\n"
     ]
    },
    {
     "name": "stdout",
     "output_type": "stream",
     "text": [
      "30\n",
      "k : 12\n",
      "1\n",
      "-40847.805624626264\n",
      "2719.0249346333835\n",
      "30\n",
      "K : 14\n",
      "[0 -800 -100 -1200 -2000]\n"
     ]
    },
    {
     "name": "stderr",
     "output_type": "stream",
     "text": [
      "\u001b[36m\u001b[1m[ \u001b[22m\u001b[39m\u001b[36m\u001b[1mInfo: \u001b[22m\u001b[39m        2359.2015331s: 39 minutes, 19 seconds, 201 milliseconds\n",
      "\u001b[36m\u001b[1m[ \u001b[22m\u001b[39m\u001b[36m\u001b[1mInfo: \u001b[22m\u001b[39m started timer at: 2025-03-11T10:56:49.597\n"
     ]
    },
    {
     "name": "stdout",
     "output_type": "stream",
     "text": [
      "30\n",
      "k : 14\n",
      "1\n",
      "-26485.858338052803\n",
      "1927.5442147725391\n",
      "30\n",
      "K : 14\n",
      "[0 -1200 -100 -1200 -2000]\n"
     ]
    },
    {
     "name": "stderr",
     "output_type": "stream",
     "text": [
      "\u001b[36m\u001b[1m[ \u001b[22m\u001b[39m\u001b[36m\u001b[1mInfo: \u001b[22m\u001b[39m        2376.5617522s: 39 minutes, 36 seconds, 561 milliseconds\n",
      "\u001b[36m\u001b[1m[ \u001b[22m\u001b[39m\u001b[36m\u001b[1mInfo: \u001b[22m\u001b[39m started timer at: 2025-03-11T11:36:26.206\n"
     ]
    },
    {
     "name": "stdout",
     "output_type": "stream",
     "text": [
      "30\n",
      "k : 14\n",
      "1\n",
      "-29852.378245942724\n",
      "2144.628098610424\n",
      "30\n",
      "K : 14\n",
      "[0 -1600 -100 -1200 -2000]\n"
     ]
    },
    {
     "name": "stderr",
     "output_type": "stream",
     "text": [
      "\u001b[36m\u001b[1m[ \u001b[22m\u001b[39m\u001b[36m\u001b[1mInfo: \u001b[22m\u001b[39m        2391.9416103s: 39 minutes, 51 seconds, 941 milliseconds\n",
      "\u001b[36m\u001b[1m[ \u001b[22m\u001b[39m\u001b[36m\u001b[1mInfo: \u001b[22m\u001b[39m started timer at: 2025-03-11T12:16:18.201\n"
     ]
    },
    {
     "name": "stdout",
     "output_type": "stream",
     "text": [
      "30\n",
      "k : 14\n",
      "1\n",
      "-32658.61991543954\n",
      "2280.9053338718663\n",
      "30\n",
      "K : 14\n",
      "[0 -2000 -100 -1200 -2000]\n"
     ]
    },
    {
     "name": "stderr",
     "output_type": "stream",
     "text": [
      "\u001b[36m\u001b[1m[ \u001b[22m\u001b[39m\u001b[36m\u001b[1mInfo: \u001b[22m\u001b[39m        2395.3585017s: 39 minutes, 55 seconds, 358 milliseconds\n",
      "\u001b[36m\u001b[1m[ \u001b[22m\u001b[39m\u001b[36m\u001b[1mInfo: \u001b[22m\u001b[39m started timer at: 2025-03-11T12:56:13.610\n"
     ]
    },
    {
     "name": "stdout",
     "output_type": "stream",
     "text": [
      "30\n",
      "k : 14\n",
      "1\n",
      "-34872.45106831225\n",
      "2383.4302224005924\n",
      "30\n",
      "K : 14\n",
      "[0 -2400 -100 -1200 -2000]\n"
     ]
    },
    {
     "name": "stderr",
     "output_type": "stream",
     "text": [
      "\u001b[36m\u001b[1m[ \u001b[22m\u001b[39m\u001b[36m\u001b[1mInfo: \u001b[22m\u001b[39m        2412.9454415s: 40 minutes, 12 seconds, 945 milliseconds\n",
      "\u001b[36m\u001b[1m[ \u001b[22m\u001b[39m\u001b[36m\u001b[1mInfo: \u001b[22m\u001b[39m started timer at: 2025-03-11T13:36:26.606\n"
     ]
    },
    {
     "name": "stdout",
     "output_type": "stream",
     "text": [
      "30\n",
      "k : 14\n",
      "1\n",
      "-36944.48595348656\n",
      "2477.786176989661\n",
      "30\n",
      "K : 14\n",
      "[0 -2800 -100 -1200 -2000]\n"
     ]
    },
    {
     "name": "stderr",
     "output_type": "stream",
     "text": [
      "\u001b[36m\u001b[1m[ \u001b[22m\u001b[39m\u001b[36m\u001b[1mInfo: \u001b[22m\u001b[39m        2409.0977442s: 40 minutes, 9 seconds, 97 milliseconds\n",
      "\u001b[36m\u001b[1m[ \u001b[22m\u001b[39m\u001b[36m\u001b[1mInfo: \u001b[22m\u001b[39m started timer at: 2025-03-11T14:16:35.755\n"
     ]
    },
    {
     "name": "stdout",
     "output_type": "stream",
     "text": [
      "30\n",
      "k : 14\n",
      "1\n",
      "-38893.18274582554\n",
      "2589.385480888972\n",
      "30\n",
      "K : 14\n",
      "[0 -3200 -100 -1200 -2000]\n"
     ]
    },
    {
     "name": "stderr",
     "output_type": "stream",
     "text": [
      "\u001b[36m\u001b[1m[ \u001b[22m\u001b[39m\u001b[36m\u001b[1mInfo: \u001b[22m\u001b[39m        2419.8708927s: 40 minutes, 19 seconds, 870 milliseconds\n",
      "\u001b[36m\u001b[1m[ \u001b[22m\u001b[39m\u001b[36m\u001b[1mInfo: \u001b[22m\u001b[39m started timer at: 2025-03-11T14:56:55.664\n"
     ]
    },
    {
     "name": "stdout",
     "output_type": "stream",
     "text": [
      "30\n",
      "k : 14\n",
      "1\n",
      "-40558.52989420604\n",
      "2659.5775502719266\n",
      "40\n",
      "K : 2\n",
      "[0 -800 -100 -1200 -2000]\n"
     ]
    },
    {
     "name": "stderr",
     "output_type": "stream",
     "text": [
      "\u001b[36m\u001b[1m[ \u001b[22m\u001b[39m\u001b[36m\u001b[1mInfo: \u001b[22m\u001b[39m        2387.0568191s: 39 minutes, 47 seconds, 56 milliseconds\n",
      "\u001b[36m\u001b[1m[ \u001b[22m\u001b[39m\u001b[36m\u001b[1mInfo: \u001b[22m\u001b[39m started timer at: 2025-03-11T15:36:42.776\n"
     ]
    },
    {
     "name": "stdout",
     "output_type": "stream",
     "text": [
      "40\n",
      "k : 2\n",
      "1\n",
      "-35571.156533880116\n",
      "3068.9769764203174\n",
      "40\n",
      "K : 2\n",
      "[0 -1200 -100 -1200 -2000]\n"
     ]
    },
    {
     "name": "stderr",
     "output_type": "stream",
     "text": [
      "\u001b[36m\u001b[1m[ \u001b[22m\u001b[39m\u001b[36m\u001b[1mInfo: \u001b[22m\u001b[39m         3149.318381s: 52 minutes, 29 seconds, 318 milliseconds\n",
      "\u001b[36m\u001b[1m[ \u001b[22m\u001b[39m\u001b[36m\u001b[1mInfo: \u001b[22m\u001b[39m started timer at: 2025-03-11T16:29:12.171\n"
     ]
    },
    {
     "name": "stdout",
     "output_type": "stream",
     "text": [
      "40\n",
      "k : 2\n",
      "1\n",
      "-42023.9240479454\n",
      "3610.164379114443\n",
      "40\n",
      "K : 2\n",
      "[0 -1600 -100 -1200 -2000]\n"
     ]
    },
    {
     "name": "stderr",
     "output_type": "stream",
     "text": [
      "\u001b[36m\u001b[1m[ \u001b[22m\u001b[39m\u001b[36m\u001b[1mInfo: \u001b[22m\u001b[39m        3094.8196946s: 51 minutes, 34 seconds, 819 milliseconds\n",
      "\u001b[36m\u001b[1m[ \u001b[22m\u001b[39m\u001b[36m\u001b[1mInfo: \u001b[22m\u001b[39m started timer at: 2025-03-11T17:20:47.048\n"
     ]
    },
    {
     "name": "stdout",
     "output_type": "stream",
     "text": [
      "40\n",
      "k : 2\n",
      "1\n",
      "-47279.95071697306\n",
      "4012.485742632357\n",
      "40\n",
      "K : 2\n",
      "[0 -2000 -100 -1200 -2000]\n"
     ]
    },
    {
     "name": "stderr",
     "output_type": "stream",
     "text": [
      "\u001b[36m\u001b[1m[ \u001b[22m\u001b[39m\u001b[36m\u001b[1mInfo: \u001b[22m\u001b[39m        3138.1038675s: 52 minutes, 18 seconds, 103 milliseconds\n",
      "\u001b[36m\u001b[1m[ \u001b[22m\u001b[39m\u001b[36m\u001b[1mInfo: \u001b[22m\u001b[39m started timer at: 2025-03-11T18:13:05.226\n"
     ]
    },
    {
     "name": "stdout",
     "output_type": "stream",
     "text": [
      "40\n",
      "k : 2\n",
      "1\n",
      "-51421.88725161537\n",
      "4160.1912864452925\n",
      "40\n",
      "K : 2\n",
      "[0 -2400 -100 -1200 -2000]\n"
     ]
    },
    {
     "name": "stderr",
     "output_type": "stream",
     "text": [
      "\u001b[36m\u001b[1m[ \u001b[22m\u001b[39m\u001b[36m\u001b[1mInfo: \u001b[22m\u001b[39m         3123.714568s: 52 minutes, 3 seconds, 714 milliseconds\n",
      "\u001b[36m\u001b[1m[ \u001b[22m\u001b[39m\u001b[36m\u001b[1mInfo: \u001b[22m\u001b[39m started timer at: 2025-03-11T19:05:09.007\n"
     ]
    },
    {
     "name": "stdout",
     "output_type": "stream",
     "text": [
      "40\n",
      "k : 2\n",
      "1\n",
      "-55092.90700781693\n",
      "4285.223643059436\n",
      "40\n",
      "K : 2\n",
      "[0 -2800 -100 -1200 -2000]\n"
     ]
    },
    {
     "name": "stderr",
     "output_type": "stream",
     "text": [
      "\u001b[36m\u001b[1m[ \u001b[22m\u001b[39m\u001b[36m\u001b[1mInfo: \u001b[22m\u001b[39m        3142.3751949s: 52 minutes, 22 seconds, 375 milliseconds\n",
      "\u001b[36m\u001b[1m[ \u001b[22m\u001b[39m\u001b[36m\u001b[1mInfo: \u001b[22m\u001b[39m started timer at: 2025-03-11T19:57:31.434\n"
     ]
    },
    {
     "name": "stdout",
     "output_type": "stream",
     "text": [
      "40\n",
      "k : 2\n",
      "1\n",
      "-58454.25014670472\n",
      "4336.236788916728\n",
      "40"
     ]
    },
    {
     "name": "stderr",
     "output_type": "stream",
     "text": [
      "\u001b[36m\u001b[1m[ \u001b[22m\u001b[39m\u001b[36m\u001b[1mInfo: \u001b[22m\u001b[39m        3145.7772901s: 52 minutes, 25 seconds, 777 milliseconds\n",
      "\u001b[36m\u001b[1m[ \u001b[22m\u001b[39m\u001b[36m\u001b[1mInfo: \u001b[22m\u001b[39m started timer at: 2025-03-11T20:49:57.290\n"
     ]
    },
    {
     "name": "stdout",
     "output_type": "stream",
     "text": [
      "\n",
      "K : 2\n",
      "[0 -3200 -100 -1200 -2000]\n",
      "40\n",
      "k : 2\n",
      "1\n",
      "-61785.049607395194\n",
      "4520.446919877816\n",
      "40\n",
      "K : 4\n",
      "[0 -800 -100 -1200 -2000]\n"
     ]
    },
    {
     "name": "stderr",
     "output_type": "stream",
     "text": [
      "\u001b[36m\u001b[1m[ \u001b[22m\u001b[39m\u001b[36m\u001b[1mInfo: \u001b[22m\u001b[39m        3145.3790894s: 52 minutes, 25 seconds, 379 milliseconds\n",
      "\u001b[36m\u001b[1m[ \u001b[22m\u001b[39m\u001b[36m\u001b[1mInfo: \u001b[22m\u001b[39m started timer at: 2025-03-11T21:42:22.724\n"
     ]
    },
    {
     "name": "stdout",
     "output_type": "stream",
     "text": [
      "40\n",
      "k : 4\n",
      "1\n",
      "-31850.907647200907\n",
      "2178.3874233976962\n",
      "40\n",
      "K : 4\n",
      "[0 -1200 -100 -1200 -2000]\n"
     ]
    },
    {
     "name": "stderr",
     "output_type": "stream",
     "text": [
      "\u001b[36m\u001b[1m[ \u001b[22m\u001b[39m\u001b[36m\u001b[1mInfo: \u001b[22m\u001b[39m        3136.9456852s: 52 minutes, 16 seconds, 945 milliseconds\n",
      "\u001b[36m\u001b[1m[ \u001b[22m\u001b[39m\u001b[36m\u001b[1mInfo: \u001b[22m\u001b[39m started timer at: 2025-03-11T22:34:39.739\n"
     ]
    },
    {
     "name": "stdout",
     "output_type": "stream",
     "text": [
      "40\n",
      "k : 4\n",
      "1\n",
      "-36600.2390395652\n",
      "2619.4330810858773\n",
      "40"
     ]
    },
    {
     "name": "stderr",
     "output_type": "stream",
     "text": [
      "\u001b[36m\u001b[1m[ \u001b[22m\u001b[39m\u001b[36m\u001b[1mInfo: \u001b[22m\u001b[39m        3141.5237046s: 52 minutes, 21 seconds, 523 milliseconds\n",
      "\u001b[36m\u001b[1m[ \u001b[22m\u001b[39m\u001b[36m\u001b[1mInfo: \u001b[22m\u001b[39m started timer at: 2025-03-11T23:27:01.336\n"
     ]
    },
    {
     "name": "stdout",
     "output_type": "stream",
     "text": [
      "\n",
      "K : 4\n",
      "[0 -1600 -100 -1200 -2000]\n",
      "40\n",
      "k : 4\n",
      "1\n",
      "-40660.986878458716\n",
      "2969.3679097306876\n",
      "40\n",
      "K : 4\n",
      "[0 -2000 -100 -1200 -2000]\n"
     ]
    },
    {
     "name": "stderr",
     "output_type": "stream",
     "text": [
      "\u001b[36m\u001b[1m[ \u001b[22m\u001b[39m\u001b[36m\u001b[1mInfo: \u001b[22m\u001b[39m        3154.2412815s: 52 minutes, 34 seconds, 241 milliseconds\n",
      "\u001b[36m\u001b[1m[ \u001b[22m\u001b[39m\u001b[36m\u001b[1mInfo: \u001b[22m\u001b[39m started timer at: 2025-03-12T00:19:35.643\n"
     ]
    },
    {
     "name": "stdout",
     "output_type": "stream",
     "text": [
      "40\n",
      "k : 4\n",
      "1\n",
      "-44257.569269746964\n",
      "3238.6629273191925\n",
      "40\n",
      "K : 4\n",
      "[0 -2400 -100 -1200 -2000]\n"
     ]
    },
    {
     "name": "stderr",
     "output_type": "stream",
     "text": [
      "\u001b[36m\u001b[1m[ \u001b[22m\u001b[39m\u001b[36m\u001b[1mInfo: \u001b[22m\u001b[39m        3172.6387307s: 52 minutes, 52 seconds, 638 milliseconds\n",
      "\u001b[36m\u001b[1m[ \u001b[22m\u001b[39m\u001b[36m\u001b[1mInfo: \u001b[22m\u001b[39m started timer at: 2025-03-12T01:12:28.343\n"
     ]
    },
    {
     "name": "stdout",
     "output_type": "stream",
     "text": [
      "40\n",
      "k : 4\n",
      "1\n",
      "-47600.25537086347\n",
      "3502.9072737999427\n",
      "40\n",
      "K : 4\n",
      "[0 -2800 -100 -1200 -2000]\n"
     ]
    },
    {
     "name": "stderr",
     "output_type": "stream",
     "text": [
      "\u001b[36m\u001b[1m[ \u001b[22m\u001b[39m\u001b[36m\u001b[1mInfo: \u001b[22m\u001b[39m        3170.5860742s: 52 minutes, 50 seconds, 586 milliseconds\n",
      "\u001b[36m\u001b[1m[ \u001b[22m\u001b[39m\u001b[36m\u001b[1mInfo: \u001b[22m\u001b[39m started timer at: 2025-03-12T02:05:19.002\n"
     ]
    },
    {
     "name": "stdout",
     "output_type": "stream",
     "text": [
      "40\n",
      "k : 4\n",
      "1\n",
      "-50840.393761713014\n",
      "3720.039404741189\n",
      "40\n",
      "K : 4\n",
      "[0 -3200 -100 -1200 -2000]\n"
     ]
    },
    {
     "name": "stderr",
     "output_type": "stream",
     "text": [
      "\u001b[36m\u001b[1m[ \u001b[22m\u001b[39m\u001b[36m\u001b[1mInfo: \u001b[22m\u001b[39m        3136.9915825s: 52 minutes, 16 seconds, 991 milliseconds\n",
      "\u001b[36m\u001b[1m[ \u001b[22m\u001b[39m\u001b[36m\u001b[1mInfo: \u001b[22m\u001b[39m started timer at: 2025-03-12T02:57:36.055\n"
     ]
    },
    {
     "name": "stdout",
     "output_type": "stream",
     "text": [
      "40\n",
      "k : 4\n",
      "1\n",
      "-53910.6524190732\n",
      "3892.9317182263603\n",
      "40\n",
      "K : 6\n",
      "[0 -800 -100 -1200 -2000]\n"
     ]
    },
    {
     "name": "stderr",
     "output_type": "stream",
     "text": [
      "\u001b[36m\u001b[1m[ \u001b[22m\u001b[39m\u001b[36m\u001b[1mInfo: \u001b[22m\u001b[39m        3178.2365474s: 52 minutes, 58 seconds, 236 milliseconds\n",
      "\u001b[36m\u001b[1m[ \u001b[22m\u001b[39m\u001b[36m\u001b[1mInfo: \u001b[22m\u001b[39m started timer at: 2025-03-12T03:50:34.356\n"
     ]
    },
    {
     "name": "stdout",
     "output_type": "stream",
     "text": [
      "40\n",
      "k : 6\n",
      "1\n",
      "-31426.426918794572\n",
      "2046.4994714800857\n",
      "40\n",
      "K : 6\n",
      "[0 -1200 -100 -1200 -2000]\n"
     ]
    },
    {
     "name": "stderr",
     "output_type": "stream",
     "text": [
      "\u001b[36m\u001b[1m[ \u001b[22m\u001b[39m\u001b[36m\u001b[1mInfo: \u001b[22m\u001b[39m        3135.8228057s: 52 minutes, 15 seconds, 822 milliseconds\n",
      "\u001b[36m\u001b[1m[ \u001b[22m\u001b[39m\u001b[36m\u001b[1mInfo: \u001b[22m\u001b[39m started timer at: 2025-03-12T04:42:50.249\n"
     ]
    },
    {
     "name": "stdout",
     "output_type": "stream",
     "text": [
      "40\n",
      "k : 6\n",
      "1\n",
      "-35665.09742654388\n",
      "2350.967593541984\n",
      "40\n",
      "K : 6\n",
      "[0 -1600 -100 -1200 -2000]\n"
     ]
    },
    {
     "name": "stderr",
     "output_type": "stream",
     "text": [
      "\u001b[36m\u001b[1m[ \u001b[22m\u001b[39m\u001b[36m\u001b[1mInfo: \u001b[22m\u001b[39m        3162.0821532s: 52 minutes, 42 seconds, 82 milliseconds\n",
      "\u001b[36m\u001b[1m[ \u001b[22m\u001b[39m\u001b[36m\u001b[1mInfo: \u001b[22m\u001b[39m started timer at: 2025-03-12T05:35:32.399\n"
     ]
    },
    {
     "name": "stdout",
     "output_type": "stream",
     "text": [
      "40\n",
      "k : 6\n",
      "1\n",
      "-39188.42773006332\n",
      "2631.9836378953382\n",
      "40\n",
      "K : 6\n",
      "[0 -2000 -100 -1200 -2000]\n"
     ]
    },
    {
     "name": "stderr",
     "output_type": "stream",
     "text": [
      "\u001b[36m\u001b[1m[ \u001b[22m\u001b[39m\u001b[36m\u001b[1mInfo: \u001b[22m\u001b[39m        3149.4772868s: 52 minutes, 29 seconds, 477 milliseconds\n",
      "\u001b[36m\u001b[1m[ \u001b[22m\u001b[39m\u001b[36m\u001b[1mInfo: \u001b[22m\u001b[39m started timer at: 2025-03-12T06:28:01.954\n"
     ]
    },
    {
     "name": "stdout",
     "output_type": "stream",
     "text": [
      "40\n",
      "k : 6\n",
      "1\n",
      "-42302.48862240859\n",
      "2795.7643987794954\n",
      "40\n",
      "K : 6\n",
      "[0 -2400 -100 -1200 -2000]\n"
     ]
    },
    {
     "name": "stderr",
     "output_type": "stream",
     "text": [
      "\u001b[36m\u001b[1m[ \u001b[22m\u001b[39m\u001b[36m\u001b[1mInfo: \u001b[22m\u001b[39m        3179.3092134s: 52 minutes, 59 seconds, 309 milliseconds\n",
      "\u001b[36m\u001b[1m[ \u001b[22m\u001b[39m\u001b[36m\u001b[1mInfo: \u001b[22m\u001b[39m started timer at: 2025-03-12T07:21:01.354\n"
     ]
    },
    {
     "name": "stdout",
     "output_type": "stream",
     "text": [
      "40\n",
      "k : 6\n",
      "1\n",
      "-45121.46370257062\n",
      "3048.5285322029886\n",
      "40\n",
      "K : 6\n",
      "[0 -2800 -100 -1200 -2000]\n"
     ]
    },
    {
     "name": "stderr",
     "output_type": "stream",
     "text": [
      "\u001b[36m\u001b[1m[ \u001b[22m\u001b[39m\u001b[36m\u001b[1mInfo: \u001b[22m\u001b[39m        3148.6582092s: 52 minutes, 28 seconds, 658 milliseconds\n",
      "\u001b[36m\u001b[1m[ \u001b[22m\u001b[39m\u001b[36m\u001b[1mInfo: \u001b[22m\u001b[39m started timer at: 2025-03-12T08:13:30.078\n"
     ]
    },
    {
     "name": "stdout",
     "output_type": "stream",
     "text": [
      "40\n",
      "k : 6\n",
      "1\n",
      "-47989.26494116549\n",
      "3208.305570985292\n",
      "40\n",
      "K : 6\n",
      "[0 -3200 -100 -1200 -2000]\n"
     ]
    },
    {
     "name": "stderr",
     "output_type": "stream",
     "text": [
      "\u001b[36m\u001b[1m[ \u001b[22m\u001b[39m\u001b[36m\u001b[1mInfo: \u001b[22m\u001b[39m        3174.2557846s: 52 minutes, 54 seconds, 255 milliseconds\n",
      "\u001b[36m\u001b[1m[ \u001b[22m\u001b[39m\u001b[36m\u001b[1mInfo: \u001b[22m\u001b[39m started timer at: 2025-03-12T09:06:24.399\n"
     ]
    },
    {
     "name": "stdout",
     "output_type": "stream",
     "text": [
      "40\n",
      "k : 6\n",
      "1\n",
      "-50725.778868315196\n",
      "3519.1678037337942\n",
      "40\n",
      "K : 8\n",
      "[0 -800 -100 -1200 -2000]\n"
     ]
    },
    {
     "name": "stderr",
     "output_type": "stream",
     "text": [
      "\u001b[36m\u001b[1m[ \u001b[22m\u001b[39m\u001b[36m\u001b[1mInfo: \u001b[22m\u001b[39m        3168.1886517s: 52 minutes, 48 seconds, 188 milliseconds\n",
      "\u001b[36m\u001b[1m[ \u001b[22m\u001b[39m\u001b[36m\u001b[1mInfo: \u001b[22m\u001b[39m started timer at: 2025-03-12T09:59:12.657\n"
     ]
    },
    {
     "name": "stdout",
     "output_type": "stream",
     "text": [
      "40\n",
      "k : 8\n",
      "1\n",
      "-31372.634523301484\n",
      "2026.762976229344\n",
      "40\n",
      "K : 8\n",
      "[0 -1200 -100 -1200 -2000]\n"
     ]
    },
    {
     "name": "stderr",
     "output_type": "stream",
     "text": [
      "\u001b[36m\u001b[1m[ \u001b[22m\u001b[39m\u001b[36m\u001b[1mInfo: \u001b[22m\u001b[39m        3158.9850436s: 52 minutes, 38 seconds, 985 milliseconds\n",
      "\u001b[36m\u001b[1m[ \u001b[22m\u001b[39m\u001b[36m\u001b[1mInfo: \u001b[22m\u001b[39m started timer at: 2025-03-12T10:51:51.707\n"
     ]
    },
    {
     "name": "stdout",
     "output_type": "stream",
     "text": [
      "40\n",
      "k : 8\n",
      "1\n",
      "-35437.435905981525\n",
      "2311.3508679964907\n",
      "40\n",
      "K : 8\n",
      "[0 -1600 -100 -1200 -2000]\n"
     ]
    },
    {
     "name": "stderr",
     "output_type": "stream",
     "text": [
      "\u001b[36m\u001b[1m[ \u001b[22m\u001b[39m\u001b[36m\u001b[1mInfo: \u001b[22m\u001b[39m        3204.4725444s: 53 minutes, 24 seconds, 472 milliseconds\n",
      "\u001b[36m\u001b[1m[ \u001b[22m\u001b[39m\u001b[36m\u001b[1mInfo: \u001b[22m\u001b[39m started timer at: 2025-03-12T11:45:16.247\n"
     ]
    },
    {
     "name": "stdout",
     "output_type": "stream",
     "text": [
      "40\n",
      "k : 8\n",
      "1\n",
      "-38745.34532016465\n",
      "2502.9593249975924\n",
      "40\n",
      "K : 8\n",
      "[0 -2000 -100 -1200 -2000]\n"
     ]
    },
    {
     "name": "stderr",
     "output_type": "stream",
     "text": [
      "\u001b[36m\u001b[1m[ \u001b[22m\u001b[39m\u001b[36m\u001b[1mInfo: \u001b[22m\u001b[39m        3177.1232848s: 52 minutes, 57 seconds, 123 milliseconds\n",
      "\u001b[36m\u001b[1m[ \u001b[22m\u001b[39m\u001b[36m\u001b[1mInfo: \u001b[22m\u001b[39m started timer at: 2025-03-12T12:38:13.439\n"
     ]
    },
    {
     "name": "stdout",
     "output_type": "stream",
     "text": [
      "40\n",
      "k : 8\n",
      "1\n",
      "-41622.95821542688\n",
      "2628.535962544609\n",
      "40\n",
      "K : 8\n",
      "[0 -2400 -100 -1200 -2000]\n"
     ]
    },
    {
     "name": "stderr",
     "output_type": "stream",
     "text": [
      "\u001b[36m\u001b[1m[ \u001b[22m\u001b[39m\u001b[36m\u001b[1mInfo: \u001b[22m\u001b[39m        3185.9953214s: 53 minutes, 5 seconds, 995 milliseconds\n",
      "\u001b[36m\u001b[1m[ \u001b[22m\u001b[39m\u001b[36m\u001b[1mInfo: \u001b[22m\u001b[39m started timer at: 2025-03-12T13:31:19.502\n"
     ]
    },
    {
     "name": "stdout",
     "output_type": "stream",
     "text": [
      "40\n",
      "k : 8\n",
      "1\n",
      "-44220.70073073882\n",
      "2818.808168319077\n",
      "40\n",
      "K : 8\n",
      "[0 -2800 -100 -1200 -2000]\n"
     ]
    },
    {
     "name": "stderr",
     "output_type": "stream",
     "text": [
      "\u001b[36m\u001b[1m[ \u001b[22m\u001b[39m\u001b[36m\u001b[1mInfo: \u001b[22m\u001b[39m        3172.4270747s: 52 minutes, 52 seconds, 427 milliseconds\n",
      "\u001b[36m\u001b[1m[ \u001b[22m\u001b[39m\u001b[36m\u001b[1mInfo: \u001b[22m\u001b[39m started timer at: 2025-03-12T14:24:11.980\n"
     ]
    },
    {
     "name": "stdout",
     "output_type": "stream",
     "text": [
      "40\n",
      "k : 8\n",
      "1\n",
      "-46748.93155512522\n",
      "2997.4108991347916\n",
      "40\n",
      "K : 8\n",
      "[0 -3200 -100 -1200 -2000]\n"
     ]
    },
    {
     "name": "stderr",
     "output_type": "stream",
     "text": [
      "\u001b[36m\u001b[1m[ \u001b[22m\u001b[39m\u001b[36m\u001b[1mInfo: \u001b[22m\u001b[39m        3191.3509352s: 53 minutes, 11 seconds, 350 milliseconds\n",
      "\u001b[36m\u001b[1m[ \u001b[22m\u001b[39m\u001b[36m\u001b[1mInfo: \u001b[22m\u001b[39m started timer at: 2025-03-12T15:17:23.407\n"
     ]
    },
    {
     "name": "stdout",
     "output_type": "stream",
     "text": [
      "40\n",
      "k : 8\n",
      "1\n",
      "-49075.056768862116\n",
      "3168.2635336705503\n",
      "40\n",
      "K : 10\n",
      "[0 -800 -100 -1200 -2000]\n"
     ]
    },
    {
     "name": "stderr",
     "output_type": "stream",
     "text": [
      "\u001b[36m\u001b[1m[ \u001b[22m\u001b[39m\u001b[36m\u001b[1mInfo: \u001b[22m\u001b[39m        3171.6719747s: 52 minutes, 51 seconds, 671 milliseconds\n",
      "\u001b[36m\u001b[1m[ \u001b[22m\u001b[39m\u001b[36m\u001b[1mInfo: \u001b[22m\u001b[39m started timer at: 2025-03-12T16:10:15.151\n"
     ]
    },
    {
     "name": "stdout",
     "output_type": "stream",
     "text": [
      "40\n",
      "k : 10\n",
      "1\n",
      "-31321.512778493685\n",
      "2044.5071248202528\n",
      "40\n",
      "K : 10\n",
      "[0 -1200 -100 -1200 -2000]\n"
     ]
    },
    {
     "name": "stderr",
     "output_type": "stream",
     "text": [
      "\u001b[36m\u001b[1m[ \u001b[22m\u001b[39m\u001b[36m\u001b[1mInfo: \u001b[22m\u001b[39m        3197.0976647s: 53 minutes, 17 seconds, 97 milliseconds\n",
      "\u001b[36m\u001b[1m[ \u001b[22m\u001b[39m\u001b[36m\u001b[1mInfo: \u001b[22m\u001b[39m started timer at: 2025-03-12T17:03:32.306\n"
     ]
    },
    {
     "name": "stdout",
     "output_type": "stream",
     "text": [
      "40\n",
      "k : 10\n",
      "1\n",
      "-35361.962108656946\n",
      "2271.5756350078773\n",
      "40\n",
      "K : 10\n",
      "[0 -1600 -100 -1200 -2000]\n"
     ]
    },
    {
     "name": "stderr",
     "output_type": "stream",
     "text": [
      "\u001b[36m\u001b[1m[ \u001b[22m\u001b[39m\u001b[36m\u001b[1mInfo: \u001b[22m\u001b[39m        3186.7548047s: 53 minutes, 6 seconds, 754 milliseconds\n",
      "\u001b[36m\u001b[1m[ \u001b[22m\u001b[39m\u001b[36m\u001b[1mInfo: \u001b[22m\u001b[39m started timer at: 2025-03-12T17:56:39.138\n"
     ]
    },
    {
     "name": "stdout",
     "output_type": "stream",
     "text": [
      "40\n",
      "k : 10\n",
      "1\n",
      "-38566.28473632286\n",
      "2484.3468299833944\n",
      "40\n",
      "K : 10\n",
      "[0 -2000 -100 -1200 -2000]\n"
     ]
    },
    {
     "name": "stderr",
     "output_type": "stream",
     "text": [
      "\u001b[36m\u001b[1m[ \u001b[22m\u001b[39m\u001b[36m\u001b[1mInfo: \u001b[22m\u001b[39m        3228.6421601s: 53 minutes, 48 seconds, 642 milliseconds\n",
      "\u001b[36m\u001b[1m[ \u001b[22m\u001b[39m\u001b[36m\u001b[1mInfo: \u001b[22m\u001b[39m started timer at: 2025-03-12T18:50:27.847\n"
     ]
    },
    {
     "name": "stdout",
     "output_type": "stream",
     "text": [
      "40\n",
      "k : 10\n",
      "1\n",
      "-41376.02081001216\n",
      "2611.656157684993\n",
      "40\n",
      "K : 10\n",
      "[0 -2400 -100 -1200 -2000]\n"
     ]
    },
    {
     "name": "stderr",
     "output_type": "stream",
     "text": [
      "\u001b[36m\u001b[1m[ \u001b[22m\u001b[39m\u001b[36m\u001b[1mInfo: \u001b[22m\u001b[39m        3189.7249589s: 53 minutes, 9 seconds, 724 milliseconds\n",
      "\u001b[36m\u001b[1m[ \u001b[22m\u001b[39m\u001b[36m\u001b[1mInfo: \u001b[22m\u001b[39m started timer at: 2025-03-12T19:43:37.651\n"
     ]
    },
    {
     "name": "stdout",
     "output_type": "stream",
     "text": [
      "40\n",
      "k : 10\n",
      "1\n",
      "-43800.52166382111\n",
      "2732.93571394785\n",
      "40\n",
      "K : 10\n",
      "[0 -2800 -100 -1200 -2000]\n"
     ]
    },
    {
     "name": "stderr",
     "output_type": "stream",
     "text": [
      "\u001b[36m\u001b[1m[ \u001b[22m\u001b[39m\u001b[36m\u001b[1mInfo: \u001b[22m\u001b[39m        3207.2632823s: 53 minutes, 27 seconds, 263 milliseconds\n",
      "\u001b[36m\u001b[1m[ \u001b[22m\u001b[39m\u001b[36m\u001b[1mInfo: \u001b[22m\u001b[39m started timer at: 2025-03-12T20:37:04.981\n"
     ]
    },
    {
     "name": "stdout",
     "output_type": "stream",
     "text": [
      "40\n",
      "k : 10\n",
      "1\n",
      "-46081.68208016883\n",
      "2894.7974347595823\n",
      "40\n",
      "K : 10\n",
      "[0 -3200 -100 -1200 -2000]\n"
     ]
    },
    {
     "name": "stderr",
     "output_type": "stream",
     "text": [
      "\u001b[36m\u001b[1m[ \u001b[22m\u001b[39m\u001b[36m\u001b[1mInfo: \u001b[22m\u001b[39m         3226.586833s: 53 minutes, 46 seconds, 586 milliseconds\n",
      "\u001b[36m\u001b[1m[ \u001b[22m\u001b[39m\u001b[36m\u001b[1mInfo: \u001b[22m\u001b[39m started timer at: 2025-03-12T21:30:51.637\n"
     ]
    },
    {
     "name": "stdout",
     "output_type": "stream",
     "text": [
      "40\n",
      "k : 10\n",
      "1\n",
      "-48344.361947900055\n",
      "3007.7951962685684\n",
      "40\n",
      "K : 12\n",
      "[0 -800 -100 -1200 -2000]\n"
     ]
    },
    {
     "name": "stderr",
     "output_type": "stream",
     "text": [
      "\u001b[36m\u001b[1m[ \u001b[22m\u001b[39m\u001b[36m\u001b[1mInfo: \u001b[22m\u001b[39m        3182.0647108s: 53 minutes, 2 seconds, 64 milliseconds\n",
      "\u001b[36m\u001b[1m[ \u001b[22m\u001b[39m\u001b[36m\u001b[1mInfo: \u001b[22m\u001b[39m started timer at: 2025-03-12T22:23:53.769\n"
     ]
    },
    {
     "name": "stdout",
     "output_type": "stream",
     "text": [
      "40\n",
      "k : 12\n",
      "1\n",
      "-31242.579085484325\n",
      "2027.7934286988445\n",
      "40\n",
      "K : 12\n",
      "[0 -1200 -100 -1200 -2000]\n"
     ]
    },
    {
     "name": "stderr",
     "output_type": "stream",
     "text": [
      "\u001b[36m\u001b[1m[ \u001b[22m\u001b[39m\u001b[36m\u001b[1mInfo: \u001b[22m\u001b[39m        3228.6832496s: 53 minutes, 48 seconds, 683 milliseconds\n",
      "\u001b[36m\u001b[1m[ \u001b[22m\u001b[39m\u001b[36m\u001b[1mInfo: \u001b[22m\u001b[39m started timer at: 2025-03-12T23:17:42.520\n"
     ]
    },
    {
     "name": "stdout",
     "output_type": "stream",
     "text": [
      "40\n",
      "k : 12\n",
      "1\n",
      "-35289.85990123099\n",
      "2316.505625871897\n",
      "40\n",
      "K : 12\n",
      "[0 -1600 -100 -1200 -2000]\n"
     ]
    },
    {
     "name": "stderr",
     "output_type": "stream",
     "text": [
      "\u001b[36m\u001b[1m[ \u001b[22m\u001b[39m\u001b[36m\u001b[1mInfo: \u001b[22m\u001b[39m        3207.2985435s: 53 minutes, 27 seconds, 298 milliseconds\n",
      "\u001b[36m\u001b[1m[ \u001b[22m\u001b[39m\u001b[36m\u001b[1mInfo: \u001b[22m\u001b[39m started timer at: 2025-03-13T00:11:09.885\n"
     ]
    },
    {
     "name": "stdout",
     "output_type": "stream",
     "text": [
      "40\n",
      "k : 12\n",
      "1\n",
      "-38503.219157319356\n",
      "2486.0073426627564\n",
      "40\n",
      "K : 12\n",
      "[0 -2000 -100 -1200 -2000]\n"
     ]
    },
    {
     "name": "stderr",
     "output_type": "stream",
     "text": [
      "\u001b[36m\u001b[1m[ \u001b[22m\u001b[39m\u001b[36m\u001b[1mInfo: \u001b[22m\u001b[39m        3235.7804357s: 53 minutes, 55 seconds, 780 milliseconds\n",
      "\u001b[36m\u001b[1m[ \u001b[22m\u001b[39m\u001b[36m\u001b[1mInfo: \u001b[22m\u001b[39m started timer at: 2025-03-13T01:05:05.733\n"
     ]
    },
    {
     "name": "stdout",
     "output_type": "stream",
     "text": [
      "40\n",
      "k : 12\n",
      "1\n",
      "-41235.50201736067\n",
      "2596.055907381723\n",
      "40\n",
      "K : 12\n",
      "[0 -2400 -100 -1200 -2000]\n"
     ]
    },
    {
     "name": "stderr",
     "output_type": "stream",
     "text": [
      "\u001b[36m\u001b[1m[ \u001b[22m\u001b[39m\u001b[36m\u001b[1mInfo: \u001b[22m\u001b[39m         3225.244986s: 53 minutes, 45 seconds, 244 milliseconds\n",
      "\u001b[36m\u001b[1m[ \u001b[22m\u001b[39m\u001b[36m\u001b[1mInfo: \u001b[22m\u001b[39m started timer at: 2025-03-13T01:58:51.046\n"
     ]
    },
    {
     "name": "stdout",
     "output_type": "stream",
     "text": [
      "40\n",
      "k : 12\n",
      "1\n",
      "-43640.651533584576\n",
      "2698.477276148524\n",
      "40\n",
      "K : 12\n",
      "[0 -2800 -100 -1200 -2000]\n"
     ]
    },
    {
     "name": "stderr",
     "output_type": "stream",
     "text": [
      "\u001b[36m\u001b[1m[ \u001b[22m\u001b[39m\u001b[36m\u001b[1mInfo: \u001b[22m\u001b[39m        3226.6604058s: 53 minutes, 46 seconds, 660 milliseconds\n",
      "\u001b[36m\u001b[1m[ \u001b[22m\u001b[39m\u001b[36m\u001b[1mInfo: \u001b[22m\u001b[39m started timer at: 2025-03-13T02:52:37.773\n"
     ]
    },
    {
     "name": "stdout",
     "output_type": "stream",
     "text": [
      "40\n",
      "k : 12\n",
      "1\n",
      "-45831.244624356106\n",
      "2828.188459106234\n"
     ]
    },
    {
     "name": "stderr",
     "output_type": "stream",
     "text": [
      "\u001b[36m\u001b[1m[ \u001b[22m\u001b[39m\u001b[36m\u001b[1mInfo: \u001b[22m\u001b[39m        3236.3505603s: 53 minutes, 56 seconds, 350 milliseconds\n"
     ]
    },
    {
     "name": "stdout",
     "output_type": "stream",
     "text": [
      "40\n",
      "K : 12\n",
      "[0 -3200 -100 -1200 -2000]\n"
     ]
    },
    {
     "name": "stderr",
     "output_type": "stream",
     "text": [
      "\u001b[36m\u001b[1m[ \u001b[22m\u001b[39m\u001b[36m\u001b[1mInfo: \u001b[22m\u001b[39m started timer at: 2025-03-13T03:46:34.202\n"
     ]
    },
    {
     "name": "stdout",
     "output_type": "stream",
     "text": [
      "40\n",
      "k : 12\n",
      "1\n",
      "-47984.959188760935\n",
      "2936.633701322647\n",
      "40\n",
      "K : 14\n",
      "[0 -800 -100 -1200 -2000]\n"
     ]
    },
    {
     "name": "stderr",
     "output_type": "stream",
     "text": [
      "\u001b[36m\u001b[1m[ \u001b[22m\u001b[39m\u001b[36m\u001b[1mInfo: \u001b[22m\u001b[39m        3207.0695422s: 53 minutes, 27 seconds, 69 milliseconds\n",
      "\u001b[36m\u001b[1m[ \u001b[22m\u001b[39m\u001b[36m\u001b[1mInfo: \u001b[22m\u001b[39m started timer at: 2025-03-13T04:40:01.338\n"
     ]
    },
    {
     "name": "stdout",
     "output_type": "stream",
     "text": [
      "40\n",
      "k : 14\n",
      "1\n",
      "-31244.476534848374\n",
      "2030.3771505036705\n",
      "40\n",
      "K : 14\n",
      "[0 -1200 -100 -1200 -2000]\n"
     ]
    },
    {
     "name": "stderr",
     "output_type": "stream",
     "text": [
      "\u001b[36m\u001b[1m[ \u001b[22m\u001b[39m\u001b[36m\u001b[1mInfo: \u001b[22m\u001b[39m         3221.075411s: 53 minutes, 41 seconds, 75 milliseconds\n",
      "\u001b[36m\u001b[1m[ \u001b[22m\u001b[39m\u001b[36m\u001b[1mInfo: \u001b[22m\u001b[39m started timer at: 2025-03-13T05:33:42.481\n"
     ]
    },
    {
     "name": "stdout",
     "output_type": "stream",
     "text": [
      "40\n",
      "k : 14\n",
      "1\n",
      "-35290.958162103976\n",
      "2303.3487551135645\n",
      "40\n",
      "K : 14\n",
      "[0 -1600 -100 -1200 -2000]\n"
     ]
    },
    {
     "name": "stderr",
     "output_type": "stream",
     "text": [
      "\u001b[36m\u001b[1m[ \u001b[22m\u001b[39m\u001b[36m\u001b[1mInfo: \u001b[22m\u001b[39m         3231.060217s: 53 minutes, 51 seconds, 60 milliseconds\n",
      "\u001b[36m\u001b[1m[ \u001b[22m\u001b[39m\u001b[36m\u001b[1mInfo: \u001b[22m\u001b[39m started timer at: 2025-03-13T06:27:33.609\n"
     ]
    },
    {
     "name": "stdout",
     "output_type": "stream",
     "text": [
      "40\n",
      "k : 14\n",
      "1\n",
      "-38506.127391404094\n",
      "2480.37519274286\n",
      "40\n",
      "K : 14\n",
      "[0 -2000 -100 -1200 -2000]\n"
     ]
    },
    {
     "name": "stderr",
     "output_type": "stream",
     "text": [
      "\u001b[36m\u001b[1m[ \u001b[22m\u001b[39m\u001b[36m\u001b[1mInfo: \u001b[22m\u001b[39m        3241.2210178s: 54 minutes, 1 second, 221 milliseconds\n",
      "\u001b[36m\u001b[1m[ \u001b[22m\u001b[39m\u001b[36m\u001b[1mInfo: \u001b[22m\u001b[39m started timer at: 2025-03-13T07:21:34.898\n"
     ]
    },
    {
     "name": "stdout",
     "output_type": "stream",
     "text": [
      "40\n",
      "k : 14\n",
      "1\n",
      "-41163.205159284866\n",
      "2571.112938621291\n",
      "40\n",
      "K : 14\n",
      "[0 -2400 -100 -1200 -2000]\n"
     ]
    },
    {
     "name": "stderr",
     "output_type": "stream",
     "text": [
      "\u001b[36m\u001b[1m[ \u001b[22m\u001b[39m\u001b[36m\u001b[1mInfo: \u001b[22m\u001b[39m        3294.9907761s: 54 minutes, 54 seconds, 990 milliseconds\n",
      "\u001b[36m\u001b[1m[ \u001b[22m\u001b[39m\u001b[36m\u001b[1mInfo: \u001b[22m\u001b[39m started timer at: 2025-03-13T08:16:29.969\n"
     ]
    },
    {
     "name": "stdout",
     "output_type": "stream",
     "text": [
      "40\n",
      "k : 14\n",
      "1\n",
      "-43527.280741519484\n",
      "2707.1771159582995\n",
      "40\n",
      "K : 14\n",
      "[0 -2800 -100 -1200 -2000]\n"
     ]
    },
    {
     "name": "stderr",
     "output_type": "stream",
     "text": [
      "\u001b[36m\u001b[1m[ \u001b[22m\u001b[39m\u001b[36m\u001b[1mInfo: \u001b[22m\u001b[39m        3246.9190609s: 54 minutes, 6 seconds, 919 milliseconds\n",
      "\u001b[36m\u001b[1m[ \u001b[22m\u001b[39m\u001b[36m\u001b[1mInfo: \u001b[22m\u001b[39m started timer at: 2025-03-13T09:10:36.955\n"
     ]
    },
    {
     "name": "stdout",
     "output_type": "stream",
     "text": [
      "40\n",
      "k : 14\n",
      "1\n",
      "-45686.92145587017\n",
      "2785.6167768467594\n",
      "40\n",
      "K : 14\n",
      "[0 -3200 -100 -1200 -2000]\n"
     ]
    },
    {
     "name": "stderr",
     "output_type": "stream",
     "text": [
      "\u001b[36m\u001b[1m[ \u001b[22m\u001b[39m\u001b[36m\u001b[1mInfo: \u001b[22m\u001b[39m        3259.0332217s: 54 minutes, 19 seconds, 33 milliseconds\n",
      "\u001b[36m\u001b[1m[ \u001b[22m\u001b[39m\u001b[36m\u001b[1mInfo: \u001b[22m\u001b[39m started timer at: 2025-03-13T10:04:56.056\n"
     ]
    },
    {
     "name": "stdout",
     "output_type": "stream",
     "text": [
      "40\n",
      "k : 14\n",
      "1\n",
      "-47751.52726631993\n",
      "2946.99518709063\n",
      "40\n",
      "K : 16\n",
      "[0 -800 -100 -1200 -2000]\n"
     ]
    },
    {
     "name": "stderr",
     "output_type": "stream",
     "text": [
      "\u001b[36m\u001b[1m[ \u001b[22m\u001b[39m\u001b[36m\u001b[1mInfo: \u001b[22m\u001b[39m        3271.1455992s: 54 minutes, 31 seconds, 145 milliseconds\n",
      "\u001b[36m\u001b[1m[ \u001b[22m\u001b[39m\u001b[36m\u001b[1mInfo: \u001b[22m\u001b[39m started timer at: 2025-03-13T10:59:27.271\n"
     ]
    },
    {
     "name": "stdout",
     "output_type": "stream",
     "text": [
      "40\n",
      "k : 16\n",
      "1\n",
      "-31228.556898688857\n",
      "2038.597891012583\n",
      "40\n",
      "K : 16\n",
      "[0 -1200 -100 -1200 -2000]\n"
     ]
    },
    {
     "name": "stderr",
     "output_type": "stream",
     "text": [
      "\u001b[36m\u001b[1m[ \u001b[22m\u001b[39m\u001b[36m\u001b[1mInfo: \u001b[22m\u001b[39m        3247.7014599s: 54 minutes, 7 seconds, 701 milliseconds\n",
      "\u001b[36m\u001b[1m[ \u001b[22m\u001b[39m\u001b[36m\u001b[1mInfo: \u001b[22m\u001b[39m started timer at: 2025-03-13T11:53:35.041\n"
     ]
    },
    {
     "name": "stdout",
     "output_type": "stream",
     "text": [
      "40\n",
      "k : 16\n",
      "1\n",
      "-35255.93318331273\n",
      "2304.2926805843495\n",
      "40\n",
      "K : 16\n",
      "[0 -1600 -100 -1200 -2000]\n"
     ]
    },
    {
     "name": "stderr",
     "output_type": "stream",
     "text": [
      "\u001b[36m\u001b[1m[ \u001b[22m\u001b[39m\u001b[36m\u001b[1mInfo: \u001b[22m\u001b[39m        3248.5462295s: 54 minutes, 8 seconds, 546 milliseconds\n",
      "\u001b[36m\u001b[1m[ \u001b[22m\u001b[39m\u001b[36m\u001b[1mInfo: \u001b[22m\u001b[39m started timer at: 2025-03-13T12:47:43.656\n"
     ]
    },
    {
     "name": "stdout",
     "output_type": "stream",
     "text": [
      "40\n",
      "k : 16\n",
      "1\n",
      "-38469.59157302172\n",
      "2471.5007071171176\n",
      "40\n",
      "K : 16\n",
      "[0 -2000 -100 -1200 -2000]\n"
     ]
    },
    {
     "name": "stderr",
     "output_type": "stream",
     "text": [
      "\u001b[36m\u001b[1m[ \u001b[22m\u001b[39m\u001b[36m\u001b[1mInfo: \u001b[22m\u001b[39m          3258.03163s: 54 minutes, 18 seconds, 31 milliseconds\n",
      "\u001b[36m\u001b[1m[ \u001b[22m\u001b[39m\u001b[36m\u001b[1mInfo: \u001b[22m\u001b[39m started timer at: 2025-03-13T13:42:01.756\n"
     ]
    },
    {
     "name": "stdout",
     "output_type": "stream",
     "text": [
      "40\n",
      "k : 16\n",
      "1\n",
      "-41128.33624758036\n",
      "2590.0533810768948\n",
      "40\n",
      "K : 16\n",
      "[0 -2400 -100 -1200 -2000]\n"
     ]
    },
    {
     "name": "stderr",
     "output_type": "stream",
     "text": [
      "\u001b[36m\u001b[1m[ \u001b[22m\u001b[39m\u001b[36m\u001b[1mInfo: \u001b[22m\u001b[39m         3244.717713s: 54 minutes, 4 seconds, 717 milliseconds\n",
      "\u001b[36m\u001b[1m[ \u001b[22m\u001b[39m\u001b[36m\u001b[1mInfo: \u001b[22m\u001b[39m started timer at: 2025-03-13T14:36:06.542\n"
     ]
    },
    {
     "name": "stdout",
     "output_type": "stream",
     "text": [
      "40\n",
      "k : 16\n",
      "1\n",
      "-43412.20845874053\n",
      "2679.454455535184\n",
      "40\n",
      "K : 16\n",
      "[0 -2800 -100 -1200 -2000]\n"
     ]
    },
    {
     "name": "stderr",
     "output_type": "stream",
     "text": [
      "\u001b[36m\u001b[1m[ \u001b[22m\u001b[39m\u001b[36m\u001b[1mInfo: \u001b[22m\u001b[39m        3272.0944328s: 54 minutes, 32 seconds, 94 milliseconds\n",
      "\u001b[36m\u001b[1m[ \u001b[22m\u001b[39m\u001b[36m\u001b[1mInfo: \u001b[22m\u001b[39m started timer at: 2025-03-13T15:30:38.705\n"
     ]
    },
    {
     "name": "stdout",
     "output_type": "stream",
     "text": [
      "40\n",
      "k : 16\n",
      "1\n",
      "-45595.26430728167\n",
      "2789.379706755744\n",
      "40\n",
      "K : 16\n",
      "[0 -3200 -100 -1200 -2000]\n"
     ]
    },
    {
     "name": "stderr",
     "output_type": "stream",
     "text": [
      "\u001b[36m\u001b[1m[ \u001b[22m\u001b[39m\u001b[36m\u001b[1mInfo: \u001b[22m\u001b[39m        3222.1056153s: 53 minutes, 42 seconds, 105 milliseconds\n",
      "\u001b[36m\u001b[1m[ \u001b[22m\u001b[39m\u001b[36m\u001b[1mInfo: \u001b[22m\u001b[39m started timer at: 2025-03-13T16:24:20.879\n"
     ]
    },
    {
     "name": "stdout",
     "output_type": "stream",
     "text": [
      "40\n",
      "k : 16\n",
      "1\n",
      "-47561.52665719061\n",
      "2863.9380377567745\n",
      "40\n",
      "K : 18\n",
      "[0 -800 -100 -1200 -2000]\n"
     ]
    },
    {
     "name": "stderr",
     "output_type": "stream",
     "text": [
      "\u001b[36m\u001b[1m[ \u001b[22m\u001b[39m\u001b[36m\u001b[1mInfo: \u001b[22m\u001b[39m        3257.5100598s: 54 minutes, 17 seconds, 510 milliseconds\n",
      "\u001b[36m\u001b[1m[ \u001b[22m\u001b[39m\u001b[36m\u001b[1mInfo: \u001b[22m\u001b[39m started timer at: 2025-03-13T17:18:38.458\n"
     ]
    },
    {
     "name": "stdout",
     "output_type": "stream",
     "text": [
      "40\n",
      "k : 18\n",
      "1\n",
      "-31239.98626685584\n",
      "2026.843397912462\n",
      "40\n",
      "K : 18\n",
      "[0 -1200 -100 -1200 -2000]\n"
     ]
    },
    {
     "name": "stderr",
     "output_type": "stream",
     "text": [
      "\u001b[36m\u001b[1m[ \u001b[22m\u001b[39m\u001b[36m\u001b[1mInfo: \u001b[22m\u001b[39m        3292.6881739s: 54 minutes, 52 seconds, 688 milliseconds\n",
      "\u001b[36m\u001b[1m[ \u001b[22m\u001b[39m\u001b[36m\u001b[1mInfo: \u001b[22m\u001b[39m started timer at: 2025-03-13T18:13:31.215\n"
     ]
    },
    {
     "name": "stdout",
     "output_type": "stream",
     "text": [
      "40\n",
      "k : 18\n",
      "1\n",
      "-35221.71611371562\n",
      "2280.0715353192804\n",
      "40\n",
      "K : 18\n",
      "[0 -1600 -100 -1200 -2000]\n"
     ]
    },
    {
     "name": "stderr",
     "output_type": "stream",
     "text": [
      "\u001b[36m\u001b[1m[ \u001b[22m\u001b[39m\u001b[36m\u001b[1mInfo: \u001b[22m\u001b[39m        3262.1705463s: 54 minutes, 22 seconds, 170 milliseconds\n",
      "\u001b[36m\u001b[1m[ \u001b[22m\u001b[39m\u001b[36m\u001b[1mInfo: \u001b[22m\u001b[39m started timer at: 2025-03-13T19:07:53.455\n"
     ]
    },
    {
     "name": "stdout",
     "output_type": "stream",
     "text": [
      "40\n",
      "k : 18\n",
      "1\n",
      "-38354.794772105226\n",
      "2476.819355079381\n",
      "40\n",
      "K : 18\n",
      "[0 -2000 -100 -1200 -2000]\n"
     ]
    },
    {
     "name": "stderr",
     "output_type": "stream",
     "text": [
      "\u001b[36m\u001b[1m[ \u001b[22m\u001b[39m\u001b[36m\u001b[1mInfo: \u001b[22m\u001b[39m        3287.2310774s: 54 minutes, 47 seconds, 231 milliseconds\n",
      "\u001b[36m\u001b[1m[ \u001b[22m\u001b[39m\u001b[36m\u001b[1mInfo: \u001b[22m\u001b[39m started timer at: 2025-03-13T20:02:40.754\n"
     ]
    },
    {
     "name": "stdout",
     "output_type": "stream",
     "text": [
      "40\n",
      "k : 18\n",
      "1\n",
      "-41076.372259848395\n",
      "2626.700402234903\n",
      "40\n",
      "K : 18\n",
      "[0 -2400 -100 -1200 -2000]\n"
     ]
    },
    {
     "name": "stderr",
     "output_type": "stream",
     "text": [
      "\u001b[36m\u001b[1m[ \u001b[22m\u001b[39m\u001b[36m\u001b[1mInfo: \u001b[22m\u001b[39m        3318.2079478s: 55 minutes, 18 seconds, 207 milliseconds\n",
      "\u001b[36m\u001b[1m[ \u001b[22m\u001b[39m\u001b[36m\u001b[1mInfo: \u001b[22m\u001b[39m started timer at: 2025-03-13T20:57:59.032\n"
     ]
    },
    {
     "name": "stdout",
     "output_type": "stream",
     "text": [
      "40\n",
      "k : 18\n",
      "1\n",
      "-43371.384353953006\n",
      "2713.404800242571\n",
      "40\n",
      "K : 18\n",
      "[0 -2800 -100 -1200 -2000]\n"
     ]
    },
    {
     "name": "stderr",
     "output_type": "stream",
     "text": [
      "\u001b[36m\u001b[1m[ \u001b[22m\u001b[39m\u001b[36m\u001b[1mInfo: \u001b[22m\u001b[39m        3288.5486532s: 54 minutes, 48 seconds, 548 milliseconds\n",
      "\u001b[36m\u001b[1m[ \u001b[22m\u001b[39m\u001b[36m\u001b[1mInfo: \u001b[22m\u001b[39m started timer at: 2025-03-13T21:52:47.649\n"
     ]
    },
    {
     "name": "stdout",
     "output_type": "stream",
     "text": [
      "40\n",
      "k : 18\n",
      "1\n",
      "-45470.17700542254\n",
      "2840.36493705566\n",
      "40\n",
      "K : 18\n",
      "[0 -3200 -100 -1200 -2000]\n"
     ]
    },
    {
     "name": "stderr",
     "output_type": "stream",
     "text": [
      "\u001b[36m\u001b[1m[ \u001b[22m\u001b[39m\u001b[36m\u001b[1mInfo: \u001b[22m\u001b[39m        3325.0841853s: 55 minutes, 25 seconds, 84 milliseconds\n",
      "\u001b[36m\u001b[1m[ \u001b[22m\u001b[39m\u001b[36m\u001b[1mInfo: \u001b[22m\u001b[39m started timer at: 2025-03-13T22:48:12.804\n"
     ]
    },
    {
     "name": "stdout",
     "output_type": "stream",
     "text": [
      "40\n",
      "k : 18\n",
      "1\n",
      "-47493.792318391104\n",
      "3057.6297479104737\n",
      "40\n",
      "K : 20\n",
      "[0 -800 -100 -1200 -2000]\n"
     ]
    },
    {
     "name": "stderr",
     "output_type": "stream",
     "text": [
      "\u001b[36m\u001b[1m[ \u001b[22m\u001b[39m\u001b[36m\u001b[1mInfo: \u001b[22m\u001b[39m        3302.1116598s: 55 minutes, 2 seconds, 111 milliseconds\n",
      "\u001b[36m\u001b[1m[ \u001b[22m\u001b[39m\u001b[36m\u001b[1mInfo: \u001b[22m\u001b[39m started timer at: 2025-03-13T23:43:14.986\n"
     ]
    },
    {
     "name": "stdout",
     "output_type": "stream",
     "text": [
      "40\n",
      "k : 20\n",
      "1\n",
      "-31200.219902981196\n",
      "2049.2888000152725\n",
      "40\n",
      "K : 20\n",
      "[0 -1200 -100 -1200 -2000]\n"
     ]
    },
    {
     "name": "stderr",
     "output_type": "stream",
     "text": [
      "\u001b[36m\u001b[1m[ \u001b[22m\u001b[39m\u001b[36m\u001b[1mInfo: \u001b[22m\u001b[39m        3278.0219826s: 54 minutes, 38 seconds, 21 milliseconds\n",
      "\u001b[36m\u001b[1m[ \u001b[22m\u001b[39m\u001b[36m\u001b[1mInfo: \u001b[22m\u001b[39m started timer at: 2025-03-14T00:37:53.077\n"
     ]
    },
    {
     "name": "stdout",
     "output_type": "stream",
     "text": [
      "40\n",
      "k : 20\n",
      "1\n",
      "-35155.78720815315\n",
      "2326.1623815550934\n",
      "40\n",
      "K : 20\n",
      "[0 -1600 -100 -1200 -2000]\n"
     ]
    },
    {
     "name": "stderr",
     "output_type": "stream",
     "text": [
      "\u001b[36m\u001b[1m[ \u001b[22m\u001b[39m\u001b[36m\u001b[1mInfo: \u001b[22m\u001b[39m        3310.6176369s: 55 minutes, 10 seconds, 617 milliseconds\n",
      "\u001b[36m\u001b[1m[ \u001b[22m\u001b[39m\u001b[36m\u001b[1mInfo: \u001b[22m\u001b[39m started timer at: 2025-03-14T01:33:03.764\n"
     ]
    },
    {
     "name": "stdout",
     "output_type": "stream",
     "text": [
      "40\n",
      "k : 20\n",
      "1\n",
      "-38343.12735487025\n",
      "2489.6173423796577\n",
      "40\n",
      "K : 20\n",
      "[0 -2000 -100 -1200 -2000]\n"
     ]
    },
    {
     "name": "stderr",
     "output_type": "stream",
     "text": [
      "\u001b[36m\u001b[1m[ \u001b[22m\u001b[39m\u001b[36m\u001b[1mInfo: \u001b[22m\u001b[39m         3326.580905s: 55 minutes, 26 seconds, 580 milliseconds\n",
      "\u001b[36m\u001b[1m[ \u001b[22m\u001b[39m\u001b[36m\u001b[1mInfo: \u001b[22m\u001b[39m started timer at: 2025-03-14T02:28:30.414\n"
     ]
    },
    {
     "name": "stdout",
     "output_type": "stream",
     "text": [
      "40\n",
      "k : 20\n",
      "1\n",
      "-41058.438971574404\n",
      "2697.7609741011624\n",
      "40\n",
      "K : 20\n",
      "[0 -2400 -100 -1200 -2000]\n"
     ]
    },
    {
     "name": "stderr",
     "output_type": "stream",
     "text": [
      "\u001b[36m\u001b[1m[ \u001b[22m\u001b[39m\u001b[36m\u001b[1mInfo: \u001b[22m\u001b[39m        3305.1671643s: 55 minutes, 5 seconds, 167 milliseconds\n",
      "\u001b[36m\u001b[1m[ \u001b[22m\u001b[39m\u001b[36m\u001b[1mInfo: \u001b[22m\u001b[39m started timer at: 2025-03-14T03:23:35.650\n"
     ]
    },
    {
     "name": "stdout",
     "output_type": "stream",
     "text": [
      "40\n",
      "k : 20\n",
      "1\n",
      "-43630.20202136172\n",
      "2891.6100817043834\n",
      "40\n",
      "K : 20\n",
      "[0 -2800 -100 -1200 -2000]\n"
     ]
    },
    {
     "name": "stderr",
     "output_type": "stream",
     "text": [
      "\u001b[36m\u001b[1m[ \u001b[22m\u001b[39m\u001b[36m\u001b[1mInfo: \u001b[22m\u001b[39m        3337.5970823s: 55 minutes, 37 seconds, 597 milliseconds\n",
      "\u001b[36m\u001b[1m[ \u001b[22m\u001b[39m\u001b[36m\u001b[1mInfo: \u001b[22m\u001b[39m started timer at: 2025-03-14T04:19:13.328\n"
     ]
    },
    {
     "name": "stdout",
     "output_type": "stream",
     "text": [
      "40\n",
      "k : 20\n",
      "1\n",
      "-46556.0932165258\n",
      "3306.631961846744\n",
      "40\n",
      "K : 20\n",
      "[0 -3200 -100 -1200 -2000]\n"
     ]
    },
    {
     "name": "stderr",
     "output_type": "stream",
     "text": [
      "\u001b[36m\u001b[1m[ \u001b[22m\u001b[39m\u001b[36m\u001b[1mInfo: \u001b[22m\u001b[39m        3301.9029916s: 55 minutes, 1 second, 902 milliseconds\n",
      "\u001b[36m\u001b[1m[ \u001b[22m\u001b[39m\u001b[36m\u001b[1mInfo: \u001b[22m\u001b[39m started timer at: 2025-03-14T05:14:15.298\n"
     ]
    },
    {
     "name": "stdout",
     "output_type": "stream",
     "text": [
      "40\n",
      "k : 20\n",
      "1\n",
      "-50067.12811328848\n",
      "3755.6583652888976\n",
      "50\n",
      "K : 2\n",
      "[0 -800 -100 -1200 -2000]\n"
     ]
    },
    {
     "name": "stderr",
     "output_type": "stream",
     "text": [
      "\u001b[36m\u001b[1m[ \u001b[22m\u001b[39m\u001b[36m\u001b[1mInfo: \u001b[22m\u001b[39m        3280.8951428s: 54 minutes, 40 seconds, 895 milliseconds\n",
      "\u001b[36m\u001b[1m[ \u001b[22m\u001b[39m\u001b[36m\u001b[1mInfo: \u001b[22m\u001b[39m started timer at: 2025-03-14T06:08:56.262\n"
     ]
    },
    {
     "name": "stdout",
     "output_type": "stream",
     "text": [
      "50\n",
      "k : 2\n",
      "1\n",
      "-41160.63092645362\n",
      "2980.574085780702\n",
      "50\n",
      "K : 2\n",
      "[0 -1200 -100 -1200 -2000]\n"
     ]
    },
    {
     "name": "stderr",
     "output_type": "stream",
     "text": [
      "\u001b[36m\u001b[1m[ \u001b[22m\u001b[39m\u001b[36m\u001b[1mInfo: \u001b[22m\u001b[39m        4141.5942171s: 1 hour, 9 minutes, 1 second, 594 milliseconds\n",
      "\u001b[36m\u001b[1m[ \u001b[22m\u001b[39m\u001b[36m\u001b[1mInfo: \u001b[22m\u001b[39m started timer at: 2025-03-14T07:17:57.955\n"
     ]
    },
    {
     "name": "stdout",
     "output_type": "stream",
     "text": [
      "50\n",
      "k : 2\n",
      "1\n",
      "-49047.82493148368\n",
      "3612.9353234502914\n",
      "50\n",
      "K : 2\n",
      "[0 -1600 -100 -1200 -2000]\n"
     ]
    },
    {
     "name": "stderr",
     "output_type": "stream",
     "text": [
      "\u001b[36m\u001b[1m[ \u001b[22m\u001b[39m\u001b[36m\u001b[1mInfo: \u001b[22m\u001b[39m        4030.6468765s: 1 hour, 7 minutes, 10 seconds, 646 milliseconds\n",
      "\u001b[36m\u001b[1m[ \u001b[22m\u001b[39m\u001b[36m\u001b[1mInfo: \u001b[22m\u001b[39m started timer at: 2025-03-14T08:25:08.686\n"
     ]
    },
    {
     "name": "stdout",
     "output_type": "stream",
     "text": [
      "50\n",
      "k : 2\n",
      "1\n",
      "-55621.201857398286\n",
      "4111.909823830049\n",
      "50\n",
      "K : 2\n",
      "[0 -2000 -100 -1200 -2000]\n"
     ]
    },
    {
     "name": "stderr",
     "output_type": "stream",
     "text": [
      "\u001b[36m\u001b[1m[ \u001b[22m\u001b[39m\u001b[36m\u001b[1mInfo: \u001b[22m\u001b[39m        4063.2346111s: 1 hour, 7 minutes, 43 seconds, 234 milliseconds\n",
      "\u001b[36m\u001b[1m[ \u001b[22m\u001b[39m\u001b[36m\u001b[1mInfo: \u001b[22m\u001b[39m started timer at: 2025-03-14T09:32:52.007\n"
     ]
    },
    {
     "name": "stdout",
     "output_type": "stream",
     "text": [
      "50\n",
      "k : 2\n",
      "1\n",
      "-60683.47145513046\n",
      "4337.088396042855\n",
      "50\n",
      "K : 2\n",
      "[0 -2400 -100 -1200 -2000]\n"
     ]
    },
    {
     "name": "stderr",
     "output_type": "stream",
     "text": [
      "\u001b[36m\u001b[1m[ \u001b[22m\u001b[39m\u001b[36m\u001b[1mInfo: \u001b[22m\u001b[39m        4072.5707256s: 1 hour, 7 minutes, 52 seconds, 570 milliseconds\n",
      "\u001b[36m\u001b[1m[ \u001b[22m\u001b[39m\u001b[36m\u001b[1mInfo: \u001b[22m\u001b[39m started timer at: 2025-03-14T10:40:44.663\n"
     ]
    },
    {
     "name": "stdout",
     "output_type": "stream",
     "text": [
      "50\n",
      "k : 2\n",
      "1\n",
      "-64472.917199405754\n",
      "4470.920850674894\n",
      "50\n",
      "K : 2\n",
      "[0 -2800 -100 -1200 -2000]\n"
     ]
    },
    {
     "name": "stderr",
     "output_type": "stream",
     "text": [
      "\u001b[36m\u001b[1m[ \u001b[22m\u001b[39m\u001b[36m\u001b[1mInfo: \u001b[22m\u001b[39m        4064.8263353s: 1 hour, 7 minutes, 44 seconds, 826 milliseconds\n",
      "\u001b[36m\u001b[1m[ \u001b[22m\u001b[39m\u001b[36m\u001b[1mInfo: \u001b[22m\u001b[39m started timer at: 2025-03-14T11:48:29.574\n"
     ]
    },
    {
     "name": "stdout",
     "output_type": "stream",
     "text": [
      "50\n",
      "k : 2\n",
      "1\n",
      "-67978.2936586633\n",
      "4528.512173796266\n",
      "50\n",
      "K : 2\n",
      "[0 -3200 -100 -1200 -2000]\n"
     ]
    },
    {
     "name": "stderr",
     "output_type": "stream",
     "text": [
      "\u001b[36m\u001b[1m[ \u001b[22m\u001b[39m\u001b[36m\u001b[1mInfo: \u001b[22m\u001b[39m        4091.1668094s: 1 hour, 8 minutes, 11 seconds, 166 milliseconds\n",
      "\u001b[36m\u001b[1m[ \u001b[22m\u001b[39m\u001b[36m\u001b[1mInfo: \u001b[22m\u001b[39m started timer at: 2025-03-14T12:56:40.826\n"
     ]
    },
    {
     "name": "stdout",
     "output_type": "stream",
     "text": [
      "50\n",
      "k : 2\n",
      "1\n",
      "-71139.68774361306\n",
      "4604.305511921061\n",
      "50\n",
      "K : 4\n",
      "[0 -800 -100 -1200 -2000]\n"
     ]
    },
    {
     "name": "stderr",
     "output_type": "stream",
     "text": [
      "\u001b[36m\u001b[1m[ \u001b[22m\u001b[39m\u001b[36m\u001b[1mInfo: \u001b[22m\u001b[39m        4054.8831559s: 1 hour, 7 minutes, 34 seconds, 883 milliseconds\n",
      "\u001b[36m\u001b[1m[ \u001b[22m\u001b[39m\u001b[36m\u001b[1mInfo: \u001b[22m\u001b[39m started timer at: 2025-03-14T14:04:15.793\n"
     ]
    },
    {
     "name": "stdout",
     "output_type": "stream",
     "text": [
      "50\n",
      "k : 4\n",
      "1\n",
      "-37821.06179534645\n",
      "2145.4628275259174\n",
      "50\n",
      "K : 4\n",
      "[0 -1200 -100 -1200 -2000]\n"
     ]
    },
    {
     "name": "stderr",
     "output_type": "stream",
     "text": [
      "\u001b[36m\u001b[1m[ \u001b[22m\u001b[39m\u001b[36m\u001b[1mInfo: \u001b[22m\u001b[39m        4076.0731325s: 1 hour, 7 minutes, 56 seconds, 73 milliseconds\n",
      "\u001b[36m\u001b[1m[ \u001b[22m\u001b[39m\u001b[36m\u001b[1mInfo: \u001b[22m\u001b[39m started timer at: 2025-03-14T15:12:11.952\n"
     ]
    },
    {
     "name": "stdout",
     "output_type": "stream",
     "text": [
      "50\n",
      "k : 4\n",
      "1\n",
      "-43553.057576295985\n",
      "2662.6911537457017\n",
      "50\n",
      "K : 4\n",
      "[0 -1600 -100 -1200 -2000]\n"
     ]
    },
    {
     "name": "stderr",
     "output_type": "stream",
     "text": [
      "\u001b[36m\u001b[1m[ \u001b[22m\u001b[39m\u001b[36m\u001b[1mInfo: \u001b[22m\u001b[39m        4079.8556769s: 1 hour, 7 minutes, 59 seconds, 855 milliseconds\n",
      "\u001b[36m\u001b[1m[ \u001b[22m\u001b[39m\u001b[36m\u001b[1mInfo: \u001b[22m\u001b[39m started timer at: 2025-03-14T16:20:11.892\n"
     ]
    },
    {
     "name": "stdout",
     "output_type": "stream",
     "text": [
      "50\n",
      "k : 4\n",
      "1\n",
      "-48439.87880940487\n",
      "3150.5154399089797\n",
      "50\n",
      "K : 4\n",
      "[0 -2000 -100 -1200 -2000]\n"
     ]
    },
    {
     "name": "stderr",
     "output_type": "stream",
     "text": [
      "\u001b[36m\u001b[1m[ \u001b[22m\u001b[39m\u001b[36m\u001b[1mInfo: \u001b[22m\u001b[39m        4042.4945554s: 1 hour, 7 minutes, 22 seconds, 494 milliseconds\n",
      "\u001b[36m\u001b[1m[ \u001b[22m\u001b[39m\u001b[36m\u001b[1mInfo: \u001b[22m\u001b[39m started timer at: 2025-03-14T17:27:34.470\n"
     ]
    },
    {
     "name": "stdout",
     "output_type": "stream",
     "text": [
      "50\n",
      "k : 4\n",
      "1\n",
      "-52687.15802848278\n",
      "3420.7013153218645\n",
      "50\n",
      "K : 4\n",
      "[0 -2400 -100 -1200 -2000]\n"
     ]
    },
    {
     "name": "stderr",
     "output_type": "stream",
     "text": [
      "\u001b[36m\u001b[1m[ \u001b[22m\u001b[39m\u001b[36m\u001b[1mInfo: \u001b[22m\u001b[39m         4112.116585s: 1 hour, 8 minutes, 32 seconds, 116 milliseconds\n",
      "\u001b[36m\u001b[1m[ \u001b[22m\u001b[39m\u001b[36m\u001b[1mInfo: \u001b[22m\u001b[39m started timer at: 2025-03-14T18:36:06.672\n"
     ]
    },
    {
     "name": "stdout",
     "output_type": "stream",
     "text": [
      "50\n",
      "k : 4\n",
      "1\n",
      "-56214.96941498316\n",
      "3611.3019094866154\n",
      "50\n",
      "K : 4\n",
      "[0 -2800 -100 -1200 -2000]\n"
     ]
    },
    {
     "name": "stderr",
     "output_type": "stream",
     "text": [
      "\u001b[36m\u001b[1m[ \u001b[22m\u001b[39m\u001b[36m\u001b[1mInfo: \u001b[22m\u001b[39m        4137.0518679s: 1 hour, 8 minutes, 57 seconds, 51 milliseconds\n",
      "\u001b[36m\u001b[1m[ \u001b[22m\u001b[39m\u001b[36m\u001b[1mInfo: \u001b[22m\u001b[39m started timer at: 2025-03-14T19:45:03.810\n"
     ]
    },
    {
     "name": "stdout",
     "output_type": "stream",
     "text": [
      "50\n",
      "k : 4\n",
      "1\n",
      "-59716.04480269141\n",
      "3783.627233483838\n",
      "50\n",
      "K : 4\n",
      "[0 -3200 -100 -1200 -2000]\n"
     ]
    },
    {
     "name": "stderr",
     "output_type": "stream",
     "text": [
      "\u001b[36m\u001b[1m[ \u001b[22m\u001b[39m\u001b[36m\u001b[1mInfo: \u001b[22m\u001b[39m        4139.6390233s: 1 hour, 8 minutes, 59 seconds, 639 milliseconds\n",
      "\u001b[36m\u001b[1m[ \u001b[22m\u001b[39m\u001b[36m\u001b[1mInfo: \u001b[22m\u001b[39m started timer at: 2025-03-14T20:54:03.546\n"
     ]
    },
    {
     "name": "stdout",
     "output_type": "stream",
     "text": [
      "50\n",
      "k : 4\n",
      "1\n",
      "-62974.0591593688\n",
      "3971.5357877585443\n",
      "50\n",
      "K : 6\n",
      "[0 -800 -100 -1200 -2000]\n"
     ]
    },
    {
     "name": "stderr",
     "output_type": "stream",
     "text": [
      "\u001b[36m\u001b[1m[ \u001b[22m\u001b[39m\u001b[36m\u001b[1mInfo: \u001b[22m\u001b[39m        4256.1450432s: 1 hour, 10 minutes, 56 seconds, 145 milliseconds\n",
      "\u001b[36m\u001b[1m[ \u001b[22m\u001b[39m\u001b[36m\u001b[1mInfo: \u001b[22m\u001b[39m started timer at: 2025-03-14T22:04:59.778\n"
     ]
    },
    {
     "name": "stdout",
     "output_type": "stream",
     "text": [
      "50\n",
      "k : 6\n",
      "1\n",
      "-37473.028267561196\n",
      "2076.432015763408\n",
      "50\n",
      "K : 6\n",
      "[0 -1200 -100 -1200 -2000]\n"
     ]
    },
    {
     "name": "stderr",
     "output_type": "stream",
     "text": [
      "\u001b[36m\u001b[1m[ \u001b[22m\u001b[39m\u001b[36m\u001b[1mInfo: \u001b[22m\u001b[39m        4218.3663162s: 1 hour, 10 minutes, 18 seconds, 366 milliseconds\n",
      "\u001b[36m\u001b[1m[ \u001b[22m\u001b[39m\u001b[36m\u001b[1mInfo: \u001b[22m\u001b[39m started timer at: 2025-03-14T23:15:18.233\n"
     ]
    },
    {
     "name": "stdout",
     "output_type": "stream",
     "text": [
      "50\n",
      "k : 6\n",
      "1\n",
      "-42555.40269380357\n",
      "2442.9279305667133\n",
      "50\n",
      "K : 6\n",
      "[0 -1600 -100 -1200 -2000]\n"
     ]
    },
    {
     "name": "stderr",
     "output_type": "stream",
     "text": [
      "\u001b[36m\u001b[1m[ \u001b[22m\u001b[39m\u001b[36m\u001b[1mInfo: \u001b[22m\u001b[39m        4137.8543026s: 1 hour, 8 minutes, 57 seconds, 854 milliseconds\n",
      "\u001b[36m\u001b[1m[ \u001b[22m\u001b[39m\u001b[36m\u001b[1mInfo: \u001b[22m\u001b[39m started timer at: 2025-03-15T00:24:16.174\n"
     ]
    },
    {
     "name": "stdout",
     "output_type": "stream",
     "text": [
      "50\n",
      "k : 6\n",
      "1\n",
      "-46802.714400102916\n",
      "2753.4162922460955\n",
      "50\n",
      "K : 6\n",
      "[0 -2000 -100 -1200 -2000]\n"
     ]
    },
    {
     "name": "stderr",
     "output_type": "stream",
     "text": [
      "\u001b[36m\u001b[1m[ \u001b[22m\u001b[39m\u001b[36m\u001b[1mInfo: \u001b[22m\u001b[39m         4199.531993s: 1 hour, 9 minutes, 59 seconds, 531 milliseconds\n",
      "\u001b[36m\u001b[1m[ \u001b[22m\u001b[39m\u001b[36m\u001b[1mInfo: \u001b[22m\u001b[39m started timer at: 2025-03-15T01:34:15.792\n"
     ]
    },
    {
     "name": "stdout",
     "output_type": "stream",
     "text": [
      "50\n",
      "k : 6\n",
      "1\n",
      "-50477.24189372592\n",
      "2954.254168293857\n",
      "50\n",
      "K : 6\n",
      "[0 -2400 -100 -1200 -2000]\n"
     ]
    },
    {
     "name": "stderr",
     "output_type": "stream",
     "text": [
      "\u001b[36m\u001b[1m[ \u001b[22m\u001b[39m\u001b[36m\u001b[1mInfo: \u001b[22m\u001b[39m        4227.1917519s: 1 hour, 10 minutes, 27 seconds, 191 milliseconds\n",
      "\u001b[36m\u001b[1m[ \u001b[22m\u001b[39m\u001b[36m\u001b[1mInfo: \u001b[22m\u001b[39m started timer at: 2025-03-15T02:44:43.071\n"
     ]
    },
    {
     "name": "stdout",
     "output_type": "stream",
     "text": [
      "50\n",
      "k : 6\n",
      "1\n",
      "-53562.08612003008\n",
      "3173.6995452831898\n",
      "50\n",
      "K : 6\n",
      "[0 -2800 -100 -1200 -2000]\n"
     ]
    },
    {
     "name": "stderr",
     "output_type": "stream",
     "text": [
      "\u001b[36m\u001b[1m[ \u001b[22m\u001b[39m\u001b[36m\u001b[1mInfo: \u001b[22m\u001b[39m        4207.5602419s: 1 hour, 10 minutes, 7 seconds, 560 milliseconds\n",
      "\u001b[36m\u001b[1m[ \u001b[22m\u001b[39m\u001b[36m\u001b[1mInfo: \u001b[22m\u001b[39m started timer at: 2025-03-15T03:54:50.719\n"
     ]
    },
    {
     "name": "stdout",
     "output_type": "stream",
     "text": [
      "50\n",
      "k : 6\n",
      "1\n",
      "-56803.44410756819\n",
      "3380.281206095709\n",
      "50\n",
      "K : 6\n",
      "[0 -3200 -100 -1200 -2000]\n"
     ]
    },
    {
     "name": "stderr",
     "output_type": "stream",
     "text": [
      "\u001b[36m\u001b[1m[ \u001b[22m\u001b[39m\u001b[36m\u001b[1mInfo: \u001b[22m\u001b[39m        4294.1906916s: 1 hour, 11 minutes, 34 seconds, 190 milliseconds\n",
      "\u001b[36m\u001b[1m[ \u001b[22m\u001b[39m\u001b[36m\u001b[1mInfo: \u001b[22m\u001b[39m started timer at: 2025-03-15T05:06:25.001\n"
     ]
    },
    {
     "name": "stdout",
     "output_type": "stream",
     "text": [
      "50\n",
      "k : 6\n",
      "1\n",
      "-59665.6155494839\n",
      "3564.2659660264576\n",
      "50\n",
      "K : 8\n",
      "[0 -800 -100 -1200 -2000]\n"
     ]
    },
    {
     "name": "stderr",
     "output_type": "stream",
     "text": [
      "\u001b[36m\u001b[1m[ \u001b[22m\u001b[39m\u001b[36m\u001b[1mInfo: \u001b[22m\u001b[39m        4283.9823442s: 1 hour, 11 minutes, 23 seconds, 982 milliseconds\n",
      "\u001b[36m\u001b[1m[ \u001b[22m\u001b[39m\u001b[36m\u001b[1mInfo: \u001b[22m\u001b[39m started timer at: 2025-03-15T06:17:49.073\n"
     ]
    },
    {
     "name": "stdout",
     "output_type": "stream",
     "text": [
      "50\n",
      "k : 8\n",
      "1\n",
      "-37459.422969993604\n",
      "2054.693579081946\n"
     ]
    },
    {
     "name": "stderr",
     "output_type": "stream",
     "text": [
      "\u001b[36m\u001b[1m[ \u001b[22m\u001b[39m\u001b[36m\u001b[1mInfo: \u001b[22m\u001b[39m        4283.1352049s: 1 hour, 11 minutes, 23 seconds, 135 milliseconds\n",
      "\u001b[36m\u001b[1m[ \u001b[22m\u001b[39m\u001b[36m\u001b[1mInfo: \u001b[22m\u001b[39m started timer at: 2025-03-15T07:29:12.297\n"
     ]
    },
    {
     "name": "stdout",
     "output_type": "stream",
     "text": [
      "50\n",
      "K : 8\n",
      "[0 -1200 -100 -1200 -2000]\n",
      "50\n",
      "k : 8\n",
      "1\n",
      "-42326.98611740661\n",
      "2396.0790122781304\n",
      "50\n",
      "K : 8\n",
      "[0 -1600 -100 -1200 -2000]\n"
     ]
    },
    {
     "name": "stderr",
     "output_type": "stream",
     "text": [
      "\u001b[36m\u001b[1m[ \u001b[22m\u001b[39m\u001b[36m\u001b[1mInfo: \u001b[22m\u001b[39m        4270.5252668s: 1 hour, 11 minutes, 10 seconds, 525 milliseconds\n",
      "\u001b[36m\u001b[1m[ \u001b[22m\u001b[39m\u001b[36m\u001b[1mInfo: \u001b[22m\u001b[39m started timer at: 2025-03-15T08:40:22.912\n"
     ]
    },
    {
     "name": "stdout",
     "output_type": "stream",
     "text": [
      "50\n",
      "k : 8\n",
      "1\n",
      "-46354.46024195153\n",
      "2641.159171647851\n",
      "50\n",
      "K : 8\n",
      "[0 -2000 -100 -1200 -2000]\n"
     ]
    },
    {
     "name": "stderr",
     "output_type": "stream",
     "text": [
      "\u001b[36m\u001b[1m[ \u001b[22m\u001b[39m\u001b[36m\u001b[1mInfo: \u001b[22m\u001b[39m         4383.191261s: 1 hour, 13 minutes, 3 seconds, 191 milliseconds\n",
      "\u001b[36m\u001b[1m[ \u001b[22m\u001b[39m\u001b[36m\u001b[1mInfo: \u001b[22m\u001b[39m started timer at: 2025-03-15T09:53:26.194\n"
     ]
    },
    {
     "name": "stdout",
     "output_type": "stream",
     "text": [
      "50\n",
      "k : 8\n",
      "1\n",
      "-49771.79793753768\n",
      "2835.4908805275695\n",
      "50\n",
      "K : 8\n",
      "[0 -2400 -100 -1200 -2000]\n"
     ]
    },
    {
     "name": "stderr",
     "output_type": "stream",
     "text": [
      "\u001b[36m\u001b[1m[ \u001b[22m\u001b[39m\u001b[36m\u001b[1mInfo: \u001b[22m\u001b[39m        4420.0467386s: 1 hour, 13 minutes, 40 seconds, 46 milliseconds\n",
      "\u001b[36m\u001b[1m[ \u001b[22m\u001b[39m\u001b[36m\u001b[1mInfo: \u001b[22m\u001b[39m started timer at: 2025-03-15T11:07:06.344\n"
     ]
    },
    {
     "name": "stdout",
     "output_type": "stream",
     "text": [
      "50\n",
      "k : 8\n",
      "1\n",
      "-52719.9849091975\n",
      "2981.376186858234\n",
      "50\n",
      "K : 8\n",
      "[0 -2800 -100 -1200 -2000]\n"
     ]
    },
    {
     "name": "stderr",
     "output_type": "stream",
     "text": [
      "\u001b[36m\u001b[1m[ \u001b[22m\u001b[39m\u001b[36m\u001b[1mInfo: \u001b[22m\u001b[39m         4727.951262s: 1 hour, 18 minutes, 47 seconds, 951 milliseconds\n",
      "\u001b[36m\u001b[1m[ \u001b[22m\u001b[39m\u001b[36m\u001b[1mInfo: \u001b[22m\u001b[39m started timer at: 2025-03-15T12:25:54.406\n"
     ]
    },
    {
     "name": "stdout",
     "output_type": "stream",
     "text": [
      "50\n",
      "k : 8\n",
      "1\n",
      "-55565.7827713778\n",
      "3106.940559138487\n",
      "50\n",
      "K : 8\n",
      "[0 -3200 -100 -1200 -2000]\n"
     ]
    },
    {
     "name": "stderr",
     "output_type": "stream",
     "text": [
      "\u001b[36m\u001b[1m[ \u001b[22m\u001b[39m\u001b[36m\u001b[1mInfo: \u001b[22m\u001b[39m        4926.9465876s: 1 hour, 22 minutes, 6 seconds, 946 milliseconds\n",
      "\u001b[36m\u001b[1m[ \u001b[22m\u001b[39m\u001b[36m\u001b[1mInfo: \u001b[22m\u001b[39m started timer at: 2025-03-15T13:48:01.466\n"
     ]
    },
    {
     "name": "stdout",
     "output_type": "stream",
     "text": [
      "50\n",
      "k : 8\n",
      "1\n",
      "-58117.39083453047\n",
      "3249.788602445001\n"
     ]
    },
    {
     "name": "stderr",
     "output_type": "stream",
     "text": [
      "\u001b[36m\u001b[1m[ \u001b[22m\u001b[39m\u001b[36m\u001b[1mInfo: \u001b[22m\u001b[39m        4811.7121039s: 1 hour, 20 minutes, 11 seconds, 712 milliseconds\n"
     ]
    },
    {
     "name": "stdout",
     "output_type": "stream",
     "text": [
      "50\n",
      "K : 10\n",
      "[0 -800 -100 -1200 -2000]\n"
     ]
    },
    {
     "name": "stderr",
     "output_type": "stream",
     "text": [
      "\u001b[36m\u001b[1m[ \u001b[22m\u001b[39m\u001b[36m\u001b[1mInfo: \u001b[22m\u001b[39m started timer at: 2025-03-15T15:08:13.289\n"
     ]
    },
    {
     "name": "stdout",
     "output_type": "stream",
     "text": [
      "50\n",
      "k : 10\n",
      "1\n",
      "-37331.48459055955\n",
      "2046.2981713074491\n",
      "50\n",
      "K : 10\n",
      "[0 -1200 -100 -1200 -2000]\n"
     ]
    },
    {
     "name": "stderr",
     "output_type": "stream",
     "text": [
      "\u001b[36m\u001b[1m[ \u001b[22m\u001b[39m\u001b[36m\u001b[1mInfo: \u001b[22m\u001b[39m        7262.4268014s: 2 hours, 1 minute, 2 seconds, 426 milliseconds\n",
      "\u001b[36m\u001b[1m[ \u001b[22m\u001b[39m\u001b[36m\u001b[1mInfo: \u001b[22m\u001b[39m started timer at: 2025-03-15T17:09:15.868\n"
     ]
    },
    {
     "name": "stdout",
     "output_type": "stream",
     "text": [
      "50\n",
      "k : 10\n",
      "1\n",
      "-42317.93675391641\n",
      "2386.2436676923007\n",
      "50\n",
      "K : 10\n",
      "[0 -1600 -100 -1200 -2000]\n"
     ]
    },
    {
     "name": "stderr",
     "output_type": "stream",
     "text": [
      "\u001b[36m\u001b[1m[ \u001b[22m\u001b[39m\u001b[36m\u001b[1mInfo: \u001b[22m\u001b[39m       10868.9009302s: 3 hours, 1 minute, 8 seconds, 900 milliseconds\n",
      "\u001b[36m\u001b[1m[ \u001b[22m\u001b[39m\u001b[36m\u001b[1mInfo: \u001b[22m\u001b[39m started timer at: 2025-03-15T20:10:24.996\n"
     ]
    },
    {
     "name": "stdout",
     "output_type": "stream",
     "text": [
      "50\n",
      "k : 10\n",
      "1\n",
      "-46198.309459510674\n",
      "2634.710938663135\n",
      "50\n",
      "K : 10\n",
      "[0 -2000 -100 -1200 -2000]\n"
     ]
    },
    {
     "name": "stderr",
     "output_type": "stream",
     "text": [
      "\u001b[36m\u001b[1m[ \u001b[22m\u001b[39m\u001b[36m\u001b[1mInfo: \u001b[22m\u001b[39m        24121.603927s: 6 hours, 42 minutes, 1 second, 603 milliseconds\n",
      "\u001b[36m\u001b[1m[ \u001b[22m\u001b[39m\u001b[36m\u001b[1mInfo: \u001b[22m\u001b[39m started timer at: 2025-03-16T02:52:27.096\n"
     ]
    },
    {
     "name": "stdout",
     "output_type": "stream",
     "text": [
      "50\n",
      "k : 10\n",
      "1\n",
      "-49514.41678666861\n",
      "2763.60317098978\n",
      "50\n",
      "K : 10\n",
      "[0 -2400 -100 -1200 -2000]\n"
     ]
    },
    {
     "name": "stderr",
     "output_type": "stream",
     "text": [
      "\u001b[36m\u001b[1m[ \u001b[22m\u001b[39m\u001b[36m\u001b[1mInfo: \u001b[22m\u001b[39m        4044.7623018s: 1 hour, 7 minutes, 24 seconds, 762 milliseconds\n",
      "\u001b[36m\u001b[1m[ \u001b[22m\u001b[39m\u001b[36m\u001b[1mInfo: \u001b[22m\u001b[39m started timer at: 2025-03-16T03:59:51.944\n"
     ]
    },
    {
     "name": "stdout",
     "output_type": "stream",
     "text": [
      "50\n",
      "k : 10\n",
      "1\n",
      "-52286.69623588115\n",
      "2891.7747196018327\n",
      "50\n",
      "K : 10\n",
      "[0 -2800 -100 -1200 -2000]\n"
     ]
    },
    {
     "name": "stderr",
     "output_type": "stream",
     "text": [
      "\u001b[36m\u001b[1m[ \u001b[22m\u001b[39m\u001b[36m\u001b[1mInfo: \u001b[22m\u001b[39m        4102.4016111s: 1 hour, 8 minutes, 22 seconds, 401 milliseconds\n",
      "\u001b[36m\u001b[1m[ \u001b[22m\u001b[39m\u001b[36m\u001b[1mInfo: \u001b[22m\u001b[39m started timer at: 2025-03-16T05:08:14.432\n"
     ]
    },
    {
     "name": "stdout",
     "output_type": "stream",
     "text": [
      "50\n",
      "k : 10\n",
      "1\n",
      "-55074.33444443805\n",
      "3037.0869267333264\n",
      "50\n",
      "K : 10\n",
      "[0 -3200 -100 -1200 -2000]\n"
     ]
    },
    {
     "name": "stderr",
     "output_type": "stream",
     "text": [
      "\u001b[36m\u001b[1m[ \u001b[22m\u001b[39m\u001b[36m\u001b[1mInfo: \u001b[22m\u001b[39m        4115.3897728s: 1 hour, 8 minutes, 35 seconds, 389 milliseconds\n",
      "\u001b[36m\u001b[1m[ \u001b[22m\u001b[39m\u001b[36m\u001b[1mInfo: \u001b[22m\u001b[39m started timer at: 2025-03-16T06:16:49.909\n"
     ]
    },
    {
     "name": "stdout",
     "output_type": "stream",
     "text": [
      "50\n",
      "k : 10\n",
      "1\n",
      "-57443.502662910534\n",
      "3124.0881995006894\n",
      "50\n",
      "K : 12\n",
      "[0 -800 -100 -1200 -2000]\n"
     ]
    },
    {
     "name": "stderr",
     "output_type": "stream",
     "text": [
      "\u001b[36m\u001b[1m[ \u001b[22m\u001b[39m\u001b[36m\u001b[1mInfo: \u001b[22m\u001b[39m        4096.7971694s: 1 hour, 8 minutes, 16 seconds, 797 milliseconds\n",
      "\u001b[36m\u001b[1m[ \u001b[22m\u001b[39m\u001b[36m\u001b[1mInfo: \u001b[22m\u001b[39m started timer at: 2025-03-16T07:25:06.793\n"
     ]
    },
    {
     "name": "stdout",
     "output_type": "stream",
     "text": [
      "50\n",
      "k : 12\n",
      "1\n",
      "-37374.24328586959\n",
      "2069.5016138165433\n",
      "50\n",
      "K : 12\n",
      "[0 -1200 -100 -1200 -2000]\n"
     ]
    },
    {
     "name": "stderr",
     "output_type": "stream",
     "text": [
      "\u001b[36m\u001b[1m[ \u001b[22m\u001b[39m\u001b[36m\u001b[1mInfo: \u001b[22m\u001b[39m        4134.7158672s: 1 hour, 8 minutes, 54 seconds, 715 milliseconds\n",
      "\u001b[36m\u001b[1m[ \u001b[22m\u001b[39m\u001b[36m\u001b[1mInfo: \u001b[22m\u001b[39m started timer at: 2025-03-16T08:34:01.597\n"
     ]
    },
    {
     "name": "stdout",
     "output_type": "stream",
     "text": [
      "50\n",
      "k : 12\n",
      "1\n",
      "-42261.71306957929\n",
      "2379.443367947693\n",
      "50\n",
      "K : 12\n",
      "[0 -1600 -100 -1200 -2000]\n"
     ]
    },
    {
     "name": "stderr",
     "output_type": "stream",
     "text": [
      "\u001b[36m\u001b[1m[ \u001b[22m\u001b[39m\u001b[36m\u001b[1mInfo: \u001b[22m\u001b[39m         4088.622808s: 1 hour, 8 minutes, 8 seconds, 622 milliseconds\n",
      "\u001b[36m\u001b[1m[ \u001b[22m\u001b[39m\u001b[36m\u001b[1mInfo: \u001b[22m\u001b[39m started timer at: 2025-03-16T09:42:10.305\n"
     ]
    },
    {
     "name": "stdout",
     "output_type": "stream",
     "text": [
      "50\n",
      "k : 12\n",
      "1\n",
      "-46132.51558276075\n",
      "2608.849023981574\n",
      "50\n",
      "K : 12\n",
      "[0 -2000 -100 -1200 -2000]\n"
     ]
    },
    {
     "name": "stderr",
     "output_type": "stream",
     "text": [
      "\u001b[36m\u001b[1m[ \u001b[22m\u001b[39m\u001b[36m\u001b[1mInfo: \u001b[22m\u001b[39m         4136.270328s: 1 hour, 8 minutes, 56 seconds, 270 milliseconds\n",
      "\u001b[36m\u001b[1m[ \u001b[22m\u001b[39m\u001b[36m\u001b[1mInfo: \u001b[22m\u001b[39m started timer at: 2025-03-16T10:51:06.674\n"
     ]
    },
    {
     "name": "stdout",
     "output_type": "stream",
     "text": [
      "50\n",
      "k : 12\n",
      "1\n",
      "-49439.11850941776\n",
      "2765.924338902842\n",
      "50\n",
      "K : 12\n",
      "[0 -2400 -100 -1200 -2000]\n"
     ]
    },
    {
     "name": "stderr",
     "output_type": "stream",
     "text": [
      "\u001b[36m\u001b[1m[ \u001b[22m\u001b[39m\u001b[36m\u001b[1mInfo: \u001b[22m\u001b[39m        4158.6907655s: 1 hour, 9 minutes, 18 seconds, 690 milliseconds\n",
      "\u001b[36m\u001b[1m[ \u001b[22m\u001b[39m\u001b[36m\u001b[1mInfo: \u001b[22m\u001b[39m started timer at: 2025-03-16T12:00:25.453\n"
     ]
    },
    {
     "name": "stdout",
     "output_type": "stream",
     "text": [
      "50\n",
      "k : 12\n",
      "1\n",
      "-52165.56617094097\n",
      "2855.863031950543\n",
      "50\n",
      "K : 12\n",
      "[0 -2800 -100 -1200 -2000]\n"
     ]
    },
    {
     "name": "stderr",
     "output_type": "stream",
     "text": [
      "\u001b[36m\u001b[1m[ \u001b[22m\u001b[39m\u001b[36m\u001b[1mInfo: \u001b[22m\u001b[39m        4104.7433789s: 1 hour, 8 minutes, 24 seconds, 743 milliseconds\n",
      "\u001b[36m\u001b[1m[ \u001b[22m\u001b[39m\u001b[36m\u001b[1mInfo: \u001b[22m\u001b[39m started timer at: 2025-03-16T13:08:50.282\n"
     ]
    },
    {
     "name": "stdout",
     "output_type": "stream",
     "text": [
      "50\n",
      "k : 12\n",
      "1\n",
      "-54844.22505390868\n",
      "3007.9722740635143\n",
      "50\n",
      "K : 12\n",
      "[0 -3200 -100 -1200 -2000]\n"
     ]
    },
    {
     "name": "stderr",
     "output_type": "stream",
     "text": [
      "\u001b[36m\u001b[1m[ \u001b[22m\u001b[39m\u001b[36m\u001b[1mInfo: \u001b[22m\u001b[39m        4122.5114161s: 1 hour, 8 minutes, 42 seconds, 511 milliseconds\n",
      "\u001b[36m\u001b[1m[ \u001b[22m\u001b[39m\u001b[36m\u001b[1mInfo: \u001b[22m\u001b[39m started timer at: 2025-03-16T14:17:32.880\n"
     ]
    },
    {
     "name": "stdout",
     "output_type": "stream",
     "text": [
      "50\n",
      "k : 12\n",
      "1\n",
      "-57114.160324421784\n",
      "3133.1871240610803\n",
      "50\n",
      "K : 14\n",
      "[0 -800 -100 -1200 -2000]\n"
     ]
    },
    {
     "name": "stderr",
     "output_type": "stream",
     "text": [
      "\u001b[36m\u001b[1m[ \u001b[22m\u001b[39m\u001b[36m\u001b[1mInfo: \u001b[22m\u001b[39m        4174.6756247s: 1 hour, 9 minutes, 34 seconds, 675 milliseconds\n",
      "\u001b[36m\u001b[1m[ \u001b[22m\u001b[39m\u001b[36m\u001b[1mInfo: \u001b[22m\u001b[39m started timer at: 2025-03-16T15:27:07.645\n"
     ]
    },
    {
     "name": "stdout",
     "output_type": "stream",
     "text": [
      "50\n",
      "k : 14\n",
      "1\n",
      "-37303.323808910216\n",
      "2061.705700378244\n",
      "50\n",
      "K : 14\n",
      "[0 -1200 -100 -1200 -2000]\n"
     ]
    },
    {
     "name": "stderr",
     "output_type": "stream",
     "text": [
      "\u001b[36m\u001b[1m[ \u001b[22m\u001b[39m\u001b[36m\u001b[1mInfo: \u001b[22m\u001b[39m        4101.7789999s: 1 hour, 8 minutes, 21 seconds, 778 milliseconds\n",
      "\u001b[36m\u001b[1m[ \u001b[22m\u001b[39m\u001b[36m\u001b[1mInfo: \u001b[22m\u001b[39m started timer at: 2025-03-16T16:35:29.510\n"
     ]
    },
    {
     "name": "stdout",
     "output_type": "stream",
     "text": [
      "50\n",
      "k : 14\n",
      "1\n",
      "-42234.4387998846\n",
      "2338.5302959968526\n",
      "50\n",
      "K : 14\n",
      "[0 -1600 -100 -1200 -2000]\n"
     ]
    },
    {
     "name": "stderr",
     "output_type": "stream",
     "text": [
      "\u001b[36m\u001b[1m[ \u001b[22m\u001b[39m\u001b[36m\u001b[1mInfo: \u001b[22m\u001b[39m        4103.3767027s: 1 hour, 8 minutes, 23 seconds, 376 milliseconds\n",
      "\u001b[36m\u001b[1m[ \u001b[22m\u001b[39m\u001b[36m\u001b[1mInfo: \u001b[22m\u001b[39m started timer at: 2025-03-16T17:43:52.984\n"
     ]
    },
    {
     "name": "stdout",
     "output_type": "stream",
     "text": [
      "50\n",
      "k : 14\n",
      "1\n",
      "-46140.309687699046\n",
      "2638.0731670801692\n",
      "50\n",
      "K : 14\n",
      "[0 -2000 -100 -1200 -2000]\n"
     ]
    },
    {
     "name": "stderr",
     "output_type": "stream",
     "text": [
      "\u001b[36m\u001b[1m[ \u001b[22m\u001b[39m\u001b[36m\u001b[1mInfo: \u001b[22m\u001b[39m        4158.6396503s: 1 hour, 9 minutes, 18 seconds, 639 milliseconds\n",
      "\u001b[36m\u001b[1m[ \u001b[22m\u001b[39m\u001b[36m\u001b[1mInfo: \u001b[22m\u001b[39m started timer at: 2025-03-16T18:53:11.723\n"
     ]
    },
    {
     "name": "stdout",
     "output_type": "stream",
     "text": [
      "50\n",
      "k : 14\n",
      "1\n",
      "-49323.047269061404\n",
      "2768.004052070224\n",
      "50\n",
      "K : 14\n",
      "[0 -2400 -100 -1200 -2000]\n"
     ]
    },
    {
     "name": "stderr",
     "output_type": "stream",
     "text": [
      "\u001b[36m\u001b[1m[ \u001b[22m\u001b[39m\u001b[36m\u001b[1mInfo: \u001b[22m\u001b[39m         4138.595289s: 1 hour, 8 minutes, 58 seconds, 595 milliseconds\n",
      "\u001b[36m\u001b[1m[ \u001b[22m\u001b[39m\u001b[36m\u001b[1mInfo: \u001b[22m\u001b[39m started timer at: 2025-03-16T20:02:10.404\n"
     ]
    },
    {
     "name": "stdout",
     "output_type": "stream",
     "text": [
      "50\n",
      "k : 14\n",
      "1\n",
      "-52135.96912103237\n",
      "2886.2294882520055\n",
      "50\n",
      "K : 14\n",
      "[0 -2800 -100 -1200 -2000]\n"
     ]
    },
    {
     "name": "stderr",
     "output_type": "stream",
     "text": [
      "\u001b[36m\u001b[1m[ \u001b[22m\u001b[39m\u001b[36m\u001b[1mInfo: \u001b[22m\u001b[39m        4156.6602297s: 1 hour, 9 minutes, 16 seconds, 660 milliseconds\n",
      "\u001b[36m\u001b[1m[ \u001b[22m\u001b[39m\u001b[36m\u001b[1mInfo: \u001b[22m\u001b[39m started timer at: 2025-03-16T21:11:27.152\n"
     ]
    },
    {
     "name": "stdout",
     "output_type": "stream",
     "text": [
      "50\n",
      "k : 14\n",
      "1\n",
      "-54762.84060850906\n",
      "2997.8993871009507\n",
      "50\n",
      "K : 14\n",
      "[0 -3200 -100 -1200 -2000]\n"
     ]
    },
    {
     "name": "stderr",
     "output_type": "stream",
     "text": [
      "\u001b[36m\u001b[1m[ \u001b[22m\u001b[39m\u001b[36m\u001b[1mInfo: \u001b[22m\u001b[39m        4168.1970294s: 1 hour, 9 minutes, 28 seconds, 197 milliseconds\n",
      "\u001b[36m\u001b[1m[ \u001b[22m\u001b[39m\u001b[36m\u001b[1mInfo: \u001b[22m\u001b[39m started timer at: 2025-03-16T22:20:55.436\n"
     ]
    },
    {
     "name": "stdout",
     "output_type": "stream",
     "text": [
      "50\n",
      "k : 14\n",
      "1\n",
      "-56926.734742354645\n",
      "3065.003860642402\n",
      "50\n",
      "K : 16\n",
      "[0 -800 -100 -1200 -2000]\n"
     ]
    },
    {
     "name": "stderr",
     "output_type": "stream",
     "text": [
      "\u001b[36m\u001b[1m[ \u001b[22m\u001b[39m\u001b[36m\u001b[1mInfo: \u001b[22m\u001b[39m        4177.5528653s: 1 hour, 9 minutes, 37 seconds, 552 milliseconds\n",
      "\u001b[36m\u001b[1m[ \u001b[22m\u001b[39m\u001b[36m\u001b[1mInfo: \u001b[22m\u001b[39m started timer at: 2025-03-16T23:30:33.077\n"
     ]
    },
    {
     "name": "stdout",
     "output_type": "stream",
     "text": [
      "50\n",
      "k : 16\n",
      "1\n",
      "-37291.41748750791\n",
      "2055.4798005936855\n",
      "50\n",
      "K : 16\n",
      "[0 -1200 -100 -1200 -2000]\n"
     ]
    },
    {
     "name": "stderr",
     "output_type": "stream",
     "text": [
      "\u001b[36m\u001b[1m[ \u001b[22m\u001b[39m\u001b[36m\u001b[1mInfo: \u001b[22m\u001b[39m        4084.3815408s: 1 hour, 8 minutes, 4 seconds, 381 milliseconds\n",
      "\u001b[36m\u001b[1m[ \u001b[22m\u001b[39m\u001b[36m\u001b[1mInfo: \u001b[22m\u001b[39m started timer at: 2025-03-17T00:38:37.545\n"
     ]
    },
    {
     "name": "stdout",
     "output_type": "stream",
     "text": [
      "50\n",
      "k : 16\n",
      "1\n",
      "-42221.17781808875\n",
      "2378.081433611853\n",
      "50\n",
      "K : 16\n",
      "[0 -1600 -100 -1200 -2000]\n"
     ]
    },
    {
     "name": "stderr",
     "output_type": "stream",
     "text": [
      "\u001b[36m\u001b[1m[ \u001b[22m\u001b[39m\u001b[36m\u001b[1mInfo: \u001b[22m\u001b[39m        4137.3316481s: 1 hour, 8 minutes, 57 seconds, 331 milliseconds\n",
      "\u001b[36m\u001b[1m[ \u001b[22m\u001b[39m\u001b[36m\u001b[1mInfo: \u001b[22m\u001b[39m started timer at: 2025-03-17T01:47:34.964\n"
     ]
    },
    {
     "name": "stdout",
     "output_type": "stream",
     "text": [
      "50\n",
      "k : 16\n",
      "1\n",
      "-46092.40612052853\n",
      "2586.7565736452066\n",
      "50\n",
      "K : 16\n",
      "[0 -2000 -100 -1200 -2000]\n"
     ]
    },
    {
     "name": "stderr",
     "output_type": "stream",
     "text": [
      "\u001b[36m\u001b[1m[ \u001b[22m\u001b[39m\u001b[36m\u001b[1mInfo: \u001b[22m\u001b[39m         4186.733892s: 1 hour, 9 minutes, 46 seconds, 733 milliseconds\n",
      "\u001b[36m\u001b[1m[ \u001b[22m\u001b[39m\u001b[36m\u001b[1mInfo: \u001b[22m\u001b[39m started timer at: 2025-03-17T02:57:21.787\n"
     ]
    },
    {
     "name": "stdout",
     "output_type": "stream",
     "text": [
      "50\n",
      "k : 16\n",
      "1\n",
      "-49383.433061645504\n",
      "2755.151202193886\n",
      "50\n",
      "K : 16\n",
      "[0 -2400 -100 -1200 -2000]\n"
     ]
    },
    {
     "name": "stderr",
     "output_type": "stream",
     "text": [
      "\u001b[36m\u001b[1m[ \u001b[22m\u001b[39m\u001b[36m\u001b[1mInfo: \u001b[22m\u001b[39m        4125.7215039s: 1 hour, 8 minutes, 45 seconds, 721 milliseconds\n",
      "\u001b[36m\u001b[1m[ \u001b[22m\u001b[39m\u001b[36m\u001b[1mInfo: \u001b[22m\u001b[39m started timer at: 2025-03-17T04:06:07.595\n"
     ]
    },
    {
     "name": "stdout",
     "output_type": "stream",
     "text": [
      "50\n",
      "k : 16\n",
      "1\n",
      "-52014.875916339275\n",
      "2831.9635068554066\n",
      "50\n",
      "K : 16\n",
      "[0 -2800 -100 -1200 -2000]\n"
     ]
    },
    {
     "name": "stderr",
     "output_type": "stream",
     "text": [
      "\u001b[36m\u001b[1m[ \u001b[22m\u001b[39m\u001b[36m\u001b[1mInfo: \u001b[22m\u001b[39m        4155.8957652s: 1 hour, 9 minutes, 15 seconds, 895 milliseconds\n",
      "\u001b[36m\u001b[1m[ \u001b[22m\u001b[39m\u001b[36m\u001b[1mInfo: \u001b[22m\u001b[39m started timer at: 2025-03-17T05:15:23.578\n"
     ]
    },
    {
     "name": "stdout",
     "output_type": "stream",
     "text": [
      "50\n",
      "k : 16\n",
      "1\n",
      "-54598.97033188022\n",
      "2962.255072028944\n",
      "50\n",
      "K : 16\n",
      "[0 -3200 -100 -1200 -2000]\n"
     ]
    },
    {
     "name": "stderr",
     "output_type": "stream",
     "text": [
      "\u001b[36m\u001b[1m[ \u001b[22m\u001b[39m\u001b[36m\u001b[1mInfo: \u001b[22m\u001b[39m        4176.3317324s: 1 hour, 9 minutes, 36 seconds, 331 milliseconds\n",
      "\u001b[36m\u001b[1m[ \u001b[22m\u001b[39m\u001b[36m\u001b[1mInfo: \u001b[22m\u001b[39m started timer at: 2025-03-17T06:24:59.999\n"
     ]
    },
    {
     "name": "stdout",
     "output_type": "stream",
     "text": [
      "50\n",
      "k : 16\n",
      "1\n",
      "-56838.86843048513\n",
      "3062.773709354868\n",
      "50\n",
      "K : 18\n",
      "[0 -800 -100 -1200 -2000]\n"
     ]
    },
    {
     "name": "stderr",
     "output_type": "stream",
     "text": [
      "\u001b[36m\u001b[1m[ \u001b[22m\u001b[39m\u001b[36m\u001b[1mInfo: \u001b[22m\u001b[39m        4201.1723875s: 1 hour, 10 minutes, 1 second, 172 milliseconds\n",
      "\u001b[36m\u001b[1m[ \u001b[22m\u001b[39m\u001b[36m\u001b[1mInfo: \u001b[22m\u001b[39m started timer at: 2025-03-17T07:35:01.259\n"
     ]
    },
    {
     "name": "stdout",
     "output_type": "stream",
     "text": [
      "50\n",
      "k : 18\n",
      "1\n",
      "-37307.99919202522\n",
      "2052.1241293208213\n",
      "50\n",
      "K : 18\n",
      "[0 -1200 -100 -1200 -2000]\n"
     ]
    },
    {
     "name": "stderr",
     "output_type": "stream",
     "text": [
      "\u001b[36m\u001b[1m[ \u001b[22m\u001b[39m\u001b[36m\u001b[1mInfo: \u001b[22m\u001b[39m        4169.6933407s: 1 hour, 9 minutes, 29 seconds, 693 milliseconds\n",
      "\u001b[36m\u001b[1m[ \u001b[22m\u001b[39m\u001b[36m\u001b[1mInfo: \u001b[22m\u001b[39m started timer at: 2025-03-17T08:44:31.041\n"
     ]
    },
    {
     "name": "stdout",
     "output_type": "stream",
     "text": [
      "50\n",
      "k : 18\n",
      "1\n",
      "-42207.82094012489\n",
      "2396.1161969515683\n",
      "50\n",
      "K : 18\n",
      "[0 -1600 -100 -1200 -2000]\n"
     ]
    },
    {
     "name": "stderr",
     "output_type": "stream",
     "text": [
      "\u001b[36m\u001b[1m[ \u001b[22m\u001b[39m\u001b[36m\u001b[1mInfo: \u001b[22m\u001b[39m        4151.9068878s: 1 hour, 9 minutes, 11 seconds, 906 milliseconds\n",
      "\u001b[36m\u001b[1m[ \u001b[22m\u001b[39m\u001b[36m\u001b[1mInfo: \u001b[22m\u001b[39m started timer at: 2025-03-17T09:53:43.035\n"
     ]
    },
    {
     "name": "stdout",
     "output_type": "stream",
     "text": [
      "50\n",
      "k : 18\n",
      "1\n",
      "-46063.703780034986\n",
      "2611.408167019467\n",
      "50\n",
      "K : 18\n",
      "[0 -2000 -100 -1200 -2000]\n"
     ]
    },
    {
     "name": "stderr",
     "output_type": "stream",
     "text": [
      "\u001b[36m\u001b[1m[ \u001b[22m\u001b[39m\u001b[36m\u001b[1mInfo: \u001b[22m\u001b[39m        4212.8416371s: 1 hour, 10 minutes, 12 seconds, 841 milliseconds\n",
      "\u001b[36m\u001b[1m[ \u001b[22m\u001b[39m\u001b[36m\u001b[1mInfo: \u001b[22m\u001b[39m started timer at: 2025-03-17T11:03:55.965\n"
     ]
    },
    {
     "name": "stdout",
     "output_type": "stream",
     "text": [
      "50\n",
      "k : 18\n",
      "1\n",
      "-49324.91615720272\n",
      "2753.6447540713057\n",
      "50\n",
      "K : 18\n",
      "[0 -2400 -100 -1200 -2000]\n"
     ]
    },
    {
     "name": "stderr",
     "output_type": "stream",
     "text": [
      "\u001b[36m\u001b[1m[ \u001b[22m\u001b[39m\u001b[36m\u001b[1mInfo: \u001b[22m\u001b[39m         4175.791814s: 1 hour, 9 minutes, 35 seconds, 791 milliseconds\n",
      "\u001b[36m\u001b[1m[ \u001b[22m\u001b[39m\u001b[36m\u001b[1mInfo: \u001b[22m\u001b[39m started timer at: 2025-03-17T12:13:31.845\n"
     ]
    },
    {
     "name": "stdout",
     "output_type": "stream",
     "text": [
      "50\n",
      "k : 18\n",
      "1\n",
      "-52142.0975764871\n",
      "2893.5540172895144\n",
      "50\n",
      "K : 18\n",
      "[0 -2800 -100 -1200 -2000]\n"
     ]
    },
    {
     "name": "stderr",
     "output_type": "stream",
     "text": [
      "\u001b[36m\u001b[1m[ \u001b[22m\u001b[39m\u001b[36m\u001b[1mInfo: \u001b[22m\u001b[39m         4244.641525s: 1 hour, 10 minutes, 44 seconds, 641 milliseconds\n",
      "\u001b[36m\u001b[1m[ \u001b[22m\u001b[39m\u001b[36m\u001b[1mInfo: \u001b[22m\u001b[39m started timer at: 2025-03-17T13:24:16.575\n"
     ]
    },
    {
     "name": "stdout",
     "output_type": "stream",
     "text": [
      "50\n",
      "k : 18\n",
      "1\n",
      "-54566.112390273476\n",
      "2943.414226459189\n",
      "50\n",
      "K : 18\n",
      "[0 -3200 -100 -1200 -2000]\n"
     ]
    },
    {
     "name": "stderr",
     "output_type": "stream",
     "text": [
      "\u001b[36m\u001b[1m[ \u001b[22m\u001b[39m\u001b[36m\u001b[1mInfo: \u001b[22m\u001b[39m        4224.5251217s: 1 hour, 10 minutes, 24 seconds, 525 milliseconds\n",
      "\u001b[36m\u001b[1m[ \u001b[22m\u001b[39m\u001b[36m\u001b[1mInfo: \u001b[22m\u001b[39m started timer at: 2025-03-17T14:34:41.189\n"
     ]
    },
    {
     "name": "stdout",
     "output_type": "stream",
     "text": [
      "50\n",
      "k : 18\n",
      "1\n",
      "-56812.253924733996\n",
      "3087.398400256235\n",
      "50\n",
      "K : 20\n",
      "[0 -800 -100 -1200 -2000]\n"
     ]
    },
    {
     "name": "stderr",
     "output_type": "stream",
     "text": [
      "\u001b[36m\u001b[1m[ \u001b[22m\u001b[39m\u001b[36m\u001b[1mInfo: \u001b[22m\u001b[39m        4232.2469549s: 1 hour, 10 minutes, 32 seconds, 246 milliseconds\n",
      "\u001b[36m\u001b[1m[ \u001b[22m\u001b[39m\u001b[36m\u001b[1mInfo: \u001b[22m\u001b[39m started timer at: 2025-03-17T15:45:13.526\n"
     ]
    },
    {
     "name": "stdout",
     "output_type": "stream",
     "text": [
      "50\n",
      "k : 20\n",
      "1\n",
      "-37287.31291593523\n",
      "2070.8891075138267\n",
      "50\n",
      "K : 20\n",
      "[0 -1200 -100 -1200 -2000]\n"
     ]
    },
    {
     "name": "stderr",
     "output_type": "stream",
     "text": [
      "\u001b[36m\u001b[1m[ \u001b[22m\u001b[39m\u001b[36m\u001b[1mInfo: \u001b[22m\u001b[39m        4215.5774788s: 1 hour, 10 minutes, 15 seconds, 577 milliseconds\n",
      "\u001b[36m\u001b[1m[ \u001b[22m\u001b[39m\u001b[36m\u001b[1mInfo: \u001b[22m\u001b[39m started timer at: 2025-03-17T16:55:29.192\n"
     ]
    },
    {
     "name": "stdout",
     "output_type": "stream",
     "text": [
      "50\n",
      "k : 20\n",
      "1\n",
      "-42140.19210349226\n",
      "2410.909012770536\n",
      "50\n",
      "K : 20\n",
      "[0 -1600 -100 -1200 -2000]\n"
     ]
    },
    {
     "name": "stderr",
     "output_type": "stream",
     "text": [
      "\u001b[36m\u001b[1m[ \u001b[22m\u001b[39m\u001b[36m\u001b[1mInfo: \u001b[22m\u001b[39m        4230.0822903s: 1 hour, 10 minutes, 30 seconds, 82 milliseconds\n",
      "\u001b[36m\u001b[1m[ \u001b[22m\u001b[39m\u001b[36m\u001b[1mInfo: \u001b[22m\u001b[39m started timer at: 2025-03-17T18:05:59.362\n"
     ]
    },
    {
     "name": "stdout",
     "output_type": "stream",
     "text": [
      "50\n",
      "k : 20\n",
      "1\n",
      "-46002.74843627559\n",
      "2674.959370413973\n",
      "50\n",
      "K : 20\n",
      "[0 -2000 -100 -1200 -2000]\n"
     ]
    },
    {
     "name": "stderr",
     "output_type": "stream",
     "text": [
      "\u001b[36m\u001b[1m[ \u001b[22m\u001b[39m\u001b[36m\u001b[1mInfo: \u001b[22m\u001b[39m        4273.8355533s: 1 hour, 11 minutes, 13 seconds, 835 milliseconds\n",
      "\u001b[36m\u001b[1m[ \u001b[22m\u001b[39m\u001b[36m\u001b[1mInfo: \u001b[22m\u001b[39m started timer at: 2025-03-17T19:17:13.287\n"
     ]
    },
    {
     "name": "stdout",
     "output_type": "stream",
     "text": [
      "50\n",
      "k : 20\n",
      "1\n",
      "-49285.59612691146\n",
      "2818.3960817459106\n",
      "50\n",
      "K : 20\n",
      "[0 -2400 -100 -1200 -2000]\n"
     ]
    },
    {
     "name": "stderr",
     "output_type": "stream",
     "text": [
      "\u001b[36m\u001b[1m[ \u001b[22m\u001b[39m\u001b[36m\u001b[1mInfo: \u001b[22m\u001b[39m        4257.8103463s: 1 hour, 10 minutes, 57 seconds, 810 milliseconds\n",
      "\u001b[36m\u001b[1m[ \u001b[22m\u001b[39m\u001b[36m\u001b[1mInfo: \u001b[22m\u001b[39m started timer at: 2025-03-17T20:28:11.186\n"
     ]
    },
    {
     "name": "stdout",
     "output_type": "stream",
     "text": [
      "50\n",
      "k : 20\n",
      "1\n",
      "-52157.46137809317\n",
      "3024.974667545439\n",
      "50\n",
      "K : 20\n",
      "[0 -2800 -100 -1200 -2000]\n"
     ]
    },
    {
     "name": "stderr",
     "output_type": "stream",
     "text": [
      "\u001b[36m\u001b[1m[ \u001b[22m\u001b[39m\u001b[36m\u001b[1mInfo: \u001b[22m\u001b[39m        4260.7198916s: 1 hour, 11 minutes, 719 milliseconds\n",
      "\u001b[36m\u001b[1m[ \u001b[22m\u001b[39m\u001b[36m\u001b[1mInfo: \u001b[22m\u001b[39m started timer at: 2025-03-17T21:39:11.995\n"
     ]
    },
    {
     "name": "stdout",
     "output_type": "stream",
     "text": [
      "50\n",
      "k : 20\n",
      "1\n",
      "-55157.65180088837\n",
      "3233.215318596839\n",
      "50\n",
      "K : 20\n",
      "[0 -3200 -100 -1200 -2000]\n"
     ]
    },
    {
     "name": "stderr",
     "output_type": "stream",
     "text": [
      "\u001b[36m\u001b[1m[ \u001b[22m\u001b[39m\u001b[36m\u001b[1mInfo: \u001b[22m\u001b[39m        4285.9296032s: 1 hour, 11 minutes, 25 seconds, 929 milliseconds\n",
      "\u001b[36m\u001b[1m[ \u001b[22m\u001b[39m\u001b[36m\u001b[1mInfo: \u001b[22m\u001b[39m started timer at: 2025-03-17T22:50:38.015\n"
     ]
    },
    {
     "name": "stdout",
     "output_type": "stream",
     "text": [
      "50\n",
      "k : 20\n",
      "1\n",
      "-58515.86999265702\n",
      "3711.2501895216724\n",
      "50\n",
      "K : 22\n",
      "[0 -800 -100 -1200 -2000]\n"
     ]
    },
    {
     "name": "stderr",
     "output_type": "stream",
     "text": [
      "\u001b[36m\u001b[1m[ \u001b[22m\u001b[39m\u001b[36m\u001b[1mInfo: \u001b[22m\u001b[39m        4310.3503165s: 1 hour, 11 minutes, 50 seconds, 350 milliseconds\n",
      "\u001b[36m\u001b[1m[ \u001b[22m\u001b[39m\u001b[36m\u001b[1mInfo: \u001b[22m\u001b[39m started timer at: 2025-03-18T00:02:28.457\n"
     ]
    },
    {
     "name": "stdout",
     "output_type": "stream",
     "text": [
      "50\n",
      "k : 22\n",
      "1\n",
      "-37304.56102709558\n",
      "2168.9193955954024\n",
      "50\n",
      "K : 22\n",
      "[0 -1200 -100 -1200 -2000]\n"
     ]
    },
    {
     "name": "stderr",
     "output_type": "stream",
     "text": [
      "\u001b[36m\u001b[1m[ \u001b[22m\u001b[39m\u001b[36m\u001b[1mInfo: \u001b[22m\u001b[39m        4244.9144481s: 1 hour, 10 minutes, 44 seconds, 914 milliseconds\n",
      "\u001b[36m\u001b[1m[ \u001b[22m\u001b[39m\u001b[36m\u001b[1mInfo: \u001b[22m\u001b[39m started timer at: 2025-03-18T01:13:13.461\n"
     ]
    },
    {
     "name": "stdout",
     "output_type": "stream",
     "text": [
      "50\n",
      "k : 22\n",
      "1\n",
      "-42246.62013652837\n",
      "2525.454808405117\n",
      "50\n",
      "K : 22\n",
      "[0 -1600 -100 -1200 -2000]\n"
     ]
    },
    {
     "name": "stderr",
     "output_type": "stream",
     "text": [
      "\u001b[36m\u001b[1m[ \u001b[22m\u001b[39m\u001b[36m\u001b[1mInfo: \u001b[22m\u001b[39m         4222.094239s: 1 hour, 10 minutes, 22 seconds, 94 milliseconds\n",
      "\u001b[36m\u001b[1m[ \u001b[22m\u001b[39m\u001b[36m\u001b[1mInfo: \u001b[22m\u001b[39m started timer at: 2025-03-18T02:23:35.645\n"
     ]
    },
    {
     "name": "stdout",
     "output_type": "stream",
     "text": [
      "50\n",
      "k : 22\n",
      "1\n",
      "-46343.51436559007\n",
      "2849.9683530539232\n",
      "50\n",
      "K : 22\n",
      "[0 -2000 -100 -1200 -2000]\n"
     ]
    },
    {
     "name": "stderr",
     "output_type": "stream",
     "text": [
      "\u001b[36m\u001b[1m[ \u001b[22m\u001b[39m\u001b[36m\u001b[1mInfo: \u001b[22m\u001b[39m         4241.582869s: 1 hour, 10 minutes, 41 seconds, 582 milliseconds\n",
      "\u001b[36m\u001b[1m[ \u001b[22m\u001b[39m\u001b[36m\u001b[1mInfo: \u001b[22m\u001b[39m started timer at: 2025-03-18T03:34:17.317\n"
     ]
    },
    {
     "name": "stdout",
     "output_type": "stream",
     "text": [
      "50\n",
      "k : 22\n",
      "1\n",
      "-50433.915702335995\n",
      "3342.055793119871\n",
      "50\n",
      "K : 22\n",
      "[0 -2400 -100 -1200 -2000]\n"
     ]
    },
    {
     "name": "stderr",
     "output_type": "stream",
     "text": [
      "\u001b[36m\u001b[1m[ \u001b[22m\u001b[39m\u001b[36m\u001b[1mInfo: \u001b[22m\u001b[39m        4268.8214367s: 1 hour, 11 minutes, 8 seconds, 821 milliseconds\n",
      "\u001b[36m\u001b[1m[ \u001b[22m\u001b[39m\u001b[36m\u001b[1mInfo: \u001b[22m\u001b[39m started timer at: 2025-03-18T04:45:26.228\n"
     ]
    },
    {
     "name": "stdout",
     "output_type": "stream",
     "text": [
      "50\n",
      "k : 22\n",
      "1\n",
      "-55417.196814625655\n",
      "3932.975890135496\n",
      "50\n",
      "K : 22\n",
      "[0 -2800 -100 -1200 -2000]\n"
     ]
    },
    {
     "name": "stderr",
     "output_type": "stream",
     "text": [
      "\u001b[36m\u001b[1m[ \u001b[22m\u001b[39m\u001b[36m\u001b[1mInfo: \u001b[22m\u001b[39m         4207.513215s: 1 hour, 10 minutes, 7 seconds, 513 milliseconds\n",
      "\u001b[36m\u001b[1m[ \u001b[22m\u001b[39m\u001b[36m\u001b[1mInfo: \u001b[22m\u001b[39m started timer at: 2025-03-18T05:55:33.829\n"
     ]
    },
    {
     "name": "stdout",
     "output_type": "stream",
     "text": [
      "50\n",
      "k : 22\n",
      "1\n",
      "-60748.50599517405\n",
      "4398.635859506943\n",
      "50\n",
      "K : 22\n",
      "[0 -3200 -100 -1200 -2000]\n"
     ]
    },
    {
     "name": "stderr",
     "output_type": "stream",
     "text": [
      "\u001b[36m\u001b[1m[ \u001b[22m\u001b[39m\u001b[36m\u001b[1mInfo: \u001b[22m\u001b[39m        4259.3735055s: 1 hour, 10 minutes, 59 seconds, 373 milliseconds\n",
      "\u001b[36m\u001b[1m[ \u001b[22m\u001b[39m\u001b[36m\u001b[1mInfo: \u001b[22m\u001b[39m started timer at: 2025-03-18T07:06:33.292\n"
     ]
    },
    {
     "name": "stdout",
     "output_type": "stream",
     "text": [
      "50\n",
      "k : 22\n",
      "1\n",
      "-65400.56576300217\n",
      "4675.0887027191\n",
      "50\n",
      "K : 24\n",
      "[0 -800 -100 -1200 -2000]\n"
     ]
    },
    {
     "name": "stderr",
     "output_type": "stream",
     "text": [
      "\u001b[36m\u001b[1m[ \u001b[22m\u001b[39m\u001b[36m\u001b[1mInfo: \u001b[22m\u001b[39m        4252.4990841s: 1 hour, 10 minutes, 52 seconds, 499 milliseconds\n",
      "\u001b[36m\u001b[1m[ \u001b[22m\u001b[39m\u001b[36m\u001b[1mInfo: \u001b[22m\u001b[39m started timer at: 2025-03-18T08:17:25.881\n"
     ]
    },
    {
     "name": "stdout",
     "output_type": "stream",
     "text": [
      "50\n",
      "k : 24\n",
      "1\n",
      "-37780.800657625594\n",
      "2519.5590374173926\n",
      "50\n",
      "K : 24\n",
      "[0 -1200 -100 -1200 -2000]\n"
     ]
    },
    {
     "name": "stderr",
     "output_type": "stream",
     "text": [
      "\u001b[36m\u001b[1m[ \u001b[22m\u001b[39m\u001b[36m\u001b[1mInfo: \u001b[22m\u001b[39m        4247.7638977s: 1 hour, 10 minutes, 47 seconds, 763 milliseconds\n",
      "\u001b[36m\u001b[1m[ \u001b[22m\u001b[39m\u001b[36m\u001b[1mInfo: \u001b[22m\u001b[39m started timer at: 2025-03-18T09:28:13.735\n"
     ]
    },
    {
     "name": "stdout",
     "output_type": "stream",
     "text": [
      "50\n",
      "k : 24\n",
      "1\n",
      "-43940.53126801116\n",
      "3332.7368102061137\n",
      "50\n",
      "K : 24\n",
      "[0 -1600 -100 -1200 -2000]\n"
     ]
    },
    {
     "name": "stderr",
     "output_type": "stream",
     "text": [
      "\u001b[36m\u001b[1m[ \u001b[22m\u001b[39m\u001b[36m\u001b[1mInfo: \u001b[22m\u001b[39m        4188.3792261s: 1 hour, 9 minutes, 48 seconds, 379 milliseconds\n",
      "\u001b[36m\u001b[1m[ \u001b[22m\u001b[39m\u001b[36m\u001b[1mInfo: \u001b[22m\u001b[39m started timer at: 2025-03-18T10:38:02.202\n"
     ]
    },
    {
     "name": "stdout",
     "output_type": "stream",
     "text": [
      "50\n",
      "k : 24\n",
      "1\n",
      "-50789.451716644006\n",
      "4203.343666303945\n",
      "50\n",
      "K : 24\n",
      "[0 -2000 -100 -1200 -2000]\n"
     ]
    },
    {
     "name": "stderr",
     "output_type": "stream",
     "text": [
      "\u001b[36m\u001b[1m[ \u001b[22m\u001b[39m\u001b[36m\u001b[1mInfo: \u001b[22m\u001b[39m         4195.743455s: 1 hour, 9 minutes, 55 seconds, 743 milliseconds\n",
      "\u001b[36m\u001b[1m[ \u001b[22m\u001b[39m\u001b[36m\u001b[1mInfo: \u001b[22m\u001b[39m started timer at: 2025-03-18T11:47:58.035\n"
     ]
    },
    {
     "name": "stdout",
     "output_type": "stream",
     "text": [
      "50\n",
      "k : 24\n",
      "1\n",
      "-57403.56722065035\n",
      "4593.49047965897\n"
     ]
    },
    {
     "name": "stderr",
     "output_type": "stream",
     "text": [
      "\u001b[36m\u001b[1m[ \u001b[22m\u001b[39m\u001b[36m\u001b[1mInfo: \u001b[22m\u001b[39m        4268.3245716s: 1 hour, 11 minutes, 8 seconds, 324 milliseconds\n"
     ]
    },
    {
     "name": "stdout",
     "output_type": "stream",
     "text": [
      "50\n",
      "K : 24\n",
      "[0 -2400 -100 -1200 -2000]\n"
     ]
    },
    {
     "name": "stderr",
     "output_type": "stream",
     "text": [
      "\u001b[36m\u001b[1m[ \u001b[22m\u001b[39m\u001b[36m\u001b[1mInfo: \u001b[22m\u001b[39m started timer at: 2025-03-18T12:59:06.460\n"
     ]
    },
    {
     "name": "stdout",
     "output_type": "stream",
     "text": [
      "50\n",
      "k : 24\n",
      "1\n",
      "-62850.56196246575\n",
      "4774.717758214307\n",
      "50\n",
      "K : 24\n",
      "[0 -2800 -100 -1200 -2000]\n"
     ]
    },
    {
     "name": "stderr",
     "output_type": "stream",
     "text": [
      "\u001b[36m\u001b[1m[ \u001b[22m\u001b[39m\u001b[36m\u001b[1mInfo: \u001b[22m\u001b[39m        4257.0369718s: 1 hour, 10 minutes, 57 seconds, 36 milliseconds\n",
      "\u001b[36m\u001b[1m[ \u001b[22m\u001b[39m\u001b[36m\u001b[1mInfo: \u001b[22m\u001b[39m started timer at: 2025-03-18T14:10:03.587\n"
     ]
    },
    {
     "name": "stdout",
     "output_type": "stream",
     "text": [
      "50\n",
      "k : 24\n",
      "1\n",
      "-66393.51233704669\n",
      "4728.182314587592\n",
      "50\n",
      "K : 24\n",
      "[0 -3200 -100 -1200 -2000]\n"
     ]
    },
    {
     "name": "stderr",
     "output_type": "stream",
     "text": [
      "\u001b[36m\u001b[1m[ \u001b[22m\u001b[39m\u001b[36m\u001b[1mInfo: \u001b[22m\u001b[39m        4203.1625096s: 1 hour, 10 minutes, 3 seconds, 162 milliseconds\n",
      "\u001b[36m\u001b[1m[ \u001b[22m\u001b[39m\u001b[36m\u001b[1mInfo: \u001b[22m\u001b[39m started timer at: 2025-03-18T15:20:06.848\n"
     ]
    },
    {
     "name": "stdout",
     "output_type": "stream",
     "text": [
      "50\n",
      "k : 24\n",
      "1\n",
      "-68724.74001917618\n",
      "4769.6698412985825\n",
      "60\n",
      "K : 2\n",
      "[0 -800 -100 -1200 -2000]\n"
     ]
    },
    {
     "name": "stderr",
     "output_type": "stream",
     "text": [
      "\u001b[36m\u001b[1m[ \u001b[22m\u001b[39m\u001b[36m\u001b[1mInfo: \u001b[22m\u001b[39m        4247.5820573s: 1 hour, 10 minutes, 47 seconds, 582 milliseconds\n",
      "\u001b[36m\u001b[1m[ \u001b[22m\u001b[39m\u001b[36m\u001b[1mInfo: \u001b[22m\u001b[39m started timer at: 2025-03-18T16:30:54.519\n"
     ]
    },
    {
     "name": "stdout",
     "output_type": "stream",
     "text": [
      "60\n",
      "k : 2\n",
      "1\n",
      "-44770.775699313934\n",
      "2981.3466000829735\n",
      "60\n",
      "K : 2\n",
      "[0 -1200 -100 -1200 -2000]\n"
     ]
    },
    {
     "name": "stderr",
     "output_type": "stream",
     "text": [
      "\u001b[36m\u001b[1m[ \u001b[22m\u001b[39m\u001b[36m\u001b[1mInfo: \u001b[22m\u001b[39m        5131.6376397s: 1 hour, 25 minutes, 31 seconds, 637 milliseconds\n",
      "\u001b[36m\u001b[1m[ \u001b[22m\u001b[39m\u001b[36m\u001b[1mInfo: \u001b[22m\u001b[39m started timer at: 2025-03-18T17:56:26.265\n"
     ]
    },
    {
     "name": "stdout",
     "output_type": "stream",
     "text": [
      "60\n",
      "k : 2\n",
      "1\n",
      "-52758.32040369431\n",
      "3537.74323317038\n",
      "60\n",
      "K : 2\n",
      "[0 -1600 -100 -1200 -2000]\n"
     ]
    },
    {
     "name": "stderr",
     "output_type": "stream",
     "text": [
      "\u001b[36m\u001b[1m[ \u001b[22m\u001b[39m\u001b[36m\u001b[1mInfo: \u001b[22m\u001b[39m        5073.5646384s: 1 hour, 24 minutes, 33 seconds, 564 milliseconds\n",
      "\u001b[36m\u001b[1m[ \u001b[22m\u001b[39m\u001b[36m\u001b[1mInfo: \u001b[22m\u001b[39m started timer at: 2025-03-18T19:20:59.936\n"
     ]
    },
    {
     "name": "stdout",
     "output_type": "stream",
     "text": [
      "60\n",
      "k : 2\n",
      "1\n",
      "-59890.49524130011\n",
      "3982.63580164052\n",
      "60\n",
      "K : 2\n",
      "[0 -2000 -100 -1200 -2000]\n"
     ]
    },
    {
     "name": "stderr",
     "output_type": "stream",
     "text": [
      "\u001b[36m\u001b[1m[ \u001b[22m\u001b[39m\u001b[36m\u001b[1mInfo: \u001b[22m\u001b[39m        4989.2969449s: 1 hour, 23 minutes, 9 seconds, 296 milliseconds\n",
      "\u001b[36m\u001b[1m[ \u001b[22m\u001b[39m\u001b[36m\u001b[1mInfo: \u001b[22m\u001b[39m started timer at: 2025-03-18T20:44:09.339\n"
     ]
    },
    {
     "name": "stdout",
     "output_type": "stream",
     "text": [
      "60\n",
      "k : 2\n",
      "1\n",
      "-65845.13940209206\n",
      "4330.410259718691\n",
      "60\n",
      "K : 2\n",
      "[0 -2400 -100 -1200 -2000]\n"
     ]
    },
    {
     "name": "stderr",
     "output_type": "stream",
     "text": [
      "\u001b[36m\u001b[1m[ \u001b[22m\u001b[39m\u001b[36m\u001b[1mInfo: \u001b[22m\u001b[39m        5031.9755349s: 1 hour, 23 minutes, 51 seconds, 975 milliseconds\n",
      "\u001b[36m\u001b[1m[ \u001b[22m\u001b[39m\u001b[36m\u001b[1mInfo: \u001b[22m\u001b[39m started timer at: 2025-03-18T22:08:01.420\n"
     ]
    },
    {
     "name": "stdout",
     "output_type": "stream",
     "text": [
      "60\n",
      "k : 2\n",
      "1\n",
      "-70380.61302409407\n",
      "4529.967683907143\n",
      "60\n",
      "K : 2\n",
      "[0 -2800 -100 -1200 -2000]\n"
     ]
    },
    {
     "name": "stderr",
     "output_type": "stream",
     "text": [
      "\u001b[36m\u001b[1m[ \u001b[22m\u001b[39m\u001b[36m\u001b[1mInfo: \u001b[22m\u001b[39m        5078.0189926s: 1 hour, 24 minutes, 38 seconds, 18 milliseconds\n",
      "\u001b[36m\u001b[1m[ \u001b[22m\u001b[39m\u001b[36m\u001b[1mInfo: \u001b[22m\u001b[39m started timer at: 2025-03-18T23:32:39.546\n"
     ]
    },
    {
     "name": "stdout",
     "output_type": "stream",
     "text": [
      "60\n",
      "k : 2\n",
      "1\n",
      "-74027.68318496311\n",
      "4580.456283923574\n",
      "60\n",
      "K : 2\n",
      "[0 -3200 -100 -1200 -2000]\n"
     ]
    },
    {
     "name": "stderr",
     "output_type": "stream",
     "text": [
      "\u001b[36m\u001b[1m[ \u001b[22m\u001b[39m\u001b[36m\u001b[1mInfo: \u001b[22m\u001b[39m        5032.0486445s: 1 hour, 23 minutes, 52 seconds, 48 milliseconds\n",
      "\u001b[36m\u001b[1m[ \u001b[22m\u001b[39m\u001b[36m\u001b[1mInfo: \u001b[22m\u001b[39m started timer at: 2025-03-19T00:56:31.700\n"
     ]
    },
    {
     "name": "stdout",
     "output_type": "stream",
     "text": [
      "60\n",
      "k : 2\n",
      "1\n",
      "-77541.59209538395\n",
      "4670.462013405407\n",
      "60\n",
      "K : 4\n",
      "[0 -800 -100 -1200 -2000]\n"
     ]
    },
    {
     "name": "stderr",
     "output_type": "stream",
     "text": [
      "\u001b[36m\u001b[1m[ \u001b[22m\u001b[39m\u001b[36m\u001b[1mInfo: \u001b[22m\u001b[39m        5055.8685474s: 1 hour, 24 minutes, 15 seconds, 868 milliseconds\n",
      "\u001b[36m\u001b[1m[ \u001b[22m\u001b[39m\u001b[36m\u001b[1mInfo: \u001b[22m\u001b[39m started timer at: 2025-03-19T02:20:47.675\n"
     ]
    },
    {
     "name": "stdout",
     "output_type": "stream",
     "text": [
      "60\n",
      "k : 4\n",
      "1\n",
      "-41402.40725435661\n",
      "2160.122322228073\n",
      "60\n",
      "K : 4\n",
      "[0 -1200 -100 -1200 -2000]\n"
     ]
    },
    {
     "name": "stderr",
     "output_type": "stream",
     "text": [
      "\u001b[36m\u001b[1m[ \u001b[22m\u001b[39m\u001b[36m\u001b[1mInfo: \u001b[22m\u001b[39m        5030.7189889s: 1 hour, 23 minutes, 50 seconds, 718 milliseconds\n",
      "\u001b[36m\u001b[1m[ \u001b[22m\u001b[39m\u001b[36m\u001b[1mInfo: \u001b[22m\u001b[39m started timer at: 2025-03-19T03:44:38.501\n"
     ]
    },
    {
     "name": "stdout",
     "output_type": "stream",
     "text": [
      "60\n",
      "k : 4\n",
      "1\n",
      "-47687.97831372302\n",
      "2670.0430712344228\n",
      "60\n",
      "K : 4\n",
      "[0 -1600 -100 -1200 -2000]\n"
     ]
    },
    {
     "name": "stderr",
     "output_type": "stream",
     "text": [
      "\u001b[36m\u001b[1m[ \u001b[22m\u001b[39m\u001b[36m\u001b[1mInfo: \u001b[22m\u001b[39m        5100.5393007s: 1 hour, 25 minutes, 539 milliseconds\n",
      "\u001b[36m\u001b[1m[ \u001b[22m\u001b[39m\u001b[36m\u001b[1mInfo: \u001b[22m\u001b[39m started timer at: 2025-03-19T05:09:39.147\n"
     ]
    },
    {
     "name": "stdout",
     "output_type": "stream",
     "text": [
      "60\n",
      "k : 4\n",
      "1\n",
      "-53173.32090120977\n",
      "3156.1313312007965\n",
      "60\n",
      "K : 4\n",
      "[0 -2000 -100 -1200 -2000]\n"
     ]
    },
    {
     "name": "stderr",
     "output_type": "stream",
     "text": [
      "\u001b[36m\u001b[1m[ \u001b[22m\u001b[39m\u001b[36m\u001b[1mInfo: \u001b[22m\u001b[39m        5067.6565292s: 1 hour, 24 minutes, 27 seconds, 656 milliseconds\n",
      "\u001b[36m\u001b[1m[ \u001b[22m\u001b[39m\u001b[36m\u001b[1mInfo: \u001b[22m\u001b[39m started timer at: 2025-03-19T06:34:06.910\n"
     ]
    },
    {
     "name": "stdout",
     "output_type": "stream",
     "text": [
      "60\n",
      "k : 4\n",
      "1\n",
      "-57906.32237163122\n",
      "3540.062976260419\n",
      "60\n",
      "K : 4\n",
      "[0 -2400 -100 -1200 -2000]\n"
     ]
    },
    {
     "name": "stderr",
     "output_type": "stream",
     "text": [
      "\u001b[36m\u001b[1m[ \u001b[22m\u001b[39m\u001b[36m\u001b[1mInfo: \u001b[22m\u001b[39m         5067.601253s: 1 hour, 24 minutes, 27 seconds, 601 milliseconds\n",
      "\u001b[36m\u001b[1m[ \u001b[22m\u001b[39m\u001b[36m\u001b[1mInfo: \u001b[22m\u001b[39m started timer at: 2025-03-19T07:58:34.619\n"
     ]
    },
    {
     "name": "stdout",
     "output_type": "stream",
     "text": [
      "60\n",
      "k : 4\n",
      "1\n",
      "-61897.85971467748\n",
      "3706.156808755398\n",
      "60\n",
      "K : 4\n",
      "[0 -2800 -100 -1200 -2000]\n"
     ]
    },
    {
     "name": "stderr",
     "output_type": "stream",
     "text": [
      "\u001b[36m\u001b[1m[ \u001b[22m\u001b[39m\u001b[36m\u001b[1mInfo: \u001b[22m\u001b[39m        5102.7361667s: 1 hour, 25 minutes, 2 seconds, 736 milliseconds\n",
      "\u001b[36m\u001b[1m[ \u001b[22m\u001b[39m\u001b[36m\u001b[1mInfo: \u001b[22m\u001b[39m started timer at: 2025-03-19T09:23:37.463\n"
     ]
    }
   ],
   "source": [
    "using DataFrames\n",
    "df= DataFrame(u=[],K=[],n=[],s=[],m=[],f=[],p=[],lamb=[],mean=[],std=[])\n",
    "\n",
    "cost=[ \n",
    "    [0\t-800\t-100\t-1200 -2000],\n",
    "    [0\t-1200\t-100\t-1200 -2000],\n",
    "    [0\t-1600\t-100\t-1200 -2000],\n",
    "    [0\t-2000\t-100\t-1200 -2000],\n",
    "    [0  -2400   -100    -1200 -2000],\n",
    "    [0  -2800   -100    -1200 -2000],\n",
    "    [0  -3200   -100    -1200 -2000]\n",
    "] \n",
    "\n",
    "for units in [20, 25, 30, 40, 50, 60]\n",
    "\n",
    "    for K in 2:2:convert(Int64, floor((units+1)/2))  \n",
    "        \n",
    "    global NumberUnits=convert(Int64,units)\n",
    "    global limit=convert(Int64,K)\n",
    "    #for lambda in [1,0.9,0.75,0.5,0.1,0.075,0.05,0.01,0.0075,0.005,0.0001]\n",
    "    for lambda in 1:1:1\n",
    "    global lamb=lambda\n",
    "    for c in cost\n",
    "        tick()\n",
    "        println(units)  \n",
    "        print(\"K : \")\n",
    "        println(K)\n",
    "        global normal_operation,setup_cost,maintenance_penalty,failure_penalty,system_penalty=c\n",
    "        println(c)  \n",
    "        global NumberUnits=units\n",
    "# POMDPs are defined\n",
    "global Unit_pomdps = create_pomdps()\n",
    "# CONTINUE to solve it and store the polices\n",
    "global Unit_policies = solve_pomdps(Unit_pomdps)\n",
    "# policy = solve(solver, multiunit)\n",
    "\n",
    "trials=10000;\n",
    "simsteps = 100;\n",
    "results=zeros(trials)*0.1\n",
    "Threads.@threads  for h in 1:trials\n",
    "    s=repeat(1:1,NumberUnits)\n",
    "    o = rand(Initialobs, NumberUnits)\n",
    "    belief = [Observation_matrix[1,:] for j in 1:NumberUnits]\n",
    "    R_sequence=[] \n",
    "    r=repeat(1:1,NumberUnits)*1.0\n",
    "\n",
    "    # iteration\n",
    "    for k in 1:simsteps\n",
    "        a=decision(o,belief) # system-level decision making: action vector\n",
    "        \n",
    "        # SANITY CHECK\n",
    "        # Update belief for each component individually\n",
    "        # b=update_belief(b, a, o, multiunit) # what is the sequence of observing, updating belief, taking action?\n",
    "        \n",
    "        R_instant = 0.0\n",
    "        global failed_components=0\n",
    "        # When generating new state and new reward, we use true states\n",
    "        for i in 1:NumberUnits # numerate over units\n",
    "            if o[i]==Number_level # failure state is self-announcing\n",
    "                failed_components+=1\n",
    "            end\n",
    "            s[i],r[i],o[i]=generative(s[i],a[i],i,234) #call generative function for underlying states\n",
    "            # it might be better to use generative function to give o as well\n",
    "            #o[i]=emission(s[i]) # observation generated by new underlying state\n",
    "            belief[i]=update_belief(belief[i], a[i], o[i], i)\n",
    "            # sum up single-component cost\n",
    "            R_instant += r[i]\n",
    "        end\n",
    "        # add setup cost\n",
    "        if (2 in a) ||(3 in a) ||(4 in a)\n",
    "            R_instant += setup_cost\n",
    "        end\n",
    "        # add system failure penalty\n",
    "        if failed_components >= limit\n",
    "            R_instant += system_penalty\n",
    "        end\n",
    "        # record instant reward of current time step\n",
    "        append!(R_sequence, R_instant)\n",
    "    end\n",
    "    R_discounted=0\n",
    "    for k in 1:simsteps\n",
    "        R_discounted=gamma * R_discounted+R_sequence[simsteps-k+1]\n",
    "    end\n",
    "    results[h]=R_discounted\n",
    "end # end the 10000 trials\n",
    "\n",
    "println(units)\n",
    "            print(\"k : \")\n",
    "            println(limit)\n",
    "println(lambda)\n",
    "\n",
    "println(mean(results))\n",
    "\n",
    "println(std(results))\n",
    "pushfirst!(df,[units,limit,normal_operation,setup_cost,maintenance_penalty,failure_penalty,system_penalty,lamb,mean(results),std(results)])\n",
    "        \n",
    "tock()\n",
    "\n",
    "                    \n",
    "                    \n",
    "    end\n",
    "    end        \n",
    "end\n",
    "end\n"
   ]
  },
  {
   "cell_type": "code",
   "execution_count": null,
   "metadata": {
    "scrolled": true
   },
   "outputs": [],
   "source": [
    "df"
   ]
  },
  {
   "cell_type": "code",
   "execution_count": null,
   "metadata": {},
   "outputs": [],
   "source": [
    "using CSV\n",
    "CSV.write(\"Hetero CW-POMDP.csv\", df)"
   ]
  }
 ],
 "metadata": {
  "kernelspec": {
   "display_name": "Julia 1.11.3",
   "language": "julia",
   "name": "julia-1.11"
  },
  "language_info": {
   "file_extension": ".jl",
   "mimetype": "application/julia",
   "name": "julia",
   "version": "1.11.3"
  },
  "vscode": {
   "interpreter": {
    "hash": "aee8b7b246df8f9039afb4144a1f6fd8d2ca17a180786b69acc140d282b71a49"
   }
  }
 },
 "nbformat": 4,
 "nbformat_minor": 4
}
