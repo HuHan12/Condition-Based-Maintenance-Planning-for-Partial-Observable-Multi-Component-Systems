{
 "cells": [
  {
   "cell_type": "code",
   "execution_count": 1,
   "metadata": {},
   "outputs": [],
   "source": [
    "# import Pkg;\n",
    "# Pkg.add(\"POMDPSimulators\")\n",
    "# Pkg.add(\"POMDPs\")\n",
    "# Pkg.add(\"POMDPTools\")\n",
    "# Pkg.add(\"QuickPOMDPs\")\n",
    "# Pkg.add(\"MCTS\")\n",
    "# Pkg.add(\"DiscreteValueIteration\")\n",
    "# Pkg.add(\"POMDPModels\")\n",
    "# Pkg.add(\"POMDPPolicies\")\n",
    "# Pkg.add(\"Distributions\")\n",
    "# Pkg.add(\"Combinatorics\")\n",
    "# Pkg.add(\"StaticArrays\")\n",
    "# Pkg.add(\"D3Trees\")\n",
    "# Pkg.add(\"Random\")\n",
    "# Pkg.add(\"FileIO\")\n",
    "# Pkg.add(\"JLD2\")\n",
    "# Pkg.add(\"TickTock\")\n",
    "\n"
   ]
  },
  {
   "cell_type": "code",
   "execution_count": 2,
   "metadata": {},
   "outputs": [],
   "source": [
    "# import Pkg; Pkg.add(\"DataFrames\")"
   ]
  },
  {
   "cell_type": "code",
   "execution_count": 3,
   "metadata": {},
   "outputs": [],
   "source": [
    "using POMDPs, POMDPTools, QuickPOMDPs, MCTS, DiscreteValueIteration, POMDPSimulators, POMDPModels, POMDPPolicies, POMDPModelTools\n",
    "using Distributions, Combinatorics, StaticArrays, D3Trees, Random\n",
    "using FileIO, JLD2, TickTock"
   ]
  },
  {
   "cell_type": "code",
   "execution_count": 4,
   "metadata": {},
   "outputs": [
    {
     "data": {
      "text/plain": [
       "4-element Vector{Int64}:\n",
       " 1\n",
       " 2\n",
       " 3\n",
       " 4"
      ]
     },
     "execution_count": 4,
     "metadata": {},
     "output_type": "execute_result"
    }
   ],
   "source": [
    "global Number_level = 4;\n",
    "global Action_num = 4;\n",
    "gamma=0.95\n",
    "\n",
    "States=Array((1:Number_level))\n",
    "Observations=Array((1:Number_level))"
   ]
  },
  {
   "cell_type": "code",
   "execution_count": 5,
   "metadata": {},
   "outputs": [
    {
     "data": {
      "text/plain": [
       "4×4 Matrix{Float64}:\n",
       " 0.8  0.2  0.0  0.0\n",
       " 0.1  0.8  0.1  0.0\n",
       " 0.0  0.2  0.8  0.0\n",
       " 0.0  0.0  0.0  1.0"
      ]
     },
     "execution_count": 5,
     "metadata": {},
     "output_type": "execute_result"
    }
   ],
   "source": [
    "Observation_matrix=[\n",
    "    0.8 0.2 0.0 0.0;\n",
    "    0.1 0.8 0.1 0.0;\n",
    "    0.0 0.2 0.8 0.0;\n",
    "    0.0 0.0 0.0 1.0\n",
    "]"
   ]
  },
  {
   "cell_type": "code",
   "execution_count": 6,
   "metadata": {},
   "outputs": [
    {
     "name": "stderr",
     "output_type": "stream",
     "text": [
      "\u001b[33m\u001b[1m┌ \u001b[22m\u001b[39m\u001b[33m\u001b[1mWarning: \u001b[22m\u001b[39mThis file was written in a newer version of the JLD2 file format.\n",
      "\u001b[33m\u001b[1m│ \u001b[22m\u001b[39mPlease consider updating JLD2.\n",
      "\u001b[33m\u001b[1m└ \u001b[22m\u001b[39m\u001b[90m@ JLD2 C:\\Users\\hhu98\\.julia\\packages\\JLD2\\VWinU\\src\\file_header.jl:39\u001b[39m\n",
      "\u001b[33m\u001b[1m┌ \u001b[22m\u001b[39m\u001b[33m\u001b[1mWarning: \u001b[22m\u001b[39mThis file was written with a different version of JLD2 that may not be compatible.\n",
      "\u001b[33m\u001b[1m│ \u001b[22m\u001b[39mAttempting to load data.\n",
      "\u001b[33m\u001b[1m└ \u001b[22m\u001b[39m\u001b[90m@ JLD2 C:\\Users\\hhu98\\.julia\\packages\\JLD2\\VWinU\\src\\file_header.jl:43\u001b[39m\n"
     ]
    }
   ],
   "source": [
    "T=zeros(Number_level,Number_level,3,100);\n",
    "\n",
    "# Load transition probability matrix for each component\n",
    "for i in 1:100\n",
    "    fullname = \"C:/Users/hhu98/OneDrive - UW-Madison/POMDP/code/Heterogeneous system/hetero_tm/tm\"*string(i);\n",
    "   \n",
    "    Transition_matrix = load(fullname*\".jld2\",\"transition_matrix\");\n",
    "    # the last term in argument of T, which is written as 'i' here,\n",
    "    # is the index of component in the heterogeneous system\n",
    "    T[:,:,1,i].=Transition_matrix; # a=1: do not replace\n",
    "    T[:,:,2,i].=Transition_matrix; # a=2: corrective replacement\n",
    "    for j in 1:Number_level\n",
    "        T[j,:,3,i].=Transition_matrix[1,:]; # a=3: preventive replacement\n",
    "        end\n",
    "    # T[Number_level,:,1,i].=Transition_matrix[1,:]\n",
    "    T[Number_level,:,1,i].=0.0\n",
    "    T[Number_level,Number_level,1,i]=1.0\n",
    "    T[Number_level,:,2,i].=Transition_matrix[1,:]\n",
    "\n",
    "end"
   ]
  },
  {
   "cell_type": "code",
   "execution_count": 7,
   "metadata": {},
   "outputs": [
    {
     "data": {
      "text/plain": [
       "-2000"
      ]
     },
     "execution_count": 7,
     "metadata": {},
     "output_type": "execute_result"
    }
   ],
   "source": [
    "NumberUnits=20\n",
    "limit=12\n",
    "failure_penalty = -1200.0;\n",
    "maintenance_penalty = -100.0;\n",
    "setup_cost = -300.0;\n",
    "normal_operation = 0.0;\n",
    "system_penalty=-2000"
   ]
  },
  {
   "cell_type": "code",
   "execution_count": 8,
   "metadata": {},
   "outputs": [
    {
     "data": {
      "text/plain": [
       "               \u001b[97;1mSparseCat distribution\u001b[0m           \n",
       "     \u001b[38;5;8m┌                                        ┐\u001b[0m \n",
       "   1 \u001b[38;5;8m┤\u001b[0m\u001b[38;5;2m■■■■■■■■■■■■■■■■■■■■■■■■■■■■■■■■■■■\u001b[0m 0.8 \u001b[38;5;8m \u001b[0m \u001b[38;5;8m\u001b[0m\n",
       "   2 \u001b[38;5;8m┤\u001b[0m\u001b[38;5;2m■■■■■■■■■\u001b[0m 0.2                           \u001b[38;5;8m \u001b[0m \u001b[38;5;8m\u001b[0m\n",
       "   3 \u001b[38;5;8m┤\u001b[0m\u001b[38;5;2m\u001b[0m 0.0                                    \u001b[38;5;8m \u001b[0m \u001b[38;5;8m\u001b[0m\n",
       "   4 \u001b[38;5;8m┤\u001b[0m\u001b[38;5;2m\u001b[0m 0.0                                    \u001b[38;5;8m \u001b[0m \u001b[38;5;8m\u001b[0m\n",
       "     \u001b[38;5;8m└                                        ┘\u001b[0m "
      ]
     },
     "execution_count": 8,
     "metadata": {},
     "output_type": "execute_result"
    }
   ],
   "source": [
    "SparseCat(Observations, Observation_matrix[1,:])"
   ]
  },
  {
   "cell_type": "code",
   "execution_count": null,
   "metadata": {},
   "outputs": [
    {
     "data": {
      "text/plain": [
       "4-element Vector{Float64}:\n",
       " 1.0\n",
       " 0.0\n",
       " 0.0\n",
       " 0.0"
      ]
     },
     "execution_count": 9,
     "metadata": {},
     "output_type": "execute_result"
    }
   ],
   "source": [
    "Initialstates = zeros(Number_level)\n",
    "Initialstates[1]=1.0\n",
    "Initialstates\n",
    "Initialstate = SparseCat(States, Initialstates)\n",
    "\n",
    "Initialobs = SparseCat(Observations, Observation_matrix[1,:])"
   ]
  },
  {
   "cell_type": "code",
   "execution_count": 12,
   "metadata": {},
   "outputs": [
    {
     "data": {
      "text/plain": [
       "create_pomdps (generic function with 1 method)"
      ]
     },
     "execution_count": 12,
     "metadata": {},
     "output_type": "execute_result"
    }
   ],
   "source": [
    "function create_pomdps()\n",
    "\n",
    "    Unit_pomdps = Dict{Int,POMDP}()\n",
    "    \n",
    "    for i in 1:NumberUnits\n",
    "    \n",
    "     Unit_pomdps[i]= QuickPOMDP(\n",
    "        states=States,\n",
    "        actions=Array((1:Action_num)),\n",
    "        observations = Observations,\n",
    "        initialstate = Initialstate,\n",
    "        initialobs = Initialobs,\n",
    "        discount = gamma,\n",
    "    \n",
    "        transition = function(s,a)\n",
    "            if a == 1 # NO REPAIR, NO SYSTEM FAILURE\n",
    "                return SparseCat(States, T[s,:,1,i])\n",
    "            end\n",
    "            if a == 2 # UNIT NOT REPAIRED UNLESS FAILURE BUT REPAIR IN SYSTEM\n",
    "                if s == Number_level\n",
    "                    s = 1\n",
    "                    return SparseCat(States, T[s,:,2,i])\n",
    "                else\n",
    "                    return SparseCat(States, T[s,:,2,i])\n",
    "                end\n",
    "            end\n",
    "            if a == 3 # UNIT REPAIRED AND MAINTENANCE IN SYSTEM, NO SYSTEM FAILURE\n",
    "                if s==Number_level\n",
    "                    s=1\n",
    "                    return SparseCat(States, T[s,:,3,i])\n",
    "                else\n",
    "                    s = 1\n",
    "                    return SparseCat(States, T[s,:,3,i])\n",
    "                end\n",
    "            end\n",
    "            if a == 4 # UNIT REPAIRED AND MAINTENANCE IN SYSTEM,SYSTEM FAILED\n",
    "                if s==Number_level\n",
    "                    s=1\n",
    "                    return SparseCat(States, T[s,:,3,i])\n",
    "                else\n",
    "                    s = 1\n",
    "                    return SparseCat(States, T[s,:,3,i])\n",
    "                end\n",
    "            end\n",
    "        end,\n",
    "    \n",
    "        observation = function(a,s)\n",
    "            return SparseCat(Observations, Observation_matrix[s,:])\n",
    "        end,\n",
    "            \n",
    "        reward = function (s, a)\n",
    "            if a == 1 # NO REPAIR, NO SYSTEM FAILURE\n",
    "                if s == Number_level\n",
    "                    return system_penalty/(limit)\n",
    "                else\n",
    "                    return normal_operation\n",
    "                end\n",
    "            end\n",
    "            if a == 2 # UNIT NOT REPAIRED UNLESS FAILURE BUT REPAIR IN SYSTEM, NO SYSTEM FAILURE PENALTY\n",
    "                if s == Number_level\n",
    "                    return failure_penalty +  setup_cost/NumberUnits + normal_operation\n",
    "                else\n",
    "                    # Here it doesn't matter whether systems fails or not, since C_b does not apply to functional units\n",
    "                    return normal_operation +  setup_cost/NumberUnits\n",
    "                end\n",
    "            end\n",
    "            if a == 3 # UNIT REPAIRED AND MAINTENANCE IN SYSTEM, NO SYSTEM FAILURE PENALTY\n",
    "                if s==Number_level\n",
    "                    return failure_penalty +  setup_cost/NumberUnits + normal_operation\n",
    "                else\n",
    "                    # Here it doesn't matter whether systems fails or not, since C_b does not apply to functional units\n",
    "                    return maintenance_penalty +  setup_cost/NumberUnits+ normal_operation \n",
    "                end\n",
    "            end\n",
    "            if a == 4 # UNIT REPAIRED AND MAINTENANCE IN SYSTEM,SYSTEM FAILED\n",
    "                if s==Number_level\n",
    "                    return failure_penalty +  setup_cost/NumberUnits + normal_operation + system_penalty/(limit)\n",
    "                else\n",
    "                    return maintenance_penalty +  setup_cost/NumberUnits + normal_operation\n",
    "                end\n",
    "            end\n",
    "        end,\n",
    "        \n",
    "    )\n",
    "    end\n",
    "    return Unit_pomdps\n",
    "    end"
   ]
  },
  {
   "cell_type": "code",
   "execution_count": 13,
   "metadata": {},
   "outputs": [
    {
     "data": {
      "text/plain": [
       "generative (generic function with 2 methods)"
      ]
     },
     "execution_count": 13,
     "metadata": {},
     "output_type": "execute_result"
    }
   ],
   "source": [
    "function generative(s,a,i,rng=23) # calculate TRUE COMPONENT-LEVEL reward r_i(s_i,a_i) and get evolving states\n",
    "    if a==1 # No maintenance in the system, no system failure\n",
    "        crd=Categorical(T[s,:,1,i])\n",
    "        s=rand(crd)\n",
    "        r=normal_operation\n",
    "        obs_distribution = SparseCat(Observations, Observation_matrix[s,:])\n",
    "        obs = rand(obs_distribution)\n",
    "        return (sp=s,r=r,o=obs)\n",
    "    end\n",
    "\n",
    "    if a==2 # Maintenance occurs in the system, no system failure, corrective maintenance for the unit\n",
    "        if s==Number_level\n",
    "            crd=Categorical(T[1,:,2,i])\n",
    "            s=rand(crd)\n",
    "            r=failure_penalty  + normal_operation\n",
    "            obs_distribution = SparseCat(Observations, Observation_matrix[s,:])\n",
    "            obs = rand(obs_distribution)\n",
    "            return (sp=s,r=r,o=obs)\n",
    "        else\n",
    "            crd = Categorical(T[s,:,2,i])\n",
    "            s = rand(crd)\n",
    "            r = normal_operation\n",
    "            obs_distribution = SparseCat(Observations, Observation_matrix[s,:])\n",
    "            obs = rand(obs_distribution)\n",
    "            return (sp=s,r=r,o=obs)\n",
    "        end\n",
    "    end\n",
    "\n",
    "    if a==3 # Maintenance occurs in the system, no system failure, preventive maintenance for the unit\n",
    "        if s==Number_level\n",
    "            crd=Categorical(T[1,:,3,i])\n",
    "            s=rand(crd)\n",
    "            r=failure_penalty  + normal_operation\n",
    "            obs_distribution = SparseCat(Observations, Observation_matrix[s,:])\n",
    "            obs = rand(obs_distribution)\n",
    "            return (sp=s,r=r,o=obs)\n",
    "        else\n",
    "            crd = Categorical(T[s,:,3,i])\n",
    "            s = rand(crd)\n",
    "            r = maintenance_penalty+normal_operation\n",
    "            obs_distribution = SparseCat(Observations, Observation_matrix[s,:])\n",
    "            obs = rand(obs_distribution)\n",
    "            return (sp=s,r=r,o=obs)\n",
    "        end\n",
    "    end\n",
    "\n",
    "    if a==4 # maintenance in system, system failure occurs, preventive replacement for the unit\n",
    "        if s==Number_level\n",
    "            crd = Categorical(T[1,:,3,i])\n",
    "            s = rand(crd)\n",
    "            r=failure_penalty+ normal_operation\n",
    "            obs_distribution = SparseCat(Observations, Observation_matrix[s,:])\n",
    "            obs = rand(obs_distribution)\n",
    "            return (sp=s,r=r,o=obs)\n",
    "        else\n",
    "            r = maintenance_penalty+normal_operation\n",
    "            crd = Categorical(T[1,:,3,i])\n",
    "            s = rand(crd)\n",
    "            obs_distribution = SparseCat(Observations, Observation_matrix[s,:])\n",
    "            obs = rand(obs_distribution)\n",
    "            return (sp=s,r=r,o=obs)\n",
    "        end\n",
    "    end\n",
    "end\n",
    "\n",
    "        \n",
    "        \n",
    "    "
   ]
  },
  {
   "cell_type": "markdown",
   "metadata": {},
   "source": [
    "#### Belief updater"
   ]
  },
  {
   "cell_type": "markdown",
   "metadata": {},
   "source": [
    "$$b'(s_j)=P(s_j\\vert o,a,b)=\\dfrac{P(o\\vert s_j,a)\\sum_{s_i\\in \\mathcal{S}}P(s_j\\vert s_i,a)b(s_i)}{\\sum_{s_j\\in \\mathcal{S}}P(o\\vert s_j,a)\\sum_{s_i\\in \\mathcal{S}}P(s_j\\vert s_i,a)b(s_i)}$$"
   ]
  },
  {
   "cell_type": "code",
   "execution_count": 14,
   "metadata": {},
   "outputs": [
    {
     "data": {
      "text/plain": [
       "update_belief (generic function with 1 method)"
      ]
     },
     "execution_count": 14,
     "metadata": {},
     "output_type": "execute_result"
    }
   ],
   "source": [
    "# Input: prior belief, action, observation, index of the component\n",
    "# Output: updated belief of the component\n",
    "function update_belief(b,a,o,i) \n",
    "    # NOTE: \n",
    "    # in input, b is belief from last epoch (before a)\n",
    "    # a is the last action we took\n",
    "    # o is the new observation after a\n",
    "    pomdp = Unit_pomdps[i]\n",
    "    updated_belief = zeros(length(b))\n",
    "    if o==4\n",
    "        updated_belief[Number_level]=1.0\n",
    "        return updated_belief\n",
    "    end\n",
    "\n",
    "    if (a==3) ||(a==4)\n",
    "    # We assume perfect maintenance and it is know to decision maker(belief updater)\n",
    "        for sp in 1: Number_level\n",
    "            p_obs = Observation_matrix[sp,o]\n",
    "            p_trans = pdf(transition(pomdp,1,1),sp) \n",
    "            updated_belief[sp] = p_obs * p_trans\n",
    "        end\n",
    "        updated_belief ./= sum(updated_belief)\n",
    "        return updated_belief\n",
    "    end\n",
    "    \n",
    "    for sp in 1:length(states(pomdp)) \n",
    "        # p_observation = POMDPs.observation(pomdp,a,sp) \n",
    "        # p_obs = pdf(p_observation,o)\n",
    "        p_obs = Observation_matrix[sp,o]\n",
    "        p_trans = 0.0\n",
    "        for s in 1:length(states(pomdp))\n",
    "            #trans = transition(pomdp, s,a)\n",
    "            #p_trans += pdf(transition(pomdp, s,a),sp) * pdf(b, s)\n",
    "            # p_trans += T[s,sp,a] * pdf(b, s)\n",
    "            # p_trans += T[s,sp,a,i] * b[s]\n",
    "            p_trans += pdf(transition(pomdp,s,a),sp) * b[s]\n",
    "        end\n",
    "        updated_belief[sp] = p_obs * p_trans\n",
    "    end\n",
    "        # Normalize the updated belief state to ensure it sums up to 1\n",
    "        updated_belief ./= sum(updated_belief)\n",
    "    return updated_belief\n",
    "end\n"
   ]
  },
  {
   "cell_type": "markdown",
   "metadata": {},
   "source": [
    "### Value Iteration"
   ]
  },
  {
   "cell_type": "code",
   "execution_count": 15,
   "metadata": {},
   "outputs": [
    {
     "data": {
      "text/plain": [
       "ValueIteration (generic function with 1 method)"
      ]
     },
     "execution_count": 15,
     "metadata": {},
     "output_type": "execute_result"
    }
   ],
   "source": [
    "function ValueIteration(γ)\n",
    "    # Here we always consider the state with the highest belief as the true state\n",
    "    Q = zeros((Number_level, 4, NumberUnits))\n",
    "    V = zeros(Float64, (Number_level, NumberUnits)).+1000\n",
    "    for k in 1:NumberUnits\n",
    "        for i in 1:10000\n",
    "            for s in 1:Number_level\n",
    "                Threads.@threads for a in 1:4\n",
    "                    if a == 4\n",
    "                        Q[s,a,k] = (reward(Unit_pomdps[k],s,a)) + γ*(sum(T[s,s1,3,k]*V[s1,k] for s1 in 1:Number_level))\n",
    "                    else\n",
    "                    Q[s,a,k] = (reward(Unit_pomdps[k],s,a)) + γ*(sum(T[s,s1,a,k]*V[s1,k] for s1 in 1:Number_level))\n",
    "                    end\n",
    "                end\n",
    "                V[s,k] = findmax(Q[s, 1:4, k])[1]\n",
    "            end\n",
    "        end\n",
    "    end\n",
    "    return Q\n",
    "end"
   ]
  },
  {
   "cell_type": "markdown",
   "metadata": {},
   "source": [
    "### System-level decision making"
   ]
  },
  {
   "cell_type": "code",
   "execution_count": 16,
   "metadata": {},
   "outputs": [
    {
     "data": {
      "text/plain": [
       "decision (generic function with 1 method)"
      ]
     },
     "execution_count": 16,
     "metadata": {},
     "output_type": "execute_result"
    }
   ],
   "source": [
    "function decision(o, b)\n",
    "    a_final = repeat(1:1,NumberUnits)\n",
    "    # Instead of using maximum likelihood state,\n",
    "    # we use belief-weighted sum of Q function\n",
    "\n",
    "    failed_components = 0\n",
    "    for i in 1:NumberUnits # numerate over units\n",
    "        if o[i] == Number_level # failure state is self-announcing\n",
    "            failed_components+=1\n",
    "        end\n",
    "    end\n",
    "\n",
    "    # calculate belief-based Q table for each unit\n",
    "    Q_belief = zeros((NumberUnits, 4))\n",
    "    \n",
    "    for i in 1:NumberUnits\n",
    "        belief = b[i]\n",
    "        for a in 1:4\n",
    "            Q_belief[i,a] = sum(belief[s] * Q[s,a,i] for s in 1:Number_level)\n",
    "        end\n",
    "    end\n",
    "\n",
    "    # decision making: 3 scenarios\n",
    "    # 1) System fails\n",
    "    if failed_components >= limit\n",
    "        for i in 1:NumberUnits\n",
    "            a_final[i]=argmax(a->Q_belief[i,a],[2,3])\n",
    "            if o[i] == Number_level\n",
    "                a_final[i]=4\n",
    "            end\n",
    "        end\n",
    "        return a_final\n",
    "    end\n",
    "\n",
    "    q0 = 0.0\n",
    "    a0 = repeat(1:1, NumberUnits)\n",
    "    for i in 1:NumberUnits\n",
    "        q0+=Q_belief[i,1]\n",
    "    end\n",
    "\n",
    "    q1 = 0.0\n",
    "    a1 = repeat(1:1, NumberUnits)\n",
    "    for i in 1:NumberUnits\n",
    "        a1[i] = argmax(a->Q_belief[i,a], [2,3])\n",
    "        if o[i] == Number_level\n",
    "            a1[i] = 3\n",
    "        end\n",
    "        q1 += Q_belief[i, a1[i]]\n",
    "    end\n",
    "\n",
    "    if !(3 in a1)\n",
    "        a1 = a0\n",
    "        q1 = q0\n",
    "    end\n",
    "\n",
    "    if q0 > q1\n",
    "        return a0\n",
    "    else\n",
    "        return a1\n",
    "    end\n",
    "end\n",
    "    \n",
    "\n"
   ]
  },
  {
   "cell_type": "markdown",
   "metadata": {},
   "source": [
    "### Iteration"
   ]
  },
  {
   "cell_type": "code",
   "execution_count": 17,
   "metadata": {},
   "outputs": [
    {
     "name": "stdout",
     "output_type": "stream",
     "text": [
      "20\n",
      "K : 4\n"
     ]
    },
    {
     "name": "stderr",
     "output_type": "stream",
     "text": [
      "\u001b[36m\u001b[1m[ \u001b[22m\u001b[39m\u001b[36m\u001b[1mInfo: \u001b[22m\u001b[39m started timer at: 2025-03-07T16:08:28.324\n"
     ]
    },
    {
     "name": "stdout",
     "output_type": "stream",
     "text": [
      "[0 -1200 -100 -1200 -2000]\n",
      "false\n"
     ]
    },
    {
     "name": "stderr",
     "output_type": "stream",
     "text": [
      "\u001b[36m\u001b[1m[ \u001b[22m\u001b[39m\u001b[36m\u001b[1mInfo: \u001b[22m\u001b[39m started timer at: 2025-03-07T16:08:52.118\n"
     ]
    },
    {
     "name": "stdout",
     "output_type": "stream",
     "text": [
      "20\n",
      "k : 4\n",
      "1\n",
      "-22148.67686171796\n",
      "2117.485180883976\n",
      "20\n",
      "K : 4\n",
      "[0 -2000 -100 -1200 -2000]\n"
     ]
    },
    {
     "name": "stderr",
     "output_type": "stream",
     "text": [
      "\u001b[36m\u001b[1m[ \u001b[22m\u001b[39m\u001b[36m\u001b[1mInfo: \u001b[22m\u001b[39m         666.9809666s: 11 minutes, 6 seconds, 980 milliseconds\n",
      "\u001b[36m\u001b[1m[ \u001b[22m\u001b[39m\u001b[36m\u001b[1mInfo: \u001b[22m\u001b[39m started timer at: 2025-03-07T16:19:59.233\n"
     ]
    },
    {
     "name": "stdout",
     "output_type": "stream",
     "text": [
      "false\n"
     ]
    },
    {
     "name": "stderr",
     "output_type": "stream",
     "text": [
      "\u001b[36m\u001b[1m[ \u001b[22m\u001b[39m\u001b[36m\u001b[1mInfo: \u001b[22m\u001b[39m started timer at: 2025-03-07T16:20:21.301\n"
     ]
    },
    {
     "name": "stdout",
     "output_type": "stream",
     "text": [
      "20\n",
      "k : 4\n",
      "1\n",
      "-27007.895859104163\n",
      "2513.236586628227\n",
      "20\n",
      "K : 4\n",
      "[0 -2800 -100 -1200 -2000]"
     ]
    },
    {
     "name": "stderr",
     "output_type": "stream",
     "text": [
      "\u001b[36m\u001b[1m[ \u001b[22m\u001b[39m\u001b[36m\u001b[1mInfo: \u001b[22m\u001b[39m           662.28049s: 11 minutes, 2 seconds, 280 milliseconds\n",
      "\u001b[36m\u001b[1m[ \u001b[22m\u001b[39m\u001b[36m\u001b[1mInfo: \u001b[22m\u001b[39m started timer at: 2025-03-07T16:31:23.581\n"
     ]
    },
    {
     "name": "stdout",
     "output_type": "stream",
     "text": [
      "\n",
      "false\n"
     ]
    },
    {
     "name": "stderr",
     "output_type": "stream",
     "text": [
      "\u001b[36m\u001b[1m[ \u001b[22m\u001b[39m\u001b[36m\u001b[1mInfo: \u001b[22m\u001b[39m started timer at: 2025-03-07T16:31:45.575\n"
     ]
    },
    {
     "name": "stdout",
     "output_type": "stream",
     "text": [
      "20\n",
      "k : 4\n",
      "1\n",
      "-31381.1846569338\n",
      "2912.3967034429816\n",
      "20\n",
      "K : 8\n",
      "[0 -1200 -100 -1200 -2000]"
     ]
    },
    {
     "name": "stderr",
     "output_type": "stream",
     "text": [
      "\u001b[36m\u001b[1m[ \u001b[22m\u001b[39m\u001b[36m\u001b[1mInfo: \u001b[22m\u001b[39m         218.7065062s: 3 minutes, 38 seconds, 706 milliseconds\n",
      "\u001b[36m\u001b[1m[ \u001b[22m\u001b[39m\u001b[36m\u001b[1mInfo: \u001b[22m\u001b[39m started timer at: 2025-03-07T16:35:24.282\n"
     ]
    },
    {
     "name": "stdout",
     "output_type": "stream",
     "text": [
      "\n",
      "false\n"
     ]
    },
    {
     "name": "stderr",
     "output_type": "stream",
     "text": [
      "\u001b[36m\u001b[1m[ \u001b[22m\u001b[39m\u001b[36m\u001b[1mInfo: \u001b[22m\u001b[39m started timer at: 2025-03-07T16:35:46.446\n"
     ]
    },
    {
     "name": "stdout",
     "output_type": "stream",
     "text": [
      "20\n",
      "k : 8\n",
      "1\n",
      "-21259.325417501397\n",
      "1952.6829884596339\n",
      "20\n",
      "K : 8\n",
      "[0 -2000 -100 -1200 -2000]\n"
     ]
    },
    {
     "name": "stderr",
     "output_type": "stream",
     "text": [
      "\u001b[36m\u001b[1m[ \u001b[22m\u001b[39m\u001b[36m\u001b[1mInfo: \u001b[22m\u001b[39m         219.6092724s: 3 minutes, 39 seconds, 609 milliseconds\n",
      "\u001b[36m\u001b[1m[ \u001b[22m\u001b[39m\u001b[36m\u001b[1mInfo: \u001b[22m\u001b[39m started timer at: 2025-03-07T16:39:26.055\n"
     ]
    },
    {
     "name": "stdout",
     "output_type": "stream",
     "text": [
      "false\n"
     ]
    },
    {
     "name": "stderr",
     "output_type": "stream",
     "text": [
      "\u001b[36m\u001b[1m[ \u001b[22m\u001b[39m\u001b[36m\u001b[1mInfo: \u001b[22m\u001b[39m started timer at: 2025-03-07T16:39:48.397\n"
     ]
    },
    {
     "name": "stdout",
     "output_type": "stream",
     "text": [
      "20\n",
      "k : 8\n",
      "1\n",
      "-25170.037219984628\n",
      "2166.3892183957305\n",
      "20\n",
      "K : 8\n",
      "[0 -2800 -100 -1200 -2000]\n"
     ]
    },
    {
     "name": "stderr",
     "output_type": "stream",
     "text": [
      "\u001b[36m\u001b[1m[ \u001b[22m\u001b[39m\u001b[36m\u001b[1mInfo: \u001b[22m\u001b[39m         218.4507179s: 3 minutes, 38 seconds, 450 milliseconds\n",
      "\u001b[36m\u001b[1m[ \u001b[22m\u001b[39m\u001b[36m\u001b[1mInfo: \u001b[22m\u001b[39m started timer at: 2025-03-07T16:43:26.848\n"
     ]
    },
    {
     "name": "stdout",
     "output_type": "stream",
     "text": [
      "false\n"
     ]
    },
    {
     "name": "stderr",
     "output_type": "stream",
     "text": [
      "\u001b[36m\u001b[1m[ \u001b[22m\u001b[39m\u001b[36m\u001b[1mInfo: \u001b[22m\u001b[39m started timer at: 2025-03-07T16:43:49.381\n"
     ]
    },
    {
     "name": "stdout",
     "output_type": "stream",
     "text": [
      "20\n",
      "k : 8\n",
      "1\n",
      "-28376.584594968568\n",
      "2444.915293417958\n",
      "30\n",
      "K : 4\n",
      "[0 -1200 -100 -1200 -2000]"
     ]
    },
    {
     "name": "stderr",
     "output_type": "stream",
     "text": [
      "\u001b[36m\u001b[1m[ \u001b[22m\u001b[39m\u001b[36m\u001b[1mInfo: \u001b[22m\u001b[39m         213.9833132s: 3 minutes, 33 seconds, 983 milliseconds\n",
      "\u001b[36m\u001b[1m[ \u001b[22m\u001b[39m\u001b[36m\u001b[1mInfo: \u001b[22m\u001b[39m started timer at: 2025-03-07T16:47:23.375\n"
     ]
    },
    {
     "name": "stdout",
     "output_type": "stream",
     "text": [
      "\n",
      "false\n"
     ]
    },
    {
     "name": "stderr",
     "output_type": "stream",
     "text": [
      "\u001b[36m\u001b[1m[ \u001b[22m\u001b[39m\u001b[36m\u001b[1mInfo: \u001b[22m\u001b[39m started timer at: 2025-03-07T16:47:57.185\n"
     ]
    },
    {
     "name": "stdout",
     "output_type": "stream",
     "text": [
      "30\n",
      "k : 4\n",
      "1\n",
      "-31723.531874456716\n",
      "2436.3771063876343\n"
     ]
    },
    {
     "name": "stderr",
     "output_type": "stream",
     "text": [
      "\u001b[36m\u001b[1m[ \u001b[22m\u001b[39m\u001b[36m\u001b[1mInfo: \u001b[22m\u001b[39m          317.489733s: 5 minutes, 17 seconds, 489 milliseconds\n",
      "\u001b[36m\u001b[1m[ \u001b[22m\u001b[39m\u001b[36m\u001b[1mInfo: \u001b[22m\u001b[39m started timer at: 2025-03-07T16:53:14.686\n"
     ]
    },
    {
     "name": "stdout",
     "output_type": "stream",
     "text": [
      "30\n",
      "K : 4\n",
      "[0 -2000 -100 -1200 -2000]\n",
      "false\n"
     ]
    },
    {
     "name": "stderr",
     "output_type": "stream",
     "text": [
      "\u001b[36m\u001b[1m[ \u001b[22m\u001b[39m\u001b[36m\u001b[1mInfo: \u001b[22m\u001b[39m started timer at: 2025-03-07T16:53:51.082\n"
     ]
    },
    {
     "name": "stdout",
     "output_type": "stream",
     "text": [
      "30\n",
      "k : 4\n",
      "1\n",
      "-38282.853020771574\n",
      "2928.1592019811733\n",
      "30\n",
      "K : 4\n",
      "[0 -2800 -100 -1200 -2000]\n"
     ]
    },
    {
     "name": "stderr",
     "output_type": "stream",
     "text": [
      "\u001b[36m\u001b[1m[ \u001b[22m\u001b[39m\u001b[36m\u001b[1mInfo: \u001b[22m\u001b[39m         313.3251507s: 5 minutes, 13 seconds, 325 milliseconds\n",
      "\u001b[36m\u001b[1m[ \u001b[22m\u001b[39m\u001b[36m\u001b[1mInfo: \u001b[22m\u001b[39m started timer at: 2025-03-07T16:59:04.406\n"
     ]
    },
    {
     "name": "stdout",
     "output_type": "stream",
     "text": [
      "false\n"
     ]
    },
    {
     "name": "stderr",
     "output_type": "stream",
     "text": [
      "\u001b[36m\u001b[1m[ \u001b[22m\u001b[39m\u001b[36m\u001b[1mInfo: \u001b[22m\u001b[39m started timer at: 2025-03-07T16:59:39.832\n"
     ]
    },
    {
     "name": "stdout",
     "output_type": "stream",
     "text": [
      "30\n",
      "k : 4\n",
      "1\n",
      "-43952.8314917599\n",
      "3370.726458135399\n",
      "30\n",
      "K : 8\n",
      "[0 -1200 -100 -1200 -2000]\n"
     ]
    },
    {
     "name": "stderr",
     "output_type": "stream",
     "text": [
      "\u001b[36m\u001b[1m[ \u001b[22m\u001b[39m\u001b[36m\u001b[1mInfo: \u001b[22m\u001b[39m         312.3416721s: 5 minutes, 12 seconds, 341 milliseconds\n",
      "\u001b[36m\u001b[1m[ \u001b[22m\u001b[39m\u001b[36m\u001b[1mInfo: \u001b[22m\u001b[39m started timer at: 2025-03-07T17:04:52.174\n"
     ]
    },
    {
     "name": "stdout",
     "output_type": "stream",
     "text": [
      "false\n"
     ]
    },
    {
     "name": "stderr",
     "output_type": "stream",
     "text": [
      "\u001b[36m\u001b[1m[ \u001b[22m\u001b[39m\u001b[36m\u001b[1mInfo: \u001b[22m\u001b[39m started timer at: 2025-03-07T17:05:27.074\n"
     ]
    },
    {
     "name": "stdout",
     "output_type": "stream",
     "text": [
      "30\n",
      "k : 8\n",
      "1\n",
      "-30769.47666456793\n",
      "2231.1630370785088\n",
      "30\n",
      "K : 8\n",
      "[0 -2000 -100 -1200 -2000]\n"
     ]
    },
    {
     "name": "stderr",
     "output_type": "stream",
     "text": [
      "\u001b[36m\u001b[1m[ \u001b[22m\u001b[39m\u001b[36m\u001b[1mInfo: \u001b[22m\u001b[39m         317.2280251s: 5 minutes, 17 seconds, 228 milliseconds\n",
      "\u001b[36m\u001b[1m[ \u001b[22m\u001b[39m\u001b[36m\u001b[1mInfo: \u001b[22m\u001b[39m started timer at: 2025-03-07T17:10:44.302\n"
     ]
    },
    {
     "name": "stdout",
     "output_type": "stream",
     "text": [
      "false\n"
     ]
    },
    {
     "name": "stderr",
     "output_type": "stream",
     "text": [
      "\u001b[36m\u001b[1m[ \u001b[22m\u001b[39m\u001b[36m\u001b[1mInfo: \u001b[22m\u001b[39m started timer at: 2025-03-07T17:11:21.106\n"
     ]
    },
    {
     "name": "stdout",
     "output_type": "stream",
     "text": [
      "30\n",
      "k : 8\n",
      "1\n",
      "-36131.04202219548\n",
      "2532.7103935511354\n",
      "30\n",
      "K : 8\n",
      "[0 -2800 -100 -1200 -2000]"
     ]
    },
    {
     "name": "stderr",
     "output_type": "stream",
     "text": [
      "\u001b[36m\u001b[1m[ \u001b[22m\u001b[39m\u001b[36m\u001b[1mInfo: \u001b[22m\u001b[39m          314.366747s: 5 minutes, 14 seconds, 366 milliseconds\n",
      "\u001b[36m\u001b[1m[ \u001b[22m\u001b[39m\u001b[36m\u001b[1mInfo: \u001b[22m\u001b[39m started timer at: 2025-03-07T17:16:35.472\n"
     ]
    },
    {
     "name": "stdout",
     "output_type": "stream",
     "text": [
      "\n",
      "false\n"
     ]
    },
    {
     "name": "stderr",
     "output_type": "stream",
     "text": [
      "\u001b[36m\u001b[1m[ \u001b[22m\u001b[39m\u001b[36m\u001b[1mInfo: \u001b[22m\u001b[39m started timer at: 2025-03-07T17:17:11.256\n"
     ]
    },
    {
     "name": "stdout",
     "output_type": "stream",
     "text": [
      "30\n",
      "k : 8\n",
      "1\n",
      "-40556.02811912899\n",
      "2829.508241651391\n",
      "30\n",
      "K : 12\n",
      "[0 -1200 -100 -1200 -2000]"
     ]
    },
    {
     "name": "stderr",
     "output_type": "stream",
     "text": [
      "\u001b[36m\u001b[1m[ \u001b[22m\u001b[39m\u001b[36m\u001b[1mInfo: \u001b[22m\u001b[39m         309.7382989s: 5 minutes, 9 seconds, 738 milliseconds\n",
      "\u001b[36m\u001b[1m[ \u001b[22m\u001b[39m\u001b[36m\u001b[1mInfo: \u001b[22m\u001b[39m started timer at: 2025-03-07T17:22:21.006\n"
     ]
    },
    {
     "name": "stdout",
     "output_type": "stream",
     "text": [
      "\n",
      "false\n"
     ]
    },
    {
     "name": "stderr",
     "output_type": "stream",
     "text": [
      "\u001b[36m\u001b[1m[ \u001b[22m\u001b[39m\u001b[36m\u001b[1mInfo: \u001b[22m\u001b[39m started timer at: 2025-03-07T17:22:56.228\n"
     ]
    },
    {
     "name": "stdout",
     "output_type": "stream",
     "text": [
      "30\n",
      "k : 12\n",
      "1\n",
      "-30618.402812482764\n",
      "2228.156674414003\n",
      "30\n",
      "K : 12\n",
      "[0 -2000 -100 -1200 -2000]\n"
     ]
    },
    {
     "name": "stderr",
     "output_type": "stream",
     "text": [
      "\u001b[36m\u001b[1m[ \u001b[22m\u001b[39m\u001b[36m\u001b[1mInfo: \u001b[22m\u001b[39m         311.1922792s: 5 minutes, 11 seconds, 192 milliseconds\n",
      "\u001b[36m\u001b[1m[ \u001b[22m\u001b[39m\u001b[36m\u001b[1mInfo: \u001b[22m\u001b[39m started timer at: 2025-03-07T17:28:07.421\n"
     ]
    },
    {
     "name": "stdout",
     "output_type": "stream",
     "text": [
      "false\n"
     ]
    },
    {
     "name": "stderr",
     "output_type": "stream",
     "text": [
      "\u001b[36m\u001b[1m[ \u001b[22m\u001b[39m\u001b[36m\u001b[1mInfo: \u001b[22m\u001b[39m started timer at: 2025-03-07T17:28:42.830\n"
     ]
    },
    {
     "name": "stdout",
     "output_type": "stream",
     "text": [
      "30\n",
      "k : 12\n",
      "1\n",
      "-35774.05515988812\n",
      "2511.705953477097\n",
      "30\n",
      "K : 12\n",
      "[0 -2800 -100 -1200 -2000]\n"
     ]
    },
    {
     "name": "stderr",
     "output_type": "stream",
     "text": [
      "\u001b[36m\u001b[1m[ \u001b[22m\u001b[39m\u001b[36m\u001b[1mInfo: \u001b[22m\u001b[39m         317.0153551s: 5 minutes, 17 seconds, 15 milliseconds\n",
      "\u001b[36m\u001b[1m[ \u001b[22m\u001b[39m\u001b[36m\u001b[1mInfo: \u001b[22m\u001b[39m started timer at: 2025-03-07T17:33:59.845\n"
     ]
    },
    {
     "name": "stdout",
     "output_type": "stream",
     "text": [
      "false\n"
     ]
    },
    {
     "name": "stderr",
     "output_type": "stream",
     "text": [
      "\u001b[36m\u001b[1m[ \u001b[22m\u001b[39m\u001b[36m\u001b[1mInfo: \u001b[22m\u001b[39m started timer at: 2025-03-07T17:34:36.883\n"
     ]
    },
    {
     "name": "stdout",
     "output_type": "stream",
     "text": [
      "30\n",
      "k : 12\n",
      "1\n",
      "-39759.895575442184\n",
      "2686.1939388348646\n",
      "40\n",
      "K : 4\n",
      "[0 -1200 -100 -1200 -2000]\n"
     ]
    },
    {
     "name": "stderr",
     "output_type": "stream",
     "text": [
      "\u001b[36m\u001b[1m[ \u001b[22m\u001b[39m\u001b[36m\u001b[1mInfo: \u001b[22m\u001b[39m         310.6329481s: 5 minutes, 10 seconds, 632 milliseconds\n",
      "\u001b[36m\u001b[1m[ \u001b[22m\u001b[39m\u001b[36m\u001b[1mInfo: \u001b[22m\u001b[39m started timer at: 2025-03-07T17:39:47.527\n"
     ]
    },
    {
     "name": "stdout",
     "output_type": "stream",
     "text": [
      "false\n"
     ]
    },
    {
     "name": "stderr",
     "output_type": "stream",
     "text": [
      "\u001b[36m\u001b[1m[ \u001b[22m\u001b[39m\u001b[36m\u001b[1mInfo: \u001b[22m\u001b[39m started timer at: 2025-03-07T17:40:36.760\n"
     ]
    },
    {
     "name": "stdout",
     "output_type": "stream",
     "text": [
      "40\n",
      "k : 4\n",
      "1\n",
      "-37250.727410278705\n",
      "2612.9169032490686\n",
      "40\n",
      "K : 4\n",
      "[0 -2000 -100 -1200 -2000]"
     ]
    },
    {
     "name": "stderr",
     "output_type": "stream",
     "text": [
      "\u001b[36m\u001b[1m[ \u001b[22m\u001b[39m\u001b[36m\u001b[1mInfo: \u001b[22m\u001b[39m         427.4958864s: 7 minutes, 7 seconds, 495 milliseconds\n",
      "\u001b[36m\u001b[1m[ \u001b[22m\u001b[39m\u001b[36m\u001b[1mInfo: \u001b[22m\u001b[39m started timer at: 2025-03-07T17:47:44.267\n"
     ]
    },
    {
     "name": "stdout",
     "output_type": "stream",
     "text": [
      "\n",
      "false\n"
     ]
    },
    {
     "name": "stderr",
     "output_type": "stream",
     "text": [
      "\u001b[36m\u001b[1m[ \u001b[22m\u001b[39m\u001b[36m\u001b[1mInfo: \u001b[22m\u001b[39m started timer at: 2025-03-07T17:48:34.960\n"
     ]
    },
    {
     "name": "stdout",
     "output_type": "stream",
     "text": [
      "40\n",
      "k : 4\n",
      "1\n",
      "-44831.475181215385\n",
      "3205.2706790370858\n",
      "40\n",
      "K : 4\n",
      "[0 -2800 -100 -1200 -2000]"
     ]
    },
    {
     "name": "stderr",
     "output_type": "stream",
     "text": [
      "\u001b[36m\u001b[1m[ \u001b[22m\u001b[39m\u001b[36m\u001b[1mInfo: \u001b[22m\u001b[39m         422.6882742s: 7 minutes, 2 seconds, 688 milliseconds\n",
      "\u001b[36m\u001b[1m[ \u001b[22m\u001b[39m\u001b[36m\u001b[1mInfo: \u001b[22m\u001b[39m started timer at: 2025-03-07T17:55:37.648\n"
     ]
    },
    {
     "name": "stdout",
     "output_type": "stream",
     "text": [
      "\n",
      "false\n"
     ]
    },
    {
     "name": "stderr",
     "output_type": "stream",
     "text": [
      "\u001b[36m\u001b[1m[ \u001b[22m\u001b[39m\u001b[36m\u001b[1mInfo: \u001b[22m\u001b[39m started timer at: 2025-03-07T17:56:27.091\n"
     ]
    },
    {
     "name": "stdout",
     "output_type": "stream",
     "text": [
      "40\n",
      "k : 4\n",
      "1\n",
      "-51171.20534967889\n",
      "3621.127386174171\n",
      "40\n",
      "K : 8\n",
      "[0 -1200 -100 -1200 -2000]\n"
     ]
    },
    {
     "name": "stderr",
     "output_type": "stream",
     "text": [
      "\u001b[36m\u001b[1m[ \u001b[22m\u001b[39m\u001b[36m\u001b[1mInfo: \u001b[22m\u001b[39m         422.3112886s: 7 minutes, 2 seconds, 311 milliseconds\n",
      "\u001b[36m\u001b[1m[ \u001b[22m\u001b[39m\u001b[36m\u001b[1mInfo: \u001b[22m\u001b[39m started timer at: 2025-03-07T18:03:29.402\n"
     ]
    },
    {
     "name": "stdout",
     "output_type": "stream",
     "text": [
      "false\n"
     ]
    },
    {
     "name": "stderr",
     "output_type": "stream",
     "text": [
      "\u001b[36m\u001b[1m[ \u001b[22m\u001b[39m\u001b[36m\u001b[1mInfo: \u001b[22m\u001b[39m started timer at: 2025-03-07T18:04:19.197\n"
     ]
    },
    {
     "name": "stdout",
     "output_type": "stream",
     "text": [
      "40\n",
      "k : 8\n",
      "1\n",
      "-36211.390084337785\n",
      "2371.182063235338\n",
      "40\n",
      "K : 8\n",
      "[0 -2000 -100 -1200 -2000]\n"
     ]
    },
    {
     "name": "stderr",
     "output_type": "stream",
     "text": [
      "\u001b[36m\u001b[1m[ \u001b[22m\u001b[39m\u001b[36m\u001b[1mInfo: \u001b[22m\u001b[39m         423.5217977s: 7 minutes, 3 seconds, 521 milliseconds\n",
      "\u001b[36m\u001b[1m[ \u001b[22m\u001b[39m\u001b[36m\u001b[1mInfo: \u001b[22m\u001b[39m started timer at: 2025-03-07T18:11:22.719\n"
     ]
    },
    {
     "name": "stdout",
     "output_type": "stream",
     "text": [
      "false\n"
     ]
    },
    {
     "name": "stderr",
     "output_type": "stream",
     "text": [
      "\u001b[36m\u001b[1m[ \u001b[22m\u001b[39m\u001b[36m\u001b[1mInfo: \u001b[22m\u001b[39m started timer at: 2025-03-07T18:12:09.840\n"
     ]
    },
    {
     "name": "stdout",
     "output_type": "stream",
     "text": [
      "40\n",
      "k : 8\n",
      "1\n",
      "-42572.16408647531\n",
      "2741.858429381067\n",
      "40\n",
      "K : 8\n",
      "[0 -2800 -100 -1200 -2000]"
     ]
    },
    {
     "name": "stderr",
     "output_type": "stream",
     "text": [
      "\u001b[36m\u001b[1m[ \u001b[22m\u001b[39m\u001b[36m\u001b[1mInfo: \u001b[22m\u001b[39m          420.753977s: 7 minutes, 753 milliseconds\n",
      "\u001b[36m\u001b[1m[ \u001b[22m\u001b[39m\u001b[36m\u001b[1mInfo: \u001b[22m\u001b[39m started timer at: 2025-03-07T18:19:10.605\n"
     ]
    },
    {
     "name": "stdout",
     "output_type": "stream",
     "text": [
      "\n",
      "false\n"
     ]
    },
    {
     "name": "stderr",
     "output_type": "stream",
     "text": [
      "\u001b[36m\u001b[1m[ \u001b[22m\u001b[39m\u001b[36m\u001b[1mInfo: \u001b[22m\u001b[39m started timer at: 2025-03-07T18:20:00.477\n"
     ]
    },
    {
     "name": "stdout",
     "output_type": "stream",
     "text": [
      "40\n",
      "k : 8\n",
      "1\n",
      "-47662.209963405556\n",
      "3037.401183702456\n",
      "40\n",
      "K : 12\n",
      "[0 -1200 -100 -1200 -2000]\n"
     ]
    },
    {
     "name": "stderr",
     "output_type": "stream",
     "text": [
      "\u001b[36m\u001b[1m[ \u001b[22m\u001b[39m\u001b[36m\u001b[1mInfo: \u001b[22m\u001b[39m         417.1862796s: 6 minutes, 57 seconds, 186 milliseconds\n",
      "\u001b[36m\u001b[1m[ \u001b[22m\u001b[39m\u001b[36m\u001b[1mInfo: \u001b[22m\u001b[39m started timer at: 2025-03-07T18:26:57.663\n"
     ]
    },
    {
     "name": "stdout",
     "output_type": "stream",
     "text": [
      "false\n"
     ]
    },
    {
     "name": "stderr",
     "output_type": "stream",
     "text": [
      "\u001b[36m\u001b[1m[ \u001b[22m\u001b[39m\u001b[36m\u001b[1mInfo: \u001b[22m\u001b[39m started timer at: 2025-03-07T18:27:46.790\n"
     ]
    },
    {
     "name": "stdout",
     "output_type": "stream",
     "text": [
      "40\n",
      "k : 12\n",
      "1\n",
      "-36063.891950085985\n",
      "2362.7872903762027\n",
      "40\n",
      "K : 12\n",
      "[0 -2000 -100 -1200 -2000]\n"
     ]
    },
    {
     "name": "stderr",
     "output_type": "stream",
     "text": [
      "\u001b[36m\u001b[1m[ \u001b[22m\u001b[39m\u001b[36m\u001b[1mInfo: \u001b[22m\u001b[39m         421.6764285s: 7 minutes, 1 second, 676 milliseconds\n",
      "\u001b[36m\u001b[1m[ \u001b[22m\u001b[39m\u001b[36m\u001b[1mInfo: \u001b[22m\u001b[39m started timer at: 2025-03-07T18:34:48.477\n"
     ]
    },
    {
     "name": "stdout",
     "output_type": "stream",
     "text": [
      "false\n"
     ]
    },
    {
     "name": "stderr",
     "output_type": "stream",
     "text": [
      "\u001b[36m\u001b[1m[ \u001b[22m\u001b[39m\u001b[36m\u001b[1mInfo: \u001b[22m\u001b[39m started timer at: 2025-03-07T18:35:38.395\n"
     ]
    },
    {
     "name": "stdout",
     "output_type": "stream",
     "text": [
      "40\n",
      "k : 12\n",
      "1\n",
      "-42161.56516739368\n",
      "2719.475015501155\n",
      "40\n",
      "K : 12\n",
      "[0 -2800 -100 -1200 -2000]\n"
     ]
    },
    {
     "name": "stderr",
     "output_type": "stream",
     "text": [
      "\u001b[36m\u001b[1m[ \u001b[22m\u001b[39m\u001b[36m\u001b[1mInfo: \u001b[22m\u001b[39m         420.3819106s: 7 minutes, 381 milliseconds\n",
      "\u001b[36m\u001b[1m[ \u001b[22m\u001b[39m\u001b[36m\u001b[1mInfo: \u001b[22m\u001b[39m started timer at: 2025-03-07T18:42:38.777\n"
     ]
    },
    {
     "name": "stdout",
     "output_type": "stream",
     "text": [
      "false\n"
     ]
    },
    {
     "name": "stderr",
     "output_type": "stream",
     "text": [
      "\u001b[36m\u001b[1m[ \u001b[22m\u001b[39m\u001b[36m\u001b[1mInfo: \u001b[22m\u001b[39m started timer at: 2025-03-07T18:43:28.061\n"
     ]
    },
    {
     "name": "stdout",
     "output_type": "stream",
     "text": [
      "40\n",
      "k : 12\n",
      "1\n",
      "-46874.187268742106\n",
      "2907.7524396609388\n",
      "40\n",
      "K : 16\n",
      "[0 -1200 -100 -1200 -2000]"
     ]
    },
    {
     "name": "stderr",
     "output_type": "stream",
     "text": [
      "\u001b[36m\u001b[1m[ \u001b[22m\u001b[39m\u001b[36m\u001b[1mInfo: \u001b[22m\u001b[39m         418.4269589s: 6 minutes, 58 seconds, 426 milliseconds\n",
      "\u001b[36m\u001b[1m[ \u001b[22m\u001b[39m\u001b[36m\u001b[1mInfo: \u001b[22m\u001b[39m started timer at: 2025-03-07T18:50:26.488\n"
     ]
    },
    {
     "name": "stdout",
     "output_type": "stream",
     "text": [
      "\n",
      "false\n"
     ]
    },
    {
     "name": "stderr",
     "output_type": "stream",
     "text": [
      "\u001b[36m\u001b[1m[ \u001b[22m\u001b[39m\u001b[36m\u001b[1mInfo: \u001b[22m\u001b[39m started timer at: 2025-03-07T18:51:15.922\n"
     ]
    },
    {
     "name": "stdout",
     "output_type": "stream",
     "text": [
      "40\n",
      "k : 16\n",
      "1\n",
      "-36032.76113200546\n",
      "2357.1770491784137\n",
      "40\n",
      "K : 16\n",
      "[0 -2000 -100 -1200 -2000]"
     ]
    },
    {
     "name": "stderr",
     "output_type": "stream",
     "text": [
      "\u001b[36m\u001b[1m[ \u001b[22m\u001b[39m\u001b[36m\u001b[1mInfo: \u001b[22m\u001b[39m         421.8182351s: 7 minutes, 1 second, 818 milliseconds\n",
      "\u001b[36m\u001b[1m[ \u001b[22m\u001b[39m\u001b[36m\u001b[1mInfo: \u001b[22m\u001b[39m started timer at: 2025-03-07T18:58:17.752\n"
     ]
    },
    {
     "name": "stdout",
     "output_type": "stream",
     "text": [
      "\n",
      "false\n"
     ]
    },
    {
     "name": "stderr",
     "output_type": "stream",
     "text": [
      "\u001b[36m\u001b[1m[ \u001b[22m\u001b[39m\u001b[36m\u001b[1mInfo: \u001b[22m\u001b[39m started timer at: 2025-03-07T18:59:07.172\n"
     ]
    },
    {
     "name": "stdout",
     "output_type": "stream",
     "text": [
      "40\n",
      "k : 16\n",
      "1\n",
      "-42014.83614307723\n",
      "2681.3274394785462\n",
      "40\n",
      "K : 16\n",
      "[0 -2800 -100 -1200 -2000]\n"
     ]
    },
    {
     "name": "stderr",
     "output_type": "stream",
     "text": [
      "\u001b[36m\u001b[1m[ \u001b[22m\u001b[39m\u001b[36m\u001b[1mInfo: \u001b[22m\u001b[39m         419.7404711s: 6 minutes, 59 seconds, 740 milliseconds\n",
      "\u001b[36m\u001b[1m[ \u001b[22m\u001b[39m\u001b[36m\u001b[1mInfo: \u001b[22m\u001b[39m started timer at: 2025-03-07T19:06:06.923\n"
     ]
    },
    {
     "name": "stdout",
     "output_type": "stream",
     "text": [
      "false\n"
     ]
    },
    {
     "name": "stderr",
     "output_type": "stream",
     "text": [
      "\u001b[36m\u001b[1m[ \u001b[22m\u001b[39m\u001b[36m\u001b[1mInfo: \u001b[22m\u001b[39m started timer at: 2025-03-07T19:06:53.781\n"
     ]
    },
    {
     "name": "stdout",
     "output_type": "stream",
     "text": [
      "40\n",
      "k : 16\n",
      "1\n",
      "-46520.88401872413\n",
      "2875.0006193826816\n",
      "40\n",
      "K : 20\n",
      "[0 -1200 -100 -1200 -2000]"
     ]
    },
    {
     "name": "stderr",
     "output_type": "stream",
     "text": [
      "\u001b[36m\u001b[1m[ \u001b[22m\u001b[39m\u001b[36m\u001b[1mInfo: \u001b[22m\u001b[39m         415.8033456s: 6 minutes, 55 seconds, 803 milliseconds\n",
      "\u001b[36m\u001b[1m[ \u001b[22m\u001b[39m\u001b[36m\u001b[1mInfo: \u001b[22m\u001b[39m started timer at: 2025-03-07T19:13:49.583\n"
     ]
    },
    {
     "name": "stdout",
     "output_type": "stream",
     "text": [
      "\n",
      "false\n"
     ]
    },
    {
     "name": "stderr",
     "output_type": "stream",
     "text": [
      "\u001b[36m\u001b[1m[ \u001b[22m\u001b[39m\u001b[36m\u001b[1mInfo: \u001b[22m\u001b[39m started timer at: 2025-03-07T19:14:40.346\n"
     ]
    },
    {
     "name": "stdout",
     "output_type": "stream",
     "text": [
      "40\n",
      "k : 20\n",
      "1\n",
      "-35998.51981791668\n",
      "2365.162171449367\n",
      "40\n",
      "K : 20\n",
      "[0 -2000 -100 -1200 -2000]"
     ]
    },
    {
     "name": "stderr",
     "output_type": "stream",
     "text": [
      "\u001b[36m\u001b[1m[ \u001b[22m\u001b[39m\u001b[36m\u001b[1mInfo: \u001b[22m\u001b[39m         419.7693508s: 6 minutes, 59 seconds, 769 milliseconds\n",
      "\u001b[36m\u001b[1m[ \u001b[22m\u001b[39m\u001b[36m\u001b[1mInfo: \u001b[22m\u001b[39m started timer at: 2025-03-07T19:21:40.125\n"
     ]
    },
    {
     "name": "stdout",
     "output_type": "stream",
     "text": [
      "\n",
      "false\n"
     ]
    },
    {
     "name": "stderr",
     "output_type": "stream",
     "text": [
      "\u001b[36m\u001b[1m[ \u001b[22m\u001b[39m\u001b[36m\u001b[1mInfo: \u001b[22m\u001b[39m started timer at: 2025-03-07T19:22:30.025\n"
     ]
    },
    {
     "name": "stdout",
     "output_type": "stream",
     "text": [
      "40\n",
      "k : 20\n",
      "1\n",
      "-41944.084170440314\n",
      "2729.4363854709654\n",
      "40\n",
      "K : 20\n",
      "[0 -2800 -100 -1200 -2000]\n"
     ]
    },
    {
     "name": "stderr",
     "output_type": "stream",
     "text": [
      "\u001b[36m\u001b[1m[ \u001b[22m\u001b[39m\u001b[36m\u001b[1mInfo: \u001b[22m\u001b[39m         419.1910249s: 6 minutes, 59 seconds, 191 milliseconds\n",
      "\u001b[36m\u001b[1m[ \u001b[22m\u001b[39m\u001b[36m\u001b[1mInfo: \u001b[22m\u001b[39m started timer at: 2025-03-07T19:29:29.227\n"
     ]
    },
    {
     "name": "stdout",
     "output_type": "stream",
     "text": [
      "false\n"
     ]
    },
    {
     "name": "stderr",
     "output_type": "stream",
     "text": [
      "\u001b[36m\u001b[1m[ \u001b[22m\u001b[39m\u001b[36m\u001b[1mInfo: \u001b[22m\u001b[39m started timer at: 2025-03-07T19:30:18.763\n"
     ]
    },
    {
     "name": "stdout",
     "output_type": "stream",
     "text": [
      "40\n",
      "k : 20\n",
      "1\n",
      "-46292.85455619754\n",
      "2826.234564572129\n"
     ]
    },
    {
     "name": "stderr",
     "output_type": "stream",
     "text": [
      "\u001b[36m\u001b[1m[ \u001b[22m\u001b[39m\u001b[36m\u001b[1mInfo: \u001b[22m\u001b[39m         416.8679467s: 6 minutes, 56 seconds, 867 milliseconds\n"
     ]
    }
   ],
   "source": [
    "using DataFrames\n",
    "df= DataFrame(u=[],K=[],n=[],s=[],m=[],f=[],p=[],lamb=[],mean=[],std=[])\n",
    "\n",
    "cost=[ \n",
    "    [0\t-1200\t-100\t-1200 -2000],\n",
    "    [0\t-2000\t-100\t-1200 -2000],\n",
    "    [0  -2800   -100    -1200 -2000]\n",
    "] \n",
    "\n",
    "\n",
    "for units in [20, 30, 40]\n",
    "\n",
    "    for K in 4:4:convert(Int64, floor((units+1)/2))  \n",
    "\n",
    "    global NumberUnits=convert(Int64,units)\n",
    "    global limit=convert(Int64,K)\n",
    "    #for lambda in [1,0.9,0.75,0.5,0.1,0.075,0.05,0.01,0.0075,0.005,0.0001]\n",
    "    for lambda in 1:1:1\n",
    "    global lamb=lambda\n",
    "    for c in cost\n",
    "        tick()\n",
    "        println(units)  \n",
    "        print(\"K : \")\n",
    "        println(K)\n",
    "        global normal_operation,setup_cost,maintenance_penalty,failure_penalty,system_penalty=c\n",
    "        println(c)  \n",
    "        global NumberUnits=units\n",
    "\n",
    "# POMDPs are defined\n",
    "global Unit_pomdps = create_pomdps()\n",
    "# CONTINUE to obtain TRIVIAL SOLUTION and compute expected total rewards\n",
    "\n",
    "# Obtain Q function using Value Iteration, same as CW-MDP\n",
    "global Q = ValueIteration(gamma)\n",
    "println(isnan(Q[1,1,1]))\n",
    "if sum(isnan(Q[1,1,1])) > 0.0\n",
    "    continue\n",
    "end\n",
    "\n",
    "tick()\n",
    "\n",
    "trials=10000;\n",
    "simsteps = 100;\n",
    "results=zeros(trials)*0.1\n",
    "Threads.@threads  for h in 1:trials\n",
    "    s=repeat(1:1,NumberUnits)\n",
    "    o = rand(Initialobs, NumberUnits)\n",
    "    belief = [Observation_matrix[1,:] for j in 1:NumberUnits]\n",
    "    R_sequence=[] \n",
    "    r=repeat(1:1,NumberUnits)*1.0\n",
    "\n",
    "    # iteration\n",
    "    for k in 1:simsteps\n",
    "        a=decision(o,belief) # system-level decision making: action vector\n",
    "        # SANITY CHECK\n",
    "        # Update belief for each component individually\n",
    "        #b=update_belief(b, a, o, multiunit) # what is the sequence of observing, updating belief, taking action?\n",
    "        \n",
    "        R_instant = 0.0\n",
    "        global failed_components=0\n",
    "        # When generating new state and new reward, we use true states\n",
    "        for i in 1:NumberUnits # numerate over units\n",
    "            if o[i]==Number_level # failure state is self-announcing\n",
    "                failed_components+=1\n",
    "            end\n",
    "            s[i],r[i],o[i]=generative(s[i],a[i],i,234) #call generative function for underlying states\n",
    "            # it might be better to use generative function to give o as well\n",
    "            # o[i]=emission(s[i]) # observation generated by new underlying state\n",
    "            belief[i]=update_belief(belief[i], a[i], o[i], i)\n",
    "            # sum up single-component cost\n",
    "            R_instant += r[i]\n",
    "        end\n",
    "        # add setup cost\n",
    "        if (2 in a) ||(3 in a) ||(4 in a)\n",
    "            R_instant += setup_cost\n",
    "        end\n",
    "        # add system failure penalty\n",
    "        if failed_components >= limit\n",
    "            R_instant += system_penalty\n",
    "        end\n",
    "        # record instant reward of current time step\n",
    "        append!(R_sequence, R_instant)\n",
    "\n",
    "    end\n",
    "    R_discounted=0\n",
    "    for k in 1:simsteps\n",
    "        R_discounted=gamma * R_discounted+R_sequence[simsteps-k+1]\n",
    "    end\n",
    "    results[h]=R_discounted\n",
    "end # end the 10000 trials\n",
    "\n",
    "println(units)\n",
    "            print(\"k : \")\n",
    "            println(limit)\n",
    "println(lambda)\n",
    "\n",
    "println(mean(results))\n",
    "\n",
    "println(std(results))\n",
    "pushfirst!(df,[units,limit,normal_operation,setup_cost,maintenance_penalty,failure_penalty,system_penalty,lamb,mean(results),std(results)])\n",
    "        \n",
    "tock()\n",
    "\n",
    "                    \n",
    "                    \n",
    "    end\n",
    "    end        \n",
    "end\n",
    "end\n"
   ]
  },
  {
   "cell_type": "code",
   "execution_count": 18,
   "metadata": {},
   "outputs": [
    {
     "data": {
      "text/html": [
       "<div><div style = \"float: left;\"><span>30×10 DataFrame</span></div><div style = \"float: right;\"><span style = \"font-style: italic;\">5 rows omitted</span></div><div style = \"clear: both;\"></div></div><div class = \"data-frame\" style = \"overflow-x: scroll;\"><table class = \"data-frame\" style = \"margin-bottom: 6px;\"><thead><tr class = \"header\"><th class = \"rowNumber\" style = \"font-weight: bold; text-align: right;\">Row</th><th style = \"text-align: left;\">u</th><th style = \"text-align: left;\">K</th><th style = \"text-align: left;\">n</th><th style = \"text-align: left;\">s</th><th style = \"text-align: left;\">m</th><th style = \"text-align: left;\">f</th><th style = \"text-align: left;\">p</th><th style = \"text-align: left;\">lamb</th><th style = \"text-align: left;\">mean</th><th style = \"text-align: left;\">std</th></tr><tr class = \"subheader headerLastRow\"><th class = \"rowNumber\" style = \"font-weight: bold; text-align: right;\"></th><th title = \"Any\" style = \"text-align: left;\">Any</th><th title = \"Any\" style = \"text-align: left;\">Any</th><th title = \"Any\" style = \"text-align: left;\">Any</th><th title = \"Any\" style = \"text-align: left;\">Any</th><th title = \"Any\" style = \"text-align: left;\">Any</th><th title = \"Any\" style = \"text-align: left;\">Any</th><th title = \"Any\" style = \"text-align: left;\">Any</th><th title = \"Any\" style = \"text-align: left;\">Any</th><th title = \"Any\" style = \"text-align: left;\">Any</th><th title = \"Any\" style = \"text-align: left;\">Any</th></tr></thead><tbody><tr><td class = \"rowNumber\" style = \"font-weight: bold; text-align: right;\">1</td><td style = \"text-align: left;\">40.0</td><td style = \"text-align: left;\">20.0</td><td style = \"text-align: left;\">0.0</td><td style = \"text-align: left;\">-2800.0</td><td style = \"text-align: left;\">-100.0</td><td style = \"text-align: left;\">-1200.0</td><td style = \"text-align: left;\">-2000.0</td><td style = \"text-align: left;\">1.0</td><td style = \"text-align: left;\">-46292.9</td><td style = \"text-align: left;\">2826.23</td></tr><tr><td class = \"rowNumber\" style = \"font-weight: bold; text-align: right;\">2</td><td style = \"text-align: left;\">40.0</td><td style = \"text-align: left;\">20.0</td><td style = \"text-align: left;\">0.0</td><td style = \"text-align: left;\">-2000.0</td><td style = \"text-align: left;\">-100.0</td><td style = \"text-align: left;\">-1200.0</td><td style = \"text-align: left;\">-2000.0</td><td style = \"text-align: left;\">1.0</td><td style = \"text-align: left;\">-41944.1</td><td style = \"text-align: left;\">2729.44</td></tr><tr><td class = \"rowNumber\" style = \"font-weight: bold; text-align: right;\">3</td><td style = \"text-align: left;\">40.0</td><td style = \"text-align: left;\">20.0</td><td style = \"text-align: left;\">0.0</td><td style = \"text-align: left;\">-1200.0</td><td style = \"text-align: left;\">-100.0</td><td style = \"text-align: left;\">-1200.0</td><td style = \"text-align: left;\">-2000.0</td><td style = \"text-align: left;\">1.0</td><td style = \"text-align: left;\">-35998.5</td><td style = \"text-align: left;\">2365.16</td></tr><tr><td class = \"rowNumber\" style = \"font-weight: bold; text-align: right;\">4</td><td style = \"text-align: left;\">40.0</td><td style = \"text-align: left;\">16.0</td><td style = \"text-align: left;\">0.0</td><td style = \"text-align: left;\">-2800.0</td><td style = \"text-align: left;\">-100.0</td><td style = \"text-align: left;\">-1200.0</td><td style = \"text-align: left;\">-2000.0</td><td style = \"text-align: left;\">1.0</td><td style = \"text-align: left;\">-46520.9</td><td style = \"text-align: left;\">2875.0</td></tr><tr><td class = \"rowNumber\" style = \"font-weight: bold; text-align: right;\">5</td><td style = \"text-align: left;\">40.0</td><td style = \"text-align: left;\">16.0</td><td style = \"text-align: left;\">0.0</td><td style = \"text-align: left;\">-2000.0</td><td style = \"text-align: left;\">-100.0</td><td style = \"text-align: left;\">-1200.0</td><td style = \"text-align: left;\">-2000.0</td><td style = \"text-align: left;\">1.0</td><td style = \"text-align: left;\">-42014.8</td><td style = \"text-align: left;\">2681.33</td></tr><tr><td class = \"rowNumber\" style = \"font-weight: bold; text-align: right;\">6</td><td style = \"text-align: left;\">40.0</td><td style = \"text-align: left;\">16.0</td><td style = \"text-align: left;\">0.0</td><td style = \"text-align: left;\">-1200.0</td><td style = \"text-align: left;\">-100.0</td><td style = \"text-align: left;\">-1200.0</td><td style = \"text-align: left;\">-2000.0</td><td style = \"text-align: left;\">1.0</td><td style = \"text-align: left;\">-36032.8</td><td style = \"text-align: left;\">2357.18</td></tr><tr><td class = \"rowNumber\" style = \"font-weight: bold; text-align: right;\">7</td><td style = \"text-align: left;\">40.0</td><td style = \"text-align: left;\">12.0</td><td style = \"text-align: left;\">0.0</td><td style = \"text-align: left;\">-2800.0</td><td style = \"text-align: left;\">-100.0</td><td style = \"text-align: left;\">-1200.0</td><td style = \"text-align: left;\">-2000.0</td><td style = \"text-align: left;\">1.0</td><td style = \"text-align: left;\">-46874.2</td><td style = \"text-align: left;\">2907.75</td></tr><tr><td class = \"rowNumber\" style = \"font-weight: bold; text-align: right;\">8</td><td style = \"text-align: left;\">40.0</td><td style = \"text-align: left;\">12.0</td><td style = \"text-align: left;\">0.0</td><td style = \"text-align: left;\">-2000.0</td><td style = \"text-align: left;\">-100.0</td><td style = \"text-align: left;\">-1200.0</td><td style = \"text-align: left;\">-2000.0</td><td style = \"text-align: left;\">1.0</td><td style = \"text-align: left;\">-42161.6</td><td style = \"text-align: left;\">2719.48</td></tr><tr><td class = \"rowNumber\" style = \"font-weight: bold; text-align: right;\">9</td><td style = \"text-align: left;\">40.0</td><td style = \"text-align: left;\">12.0</td><td style = \"text-align: left;\">0.0</td><td style = \"text-align: left;\">-1200.0</td><td style = \"text-align: left;\">-100.0</td><td style = \"text-align: left;\">-1200.0</td><td style = \"text-align: left;\">-2000.0</td><td style = \"text-align: left;\">1.0</td><td style = \"text-align: left;\">-36063.9</td><td style = \"text-align: left;\">2362.79</td></tr><tr><td class = \"rowNumber\" style = \"font-weight: bold; text-align: right;\">10</td><td style = \"text-align: left;\">40.0</td><td style = \"text-align: left;\">8.0</td><td style = \"text-align: left;\">0.0</td><td style = \"text-align: left;\">-2800.0</td><td style = \"text-align: left;\">-100.0</td><td style = \"text-align: left;\">-1200.0</td><td style = \"text-align: left;\">-2000.0</td><td style = \"text-align: left;\">1.0</td><td style = \"text-align: left;\">-47662.2</td><td style = \"text-align: left;\">3037.4</td></tr><tr><td class = \"rowNumber\" style = \"font-weight: bold; text-align: right;\">11</td><td style = \"text-align: left;\">40.0</td><td style = \"text-align: left;\">8.0</td><td style = \"text-align: left;\">0.0</td><td style = \"text-align: left;\">-2000.0</td><td style = \"text-align: left;\">-100.0</td><td style = \"text-align: left;\">-1200.0</td><td style = \"text-align: left;\">-2000.0</td><td style = \"text-align: left;\">1.0</td><td style = \"text-align: left;\">-42572.2</td><td style = \"text-align: left;\">2741.86</td></tr><tr><td class = \"rowNumber\" style = \"font-weight: bold; text-align: right;\">12</td><td style = \"text-align: left;\">40.0</td><td style = \"text-align: left;\">8.0</td><td style = \"text-align: left;\">0.0</td><td style = \"text-align: left;\">-1200.0</td><td style = \"text-align: left;\">-100.0</td><td style = \"text-align: left;\">-1200.0</td><td style = \"text-align: left;\">-2000.0</td><td style = \"text-align: left;\">1.0</td><td style = \"text-align: left;\">-36211.4</td><td style = \"text-align: left;\">2371.18</td></tr><tr><td class = \"rowNumber\" style = \"font-weight: bold; text-align: right;\">13</td><td style = \"text-align: left;\">40.0</td><td style = \"text-align: left;\">4.0</td><td style = \"text-align: left;\">0.0</td><td style = \"text-align: left;\">-2800.0</td><td style = \"text-align: left;\">-100.0</td><td style = \"text-align: left;\">-1200.0</td><td style = \"text-align: left;\">-2000.0</td><td style = \"text-align: left;\">1.0</td><td style = \"text-align: left;\">-51171.2</td><td style = \"text-align: left;\">3621.13</td></tr><tr><td style = \"text-align: right;\">&vellip;</td><td style = \"text-align: right;\">&vellip;</td><td style = \"text-align: right;\">&vellip;</td><td style = \"text-align: right;\">&vellip;</td><td style = \"text-align: right;\">&vellip;</td><td style = \"text-align: right;\">&vellip;</td><td style = \"text-align: right;\">&vellip;</td><td style = \"text-align: right;\">&vellip;</td><td style = \"text-align: right;\">&vellip;</td><td style = \"text-align: right;\">&vellip;</td><td style = \"text-align: right;\">&vellip;</td></tr><tr><td class = \"rowNumber\" style = \"font-weight: bold; text-align: right;\">19</td><td style = \"text-align: left;\">30.0</td><td style = \"text-align: left;\">8.0</td><td style = \"text-align: left;\">0.0</td><td style = \"text-align: left;\">-2800.0</td><td style = \"text-align: left;\">-100.0</td><td style = \"text-align: left;\">-1200.0</td><td style = \"text-align: left;\">-2000.0</td><td style = \"text-align: left;\">1.0</td><td style = \"text-align: left;\">-40556.0</td><td style = \"text-align: left;\">2829.51</td></tr><tr><td class = \"rowNumber\" style = \"font-weight: bold; text-align: right;\">20</td><td style = \"text-align: left;\">30.0</td><td style = \"text-align: left;\">8.0</td><td style = \"text-align: left;\">0.0</td><td style = \"text-align: left;\">-2000.0</td><td style = \"text-align: left;\">-100.0</td><td style = \"text-align: left;\">-1200.0</td><td style = \"text-align: left;\">-2000.0</td><td style = \"text-align: left;\">1.0</td><td style = \"text-align: left;\">-36131.0</td><td style = \"text-align: left;\">2532.71</td></tr><tr><td class = \"rowNumber\" style = \"font-weight: bold; text-align: right;\">21</td><td style = \"text-align: left;\">30.0</td><td style = \"text-align: left;\">8.0</td><td style = \"text-align: left;\">0.0</td><td style = \"text-align: left;\">-1200.0</td><td style = \"text-align: left;\">-100.0</td><td style = \"text-align: left;\">-1200.0</td><td style = \"text-align: left;\">-2000.0</td><td style = \"text-align: left;\">1.0</td><td style = \"text-align: left;\">-30769.5</td><td style = \"text-align: left;\">2231.16</td></tr><tr><td class = \"rowNumber\" style = \"font-weight: bold; text-align: right;\">22</td><td style = \"text-align: left;\">30.0</td><td style = \"text-align: left;\">4.0</td><td style = \"text-align: left;\">0.0</td><td style = \"text-align: left;\">-2800.0</td><td style = \"text-align: left;\">-100.0</td><td style = \"text-align: left;\">-1200.0</td><td style = \"text-align: left;\">-2000.0</td><td style = \"text-align: left;\">1.0</td><td style = \"text-align: left;\">-43952.8</td><td style = \"text-align: left;\">3370.73</td></tr><tr><td class = \"rowNumber\" style = \"font-weight: bold; text-align: right;\">23</td><td style = \"text-align: left;\">30.0</td><td style = \"text-align: left;\">4.0</td><td style = \"text-align: left;\">0.0</td><td style = \"text-align: left;\">-2000.0</td><td style = \"text-align: left;\">-100.0</td><td style = \"text-align: left;\">-1200.0</td><td style = \"text-align: left;\">-2000.0</td><td style = \"text-align: left;\">1.0</td><td style = \"text-align: left;\">-38282.9</td><td style = \"text-align: left;\">2928.16</td></tr><tr><td class = \"rowNumber\" style = \"font-weight: bold; text-align: right;\">24</td><td style = \"text-align: left;\">30.0</td><td style = \"text-align: left;\">4.0</td><td style = \"text-align: left;\">0.0</td><td style = \"text-align: left;\">-1200.0</td><td style = \"text-align: left;\">-100.0</td><td style = \"text-align: left;\">-1200.0</td><td style = \"text-align: left;\">-2000.0</td><td style = \"text-align: left;\">1.0</td><td style = \"text-align: left;\">-31723.5</td><td style = \"text-align: left;\">2436.38</td></tr><tr><td class = \"rowNumber\" style = \"font-weight: bold; text-align: right;\">25</td><td style = \"text-align: left;\">20.0</td><td style = \"text-align: left;\">8.0</td><td style = \"text-align: left;\">0.0</td><td style = \"text-align: left;\">-2800.0</td><td style = \"text-align: left;\">-100.0</td><td style = \"text-align: left;\">-1200.0</td><td style = \"text-align: left;\">-2000.0</td><td style = \"text-align: left;\">1.0</td><td style = \"text-align: left;\">-28376.6</td><td style = \"text-align: left;\">2444.92</td></tr><tr><td class = \"rowNumber\" style = \"font-weight: bold; text-align: right;\">26</td><td style = \"text-align: left;\">20.0</td><td style = \"text-align: left;\">8.0</td><td style = \"text-align: left;\">0.0</td><td style = \"text-align: left;\">-2000.0</td><td style = \"text-align: left;\">-100.0</td><td style = \"text-align: left;\">-1200.0</td><td style = \"text-align: left;\">-2000.0</td><td style = \"text-align: left;\">1.0</td><td style = \"text-align: left;\">-25170.0</td><td style = \"text-align: left;\">2166.39</td></tr><tr><td class = \"rowNumber\" style = \"font-weight: bold; text-align: right;\">27</td><td style = \"text-align: left;\">20.0</td><td style = \"text-align: left;\">8.0</td><td style = \"text-align: left;\">0.0</td><td style = \"text-align: left;\">-1200.0</td><td style = \"text-align: left;\">-100.0</td><td style = \"text-align: left;\">-1200.0</td><td style = \"text-align: left;\">-2000.0</td><td style = \"text-align: left;\">1.0</td><td style = \"text-align: left;\">-21259.3</td><td style = \"text-align: left;\">1952.68</td></tr><tr><td class = \"rowNumber\" style = \"font-weight: bold; text-align: right;\">28</td><td style = \"text-align: left;\">20.0</td><td style = \"text-align: left;\">4.0</td><td style = \"text-align: left;\">0.0</td><td style = \"text-align: left;\">-2800.0</td><td style = \"text-align: left;\">-100.0</td><td style = \"text-align: left;\">-1200.0</td><td style = \"text-align: left;\">-2000.0</td><td style = \"text-align: left;\">1.0</td><td style = \"text-align: left;\">-31381.2</td><td style = \"text-align: left;\">2912.4</td></tr><tr><td class = \"rowNumber\" style = \"font-weight: bold; text-align: right;\">29</td><td style = \"text-align: left;\">20.0</td><td style = \"text-align: left;\">4.0</td><td style = \"text-align: left;\">0.0</td><td style = \"text-align: left;\">-2000.0</td><td style = \"text-align: left;\">-100.0</td><td style = \"text-align: left;\">-1200.0</td><td style = \"text-align: left;\">-2000.0</td><td style = \"text-align: left;\">1.0</td><td style = \"text-align: left;\">-27007.9</td><td style = \"text-align: left;\">2513.24</td></tr><tr><td class = \"rowNumber\" style = \"font-weight: bold; text-align: right;\">30</td><td style = \"text-align: left;\">20.0</td><td style = \"text-align: left;\">4.0</td><td style = \"text-align: left;\">0.0</td><td style = \"text-align: left;\">-1200.0</td><td style = \"text-align: left;\">-100.0</td><td style = \"text-align: left;\">-1200.0</td><td style = \"text-align: left;\">-2000.0</td><td style = \"text-align: left;\">1.0</td><td style = \"text-align: left;\">-22148.7</td><td style = \"text-align: left;\">2117.49</td></tr></tbody></table></div>"
      ],
      "text/latex": [
       "\\begin{tabular}{r|cccccccccc}\n",
       "\t& u & K & n & s & m & f & p & lamb & mean & std\\\\\n",
       "\t\\hline\n",
       "\t& Any & Any & Any & Any & Any & Any & Any & Any & Any & Any\\\\\n",
       "\t\\hline\n",
       "\t1 & 40.0 & 20.0 & 0.0 & -2800.0 & -100.0 & -1200.0 & -2000.0 & 1.0 & -46292.9 & 2826.23 \\\\\n",
       "\t2 & 40.0 & 20.0 & 0.0 & -2000.0 & -100.0 & -1200.0 & -2000.0 & 1.0 & -41944.1 & 2729.44 \\\\\n",
       "\t3 & 40.0 & 20.0 & 0.0 & -1200.0 & -100.0 & -1200.0 & -2000.0 & 1.0 & -35998.5 & 2365.16 \\\\\n",
       "\t4 & 40.0 & 16.0 & 0.0 & -2800.0 & -100.0 & -1200.0 & -2000.0 & 1.0 & -46520.9 & 2875.0 \\\\\n",
       "\t5 & 40.0 & 16.0 & 0.0 & -2000.0 & -100.0 & -1200.0 & -2000.0 & 1.0 & -42014.8 & 2681.33 \\\\\n",
       "\t6 & 40.0 & 16.0 & 0.0 & -1200.0 & -100.0 & -1200.0 & -2000.0 & 1.0 & -36032.8 & 2357.18 \\\\\n",
       "\t7 & 40.0 & 12.0 & 0.0 & -2800.0 & -100.0 & -1200.0 & -2000.0 & 1.0 & -46874.2 & 2907.75 \\\\\n",
       "\t8 & 40.0 & 12.0 & 0.0 & -2000.0 & -100.0 & -1200.0 & -2000.0 & 1.0 & -42161.6 & 2719.48 \\\\\n",
       "\t9 & 40.0 & 12.0 & 0.0 & -1200.0 & -100.0 & -1200.0 & -2000.0 & 1.0 & -36063.9 & 2362.79 \\\\\n",
       "\t10 & 40.0 & 8.0 & 0.0 & -2800.0 & -100.0 & -1200.0 & -2000.0 & 1.0 & -47662.2 & 3037.4 \\\\\n",
       "\t11 & 40.0 & 8.0 & 0.0 & -2000.0 & -100.0 & -1200.0 & -2000.0 & 1.0 & -42572.2 & 2741.86 \\\\\n",
       "\t12 & 40.0 & 8.0 & 0.0 & -1200.0 & -100.0 & -1200.0 & -2000.0 & 1.0 & -36211.4 & 2371.18 \\\\\n",
       "\t13 & 40.0 & 4.0 & 0.0 & -2800.0 & -100.0 & -1200.0 & -2000.0 & 1.0 & -51171.2 & 3621.13 \\\\\n",
       "\t14 & 40.0 & 4.0 & 0.0 & -2000.0 & -100.0 & -1200.0 & -2000.0 & 1.0 & -44831.5 & 3205.27 \\\\\n",
       "\t15 & 40.0 & 4.0 & 0.0 & -1200.0 & -100.0 & -1200.0 & -2000.0 & 1.0 & -37250.7 & 2612.92 \\\\\n",
       "\t16 & 30.0 & 12.0 & 0.0 & -2800.0 & -100.0 & -1200.0 & -2000.0 & 1.0 & -39759.9 & 2686.19 \\\\\n",
       "\t17 & 30.0 & 12.0 & 0.0 & -2000.0 & -100.0 & -1200.0 & -2000.0 & 1.0 & -35774.1 & 2511.71 \\\\\n",
       "\t18 & 30.0 & 12.0 & 0.0 & -1200.0 & -100.0 & -1200.0 & -2000.0 & 1.0 & -30618.4 & 2228.16 \\\\\n",
       "\t19 & 30.0 & 8.0 & 0.0 & -2800.0 & -100.0 & -1200.0 & -2000.0 & 1.0 & -40556.0 & 2829.51 \\\\\n",
       "\t20 & 30.0 & 8.0 & 0.0 & -2000.0 & -100.0 & -1200.0 & -2000.0 & 1.0 & -36131.0 & 2532.71 \\\\\n",
       "\t21 & 30.0 & 8.0 & 0.0 & -1200.0 & -100.0 & -1200.0 & -2000.0 & 1.0 & -30769.5 & 2231.16 \\\\\n",
       "\t22 & 30.0 & 4.0 & 0.0 & -2800.0 & -100.0 & -1200.0 & -2000.0 & 1.0 & -43952.8 & 3370.73 \\\\\n",
       "\t23 & 30.0 & 4.0 & 0.0 & -2000.0 & -100.0 & -1200.0 & -2000.0 & 1.0 & -38282.9 & 2928.16 \\\\\n",
       "\t24 & 30.0 & 4.0 & 0.0 & -1200.0 & -100.0 & -1200.0 & -2000.0 & 1.0 & -31723.5 & 2436.38 \\\\\n",
       "\t25 & 20.0 & 8.0 & 0.0 & -2800.0 & -100.0 & -1200.0 & -2000.0 & 1.0 & -28376.6 & 2444.92 \\\\\n",
       "\t26 & 20.0 & 8.0 & 0.0 & -2000.0 & -100.0 & -1200.0 & -2000.0 & 1.0 & -25170.0 & 2166.39 \\\\\n",
       "\t27 & 20.0 & 8.0 & 0.0 & -1200.0 & -100.0 & -1200.0 & -2000.0 & 1.0 & -21259.3 & 1952.68 \\\\\n",
       "\t28 & 20.0 & 4.0 & 0.0 & -2800.0 & -100.0 & -1200.0 & -2000.0 & 1.0 & -31381.2 & 2912.4 \\\\\n",
       "\t29 & 20.0 & 4.0 & 0.0 & -2000.0 & -100.0 & -1200.0 & -2000.0 & 1.0 & -27007.9 & 2513.24 \\\\\n",
       "\t30 & 20.0 & 4.0 & 0.0 & -1200.0 & -100.0 & -1200.0 & -2000.0 & 1.0 & -22148.7 & 2117.49 \\\\\n",
       "\\end{tabular}\n"
      ],
      "text/plain": [
       "\u001b[1m30×10 DataFrame\u001b[0m\n",
       "\u001b[1m Row \u001b[0m│\u001b[1m u    \u001b[0m\u001b[1m K    \u001b[0m\u001b[1m n   \u001b[0m\u001b[1m s       \u001b[0m\u001b[1m m      \u001b[0m\u001b[1m f       \u001b[0m\u001b[1m p       \u001b[0m\u001b[1m lamb \u001b[0m\u001b[1m mean     \u001b[0m\u001b[1m std\u001b[0m ⋯\n",
       "     │\u001b[90m Any  \u001b[0m\u001b[90m Any  \u001b[0m\u001b[90m Any \u001b[0m\u001b[90m Any     \u001b[0m\u001b[90m Any    \u001b[0m\u001b[90m Any     \u001b[0m\u001b[90m Any     \u001b[0m\u001b[90m Any  \u001b[0m\u001b[90m Any      \u001b[0m\u001b[90m Any\u001b[0m ⋯\n",
       "─────┼──────────────────────────────────────────────────────────────────────────\n",
       "   1 │ 40.0  20.0  0.0  -2800.0  -100.0  -1200.0  -2000.0  1.0   -46292.9  282 ⋯\n",
       "   2 │ 40.0  20.0  0.0  -2000.0  -100.0  -1200.0  -2000.0  1.0   -41944.1  272\n",
       "   3 │ 40.0  20.0  0.0  -1200.0  -100.0  -1200.0  -2000.0  1.0   -35998.5  236\n",
       "   4 │ 40.0  16.0  0.0  -2800.0  -100.0  -1200.0  -2000.0  1.0   -46520.9  287\n",
       "   5 │ 40.0  16.0  0.0  -2000.0  -100.0  -1200.0  -2000.0  1.0   -42014.8  268 ⋯\n",
       "   6 │ 40.0  16.0  0.0  -1200.0  -100.0  -1200.0  -2000.0  1.0   -36032.8  235\n",
       "   7 │ 40.0  12.0  0.0  -2800.0  -100.0  -1200.0  -2000.0  1.0   -46874.2  290\n",
       "   8 │ 40.0  12.0  0.0  -2000.0  -100.0  -1200.0  -2000.0  1.0   -42161.6  271\n",
       "   9 │ 40.0  12.0  0.0  -1200.0  -100.0  -1200.0  -2000.0  1.0   -36063.9  236 ⋯\n",
       "  10 │ 40.0  8.0   0.0  -2800.0  -100.0  -1200.0  -2000.0  1.0   -47662.2  303\n",
       "  11 │ 40.0  8.0   0.0  -2000.0  -100.0  -1200.0  -2000.0  1.0   -42572.2  274\n",
       "  ⋮  │  ⋮     ⋮     ⋮      ⋮       ⋮        ⋮        ⋮      ⋮       ⋮          ⋱\n",
       "  21 │ 30.0  8.0   0.0  -1200.0  -100.0  -1200.0  -2000.0  1.0   -30769.5  223\n",
       "  22 │ 30.0  4.0   0.0  -2800.0  -100.0  -1200.0  -2000.0  1.0   -43952.8  337 ⋯\n",
       "  23 │ 30.0  4.0   0.0  -2000.0  -100.0  -1200.0  -2000.0  1.0   -38282.9  292\n",
       "  24 │ 30.0  4.0   0.0  -1200.0  -100.0  -1200.0  -2000.0  1.0   -31723.5  243\n",
       "  25 │ 20.0  8.0   0.0  -2800.0  -100.0  -1200.0  -2000.0  1.0   -28376.6  244\n",
       "  26 │ 20.0  8.0   0.0  -2000.0  -100.0  -1200.0  -2000.0  1.0   -25170.0  216 ⋯\n",
       "  27 │ 20.0  8.0   0.0  -1200.0  -100.0  -1200.0  -2000.0  1.0   -21259.3  195\n",
       "  28 │ 20.0  4.0   0.0  -2800.0  -100.0  -1200.0  -2000.0  1.0   -31381.2  291\n",
       "  29 │ 20.0  4.0   0.0  -2000.0  -100.0  -1200.0  -2000.0  1.0   -27007.9  251\n",
       "  30 │ 20.0  4.0   0.0  -1200.0  -100.0  -1200.0  -2000.0  1.0   -22148.7  211 ⋯\n",
       "\u001b[36m                                                     1 column and 9 rows omitted\u001b[0m"
      ]
     },
     "execution_count": 18,
     "metadata": {},
     "output_type": "execute_result"
    }
   ],
   "source": [
    "df"
   ]
  },
  {
   "cell_type": "code",
   "execution_count": 19,
   "metadata": {},
   "outputs": [
    {
     "data": {
      "text/plain": [
       "\"Hetero CW-MDP.csv\""
      ]
     },
     "execution_count": 19,
     "metadata": {},
     "output_type": "execute_result"
    }
   ],
   "source": [
    "using CSV\n",
    "CSV.write(\"Hetero CW-MDP.csv\", df)"
   ]
  },
  {
   "cell_type": "code",
   "execution_count": null,
   "metadata": {},
   "outputs": [],
   "source": []
  }
 ],
 "metadata": {
  "kernelspec": {
   "display_name": "Julia 1.10.2",
   "language": "julia",
   "name": "julia-1.10"
  },
  "language_info": {
   "file_extension": ".jl",
   "mimetype": "application/julia",
   "name": "julia",
   "version": "1.10.2"
  },
  "vscode": {
   "interpreter": {
    "hash": "aee8b7b246df8f9039afb4144a1f6fd8d2ca17a180786b69acc140d282b71a49"
   }
  }
 },
 "nbformat": 4,
 "nbformat_minor": 4
}
